{
 "cells": [
  {
   "cell_type": "code",
   "execution_count": 1,
   "metadata": {},
   "outputs": [],
   "source": [
    "import pandas as pd"
   ]
  },
  {
   "cell_type": "code",
   "execution_count": 4,
   "metadata": {},
   "outputs": [],
   "source": [
    "e_comm = pd.read_csv(\"../../data/ESG_split/comments_by_esg.csv\", index_col=0)"
   ]
  },
  {
   "cell_type": "code",
   "execution_count": 8,
   "metadata": {},
   "outputs": [
    {
     "data": {
      "text/plain": [
       "url\n",
       "https://n.news.naver.com/mnews/article/comment/009/0005055748?sid=100    152\n",
       "https://v.daum.net/v/20221021091701240                                    18\n",
       "https://n.news.naver.com/mnews/article/comment/417/0000847501?sid=100     18\n",
       "https://n.news.naver.com/mnews/article/comment/008/0004834524?sid=100     17\n",
       "https://n.news.naver.com/mnews/article/comment/293/0000041832?sid=100     15\n",
       "https://n.news.naver.com/mnews/article/comment/030/0003050263?sid=100     12\n",
       "https://n.news.naver.com/mnews/article/comment/030/0003007430?sid=100     11\n",
       "https://n.news.naver.com/mnews/article/comment/015/0004765306?sid=100      9\n",
       "https://n.news.naver.com/mnews/article/comment/366/0000834146?sid=100      8\n",
       "https://n.news.naver.com/mnews/article/comment/008/0004483050?sid=100      7\n",
       "https://n.news.naver.com/mnews/article/comment/014/0004911351?sid=100      7\n",
       "https://n.news.naver.com/mnews/article/comment/009/0005055691?sid=100      7\n",
       "https://n.news.naver.com/mnews/article/comment/123/0002288230?sid=100      6\n",
       "https://n.news.naver.com/mnews/article/comment/015/0004760471?sid=100      5\n",
       "https://n.news.naver.com/mnews/article/comment/016/0002050989?sid=100      5\n",
       "https://v.daum.net/v/20221229172256139                                     4\n",
       "https://n.news.naver.com/mnews/article/comment/366/0000831639?sid=100      4\n",
       "https://n.news.naver.com/mnews/article/comment/050/0000060287?sid=100      4\n",
       "https://n.news.naver.com/mnews/article/comment/366/0000847902?sid=100      4\n",
       "https://n.news.naver.com/mnews/article/comment/421/0005397158?sid=100      4\n",
       "https://n.news.naver.com/mnews/article/comment/018/0004758691?sid=100      4\n",
       "https://n.news.naver.com/mnews/article/comment/417/0000841625?sid=100      3\n",
       "https://v.daum.net/v/20201005170347858                                     3\n",
       "https://n.news.naver.com/mnews/article/comment/030/0003007592?sid=100      3\n",
       "https://n.news.naver.com/mnews/article/comment/016/0002050668?sid=100      3\n",
       "https://n.news.naver.com/mnews/article/comment/015/0004760405?sid=100      2\n",
       "https://n.news.naver.com/mnews/article/comment/293/0000041085?sid=100      2\n",
       "https://n.news.naver.com/mnews/article/comment/277/0005159876?sid=100      2\n",
       "https://n.news.naver.com/mnews/article/comment/243/0000031726?sid=100      2\n",
       "https://n.news.naver.com/mnews/article/comment/417/0000881585?sid=100      2\n",
       "https://n.news.naver.com/mnews/article/comment/014/0004901903?sid=100      2\n",
       "https://v.daum.net/v/20210607064509150                                     2\n",
       "https://n.news.naver.com/mnews/article/comment/030/0003018904?sid=100      2\n",
       "https://n.news.naver.com/mnews/article/comment/001/0013618216?sid=100      2\n",
       "https://n.news.naver.com/mnews/article/comment/014/0004911168?sid=100      2\n",
       "https://n.news.naver.com/mnews/article/comment/417/0000838533?sid=100      2\n",
       "https://n.news.naver.com/mnews/article/comment/022/0003758301?sid=100      2\n",
       "https://n.news.naver.com/mnews/article/comment/018/0004751582?sid=100      2\n",
       "https://n.news.naver.com/mnews/article/comment/029/0002758648?sid=100      2\n",
       "https://v.daum.net/v/20221221090458017                                     1\n",
       "https://n.news.naver.com/mnews/article/comment/009/0004968433?sid=100      1\n",
       "https://n.news.naver.com/mnews/article/comment/009/0004643253?sid=100      1\n",
       "https://n.news.naver.com/mnews/article/comment/417/0000855036?sid=100      1\n",
       "https://v.daum.net/v/20221229163417690                                     1\n",
       "https://n.news.naver.com/mnews/article/comment/417/0000859046?sid=100      1\n",
       "https://v.daum.net/v/20220802061613514                                     1\n",
       "https://v.daum.net/v/20221205111014768                                     1\n",
       "https://n.news.naver.com/mnews/article/comment/008/0004816302?sid=100      1\n",
       "https://n.news.naver.com/mnews/article/comment/008/0004783724?sid=100      1\n",
       "https://v.daum.net/v/20201013050602242                                     1\n",
       "dtype: int64"
      ]
     },
     "execution_count": 8,
     "metadata": {},
     "output_type": "execute_result"
    }
   ],
   "source": [
    "e_comm.groupby('url').size().sort_values(ascending=False).head(50)"
   ]
  }
 ],
 "metadata": {
  "kernelspec": {
   "display_name": "save_ML",
   "language": "python",
   "name": "save"
  },
  "orig_nbformat": 4,
  "vscode": {
   "interpreter": {
    "hash": "6632c70ce360d611e847e5318887868e2366d56c00e5f501b5a0b067a934dfe7"
   }
  }
 },
 "nbformat": 4,
 "nbformat_minor": 2
}
