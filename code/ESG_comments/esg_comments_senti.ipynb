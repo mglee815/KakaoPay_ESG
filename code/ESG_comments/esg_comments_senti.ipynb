{
 "cells": [
  {
   "cell_type": "code",
   "execution_count": 1,
   "metadata": {},
   "outputs": [
    {
     "name": "stderr",
     "output_type": "stream",
     "text": [
      "2023-02-22 18:01:59.035153: I tensorflow/stream_executor/platform/default/dso_loader.cc:49] Successfully opened dynamic library libcudart.so.11.0\n"
     ]
    },
    {
     "name": "stdout",
     "output_type": "stream",
     "text": [
      "device : cuda:0\n",
      "using cached model. /home/mglee/VSCODE/git_folder/KakaoPay_ESG/code/.cache/kobert_v1.zip\n",
      "using cached model. /home/mglee/VSCODE/git_folder/KakaoPay_ESG/code/.cache/kobert_news_wiki_ko_cased-1087f8699e.spiece\n",
      "using cached model. /home/mglee/VSCODE/git_folder/KakaoPay_ESG/code/.cache/kobert_news_wiki_ko_cased-1087f8699e.spiece\n"
     ]
    }
   ],
   "source": [
    "import pandas as pd\n",
    "import comments_sentiment as senti"
   ]
  },
  {
   "cell_type": "code",
   "execution_count": 2,
   "metadata": {},
   "outputs": [],
   "source": [
    "esg_comments = pd.read_csv(\"../data/ESG_split/comments_by_esg.csv\")"
   ]
  },
  {
   "cell_type": "code",
   "execution_count": 3,
   "metadata": {},
   "outputs": [
    {
     "name": "stdout",
     "output_type": "stream",
     "text": [
      "BERT dataset creating......\n",
      "BERT Classifier Start......\n"
     ]
    },
    {
     "name": "stderr",
     "output_type": "stream",
     "text": [
      "100%|██████████| 4/4 [00:01<00:00,  2.87it/s]"
     ]
    },
    {
     "name": "stdout",
     "output_type": "stream",
     "text": [
      "Predicting......\n"
     ]
    },
    {
     "name": "stderr",
     "output_type": "stream",
     "text": [
      "\n"
     ]
    }
   ],
   "source": [
    "esg_comments['senti'] = senti.main(esg_comments['text'])"
   ]
  },
  {
   "cell_type": "code",
   "execution_count": 4,
   "metadata": {},
   "outputs": [
    {
     "data": {
      "text/plain": [
       "esg\n",
       "ESG추진위원회           11\n",
       "QR체크인재활용           14\n",
       "TCFD지지선언            5\n",
       "UNGC가입              6\n",
       "같이가치와연말기부캠페인        4\n",
       "계좌지킴이서비스            3\n",
       "금융사기및송금피해예방         1\n",
       "금융취약계층 응대 매뉴얼       1\n",
       "동네무료보험서비스           1\n",
       "상생기금 10억 조성         2\n",
       "아름다운재단 기부           1\n",
       "악성앱탐지솔류션적용        169\n",
       "영세중소상공인수수료우대       24\n",
       "자립준비청년금융안심보험기부    128\n",
       "지속가능경영보고서약속         1\n",
       "풍수해보험MOU           22\n",
       "dtype: int64"
      ]
     },
     "execution_count": 4,
     "metadata": {},
     "output_type": "execute_result"
    }
   ],
   "source": [
    "esg_comments.groupby('esg').size()"
   ]
  },
  {
   "cell_type": "code",
   "execution_count": 5,
   "metadata": {},
   "outputs": [
    {
     "data": {
      "text/html": [
       "<div>\n",
       "<style scoped>\n",
       "    .dataframe tbody tr th:only-of-type {\n",
       "        vertical-align: middle;\n",
       "    }\n",
       "\n",
       "    .dataframe tbody tr th {\n",
       "        vertical-align: top;\n",
       "    }\n",
       "\n",
       "    .dataframe thead th {\n",
       "        text-align: right;\n",
       "    }\n",
       "</style>\n",
       "<table border=\"1\" class=\"dataframe\">\n",
       "  <thead>\n",
       "    <tr style=\"text-align: right;\">\n",
       "      <th></th>\n",
       "      <th>senti</th>\n",
       "    </tr>\n",
       "    <tr>\n",
       "      <th>esg</th>\n",
       "      <th></th>\n",
       "    </tr>\n",
       "  </thead>\n",
       "  <tbody>\n",
       "    <tr>\n",
       "      <th>ESG추진위원회</th>\n",
       "      <td>5</td>\n",
       "    </tr>\n",
       "    <tr>\n",
       "      <th>QR체크인재활용</th>\n",
       "      <td>4</td>\n",
       "    </tr>\n",
       "    <tr>\n",
       "      <th>TCFD지지선언</th>\n",
       "      <td>0</td>\n",
       "    </tr>\n",
       "    <tr>\n",
       "      <th>UNGC가입</th>\n",
       "      <td>1</td>\n",
       "    </tr>\n",
       "    <tr>\n",
       "      <th>같이가치와연말기부캠페인</th>\n",
       "      <td>1</td>\n",
       "    </tr>\n",
       "    <tr>\n",
       "      <th>계좌지킴이서비스</th>\n",
       "      <td>1</td>\n",
       "    </tr>\n",
       "    <tr>\n",
       "      <th>금융사기및송금피해예방</th>\n",
       "      <td>0</td>\n",
       "    </tr>\n",
       "    <tr>\n",
       "      <th>금융취약계층 응대 매뉴얼</th>\n",
       "      <td>0</td>\n",
       "    </tr>\n",
       "    <tr>\n",
       "      <th>동네무료보험서비스</th>\n",
       "      <td>0</td>\n",
       "    </tr>\n",
       "    <tr>\n",
       "      <th>상생기금 10억 조성</th>\n",
       "      <td>1</td>\n",
       "    </tr>\n",
       "    <tr>\n",
       "      <th>아름다운재단 기부</th>\n",
       "      <td>0</td>\n",
       "    </tr>\n",
       "    <tr>\n",
       "      <th>악성앱탐지솔류션적용</th>\n",
       "      <td>26</td>\n",
       "    </tr>\n",
       "    <tr>\n",
       "      <th>영세중소상공인수수료우대</th>\n",
       "      <td>5</td>\n",
       "    </tr>\n",
       "    <tr>\n",
       "      <th>자립준비청년금융안심보험기부</th>\n",
       "      <td>25</td>\n",
       "    </tr>\n",
       "    <tr>\n",
       "      <th>지속가능경영보고서약속</th>\n",
       "      <td>1</td>\n",
       "    </tr>\n",
       "    <tr>\n",
       "      <th>풍수해보험MOU</th>\n",
       "      <td>2</td>\n",
       "    </tr>\n",
       "  </tbody>\n",
       "</table>\n",
       "</div>"
      ],
      "text/plain": [
       "                senti\n",
       "esg                  \n",
       "ESG추진위원회            5\n",
       "QR체크인재활용            4\n",
       "TCFD지지선언            0\n",
       "UNGC가입              1\n",
       "같이가치와연말기부캠페인        1\n",
       "계좌지킴이서비스            1\n",
       "금융사기및송금피해예방         0\n",
       "금융취약계층 응대 매뉴얼       0\n",
       "동네무료보험서비스           0\n",
       "상생기금 10억 조성         1\n",
       "아름다운재단 기부           0\n",
       "악성앱탐지솔류션적용         26\n",
       "영세중소상공인수수료우대        5\n",
       "자립준비청년금융안심보험기부     25\n",
       "지속가능경영보고서약속         1\n",
       "풍수해보험MOU            2"
      ]
     },
     "execution_count": 5,
     "metadata": {},
     "output_type": "execute_result"
    }
   ],
   "source": [
    "esg_comments.groupby('esg').sum('senti')"
   ]
  },
  {
   "cell_type": "code",
   "execution_count": 6,
   "metadata": {},
   "outputs": [
    {
     "data": {
      "text/plain": [
       "esg\n",
       "ESG추진위원회          0.454545\n",
       "QR체크인재활용          0.285714\n",
       "TCFD지지선언          0.000000\n",
       "UNGC가입            0.166667\n",
       "같이가치와연말기부캠페인      0.250000\n",
       "계좌지킴이서비스          0.333333\n",
       "금융사기및송금피해예방       0.000000\n",
       "금융취약계층 응대 매뉴얼     0.000000\n",
       "동네무료보험서비스         0.000000\n",
       "상생기금 10억 조성       0.500000\n",
       "아름다운재단 기부         0.000000\n",
       "악성앱탐지솔류션적용        0.153846\n",
       "영세중소상공인수수료우대      0.208333\n",
       "자립준비청년금융안심보험기부    0.195312\n",
       "지속가능경영보고서약속       1.000000\n",
       "풍수해보험MOU          0.090909\n",
       "Name: senti, dtype: float64"
      ]
     },
     "execution_count": 6,
     "metadata": {},
     "output_type": "execute_result"
    }
   ],
   "source": [
    "esg_comments.groupby('esg').sum('senti')['senti'] /  esg_comments.groupby('esg').size().values"
   ]
  }
 ],
 "metadata": {
  "kernelspec": {
   "display_name": "save_ML",
   "language": "python",
   "name": "save"
  },
  "language_info": {
   "codemirror_mode": {
    "name": "ipython",
    "version": 3
   },
   "file_extension": ".py",
   "mimetype": "text/x-python",
   "name": "python",
   "nbconvert_exporter": "python",
   "pygments_lexer": "ipython3",
   "version": "3.8.15"
  },
  "orig_nbformat": 4,
  "vscode": {
   "interpreter": {
    "hash": "6632c70ce360d611e847e5318887868e2366d56c00e5f501b5a0b067a934dfe7"
   }
  }
 },
 "nbformat": 4,
 "nbformat_minor": 2
}
