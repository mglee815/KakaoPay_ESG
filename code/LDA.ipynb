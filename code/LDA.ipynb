{
 "cells": [
  {
   "cell_type": "code",
   "execution_count": 1,
   "metadata": {},
   "outputs": [],
   "source": [
    "import pandas as pd"
   ]
  },
  {
   "cell_type": "code",
   "execution_count": 2,
   "metadata": {},
   "outputs": [],
   "source": [
    "from gensim.models.ldamodel import LdaModel\n",
    "from gensim.models.callbacks import CoherenceMetric\n",
    "from gensim import corpora\n",
    "from gensim.models.callbacks import PerplexityMetric\n",
    "\n",
    "# import logging\n",
    "# logging.basicConfig(format='%(asctime)s : %(levelname)s : %(message)s', level=logging.INFO)"
   ]
  },
  {
   "cell_type": "code",
   "execution_count": 4,
   "metadata": {},
   "outputs": [],
   "source": [
    "data = pd.read_excel(\"../result/KP_ESG_sort_0203.xlsx\")"
   ]
  },
  {
   "cell_type": "code",
   "execution_count": 5,
   "metadata": {},
   "outputs": [
    {
     "data": {
      "text/html": [
       "<div>\n",
       "<style scoped>\n",
       "    .dataframe tbody tr th:only-of-type {\n",
       "        vertical-align: middle;\n",
       "    }\n",
       "\n",
       "    .dataframe tbody tr th {\n",
       "        vertical-align: top;\n",
       "    }\n",
       "\n",
       "    .dataframe thead th {\n",
       "        text-align: right;\n",
       "    }\n",
       "</style>\n",
       "<table border=\"1\" class=\"dataframe\">\n",
       "  <thead>\n",
       "    <tr style=\"text-align: right;\">\n",
       "      <th></th>\n",
       "      <th>Unnamed: 0</th>\n",
       "      <th>key</th>\n",
       "      <th>url</th>\n",
       "      <th>title</th>\n",
       "      <th>body</th>\n",
       "      <th>comments</th>\n",
       "    </tr>\n",
       "  </thead>\n",
       "  <tbody>\n",
       "    <tr>\n",
       "      <th>0</th>\n",
       "      <td>16260</td>\n",
       "      <td>023/0003589070?</td>\n",
       "      <td>https://n.news.naver.com/mnews/article/023/000...</td>\n",
       "      <td>“코로나로 이익 봤으면 나눠야” 이낙연 이익공유제 꺼냈다</td>\n",
       "      <td>[\\n\\n\\n\\n\\n더불어민주당 이낙연대표가 11일 서울 여의도 국회에서 열린 최고...</td>\n",
       "      <td>5574</td>\n",
       "    </tr>\n",
       "    <tr>\n",
       "      <th>1</th>\n",
       "      <td>6804</td>\n",
       "      <td>011/0003517888?</td>\n",
       "      <td>https://n.news.naver.com/mnews/article/011/000...</td>\n",
       "      <td>뒷북경제 신용카드 소득공제·경유세···‘서민증세’ 반발 넘을 수 있을까</td>\n",
       "      <td>[\\n\\t\\t\\t[서울경제] 정부가 신용카드 소득공제를 줄이고 미세먼지 대책으로 경...</td>\n",
       "      <td>2081</td>\n",
       "    </tr>\n",
       "    <tr>\n",
       "      <th>2</th>\n",
       "      <td>11459</td>\n",
       "      <td>015/0004772552?</td>\n",
       "      <td>https://n.news.naver.com/mnews/article/015/000...</td>\n",
       "      <td>그날 하루에만 300만원 날렸는데… 떡볶이집 사장 울분</td>\n",
       "      <td>[\\n카카오 먹통 피해 '외식·서비스업'에 집중외식업, 페이 결제 피해 크고 톡 채...</td>\n",
       "      <td>839</td>\n",
       "    </tr>\n",
       "    <tr>\n",
       "      <th>3</th>\n",
       "      <td>6113</td>\n",
       "      <td>009/0004879440?</td>\n",
       "      <td>https://n.news.naver.com/mnews/article/009/000...</td>\n",
       "      <td>캐시백 10만원 받을줄 알았는데…통장보고 깜짝 놀랐다</td>\n",
       "      <td>[\\n810만명에 3875억 첫 지급1인당 평균 4만8천원 받아169만명은 한도 1...</td>\n",
       "      <td>759</td>\n",
       "    </tr>\n",
       "    <tr>\n",
       "      <th>4</th>\n",
       "      <td>17027</td>\n",
       "      <td>025/0003133356?</td>\n",
       "      <td>https://n.news.naver.com/mnews/article/025/000...</td>\n",
       "      <td>與는 좌시 않겠다…규제 강화에 네이버·카카오 주가 급락</td>\n",
       "      <td>[\\n  \\n\\n\\n\\n여당인 더불어민주당(민주당)에서 인터넷플랫폼 기업의 시장 독...</td>\n",
       "      <td>745</td>\n",
       "    </tr>\n",
       "    <tr>\n",
       "      <th>...</th>\n",
       "      <td>...</td>\n",
       "      <td>...</td>\n",
       "      <td>...</td>\n",
       "      <td>...</td>\n",
       "      <td>...</td>\n",
       "      <td>...</td>\n",
       "    </tr>\n",
       "    <tr>\n",
       "      <th>3708</th>\n",
       "      <td>16965</td>\n",
       "      <td>025/0003085470?</td>\n",
       "      <td>https://n.news.naver.com/mnews/article/025/000...</td>\n",
       "      <td>팩플 네이버의 ‘오프라인 상륙작전’…이마트 타고 페이ㆍ명품 영토 확장</td>\n",
       "      <td>[\\n\\t\\t\\t이마트를 타고 상륙한 ‘쓱 랜더스’는 네이버였다. 16일 네이버와 ...</td>\n",
       "      <td>0</td>\n",
       "    </tr>\n",
       "    <tr>\n",
       "      <th>3709</th>\n",
       "      <td>17002</td>\n",
       "      <td>025/0003114599?</td>\n",
       "      <td>https://n.news.naver.com/mnews/article/025/000...</td>\n",
       "      <td>'제15회 국가지속가능경영 컨퍼런스' 지속가능금융·제품책임 부문 우수기업은?</td>\n",
       "      <td>[\\n\\t\\t\\t한국언론인협회가 주최하고 기획재정부, 외교부, 보건복지부, 환경부,...</td>\n",
       "      <td>0</td>\n",
       "    </tr>\n",
       "    <tr>\n",
       "      <th>3710</th>\n",
       "      <td>17002</td>\n",
       "      <td>025/0003114599?</td>\n",
       "      <td>https://n.news.naver.com/mnews/article/025/000...</td>\n",
       "      <td>'제15회 국가지속가능경영 컨퍼런스' 지속가능금융·제품책임 부문 우수기업은?</td>\n",
       "      <td>[\\n\\t\\t\\t한국언론인협회가 주최하고 기획재정부, 외교부, 보건복지부, 환경부,...</td>\n",
       "      <td>0</td>\n",
       "    </tr>\n",
       "    <tr>\n",
       "      <th>3711</th>\n",
       "      <td>17002</td>\n",
       "      <td>025/0003114599?</td>\n",
       "      <td>https://n.news.naver.com/mnews/article/025/000...</td>\n",
       "      <td>'제15회 국가지속가능경영 컨퍼런스' 지속가능금융·제품책임 부문 우수기업은?</td>\n",
       "      <td>[\\n\\t\\t\\t한국언론인협회가 주최하고 기획재정부, 외교부, 보건복지부, 환경부,...</td>\n",
       "      <td>0</td>\n",
       "    </tr>\n",
       "    <tr>\n",
       "      <th>3712</th>\n",
       "      <td>34422</td>\n",
       "      <td>665/0000000201?</td>\n",
       "      <td>https://n.news.naver.com/mnews/article/665/000...</td>\n",
       "      <td>카카오 먹통 70여일 후… 원인은 잡았지만 원칙은 못 잡았다</td>\n",
       "      <td>[\\n표지이야기➋ 카카오 먹통 사태  시스템 강화·피해보상 과제 카카오, 기술적 대...</td>\n",
       "      <td>0</td>\n",
       "    </tr>\n",
       "  </tbody>\n",
       "</table>\n",
       "<p>3713 rows × 6 columns</p>\n",
       "</div>"
      ],
      "text/plain": [
       "      Unnamed: 0              key  \\\n",
       "0          16260  023/0003589070?   \n",
       "1           6804  011/0003517888?   \n",
       "2          11459  015/0004772552?   \n",
       "3           6113  009/0004879440?   \n",
       "4          17027  025/0003133356?   \n",
       "...          ...              ...   \n",
       "3708       16965  025/0003085470?   \n",
       "3709       17002  025/0003114599?   \n",
       "3710       17002  025/0003114599?   \n",
       "3711       17002  025/0003114599?   \n",
       "3712       34422  665/0000000201?   \n",
       "\n",
       "                                                    url  \\\n",
       "0     https://n.news.naver.com/mnews/article/023/000...   \n",
       "1     https://n.news.naver.com/mnews/article/011/000...   \n",
       "2     https://n.news.naver.com/mnews/article/015/000...   \n",
       "3     https://n.news.naver.com/mnews/article/009/000...   \n",
       "4     https://n.news.naver.com/mnews/article/025/000...   \n",
       "...                                                 ...   \n",
       "3708  https://n.news.naver.com/mnews/article/025/000...   \n",
       "3709  https://n.news.naver.com/mnews/article/025/000...   \n",
       "3710  https://n.news.naver.com/mnews/article/025/000...   \n",
       "3711  https://n.news.naver.com/mnews/article/025/000...   \n",
       "3712  https://n.news.naver.com/mnews/article/665/000...   \n",
       "\n",
       "                                           title  \\\n",
       "0                “코로나로 이익 봤으면 나눠야” 이낙연 이익공유제 꺼냈다   \n",
       "1        뒷북경제 신용카드 소득공제·경유세···‘서민증세’ 반발 넘을 수 있을까   \n",
       "2                 그날 하루에만 300만원 날렸는데… 떡볶이집 사장 울분   \n",
       "3                  캐시백 10만원 받을줄 알았는데…통장보고 깜짝 놀랐다   \n",
       "4                 與는 좌시 않겠다…규제 강화에 네이버·카카오 주가 급락   \n",
       "...                                          ...   \n",
       "3708      팩플 네이버의 ‘오프라인 상륙작전’…이마트 타고 페이ㆍ명품 영토 확장   \n",
       "3709  '제15회 국가지속가능경영 컨퍼런스' 지속가능금융·제품책임 부문 우수기업은?   \n",
       "3710  '제15회 국가지속가능경영 컨퍼런스' 지속가능금융·제품책임 부문 우수기업은?   \n",
       "3711  '제15회 국가지속가능경영 컨퍼런스' 지속가능금융·제품책임 부문 우수기업은?   \n",
       "3712           카카오 먹통 70여일 후… 원인은 잡았지만 원칙은 못 잡았다   \n",
       "\n",
       "                                                   body  comments  \n",
       "0     [\\n\\n\\n\\n\\n더불어민주당 이낙연대표가 11일 서울 여의도 국회에서 열린 최고...      5574  \n",
       "1     [\\n\\t\\t\\t[서울경제] 정부가 신용카드 소득공제를 줄이고 미세먼지 대책으로 경...      2081  \n",
       "2     [\\n카카오 먹통 피해 '외식·서비스업'에 집중외식업, 페이 결제 피해 크고 톡 채...       839  \n",
       "3     [\\n810만명에 3875억 첫 지급1인당 평균 4만8천원 받아169만명은 한도 1...       759  \n",
       "4     [\\n  \\n\\n\\n\\n여당인 더불어민주당(민주당)에서 인터넷플랫폼 기업의 시장 독...       745  \n",
       "...                                                 ...       ...  \n",
       "3708  [\\n\\t\\t\\t이마트를 타고 상륙한 ‘쓱 랜더스’는 네이버였다. 16일 네이버와 ...         0  \n",
       "3709  [\\n\\t\\t\\t한국언론인협회가 주최하고 기획재정부, 외교부, 보건복지부, 환경부,...         0  \n",
       "3710  [\\n\\t\\t\\t한국언론인협회가 주최하고 기획재정부, 외교부, 보건복지부, 환경부,...         0  \n",
       "3711  [\\n\\t\\t\\t한국언론인협회가 주최하고 기획재정부, 외교부, 보건복지부, 환경부,...         0  \n",
       "3712  [\\n표지이야기➋ 카카오 먹통 사태  시스템 강화·피해보상 과제 카카오, 기술적 대...         0  \n",
       "\n",
       "[3713 rows x 6 columns]"
      ]
     },
     "execution_count": 5,
     "metadata": {},
     "output_type": "execute_result"
    }
   ],
   "source": [
    "data"
   ]
  },
  {
   "cell_type": "code",
   "execution_count": 6,
   "metadata": {},
   "outputs": [],
   "source": [
    "from konlpy.tag import Okt"
   ]
  },
  {
   "cell_type": "code",
   "execution_count": 7,
   "metadata": {},
   "outputs": [],
   "source": [
    "okt = Okt()"
   ]
  },
  {
   "cell_type": "code",
   "execution_count": 9,
   "metadata": {},
   "outputs": [],
   "source": [
    "data['token'] = data['body'].apply(lambda x : okt.nouns(x))"
   ]
  },
  {
   "attachments": {},
   "cell_type": "markdown",
   "metadata": {},
   "source": [
    "### 본문으로 분류"
   ]
  },
  {
   "cell_type": "code",
   "execution_count": 10,
   "metadata": {},
   "outputs": [],
   "source": [
    "tokens = data['token']"
   ]
  },
  {
   "cell_type": "code",
   "execution_count": 11,
   "metadata": {},
   "outputs": [],
   "source": [
    "dictionary = corpora.Dictionary(tokens)"
   ]
  },
  {
   "cell_type": "code",
   "execution_count": 12,
   "metadata": {},
   "outputs": [],
   "source": [
    "dictionary.filter_extremes(no_below=2, no_above=0.5)"
   ]
  },
  {
   "cell_type": "code",
   "execution_count": 13,
   "metadata": {},
   "outputs": [],
   "source": [
    "corpus = [dictionary.doc2bow(text) for text in tokens]"
   ]
  },
  {
   "cell_type": "code",
   "execution_count": 48,
   "metadata": {},
   "outputs": [
    {
     "name": "stderr",
     "output_type": "stream",
     "text": [
      "/home/mglee/anaconda3/envs/save/lib/python3.8/site-packages/gensim/models/ldamodel.py:141: RuntimeWarning: divide by zero encountered in true_divide\n",
      "  b = np.sum(gradf / q) / (1 / c + np.sum(1 / q))\n"
     ]
    }
   ],
   "source": [
    "num_topics = 15\n",
    "chunksize = 2000\n",
    "passes = 20\n",
    "iterations = 1000\n",
    "eval_every = None\n",
    "\n",
    "temp = dictionary[0]\n",
    "id2word = dictionary.id2token\n",
    "\n",
    "model = LdaModel(\n",
    "    corpus=corpus,\n",
    "    id2word=id2word,\n",
    "    chunksize=chunksize,\n",
    "    alpha='auto',\n",
    "    eta='auto',\n",
    "    iterations=iterations,\n",
    "    num_topics=num_topics,\n",
    "    passes=passes,\n",
    "    eval_every=eval_every\n",
    ")"
   ]
  },
  {
   "cell_type": "code",
   "execution_count": 49,
   "metadata": {},
   "outputs": [],
   "source": [
    "import pickle\n",
    "import pyLDAvis.gensim_models as gensimvis\n",
    "import pyLDAvis\n",
    "from gensim.models.coherencemodel import CoherenceModel\n",
    "import matplotlib.pyplot as plt"
   ]
  },
  {
   "cell_type": "code",
   "execution_count": 50,
   "metadata": {},
   "outputs": [
    {
     "name": "stderr",
     "output_type": "stream",
     "text": [
      "/home/mglee/anaconda3/envs/save/lib/python3.8/site-packages/pyLDAvis/_prepare.py:246: FutureWarning: In a future version of pandas all arguments of DataFrame.drop except for the argument 'labels' will be keyword-only.\n",
      "  default_term_info = default_term_info.sort_values(\n",
      "/home/mglee/anaconda3/envs/save/lib/python3.8/site-packages/past/builtins/misc.py:45: DeprecationWarning: the imp module is deprecated in favour of importlib; see the module's documentation for alternative uses\n",
      "  from imp import reload\n",
      "/home/mglee/anaconda3/envs/save/lib/python3.8/site-packages/past/builtins/misc.py:45: DeprecationWarning: the imp module is deprecated in favour of importlib; see the module's documentation for alternative uses\n",
      "  from imp import reload\n",
      "/home/mglee/anaconda3/envs/save/lib/python3.8/site-packages/past/builtins/misc.py:45: DeprecationWarning: the imp module is deprecated in favour of importlib; see the module's documentation for alternative uses\n",
      "  from imp import reload\n",
      "/home/mglee/anaconda3/envs/save/lib/python3.8/site-packages/past/builtins/misc.py:45: DeprecationWarning: the imp module is deprecated in favour of importlib; see the module's documentation for alternative uses\n",
      "  from imp import reload\n",
      "/home/mglee/anaconda3/envs/save/lib/python3.8/site-packages/past/builtins/misc.py:45: DeprecationWarning: the imp module is deprecated in favour of importlib; see the module's documentation for alternative uses\n",
      "  from imp import reload\n",
      "/home/mglee/anaconda3/envs/save/lib/python3.8/site-packages/joblib/backports.py:36: DeprecationWarning: distutils Version classes are deprecated. Use packaging.version instead.\n",
      "  if LooseVersion(np.__version__) < '1.13':\n",
      "/home/mglee/anaconda3/envs/save/lib/python3.8/site-packages/setuptools/_distutils/version.py:346: DeprecationWarning: distutils Version classes are deprecated. Use packaging.version instead.\n",
      "  other = LooseVersion(other)\n",
      "/home/mglee/anaconda3/envs/save/lib/python3.8/site-packages/joblib/backports.py:36: DeprecationWarning: distutils Version classes are deprecated. Use packaging.version instead.\n",
      "  if LooseVersion(np.__version__) < '1.13':\n",
      "/home/mglee/anaconda3/envs/save/lib/python3.8/site-packages/setuptools/_distutils/version.py:346: DeprecationWarning: distutils Version classes are deprecated. Use packaging.version instead.\n",
      "  other = LooseVersion(other)\n",
      "/home/mglee/anaconda3/envs/save/lib/python3.8/site-packages/joblib/backports.py:36: DeprecationWarning: distutils Version classes are deprecated. Use packaging.version instead.\n",
      "  if LooseVersion(np.__version__) < '1.13':\n",
      "/home/mglee/anaconda3/envs/save/lib/python3.8/site-packages/setuptools/_distutils/version.py:346: DeprecationWarning: distutils Version classes are deprecated. Use packaging.version instead.\n",
      "  other = LooseVersion(other)\n",
      "/home/mglee/anaconda3/envs/save/lib/python3.8/site-packages/joblib/backports.py:36: DeprecationWarning: distutils Version classes are deprecated. Use packaging.version instead.\n",
      "  if LooseVersion(np.__version__) < '1.13':\n",
      "/home/mglee/anaconda3/envs/save/lib/python3.8/site-packages/setuptools/_distutils/version.py:346: DeprecationWarning: distutils Version classes are deprecated. Use packaging.version instead.\n",
      "  other = LooseVersion(other)\n",
      "/home/mglee/anaconda3/envs/save/lib/python3.8/site-packages/joblib/backports.py:36: DeprecationWarning: distutils Version classes are deprecated. Use packaging.version instead.\n",
      "  if LooseVersion(np.__version__) < '1.13':\n",
      "/home/mglee/anaconda3/envs/save/lib/python3.8/site-packages/setuptools/_distutils/version.py:346: DeprecationWarning: distutils Version classes are deprecated. Use packaging.version instead.\n",
      "  other = LooseVersion(other)\n",
      "/home/mglee/anaconda3/envs/save/lib/python3.8/site-packages/joblib/backports.py:36: DeprecationWarning: distutils Version classes are deprecated. Use packaging.version instead.\n",
      "  if LooseVersion(np.__version__) < '1.13':\n",
      "/home/mglee/anaconda3/envs/save/lib/python3.8/site-packages/setuptools/_distutils/version.py:346: DeprecationWarning: distutils Version classes are deprecated. Use packaging.version instead.\n",
      "  other = LooseVersion(other)\n",
      "/home/mglee/anaconda3/envs/save/lib/python3.8/site-packages/joblib/backports.py:36: DeprecationWarning: distutils Version classes are deprecated. Use packaging.version instead.\n",
      "  if LooseVersion(np.__version__) < '1.13':\n",
      "/home/mglee/anaconda3/envs/save/lib/python3.8/site-packages/setuptools/_distutils/version.py:346: DeprecationWarning: distutils Version classes are deprecated. Use packaging.version instead.\n",
      "  other = LooseVersion(other)\n",
      "/home/mglee/anaconda3/envs/save/lib/python3.8/site-packages/joblib/backports.py:36: DeprecationWarning: distutils Version classes are deprecated. Use packaging.version instead.\n",
      "  if LooseVersion(np.__version__) < '1.13':\n",
      "/home/mglee/anaconda3/envs/save/lib/python3.8/site-packages/setuptools/_distutils/version.py:346: DeprecationWarning: distutils Version classes are deprecated. Use packaging.version instead.\n",
      "  other = LooseVersion(other)\n",
      "/home/mglee/anaconda3/envs/save/lib/python3.8/site-packages/joblib/backports.py:36: DeprecationWarning: distutils Version classes are deprecated. Use packaging.version instead.\n",
      "  if LooseVersion(np.__version__) < '1.13':\n",
      "/home/mglee/anaconda3/envs/save/lib/python3.8/site-packages/setuptools/_distutils/version.py:346: DeprecationWarning: distutils Version classes are deprecated. Use packaging.version instead.\n",
      "  other = LooseVersion(other)\n",
      "/home/mglee/anaconda3/envs/save/lib/python3.8/site-packages/joblib/backports.py:36: DeprecationWarning: distutils Version classes are deprecated. Use packaging.version instead.\n",
      "  if LooseVersion(np.__version__) < '1.13':\n",
      "/home/mglee/anaconda3/envs/save/lib/python3.8/site-packages/setuptools/_distutils/version.py:346: DeprecationWarning: distutils Version classes are deprecated. Use packaging.version instead.\n",
      "  other = LooseVersion(other)\n"
     ]
    }
   ],
   "source": [
    "lda_visualization = gensimvis.prepare(model, corpus, dictionary, sort_topics=False)\n",
    "pyLDAvis.save_html(lda_visualization, '../result/LDA_naver_ESG.html')"
   ]
  },
  {
   "cell_type": "code",
   "execution_count": 51,
   "metadata": {},
   "outputs": [
    {
     "name": "stdout",
     "output_type": "stream",
     "text": [
      "(0, '0.012*\"정부\" + 0.010*\"코로나\" + 0.008*\"경제\" + 0.007*\"우리\" + 0.006*\"그\" + 0.005*\"생각\" + 0.005*\"문제\" + 0.005*\"정책\" + 0.005*\"한국\" + 0.005*\"지금\"')\n",
      "(1, '0.035*\"대표\" + 0.010*\"사회\" + 0.009*\"센터\" + 0.008*\"경영\" + 0.008*\"논란\" + 0.007*\"의장\" + 0.007*\"글로벌\" + 0.006*\"상생\" + 0.006*\"미래\" + 0.006*\"내정자\"')\n",
      "(2, '0.012*\"상품\" + 0.008*\"대표\" + 0.008*\"보험\" + 0.007*\"출시\" + 0.007*\"고객\" + 0.006*\"데이터\" + 0.006*\"판매\" + 0.006*\"제품\" + 0.005*\"브랜드\" + 0.005*\"진행\"')\n",
      "(3, '0.039*\"대출\" + 0.018*\"은행\" + 0.014*\"금리\" + 0.012*\"신용\" + 0.012*\"상품\" + 0.010*\"뱅크\" + 0.009*\"중\" + 0.007*\"사업자\" + 0.007*\"파이\" + 0.006*\"토스\"')\n",
      "(4, '0.054*\"매출\" + 0.045*\"대비\" + 0.035*\"증가\" + 0.032*\"년\" + 0.022*\"동기\" + 0.018*\"기록\" + 0.017*\"영업\" + 0.016*\"분기\" + 0.015*\"콘텐츠\" + 0.015*\"부문\"')\n",
      "(5, '0.014*\"환경\" + 0.013*\"경영\" + 0.011*\"사회\" + 0.010*\"탄소\" + 0.010*\"추진\" + 0.010*\"친환경\" + 0.010*\"위원회\" + 0.007*\"관련\" + 0.007*\"한국\" + 0.006*\"개인\"')\n",
      "(6, '0.029*\"피해\" + 0.020*\"보험\" + 0.017*\"데이터\" + 0.016*\"센터\" + 0.016*\"보상\" + 0.013*\"톡\" + 0.010*\"상공\" + 0.009*\"화재\" + 0.009*\"장애\" + 0.009*\"사태\"')\n",
      "(7, '0.024*\"카드\" + 0.016*\"할인\" + 0.014*\"혜택\" + 0.013*\"이용\" + 0.012*\"포인트\" + 0.011*\"고객\" + 0.011*\"코로나\" + 0.010*\"적립\" + 0.010*\"상품\" + 0.009*\"주문\"')\n",
      "(8, '0.013*\"기부\" + 0.013*\"지원\" + 0.010*\"캠페인\" + 0.009*\"지역\" + 0.009*\"사회\" + 0.009*\"규제\" + 0.008*\"신청\" + 0.008*\"개\" + 0.007*\"택시\" + 0.007*\"교육\"')\n",
      "(9, '0.012*\"디지털\" + 0.012*\"은행\" + 0.010*\"혁신\" + 0.010*\"핀\" + 0.009*\"테크\" + 0.007*\"회장\" + 0.006*\"산업\" + 0.006*\"그룹\" + 0.006*\"자산\" + 0.005*\"한국\"')\n",
      "(10, '0.039*\"디지털\" + 0.035*\"기술\" + 0.028*\"접근성\" + 0.013*\"공동체\" + 0.012*\"팀\" + 0.012*\"개선\" + 0.011*\"윤리\" + 0.010*\"사회\" + 0.009*\"장애인\" + 0.008*\"책임자\"')\n",
      "(11, '0.049*\"수수료\" + 0.022*\"카드\" + 0.021*\"테크\" + 0.016*\"규제\" + 0.013*\"율\" + 0.012*\"간편\" + 0.012*\"점\" + 0.011*\"가맹\" + 0.011*\"빅\" + 0.009*\"핀\"')\n",
      "(12, '0.022*\"상품권\" + 0.018*\"앱\" + 0.014*\"서울\" + 0.013*\"점\" + 0.011*\"가맹\" + 0.011*\"사용\" + 0.011*\"사랑\" + 0.010*\"운영\" + 0.010*\"서울시\" + 0.010*\"지역\"')\n",
      "(13, '0.030*\"제로\" + 0.018*\"수수료\" + 0.016*\"가맹\" + 0.016*\"점\" + 0.013*\"간편\" + 0.011*\"카드\" + 0.010*\"코드\" + 0.010*\"공인\" + 0.009*\"신용카드\" + 0.009*\"서울시\"')\n",
      "(14, '0.013*\"투자\" + 0.012*\"증권\" + 0.010*\"시장\" + 0.010*\"상장\" + 0.008*\"주가\" + 0.005*\"국내\" + 0.005*\"데이터\" + 0.004*\"투자자\" + 0.004*\"주식\" + 0.004*\"펀드\"')\n"
     ]
    }
   ],
   "source": [
    "topics = model.print_topics(num_words=10)\n",
    "for topic in topics:\n",
    "    print(topic)"
   ]
  },
  {
   "cell_type": "code",
   "execution_count": 52,
   "metadata": {},
   "outputs": [],
   "source": [
    "import numpy as np\n",
    "\n",
    "topic_lst = []\n",
    "for i, topic_list in enumerate(model[corpus]):\n",
    "    temp = pd.DataFrame(topic_list)\n",
    "    max_idx = np.argmax(temp.iloc[:,1])\n",
    "    topic_lst.append(temp.iloc[max_idx,0])"
   ]
  },
  {
   "cell_type": "code",
   "execution_count": 53,
   "metadata": {},
   "outputs": [],
   "source": [
    "data['topic'] = topic_lst"
   ]
  },
  {
   "cell_type": "code",
   "execution_count": 56,
   "metadata": {},
   "outputs": [],
   "source": [
    "data.sort_values(\"topic\").to_excel(\"../result/KP_naverTB_LDA.xlsx\")"
   ]
  },
  {
   "attachments": {},
   "cell_type": "markdown",
   "metadata": {},
   "source": [
    "### 기사 본문으로 분류"
   ]
  },
  {
   "cell_type": "code",
   "execution_count": 19,
   "metadata": {},
   "outputs": [],
   "source": [
    "from konlpy.tag import Okt"
   ]
  },
  {
   "cell_type": "code",
   "execution_count": 13,
   "metadata": {},
   "outputs": [],
   "source": [
    "from knockknock import discord_sender\n",
    "\n",
    "url = \"https://discord.com/api/webhooks/989774347466047529/c5ZeC8lk3gX8Jq8i77WVuIByZhPyNbTwLPIaY-zQEiH9flKeNcWb6hyUODRUFO0sfnKm\""
   ]
  },
  {
   "cell_type": "code",
   "execution_count": 20,
   "metadata": {},
   "outputs": [],
   "source": [
    "@discord_sender(webhook_url = url)\n",
    "def tokenization(lst, x):\n",
    "    okt = Okt()\n",
    "    for item in x:\n",
    "        lst.append(okt.nouns(str(item)))\n",
    "    return {\"done\"}"
   ]
  },
  {
   "cell_type": "code",
   "execution_count": 16,
   "metadata": {},
   "outputs": [],
   "source": [
    "arti = pd.read_csv(\"../data/KP_daum_monthlyTop800_body.csv\")"
   ]
  },
  {
   "cell_type": "code",
   "execution_count": 25,
   "metadata": {},
   "outputs": [
    {
     "data": {
      "text/plain": [
       "{'done'}"
      ]
     },
     "execution_count": 25,
     "metadata": {},
     "output_type": "execute_result"
    }
   ],
   "source": [
    "arti_token_lst = []\n",
    "tokenization(arti_token_lst, arti['2'])"
   ]
  },
  {
   "cell_type": "code",
   "execution_count": 27,
   "metadata": {},
   "outputs": [],
   "source": [
    "#arti_token_lst"
   ]
  },
  {
   "cell_type": "code",
   "execution_count": 28,
   "metadata": {},
   "outputs": [],
   "source": [
    "arti_dictionary = corpora.Dictionary(arti_token_lst)"
   ]
  },
  {
   "cell_type": "code",
   "execution_count": 29,
   "metadata": {},
   "outputs": [],
   "source": [
    "arti_dictionary.filter_extremes(no_below=2, no_above=0.5)"
   ]
  },
  {
   "cell_type": "code",
   "execution_count": 30,
   "metadata": {},
   "outputs": [],
   "source": [
    "arti_corpus = [arti_dictionary.doc2bow(text) for text in arti_token_lst]"
   ]
  },
  {
   "cell_type": "code",
   "execution_count": 31,
   "metadata": {},
   "outputs": [
    {
     "name": "stderr",
     "output_type": "stream",
     "text": [
      "/home/mglee/anaconda3/envs/save/lib/python3.8/site-packages/gensim/models/ldamodel.py:141: RuntimeWarning: divide by zero encountered in true_divide\n",
      "  b = np.sum(gradf / q) / (1 / c + np.sum(1 / q))\n"
     ]
    }
   ],
   "source": [
    "num_topics = 10\n",
    "chunksize = 2000\n",
    "passes = 20\n",
    "iterations = 400\n",
    "eval_every = None\n",
    "\n",
    "temp = arti_dictionary[0]\n",
    "id2word = arti_dictionary.id2token\n",
    "\n",
    "model_arti = LdaModel(\n",
    "    corpus=corpus,\n",
    "    id2word=id2word,\n",
    "    chunksize=chunksize,\n",
    "    alpha='auto',\n",
    "    eta='auto',\n",
    "    iterations=iterations,\n",
    "    num_topics=num_topics,\n",
    "    passes=passes,\n",
    "    eval_every=eval_every\n",
    ")"
   ]
  },
  {
   "cell_type": "code",
   "execution_count": 33,
   "metadata": {},
   "outputs": [
    {
     "name": "stderr",
     "output_type": "stream",
     "text": [
      "/home/mglee/anaconda3/envs/save/lib/python3.8/site-packages/pyLDAvis/_prepare.py:246: FutureWarning: In a future version of pandas all arguments of DataFrame.drop except for the argument 'labels' will be keyword-only.\n",
      "  default_term_info = default_term_info.sort_values(\n",
      "/home/mglee/anaconda3/envs/save/lib/python3.8/site-packages/past/builtins/misc.py:45: DeprecationWarning: the imp module is deprecated in favour of importlib; see the module's documentation for alternative uses\n",
      "  from imp import reload\n",
      "/home/mglee/anaconda3/envs/save/lib/python3.8/site-packages/joblib/backports.py:36: DeprecationWarning: distutils Version classes are deprecated. Use packaging.version instead.\n",
      "  if LooseVersion(np.__version__) < '1.13':\n",
      "/home/mglee/anaconda3/envs/save/lib/python3.8/site-packages/setuptools/_distutils/version.py:346: DeprecationWarning: distutils Version classes are deprecated. Use packaging.version instead.\n",
      "  other = LooseVersion(other)\n",
      "/home/mglee/anaconda3/envs/save/lib/python3.8/site-packages/joblib/backports.py:36: DeprecationWarning: distutils Version classes are deprecated. Use packaging.version instead.\n",
      "  if LooseVersion(np.__version__) < '1.13':\n",
      "/home/mglee/anaconda3/envs/save/lib/python3.8/site-packages/setuptools/_distutils/version.py:346: DeprecationWarning: distutils Version classes are deprecated. Use packaging.version instead.\n",
      "  other = LooseVersion(other)\n",
      "/home/mglee/anaconda3/envs/save/lib/python3.8/site-packages/past/builtins/misc.py:45: DeprecationWarning: the imp module is deprecated in favour of importlib; see the module's documentation for alternative uses\n",
      "  from imp import reload\n",
      "/home/mglee/anaconda3/envs/save/lib/python3.8/site-packages/past/builtins/misc.py:45: DeprecationWarning: the imp module is deprecated in favour of importlib; see the module's documentation for alternative uses\n",
      "  from imp import reload\n",
      "/home/mglee/anaconda3/envs/save/lib/python3.8/site-packages/past/builtins/misc.py:45: DeprecationWarning: the imp module is deprecated in favour of importlib; see the module's documentation for alternative uses\n",
      "  from imp import reload\n",
      "/home/mglee/anaconda3/envs/save/lib/python3.8/site-packages/past/builtins/misc.py:45: DeprecationWarning: the imp module is deprecated in favour of importlib; see the module's documentation for alternative uses\n",
      "  from imp import reload\n",
      "/home/mglee/anaconda3/envs/save/lib/python3.8/site-packages/joblib/backports.py:36: DeprecationWarning: distutils Version classes are deprecated. Use packaging.version instead.\n",
      "  if LooseVersion(np.__version__) < '1.13':\n",
      "/home/mglee/anaconda3/envs/save/lib/python3.8/site-packages/setuptools/_distutils/version.py:346: DeprecationWarning: distutils Version classes are deprecated. Use packaging.version instead.\n",
      "  other = LooseVersion(other)\n",
      "/home/mglee/anaconda3/envs/save/lib/python3.8/site-packages/joblib/backports.py:36: DeprecationWarning: distutils Version classes are deprecated. Use packaging.version instead.\n",
      "  if LooseVersion(np.__version__) < '1.13':\n",
      "/home/mglee/anaconda3/envs/save/lib/python3.8/site-packages/setuptools/_distutils/version.py:346: DeprecationWarning: distutils Version classes are deprecated. Use packaging.version instead.\n",
      "  other = LooseVersion(other)\n",
      "/home/mglee/anaconda3/envs/save/lib/python3.8/site-packages/joblib/backports.py:36: DeprecationWarning: distutils Version classes are deprecated. Use packaging.version instead.\n",
      "  if LooseVersion(np.__version__) < '1.13':\n",
      "/home/mglee/anaconda3/envs/save/lib/python3.8/site-packages/setuptools/_distutils/version.py:346: DeprecationWarning: distutils Version classes are deprecated. Use packaging.version instead.\n",
      "  other = LooseVersion(other)\n",
      "/home/mglee/anaconda3/envs/save/lib/python3.8/site-packages/joblib/backports.py:36: DeprecationWarning: distutils Version classes are deprecated. Use packaging.version instead.\n",
      "  if LooseVersion(np.__version__) < '1.13':\n",
      "/home/mglee/anaconda3/envs/save/lib/python3.8/site-packages/setuptools/_distutils/version.py:346: DeprecationWarning: distutils Version classes are deprecated. Use packaging.version instead.\n",
      "  other = LooseVersion(other)\n",
      "/home/mglee/anaconda3/envs/save/lib/python3.8/site-packages/joblib/backports.py:36: DeprecationWarning: distutils Version classes are deprecated. Use packaging.version instead.\n",
      "  if LooseVersion(np.__version__) < '1.13':\n",
      "/home/mglee/anaconda3/envs/save/lib/python3.8/site-packages/setuptools/_distutils/version.py:346: DeprecationWarning: distutils Version classes are deprecated. Use packaging.version instead.\n",
      "  other = LooseVersion(other)\n",
      "/home/mglee/anaconda3/envs/save/lib/python3.8/site-packages/joblib/backports.py:36: DeprecationWarning: distutils Version classes are deprecated. Use packaging.version instead.\n",
      "  if LooseVersion(np.__version__) < '1.13':\n",
      "/home/mglee/anaconda3/envs/save/lib/python3.8/site-packages/setuptools/_distutils/version.py:346: DeprecationWarning: distutils Version classes are deprecated. Use packaging.version instead.\n",
      "  other = LooseVersion(other)\n",
      "/home/mglee/anaconda3/envs/save/lib/python3.8/site-packages/joblib/backports.py:36: DeprecationWarning: distutils Version classes are deprecated. Use packaging.version instead.\n",
      "  if LooseVersion(np.__version__) < '1.13':\n",
      "/home/mglee/anaconda3/envs/save/lib/python3.8/site-packages/setuptools/_distutils/version.py:346: DeprecationWarning: distutils Version classes are deprecated. Use packaging.version instead.\n",
      "  other = LooseVersion(other)\n",
      "/home/mglee/anaconda3/envs/save/lib/python3.8/site-packages/joblib/backports.py:36: DeprecationWarning: distutils Version classes are deprecated. Use packaging.version instead.\n",
      "  if LooseVersion(np.__version__) < '1.13':\n",
      "/home/mglee/anaconda3/envs/save/lib/python3.8/site-packages/setuptools/_distutils/version.py:346: DeprecationWarning: distutils Version classes are deprecated. Use packaging.version instead.\n",
      "  other = LooseVersion(other)\n"
     ]
    }
   ],
   "source": [
    "lda_arti_visualization = gensimvis.prepare(model_arti, corpus, arti_dictionary, sort_topics=False)\n",
    "pyLDAvis.save_html(lda_arti_visualization, '../result/LDA_arti.html')"
   ]
  }
 ],
 "metadata": {
  "kernelspec": {
   "display_name": "base",
   "language": "python",
   "name": "python3"
  },
  "language_info": {
   "codemirror_mode": {
    "name": "ipython",
    "version": 3
   },
   "file_extension": ".py",
   "mimetype": "text/x-python",
   "name": "python",
   "nbconvert_exporter": "python",
   "pygments_lexer": "ipython3",
   "version": "3.8.15"
  },
  "orig_nbformat": 4,
  "vscode": {
   "interpreter": {
    "hash": "6632c70ce360d611e847e5318887868e2366d56c00e5f501b5a0b067a934dfe7"
   }
  }
 },
 "nbformat": 4,
 "nbformat_minor": 2
}
