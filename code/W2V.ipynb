{
 "cells": [
  {
   "cell_type": "code",
   "execution_count": 3,
   "metadata": {},
   "outputs": [],
   "source": [
    "import pandas as pd\n",
    "import datetime\n",
    "from konlpy.tag import Okt"
   ]
  },
  {
   "cell_type": "code",
   "execution_count": 2,
   "metadata": {},
   "outputs": [],
   "source": [
    "data = pd.read_csv(\"../data/KP_daum_monthlyTop800_body.csv\")"
   ]
  },
  {
   "cell_type": "code",
   "execution_count": 4,
   "metadata": {},
   "outputs": [
    {
     "data": {
      "text/html": [
       "<div>\n",
       "<style scoped>\n",
       "    .dataframe tbody tr th:only-of-type {\n",
       "        vertical-align: middle;\n",
       "    }\n",
       "\n",
       "    .dataframe tbody tr th {\n",
       "        vertical-align: top;\n",
       "    }\n",
       "\n",
       "    .dataframe thead th {\n",
       "        text-align: right;\n",
       "    }\n",
       "</style>\n",
       "<table border=\"1\" class=\"dataframe\">\n",
       "  <thead>\n",
       "    <tr style=\"text-align: right;\">\n",
       "      <th></th>\n",
       "      <th>Unnamed: 0</th>\n",
       "      <th>0</th>\n",
       "      <th>1</th>\n",
       "      <th>2</th>\n",
       "    </tr>\n",
       "  </thead>\n",
       "  <tbody>\n",
       "    <tr>\n",
       "      <th>0</th>\n",
       "      <td>0</td>\n",
       "      <td>https://v.daum.net/v/20180105100954077</td>\n",
       "      <td>카카오페이 오프라인 확장..'카카오페이 카드' 10일 나온다</td>\n",
       "      <td>[카카오페이 카드 2종 온라인 간판결제 '카카오페이'가 '카카오페이 카드'를 출시하...</td>\n",
       "    </tr>\n",
       "    <tr>\n",
       "      <th>1</th>\n",
       "      <td>1</td>\n",
       "      <td>https://v.daum.net/v/20180105164004067</td>\n",
       "      <td>카카오페이 카드 출시</td>\n",
       "      <td>[카카오페이(대표 류영준)는 다양한 온·오프라인 혜택을 담은 혼합형 핀테크 상품 '...</td>\n",
       "    </tr>\n",
       "    <tr>\n",
       "      <th>2</th>\n",
       "      <td>2</td>\n",
       "      <td>https://v.daum.net/v/20180105101958491</td>\n",
       "      <td>카카오페이, 체크카드 출시..오프라인 진출</td>\n",
       "      <td>[            【서울=뉴시스】카카오페이는 다양한 온·오프라인 혜택을 담은 ...</td>\n",
       "    </tr>\n",
       "    <tr>\n",
       "      <th>3</th>\n",
       "      <td>3</td>\n",
       "      <td>https://v.daum.net/v/20180105173046721</td>\n",
       "      <td>오프라인 결제 '카카오페이 카드' 출시</td>\n",
       "      <td>[카카오페이 카드 2종             온라인 간판결제 '카카오페이'가 '카카...</td>\n",
       "    </tr>\n",
       "    <tr>\n",
       "      <th>4</th>\n",
       "      <td>4</td>\n",
       "      <td>https://v.daum.net/v/20180105084208085</td>\n",
       "      <td>'카카오페이 카드' 출시.. 다양한 혜택 제공</td>\n",
       "      <td>[ 이용금액 0.3% 자동 적립, 롯데 ATM 무료 출금 가능카카오페이가 다양한 온...</td>\n",
       "    </tr>\n",
       "    <tr>\n",
       "      <th>...</th>\n",
       "      <td>...</td>\n",
       "      <td>...</td>\n",
       "      <td>...</td>\n",
       "      <td>...</td>\n",
       "    </tr>\n",
       "    <tr>\n",
       "      <th>18382</th>\n",
       "      <td>18382</td>\n",
       "      <td>https://v.daum.net/v/20221230105630139</td>\n",
       "      <td>파리바게뜨, 새해 1월 ‘파바데이’ 프로모션 진행</td>\n",
       "      <td>[ 1만5000원 이상 구매 시 3000원 혜택설 선물 연계 2만원 이상 구매시 5...</td>\n",
       "    </tr>\n",
       "    <tr>\n",
       "      <th>18383</th>\n",
       "      <td>18383</td>\n",
       "      <td>https://v.daum.net/v/20221230071650319</td>\n",
       "      <td>용인시, 청년 전세보증금 반환보증 보증료 최대 30만원 지원</td>\n",
       "      <td>[            용인청년 전세보증금 반환보증 보증료 지원사업 홍보 포스터  ...</td>\n",
       "    </tr>\n",
       "    <tr>\n",
       "      <th>18384</th>\n",
       "      <td>18384</td>\n",
       "      <td>https://v.daum.net/v/20221230052321943</td>\n",
       "      <td>2금융 대출문턱 막히자… 금융당국 유연하게 대응 당부</td>\n",
       "      <td>[            2금융권을 중심으로 서민들의 자금조달이 어려워지자 금융당국이...</td>\n",
       "    </tr>\n",
       "    <tr>\n",
       "      <th>18385</th>\n",
       "      <td>18385</td>\n",
       "      <td>https://v.daum.net/v/20221228120203288</td>\n",
       "      <td>내년부터 '깜깜이' 간편결제 수수료 공시된다</td>\n",
       "      <td>[ 금감원, 전자금융업자 수수료 공시 가이드라인 시행네이버페이, 카카오페이 10개사...</td>\n",
       "    </tr>\n",
       "    <tr>\n",
       "      <th>18386</th>\n",
       "      <td>18386</td>\n",
       "      <td>https://v.daum.net/v/20221230091108475</td>\n",
       "      <td>파리바게뜨, 1월1일 '파바데이'서 3000원 할인 받으세요</td>\n",
       "      <td>[ 1월1일 하루, 1만5000원 이상 구매 시 3천원 혜택            파...</td>\n",
       "    </tr>\n",
       "  </tbody>\n",
       "</table>\n",
       "<p>18387 rows × 4 columns</p>\n",
       "</div>"
      ],
      "text/plain": [
       "       Unnamed: 0                                       0  \\\n",
       "0               0  https://v.daum.net/v/20180105100954077   \n",
       "1               1  https://v.daum.net/v/20180105164004067   \n",
       "2               2  https://v.daum.net/v/20180105101958491   \n",
       "3               3  https://v.daum.net/v/20180105173046721   \n",
       "4               4  https://v.daum.net/v/20180105084208085   \n",
       "...           ...                                     ...   \n",
       "18382       18382  https://v.daum.net/v/20221230105630139   \n",
       "18383       18383  https://v.daum.net/v/20221230071650319   \n",
       "18384       18384  https://v.daum.net/v/20221230052321943   \n",
       "18385       18385  https://v.daum.net/v/20221228120203288   \n",
       "18386       18386  https://v.daum.net/v/20221230091108475   \n",
       "\n",
       "                                       1  \\\n",
       "0      카카오페이 오프라인 확장..'카카오페이 카드' 10일 나온다   \n",
       "1                            카카오페이 카드 출시   \n",
       "2                카카오페이, 체크카드 출시..오프라인 진출   \n",
       "3                  오프라인 결제 '카카오페이 카드' 출시   \n",
       "4              '카카오페이 카드' 출시.. 다양한 혜택 제공   \n",
       "...                                  ...   \n",
       "18382        파리바게뜨, 새해 1월 ‘파바데이’ 프로모션 진행   \n",
       "18383  용인시, 청년 전세보증금 반환보증 보증료 최대 30만원 지원   \n",
       "18384      2금융 대출문턱 막히자… 금융당국 유연하게 대응 당부   \n",
       "18385           내년부터 '깜깜이' 간편결제 수수료 공시된다   \n",
       "18386  파리바게뜨, 1월1일 '파바데이'서 3000원 할인 받으세요   \n",
       "\n",
       "                                                       2  \n",
       "0      [카카오페이 카드 2종 온라인 간판결제 '카카오페이'가 '카카오페이 카드'를 출시하...  \n",
       "1      [카카오페이(대표 류영준)는 다양한 온·오프라인 혜택을 담은 혼합형 핀테크 상품 '...  \n",
       "2      [            【서울=뉴시스】카카오페이는 다양한 온·오프라인 혜택을 담은 ...  \n",
       "3      [카카오페이 카드 2종             온라인 간판결제 '카카오페이'가 '카카...  \n",
       "4      [ 이용금액 0.3% 자동 적립, 롯데 ATM 무료 출금 가능카카오페이가 다양한 온...  \n",
       "...                                                  ...  \n",
       "18382  [ 1만5000원 이상 구매 시 3000원 혜택설 선물 연계 2만원 이상 구매시 5...  \n",
       "18383  [            용인청년 전세보증금 반환보증 보증료 지원사업 홍보 포스터  ...  \n",
       "18384  [            2금융권을 중심으로 서민들의 자금조달이 어려워지자 금융당국이...  \n",
       "18385  [ 금감원, 전자금융업자 수수료 공시 가이드라인 시행네이버페이, 카카오페이 10개사...  \n",
       "18386  [ 1월1일 하루, 1만5000원 이상 구매 시 3천원 혜택            파...  \n",
       "\n",
       "[18387 rows x 4 columns]"
      ]
     },
     "execution_count": 4,
     "metadata": {},
     "output_type": "execute_result"
    }
   ],
   "source": [
    "data"
   ]
  },
  {
   "cell_type": "code",
   "execution_count": 6,
   "metadata": {},
   "outputs": [],
   "source": [
    "from knockknock import discord_sender\n",
    "\n",
    "url = \"https://discord.com/api/webhooks/989774347466047529/c5ZeC8lk3gX8Jq8i77WVuIByZhPyNbTwLPIaY-zQEiH9flKeNcWb6hyUODRUFO0sfnKm\"\n",
    "\n",
    "@discord_sender(webhook_url = url)\n",
    "def tokenization(lst, x):\n",
    "    okt = Okt()\n",
    "    for item in x:\n",
    "        lst.append(okt.nouns(str(item)))\n",
    "    return {\"done\"}"
   ]
  },
  {
   "cell_type": "code",
   "execution_count": 8,
   "metadata": {},
   "outputs": [
    {
     "name": "stdout",
     "output_type": "stream",
     "text": [
      "model build\n"
     ]
    }
   ],
   "source": [
    "arti_token_lst = []\n",
    "tokenization(arti_token_lst, data['2'])"
   ]
  },
  {
   "cell_type": "code",
   "execution_count": 26,
   "metadata": {},
   "outputs": [],
   "source": [
    "from gensim.models import Word2Vec\n",
    "model = Word2Vec(sentences=arti_token_lst, window=30, min_count=10, workers=8, sg=0)"
   ]
  },
  {
   "cell_type": "code",
   "execution_count": 27,
   "metadata": {},
   "outputs": [],
   "source": [
    "from gensim.models import KeyedVectors\n",
    "model.save(f'../result/daum_{datetime.datetime.now().strftime(\"%m_%d_%H\")}_w2v_30_10') # 모델 저장"
   ]
  },
  {
   "cell_type": "code",
   "execution_count": 45,
   "metadata": {},
   "outputs": [
    {
     "data": {
      "text/plain": [
       "[('더욱', 0.6465670466423035),\n",
       " ('한편', 0.6170275807380676),\n",
       " ('향후', 0.5875855684280396),\n",
       " ('노력', 0.5597739815711975),\n",
       " ('편의', 0.5270146727561951),\n",
       " ('향상', 0.5015735030174255),\n",
       " ('중심', 0.5002095699310303),\n",
       " ('가속', 0.4955284893512726),\n",
       " ('안정', 0.4827187657356262),\n",
       " ('기여', 0.4800250828266144)]"
      ]
     },
     "execution_count": 45,
     "metadata": {},
     "output_type": "execute_result"
    }
   ],
   "source": [
    "model.wv.most_similar(\"지속\")"
   ]
  }
 ],
 "metadata": {
  "kernelspec": {
   "display_name": "base",
   "language": "python",
   "name": "python3"
  },
  "language_info": {
   "codemirror_mode": {
    "name": "ipython",
    "version": 3
   },
   "file_extension": ".py",
   "mimetype": "text/x-python",
   "name": "python",
   "nbconvert_exporter": "python",
   "pygments_lexer": "ipython3",
   "version": "3.8.15 (default, Nov 11 2022, 14:08:18) \n[GCC 11.2.0]"
  },
  "orig_nbformat": 4,
  "vscode": {
   "interpreter": {
    "hash": "6632c70ce360d611e847e5318887868e2366d56c00e5f501b5a0b067a934dfe7"
   }
  }
 },
 "nbformat": 4,
 "nbformat_minor": 2
}
