{
 "cells": [
  {
   "cell_type": "code",
   "execution_count": 1,
   "metadata": {},
   "outputs": [],
   "source": [
    "import pandas as pd"
   ]
  },
  {
   "cell_type": "code",
   "execution_count": 4,
   "metadata": {},
   "outputs": [],
   "source": [
    "clien = pd.read_excel(\"../../data/클리앙 게시글.xlsx\")\n",
    "clien_comments = pd.read_excel(\"../../data/clien_comments.xlsx\")"
   ]
  },
  {
   "cell_type": "code",
   "execution_count": 23,
   "metadata": {},
   "outputs": [],
   "source": [
    "clien.drop_duplicates(['제목', '내용 / 댓글']).drop('No.', axis = 1).reset_index(drop = True).to_csv(\"../../data/clien.csv\")"
   ]
  },
  {
   "cell_type": "code",
   "execution_count": 31,
   "metadata": {},
   "outputs": [],
   "source": [
    "clien_comments.to_csv(\"../../data/clien_comments.csv\")"
   ]
  },
  {
   "cell_type": "code",
   "execution_count": 5,
   "metadata": {},
   "outputs": [],
   "source": [
    "clien = pd.read_csv('../../data/clien.csv')"
   ]
  },
  {
   "cell_type": "code",
   "execution_count": 7,
   "metadata": {},
   "outputs": [],
   "source": [
    "clien_comments = pd.read_csv(\"../../data/clien_comments.csv\")"
   ]
  },
  {
   "cell_type": "code",
   "execution_count": 8,
   "metadata": {},
   "outputs": [
    {
     "data": {
      "text/html": [
       "<div>\n",
       "<style scoped>\n",
       "    .dataframe tbody tr th:only-of-type {\n",
       "        vertical-align: middle;\n",
       "    }\n",
       "\n",
       "    .dataframe tbody tr th {\n",
       "        vertical-align: top;\n",
       "    }\n",
       "\n",
       "    .dataframe thead th {\n",
       "        text-align: right;\n",
       "    }\n",
       "</style>\n",
       "<table border=\"1\" class=\"dataframe\">\n",
       "  <thead>\n",
       "    <tr style=\"text-align: right;\">\n",
       "      <th></th>\n",
       "      <th>Unnamed: 0</th>\n",
       "      <th>링크</th>\n",
       "      <th>내용 / 댓글</th>\n",
       "      <th>board</th>\n",
       "    </tr>\n",
       "  </thead>\n",
       "  <tbody>\n",
       "    <tr>\n",
       "      <th>0</th>\n",
       "      <td>0</td>\n",
       "      <td>https://www.clien.net/service/board/cm_iphonie...</td>\n",
       "      <td>네, 네트워크 연결 돼 있어야 작동합니다.</td>\n",
       "      <td>cm_iphoniencilen</td>\n",
       "    </tr>\n",
       "    <tr>\n",
       "      <th>1</th>\n",
       "      <td>1</td>\n",
       "      <td>https://www.clien.net/service/board/cm_iphonie...</td>\n",
       "      <td>저는 시리즈5때는 셀룰러였는데 개통안했었거든요. 연결안해도 잘 됐었습니다어플을 지우...</td>\n",
       "      <td>cm_iphoniencilen</td>\n",
       "    </tr>\n",
       "    <tr>\n",
       "      <th>2</th>\n",
       "      <td>2</td>\n",
       "      <td>https://www.clien.net/service/board/cm_iphonie...</td>\n",
       "      <td>저도 개통안했는데 방금해보니 바코드 나오네요./Vollago</td>\n",
       "      <td>cm_iphoniencilen</td>\n",
       "    </tr>\n",
       "    <tr>\n",
       "      <th>3</th>\n",
       "      <td>3</td>\n",
       "      <td>https://www.clien.net/service/board/cm_iphonie...</td>\n",
       "      <td>아 왜 전 안되는걸가요;;;; 네이버 페이는 잘 되는데요;;</td>\n",
       "      <td>cm_iphoniencilen</td>\n",
       "    </tr>\n",
       "    <tr>\n",
       "      <th>4</th>\n",
       "      <td>4</td>\n",
       "      <td>https://www.clien.net/service/board/cm_iphonie...</td>\n",
       "      <td>전 네이버페이를 주로 씁니다. 네이버멤버십가입하면 씨유 적립 더해주기도 하구요.</td>\n",
       "      <td>cm_iphoniencilen</td>\n",
       "    </tr>\n",
       "    <tr>\n",
       "      <th>...</th>\n",
       "      <td>...</td>\n",
       "      <td>...</td>\n",
       "      <td>...</td>\n",
       "      <td>...</td>\n",
       "    </tr>\n",
       "    <tr>\n",
       "      <th>30711</th>\n",
       "      <td>30711</td>\n",
       "      <td>https://www.clien.net/service/board/use/157019...</td>\n",
       "      <td>장바구니에 넣어놓은 아이템이네요아직 장비가 없어 구매전인데 좋은 정보 감사합니당~</td>\n",
       "      <td>usecilen</td>\n",
       "    </tr>\n",
       "    <tr>\n",
       "      <th>30712</th>\n",
       "      <td>30712</td>\n",
       "      <td>https://www.clien.net/service/board/use/157019...</td>\n",
       "      <td>오잉~ 저 키보드는 광축!</td>\n",
       "      <td>usecilen</td>\n",
       "    </tr>\n",
       "    <tr>\n",
       "      <th>30713</th>\n",
       "      <td>30713</td>\n",
       "      <td>https://www.clien.net/service/board/use/157019...</td>\n",
       "      <td>컴퓨터를 없애고 노트북 + 모니터로 저런식으로 구성해보고 싶은 맘이 굴뚝 같네요. ...</td>\n",
       "      <td>usecilen</td>\n",
       "    </tr>\n",
       "    <tr>\n",
       "      <th>30714</th>\n",
       "      <td>30714</td>\n",
       "      <td>https://www.clien.net/service/board/use/157019...</td>\n",
       "      <td>신기하네요 usb-c 허브들 vga+hdmi 쓰면 둘중에 하나만 나오거나 화면 복제...</td>\n",
       "      <td>usecilen</td>\n",
       "    </tr>\n",
       "    <tr>\n",
       "      <th>30715</th>\n",
       "      <td>30715</td>\n",
       "      <td>https://www.clien.net/service/board/use/156033...</td>\n",
       "      <td>TG 드림시스컴에 들어있던 SSD가 120GB짜리 kingding인데 몇년간 이상없...</td>\n",
       "      <td>usecilen</td>\n",
       "    </tr>\n",
       "  </tbody>\n",
       "</table>\n",
       "<p>30716 rows × 4 columns</p>\n",
       "</div>"
      ],
      "text/plain": [
       "       Unnamed: 0                                                 링크  \\\n",
       "0               0  https://www.clien.net/service/board/cm_iphonie...   \n",
       "1               1  https://www.clien.net/service/board/cm_iphonie...   \n",
       "2               2  https://www.clien.net/service/board/cm_iphonie...   \n",
       "3               3  https://www.clien.net/service/board/cm_iphonie...   \n",
       "4               4  https://www.clien.net/service/board/cm_iphonie...   \n",
       "...           ...                                                ...   \n",
       "30711       30711  https://www.clien.net/service/board/use/157019...   \n",
       "30712       30712  https://www.clien.net/service/board/use/157019...   \n",
       "30713       30713  https://www.clien.net/service/board/use/157019...   \n",
       "30714       30714  https://www.clien.net/service/board/use/157019...   \n",
       "30715       30715  https://www.clien.net/service/board/use/156033...   \n",
       "\n",
       "                                                 내용 / 댓글             board  \n",
       "0                                네, 네트워크 연결 돼 있어야 작동합니다.  cm_iphoniencilen  \n",
       "1      저는 시리즈5때는 셀룰러였는데 개통안했었거든요. 연결안해도 잘 됐었습니다어플을 지우...  cm_iphoniencilen  \n",
       "2                      저도 개통안했는데 방금해보니 바코드 나오네요./Vollago  cm_iphoniencilen  \n",
       "3                      아 왜 전 안되는걸가요;;;; 네이버 페이는 잘 되는데요;;  cm_iphoniencilen  \n",
       "4           전 네이버페이를 주로 씁니다. 네이버멤버십가입하면 씨유 적립 더해주기도 하구요.  cm_iphoniencilen  \n",
       "...                                                  ...               ...  \n",
       "30711      장바구니에 넣어놓은 아이템이네요아직 장비가 없어 구매전인데 좋은 정보 감사합니당~          usecilen  \n",
       "30712                                     오잉~ 저 키보드는 광축!          usecilen  \n",
       "30713  컴퓨터를 없애고 노트북 + 모니터로 저런식으로 구성해보고 싶은 맘이 굴뚝 같네요. ...          usecilen  \n",
       "30714  신기하네요 usb-c 허브들 vga+hdmi 쓰면 둘중에 하나만 나오거나 화면 복제...          usecilen  \n",
       "30715  TG 드림시스컴에 들어있던 SSD가 120GB짜리 kingding인데 몇년간 이상없...          usecilen  \n",
       "\n",
       "[30716 rows x 4 columns]"
      ]
     },
     "execution_count": 8,
     "metadata": {},
     "output_type": "execute_result"
    }
   ],
   "source": [
    "clien_comments"
   ]
  }
 ],
 "metadata": {
  "kernelspec": {
   "display_name": "save_ML",
   "language": "python",
   "name": "save"
  },
  "language_info": {
   "codemirror_mode": {
    "name": "ipython",
    "version": 3
   },
   "file_extension": ".py",
   "mimetype": "text/x-python",
   "name": "python",
   "nbconvert_exporter": "python",
   "pygments_lexer": "ipython3",
   "version": "3.8.15"
  },
  "orig_nbformat": 4,
  "vscode": {
   "interpreter": {
    "hash": "6632c70ce360d611e847e5318887868e2366d56c00e5f501b5a0b067a934dfe7"
   }
  }
 },
 "nbformat": 4,
 "nbformat_minor": 2
}
