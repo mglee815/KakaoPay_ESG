{
 "cells": [
  {
   "cell_type": "markdown",
   "metadata": {},
   "source": [
    "# 딥러닝을 위한 트레인 셋을 직접 만들기로 결정"
   ]
  },
  {
   "cell_type": "markdown",
   "metadata": {},
   "source": [
    "## 직접 파일 다운로드 받아서 눈으로 확인 후 다시 로드"
   ]
  },
  {
   "cell_type": "code",
   "execution_count": null,
   "metadata": {},
   "outputs": [],
   "source": [
    "df_check = pd.read_csv(\"../data/ESG_split/ESG_merge_check.csv\")"
   ]
  },
  {
   "cell_type": "code",
   "execution_count": null,
   "metadata": {},
   "outputs": [],
   "source": [
    "df_check = df_check.dropna()"
   ]
  },
  {
   "cell_type": "code",
   "execution_count": null,
   "metadata": {},
   "outputs": [],
   "source": [
    "df_check = df_check.drop('Unnamed: 0', axis = 1)"
   ]
  },
  {
   "cell_type": "code",
   "execution_count": null,
   "metadata": {},
   "outputs": [],
   "source": [
    "\n",
    "df_check.to_csv(\"../data/ESG_split/ESG_merge_esglabel.csv\")"
   ]
  },
  {
   "cell_type": "code",
   "execution_count": null,
   "metadata": {},
   "outputs": [],
   "source": [
    "news.sample(1000).to_csv(\"../data/ESG_split/ESG_merge_normalabel.csv\")"
   ]
  },
  {
   "cell_type": "code",
   "execution_count": null,
   "metadata": {},
   "outputs": [],
   "source": [
    "df_normal = pd.read_csv(\"../data/ESG_split/ESG_merge_normalabel.csv\")"
   ]
  },
  {
   "cell_type": "code",
   "execution_count": null,
   "metadata": {},
   "outputs": [],
   "source": [
    "df_normal = df_normal.drop(\"Unnamed: 0\", axis = 1).dropna()\n",
    "df_normal['keyword'] = 'normal'"
   ]
  },
  {
   "cell_type": "code",
   "execution_count": null,
   "metadata": {},
   "outputs": [],
   "source": [
    "df = pd.concat([df_check, df_normal])"
   ]
  },
  {
   "cell_type": "code",
   "execution_count": null,
   "metadata": {},
   "outputs": [
    {
     "data": {
      "text/html": [
       "<div>\n",
       "<style scoped>\n",
       "    .dataframe tbody tr th:only-of-type {\n",
       "        vertical-align: middle;\n",
       "    }\n",
       "\n",
       "    .dataframe tbody tr th {\n",
       "        vertical-align: top;\n",
       "    }\n",
       "\n",
       "    .dataframe thead th {\n",
       "        text-align: right;\n",
       "    }\n",
       "</style>\n",
       "<table border=\"1\" class=\"dataframe\">\n",
       "  <thead>\n",
       "    <tr style=\"text-align: right;\">\n",
       "      <th></th>\n",
       "      <th>title</th>\n",
       "      <th>body</th>\n",
       "      <th>key</th>\n",
       "      <th>portal</th>\n",
       "      <th>keyword</th>\n",
       "    </tr>\n",
       "  </thead>\n",
       "  <tbody>\n",
       "    <tr>\n",
       "      <th>0</th>\n",
       "      <td>카카오페이-서울시, 소상공인 풍수해보험 가입  MOU</td>\n",
       "      <td>[\\n\\n\\n\\n\\n *재판매 및 DB 금지[서울=뉴시스] 남정현 기자 = 카카오페...</td>\n",
       "      <td>003/0011447729</td>\n",
       "      <td>naver</td>\n",
       "      <td>풍수해보험MOU</td>\n",
       "    </tr>\n",
       "    <tr>\n",
       "      <th>1</th>\n",
       "      <td>풍수해보험 가입하세요…서울시, 소상공인 전액 지원</td>\n",
       "      <td>[\\n기사내용 요약SK쉴더스 5억·카카오페이 3억 기부최대 8만 소상공인들 혜택 받...</td>\n",
       "      <td>003/0011447554</td>\n",
       "      <td>naver</td>\n",
       "      <td>풍수해보험MOU</td>\n",
       "    </tr>\n",
       "    <tr>\n",
       "      <th>2</th>\n",
       "      <td>서울시, 영세 소상공인에 풍수해보험료 전액 지원</td>\n",
       "      <td>[\\n\\n\\n\\n\\n[서울경제] 서울시가 서울 소재 소상공인을 대상으로 풍수해보험 ...</td>\n",
       "      <td>011/0004104678</td>\n",
       "      <td>naver</td>\n",
       "      <td>풍수해보험MOU</td>\n",
       "    </tr>\n",
       "    <tr>\n",
       "      <th>3</th>\n",
       "      <td>카카오페이, 서울 소상공인 풍수해보험 무료 접수</td>\n",
       "      <td>[\\n\\n\\n\\n\\n[서울=뉴시스] 남정현 기자 = 카카오페이가 서울 소상공인을 대...</td>\n",
       "      <td>003/0011537506</td>\n",
       "      <td>naver</td>\n",
       "      <td>풍수해보험MOU</td>\n",
       "    </tr>\n",
       "    <tr>\n",
       "      <th>4</th>\n",
       "      <td>카카오페이, 서울 소상공인 풍수해보험 무료 접수</td>\n",
       "      <td>[\\n\\n\\n\\n\\n[서울=뉴시스] 남정현 기자 = 카카오페이가 서울 소상공인을 대...</td>\n",
       "      <td>003/0011537506</td>\n",
       "      <td>naver</td>\n",
       "      <td>풍수해보험MOU</td>\n",
       "    </tr>\n",
       "    <tr>\n",
       "      <th>...</th>\n",
       "      <td>...</td>\n",
       "      <td>...</td>\n",
       "      <td>...</td>\n",
       "      <td>...</td>\n",
       "      <td>...</td>\n",
       "    </tr>\n",
       "    <tr>\n",
       "      <th>574</th>\n",
       "      <td>스피드뉴스 IT 업체가 주도하는 금융 혁신을 의미하는 말은?</td>\n",
       "      <td>[\\n\\t\\t\\tIT 업체가 주도하는 금융 혁신을 의미하는 말은?ㅌㅋㅍ버트너/ 윤용...</td>\n",
       "      <td>052/0001451097</td>\n",
       "      <td>naver</td>\n",
       "      <td>normal</td>\n",
       "    </tr>\n",
       "    <tr>\n",
       "      <th>575</th>\n",
       "      <td>삼성페이에서도 P2P 투자…테라펀딩, 삼성페이 플랫폼에 입점</td>\n",
       "      <td>[\\n\\t\\t\\t(서울=연합뉴스) 김경윤 기자 = 삼성페이에서도 손쉽게 P2P(개인...</td>\n",
       "      <td>001/0010489493</td>\n",
       "      <td>naver</td>\n",
       "      <td>normal</td>\n",
       "    </tr>\n",
       "    <tr>\n",
       "      <th>576</th>\n",
       "      <td>카카오, 모든 서비스 통합...주요 쇼핑몰서 로그인·결제 가능</td>\n",
       "      <td>[\\n\\n\\n\\n\\n카카오가 주요 서비스 API를 공개, 비즈니스 모델 통합에 나선...</td>\n",
       "      <td>030/0002706798</td>\n",
       "      <td>naver</td>\n",
       "      <td>normal</td>\n",
       "    </tr>\n",
       "    <tr>\n",
       "      <th>577</th>\n",
       "      <td>한국핀테크산업협회, 이달 20-21일 핀테크 컨퍼런스 개최</td>\n",
       "      <td>[한국핀테크산업협기 오는 20일부터 21일까지 이틀동안 여의도 콘래드 호텔에서 '2...</td>\n",
       "      <td>https://v.daum.net/v/20181102101200225</td>\n",
       "      <td>daum</td>\n",
       "      <td>normal</td>\n",
       "    </tr>\n",
       "    <tr>\n",
       "      <th>578</th>\n",
       "      <td>카카오뱅크, 시니어 대상 '금융안심보험 무료 가입' 이벤트</td>\n",
       "      <td>[\\n만 50세 이상 시니어 고객 대상...19만명 지원비대면 금융피해 발생시 '회...</td>\n",
       "      <td>018/0005387480</td>\n",
       "      <td>naver</td>\n",
       "      <td>normal</td>\n",
       "    </tr>\n",
       "  </tbody>\n",
       "</table>\n",
       "<p>930 rows × 5 columns</p>\n",
       "</div>"
      ],
      "text/plain": [
       "                                  title  \\\n",
       "0         카카오페이-서울시, 소상공인 풍수해보험 가입  MOU   \n",
       "1           풍수해보험 가입하세요…서울시, 소상공인 전액 지원   \n",
       "2            서울시, 영세 소상공인에 풍수해보험료 전액 지원   \n",
       "3            카카오페이, 서울 소상공인 풍수해보험 무료 접수   \n",
       "4            카카오페이, 서울 소상공인 풍수해보험 무료 접수   \n",
       "..                                  ...   \n",
       "574   스피드뉴스 IT 업체가 주도하는 금융 혁신을 의미하는 말은?   \n",
       "575   삼성페이에서도 P2P 투자…테라펀딩, 삼성페이 플랫폼에 입점   \n",
       "576  카카오, 모든 서비스 통합...주요 쇼핑몰서 로그인·결제 가능   \n",
       "577    한국핀테크산업협회, 이달 20-21일 핀테크 컨퍼런스 개최   \n",
       "578    카카오뱅크, 시니어 대상 '금융안심보험 무료 가입' 이벤트   \n",
       "\n",
       "                                                  body  \\\n",
       "0    [\\n\\n\\n\\n\\n *재판매 및 DB 금지[서울=뉴시스] 남정현 기자 = 카카오페...   \n",
       "1    [\\n기사내용 요약SK쉴더스 5억·카카오페이 3억 기부최대 8만 소상공인들 혜택 받...   \n",
       "2    [\\n\\n\\n\\n\\n[서울경제] 서울시가 서울 소재 소상공인을 대상으로 풍수해보험 ...   \n",
       "3    [\\n\\n\\n\\n\\n[서울=뉴시스] 남정현 기자 = 카카오페이가 서울 소상공인을 대...   \n",
       "4    [\\n\\n\\n\\n\\n[서울=뉴시스] 남정현 기자 = 카카오페이가 서울 소상공인을 대...   \n",
       "..                                                 ...   \n",
       "574  [\\n\\t\\t\\tIT 업체가 주도하는 금융 혁신을 의미하는 말은?ㅌㅋㅍ버트너/ 윤용...   \n",
       "575  [\\n\\t\\t\\t(서울=연합뉴스) 김경윤 기자 = 삼성페이에서도 손쉽게 P2P(개인...   \n",
       "576  [\\n\\n\\n\\n\\n카카오가 주요 서비스 API를 공개, 비즈니스 모델 통합에 나선...   \n",
       "577  [한국핀테크산업협기 오는 20일부터 21일까지 이틀동안 여의도 콘래드 호텔에서 '2...   \n",
       "578  [\\n만 50세 이상 시니어 고객 대상...19만명 지원비대면 금융피해 발생시 '회...   \n",
       "\n",
       "                                        key portal   keyword  \n",
       "0                            003/0011447729  naver  풍수해보험MOU  \n",
       "1                            003/0011447554  naver  풍수해보험MOU  \n",
       "2                            011/0004104678  naver  풍수해보험MOU  \n",
       "3                            003/0011537506  naver  풍수해보험MOU  \n",
       "4                            003/0011537506  naver  풍수해보험MOU  \n",
       "..                                      ...    ...       ...  \n",
       "574                          052/0001451097  naver    normal  \n",
       "575                          001/0010489493  naver    normal  \n",
       "576                          030/0002706798  naver    normal  \n",
       "577  https://v.daum.net/v/20181102101200225   daum    normal  \n",
       "578                          018/0005387480  naver    normal  \n",
       "\n",
       "[930 rows x 5 columns]"
      ]
     },
     "metadata": {},
     "output_type": "display_data"
    }
   ],
   "source": [
    "df"
   ]
  },
  {
   "cell_type": "code",
   "execution_count": null,
   "metadata": {},
   "outputs": [],
   "source": [
    "from konlpy.tag import Okt\n",
    "okt = Okt()"
   ]
  },
  {
   "cell_type": "code",
   "execution_count": null,
   "metadata": {},
   "outputs": [],
   "source": [
    "def tokenizing(x):\n",
    "    x = str(x)\n",
    "    if len(x) < 3000:\n",
    "        return okt.nouns(x)\n",
    "    else:\n",
    "        return ['Too Long']"
   ]
  },
  {
   "cell_type": "code",
   "execution_count": null,
   "metadata": {},
   "outputs": [],
   "source": [
    "df.to_csv(\"../data/ESG_split/ESG_label.csv\")"
   ]
  },
  {
   "cell_type": "code",
   "execution_count": null,
   "metadata": {},
   "outputs": [],
   "source": [
    "df['token'] = df['body'].apply(lambda x : tokenizing(x))"
   ]
  },
  {
   "cell_type": "code",
   "execution_count": null,
   "metadata": {},
   "outputs": [],
   "source": [
    "df = df.reset_index(drop = True)"
   ]
  },
  {
   "cell_type": "code",
   "execution_count": null,
   "metadata": {},
   "outputs": [],
   "source": [
    "df.to_csv(\"../data/ESG_split/ESG_label_token.csv\")"
   ]
  }
 ],
 "metadata": {
  "kernelspec": {
   "display_name": "base",
   "language": "python",
   "name": "python3"
  },
  "language_info": {
   "name": "python",
   "version": "3.8.15"
  },
  "orig_nbformat": 4,
  "vscode": {
   "interpreter": {
    "hash": "6632c70ce360d611e847e5318887868e2366d56c00e5f501b5a0b067a934dfe7"
   }
  }
 },
 "nbformat": 4,
 "nbformat_minor": 2
}
