{
 "cells": [
  {
   "cell_type": "code",
   "execution_count": 1,
   "id": "f14d8f86-2642-464c-9138-38abf2e90d79",
   "metadata": {},
   "outputs": [],
   "source": [
    "# !pip install webdriver_manager"
   ]
  },
  {
   "cell_type": "code",
   "execution_count": 191,
   "id": "21439254-44ee-4a91-a411-0d0ba272b48e",
   "metadata": {},
   "outputs": [],
   "source": [
    "#크롤링시 필요한 라이브러리 불러오기\n",
    "import pandas as pd\n",
    "\n",
    "from bs4 import BeautifulSoup\n",
    "import requests\n",
    "import re\n",
    "import time\n",
    "from selenium import webdriver\n",
    "from selenium.webdriver.common.by import By\n",
    "from webdriver_manager.chrome import ChromeDriverManager\n",
    "from tqdm import tqdm\n",
    "\n",
    "\n",
    "#웹드라이버 설정\n",
    "options = webdriver.ChromeOptions()\n",
    "options.add_experimental_option(\"excludeSwitches\", [\"enable-automation\"])\n",
    "options.add_experimental_option(\"useAutomationExtension\", False)"
   ]
  },
  {
   "cell_type": "code",
   "execution_count": 203,
   "id": "966ebbce-2aa2-48ce-9929-56f2c9790404",
   "metadata": {
    "tags": []
   },
   "outputs": [],
   "source": [
    "search_urls = []\n",
    "\n",
    "st = 20190101000000\n",
    "month = 100000000\n",
    "\n",
    "while st < 20229000000000:\n",
    "    for m in range(11):\n",
    "        end = st + month\n",
    "        for p in range(80):\n",
    "            search_urls.append('https://search.daum.net/search?DA=STC&ed=' + str(end) + '&https_on=on&nil_suggest=btn&p=' + str(p+1) + '&period=u&q=카카오페이&sd=' + str(st) + '&w=news')\n",
    "        st = end\n",
    "    end = st + 30000000\n",
    "    for p in range(80):\n",
    "            search_urls.append('https://search.daum.net/search?DA=STC&ed=' + str(end) + '&https_on=on&nil_suggest=btn&p=' + str(p+1) + '&period=u&q=카카오페이&sd=' + str(st) + '&w=news') #%20ESG\n",
    "    st = st + 8900000000\n",
    "\n"
   ]
  },
  {
   "cell_type": "code",
   "execution_count": 204,
   "id": "4e4d0233-8c64-416e-b54f-bd95232c0686",
   "metadata": {},
   "outputs": [
    {
     "data": {
      "text/plain": [
       "['https://search.daum.net/search?DA=STC&ed=20221231000000&https_on=on&nil_suggest=btn&p=71&period=u&q=카카오페이&sd=20221201000000&w=news',\n",
       " 'https://search.daum.net/search?DA=STC&ed=20221231000000&https_on=on&nil_suggest=btn&p=72&period=u&q=카카오페이&sd=20221201000000&w=news',\n",
       " 'https://search.daum.net/search?DA=STC&ed=20221231000000&https_on=on&nil_suggest=btn&p=73&period=u&q=카카오페이&sd=20221201000000&w=news',\n",
       " 'https://search.daum.net/search?DA=STC&ed=20221231000000&https_on=on&nil_suggest=btn&p=74&period=u&q=카카오페이&sd=20221201000000&w=news',\n",
       " 'https://search.daum.net/search?DA=STC&ed=20221231000000&https_on=on&nil_suggest=btn&p=75&period=u&q=카카오페이&sd=20221201000000&w=news',\n",
       " 'https://search.daum.net/search?DA=STC&ed=20221231000000&https_on=on&nil_suggest=btn&p=76&period=u&q=카카오페이&sd=20221201000000&w=news',\n",
       " 'https://search.daum.net/search?DA=STC&ed=20221231000000&https_on=on&nil_suggest=btn&p=77&period=u&q=카카오페이&sd=20221201000000&w=news',\n",
       " 'https://search.daum.net/search?DA=STC&ed=20221231000000&https_on=on&nil_suggest=btn&p=78&period=u&q=카카오페이&sd=20221201000000&w=news',\n",
       " 'https://search.daum.net/search?DA=STC&ed=20221231000000&https_on=on&nil_suggest=btn&p=79&period=u&q=카카오페이&sd=20221201000000&w=news',\n",
       " 'https://search.daum.net/search?DA=STC&ed=20221231000000&https_on=on&nil_suggest=btn&p=80&period=u&q=카카오페이&sd=20221201000000&w=news']"
      ]
     },
     "execution_count": 204,
     "metadata": {},
     "output_type": "execute_result"
    }
   ],
   "source": [
    "search_urls[-10:]"
   ]
  },
  {
   "cell_type": "code",
   "execution_count": 209,
   "id": "e20035ed-e3ac-48f4-9ee1-2537d8970a6b",
   "metadata": {
    "tags": []
   },
   "outputs": [
    {
     "name": "stderr",
     "output_type": "stream",
     "text": [
      "<ipython-input-209-fc2638a633d0>:3: DeprecationWarning: executable_path has been deprecated, please pass in a Service object\n",
      "  driver = webdriver.Chrome(ChromeDriverManager().install())\n",
      "100%|██████████████████████████████████████████████████████████████████████████████████| 80/80 [16:46<00:00, 12.58s/it]\n",
      "100%|██████████████████████████████████████████████████████████████████████████████████| 80/80 [16:11<00:00, 12.15s/it]\n",
      "100%|██████████████████████████████████████████████████████████████████████████████████| 80/80 [13:08<00:00,  9.86s/it]\n",
      "100%|██████████████████████████████████████████████████████████████████████████████████| 80/80 [14:36<00:00, 10.96s/it]\n",
      "100%|██████████████████████████████████████████████████████████████████████████████████| 80/80 [14:02<00:00, 10.53s/it]\n",
      "100%|██████████████████████████████████████████████████████████████████████████████████| 80/80 [15:10<00:00, 11.38s/it]\n",
      "100%|██████████████████████████████████████████████████████████████████████████████████| 80/80 [14:57<00:00, 11.22s/it]\n",
      "100%|██████████████████████████████████████████████████████████████████████████████████| 80/80 [13:54<00:00, 10.43s/it]\n",
      "100%|██████████████████████████████████████████████████████████████████████████████████| 80/80 [12:52<00:00,  9.66s/it]\n",
      "100%|██████████████████████████████████████████████████████████████████████████████████| 80/80 [15:22<00:00, 11.53s/it]\n",
      "100%|██████████████████████████████████████████████████████████████████████████████████| 80/80 [15:20<00:00, 11.51s/it]\n",
      "100%|██████████████████████████████████████████████████████████████████████████████████| 80/80 [14:11<00:00, 10.64s/it]\n",
      "100%|██████████████████████████████████████████████████████████████████████████████████| 80/80 [14:03<00:00, 10.54s/it]\n",
      "100%|██████████████████████████████████████████████████████████████████████████████████| 80/80 [14:02<00:00, 10.53s/it]\n",
      "100%|██████████████████████████████████████████████████████████████████████████████████| 80/80 [14:47<00:00, 11.10s/it]\n",
      "100%|██████████████████████████████████████████████████████████████████████████████████| 80/80 [13:29<00:00, 10.12s/it]\n",
      "100%|██████████████████████████████████████████████████████████████████████████████████| 80/80 [14:33<00:00, 10.92s/it]\n",
      "100%|██████████████████████████████████████████████████████████████████████████████████| 80/80 [15:15<00:00, 11.45s/it]\n",
      "100%|██████████████████████████████████████████████████████████████████████████████████| 80/80 [17:40<00:00, 13.26s/it]\n",
      "100%|██████████████████████████████████████████████████████████████████████████████████| 80/80 [17:09<00:00, 12.86s/it]\n",
      "100%|██████████████████████████████████████████████████████████████████████████████████| 80/80 [14:23<00:00, 10.79s/it]\n",
      "100%|██████████████████████████████████████████████████████████████████████████████████| 80/80 [15:13<00:00, 11.41s/it]\n",
      "100%|██████████████████████████████████████████████████████████████████████████████████| 80/80 [14:55<00:00, 11.19s/it]\n",
      "100%|██████████████████████████████████████████████████████████████████████████████████| 80/80 [15:35<00:00, 11.69s/it]\n",
      "100%|██████████████████████████████████████████████████████████████████████████████████| 80/80 [15:08<00:00, 11.35s/it]\n",
      "100%|██████████████████████████████████████████████████████████████████████████████████| 80/80 [19:40<00:00, 14.75s/it]\n",
      "100%|██████████████████████████████████████████████████████████████████████████████████| 80/80 [16:11<00:00, 12.15s/it]\n",
      "100%|██████████████████████████████████████████████████████████████████████████████████| 80/80 [17:39<00:00, 13.25s/it]\n",
      "100%|██████████████████████████████████████████████████████████████████████████████████| 80/80 [16:21<00:00, 12.27s/it]\n",
      "100%|██████████████████████████████████████████████████████████████████████████████████| 80/80 [16:14<00:00, 12.18s/it]\n",
      "100%|██████████████████████████████████████████████████████████████████████████████████| 80/80 [14:14<00:00, 10.68s/it]\n",
      "100%|██████████████████████████████████████████████████████████████████████████████████| 80/80 [14:26<00:00, 10.83s/it]\n",
      "100%|██████████████████████████████████████████████████████████████████████████████████| 80/80 [14:25<00:00, 10.81s/it]\n",
      "100%|██████████████████████████████████████████████████████████████████████████████████| 80/80 [14:36<00:00, 10.95s/it]\n",
      "100%|██████████████████████████████████████████████████████████████████████████████████| 80/80 [14:55<00:00, 11.19s/it]\n",
      "100%|██████████████████████████████████████████████████████████████████████████████████| 80/80 [13:08<00:00,  9.85s/it]\n",
      "100%|██████████████████████████████████████████████████████████████████████████████████| 80/80 [15:01<00:00, 11.27s/it]\n",
      "100%|██████████████████████████████████████████████████████████████████████████████████| 80/80 [15:42<00:00, 11.78s/it]\n",
      "100%|██████████████████████████████████████████████████████████████████████████████████| 80/80 [15:20<00:00, 11.51s/it]\n",
      "100%|██████████████████████████████████████████████████████████████████████████████████| 80/80 [14:18<00:00, 10.73s/it]\n",
      "100%|██████████████████████████████████████████████████████████████████████████████████| 80/80 [14:12<00:00, 10.66s/it]\n",
      "100%|██████████████████████████████████████████████████████████████████████████████████| 80/80 [13:45<00:00, 10.31s/it]\n",
      "100%|██████████████████████████████████████████████████████████████████████████████████| 80/80 [14:25<00:00, 10.81s/it]\n",
      "100%|██████████████████████████████████████████████████████████████████████████████████| 80/80 [16:14<00:00, 12.19s/it]\n",
      "100%|██████████████████████████████████████████████████████████████████████████████████| 80/80 [13:30<00:00, 10.13s/it]\n",
      "100%|██████████████████████████████████████████████████████████████████████████████████| 80/80 [16:23<00:00, 12.30s/it]\n",
      "100%|██████████████████████████████████████████████████████████████████████████████████| 80/80 [14:03<00:00, 10.55s/it]\n",
      "100%|██████████████████████████████████████████████████████████████████████████████████| 80/80 [12:49<00:00,  9.61s/it]\n"
     ]
    }
   ],
   "source": [
    "from pyvirtualdisplay import Display\n",
    "\n",
    "driver = webdriver.Chrome(ChromeDriverManager().install())\n",
    "driver.implicitly_wait(3)\n",
    "\n",
    "\n",
    "# selenium으로 검색 페이지 불러오기 #\n",
    "\n",
    "daum_news=[]\n",
    "\n",
    "for i in range(int(len(search_urls) / 80)):\n",
    "    lst = search_urls[i*80 : (i+1)*80]\n",
    "\n",
    "    for url in tqdm(lst):\n",
    "        driver.switch_to.window(driver.window_handles[0])\n",
    "        driver.get(url)\n",
    "        driver.implicitly_wait(0.5) #대기시간 변경 가능\n",
    "\n",
    "        check = driver.find_elements(By.CSS_SELECTOR, '#newsColl > div.cont_divider > ul > li:nth-child(10)')\n",
    "        if len(check) == 1:\n",
    "            \n",
    "            for j in range(1, 11, 1):\n",
    "                driver.switch_to.window(driver.window_handles[0])\n",
    "                path = '#newsColl > div.cont_divider > ul > li:nth-child(' + str(j) + ') > div.wrap_cont > span.cont_info > a:nth-child(3)'\n",
    "                a = driver.find_elements(By.CSS_SELECTOR, path)\n",
    "                if len(a) == 1:\n",
    "                    time.sleep(1)\n",
    "                    a[0].click()\n",
    "                    driver.implicitly_wait(0.5)\n",
    "                    driver.switch_to.window(driver.window_handles[-1])\n",
    "                    driver.implicitly_wait(0.5)\n",
    "                    temp_url = driver.current_url\n",
    "                    daum_news.append(temp_url)\n",
    "                    driver.implicitly_wait(0.5)\n",
    "                    driver.close()\n",
    "                else:\n",
    "                    pass\n",
    "        else:\n",
    "            print(len(check), url)\n",
    "            break"
   ]
  },
  {
   "cell_type": "code",
   "execution_count": 210,
   "id": "acf0e522-3213-4669-9bd9-16c2b0ab40ed",
   "metadata": {},
   "outputs": [],
   "source": [
    "url_df = pd.DataFrame(daum_news)"
   ]
  },
  {
   "cell_type": "code",
   "execution_count": 281,
   "id": "267f8e07-ba74-4e89-be31-4ec595c1c516",
   "metadata": {},
   "outputs": [],
   "source": [
    "daum_urls = pd.DataFrame(url_df.iloc[:,1]).drop_duplicates()\n",
    "daum_urls.reset_index(drop = True, inplace = True)"
   ]
  },
  {
   "cell_type": "code",
   "execution_count": 283,
   "id": "335b3111-8569-437d-85e1-7cb825600b7c",
   "metadata": {},
   "outputs": [
    {
     "data": {
      "text/plain": [
       "0        https://v.daum.net/v/20180105100954077\n",
       "1        https://v.daum.net/v/20180105164004067\n",
       "2        https://v.daum.net/v/20180105101958491\n",
       "3        https://v.daum.net/v/20180105173046721\n",
       "4        https://v.daum.net/v/20180105084208085\n",
       "                          ...                  \n",
       "18382    https://v.daum.net/v/20221230105630139\n",
       "18383    https://v.daum.net/v/20221230071650319\n",
       "18384    https://v.daum.net/v/20221230052321943\n",
       "18385    https://v.daum.net/v/20221228120203288\n",
       "18386    https://v.daum.net/v/20221230091108475\n",
       "Name: 0, Length: 18387, dtype: object"
      ]
     },
     "execution_count": 283,
     "metadata": {},
     "output_type": "execute_result"
    }
   ],
   "source": [
    "daum_urls.iloc[:,0]"
   ]
  },
  {
   "cell_type": "code",
   "execution_count": 247,
   "id": "bf5cde8c-7a5a-4f3f-bac6-5180548b5fb5",
   "metadata": {
    "tags": []
   },
   "outputs": [
    {
     "name": "stderr",
     "output_type": "stream",
     "text": [
      "100%|████████████████████████████████████████████████████████████████████████████| 18387/18387 [53:40<00:00,  5.71it/s]\n"
     ]
    }
   ],
   "source": [
    "headers = { \"User-Agent\": \"Mozilla/5.0 (Windows NT 10.0; Win64; x64) Chrome/98.0.4758.102\" }\n",
    "\n",
    "titles = []\n",
    "contents=[]\n",
    "for i in tqdm(daum_urls['0']):\n",
    "    original_html = requests.get(i,headers=headers)\n",
    "    html = BeautifulSoup(original_html.text, \"html.parser\")\n",
    "    # 검색결과확인시\n",
    "    #print(html)\n",
    "    \n",
    "    #뉴스 제목 가져오기\n",
    "    title = html.select(\"#mArticle > div.head_view > h3\")\n",
    "    # list합치기\n",
    "    title = ''.join(str(title))\n",
    "    # html태그제거\n",
    "    pattern1 = '<[^>]*>'\n",
    "    title = re.sub(pattern=pattern1,repl='',string=title)\n",
    "    title = title.replace('[', \"\")\n",
    "    title = title.replace(']' , \"\")\n",
    "    title = title.replace('\"', '')\n",
    "    #print(title)\n",
    "    titles.append(title)\n",
    "\n",
    "    #뉴스 본문 가져오기\n",
    "\n",
    "    content = html.select(\"#mArticle > div.news_view.fs_type1\")\n",
    "\n",
    "    # 기사 텍스트만 가져오기\n",
    "    # list합치기\n",
    "    content = ''.join(str(content))\n",
    "    \n",
    "    #html태그제거 및 텍스트 다듬기\n",
    "    content = re.sub(pattern=pattern1,repl='',string=content)\n",
    "    pattern2 = \"\"\"[\\n\\n\\n\\n\\n// flash 오류를 우회하기 위한 함수 추가\\nfunction _flash_removeCallback() {}\"\"\"\n",
    "    content = content.replace(pattern2,'')\n",
    "    content = content.replace('\\n', '')\n",
    "    \n",
    "    #print(content)\n",
    "    contents.append(content)"
   ]
  },
  {
   "cell_type": "code",
   "execution_count": 291,
   "id": "95b26807-434f-4a9f-895d-161be81678e3",
   "metadata": {},
   "outputs": [],
   "source": [
    "lst = []\n",
    "\n",
    "for u, t, b  in zip(daum_urls['0'], titles, contents):\n",
    "    lst.append((u,t,b))"
   ]
  },
  {
   "cell_type": "code",
   "execution_count": 293,
   "id": "4a4faf4e-62af-4807-80e6-ec3dd6166f98",
   "metadata": {
    "tags": []
   },
   "outputs": [],
   "source": [
    "news_data = pd.DataFrame(lst)"
   ]
  },
  {
   "cell_type": "code",
   "execution_count": 294,
   "id": "b7e1b25c-e48d-4118-aa6c-430e9ec5fdf2",
   "metadata": {
    "tags": []
   },
   "outputs": [
    {
     "data": {
      "text/html": [
       "<div>\n",
       "<style scoped>\n",
       "    .dataframe tbody tr th:only-of-type {\n",
       "        vertical-align: middle;\n",
       "    }\n",
       "\n",
       "    .dataframe tbody tr th {\n",
       "        vertical-align: top;\n",
       "    }\n",
       "\n",
       "    .dataframe thead th {\n",
       "        text-align: right;\n",
       "    }\n",
       "</style>\n",
       "<table border=\"1\" class=\"dataframe\">\n",
       "  <thead>\n",
       "    <tr style=\"text-align: right;\">\n",
       "      <th></th>\n",
       "      <th>0</th>\n",
       "      <th>1</th>\n",
       "      <th>2</th>\n",
       "    </tr>\n",
       "  </thead>\n",
       "  <tbody>\n",
       "    <tr>\n",
       "      <th>0</th>\n",
       "      <td>https://v.daum.net/v/20180105100954077</td>\n",
       "      <td>카카오페이 오프라인 확장..'카카오페이 카드' 10일 나온다</td>\n",
       "      <td>[카카오페이 카드 2종 온라인 간판결제 '카카오페이'가 '카카오페이 카드'를 출시하...</td>\n",
       "    </tr>\n",
       "    <tr>\n",
       "      <th>1</th>\n",
       "      <td>https://v.daum.net/v/20180105164004067</td>\n",
       "      <td>카카오페이 카드 출시</td>\n",
       "      <td>[카카오페이(대표 류영준)는 다양한 온·오프라인 혜택을 담은 혼합형 핀테크 상품 '...</td>\n",
       "    </tr>\n",
       "    <tr>\n",
       "      <th>2</th>\n",
       "      <td>https://v.daum.net/v/20180105101958491</td>\n",
       "      <td>카카오페이, 체크카드 출시..오프라인 진출</td>\n",
       "      <td>[            【서울=뉴시스】카카오페이는 다양한 온·오프라인 혜택을 담은 ...</td>\n",
       "    </tr>\n",
       "    <tr>\n",
       "      <th>3</th>\n",
       "      <td>https://v.daum.net/v/20180105173046721</td>\n",
       "      <td>오프라인 결제 '카카오페이 카드' 출시</td>\n",
       "      <td>[카카오페이 카드 2종             온라인 간판결제 '카카오페이'가 '카카...</td>\n",
       "    </tr>\n",
       "    <tr>\n",
       "      <th>4</th>\n",
       "      <td>https://v.daum.net/v/20180105084208085</td>\n",
       "      <td>'카카오페이 카드' 출시.. 다양한 혜택 제공</td>\n",
       "      <td>[ 이용금액 0.3% 자동 적립, 롯데 ATM 무료 출금 가능카카오페이가 다양한 온...</td>\n",
       "    </tr>\n",
       "    <tr>\n",
       "      <th>...</th>\n",
       "      <td>...</td>\n",
       "      <td>...</td>\n",
       "      <td>...</td>\n",
       "    </tr>\n",
       "    <tr>\n",
       "      <th>18382</th>\n",
       "      <td>https://v.daum.net/v/20221230105630139</td>\n",
       "      <td>파리바게뜨, 새해 1월 ‘파바데이’ 프로모션 진행</td>\n",
       "      <td>[ 1만5000원 이상 구매 시 3000원 혜택설 선물 연계 2만원 이상 구매시 5...</td>\n",
       "    </tr>\n",
       "    <tr>\n",
       "      <th>18383</th>\n",
       "      <td>https://v.daum.net/v/20221230071650319</td>\n",
       "      <td>용인시, 청년 전세보증금 반환보증 보증료 최대 30만원 지원</td>\n",
       "      <td>[            용인청년 전세보증금 반환보증 보증료 지원사업 홍보 포스터  ...</td>\n",
       "    </tr>\n",
       "    <tr>\n",
       "      <th>18384</th>\n",
       "      <td>https://v.daum.net/v/20221230052321943</td>\n",
       "      <td>2금융 대출문턱 막히자… 금융당국 유연하게 대응 당부</td>\n",
       "      <td>[            2금융권을 중심으로 서민들의 자금조달이 어려워지자 금융당국이...</td>\n",
       "    </tr>\n",
       "    <tr>\n",
       "      <th>18385</th>\n",
       "      <td>https://v.daum.net/v/20221228120203288</td>\n",
       "      <td>내년부터 '깜깜이' 간편결제 수수료 공시된다</td>\n",
       "      <td>[ 금감원, 전자금융업자 수수료 공시 가이드라인 시행네이버페이, 카카오페이 10개사...</td>\n",
       "    </tr>\n",
       "    <tr>\n",
       "      <th>18386</th>\n",
       "      <td>https://v.daum.net/v/20221230091108475</td>\n",
       "      <td>파리바게뜨, 1월1일 '파바데이'서 3000원 할인 받으세요</td>\n",
       "      <td>[ 1월1일 하루, 1만5000원 이상 구매 시 3천원 혜택            파...</td>\n",
       "    </tr>\n",
       "  </tbody>\n",
       "</table>\n",
       "<p>18387 rows × 3 columns</p>\n",
       "</div>"
      ],
      "text/plain": [
       "                                            0  \\\n",
       "0      https://v.daum.net/v/20180105100954077   \n",
       "1      https://v.daum.net/v/20180105164004067   \n",
       "2      https://v.daum.net/v/20180105101958491   \n",
       "3      https://v.daum.net/v/20180105173046721   \n",
       "4      https://v.daum.net/v/20180105084208085   \n",
       "...                                       ...   \n",
       "18382  https://v.daum.net/v/20221230105630139   \n",
       "18383  https://v.daum.net/v/20221230071650319   \n",
       "18384  https://v.daum.net/v/20221230052321943   \n",
       "18385  https://v.daum.net/v/20221228120203288   \n",
       "18386  https://v.daum.net/v/20221230091108475   \n",
       "\n",
       "                                       1  \\\n",
       "0      카카오페이 오프라인 확장..'카카오페이 카드' 10일 나온다   \n",
       "1                            카카오페이 카드 출시   \n",
       "2                카카오페이, 체크카드 출시..오프라인 진출   \n",
       "3                  오프라인 결제 '카카오페이 카드' 출시   \n",
       "4              '카카오페이 카드' 출시.. 다양한 혜택 제공   \n",
       "...                                  ...   \n",
       "18382        파리바게뜨, 새해 1월 ‘파바데이’ 프로모션 진행   \n",
       "18383  용인시, 청년 전세보증금 반환보증 보증료 최대 30만원 지원   \n",
       "18384      2금융 대출문턱 막히자… 금융당국 유연하게 대응 당부   \n",
       "18385           내년부터 '깜깜이' 간편결제 수수료 공시된다   \n",
       "18386  파리바게뜨, 1월1일 '파바데이'서 3000원 할인 받으세요   \n",
       "\n",
       "                                                       2  \n",
       "0      [카카오페이 카드 2종 온라인 간판결제 '카카오페이'가 '카카오페이 카드'를 출시하...  \n",
       "1      [카카오페이(대표 류영준)는 다양한 온·오프라인 혜택을 담은 혼합형 핀테크 상품 '...  \n",
       "2      [            【서울=뉴시스】카카오페이는 다양한 온·오프라인 혜택을 담은 ...  \n",
       "3      [카카오페이 카드 2종             온라인 간판결제 '카카오페이'가 '카카...  \n",
       "4      [ 이용금액 0.3% 자동 적립, 롯데 ATM 무료 출금 가능카카오페이가 다양한 온...  \n",
       "...                                                  ...  \n",
       "18382  [ 1만5000원 이상 구매 시 3000원 혜택설 선물 연계 2만원 이상 구매시 5...  \n",
       "18383  [            용인청년 전세보증금 반환보증 보증료 지원사업 홍보 포스터  ...  \n",
       "18384  [            2금융권을 중심으로 서민들의 자금조달이 어려워지자 금융당국이...  \n",
       "18385  [ 금감원, 전자금융업자 수수료 공시 가이드라인 시행네이버페이, 카카오페이 10개사...  \n",
       "18386  [ 1월1일 하루, 1만5000원 이상 구매 시 3천원 혜택            파...  \n",
       "\n",
       "[18387 rows x 3 columns]"
      ]
     },
     "execution_count": 294,
     "metadata": {},
     "output_type": "execute_result"
    }
   ],
   "source": [
    "news_data"
   ]
  },
  {
   "cell_type": "code",
   "execution_count": 295,
   "id": "fe72367d-5336-41e6-ae0f-779acc45da48",
   "metadata": {},
   "outputs": [],
   "source": [
    "news_data.to_csv(\"./KP_daum_monthlyTop800_body.csv\")"
   ]
  }
 ],
 "metadata": {
  "kernelspec": {
   "display_name": "base",
   "language": "python",
   "name": "python3"
  },
  "language_info": {
   "codemirror_mode": {
    "name": "ipython",
    "version": 3
   },
   "file_extension": ".py",
   "mimetype": "text/x-python",
   "name": "python",
   "nbconvert_exporter": "python",
   "pygments_lexer": "ipython3",
   "version": "3.8.15 (default, Nov 11 2022, 14:08:18) \n[GCC 11.2.0]"
  },
  "vscode": {
   "interpreter": {
    "hash": "6632c70ce360d611e847e5318887868e2366d56c00e5f501b5a0b067a934dfe7"
   }
  }
 },
 "nbformat": 4,
 "nbformat_minor": 5
}
