{
 "cells": [
  {
   "cell_type": "code",
   "execution_count": 114,
   "metadata": {},
   "outputs": [],
   "source": [
    "import pandas as pd"
   ]
  },
  {
   "cell_type": "code",
   "execution_count": 115,
   "metadata": {},
   "outputs": [],
   "source": [
    "naver_TB = pd.read_csv(\"../data/KP_naver_monthlyTop4000_TB.csv\")"
   ]
  },
  {
   "cell_type": "code",
   "execution_count": 116,
   "metadata": {},
   "outputs": [],
   "source": [
    "naver_comment = pd.read_csv(\"../data/KP_naver_comments_monthlyTop4000.csv\")"
   ]
  },
  {
   "cell_type": "code",
   "execution_count": 117,
   "metadata": {},
   "outputs": [],
   "source": [
    "naver_TB.columns = ['index', 'url', 'title', 'body']"
   ]
  },
  {
   "cell_type": "code",
   "execution_count": 118,
   "metadata": {},
   "outputs": [],
   "source": [
    "naver_TB = naver_TB.drop('index', axis = 1)"
   ]
  },
  {
   "cell_type": "code",
   "execution_count": 119,
   "metadata": {},
   "outputs": [],
   "source": [
    "naver_TB = naver_TB.drop_duplicates().reset_index(drop = True)"
   ]
  },
  {
   "cell_type": "code",
   "execution_count": 120,
   "metadata": {},
   "outputs": [],
   "source": [
    "naver_comment = naver_comment.drop('Unnamed: 0', axis = 1).drop_duplicates().reset_index(drop = True)"
   ]
  },
  {
   "cell_type": "code",
   "execution_count": 121,
   "metadata": {},
   "outputs": [],
   "source": [
    "idx_lst = []\n",
    "for idx, i in naver_TB.iterrows():\n",
    "    if 'sports' in i['url']:\n",
    "        pass\n",
    "    elif 'entertain' in i['url']:\n",
    "        pass\n",
    "    else:\n",
    "        idx_lst.append(idx)"
   ]
  },
  {
   "cell_type": "code",
   "execution_count": 122,
   "metadata": {},
   "outputs": [],
   "source": [
    "naver_TB = naver_TB.iloc[idx_lst,:].reset_index(drop = True)"
   ]
  },
  {
   "cell_type": "code",
   "execution_count": 123,
   "metadata": {},
   "outputs": [],
   "source": [
    "naver_TB['key'] = naver_TB['url'].apply(lambda x : x.split(\"article/\")[1][:-7])"
   ]
  },
  {
   "cell_type": "code",
   "execution_count": 124,
   "metadata": {},
   "outputs": [],
   "source": [
    "naver_comment['key'] = naver_comment['url'].apply(lambda x : x.split(\"comment/\")[1][:-7])"
   ]
  },
  {
   "cell_type": "code",
   "execution_count": 125,
   "metadata": {},
   "outputs": [],
   "source": [
    "temp_idx = list(naver_TB['key'][:5])"
   ]
  },
  {
   "cell_type": "code",
   "execution_count": 126,
   "metadata": {},
   "outputs": [],
   "source": [
    "naver_TB.set_index('key', inplace=True)"
   ]
  },
  {
   "cell_type": "code",
   "execution_count": 131,
   "metadata": {},
   "outputs": [
    {
     "data": {
      "text/html": [
       "<div>\n",
       "<style scoped>\n",
       "    .dataframe tbody tr th:only-of-type {\n",
       "        vertical-align: middle;\n",
       "    }\n",
       "\n",
       "    .dataframe tbody tr th {\n",
       "        vertical-align: top;\n",
       "    }\n",
       "\n",
       "    .dataframe thead th {\n",
       "        text-align: right;\n",
       "    }\n",
       "</style>\n",
       "<table border=\"1\" class=\"dataframe\">\n",
       "  <thead>\n",
       "    <tr style=\"text-align: right;\">\n",
       "      <th></th>\n",
       "      <th>0</th>\n",
       "    </tr>\n",
       "    <tr>\n",
       "      <th>key</th>\n",
       "      <th></th>\n",
       "    </tr>\n",
       "  </thead>\n",
       "  <tbody>\n",
       "    <tr>\n",
       "      <th>001/0008960966?</th>\n",
       "      <td>9</td>\n",
       "    </tr>\n",
       "    <tr>\n",
       "      <th>001/0008964800?</th>\n",
       "      <td>10</td>\n",
       "    </tr>\n",
       "    <tr>\n",
       "      <th>001/0008969233?</th>\n",
       "      <td>35</td>\n",
       "    </tr>\n",
       "    <tr>\n",
       "      <th>001/0009123774?</th>\n",
       "      <td>1</td>\n",
       "    </tr>\n",
       "    <tr>\n",
       "      <th>001/0009337313?</th>\n",
       "      <td>8</td>\n",
       "    </tr>\n",
       "    <tr>\n",
       "      <th>...</th>\n",
       "      <td>...</td>\n",
       "    </tr>\n",
       "    <tr>\n",
       "      <th>662/0000008200?</th>\n",
       "      <td>10</td>\n",
       "    </tr>\n",
       "    <tr>\n",
       "      <th>662/0000008208?</th>\n",
       "      <td>3</td>\n",
       "    </tr>\n",
       "    <tr>\n",
       "      <th>662/0000008209?</th>\n",
       "      <td>1</td>\n",
       "    </tr>\n",
       "    <tr>\n",
       "      <th>662/0000008210?</th>\n",
       "      <td>1</td>\n",
       "    </tr>\n",
       "    <tr>\n",
       "      <th>665/0000000199?</th>\n",
       "      <td>3</td>\n",
       "    </tr>\n",
       "  </tbody>\n",
       "</table>\n",
       "<p>16286 rows × 1 columns</p>\n",
       "</div>"
      ],
      "text/plain": [
       "                  0\n",
       "key                \n",
       "001/0008960966?   9\n",
       "001/0008964800?  10\n",
       "001/0008969233?  35\n",
       "001/0009123774?   1\n",
       "001/0009337313?   8\n",
       "...              ..\n",
       "662/0000008200?  10\n",
       "662/0000008208?   3\n",
       "662/0000008209?   1\n",
       "662/0000008210?   1\n",
       "665/0000000199?   3\n",
       "\n",
       "[16286 rows x 1 columns]"
      ]
     },
     "execution_count": 131,
     "metadata": {},
     "output_type": "execute_result"
    }
   ],
   "source": [
    "pd.DataFrame(naver_comment.groupby(\"key\").size())"
   ]
  },
  {
   "cell_type": "code",
   "execution_count": 135,
   "metadata": {},
   "outputs": [],
   "source": [
    "naver_TB = pd.merge(naver_TB, pd.DataFrame(naver_comment.groupby(\"key\").size()), left_index=True, right_index=True, how = 'left')"
   ]
  },
  {
   "cell_type": "code",
   "execution_count": 139,
   "metadata": {},
   "outputs": [],
   "source": [
    "naver_TB = naver_TB.fillna(0)"
   ]
  },
  {
   "cell_type": "code",
   "execution_count": 145,
   "metadata": {},
   "outputs": [],
   "source": [
    "naver_TB.columns = ['url', 'title', 'body', 'comments']"
   ]
  },
  {
   "cell_type": "code",
   "execution_count": 147,
   "metadata": {},
   "outputs": [
    {
     "data": {
      "text/html": [
       "<div>\n",
       "<style scoped>\n",
       "    .dataframe tbody tr th:only-of-type {\n",
       "        vertical-align: middle;\n",
       "    }\n",
       "\n",
       "    .dataframe tbody tr th {\n",
       "        vertical-align: top;\n",
       "    }\n",
       "\n",
       "    .dataframe thead th {\n",
       "        text-align: right;\n",
       "    }\n",
       "</style>\n",
       "<table border=\"1\" class=\"dataframe\">\n",
       "  <thead>\n",
       "    <tr style=\"text-align: right;\">\n",
       "      <th></th>\n",
       "      <th>url</th>\n",
       "      <th>title</th>\n",
       "      <th>body</th>\n",
       "      <th>comments</th>\n",
       "    </tr>\n",
       "    <tr>\n",
       "      <th>key</th>\n",
       "      <th></th>\n",
       "      <th></th>\n",
       "      <th></th>\n",
       "      <th></th>\n",
       "    </tr>\n",
       "  </thead>\n",
       "  <tbody>\n",
       "    <tr>\n",
       "      <th>023/0003589070?</th>\n",
       "      <td>https://n.news.naver.com/mnews/article/023/000...</td>\n",
       "      <td>“코로나로 이익 봤으면 나눠야” 이낙연 이익공유제 꺼냈다</td>\n",
       "      <td>[\\n\\n\\n\\n\\n더불어민주당 이낙연대표가 11일 서울 여의도 국회에서 열린 최고...</td>\n",
       "      <td>5574.0</td>\n",
       "    </tr>\n",
       "    <tr>\n",
       "      <th>011/0003517888?</th>\n",
       "      <td>https://n.news.naver.com/mnews/article/011/000...</td>\n",
       "      <td>뒷북경제 신용카드 소득공제·경유세···‘서민증세’ 반발 넘을 수 있을까</td>\n",
       "      <td>[\\n\\t\\t\\t[서울경제] 정부가 신용카드 소득공제를 줄이고 미세먼지 대책으로 경...</td>\n",
       "      <td>2081.0</td>\n",
       "    </tr>\n",
       "    <tr>\n",
       "      <th>009/0004849518?</th>\n",
       "      <td>https://n.news.naver.com/mnews/article/009/000...</td>\n",
       "      <td>주주들 난리났다…거침없던 네이버 카카오 대폭락…도대체 무슨 일</td>\n",
       "      <td>[\\n\\n\\n\\n\\n  거침없이 질주하던 네이버 카카오 주가가 폭락하고 있다.정치권...</td>\n",
       "      <td>1648.0</td>\n",
       "    </tr>\n",
       "    <tr>\n",
       "      <th>015/0004600863?</th>\n",
       "      <td>https://n.news.naver.com/mnews/article/015/000...</td>\n",
       "      <td>월세방 사는데 재난지원금 못 받는다니… 직장인들 아우성</td>\n",
       "      <td>[\\n국민지원금 신청 첫 날 곳곳서 '볼멘소리'\"실제 살림살이 제대로 반영 안 돼\"...</td>\n",
       "      <td>1522.0</td>\n",
       "    </tr>\n",
       "    <tr>\n",
       "      <th>016/0002059622?</th>\n",
       "      <td>https://n.news.naver.com/mnews/article/016/000...</td>\n",
       "      <td>“4억원 넣었는데 반토막” 전 직원 ‘신불자’ 위기 난리난 대기업</td>\n",
       "      <td>[\\n\\n\\n\\n\\n[게티이미지뱅크][헤럴드경제=홍승희 기자] “영끌(영혼을 끌어모...</td>\n",
       "      <td>1302.0</td>\n",
       "    </tr>\n",
       "    <tr>\n",
       "      <th>...</th>\n",
       "      <td>...</td>\n",
       "      <td>...</td>\n",
       "      <td>...</td>\n",
       "      <td>...</td>\n",
       "    </tr>\n",
       "    <tr>\n",
       "      <th>021/0002462585?</th>\n",
       "      <td>https://n.news.naver.com/mnews/article/021/000...</td>\n",
       "      <td>류영준 카카오페이 대표 “대형주, 소수점 단위로 매매하게 해달라”</td>\n",
       "      <td>[\\n국회, 주식 소수점 매매 허용 토론회류영준 카카오페이 대표가 4일 “목돈으로 ...</td>\n",
       "      <td>0.0</td>\n",
       "    </tr>\n",
       "    <tr>\n",
       "      <th>021/0002460652?</th>\n",
       "      <td>https://n.news.naver.com/mnews/article/021/000...</td>\n",
       "      <td>카카오페이, 경력직 채용…다음 달 1일까지 서류 접수</td>\n",
       "      <td>[\\n\\t\\t\\t카카오페이는 경력직 사원을 공개 채용한다고 16일 밝혔다. 채용 규...</td>\n",
       "      <td>0.0</td>\n",
       "    </tr>\n",
       "    <tr>\n",
       "      <th>021/0002459866?</th>\n",
       "      <td>https://n.news.naver.com/mnews/article/021/000...</td>\n",
       "      <td>나이먹을수록 연금 더 받을 수 있게… 금융위, 노후보장 활성화 방안 모색</td>\n",
       "      <td>[\\n이르면 6월쯤 상품설계안 발표 네이버·카카오페이 등 간편결제 소액후불결제 서비...</td>\n",
       "      <td>0.0</td>\n",
       "    </tr>\n",
       "    <tr>\n",
       "      <th>021/0002459152?</th>\n",
       "      <td>https://n.news.naver.com/mnews/article/021/000...</td>\n",
       "      <td>카카오페이·토스 “주식투자 쉽게”… 돈 모이는 증권으로 영역 급속확대</td>\n",
       "      <td>[\\n플랫폼 토대로 고객 끌어들여증권산업이 ‘돈 버는’ 시장으로 성장하자 먹성 좋은...</td>\n",
       "      <td>0.0</td>\n",
       "    </tr>\n",
       "    <tr>\n",
       "      <th>665/0000000201?</th>\n",
       "      <td>https://n.news.naver.com/mnews/article/665/000...</td>\n",
       "      <td>카카오 먹통 70여일 후… 원인은 잡았지만 원칙은 못 잡았다</td>\n",
       "      <td>[\\n표지이야기➋ 카카오 먹통 사태  시스템 강화·피해보상 과제 카카오, 기술적 대...</td>\n",
       "      <td>0.0</td>\n",
       "    </tr>\n",
       "  </tbody>\n",
       "</table>\n",
       "<p>34423 rows × 4 columns</p>\n",
       "</div>"
      ],
      "text/plain": [
       "                                                               url  \\\n",
       "key                                                                  \n",
       "023/0003589070?  https://n.news.naver.com/mnews/article/023/000...   \n",
       "011/0003517888?  https://n.news.naver.com/mnews/article/011/000...   \n",
       "009/0004849518?  https://n.news.naver.com/mnews/article/009/000...   \n",
       "015/0004600863?  https://n.news.naver.com/mnews/article/015/000...   \n",
       "016/0002059622?  https://n.news.naver.com/mnews/article/016/000...   \n",
       "...                                                            ...   \n",
       "021/0002462585?  https://n.news.naver.com/mnews/article/021/000...   \n",
       "021/0002460652?  https://n.news.naver.com/mnews/article/021/000...   \n",
       "021/0002459866?  https://n.news.naver.com/mnews/article/021/000...   \n",
       "021/0002459152?  https://n.news.naver.com/mnews/article/021/000...   \n",
       "665/0000000201?  https://n.news.naver.com/mnews/article/665/000...   \n",
       "\n",
       "                                                    title  \\\n",
       "key                                                         \n",
       "023/0003589070?           “코로나로 이익 봤으면 나눠야” 이낙연 이익공유제 꺼냈다   \n",
       "011/0003517888?   뒷북경제 신용카드 소득공제·경유세···‘서민증세’ 반발 넘을 수 있을까   \n",
       "009/0004849518?        주주들 난리났다…거침없던 네이버 카카오 대폭락…도대체 무슨 일   \n",
       "015/0004600863?            월세방 사는데 재난지원금 못 받는다니… 직장인들 아우성   \n",
       "016/0002059622?      “4억원 넣었는데 반토막” 전 직원 ‘신불자’ 위기 난리난 대기업   \n",
       "...                                                   ...   \n",
       "021/0002462585?      류영준 카카오페이 대표 “대형주, 소수점 단위로 매매하게 해달라”   \n",
       "021/0002460652?             카카오페이, 경력직 채용…다음 달 1일까지 서류 접수   \n",
       "021/0002459866?  나이먹을수록 연금 더 받을 수 있게… 금융위, 노후보장 활성화 방안 모색   \n",
       "021/0002459152?    카카오페이·토스 “주식투자 쉽게”… 돈 모이는 증권으로 영역 급속확대   \n",
       "665/0000000201?         카카오 먹통 70여일 후… 원인은 잡았지만 원칙은 못 잡았다   \n",
       "\n",
       "                                                              body  comments  \n",
       "key                                                                           \n",
       "023/0003589070?  [\\n\\n\\n\\n\\n더불어민주당 이낙연대표가 11일 서울 여의도 국회에서 열린 최고...    5574.0  \n",
       "011/0003517888?  [\\n\\t\\t\\t[서울경제] 정부가 신용카드 소득공제를 줄이고 미세먼지 대책으로 경...    2081.0  \n",
       "009/0004849518?  [\\n\\n\\n\\n\\n  거침없이 질주하던 네이버 카카오 주가가 폭락하고 있다.정치권...    1648.0  \n",
       "015/0004600863?  [\\n국민지원금 신청 첫 날 곳곳서 '볼멘소리'\"실제 살림살이 제대로 반영 안 돼\"...    1522.0  \n",
       "016/0002059622?  [\\n\\n\\n\\n\\n[게티이미지뱅크][헤럴드경제=홍승희 기자] “영끌(영혼을 끌어모...    1302.0  \n",
       "...                                                            ...       ...  \n",
       "021/0002462585?  [\\n국회, 주식 소수점 매매 허용 토론회류영준 카카오페이 대표가 4일 “목돈으로 ...       0.0  \n",
       "021/0002460652?  [\\n\\t\\t\\t카카오페이는 경력직 사원을 공개 채용한다고 16일 밝혔다. 채용 규...       0.0  \n",
       "021/0002459866?  [\\n이르면 6월쯤 상품설계안 발표 네이버·카카오페이 등 간편결제 소액후불결제 서비...       0.0  \n",
       "021/0002459152?  [\\n플랫폼 토대로 고객 끌어들여증권산업이 ‘돈 버는’ 시장으로 성장하자 먹성 좋은...       0.0  \n",
       "665/0000000201?  [\\n표지이야기➋ 카카오 먹통 사태  시스템 강화·피해보상 과제 카카오, 기술적 대...       0.0  \n",
       "\n",
       "[34423 rows x 4 columns]"
      ]
     },
     "execution_count": 147,
     "metadata": {},
     "output_type": "execute_result"
    }
   ],
   "source": [
    "naver_TB.sort_values('comments', ascending=False)"
   ]
  },
  {
   "cell_type": "code",
   "execution_count": null,
   "metadata": {},
   "outputs": [],
   "source": [
    "naver_TB.to_csv(\"../data/KP_naver_TB_0203.csv\")"
   ]
  }
 ],
 "metadata": {
  "kernelspec": {
   "display_name": "base",
   "language": "python",
   "name": "python3"
  },
  "language_info": {
   "codemirror_mode": {
    "name": "ipython",
    "version": 3
   },
   "file_extension": ".py",
   "mimetype": "text/x-python",
   "name": "python",
   "nbconvert_exporter": "python",
   "pygments_lexer": "ipython3",
   "version": "3.8.15"
  },
  "orig_nbformat": 4,
  "vscode": {
   "interpreter": {
    "hash": "6632c70ce360d611e847e5318887868e2366d56c00e5f501b5a0b067a934dfe7"
   }
  }
 },
 "nbformat": 4,
 "nbformat_minor": 2
}
