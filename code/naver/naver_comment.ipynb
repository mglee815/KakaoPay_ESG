{
  "cells": [
    {
      "cell_type": "code",
      "execution_count": 17,
      "metadata": {
        "colab": {
          "base_uri": "https://localhost:8080/"
        },
        "id": "q2kbaCNAzkac",
        "outputId": "8327a17e-64f1-4697-c408-a08bb8a5fcf5"
      },
      "outputs": [],
      "source": [
        "# 라이브러리 불러오기\n",
        "import requests\n",
        "from bs4 import BeautifulSoup\n",
        "from datetime import datetime, timedelta\n",
        "import asyncio\n",
        "import json\n",
        "import nest_asyncio\n",
        "import pandas as pd\n",
        "import re\n",
        "from tqdm import tqdm\n",
        "nest_asyncio.apply()"
      ]
    },
    {
      "cell_type": "code",
      "execution_count": 11,
      "metadata": {},
      "outputs": [],
      "source": [
        "urls = pd.read_csv(\"../../data/K_naver_monthlyTop4000.csv\")"
      ]
    },
    {
      "cell_type": "code",
      "execution_count": 12,
      "metadata": {},
      "outputs": [
        {
          "data": {
            "text/html": [
              "<div>\n",
              "<style scoped>\n",
              "    .dataframe tbody tr th:only-of-type {\n",
              "        vertical-align: middle;\n",
              "    }\n",
              "\n",
              "    .dataframe tbody tr th {\n",
              "        vertical-align: top;\n",
              "    }\n",
              "\n",
              "    .dataframe thead th {\n",
              "        text-align: right;\n",
              "    }\n",
              "</style>\n",
              "<table border=\"1\" class=\"dataframe\">\n",
              "  <thead>\n",
              "    <tr style=\"text-align: right;\">\n",
              "      <th></th>\n",
              "      <th>Unnamed: 0</th>\n",
              "      <th>0</th>\n",
              "    </tr>\n",
              "  </thead>\n",
              "  <tbody>\n",
              "    <tr>\n",
              "      <th>0</th>\n",
              "      <td>0</td>\n",
              "      <td>https://n.news.naver.com/mnews/article/003/001...</td>\n",
              "    </tr>\n",
              "    <tr>\n",
              "      <th>1</th>\n",
              "      <td>1</td>\n",
              "      <td>https://n.news.naver.com/mnews/article/055/000...</td>\n",
              "    </tr>\n",
              "    <tr>\n",
              "      <th>2</th>\n",
              "      <td>2</td>\n",
              "      <td>https://n.news.naver.com/mnews/article/016/000...</td>\n",
              "    </tr>\n",
              "    <tr>\n",
              "      <th>3</th>\n",
              "      <td>3</td>\n",
              "      <td>https://n.news.naver.com/mnews/article/018/000...</td>\n",
              "    </tr>\n",
              "    <tr>\n",
              "      <th>4</th>\n",
              "      <td>4</td>\n",
              "      <td>https://n.news.naver.com/mnews/article/421/000...</td>\n",
              "    </tr>\n",
              "    <tr>\n",
              "      <th>...</th>\n",
              "      <td>...</td>\n",
              "      <td>...</td>\n",
              "    </tr>\n",
              "    <tr>\n",
              "      <th>24674</th>\n",
              "      <td>24674</td>\n",
              "      <td>https://n.news.naver.com/mnews/article/018/000...</td>\n",
              "    </tr>\n",
              "    <tr>\n",
              "      <th>24675</th>\n",
              "      <td>24675</td>\n",
              "      <td>https://n.news.naver.com/mnews/article/417/000...</td>\n",
              "    </tr>\n",
              "    <tr>\n",
              "      <th>24676</th>\n",
              "      <td>24676</td>\n",
              "      <td>https://n.news.naver.com/mnews/article/018/000...</td>\n",
              "    </tr>\n",
              "    <tr>\n",
              "      <th>24677</th>\n",
              "      <td>24677</td>\n",
              "      <td>https://n.news.naver.com/mnews/article/417/000...</td>\n",
              "    </tr>\n",
              "    <tr>\n",
              "      <th>24678</th>\n",
              "      <td>24678</td>\n",
              "      <td>https://n.news.naver.com/mnews/article/018/000...</td>\n",
              "    </tr>\n",
              "  </tbody>\n",
              "</table>\n",
              "<p>24679 rows × 2 columns</p>\n",
              "</div>"
            ],
            "text/plain": [
              "       Unnamed: 0                                                  0\n",
              "0               0  https://n.news.naver.com/mnews/article/003/001...\n",
              "1               1  https://n.news.naver.com/mnews/article/055/000...\n",
              "2               2  https://n.news.naver.com/mnews/article/016/000...\n",
              "3               3  https://n.news.naver.com/mnews/article/018/000...\n",
              "4               4  https://n.news.naver.com/mnews/article/421/000...\n",
              "...           ...                                                ...\n",
              "24674       24674  https://n.news.naver.com/mnews/article/018/000...\n",
              "24675       24675  https://n.news.naver.com/mnews/article/417/000...\n",
              "24676       24676  https://n.news.naver.com/mnews/article/018/000...\n",
              "24677       24677  https://n.news.naver.com/mnews/article/417/000...\n",
              "24678       24678  https://n.news.naver.com/mnews/article/018/000...\n",
              "\n",
              "[24679 rows x 2 columns]"
            ]
          },
          "execution_count": 12,
          "metadata": {},
          "output_type": "execute_result"
        }
      ],
      "source": [
        "urls"
      ]
    },
    {
      "cell_type": "code",
      "execution_count": 13,
      "metadata": {},
      "outputs": [
        {
          "data": {
            "text/html": [
              "<div>\n",
              "<style scoped>\n",
              "    .dataframe tbody tr th:only-of-type {\n",
              "        vertical-align: middle;\n",
              "    }\n",
              "\n",
              "    .dataframe tbody tr th {\n",
              "        vertical-align: top;\n",
              "    }\n",
              "\n",
              "    .dataframe thead th {\n",
              "        text-align: right;\n",
              "    }\n",
              "</style>\n",
              "<table border=\"1\" class=\"dataframe\">\n",
              "  <thead>\n",
              "    <tr style=\"text-align: right;\">\n",
              "      <th></th>\n",
              "      <th>0</th>\n",
              "    </tr>\n",
              "  </thead>\n",
              "  <tbody>\n",
              "    <tr>\n",
              "      <th>0</th>\n",
              "      <td>https://n.news.naver.com/mnews/article/003/001...</td>\n",
              "    </tr>\n",
              "    <tr>\n",
              "      <th>1</th>\n",
              "      <td>https://n.news.naver.com/mnews/article/055/000...</td>\n",
              "    </tr>\n",
              "    <tr>\n",
              "      <th>2</th>\n",
              "      <td>https://n.news.naver.com/mnews/article/016/000...</td>\n",
              "    </tr>\n",
              "    <tr>\n",
              "      <th>3</th>\n",
              "      <td>https://n.news.naver.com/mnews/article/018/000...</td>\n",
              "    </tr>\n",
              "    <tr>\n",
              "      <th>4</th>\n",
              "      <td>https://n.news.naver.com/mnews/article/421/000...</td>\n",
              "    </tr>\n",
              "    <tr>\n",
              "      <th>...</th>\n",
              "      <td>...</td>\n",
              "    </tr>\n",
              "    <tr>\n",
              "      <th>24674</th>\n",
              "      <td>https://n.news.naver.com/mnews/article/018/000...</td>\n",
              "    </tr>\n",
              "    <tr>\n",
              "      <th>24675</th>\n",
              "      <td>https://n.news.naver.com/mnews/article/417/000...</td>\n",
              "    </tr>\n",
              "    <tr>\n",
              "      <th>24676</th>\n",
              "      <td>https://n.news.naver.com/mnews/article/018/000...</td>\n",
              "    </tr>\n",
              "    <tr>\n",
              "      <th>24677</th>\n",
              "      <td>https://n.news.naver.com/mnews/article/417/000...</td>\n",
              "    </tr>\n",
              "    <tr>\n",
              "      <th>24678</th>\n",
              "      <td>https://n.news.naver.com/mnews/article/018/000...</td>\n",
              "    </tr>\n",
              "  </tbody>\n",
              "</table>\n",
              "<p>24679 rows × 1 columns</p>\n",
              "</div>"
            ],
            "text/plain": [
              "                                                       0\n",
              "0      https://n.news.naver.com/mnews/article/003/001...\n",
              "1      https://n.news.naver.com/mnews/article/055/000...\n",
              "2      https://n.news.naver.com/mnews/article/016/000...\n",
              "3      https://n.news.naver.com/mnews/article/018/000...\n",
              "4      https://n.news.naver.com/mnews/article/421/000...\n",
              "...                                                  ...\n",
              "24674  https://n.news.naver.com/mnews/article/018/000...\n",
              "24675  https://n.news.naver.com/mnews/article/417/000...\n",
              "24676  https://n.news.naver.com/mnews/article/018/000...\n",
              "24677  https://n.news.naver.com/mnews/article/417/000...\n",
              "24678  https://n.news.naver.com/mnews/article/018/000...\n",
              "\n",
              "[24679 rows x 1 columns]"
            ]
          },
          "execution_count": 13,
          "metadata": {},
          "output_type": "execute_result"
        }
      ],
      "source": [
        "test = urls.iloc[:, 1:3]\n",
        "test"
      ]
    },
    {
      "cell_type": "code",
      "execution_count": 14,
      "metadata": {
        "id": "39A4hPZryEA2"
      },
      "outputs": [],
      "source": [
        "# 함수 정의\n",
        "def get_comments(refer_url, comment_url) : # 댓글 목록을 json 형태로 받아오는 함수\n",
        "    comments = []\n",
        "    next = None\n",
        "    # 처음엔 댓글 개수를 모르므로 충분히 큰 수를 넣어 줌\n",
        "    comment_count = 10e6\n",
        "    headers = {\n",
        "        'User-Agent' : 'Mozilla/5.0 (Macintosh; Intel Mac OS X 10_15_3) AppleWebKit/605.1.15 (KHTML, like Gecko) Version/13.0.5 Safari/605.1.15',\n",
        "        'referer': refer_url\n",
        "    }\n",
        "    \n",
        "    # 수집한 댓글 수가 첫번째에 수집한 총 댓글 수 보다 많다면 반복을 종료합니다.\n",
        "    while len(comments) < comment_count :\n",
        "        comment_url_next = comment_url + '&moreParam.next=' + next if next else comment_url\n",
        "        res = requests.get(comment_url_next, headers=headers)\n",
        "        dic = json.loads(res.text[res.text.index('(')+1:-2])\n",
        "        comments.extend(list(map(lambda x : {\n",
        "            'url' : refer_url,\n",
        "            'text': x['contents'],\n",
        "            'reply_count' : x['replyCount'], \n",
        "            'uid': x['idNo'],\n",
        "            'uname' : x['userName'],\n",
        "            'like': x['sympathyCount'], \n",
        "            'dislike': x['antipathyCount'],\n",
        "            'c_time' : x['modTime'],\n",
        "            'cid': x['commentNo'],\n",
        "            'pid' : x['parentCommentNo'] \n",
        "            }, dic['result']['commentList'])))\n",
        "        comment_count = dic['result']['count']['comment']\n",
        "        next = dic['result']['morePage']['next'] if comment_count else None\n",
        "    # 필터로 삭제된 댓글을 걸러줍니다\n",
        "    comments=list(filter(lambda x: len(x['text']), comments))\n",
        "    return comments\n",
        "\n"
      ]
    },
    {
      "cell_type": "code",
      "execution_count": 15,
      "metadata": {
        "id": "oB9vJariuqiy"
      },
      "outputs": [],
      "source": [
        "def get_data(oid, aid) :\n",
        "    try :\n",
        "        # refer_url: 댓글 보기를 누르면 나오는 댓글 페이지 주소\n",
        "        # comment_url: 네트워크 탭에서 확인 가능한 동적으로 생성되는 주소\n",
        "        refer_url = f'https://n.news.naver.com/mnews/article/comment/{oid}/{aid}?sid=100'\n",
        "        comment_url = f'https://apis.naver.com/commentBox/cbox/web_naver_list_jsonp.json?ticket=news&templateId=default_politics_m3&pool=cbox5&_cv=20220623185938&_callback=jQuery33103200637113167857_1656171100524&lang=ko&country=KR&objectId=news{oid}%2C{aid}&categoryId=&pageSize=100&indexSize=10&groupId=&listType=OBJECT&pageType=more&page=1&initialize=true&userType=&useAltSort=true&replyPageSize=20&followSize=100&sort=new&includeAllStatus=true&_=1656171100525'\n",
        "\n",
        "        comments = get_comments(refer_url, comment_url)\n",
        "        comments = pd.DataFrame(comments)\n",
        "        # 댓글 수가 0개인 기사를 어떻게 할지 추후에 결정해야 함\n",
        "        return comments\n",
        "    except :\n",
        "        return None\n"
      ]
    },
    {
      "cell_type": "code",
      "execution_count": 16,
      "metadata": {},
      "outputs": [
        {
          "name": "stderr",
          "output_type": "stream",
          "text": [
            "  0%|          | 61/24679 [00:23<1:33:27,  4.39it/s]"
          ]
        },
        {
          "name": "stdout",
          "output_type": "stream",
          "text": [
            "https://entertain.naver.com/read?oid=018&aid=0005136161\n"
          ]
        },
        {
          "name": "stderr",
          "output_type": "stream",
          "text": [
            "  0%|          | 69/24679 [00:25<1:28:19,  4.64it/s]"
          ]
        },
        {
          "name": "stdout",
          "output_type": "stream",
          "text": [
            "https://entertain.naver.com/read?oid=009&aid=0004914053\n"
          ]
        },
        {
          "name": "stderr",
          "output_type": "stream",
          "text": [
            "  1%|          | 152/24679 [00:43<1:18:44,  5.19it/s]"
          ]
        },
        {
          "name": "stdout",
          "output_type": "stream",
          "text": [
            "https://entertain.naver.com/read?oid=018&aid=0005136161\n"
          ]
        },
        {
          "name": "stderr",
          "output_type": "stream",
          "text": [
            "  1%|          | 171/24679 [00:49<1:17:41,  5.26it/s]"
          ]
        },
        {
          "name": "stdout",
          "output_type": "stream",
          "text": [
            "https://entertain.naver.com/read?oid=009&aid=0004914053\n"
          ]
        },
        {
          "name": "stderr",
          "output_type": "stream",
          "text": [
            "  1%|          | 266/24679 [01:09<1:19:09,  5.14it/s]"
          ]
        },
        {
          "name": "stdout",
          "output_type": "stream",
          "text": [
            "https://entertain.naver.com/read?oid=438&aid=0000043389\n"
          ]
        },
        {
          "name": "stderr",
          "output_type": "stream",
          "text": [
            "  1%|          | 307/24679 [01:21<1:31:20,  4.45it/s]"
          ]
        },
        {
          "name": "stdout",
          "output_type": "stream",
          "text": [
            "https://entertain.naver.com/read?oid=468&aid=0000832548\n"
          ]
        },
        {
          "name": "stderr",
          "output_type": "stream",
          "text": [
            "  1%|▏         | 350/24679 [01:31<58:33,  6.92it/s]  "
          ]
        },
        {
          "name": "stdout",
          "output_type": "stream",
          "text": [
            "https://entertain.naver.com/read?oid=311&aid=0001402909\n"
          ]
        },
        {
          "name": "stderr",
          "output_type": "stream",
          "text": [
            "  2%|▏         | 382/24679 [01:41<4:08:55,  1.63it/s]"
          ]
        },
        {
          "name": "stdout",
          "output_type": "stream",
          "text": [
            "https://sports.news.naver.com/news.nhn?oid=356&aid=0000051946\n"
          ]
        },
        {
          "name": "stderr",
          "output_type": "stream",
          "text": [
            "  2%|▏         | 435/24679 [01:55<1:15:39,  5.34it/s]"
          ]
        },
        {
          "name": "stdout",
          "output_type": "stream",
          "text": [
            "https://sports.news.naver.com/news.nhn?oid=442&aid=0000145271\n"
          ]
        },
        {
          "name": "stderr",
          "output_type": "stream",
          "text": [
            "  2%|▏         | 476/24679 [02:05<1:26:25,  4.67it/s]"
          ]
        },
        {
          "name": "stdout",
          "output_type": "stream",
          "text": [
            "https://sports.news.naver.com/news.nhn?oid=236&aid=0000220623\n"
          ]
        },
        {
          "name": "stderr",
          "output_type": "stream",
          "text": [
            "  2%|▏         | 548/24679 [02:23<1:25:15,  4.72it/s]"
          ]
        },
        {
          "name": "stdout",
          "output_type": "stream",
          "text": [
            "https://sports.news.naver.com/news.nhn?oid=347&aid=0000159771\n"
          ]
        },
        {
          "name": "stderr",
          "output_type": "stream",
          "text": [
            "  2%|▏         | 571/24679 [02:28<1:29:38,  4.48it/s]"
          ]
        },
        {
          "name": "stdout",
          "output_type": "stream",
          "text": [
            "https://sports.news.naver.com/news.nhn?oid=442&aid=0000145029\n"
          ]
        },
        {
          "name": "stderr",
          "output_type": "stream",
          "text": [
            "  2%|▏         | 615/24679 [02:47<1:15:49,  5.29it/s]"
          ]
        },
        {
          "name": "stdout",
          "output_type": "stream",
          "text": [
            "https://sports.news.naver.com/news.nhn?oid=442&aid=0000145248\n"
          ]
        },
        {
          "name": "stderr",
          "output_type": "stream",
          "text": [
            "  3%|▎         | 842/24679 [03:55<2:05:10,  3.17it/s] "
          ]
        },
        {
          "name": "stdout",
          "output_type": "stream",
          "text": [
            "https://entertain.naver.com/read?oid=025&aid=0003166269\n"
          ]
        },
        {
          "name": "stderr",
          "output_type": "stream",
          "text": [
            "  3%|▎         | 848/24679 [03:56<1:11:55,  5.52it/s]"
          ]
        },
        {
          "name": "stdout",
          "output_type": "stream",
          "text": [
            "https://sports.news.naver.com/news.nhn?oid=347&aid=0000159710\n",
            "https://sports.news.naver.com/news.nhn?oid=347&aid=0000159722\n"
          ]
        },
        {
          "name": "stderr",
          "output_type": "stream",
          "text": [
            "  5%|▍         | 1201/24679 [05:31<1:15:12,  5.20it/s]"
          ]
        },
        {
          "name": "stdout",
          "output_type": "stream",
          "text": [
            "https://entertain.naver.com/read?oid=108&aid=0003022970\n"
          ]
        },
        {
          "name": "stderr",
          "output_type": "stream",
          "text": [
            "  5%|▌         | 1326/24679 [06:07<1:49:20,  3.56it/s]"
          ]
        },
        {
          "name": "stdout",
          "output_type": "stream",
          "text": [
            "https://sports.news.naver.com/news.nhn?oid=018&aid=0005129425\n"
          ]
        },
        {
          "name": "stderr",
          "output_type": "stream",
          "text": [
            "  6%|▌         | 1440/24679 [06:35<1:04:00,  6.05it/s]"
          ]
        },
        {
          "name": "stdout",
          "output_type": "stream",
          "text": [
            "https://entertain.naver.com/read?oid=396&aid=0000601263\n"
          ]
        },
        {
          "name": "stderr",
          "output_type": "stream",
          "text": [
            "  6%|▌         | 1471/24679 [06:48<5:52:25,  1.10it/s]"
          ]
        },
        {
          "name": "stdout",
          "output_type": "stream",
          "text": [
            "https://sports.news.naver.com/news.nhn?oid=030&aid=0002993489\n"
          ]
        },
        {
          "name": "stderr",
          "output_type": "stream",
          "text": [
            "  6%|▌         | 1514/24679 [06:59<1:03:13,  6.11it/s]"
          ]
        },
        {
          "name": "stdout",
          "output_type": "stream",
          "text": [
            "https://entertain.naver.com/read?oid=018&aid=0005124654\n"
          ]
        },
        {
          "name": "stderr",
          "output_type": "stream",
          "text": [
            "  6%|▌         | 1520/24679 [07:01<1:34:27,  4.09it/s]"
          ]
        },
        {
          "name": "stdout",
          "output_type": "stream",
          "text": [
            "https://entertain.naver.com/read?oid=009&aid=0004907415\n"
          ]
        },
        {
          "name": "stderr",
          "output_type": "stream",
          "text": [
            "  6%|▋         | 1546/24679 [07:08<2:48:58,  2.28it/s]"
          ]
        },
        {
          "name": "stdout",
          "output_type": "stream",
          "text": [
            "https://entertain.naver.com/read?oid=052&aid=0001688208\n"
          ]
        },
        {
          "name": "stderr",
          "output_type": "stream",
          "text": [
            "  7%|▋         | 1641/24679 [07:32<1:17:06,  4.98it/s]"
          ]
        },
        {
          "name": "stdout",
          "output_type": "stream",
          "text": [
            "https://sports.news.naver.com/news.nhn?oid=236&aid=0000220164\n",
            "https://entertain.naver.com/read?oid=241&aid=0003184626\n"
          ]
        },
        {
          "name": "stderr",
          "output_type": "stream",
          "text": [
            "  7%|▋         | 1643/24679 [07:33<1:39:21,  3.86it/s]"
          ]
        },
        {
          "name": "stdout",
          "output_type": "stream",
          "text": [
            "https://entertain.naver.com/read?oid=108&aid=0003020288\n"
          ]
        },
        {
          "name": "stderr",
          "output_type": "stream",
          "text": [
            "  7%|▋         | 1645/24679 [07:33<1:17:11,  4.97it/s]"
          ]
        },
        {
          "name": "stdout",
          "output_type": "stream",
          "text": [
            "https://entertain.naver.com/read?oid=076&aid=0003821098\n"
          ]
        },
        {
          "name": "stderr",
          "output_type": "stream",
          "text": [
            "  7%|▋         | 1666/24679 [07:38<1:14:56,  5.12it/s]"
          ]
        },
        {
          "name": "stdout",
          "output_type": "stream",
          "text": [
            "https://entertain.naver.com/read?oid=001&aid=0012898438\n"
          ]
        },
        {
          "name": "stderr",
          "output_type": "stream",
          "text": [
            "  7%|▋         | 1673/24679 [07:39<1:01:39,  6.22it/s]"
          ]
        },
        {
          "name": "stdout",
          "output_type": "stream",
          "text": [
            "https://sports.news.naver.com/news.nhn?oid=030&aid=0002992339\n"
          ]
        },
        {
          "name": "stderr",
          "output_type": "stream",
          "text": [
            "  7%|▋         | 1694/24679 [07:44<1:04:29,  5.94it/s]"
          ]
        },
        {
          "name": "stdout",
          "output_type": "stream",
          "text": [
            "https://entertain.naver.com/read?oid=144&aid=0000786424\n"
          ]
        },
        {
          "name": "stderr",
          "output_type": "stream",
          "text": [
            "  7%|▋         | 1701/24679 [07:45<58:35,  6.54it/s]  "
          ]
        },
        {
          "name": "stdout",
          "output_type": "stream",
          "text": [
            "https://entertain.naver.com/read?oid=011&aid=0004006696\n"
          ]
        },
        {
          "name": "stderr",
          "output_type": "stream",
          "text": [
            "  7%|▋         | 1713/24679 [07:47<1:00:34,  6.32it/s]"
          ]
        },
        {
          "name": "stdout",
          "output_type": "stream",
          "text": [
            "https://sports.news.naver.com/news.nhn?oid=022&aid=0003656016\n"
          ]
        },
        {
          "name": "stderr",
          "output_type": "stream",
          "text": [
            "  7%|▋         | 1738/24679 [07:53<54:36,  7.00it/s]  "
          ]
        },
        {
          "name": "stdout",
          "output_type": "stream",
          "text": [
            "https://sports.news.naver.com/news.nhn?oid=311&aid=0001396122\n"
          ]
        },
        {
          "name": "stderr",
          "output_type": "stream",
          "text": [
            "  7%|▋         | 1759/24679 [07:57<1:24:04,  4.54it/s]"
          ]
        },
        {
          "name": "stdout",
          "output_type": "stream",
          "text": [
            "https://entertain.naver.com/read?oid=022&aid=0003656430\n"
          ]
        },
        {
          "name": "stderr",
          "output_type": "stream",
          "text": [
            "  7%|▋         | 1766/24679 [07:58<55:00,  6.94it/s]  "
          ]
        },
        {
          "name": "stdout",
          "output_type": "stream",
          "text": [
            "https://sports.news.naver.com/news.nhn?oid=442&aid=0000144624\n"
          ]
        },
        {
          "name": "stderr",
          "output_type": "stream",
          "text": [
            "  7%|▋         | 1777/24679 [08:01<1:28:12,  4.33it/s]"
          ]
        },
        {
          "name": "stdout",
          "output_type": "stream",
          "text": [
            "https://entertain.naver.com/read?oid=609&aid=0000532016\n"
          ]
        },
        {
          "name": "stderr",
          "output_type": "stream",
          "text": [
            "  7%|▋         | 1788/24679 [08:03<1:09:25,  5.50it/s]"
          ]
        },
        {
          "name": "stdout",
          "output_type": "stream",
          "text": [
            "https://entertain.naver.com/read?oid=311&aid=0001396649\n"
          ]
        },
        {
          "name": "stderr",
          "output_type": "stream",
          "text": [
            "  7%|▋         | 1812/24679 [08:08<1:27:09,  4.37it/s]"
          ]
        },
        {
          "name": "stdout",
          "output_type": "stream",
          "text": [
            "https://sports.news.naver.com/news.nhn?oid=356&aid=0000051692\n"
          ]
        },
        {
          "name": "stderr",
          "output_type": "stream",
          "text": [
            "  7%|▋         | 1815/24679 [08:08<1:12:03,  5.29it/s]"
          ]
        },
        {
          "name": "stdout",
          "output_type": "stream",
          "text": [
            "https://sports.news.naver.com/news.nhn?oid=477&aid=0000338569\n"
          ]
        },
        {
          "name": "stderr",
          "output_type": "stream",
          "text": [
            "  7%|▋         | 1837/24679 [08:14<1:46:12,  3.58it/s]"
          ]
        },
        {
          "name": "stdout",
          "output_type": "stream",
          "text": [
            "https://entertain.naver.com/read?oid=421&aid=0005837991\n"
          ]
        },
        {
          "name": "stderr",
          "output_type": "stream",
          "text": [
            "  7%|▋         | 1840/24679 [08:15<1:59:58,  3.17it/s]"
          ]
        },
        {
          "name": "stdout",
          "output_type": "stream",
          "text": [
            "https://entertain.naver.com/read?oid=112&aid=0003519893\n"
          ]
        },
        {
          "name": "stderr",
          "output_type": "stream",
          "text": [
            "  8%|▊         | 1866/24679 [08:21<1:09:58,  5.43it/s]"
          ]
        },
        {
          "name": "stdout",
          "output_type": "stream",
          "text": [
            "https://entertain.naver.com/read?oid=215&aid=0001008648\n"
          ]
        },
        {
          "name": "stderr",
          "output_type": "stream",
          "text": [
            "  8%|▊         | 1929/24679 [08:34<53:13,  7.12it/s]  "
          ]
        },
        {
          "name": "stdout",
          "output_type": "stream",
          "text": [
            "https://sports.news.naver.com/news.nhn?oid=347&aid=0000159163\n"
          ]
        },
        {
          "name": "stderr",
          "output_type": "stream",
          "text": [
            "  8%|▊         | 1955/24679 [08:39<1:24:36,  4.48it/s]"
          ]
        },
        {
          "name": "stdout",
          "output_type": "stream",
          "text": [
            "https://entertain.naver.com/read?oid=396&aid=0000601275\n"
          ]
        },
        {
          "name": "stderr",
          "output_type": "stream",
          "text": [
            "  8%|▊         | 1983/24679 [08:46<2:02:37,  3.08it/s]"
          ]
        },
        {
          "name": "stdout",
          "output_type": "stream",
          "text": [
            "https://sports.news.naver.com/news.nhn?oid=011&aid=0004024324\n"
          ]
        },
        {
          "name": "stderr",
          "output_type": "stream",
          "text": [
            "  8%|▊         | 2014/24679 [08:53<1:36:17,  3.92it/s]"
          ]
        },
        {
          "name": "stdout",
          "output_type": "stream",
          "text": [
            "https://sports.news.naver.com/news.nhn?oid=347&aid=0000160665\n"
          ]
        },
        {
          "name": "stderr",
          "output_type": "stream",
          "text": [
            "  8%|▊         | 2034/24679 [08:57<1:05:40,  5.75it/s]"
          ]
        },
        {
          "name": "stdout",
          "output_type": "stream",
          "text": [
            "https://sports.news.naver.com/news.nhn?oid=014&aid=0004795369\n"
          ]
        },
        {
          "name": "stderr",
          "output_type": "stream",
          "text": [
            "  8%|▊         | 2042/24679 [08:59<1:33:54,  4.02it/s]"
          ]
        },
        {
          "name": "stdout",
          "output_type": "stream",
          "text": [
            "https://sports.news.naver.com/news.nhn?oid=144&aid=0000796040\n"
          ]
        },
        {
          "name": "stderr",
          "output_type": "stream",
          "text": [
            "  9%|▊         | 2154/24679 [09:27<57:22,  6.54it/s]  "
          ]
        },
        {
          "name": "stdout",
          "output_type": "stream",
          "text": [
            "https://sports.news.naver.com/news.nhn?oid=347&aid=0000160662\n"
          ]
        },
        {
          "name": "stderr",
          "output_type": "stream",
          "text": [
            "  9%|▉         | 2163/24679 [09:30<1:30:34,  4.14it/s]"
          ]
        },
        {
          "name": "stdout",
          "output_type": "stream",
          "text": [
            "https://sports.news.naver.com/news.nhn?oid=347&aid=0000160665\n"
          ]
        },
        {
          "name": "stderr",
          "output_type": "stream",
          "text": [
            "  9%|▉         | 2165/24679 [09:30<1:08:13,  5.50it/s]"
          ]
        },
        {
          "name": "stdout",
          "output_type": "stream",
          "text": [
            "https://sports.news.naver.com/news.nhn?oid=347&aid=0000160665\n"
          ]
        },
        {
          "name": "stderr",
          "output_type": "stream",
          "text": [
            "  9%|▉         | 2277/24679 [09:55<1:40:25,  3.72it/s]"
          ]
        },
        {
          "name": "stdout",
          "output_type": "stream",
          "text": [
            "https://sports.news.naver.com/news.nhn?oid=018&aid=0005153633\n"
          ]
        },
        {
          "name": "stderr",
          "output_type": "stream",
          "text": [
            " 10%|▉         | 2384/24679 [10:18<1:25:11,  4.36it/s]"
          ]
        },
        {
          "name": "stdout",
          "output_type": "stream",
          "text": [
            "https://sports.news.naver.com/news.nhn?oid=009&aid=0004926136\n"
          ]
        },
        {
          "name": "stderr",
          "output_type": "stream",
          "text": [
            " 10%|▉         | 2418/24679 [10:26<1:22:22,  4.50it/s]"
          ]
        },
        {
          "name": "stdout",
          "output_type": "stream",
          "text": [
            "https://entertain.naver.com/read?oid=021&aid=0002504440\n"
          ]
        },
        {
          "name": "stderr",
          "output_type": "stream",
          "text": [
            " 10%|▉         | 2447/24679 [10:31<1:13:17,  5.06it/s]"
          ]
        },
        {
          "name": "stdout",
          "output_type": "stream",
          "text": [
            "https://sports.news.naver.com/news.nhn?oid=011&aid=0004022501\n"
          ]
        },
        {
          "name": "stderr",
          "output_type": "stream",
          "text": [
            " 10%|█         | 2497/24679 [10:42<58:18,  6.34it/s]  "
          ]
        },
        {
          "name": "stdout",
          "output_type": "stream",
          "text": [
            "https://sports.news.naver.com/news.nhn?oid=435&aid=0000009999\n"
          ]
        },
        {
          "name": "stderr",
          "output_type": "stream",
          "text": [
            " 10%|█         | 2526/24679 [10:51<1:17:47,  4.75it/s]"
          ]
        },
        {
          "name": "stdout",
          "output_type": "stream",
          "text": [
            "https://sports.news.naver.com/news.nhn?oid=347&aid=0000160475\n"
          ]
        },
        {
          "name": "stderr",
          "output_type": "stream",
          "text": [
            " 10%|█         | 2581/24679 [11:05<1:17:26,  4.76it/s]"
          ]
        },
        {
          "name": "stdout",
          "output_type": "stream",
          "text": [
            "https://entertain.naver.com/read?oid=144&aid=0000793411\n"
          ]
        },
        {
          "name": "stderr",
          "output_type": "stream",
          "text": [
            " 11%|█         | 2642/24679 [11:20<1:43:55,  3.53it/s]"
          ]
        },
        {
          "name": "stdout",
          "output_type": "stream",
          "text": [
            "https://entertain.naver.com/read?oid=215&aid=0001016089\n"
          ]
        },
        {
          "name": "stderr",
          "output_type": "stream",
          "text": [
            " 11%|█         | 2646/24679 [11:21<58:14,  6.31it/s]  "
          ]
        },
        {
          "name": "stdout",
          "output_type": "stream",
          "text": [
            "https://entertain.naver.com/read?oid=009&aid=0004923167\n"
          ]
        },
        {
          "name": "stderr",
          "output_type": "stream",
          "text": [
            " 11%|█         | 2721/24679 [11:41<1:19:27,  4.61it/s]"
          ]
        },
        {
          "name": "stdout",
          "output_type": "stream",
          "text": [
            "https://entertain.naver.com/read?oid=311&aid=0001411140\n"
          ]
        },
        {
          "name": "stderr",
          "output_type": "stream",
          "text": [
            " 11%|█         | 2728/24679 [11:42<55:00,  6.65it/s]  "
          ]
        },
        {
          "name": "stdout",
          "output_type": "stream",
          "text": [
            "https://entertain.naver.com/read?oid=009&aid=0004920496\n"
          ]
        },
        {
          "name": "stderr",
          "output_type": "stream",
          "text": [
            " 11%|█         | 2731/24679 [11:43<1:11:25,  5.12it/s]"
          ]
        },
        {
          "name": "stdout",
          "output_type": "stream",
          "text": [
            "https://entertain.naver.com/read?oid=410&aid=0000849468\n"
          ]
        },
        {
          "name": "stderr",
          "output_type": "stream",
          "text": [
            " 11%|█▏        | 2792/24679 [11:57<1:11:59,  5.07it/s]"
          ]
        },
        {
          "name": "stdout",
          "output_type": "stream",
          "text": [
            "https://entertain.naver.com/read?oid=241&aid=0003191334\n",
            "https://entertain.naver.com/read?oid=241&aid=0003191334\n"
          ]
        },
        {
          "name": "stderr",
          "output_type": "stream",
          "text": [
            " 12%|█▏        | 2935/24679 [12:31<1:38:13,  3.69it/s]"
          ]
        },
        {
          "name": "stdout",
          "output_type": "stream",
          "text": [
            "https://entertain.naver.com/read?oid=108&aid=0003027186\n"
          ]
        },
        {
          "name": "stderr",
          "output_type": "stream",
          "text": [
            " 12%|█▏        | 2942/24679 [12:32<1:18:48,  4.60it/s]"
          ]
        },
        {
          "name": "stdout",
          "output_type": "stream",
          "text": [
            "https://sports.news.naver.com/news.nhn?oid=442&aid=0000146037\n"
          ]
        },
        {
          "name": "stderr",
          "output_type": "stream",
          "text": [
            " 12%|█▏        | 2963/24679 [12:37<1:00:43,  5.96it/s]"
          ]
        },
        {
          "name": "stdout",
          "output_type": "stream",
          "text": [
            "https://entertain.naver.com/read?oid=215&aid=0001014965\n"
          ]
        },
        {
          "name": "stderr",
          "output_type": "stream",
          "text": [
            " 12%|█▏        | 2967/24679 [12:37<1:13:58,  4.89it/s]"
          ]
        },
        {
          "name": "stdout",
          "output_type": "stream",
          "text": [
            "https://entertain.naver.com/read?oid=119&aid=0002574716\n"
          ]
        },
        {
          "name": "stderr",
          "output_type": "stream",
          "text": [
            " 12%|█▏        | 2969/24679 [12:38<58:38,  6.17it/s]  "
          ]
        },
        {
          "name": "stdout",
          "output_type": "stream",
          "text": [
            "https://entertain.naver.com/read?oid=119&aid=0002574716\n"
          ]
        },
        {
          "name": "stderr",
          "output_type": "stream",
          "text": [
            " 12%|█▏        | 2974/24679 [12:39<59:41,  6.06it/s]  "
          ]
        },
        {
          "name": "stdout",
          "output_type": "stream",
          "text": [
            "https://entertain.naver.com/read?oid=108&aid=0003029634\n"
          ]
        },
        {
          "name": "stderr",
          "output_type": "stream",
          "text": [
            " 12%|█▏        | 2997/24679 [12:44<1:43:08,  3.50it/s]"
          ]
        },
        {
          "name": "stdout",
          "output_type": "stream",
          "text": [
            "https://entertain.naver.com/read?oid=011&aid=0004020426\n",
            "https://entertain.naver.com/read?oid=018&aid=0005142252\n"
          ]
        },
        {
          "name": "stderr",
          "output_type": "stream",
          "text": [
            " 12%|█▏        | 3064/24679 [12:59<1:07:53,  5.31it/s]"
          ]
        },
        {
          "name": "stdout",
          "output_type": "stream",
          "text": [
            "https://sports.news.naver.com/news.nhn?oid=347&aid=0000160336\n"
          ]
        },
        {
          "name": "stderr",
          "output_type": "stream",
          "text": [
            " 12%|█▏        | 3075/24679 [13:01<54:42,  6.58it/s]  "
          ]
        },
        {
          "name": "stdout",
          "output_type": "stream",
          "text": [
            "https://sports.news.naver.com/news.nhn?oid=347&aid=0000160242\n"
          ]
        },
        {
          "name": "stderr",
          "output_type": "stream",
          "text": [
            " 12%|█▏        | 3084/24679 [13:05<1:40:40,  3.58it/s]"
          ]
        },
        {
          "name": "stdout",
          "output_type": "stream",
          "text": [
            "https://entertain.naver.com/read?oid=311&aid=0001411800\n"
          ]
        },
        {
          "name": "stderr",
          "output_type": "stream",
          "text": [
            " 13%|█▎        | 3107/24679 [13:09<1:18:56,  4.55it/s]"
          ]
        },
        {
          "name": "stdout",
          "output_type": "stream",
          "text": [
            "https://entertain.naver.com/read?oid=609&aid=0000542867\n"
          ]
        },
        {
          "name": "stderr",
          "output_type": "stream",
          "text": [
            " 13%|█▎        | 3121/24679 [13:12<1:05:45,  5.46it/s]"
          ]
        },
        {
          "name": "stdout",
          "output_type": "stream",
          "text": [
            "https://entertain.naver.com/read?oid=396&aid=0000604205\n"
          ]
        },
        {
          "name": "stderr",
          "output_type": "stream",
          "text": [
            " 13%|█▎        | 3126/24679 [13:14<1:24:24,  4.26it/s]"
          ]
        },
        {
          "name": "stdout",
          "output_type": "stream",
          "text": [
            "https://entertain.naver.com/read?oid=108&aid=0003028041\n"
          ]
        },
        {
          "name": "stderr",
          "output_type": "stream",
          "text": [
            " 13%|█▎        | 3137/24679 [13:16<53:25,  6.72it/s]  "
          ]
        },
        {
          "name": "stdout",
          "output_type": "stream",
          "text": [
            "https://entertain.naver.com/read?oid=108&aid=0003027535\n"
          ]
        },
        {
          "name": "stderr",
          "output_type": "stream",
          "text": [
            " 13%|█▎        | 3148/24679 [13:18<1:13:34,  4.88it/s]"
          ]
        },
        {
          "name": "stdout",
          "output_type": "stream",
          "text": [
            "https://sports.news.naver.com/news.nhn?oid=347&aid=0000160288\n"
          ]
        },
        {
          "name": "stderr",
          "output_type": "stream",
          "text": [
            " 13%|█▎        | 3155/24679 [13:19<1:19:04,  4.54it/s]"
          ]
        },
        {
          "name": "stdout",
          "output_type": "stream",
          "text": [
            "https://entertain.naver.com/read?oid=014&aid=0004787001\n"
          ]
        },
        {
          "name": "stderr",
          "output_type": "stream",
          "text": [
            " 13%|█▎        | 3169/24679 [13:23<1:43:21,  3.47it/s]"
          ]
        },
        {
          "name": "stdout",
          "output_type": "stream",
          "text": [
            "https://entertain.naver.com/read?oid=396&aid=0000604905\n"
          ]
        },
        {
          "name": "stderr",
          "output_type": "stream",
          "text": [
            " 13%|█▎        | 3268/24679 [13:44<54:27,  6.55it/s]  "
          ]
        },
        {
          "name": "stdout",
          "output_type": "stream",
          "text": [
            "https://entertain.naver.com/read?oid=001&aid=0012965980\n"
          ]
        },
        {
          "name": "stderr",
          "output_type": "stream",
          "text": [
            " 13%|█▎        | 3299/24679 [13:51<1:08:09,  5.23it/s]"
          ]
        },
        {
          "name": "stdout",
          "output_type": "stream",
          "text": [
            "https://entertain.naver.com/read?oid=014&aid=0004784952\n"
          ]
        },
        {
          "name": "stderr",
          "output_type": "stream",
          "text": [
            " 14%|█▎        | 3344/24679 [14:00<1:14:19,  4.78it/s]"
          ]
        },
        {
          "name": "stdout",
          "output_type": "stream",
          "text": [
            "https://entertain.naver.com/read?oid=003&aid=0010988207\n",
            "https://entertain.naver.com/read?oid=003&aid=0010988207\n"
          ]
        },
        {
          "name": "stderr",
          "output_type": "stream",
          "text": [
            " 14%|█▎        | 3372/24679 [14:06<53:38,  6.62it/s]  "
          ]
        },
        {
          "name": "stdout",
          "output_type": "stream",
          "text": [
            "https://entertain.naver.com/read?oid=416&aid=0000279824\n"
          ]
        },
        {
          "name": "stderr",
          "output_type": "stream",
          "text": [
            " 14%|█▎        | 3374/24679 [14:06<59:48,  5.94it/s]  "
          ]
        },
        {
          "name": "stdout",
          "output_type": "stream",
          "text": [
            "https://sports.news.naver.com/news.nhn?oid=144&aid=0000793129\n"
          ]
        },
        {
          "name": "stderr",
          "output_type": "stream",
          "text": [
            " 14%|█▎        | 3379/24679 [14:07<1:06:38,  5.33it/s]"
          ]
        },
        {
          "name": "stdout",
          "output_type": "stream",
          "text": [
            "https://sports.news.naver.com/news.nhn?oid=442&aid=0000145669\n"
          ]
        },
        {
          "name": "stderr",
          "output_type": "stream",
          "text": [
            " 14%|█▍        | 3400/24679 [14:14<1:58:17,  3.00it/s]"
          ]
        },
        {
          "name": "stdout",
          "output_type": "stream",
          "text": [
            "https://sports.news.naver.com/news.nhn?oid=442&aid=0000145803\n"
          ]
        },
        {
          "name": "stderr",
          "output_type": "stream",
          "text": [
            " 14%|█▍        | 3404/24679 [14:14<1:18:30,  4.52it/s]"
          ]
        },
        {
          "name": "stdout",
          "output_type": "stream",
          "text": [
            "https://entertain.naver.com/read?oid=408&aid=0000145974\n"
          ]
        },
        {
          "name": "stderr",
          "output_type": "stream",
          "text": [
            " 14%|█▍        | 3439/24679 [14:22<1:58:29,  2.99it/s]"
          ]
        },
        {
          "name": "stdout",
          "output_type": "stream",
          "text": [
            "https://entertain.naver.com/read?oid=629&aid=0000131570\n"
          ]
        },
        {
          "name": "stderr",
          "output_type": "stream",
          "text": [
            " 14%|█▍        | 3443/24679 [14:23<2:03:37,  2.86it/s]"
          ]
        },
        {
          "name": "stdout",
          "output_type": "stream",
          "text": [
            "https://entertain.naver.com/read?oid=396&aid=0000604582\n"
          ]
        },
        {
          "name": "stderr",
          "output_type": "stream",
          "text": [
            " 14%|█▍        | 3454/24679 [14:25<1:05:35,  5.39it/s]"
          ]
        },
        {
          "name": "stdout",
          "output_type": "stream",
          "text": [
            "https://sports.news.naver.com/news.nhn?oid=442&aid=0000145932\n"
          ]
        },
        {
          "name": "stderr",
          "output_type": "stream",
          "text": [
            " 14%|█▍        | 3462/24679 [14:26<50:23,  7.02it/s]  "
          ]
        },
        {
          "name": "stdout",
          "output_type": "stream",
          "text": [
            "https://entertain.naver.com/read?oid=117&aid=0003576617\n"
          ]
        },
        {
          "name": "stderr",
          "output_type": "stream",
          "text": [
            " 14%|█▍        | 3491/24679 [14:32<1:10:07,  5.04it/s]"
          ]
        },
        {
          "name": "stdout",
          "output_type": "stream",
          "text": [
            "https://sports.news.naver.com/news.nhn?oid=144&aid=0000792480\n"
          ]
        },
        {
          "name": "stderr",
          "output_type": "stream",
          "text": [
            " 14%|█▍        | 3509/24679 [14:36<1:05:57,  5.35it/s]"
          ]
        },
        {
          "name": "stdout",
          "output_type": "stream",
          "text": [
            "https://entertain.naver.com/read?oid=410&aid=0000847875\n"
          ]
        },
        {
          "name": "stderr",
          "output_type": "stream",
          "text": [
            " 14%|█▍        | 3517/24679 [14:37<50:44,  6.95it/s]  "
          ]
        },
        {
          "name": "stdout",
          "output_type": "stream",
          "text": [
            "https://sports.news.naver.com/news.nhn?oid=236&aid=0000220941\n"
          ]
        },
        {
          "name": "stderr",
          "output_type": "stream",
          "text": [
            " 14%|█▍        | 3531/24679 [14:40<50:14,  7.01it/s]  "
          ]
        },
        {
          "name": "stdout",
          "output_type": "stream",
          "text": [
            "https://entertain.naver.com/read?oid=144&aid=0000791378\n"
          ]
        },
        {
          "name": "stderr",
          "output_type": "stream",
          "text": [
            " 14%|█▍        | 3537/24679 [14:41<1:32:03,  3.83it/s]"
          ]
        },
        {
          "name": "stdout",
          "output_type": "stream",
          "text": [
            "https://sports.news.naver.com/news.nhn?oid=439&aid=0000023575\n"
          ]
        },
        {
          "name": "stderr",
          "output_type": "stream",
          "text": [
            " 14%|█▍        | 3544/24679 [14:42<49:36,  7.10it/s]  "
          ]
        },
        {
          "name": "stdout",
          "output_type": "stream",
          "text": [
            "https://sports.news.naver.com/news.nhn?oid=356&aid=0000052120\n"
          ]
        },
        {
          "name": "stderr",
          "output_type": "stream",
          "text": [
            " 14%|█▍        | 3570/24679 [14:47<39:02,  9.01it/s]  "
          ]
        },
        {
          "name": "stdout",
          "output_type": "stream",
          "text": [
            "https://entertain.naver.com/read?oid=312&aid=0000529284\n",
            "https://entertain.naver.com/read?oid=312&aid=0000529284\n"
          ]
        },
        {
          "name": "stderr",
          "output_type": "stream",
          "text": [
            " 14%|█▍        | 3577/24679 [14:49<53:34,  6.56it/s]  "
          ]
        },
        {
          "name": "stdout",
          "output_type": "stream",
          "text": [
            "https://entertain.naver.com/read?oid=311&aid=0001407377\n"
          ]
        },
        {
          "name": "stderr",
          "output_type": "stream",
          "text": [
            " 15%|█▍        | 3685/24679 [15:16<1:15:35,  4.63it/s]"
          ]
        },
        {
          "name": "stdout",
          "output_type": "stream",
          "text": [
            "https://entertain.naver.com/read?oid=312&aid=0000529062\n"
          ]
        },
        {
          "name": "stderr",
          "output_type": "stream",
          "text": [
            " 15%|█▍        | 3690/24679 [15:17<50:55,  6.87it/s]  "
          ]
        },
        {
          "name": "stdout",
          "output_type": "stream",
          "text": [
            "https://sports.news.naver.com/news.nhn?oid=236&aid=0000221059\n"
          ]
        },
        {
          "name": "stderr",
          "output_type": "stream",
          "text": [
            " 15%|█▌        | 3724/24679 [15:24<1:08:56,  5.07it/s]"
          ]
        },
        {
          "name": "stdout",
          "output_type": "stream",
          "text": [
            "https://entertain.naver.com/read?oid=477&aid=0000341625\n"
          ]
        },
        {
          "name": "stderr",
          "output_type": "stream",
          "text": [
            " 15%|█▌        | 3731/24679 [15:25<56:07,  6.22it/s]  "
          ]
        },
        {
          "name": "stdout",
          "output_type": "stream",
          "text": [
            "https://entertain.naver.com/read?oid=215&aid=0001013231\n"
          ]
        },
        {
          "name": "stderr",
          "output_type": "stream",
          "text": [
            " 15%|█▌        | 3747/24679 [15:29<1:14:28,  4.68it/s]"
          ]
        },
        {
          "name": "stdout",
          "output_type": "stream",
          "text": [
            "https://entertain.naver.com/read?oid=057&aid=0001640991\n"
          ]
        },
        {
          "name": "stderr",
          "output_type": "stream",
          "text": [
            " 15%|█▌        | 3751/24679 [15:29<46:55,  7.43it/s]  "
          ]
        },
        {
          "name": "stdout",
          "output_type": "stream",
          "text": [
            "https://entertain.naver.com/read?oid=421&aid=0005886904\n"
          ]
        },
        {
          "name": "stderr",
          "output_type": "stream",
          "text": [
            " 15%|█▌        | 3790/24679 [15:37<1:10:14,  4.96it/s]"
          ]
        },
        {
          "name": "stdout",
          "output_type": "stream",
          "text": [
            "https://sports.news.naver.com/news.nhn?oid=442&aid=0000145533\n"
          ]
        },
        {
          "name": "stderr",
          "output_type": "stream",
          "text": [
            " 16%|█▌        | 3838/24679 [15:47<1:02:34,  5.55it/s]"
          ]
        },
        {
          "name": "stdout",
          "output_type": "stream",
          "text": [
            "https://sports.news.naver.com/news.nhn?oid=347&aid=0000159977\n"
          ]
        },
        {
          "name": "stderr",
          "output_type": "stream",
          "text": [
            " 16%|█▌        | 3843/24679 [15:48<1:04:01,  5.42it/s]"
          ]
        },
        {
          "name": "stdout",
          "output_type": "stream",
          "text": [
            "https://sports.news.naver.com/news.nhn?oid=236&aid=0000220943\n",
            "https://sports.news.naver.com/news.nhn?oid=236&aid=0000220943\n"
          ]
        },
        {
          "name": "stderr",
          "output_type": "stream",
          "text": [
            " 16%|█▌        | 3889/24679 [15:59<1:54:17,  3.03it/s]"
          ]
        },
        {
          "name": "stdout",
          "output_type": "stream",
          "text": [
            "https://entertain.naver.com/read?oid=003&aid=0011094829\n"
          ]
        },
        {
          "name": "stderr",
          "output_type": "stream",
          "text": [
            " 16%|█▌        | 3897/24679 [16:00<56:12,  6.16it/s]  "
          ]
        },
        {
          "name": "stdout",
          "output_type": "stream",
          "text": [
            "https://sports.news.naver.com/news.nhn?oid=109&aid=0004583022\n"
          ]
        },
        {
          "name": "stderr",
          "output_type": "stream",
          "text": [
            " 16%|█▌        | 3900/24679 [16:01<1:00:06,  5.76it/s]"
          ]
        },
        {
          "name": "stdout",
          "output_type": "stream",
          "text": [
            "https://sports.news.naver.com/news.nhn?oid=468&aid=0000846066\n"
          ]
        },
        {
          "name": "stderr",
          "output_type": "stream",
          "text": [
            " 16%|█▌        | 3940/24679 [16:09<1:08:28,  5.05it/s]"
          ]
        },
        {
          "name": "stdout",
          "output_type": "stream",
          "text": [
            "https://entertain.naver.com/read?oid=057&aid=0001652873\n"
          ]
        },
        {
          "name": "stderr",
          "output_type": "stream",
          "text": [
            " 16%|█▌        | 3947/24679 [16:10<47:07,  7.33it/s]  "
          ]
        },
        {
          "name": "stdout",
          "output_type": "stream",
          "text": [
            "https://sports.news.naver.com/news.nhn?oid=442&aid=0000147709\n"
          ]
        },
        {
          "name": "stderr",
          "output_type": "stream",
          "text": [
            " 16%|█▌        | 3953/24679 [16:11<1:04:53,  5.32it/s]"
          ]
        },
        {
          "name": "stdout",
          "output_type": "stream",
          "text": [
            "https://entertain.naver.com/read?oid=609&aid=0000557195\n"
          ]
        },
        {
          "name": "stderr",
          "output_type": "stream",
          "text": [
            " 16%|█▌        | 3959/24679 [16:12<1:01:39,  5.60it/s]"
          ]
        },
        {
          "name": "stdout",
          "output_type": "stream",
          "text": [
            "https://sports.news.naver.com/news.nhn?oid=477&aid=0000350488\n"
          ]
        },
        {
          "name": "stderr",
          "output_type": "stream",
          "text": [
            " 16%|█▋        | 4023/24679 [16:25<46:42,  7.37it/s]  "
          ]
        },
        {
          "name": "stdout",
          "output_type": "stream",
          "text": [
            "https://sports.news.naver.com/news.nhn?oid=014&aid=0004812453\n"
          ]
        },
        {
          "name": "stderr",
          "output_type": "stream",
          "text": [
            " 17%|█▋        | 4107/24679 [16:43<1:17:38,  4.42it/s]"
          ]
        },
        {
          "name": "stdout",
          "output_type": "stream",
          "text": [
            "https://entertain.naver.com/read?oid=057&aid=0001652873\n"
          ]
        },
        {
          "name": "stderr",
          "output_type": "stream",
          "text": [
            " 17%|█▋        | 4112/24679 [16:44<58:25,  5.87it/s]  "
          ]
        },
        {
          "name": "stdout",
          "output_type": "stream",
          "text": [
            "https://sports.news.naver.com/news.nhn?oid=442&aid=0000147709\n",
            "https://sports.news.naver.com/news.nhn?oid=442&aid=0000147709\n"
          ]
        },
        {
          "name": "stderr",
          "output_type": "stream",
          "text": [
            " 17%|█▋        | 4117/24679 [16:46<1:51:54,  3.06it/s]"
          ]
        },
        {
          "name": "stdout",
          "output_type": "stream",
          "text": [
            "https://entertain.naver.com/read?oid=312&aid=0000538725\n",
            "https://entertain.naver.com/read?oid=312&aid=0000538725\n"
          ]
        },
        {
          "name": "stderr",
          "output_type": "stream",
          "text": [
            " 17%|█▋        | 4135/24679 [16:49<1:10:38,  4.85it/s]"
          ]
        },
        {
          "name": "stdout",
          "output_type": "stream",
          "text": [
            "https://sports.news.naver.com/news.nhn?oid=018&aid=0005178880\n"
          ]
        },
        {
          "name": "stderr",
          "output_type": "stream",
          "text": [
            " 17%|█▋        | 4147/24679 [16:53<3:20:00,  1.71it/s]"
          ]
        },
        {
          "name": "stdout",
          "output_type": "stream",
          "text": [
            "https://sports.news.naver.com/news.nhn?oid=030&aid=0003007115\n"
          ]
        },
        {
          "name": "stderr",
          "output_type": "stream",
          "text": [
            " 17%|█▋        | 4170/24679 [16:58<1:05:48,  5.19it/s]"
          ]
        },
        {
          "name": "stdout",
          "output_type": "stream",
          "text": [
            "https://sports.news.naver.com/news.nhn?oid=347&aid=0000161596\n"
          ]
        },
        {
          "name": "stderr",
          "output_type": "stream",
          "text": [
            " 17%|█▋        | 4172/24679 [16:58<55:27,  6.16it/s]  "
          ]
        },
        {
          "name": "stdout",
          "output_type": "stream",
          "text": [
            "https://sports.news.naver.com/news.nhn?oid=347&aid=0000161596\n"
          ]
        },
        {
          "name": "stderr",
          "output_type": "stream",
          "text": [
            " 17%|█▋        | 4177/24679 [16:59<55:59,  6.10it/s]  "
          ]
        },
        {
          "name": "stdout",
          "output_type": "stream",
          "text": [
            "https://sports.news.naver.com/news.nhn?oid=277&aid=0005067377\n"
          ]
        },
        {
          "name": "stderr",
          "output_type": "stream",
          "text": [
            " 17%|█▋        | 4208/24679 [17:06<1:08:08,  5.01it/s]"
          ]
        },
        {
          "name": "stdout",
          "output_type": "stream",
          "text": [
            "https://sports.news.naver.com/news.nhn?oid=347&aid=0000161599\n"
          ]
        },
        {
          "name": "stderr",
          "output_type": "stream",
          "text": [
            " 17%|█▋        | 4211/24679 [17:06<1:10:38,  4.83it/s]"
          ]
        },
        {
          "name": "stdout",
          "output_type": "stream",
          "text": [
            "https://sports.news.naver.com/news.nhn?oid=014&aid=0004813159\n"
          ]
        },
        {
          "name": "stderr",
          "output_type": "stream",
          "text": [
            " 17%|█▋        | 4277/24679 [17:25<5:27:46,  1.04it/s]"
          ]
        },
        {
          "name": "stdout",
          "output_type": "stream",
          "text": [
            "https://sports.news.naver.com/news.nhn?oid=477&aid=0000350144\n"
          ]
        },
        {
          "name": "stderr",
          "output_type": "stream",
          "text": [
            " 17%|█▋        | 4288/24679 [17:27<58:30,  5.81it/s]  "
          ]
        },
        {
          "name": "stdout",
          "output_type": "stream",
          "text": [
            "https://sports.news.naver.com/news.nhn?oid=347&aid=0000161517\n"
          ]
        },
        {
          "name": "stderr",
          "output_type": "stream",
          "text": [
            " 18%|█▊        | 4321/24679 [17:35<1:12:49,  4.66it/s]"
          ]
        },
        {
          "name": "stdout",
          "output_type": "stream",
          "text": [
            "https://entertain.naver.com/read?oid=144&aid=0000801650\n"
          ]
        },
        {
          "name": "stderr",
          "output_type": "stream",
          "text": [
            " 18%|█▊        | 4342/24679 [17:40<52:31,  6.45it/s]  "
          ]
        },
        {
          "name": "stdout",
          "output_type": "stream",
          "text": [
            "https://sports.news.naver.com/news.nhn?oid=442&aid=0000147617\n"
          ]
        },
        {
          "name": "stderr",
          "output_type": "stream",
          "text": [
            " 18%|█▊        | 4360/24679 [17:43<47:18,  7.16it/s]  "
          ]
        },
        {
          "name": "stdout",
          "output_type": "stream",
          "text": [
            "https://entertain.naver.com/read?oid=018&aid=0005173513\n"
          ]
        },
        {
          "name": "stderr",
          "output_type": "stream",
          "text": [
            " 18%|█▊        | 4453/24679 [18:03<1:15:59,  4.44it/s]"
          ]
        },
        {
          "name": "stdout",
          "output_type": "stream",
          "text": [
            "https://sports.news.naver.com/news.nhn?oid=347&aid=0000161527\n",
            "https://sports.news.naver.com/news.nhn?oid=347&aid=0000161527\n"
          ]
        },
        {
          "name": "stderr",
          "output_type": "stream",
          "text": [
            " 18%|█▊        | 4492/24679 [18:14<1:55:53,  2.90it/s]"
          ]
        },
        {
          "name": "stdout",
          "output_type": "stream",
          "text": [
            "https://sports.news.naver.com/news.nhn?oid=442&aid=0000147572\n"
          ]
        },
        {
          "name": "stderr",
          "output_type": "stream",
          "text": [
            " 18%|█▊        | 4506/24679 [18:17<51:35,  6.52it/s]  "
          ]
        },
        {
          "name": "stdout",
          "output_type": "stream",
          "text": [
            "https://entertain.naver.com/read?oid=629&aid=0000139532\n"
          ]
        },
        {
          "name": "stderr",
          "output_type": "stream",
          "text": [
            " 18%|█▊        | 4547/24679 [18:26<1:11:18,  4.71it/s]"
          ]
        },
        {
          "name": "stdout",
          "output_type": "stream",
          "text": [
            "https://entertain.naver.com/read?oid=477&aid=0000349575\n"
          ]
        },
        {
          "name": "stderr",
          "output_type": "stream",
          "text": [
            " 18%|█▊        | 4556/24679 [18:28<1:09:28,  4.83it/s]"
          ]
        },
        {
          "name": "stdout",
          "output_type": "stream",
          "text": [
            "https://sports.news.naver.com/news.nhn?oid=018&aid=0005176575\n"
          ]
        },
        {
          "name": "stderr",
          "output_type": "stream",
          "text": [
            " 19%|█▉        | 4643/24679 [18:47<49:33,  6.74it/s]  "
          ]
        },
        {
          "name": "stdout",
          "output_type": "stream",
          "text": [
            "https://entertain.naver.com/read?oid=477&aid=0000348865\n"
          ]
        },
        {
          "name": "stderr",
          "output_type": "stream",
          "text": [
            " 19%|█▉        | 4667/24679 [18:53<1:33:39,  3.56it/s]"
          ]
        },
        {
          "name": "stdout",
          "output_type": "stream",
          "text": [
            "https://sports.news.naver.com/news.nhn?oid=442&aid=0000147585\n"
          ]
        },
        {
          "name": "stderr",
          "output_type": "stream",
          "text": [
            " 19%|█▉        | 4672/24679 [18:54<1:11:19,  4.67it/s]"
          ]
        },
        {
          "name": "stdout",
          "output_type": "stream",
          "text": [
            "https://sports.news.naver.com/news.nhn?oid=442&aid=0000147599\n"
          ]
        },
        {
          "name": "stderr",
          "output_type": "stream",
          "text": [
            " 19%|█▉        | 4675/24679 [18:54<58:58,  5.65it/s]  "
          ]
        },
        {
          "name": "stdout",
          "output_type": "stream",
          "text": [
            "https://sports.news.naver.com/news.nhn?oid=347&aid=0000161440\n"
          ]
        },
        {
          "name": "stderr",
          "output_type": "stream",
          "text": [
            " 19%|█▉        | 4782/24679 [19:20<1:14:57,  4.42it/s]"
          ]
        },
        {
          "name": "stdout",
          "output_type": "stream",
          "text": [
            "https://entertain.naver.com/read?oid=108&aid=0003037301\n"
          ]
        },
        {
          "name": "stderr",
          "output_type": "stream",
          "text": [
            " 19%|█▉        | 4789/24679 [19:21<48:30,  6.83it/s]  "
          ]
        },
        {
          "name": "stdout",
          "output_type": "stream",
          "text": [
            "https://entertain.naver.com/read?oid=021&aid=0002506986\n"
          ]
        },
        {
          "name": "stderr",
          "output_type": "stream",
          "text": [
            " 20%|█▉        | 4822/24679 [19:29<1:02:05,  5.33it/s]"
          ]
        },
        {
          "name": "stdout",
          "output_type": "stream",
          "text": [
            "https://entertain.naver.com/read?oid=312&aid=0000536675\n"
          ]
        },
        {
          "name": "stderr",
          "output_type": "stream",
          "text": [
            " 20%|█▉        | 4830/24679 [19:31<1:31:22,  3.62it/s]"
          ]
        },
        {
          "name": "stdout",
          "output_type": "stream",
          "text": [
            "https://entertain.naver.com/read?oid=144&aid=0000800816\n"
          ]
        },
        {
          "name": "stderr",
          "output_type": "stream",
          "text": [
            " 20%|█▉        | 4840/24679 [19:34<1:27:38,  3.77it/s]"
          ]
        },
        {
          "name": "stdout",
          "output_type": "stream",
          "text": [
            "https://entertain.naver.com/read?oid=215&aid=0001019991\n"
          ]
        },
        {
          "name": "stderr",
          "output_type": "stream",
          "text": [
            " 20%|█▉        | 4877/24679 [19:41<52:15,  6.32it/s]  "
          ]
        },
        {
          "name": "stdout",
          "output_type": "stream",
          "text": [
            "https://entertain.naver.com/read?oid=241&aid=0003198752\n"
          ]
        },
        {
          "name": "stderr",
          "output_type": "stream",
          "text": [
            " 20%|█▉        | 4890/24679 [19:44<1:09:22,  4.75it/s]"
          ]
        },
        {
          "name": "stdout",
          "output_type": "stream",
          "text": [
            "https://sports.news.naver.com/news.nhn?oid=018&aid=0005174310\n"
          ]
        },
        {
          "name": "stderr",
          "output_type": "stream",
          "text": [
            " 20%|█▉        | 4899/24679 [19:46<1:22:33,  3.99it/s]"
          ]
        },
        {
          "name": "stdout",
          "output_type": "stream",
          "text": [
            "https://entertain.naver.com/read?oid=001&aid=0013054959\n"
          ]
        },
        {
          "name": "stderr",
          "output_type": "stream",
          "text": [
            " 20%|█▉        | 4919/24679 [19:50<1:11:43,  4.59it/s]"
          ]
        },
        {
          "name": "stdout",
          "output_type": "stream",
          "text": [
            "https://sports.news.naver.com/news.nhn?oid=347&aid=0000161348\n"
          ]
        },
        {
          "name": "stderr",
          "output_type": "stream",
          "text": [
            " 20%|█▉        | 4927/24679 [19:52<1:01:05,  5.39it/s]"
          ]
        },
        {
          "name": "stdout",
          "output_type": "stream",
          "text": [
            "https://entertain.naver.com/read?oid=215&aid=0001020981\n"
          ]
        },
        {
          "name": "stderr",
          "output_type": "stream",
          "text": [
            " 20%|██        | 4937/24679 [19:53<51:34,  6.38it/s]  "
          ]
        },
        {
          "name": "stdout",
          "output_type": "stream",
          "text": [
            "https://entertain.naver.com/read?oid=468&aid=0000849706\n"
          ]
        },
        {
          "name": "stderr",
          "output_type": "stream",
          "text": [
            " 20%|██        | 4979/24679 [20:03<1:02:28,  5.26it/s]"
          ]
        },
        {
          "name": "stdout",
          "output_type": "stream",
          "text": [
            "https://sports.news.naver.com/news.nhn?oid=022&aid=0003676969\n"
          ]
        },
        {
          "name": "stderr",
          "output_type": "stream",
          "text": [
            " 20%|██        | 4985/24679 [20:04<46:45,  7.02it/s]  "
          ]
        },
        {
          "name": "stdout",
          "output_type": "stream",
          "text": [
            "https://entertain.naver.com/read?oid=396&aid=0000607806\n"
          ]
        },
        {
          "name": "stderr",
          "output_type": "stream",
          "text": [
            " 20%|██        | 4998/24679 [20:06<51:43,  6.34it/s]  "
          ]
        },
        {
          "name": "stdout",
          "output_type": "stream",
          "text": [
            "https://entertain.naver.com/read?oid=108&aid=0003036449\n"
          ]
        },
        {
          "name": "stderr",
          "output_type": "stream",
          "text": [
            " 20%|██        | 5048/24679 [20:17<1:33:42,  3.49it/s]"
          ]
        },
        {
          "name": "stdout",
          "output_type": "stream",
          "text": [
            "https://entertain.naver.com/read?oid=001&aid=0013049169\n",
            "https://entertain.naver.com/read?oid=001&aid=0013049169\n"
          ]
        },
        {
          "name": "stderr",
          "output_type": "stream",
          "text": [
            " 20%|██        | 5057/24679 [20:18<46:25,  7.05it/s]  "
          ]
        },
        {
          "name": "stdout",
          "output_type": "stream",
          "text": [
            "https://entertain.naver.com/read?oid=003&aid=0011038278\n"
          ]
        },
        {
          "name": "stderr",
          "output_type": "stream",
          "text": [
            " 21%|██        | 5063/24679 [20:20<1:08:22,  4.78it/s]"
          ]
        },
        {
          "name": "stdout",
          "output_type": "stream",
          "text": [
            "https://sports.news.naver.com/news.nhn?oid=144&aid=0000799906\n"
          ]
        },
        {
          "name": "stderr",
          "output_type": "stream",
          "text": [
            " 21%|██        | 5077/24679 [20:22<1:00:37,  5.39it/s]"
          ]
        },
        {
          "name": "stdout",
          "output_type": "stream",
          "text": [
            "https://entertain.naver.com/read?oid=003&aid=0011061699\n"
          ]
        },
        {
          "name": "stderr",
          "output_type": "stream",
          "text": [
            " 21%|██        | 5098/24679 [20:27<1:10:59,  4.60it/s]"
          ]
        },
        {
          "name": "stdout",
          "output_type": "stream",
          "text": [
            "https://sports.news.naver.com/news.nhn?oid=347&aid=0000161319\n",
            "https://sports.news.naver.com/news.nhn?oid=347&aid=0000161319\n"
          ]
        },
        {
          "name": "stderr",
          "output_type": "stream",
          "text": [
            " 21%|██        | 5109/24679 [20:29<59:31,  5.48it/s]  "
          ]
        },
        {
          "name": "stdout",
          "output_type": "stream",
          "text": [
            "https://entertain.naver.com/read?oid=108&aid=0003034993\n"
          ]
        },
        {
          "name": "stderr",
          "output_type": "stream",
          "text": [
            " 21%|██        | 5140/24679 [20:35<45:47,  7.11it/s]  "
          ]
        },
        {
          "name": "stdout",
          "output_type": "stream",
          "text": [
            "https://entertain.naver.com/read?oid=312&aid=0000537199\n"
          ]
        },
        {
          "name": "stderr",
          "output_type": "stream",
          "text": [
            " 21%|██        | 5146/24679 [20:38<2:07:47,  2.55it/s]"
          ]
        },
        {
          "name": "stdout",
          "output_type": "stream",
          "text": [
            "https://sports.news.naver.com/news.nhn?oid=236&aid=0000222169\n"
          ]
        },
        {
          "name": "stderr",
          "output_type": "stream",
          "text": [
            " 21%|██        | 5150/24679 [20:38<1:05:11,  4.99it/s]"
          ]
        },
        {
          "name": "stdout",
          "output_type": "stream",
          "text": [
            "https://sports.news.naver.com/news.nhn?oid=236&aid=0000222169\n"
          ]
        },
        {
          "name": "stderr",
          "output_type": "stream",
          "text": [
            " 21%|██        | 5163/24679 [20:41<52:31,  6.19it/s]  "
          ]
        },
        {
          "name": "stdout",
          "output_type": "stream",
          "text": [
            "https://entertain.naver.com/read?oid=415&aid=0000009191\n"
          ]
        },
        {
          "name": "stderr",
          "output_type": "stream",
          "text": [
            " 21%|██        | 5180/24679 [20:45<1:11:45,  4.53it/s]"
          ]
        },
        {
          "name": "stdout",
          "output_type": "stream",
          "text": [
            "https://sports.news.naver.com/news.nhn?oid=356&aid=0000052694\n"
          ]
        },
        {
          "name": "stderr",
          "output_type": "stream",
          "text": [
            " 21%|██        | 5184/24679 [20:45<1:12:23,  4.49it/s]"
          ]
        },
        {
          "name": "stdout",
          "output_type": "stream",
          "text": [
            "https://entertain.naver.com/read?oid=415&aid=0000009203\n",
            "https://entertain.naver.com/read?oid=415&aid=0000009203\n"
          ]
        },
        {
          "name": "stderr",
          "output_type": "stream",
          "text": [
            " 21%|██        | 5190/24679 [20:46<52:43,  6.16it/s]  "
          ]
        },
        {
          "name": "stdout",
          "output_type": "stream",
          "text": [
            "https://sports.news.naver.com/news.nhn?oid=356&aid=0000052700\n"
          ]
        },
        {
          "name": "stderr",
          "output_type": "stream",
          "text": [
            " 21%|██        | 5197/24679 [20:47<48:14,  6.73it/s]  "
          ]
        },
        {
          "name": "stdout",
          "output_type": "stream",
          "text": [
            "https://entertain.naver.com/read?oid=021&aid=0002505173\n"
          ]
        },
        {
          "name": "stderr",
          "output_type": "stream",
          "text": [
            " 21%|██        | 5227/24679 [20:54<48:01,  6.75it/s]  "
          ]
        },
        {
          "name": "stdout",
          "output_type": "stream",
          "text": [
            "https://sports.news.naver.com/news.nhn?oid=347&aid=0000161177\n"
          ]
        },
        {
          "name": "stderr",
          "output_type": "stream",
          "text": [
            " 21%|██        | 5231/24679 [20:55<54:53,  5.90it/s]"
          ]
        },
        {
          "name": "stdout",
          "output_type": "stream",
          "text": [
            "https://entertain.naver.com/read?oid=382&aid=0000965687\n"
          ]
        },
        {
          "name": "stderr",
          "output_type": "stream",
          "text": [
            " 21%|██        | 5237/24679 [20:56<1:00:24,  5.36it/s]"
          ]
        },
        {
          "name": "stdout",
          "output_type": "stream",
          "text": [
            "https://entertain.naver.com/read?oid=312&aid=0000535768\n"
          ]
        },
        {
          "name": "stderr",
          "output_type": "stream",
          "text": [
            " 21%|██▏       | 5250/24679 [20:58<51:25,  6.30it/s]  "
          ]
        },
        {
          "name": "stdout",
          "output_type": "stream",
          "text": [
            "https://entertain.naver.com/read?oid=108&aid=0003034852\n"
          ]
        },
        {
          "name": "stderr",
          "output_type": "stream",
          "text": [
            " 21%|██▏       | 5255/24679 [20:59<1:05:19,  4.96it/s]"
          ]
        },
        {
          "name": "stdout",
          "output_type": "stream",
          "text": [
            "https://entertain.naver.com/read?oid=468&aid=0000822588\n"
          ]
        },
        {
          "name": "stderr",
          "output_type": "stream",
          "text": [
            " 21%|██▏       | 5272/24679 [21:03<48:59,  6.60it/s]  "
          ]
        },
        {
          "name": "stdout",
          "output_type": "stream",
          "text": [
            "https://entertain.naver.com/read?oid=018&aid=0005164829\n"
          ]
        },
        {
          "name": "stderr",
          "output_type": "stream",
          "text": [
            " 21%|██▏       | 5276/24679 [21:04<1:09:16,  4.67it/s]"
          ]
        },
        {
          "name": "stdout",
          "output_type": "stream",
          "text": [
            "https://entertain.naver.com/read?oid=241&aid=0003196669\n"
          ]
        },
        {
          "name": "stderr",
          "output_type": "stream",
          "text": [
            " 22%|██▏       | 5315/24679 [21:14<1:19:28,  4.06it/s]"
          ]
        },
        {
          "name": "stdout",
          "output_type": "stream",
          "text": [
            "https://sports.news.naver.com/news.nhn?oid=356&aid=0000052725\n"
          ]
        },
        {
          "name": "stderr",
          "output_type": "stream",
          "text": [
            " 22%|██▏       | 5327/24679 [21:16<48:25,  6.66it/s]  "
          ]
        },
        {
          "name": "stdout",
          "output_type": "stream",
          "text": [
            "https://entertain.naver.com/read?oid=079&aid=0003619504\n"
          ]
        },
        {
          "name": "stderr",
          "output_type": "stream",
          "text": [
            " 22%|██▏       | 5338/24679 [21:18<49:15,  6.54it/s]  "
          ]
        },
        {
          "name": "stdout",
          "output_type": "stream",
          "text": [
            "https://entertain.naver.com/read?oid=241&aid=0003197095\n"
          ]
        },
        {
          "name": "stderr",
          "output_type": "stream",
          "text": [
            " 22%|██▏       | 5346/24679 [21:20<51:27,  6.26it/s]  "
          ]
        },
        {
          "name": "stdout",
          "output_type": "stream",
          "text": [
            "https://entertain.naver.com/read?oid=312&aid=0000536088\n"
          ]
        },
        {
          "name": "stderr",
          "output_type": "stream",
          "text": [
            " 22%|██▏       | 5350/24679 [21:21<42:12,  7.63it/s]"
          ]
        },
        {
          "name": "stdout",
          "output_type": "stream",
          "text": [
            "https://sports.news.naver.com/news.nhn?oid=382&aid=0000964922\n"
          ]
        },
        {
          "name": "stderr",
          "output_type": "stream",
          "text": [
            " 22%|██▏       | 5361/24679 [21:23<1:11:32,  4.50it/s]"
          ]
        },
        {
          "name": "stdout",
          "output_type": "stream",
          "text": [
            "https://entertain.naver.com/read?oid=001&aid=0013024839\n"
          ]
        },
        {
          "name": "stderr",
          "output_type": "stream",
          "text": [
            " 22%|██▏       | 5374/24679 [21:26<1:11:47,  4.48it/s]"
          ]
        },
        {
          "name": "stdout",
          "output_type": "stream",
          "text": [
            "https://sports.news.naver.com/news.nhn?oid=347&aid=0000161152\n"
          ]
        },
        {
          "name": "stderr",
          "output_type": "stream",
          "text": [
            " 22%|██▏       | 5384/24679 [21:27<47:33,  6.76it/s]  "
          ]
        },
        {
          "name": "stdout",
          "output_type": "stream",
          "text": [
            "https://entertain.naver.com/read?oid=003&aid=0011046250\n"
          ]
        },
        {
          "name": "stderr",
          "output_type": "stream",
          "text": [
            " 22%|██▏       | 5389/24679 [21:28<45:53,  7.01it/s]"
          ]
        },
        {
          "name": "stdout",
          "output_type": "stream",
          "text": [
            "https://sports.news.naver.com/news.nhn?oid=030&aid=0003004578\n"
          ]
        },
        {
          "name": "stderr",
          "output_type": "stream",
          "text": [
            " 22%|██▏       | 5402/24679 [21:31<1:34:00,  3.42it/s]"
          ]
        },
        {
          "name": "stdout",
          "output_type": "stream",
          "text": [
            "https://sports.news.naver.com/news.nhn?oid=144&aid=0000799104\n"
          ]
        },
        {
          "name": "stderr",
          "output_type": "stream",
          "text": [
            " 22%|██▏       | 5417/24679 [21:34<1:01:20,  5.23it/s]"
          ]
        },
        {
          "name": "stdout",
          "output_type": "stream",
          "text": [
            "https://sports.news.naver.com/news.nhn?oid=014&aid=0004805175\n"
          ]
        },
        {
          "name": "stderr",
          "output_type": "stream",
          "text": [
            " 22%|██▏       | 5437/24679 [21:38<46:05,  6.96it/s]  "
          ]
        },
        {
          "name": "stdout",
          "output_type": "stream",
          "text": [
            "https://entertain.naver.com/read?oid=241&aid=0003195712\n"
          ]
        },
        {
          "name": "stderr",
          "output_type": "stream",
          "text": [
            " 22%|██▏       | 5467/24679 [21:45<42:43,  7.49it/s]  "
          ]
        },
        {
          "name": "stdout",
          "output_type": "stream",
          "text": [
            "https://entertain.naver.com/read?oid=477&aid=0000347446\n",
            "https://sports.news.naver.com/news.nhn?oid=277&aid=0005058173\n"
          ]
        },
        {
          "name": "stderr",
          "output_type": "stream",
          "text": [
            " 22%|██▏       | 5487/24679 [21:51<1:07:27,  4.74it/s]"
          ]
        },
        {
          "name": "stdout",
          "output_type": "stream",
          "text": [
            "https://entertain.naver.com/read?oid=018&aid=0005158885\n"
          ]
        },
        {
          "name": "stderr",
          "output_type": "stream",
          "text": [
            " 22%|██▏       | 5493/24679 [21:52<52:25,  6.10it/s]  "
          ]
        },
        {
          "name": "stdout",
          "output_type": "stream",
          "text": [
            "https://entertain.naver.com/read?oid=382&aid=0000964261\n"
          ]
        },
        {
          "name": "stderr",
          "output_type": "stream",
          "text": [
            " 22%|██▏       | 5496/24679 [21:53<59:54,  5.34it/s]  "
          ]
        },
        {
          "name": "stdout",
          "output_type": "stream",
          "text": [
            "https://entertain.naver.com/read?oid=241&aid=0003194358\n"
          ]
        },
        {
          "name": "stderr",
          "output_type": "stream",
          "text": [
            " 22%|██▏       | 5507/24679 [21:56<1:14:38,  4.28it/s]"
          ]
        },
        {
          "name": "stdout",
          "output_type": "stream",
          "text": [
            "https://sports.news.naver.com/news.nhn?oid=014&aid=0004803290\n"
          ]
        },
        {
          "name": "stderr",
          "output_type": "stream",
          "text": [
            " 22%|██▏       | 5526/24679 [22:00<1:08:13,  4.68it/s]"
          ]
        },
        {
          "name": "stdout",
          "output_type": "stream",
          "text": [
            "https://sports.news.naver.com/news.nhn?oid=445&aid=0000038184\n"
          ]
        },
        {
          "name": "stderr",
          "output_type": "stream",
          "text": [
            " 23%|██▎       | 5564/24679 [22:08<1:08:50,  4.63it/s]"
          ]
        },
        {
          "name": "stdout",
          "output_type": "stream",
          "text": [
            "https://sports.news.naver.com/news.nhn?oid=018&aid=0005167880\n",
            "https://entertain.naver.com/read?oid=477&aid=0000347606\n"
          ]
        },
        {
          "name": "stderr",
          "output_type": "stream",
          "text": [
            " 23%|██▎       | 5582/24679 [22:11<55:16,  5.76it/s]  "
          ]
        },
        {
          "name": "stdout",
          "output_type": "stream",
          "text": [
            "https://entertain.naver.com/read?oid=011&aid=0004025232\n",
            "https://entertain.naver.com/read?oid=057&aid=0001646256\n"
          ]
        },
        {
          "name": "stderr",
          "output_type": "stream",
          "text": [
            " 23%|██▎       | 5618/24679 [22:19<46:21,  6.85it/s]  "
          ]
        },
        {
          "name": "stdout",
          "output_type": "stream",
          "text": [
            "https://sports.news.naver.com/news.nhn?oid=236&aid=0000221871\n"
          ]
        },
        {
          "name": "stderr",
          "output_type": "stream",
          "text": [
            " 23%|██▎       | 5624/24679 [22:19<44:19,  7.16it/s]"
          ]
        },
        {
          "name": "stdout",
          "output_type": "stream",
          "text": [
            "https://entertain.naver.com/read?oid=109&aid=0004566581\n",
            "https://entertain.naver.com/read?oid=140&aid=0000046855\n",
            "https://entertain.naver.com/read?oid=140&aid=0000046855\n"
          ]
        },
        {
          "name": "stderr",
          "output_type": "stream",
          "text": [
            " 23%|██▎       | 5635/24679 [22:21<42:59,  7.38it/s]"
          ]
        },
        {
          "name": "stdout",
          "output_type": "stream",
          "text": [
            "https://entertain.naver.com/read?oid=609&aid=0000547959\n"
          ]
        },
        {
          "name": "stderr",
          "output_type": "stream",
          "text": [
            " 23%|██▎       | 5645/24679 [22:23<45:54,  6.91it/s]  "
          ]
        },
        {
          "name": "stdout",
          "output_type": "stream",
          "text": [
            "https://sports.news.naver.com/news.nhn?oid=144&aid=0000797566\n"
          ]
        },
        {
          "name": "stderr",
          "output_type": "stream",
          "text": [
            " 23%|██▎       | 5699/24679 [22:36<1:13:12,  4.32it/s]"
          ]
        },
        {
          "name": "stdout",
          "output_type": "stream",
          "text": [
            "https://entertain.naver.com/read?oid=001&aid=0013146458\n"
          ]
        },
        {
          "name": "stderr",
          "output_type": "stream",
          "text": [
            " 23%|██▎       | 5752/24679 [22:48<44:45,  7.05it/s]  "
          ]
        },
        {
          "name": "stdout",
          "output_type": "stream",
          "text": [
            "https://entertain.naver.com/read?oid=001&aid=0013146458\n"
          ]
        },
        {
          "name": "stderr",
          "output_type": "stream",
          "text": [
            " 23%|██▎       | 5753/24679 [22:48<51:16,  6.15it/s]"
          ]
        },
        {
          "name": "stdout",
          "output_type": "stream",
          "text": [
            "https://entertain.naver.com/read?oid=001&aid=0013146458\n"
          ]
        },
        {
          "name": "stderr",
          "output_type": "stream",
          "text": [
            " 23%|██▎       | 5761/24679 [22:50<1:05:37,  4.81it/s]"
          ]
        },
        {
          "name": "stdout",
          "output_type": "stream",
          "text": [
            "https://entertain.naver.com/read?oid=438&aid=0000046114\n"
          ]
        },
        {
          "name": "stderr",
          "output_type": "stream",
          "text": [
            " 24%|██▍       | 5863/24679 [23:12<56:52,  5.51it/s]  "
          ]
        },
        {
          "name": "stdout",
          "output_type": "stream",
          "text": [
            "https://entertain.naver.com/read?oid=003&aid=0011155562\n"
          ]
        },
        {
          "name": "stderr",
          "output_type": "stream",
          "text": [
            " 24%|██▍       | 5942/24679 [23:30<1:06:03,  4.73it/s]"
          ]
        },
        {
          "name": "stdout",
          "output_type": "stream",
          "text": [
            "https://sports.news.naver.com/news.nhn?oid=018&aid=0005203764\n"
          ]
        },
        {
          "name": "stderr",
          "output_type": "stream",
          "text": [
            " 24%|██▍       | 5962/24679 [23:35<1:17:02,  4.05it/s]"
          ]
        },
        {
          "name": "stdout",
          "output_type": "stream",
          "text": [
            "https://entertain.naver.com/read?oid=311&aid=0001440981\n"
          ]
        },
        {
          "name": "stderr",
          "output_type": "stream",
          "text": [
            " 24%|██▍       | 5991/24679 [23:41<47:13,  6.59it/s]  "
          ]
        },
        {
          "name": "stdout",
          "output_type": "stream",
          "text": [
            "https://entertain.naver.com/read?oid=009&aid=0004954413\n",
            "https://sports.news.naver.com/news.nhn?oid=311&aid=0001441267\n"
          ]
        },
        {
          "name": "stderr",
          "output_type": "stream",
          "text": [
            " 24%|██▍       | 6005/24679 [23:44<56:43,  5.49it/s]"
          ]
        },
        {
          "name": "stdout",
          "output_type": "stream",
          "text": [
            "https://sports.news.naver.com/news.nhn?oid=144&aid=0000808638\n"
          ]
        },
        {
          "name": "stderr",
          "output_type": "stream",
          "text": [
            " 24%|██▍       | 6011/24679 [23:45<1:00:57,  5.10it/s]"
          ]
        },
        {
          "name": "stdout",
          "output_type": "stream",
          "text": [
            "https://entertain.naver.com/read?oid=001&aid=0013125580\n"
          ]
        },
        {
          "name": "stderr",
          "output_type": "stream",
          "text": [
            " 24%|██▍       | 6033/24679 [23:49<1:00:48,  5.11it/s]"
          ]
        },
        {
          "name": "stdout",
          "output_type": "stream",
          "text": [
            "https://entertain.naver.com/read?oid=003&aid=0011135188\n"
          ]
        },
        {
          "name": "stderr",
          "output_type": "stream",
          "text": [
            " 25%|██▍       | 6049/24679 [23:52<1:25:47,  3.62it/s]"
          ]
        },
        {
          "name": "stdout",
          "output_type": "stream",
          "text": [
            "https://sports.news.naver.com/news.nhn?oid=356&aid=0000053389\n"
          ]
        },
        {
          "name": "stderr",
          "output_type": "stream",
          "text": [
            " 25%|██▍       | 6091/24679 [24:00<49:59,  6.20it/s]  "
          ]
        },
        {
          "name": "stdout",
          "output_type": "stream",
          "text": [
            "https://sports.news.naver.com/news.nhn?oid=442&aid=0000148654\n"
          ]
        },
        {
          "name": "stderr",
          "output_type": "stream",
          "text": [
            " 25%|██▍       | 6100/24679 [24:02<34:03,  9.09it/s]"
          ]
        },
        {
          "name": "stdout",
          "output_type": "stream",
          "text": [
            "https://sports.news.naver.com/news.nhn?oid=442&aid=0000148719\n",
            "https://sports.news.naver.com/news.nhn?oid=018&aid=0005199488\n"
          ]
        },
        {
          "name": "stderr",
          "output_type": "stream",
          "text": [
            " 25%|██▍       | 6107/24679 [24:03<58:50,  5.26it/s]  "
          ]
        },
        {
          "name": "stdout",
          "output_type": "stream",
          "text": [
            "https://sports.news.naver.com/news.nhn?oid=030&aid=0003013497\n",
            "https://sports.news.naver.com/news.nhn?oid=030&aid=0003013497\n"
          ]
        },
        {
          "name": "stderr",
          "output_type": "stream",
          "text": [
            " 25%|██▍       | 6115/24679 [24:05<1:11:48,  4.31it/s]"
          ]
        },
        {
          "name": "stdout",
          "output_type": "stream",
          "text": [
            "https://sports.news.naver.com/news.nhn?oid=347&aid=0000162200\n"
          ]
        },
        {
          "name": "stderr",
          "output_type": "stream",
          "text": [
            " 25%|██▍       | 6123/24679 [24:06<1:07:11,  4.60it/s]"
          ]
        },
        {
          "name": "stdout",
          "output_type": "stream",
          "text": [
            "https://sports.news.naver.com/news.nhn?oid=468&aid=0000846762\n"
          ]
        },
        {
          "name": "stderr",
          "output_type": "stream",
          "text": [
            " 25%|██▍       | 6137/24679 [24:09<43:50,  7.05it/s]  "
          ]
        },
        {
          "name": "stdout",
          "output_type": "stream",
          "text": [
            "https://sports.news.naver.com/news.nhn?oid=347&aid=0000162237\n",
            "https://sports.news.naver.com/news.nhn?oid=347&aid=0000162237\n"
          ]
        },
        {
          "name": "stderr",
          "output_type": "stream",
          "text": [
            " 25%|██▍       | 6155/24679 [24:15<1:06:54,  4.61it/s]"
          ]
        },
        {
          "name": "stdout",
          "output_type": "stream",
          "text": [
            "https://sports.news.naver.com/news.nhn?oid=311&aid=0001440710\n"
          ]
        },
        {
          "name": "stderr",
          "output_type": "stream",
          "text": [
            " 25%|██▍       | 6160/24679 [24:16<1:16:24,  4.04it/s]"
          ]
        },
        {
          "name": "stdout",
          "output_type": "stream",
          "text": [
            "https://entertain.naver.com/read?oid=241&aid=0003206117\n"
          ]
        },
        {
          "name": "stderr",
          "output_type": "stream",
          "text": [
            " 25%|██▍       | 6169/24679 [24:17<36:06,  8.54it/s]  "
          ]
        },
        {
          "name": "stdout",
          "output_type": "stream",
          "text": [
            "https://sports.news.naver.com/news.nhn?oid=347&aid=0000162211\n",
            "https://sports.news.naver.com/news.nhn?oid=016&aid=0001983299\n"
          ]
        },
        {
          "name": "stderr",
          "output_type": "stream",
          "text": [
            " 25%|██▌       | 6190/24679 [24:21<51:42,  5.96it/s]  "
          ]
        },
        {
          "name": "stdout",
          "output_type": "stream",
          "text": [
            "https://entertain.naver.com/read?oid=609&aid=0000564763\n"
          ]
        },
        {
          "name": "stderr",
          "output_type": "stream",
          "text": [
            " 25%|██▌       | 6268/24679 [24:38<1:00:50,  5.04it/s]"
          ]
        },
        {
          "name": "stdout",
          "output_type": "stream",
          "text": [
            "https://entertain.naver.com/read?oid=144&aid=0000807737\n"
          ]
        },
        {
          "name": "stderr",
          "output_type": "stream",
          "text": [
            " 25%|██▌       | 6272/24679 [24:39<41:08,  7.46it/s]  "
          ]
        },
        {
          "name": "stdout",
          "output_type": "stream",
          "text": [
            "https://entertain.naver.com/read?oid=108&aid=0003046190\n"
          ]
        },
        {
          "name": "stderr",
          "output_type": "stream",
          "text": [
            " 25%|██▌       | 6279/24679 [24:40<45:10,  6.79it/s]"
          ]
        },
        {
          "name": "stdout",
          "output_type": "stream",
          "text": [
            "https://entertain.naver.com/read?oid=468&aid=0000847969\n"
          ]
        },
        {
          "name": "stderr",
          "output_type": "stream",
          "text": [
            " 25%|██▌       | 6285/24679 [24:41<1:03:48,  4.80it/s]"
          ]
        },
        {
          "name": "stdout",
          "output_type": "stream",
          "text": [
            "https://entertain.naver.com/read?oid=003&aid=0011120538\n"
          ]
        },
        {
          "name": "stderr",
          "output_type": "stream",
          "text": [
            " 26%|██▌       | 6308/24679 [24:46<1:00:02,  5.10it/s]"
          ]
        },
        {
          "name": "stdout",
          "output_type": "stream",
          "text": [
            "https://sports.news.naver.com/news.nhn?oid=236&aid=0000223314\n"
          ]
        },
        {
          "name": "stderr",
          "output_type": "stream",
          "text": [
            " 26%|██▌       | 6322/24679 [24:48<40:59,  7.46it/s]  "
          ]
        },
        {
          "name": "stdout",
          "output_type": "stream",
          "text": [
            "https://entertain.naver.com/read?oid=076&aid=0003853292\n",
            "https://entertain.naver.com/read?oid=076&aid=0003853292\n"
          ]
        },
        {
          "name": "stderr",
          "output_type": "stream",
          "text": [
            " 26%|██▌       | 6346/24679 [24:53<1:11:36,  4.27it/s]"
          ]
        },
        {
          "name": "stdout",
          "output_type": "stream",
          "text": [
            "https://entertain.naver.com/read?oid=437&aid=0000295590\n"
          ]
        },
        {
          "name": "stderr",
          "output_type": "stream",
          "text": [
            " 26%|██▌       | 6354/24679 [24:55<1:02:53,  4.86it/s]"
          ]
        },
        {
          "name": "stdout",
          "output_type": "stream",
          "text": [
            "https://entertain.naver.com/read?oid=410&aid=0000862046\n"
          ]
        },
        {
          "name": "stderr",
          "output_type": "stream",
          "text": [
            " 26%|██▌       | 6374/24679 [24:59<39:42,  7.68it/s]  "
          ]
        },
        {
          "name": "stdout",
          "output_type": "stream",
          "text": [
            "https://entertain.naver.com/read?oid=015&aid=0004685383\n",
            "https://entertain.naver.com/read?oid=015&aid=0004685383\n"
          ]
        },
        {
          "name": "stderr",
          "output_type": "stream",
          "text": [
            " 26%|██▌       | 6379/24679 [25:00<57:09,  5.34it/s]"
          ]
        },
        {
          "name": "stdout",
          "output_type": "stream",
          "text": [
            "https://entertain.naver.com/read?oid=468&aid=0000851627\n",
            "https://entertain.naver.com/read?oid=311&aid=0001434090\n"
          ]
        },
        {
          "name": "stderr",
          "output_type": "stream",
          "text": [
            " 26%|██▌       | 6396/24679 [25:03<1:04:27,  4.73it/s]"
          ]
        },
        {
          "name": "stdout",
          "output_type": "stream",
          "text": [
            "https://entertain.naver.com/read?oid=421&aid=0006026126\n"
          ]
        },
        {
          "name": "stderr",
          "output_type": "stream",
          "text": [
            " 26%|██▌       | 6416/24679 [25:07<1:08:25,  4.45it/s]"
          ]
        },
        {
          "name": "stdout",
          "output_type": "stream",
          "text": [
            "https://sports.news.naver.com/news.nhn?oid=347&aid=0000162076\n"
          ]
        },
        {
          "name": "stderr",
          "output_type": "stream",
          "text": [
            " 26%|██▌       | 6436/24679 [25:11<58:51,  5.17it/s]  "
          ]
        },
        {
          "name": "stdout",
          "output_type": "stream",
          "text": [
            "https://entertain.naver.com/read?oid=144&aid=0000807139\n"
          ]
        },
        {
          "name": "stderr",
          "output_type": "stream",
          "text": [
            " 26%|██▌       | 6440/24679 [25:12<55:36,  5.47it/s]"
          ]
        },
        {
          "name": "stdout",
          "output_type": "stream",
          "text": [
            "https://entertain.naver.com/read?oid=312&aid=0000540986\n"
          ]
        },
        {
          "name": "stderr",
          "output_type": "stream",
          "text": [
            " 26%|██▌       | 6449/24679 [25:14<1:01:40,  4.93it/s]"
          ]
        },
        {
          "name": "stdout",
          "output_type": "stream",
          "text": [
            "https://sports.news.naver.com/news.nhn?oid=236&aid=0000223366\n"
          ]
        },
        {
          "name": "stderr",
          "output_type": "stream",
          "text": [
            " 26%|██▌       | 6466/24679 [25:17<53:21,  5.69it/s]  "
          ]
        },
        {
          "name": "stdout",
          "output_type": "stream",
          "text": [
            "https://entertain.naver.com/read?oid=609&aid=0000562201\n"
          ]
        },
        {
          "name": "stderr",
          "output_type": "stream",
          "text": [
            " 26%|██▌       | 6474/24679 [25:19<45:00,  6.74it/s]  "
          ]
        },
        {
          "name": "stdout",
          "output_type": "stream",
          "text": [
            "https://entertain.naver.com/read?oid=416&aid=0000282053\n"
          ]
        },
        {
          "name": "stderr",
          "output_type": "stream",
          "text": [
            " 26%|██▋       | 6495/24679 [25:23<1:03:15,  4.79it/s]"
          ]
        },
        {
          "name": "stdout",
          "output_type": "stream",
          "text": [
            "https://entertain.naver.com/read?oid=109&aid=0004591177\n"
          ]
        },
        {
          "name": "stderr",
          "output_type": "stream",
          "text": [
            " 26%|██▋       | 6529/24679 [25:31<1:13:06,  4.14it/s]"
          ]
        },
        {
          "name": "stdout",
          "output_type": "stream",
          "text": [
            "https://entertain.naver.com/read?oid=001&aid=0013127145\n"
          ]
        },
        {
          "name": "stderr",
          "output_type": "stream",
          "text": [
            " 27%|██▋       | 6576/24679 [25:43<49:07,  6.14it/s]  "
          ]
        },
        {
          "name": "stdout",
          "output_type": "stream",
          "text": [
            "https://entertain.naver.com/read?oid=382&aid=0000973128\n",
            "https://entertain.naver.com/read?oid=382&aid=0000973128\n"
          ]
        },
        {
          "name": "stderr",
          "output_type": "stream",
          "text": [
            " 27%|██▋       | 6604/24679 [25:49<47:54,  6.29it/s]  "
          ]
        },
        {
          "name": "stdout",
          "output_type": "stream",
          "text": [
            "https://sports.news.naver.com/news.nhn?oid=347&aid=0000162050\n"
          ]
        },
        {
          "name": "stderr",
          "output_type": "stream",
          "text": [
            " 27%|██▋       | 6778/24679 [26:27<42:42,  6.99it/s]  "
          ]
        },
        {
          "name": "stdout",
          "output_type": "stream",
          "text": [
            "https://sports.news.naver.com/news.nhn?oid=236&aid=0000223203\n"
          ]
        },
        {
          "name": "stderr",
          "output_type": "stream",
          "text": [
            " 28%|██▊       | 6809/24679 [26:34<54:13,  5.49it/s]  "
          ]
        },
        {
          "name": "stdout",
          "output_type": "stream",
          "text": [
            "https://sports.news.naver.com/news.nhn?oid=468&aid=0000835589\n"
          ]
        },
        {
          "name": "stderr",
          "output_type": "stream",
          "text": [
            " 28%|██▊       | 6857/24679 [26:47<37:17,  7.97it/s]  "
          ]
        },
        {
          "name": "stdout",
          "output_type": "stream",
          "text": [
            "https://entertain.naver.com/read?oid=108&aid=0003043685\n",
            "https://entertain.naver.com/read?oid=108&aid=0003043685\n"
          ]
        },
        {
          "name": "stderr",
          "output_type": "stream",
          "text": [
            " 28%|██▊       | 6887/24679 [26:55<1:12:17,  4.10it/s]"
          ]
        },
        {
          "name": "stdout",
          "output_type": "stream",
          "text": [
            "https://sports.news.naver.com/news.nhn?oid=442&aid=0000148663\n"
          ]
        },
        {
          "name": "stderr",
          "output_type": "stream",
          "text": [
            " 28%|██▊       | 6924/24679 [27:02<55:50,  5.30it/s]  "
          ]
        },
        {
          "name": "stdout",
          "output_type": "stream",
          "text": [
            "https://sports.news.naver.com/news.nhn?oid=144&aid=0000808731\n"
          ]
        },
        {
          "name": "stderr",
          "output_type": "stream",
          "text": [
            " 28%|██▊       | 6978/24679 [27:15<1:11:57,  4.10it/s]"
          ]
        },
        {
          "name": "stdout",
          "output_type": "stream",
          "text": [
            "https://sports.news.naver.com/news.nhn?oid=435&aid=0000010372\n"
          ]
        },
        {
          "name": "stderr",
          "output_type": "stream",
          "text": [
            " 28%|██▊       | 7017/24679 [27:24<45:36,  6.46it/s]  "
          ]
        },
        {
          "name": "stdout",
          "output_type": "stream",
          "text": [
            "https://entertain.naver.com/read?oid=468&aid=0000854115\n"
          ]
        },
        {
          "name": "stderr",
          "output_type": "stream",
          "text": [
            " 28%|██▊       | 7029/24679 [27:27<1:22:04,  3.58it/s]"
          ]
        },
        {
          "name": "stdout",
          "output_type": "stream",
          "text": [
            "https://sports.news.naver.com/news.nhn?oid=347&aid=0000162041\n"
          ]
        },
        {
          "name": "stderr",
          "output_type": "stream",
          "text": [
            " 29%|██▊       | 7083/24679 [27:39<56:15,  5.21it/s]  "
          ]
        },
        {
          "name": "stdout",
          "output_type": "stream",
          "text": [
            "https://entertain.naver.com/read?oid=382&aid=0000971258\n"
          ]
        },
        {
          "name": "stderr",
          "output_type": "stream",
          "text": [
            " 29%|██▊       | 7090/24679 [27:41<57:15,  5.12it/s]"
          ]
        },
        {
          "name": "stdout",
          "output_type": "stream",
          "text": [
            "https://entertain.naver.com/read?oid=312&aid=0000541260\n"
          ]
        },
        {
          "name": "stderr",
          "output_type": "stream",
          "text": [
            " 29%|██▉       | 7100/24679 [27:43<54:20,  5.39it/s]  "
          ]
        },
        {
          "name": "stdout",
          "output_type": "stream",
          "text": [
            "https://entertain.naver.com/read?oid=009&aid=0004947813\n"
          ]
        },
        {
          "name": "stderr",
          "output_type": "stream",
          "text": [
            " 29%|██▉       | 7128/24679 [27:49<53:51,  5.43it/s]  "
          ]
        },
        {
          "name": "stdout",
          "output_type": "stream",
          "text": [
            "https://entertain.naver.com/read?oid=144&aid=0000805340\n",
            "https://sports.news.naver.com/news.nhn?oid=018&aid=0005187760\n"
          ]
        },
        {
          "name": "stderr",
          "output_type": "stream",
          "text": [
            " 29%|██▉       | 7160/24679 [27:57<1:05:23,  4.46it/s]"
          ]
        },
        {
          "name": "stdout",
          "output_type": "stream",
          "text": [
            "https://entertain.naver.com/read?oid=144&aid=0000803814\n"
          ]
        },
        {
          "name": "stderr",
          "output_type": "stream",
          "text": [
            " 29%|██▉       | 7190/24679 [28:04<58:26,  4.99it/s]  "
          ]
        },
        {
          "name": "stdout",
          "output_type": "stream",
          "text": [
            "https://entertain.naver.com/read?oid=312&aid=0000541011\n"
          ]
        },
        {
          "name": "stderr",
          "output_type": "stream",
          "text": [
            " 29%|██▉       | 7220/24679 [28:10<44:41,  6.51it/s]  "
          ]
        },
        {
          "name": "stdout",
          "output_type": "stream",
          "text": [
            "https://sports.news.naver.com/news.nhn?oid=435&aid=0000010250\n"
          ]
        },
        {
          "name": "stderr",
          "output_type": "stream",
          "text": [
            " 29%|██▉       | 7235/24679 [28:13<58:49,  4.94it/s]  "
          ]
        },
        {
          "name": "stdout",
          "output_type": "stream",
          "text": [
            "https://sports.news.naver.com/news.nhn?oid=442&aid=0000148168\n"
          ]
        },
        {
          "name": "stderr",
          "output_type": "stream",
          "text": [
            " 29%|██▉       | 7277/24679 [28:24<44:48,  6.47it/s]  "
          ]
        },
        {
          "name": "stdout",
          "output_type": "stream",
          "text": [
            "https://sports.news.naver.com/news.nhn?oid=468&aid=0000827683\n"
          ]
        },
        {
          "name": "stderr",
          "output_type": "stream",
          "text": [
            " 30%|██▉       | 7289/24679 [28:27<51:20,  5.65it/s]  "
          ]
        },
        {
          "name": "stdout",
          "output_type": "stream",
          "text": [
            "https://entertain.naver.com/read?oid=140&aid=0000047107\n"
          ]
        },
        {
          "name": "stderr",
          "output_type": "stream",
          "text": [
            " 30%|██▉       | 7320/24679 [28:33<44:28,  6.51it/s]  "
          ]
        },
        {
          "name": "stdout",
          "output_type": "stream",
          "text": [
            "https://sports.news.naver.com/news.nhn?oid=347&aid=0000161921\n"
          ]
        },
        {
          "name": "stderr",
          "output_type": "stream",
          "text": [
            " 30%|██▉       | 7344/24679 [28:38<1:02:15,  4.64it/s]"
          ]
        },
        {
          "name": "stdout",
          "output_type": "stream",
          "text": [
            "https://sports.news.naver.com/news.nhn?oid=435&aid=0000010240\n"
          ]
        },
        {
          "name": "stderr",
          "output_type": "stream",
          "text": [
            " 30%|██▉       | 7356/24679 [28:40<59:12,  4.88it/s]  "
          ]
        },
        {
          "name": "stdout",
          "output_type": "stream",
          "text": [
            "https://sports.news.naver.com/news.nhn?oid=468&aid=0000830896\n"
          ]
        },
        {
          "name": "stderr",
          "output_type": "stream",
          "text": [
            " 30%|██▉       | 7393/24679 [28:49<1:00:41,  4.75it/s]"
          ]
        },
        {
          "name": "stdout",
          "output_type": "stream",
          "text": [
            "https://entertain.naver.com/read?oid=001&aid=0013146458\n"
          ]
        },
        {
          "name": "stderr",
          "output_type": "stream",
          "text": [
            " 30%|███       | 7446/24679 [29:01<41:55,  6.85it/s]  "
          ]
        },
        {
          "name": "stdout",
          "output_type": "stream",
          "text": [
            "https://entertain.naver.com/read?oid=001&aid=0013146458\n"
          ]
        },
        {
          "name": "stderr",
          "output_type": "stream",
          "text": [
            " 30%|███       | 7447/24679 [29:01<46:40,  6.15it/s]"
          ]
        },
        {
          "name": "stdout",
          "output_type": "stream",
          "text": [
            "https://entertain.naver.com/read?oid=001&aid=0013146458\n"
          ]
        },
        {
          "name": "stderr",
          "output_type": "stream",
          "text": [
            " 30%|███       | 7455/24679 [29:02<53:54,  5.32it/s]"
          ]
        },
        {
          "name": "stdout",
          "output_type": "stream",
          "text": [
            "https://entertain.naver.com/read?oid=438&aid=0000046114\n"
          ]
        },
        {
          "name": "stderr",
          "output_type": "stream",
          "text": [
            " 31%|███       | 7557/24679 [29:23<44:40,  6.39it/s]  "
          ]
        },
        {
          "name": "stdout",
          "output_type": "stream",
          "text": [
            "https://entertain.naver.com/read?oid=003&aid=0011155562\n"
          ]
        },
        {
          "name": "stderr",
          "output_type": "stream",
          "text": [
            " 31%|███       | 7636/24679 [29:40<1:02:39,  4.53it/s]"
          ]
        },
        {
          "name": "stdout",
          "output_type": "stream",
          "text": [
            "https://sports.news.naver.com/news.nhn?oid=018&aid=0005203764\n"
          ]
        },
        {
          "name": "stderr",
          "output_type": "stream",
          "text": [
            " 31%|███       | 7656/24679 [29:46<1:06:28,  4.27it/s]"
          ]
        },
        {
          "name": "stdout",
          "output_type": "stream",
          "text": [
            "https://entertain.naver.com/read?oid=311&aid=0001440981\n"
          ]
        },
        {
          "name": "stderr",
          "output_type": "stream",
          "text": [
            " 31%|███       | 7685/24679 [29:51<42:13,  6.71it/s]  "
          ]
        },
        {
          "name": "stdout",
          "output_type": "stream",
          "text": [
            "https://entertain.naver.com/read?oid=009&aid=0004954413\n",
            "https://sports.news.naver.com/news.nhn?oid=311&aid=0001441267\n"
          ]
        },
        {
          "name": "stderr",
          "output_type": "stream",
          "text": [
            " 31%|███       | 7699/24679 [29:54<54:09,  5.23it/s]  "
          ]
        },
        {
          "name": "stdout",
          "output_type": "stream",
          "text": [
            "https://sports.news.naver.com/news.nhn?oid=144&aid=0000808638\n"
          ]
        },
        {
          "name": "stderr",
          "output_type": "stream",
          "text": [
            " 31%|███       | 7705/24679 [29:55<50:19,  5.62it/s]"
          ]
        },
        {
          "name": "stdout",
          "output_type": "stream",
          "text": [
            "https://entertain.naver.com/read?oid=001&aid=0013125580\n"
          ]
        },
        {
          "name": "stderr",
          "output_type": "stream",
          "text": [
            " 31%|███▏      | 7729/24679 [29:59<41:29,  6.81it/s]"
          ]
        },
        {
          "name": "stdout",
          "output_type": "stream",
          "text": [
            "https://entertain.naver.com/read?oid=003&aid=0011135188\n"
          ]
        },
        {
          "name": "stderr",
          "output_type": "stream",
          "text": [
            " 31%|███▏      | 7743/24679 [30:02<56:25,  5.00it/s]"
          ]
        },
        {
          "name": "stdout",
          "output_type": "stream",
          "text": [
            "https://sports.news.naver.com/news.nhn?oid=356&aid=0000053389\n"
          ]
        },
        {
          "name": "stderr",
          "output_type": "stream",
          "text": [
            " 32%|███▏      | 7785/24679 [30:10<46:34,  6.05it/s]  "
          ]
        },
        {
          "name": "stdout",
          "output_type": "stream",
          "text": [
            "https://sports.news.naver.com/news.nhn?oid=442&aid=0000148654\n"
          ]
        },
        {
          "name": "stderr",
          "output_type": "stream",
          "text": [
            " 32%|███▏      | 7791/24679 [30:11<46:56,  6.00it/s]"
          ]
        },
        {
          "name": "stdout",
          "output_type": "stream",
          "text": [
            "https://sports.news.naver.com/news.nhn?oid=442&aid=0000148719\n",
            "https://sports.news.naver.com/news.nhn?oid=018&aid=0005199488\n"
          ]
        },
        {
          "name": "stderr",
          "output_type": "stream",
          "text": [
            " 32%|███▏      | 7801/24679 [30:13<51:39,  5.45it/s]"
          ]
        },
        {
          "name": "stdout",
          "output_type": "stream",
          "text": [
            "https://sports.news.naver.com/news.nhn?oid=030&aid=0003013497\n",
            "https://sports.news.naver.com/news.nhn?oid=030&aid=0003013497\n"
          ]
        },
        {
          "name": "stderr",
          "output_type": "stream",
          "text": [
            " 32%|███▏      | 7809/24679 [30:14<55:00,  5.11it/s]"
          ]
        },
        {
          "name": "stdout",
          "output_type": "stream",
          "text": [
            "https://sports.news.naver.com/news.nhn?oid=347&aid=0000162200\n"
          ]
        },
        {
          "name": "stderr",
          "output_type": "stream",
          "text": [
            " 32%|███▏      | 7817/24679 [30:16<1:24:58,  3.31it/s]"
          ]
        },
        {
          "name": "stdout",
          "output_type": "stream",
          "text": [
            "https://sports.news.naver.com/news.nhn?oid=468&aid=0000846762\n"
          ]
        },
        {
          "name": "stderr",
          "output_type": "stream",
          "text": [
            " 32%|███▏      | 7831/24679 [30:19<50:38,  5.55it/s]  "
          ]
        },
        {
          "name": "stdout",
          "output_type": "stream",
          "text": [
            "https://sports.news.naver.com/news.nhn?oid=347&aid=0000162237\n",
            "https://sports.news.naver.com/news.nhn?oid=347&aid=0000162237\n"
          ]
        },
        {
          "name": "stderr",
          "output_type": "stream",
          "text": [
            " 32%|███▏      | 7849/24679 [30:23<41:10,  6.81it/s]  "
          ]
        },
        {
          "name": "stdout",
          "output_type": "stream",
          "text": [
            "https://sports.news.naver.com/news.nhn?oid=311&aid=0001440710\n"
          ]
        },
        {
          "name": "stderr",
          "output_type": "stream",
          "text": [
            " 32%|███▏      | 7854/24679 [30:24<51:15,  5.47it/s]"
          ]
        },
        {
          "name": "stdout",
          "output_type": "stream",
          "text": [
            "https://entertain.naver.com/read?oid=241&aid=0003206117\n"
          ]
        },
        {
          "name": "stderr",
          "output_type": "stream",
          "text": [
            " 32%|███▏      | 7863/24679 [30:25<30:56,  9.06it/s]"
          ]
        },
        {
          "name": "stdout",
          "output_type": "stream",
          "text": [
            "https://sports.news.naver.com/news.nhn?oid=347&aid=0000162211\n",
            "https://sports.news.naver.com/news.nhn?oid=016&aid=0001983299\n"
          ]
        },
        {
          "name": "stderr",
          "output_type": "stream",
          "text": [
            " 32%|███▏      | 7884/24679 [30:30<46:36,  6.01it/s]  "
          ]
        },
        {
          "name": "stdout",
          "output_type": "stream",
          "text": [
            "https://entertain.naver.com/read?oid=609&aid=0000564763\n"
          ]
        },
        {
          "name": "stderr",
          "output_type": "stream",
          "text": [
            " 32%|███▏      | 7962/24679 [30:46<54:05,  5.15it/s]  "
          ]
        },
        {
          "name": "stdout",
          "output_type": "stream",
          "text": [
            "https://entertain.naver.com/read?oid=144&aid=0000807737\n"
          ]
        },
        {
          "name": "stderr",
          "output_type": "stream",
          "text": [
            " 32%|███▏      | 7966/24679 [30:46<40:55,  6.81it/s]"
          ]
        },
        {
          "name": "stdout",
          "output_type": "stream",
          "text": [
            "https://entertain.naver.com/read?oid=108&aid=0003046190\n"
          ]
        },
        {
          "name": "stderr",
          "output_type": "stream",
          "text": [
            " 32%|███▏      | 7973/24679 [30:48<47:09,  5.90it/s]  "
          ]
        },
        {
          "name": "stdout",
          "output_type": "stream",
          "text": [
            "https://entertain.naver.com/read?oid=468&aid=0000847969\n"
          ]
        },
        {
          "name": "stderr",
          "output_type": "stream",
          "text": [
            " 32%|███▏      | 7979/24679 [30:49<59:55,  4.64it/s]"
          ]
        },
        {
          "name": "stdout",
          "output_type": "stream",
          "text": [
            "https://entertain.naver.com/read?oid=003&aid=0011120538\n"
          ]
        },
        {
          "name": "stderr",
          "output_type": "stream",
          "text": [
            " 32%|███▏      | 8002/24679 [30:54<52:55,  5.25it/s]  "
          ]
        },
        {
          "name": "stdout",
          "output_type": "stream",
          "text": [
            "https://sports.news.naver.com/news.nhn?oid=236&aid=0000223314\n"
          ]
        },
        {
          "name": "stderr",
          "output_type": "stream",
          "text": [
            " 32%|███▏      | 8016/24679 [30:56<35:25,  7.84it/s]  "
          ]
        },
        {
          "name": "stdout",
          "output_type": "stream",
          "text": [
            "https://entertain.naver.com/read?oid=076&aid=0003853292\n",
            "https://entertain.naver.com/read?oid=076&aid=0003853292\n"
          ]
        },
        {
          "name": "stderr",
          "output_type": "stream",
          "text": [
            " 33%|███▎      | 8040/24679 [31:01<1:03:37,  4.36it/s]"
          ]
        },
        {
          "name": "stdout",
          "output_type": "stream",
          "text": [
            "https://entertain.naver.com/read?oid=437&aid=0000295590\n"
          ]
        },
        {
          "name": "stderr",
          "output_type": "stream",
          "text": [
            " 33%|███▎      | 8048/24679 [31:03<1:02:12,  4.46it/s]"
          ]
        },
        {
          "name": "stdout",
          "output_type": "stream",
          "text": [
            "https://entertain.naver.com/read?oid=410&aid=0000862046\n"
          ]
        },
        {
          "name": "stderr",
          "output_type": "stream",
          "text": [
            " 33%|███▎      | 8068/24679 [31:06<35:37,  7.77it/s]  "
          ]
        },
        {
          "name": "stdout",
          "output_type": "stream",
          "text": [
            "https://entertain.naver.com/read?oid=015&aid=0004685383\n",
            "https://entertain.naver.com/read?oid=015&aid=0004685383\n"
          ]
        },
        {
          "name": "stderr",
          "output_type": "stream",
          "text": [
            " 33%|███▎      | 8073/24679 [31:07<50:41,  5.46it/s]"
          ]
        },
        {
          "name": "stdout",
          "output_type": "stream",
          "text": [
            "https://entertain.naver.com/read?oid=468&aid=0000851627\n",
            "https://entertain.naver.com/read?oid=311&aid=0001434090\n"
          ]
        },
        {
          "name": "stderr",
          "output_type": "stream",
          "text": [
            " 33%|███▎      | 8090/24679 [31:10<54:14,  5.10it/s]"
          ]
        },
        {
          "name": "stdout",
          "output_type": "stream",
          "text": [
            "https://entertain.naver.com/read?oid=421&aid=0006026126\n"
          ]
        },
        {
          "name": "stderr",
          "output_type": "stream",
          "text": [
            " 33%|███▎      | 8110/24679 [31:14<42:00,  6.57it/s]"
          ]
        },
        {
          "name": "stdout",
          "output_type": "stream",
          "text": [
            "https://sports.news.naver.com/news.nhn?oid=347&aid=0000162076\n"
          ]
        },
        {
          "name": "stderr",
          "output_type": "stream",
          "text": [
            " 33%|███▎      | 8130/24679 [31:18<1:28:35,  3.11it/s]"
          ]
        },
        {
          "name": "stdout",
          "output_type": "stream",
          "text": [
            "https://entertain.naver.com/read?oid=144&aid=0000807139\n"
          ]
        },
        {
          "name": "stderr",
          "output_type": "stream",
          "text": [
            " 33%|███▎      | 8134/24679 [31:19<1:13:42,  3.74it/s]"
          ]
        },
        {
          "name": "stdout",
          "output_type": "stream",
          "text": [
            "https://entertain.naver.com/read?oid=312&aid=0000540986\n"
          ]
        },
        {
          "name": "stderr",
          "output_type": "stream",
          "text": [
            " 33%|███▎      | 8143/24679 [31:21<55:12,  4.99it/s]  "
          ]
        },
        {
          "name": "stdout",
          "output_type": "stream",
          "text": [
            "https://sports.news.naver.com/news.nhn?oid=236&aid=0000223366\n"
          ]
        },
        {
          "name": "stderr",
          "output_type": "stream",
          "text": [
            " 33%|███▎      | 8160/24679 [31:24<47:52,  5.75it/s]  "
          ]
        },
        {
          "name": "stdout",
          "output_type": "stream",
          "text": [
            "https://entertain.naver.com/read?oid=609&aid=0000562201\n"
          ]
        },
        {
          "name": "stderr",
          "output_type": "stream",
          "text": [
            " 33%|███▎      | 8168/24679 [31:26<41:41,  6.60it/s]  "
          ]
        },
        {
          "name": "stdout",
          "output_type": "stream",
          "text": [
            "https://entertain.naver.com/read?oid=416&aid=0000282053\n"
          ]
        },
        {
          "name": "stderr",
          "output_type": "stream",
          "text": [
            " 33%|███▎      | 8189/24679 [31:30<58:16,  4.72it/s]  "
          ]
        },
        {
          "name": "stdout",
          "output_type": "stream",
          "text": [
            "https://entertain.naver.com/read?oid=109&aid=0004591177\n"
          ]
        },
        {
          "name": "stderr",
          "output_type": "stream",
          "text": [
            " 33%|███▎      | 8223/24679 [31:38<1:24:55,  3.23it/s]"
          ]
        },
        {
          "name": "stdout",
          "output_type": "stream",
          "text": [
            "https://entertain.naver.com/read?oid=001&aid=0013127145\n"
          ]
        },
        {
          "name": "stderr",
          "output_type": "stream",
          "text": [
            " 34%|███▎      | 8270/24679 [31:50<44:27,  6.15it/s]  "
          ]
        },
        {
          "name": "stdout",
          "output_type": "stream",
          "text": [
            "https://entertain.naver.com/read?oid=382&aid=0000973128\n",
            "https://entertain.naver.com/read?oid=382&aid=0000973128\n"
          ]
        },
        {
          "name": "stderr",
          "output_type": "stream",
          "text": [
            " 34%|███▎      | 8298/24679 [31:56<41:58,  6.50it/s]  "
          ]
        },
        {
          "name": "stdout",
          "output_type": "stream",
          "text": [
            "https://sports.news.naver.com/news.nhn?oid=347&aid=0000162050\n"
          ]
        },
        {
          "name": "stderr",
          "output_type": "stream",
          "text": [
            " 34%|███▍      | 8472/24679 [32:33<37:52,  7.13it/s]  "
          ]
        },
        {
          "name": "stdout",
          "output_type": "stream",
          "text": [
            "https://sports.news.naver.com/news.nhn?oid=236&aid=0000223203\n"
          ]
        },
        {
          "name": "stderr",
          "output_type": "stream",
          "text": [
            " 34%|███▍      | 8503/24679 [32:39<43:07,  6.25it/s]  "
          ]
        },
        {
          "name": "stdout",
          "output_type": "stream",
          "text": [
            "https://sports.news.naver.com/news.nhn?oid=468&aid=0000835589\n"
          ]
        },
        {
          "name": "stderr",
          "output_type": "stream",
          "text": [
            " 35%|███▍      | 8551/24679 [32:50<33:07,  8.11it/s]  "
          ]
        },
        {
          "name": "stdout",
          "output_type": "stream",
          "text": [
            "https://entertain.naver.com/read?oid=108&aid=0003043685\n",
            "https://entertain.naver.com/read?oid=108&aid=0003043685\n"
          ]
        },
        {
          "name": "stderr",
          "output_type": "stream",
          "text": [
            " 35%|███▍      | 8581/24679 [32:58<59:37,  4.50it/s]  "
          ]
        },
        {
          "name": "stdout",
          "output_type": "stream",
          "text": [
            "https://sports.news.naver.com/news.nhn?oid=442&aid=0000148663\n"
          ]
        },
        {
          "name": "stderr",
          "output_type": "stream",
          "text": [
            " 35%|███▍      | 8618/24679 [33:06<49:17,  5.43it/s]  "
          ]
        },
        {
          "name": "stdout",
          "output_type": "stream",
          "text": [
            "https://sports.news.naver.com/news.nhn?oid=144&aid=0000808731\n"
          ]
        },
        {
          "name": "stderr",
          "output_type": "stream",
          "text": [
            " 35%|███▌      | 8672/24679 [33:17<51:43,  5.16it/s]  "
          ]
        },
        {
          "name": "stdout",
          "output_type": "stream",
          "text": [
            "https://sports.news.naver.com/news.nhn?oid=435&aid=0000010372\n"
          ]
        },
        {
          "name": "stderr",
          "output_type": "stream",
          "text": [
            " 35%|███▌      | 8711/24679 [33:26<40:08,  6.63it/s]  "
          ]
        },
        {
          "name": "stdout",
          "output_type": "stream",
          "text": [
            "https://entertain.naver.com/read?oid=468&aid=0000854115\n"
          ]
        },
        {
          "name": "stderr",
          "output_type": "stream",
          "text": [
            " 35%|███▌      | 8723/24679 [33:29<52:00,  5.11it/s]"
          ]
        },
        {
          "name": "stdout",
          "output_type": "stream",
          "text": [
            "https://sports.news.naver.com/news.nhn?oid=347&aid=0000162041\n"
          ]
        },
        {
          "name": "stderr",
          "output_type": "stream",
          "text": [
            " 36%|███▌      | 8777/24679 [33:41<50:32,  5.24it/s]  "
          ]
        },
        {
          "name": "stdout",
          "output_type": "stream",
          "text": [
            "https://entertain.naver.com/read?oid=382&aid=0000971258\n"
          ]
        },
        {
          "name": "stderr",
          "output_type": "stream",
          "text": [
            " 36%|███▌      | 8786/24679 [33:42<38:51,  6.82it/s]"
          ]
        },
        {
          "name": "stdout",
          "output_type": "stream",
          "text": [
            "https://entertain.naver.com/read?oid=312&aid=0000541260\n"
          ]
        },
        {
          "name": "stderr",
          "output_type": "stream",
          "text": [
            " 36%|███▌      | 8794/24679 [33:44<41:59,  6.31it/s]  "
          ]
        },
        {
          "name": "stdout",
          "output_type": "stream",
          "text": [
            "https://entertain.naver.com/read?oid=009&aid=0004947813\n"
          ]
        },
        {
          "name": "stderr",
          "output_type": "stream",
          "text": [
            " 36%|███▌      | 8822/24679 [33:50<44:07,  5.99it/s]  "
          ]
        },
        {
          "name": "stdout",
          "output_type": "stream",
          "text": [
            "https://entertain.naver.com/read?oid=144&aid=0000805340\n",
            "https://sports.news.naver.com/news.nhn?oid=018&aid=0005187760\n"
          ]
        },
        {
          "name": "stderr",
          "output_type": "stream",
          "text": [
            " 36%|███▌      | 8854/24679 [33:57<57:48,  4.56it/s]  "
          ]
        },
        {
          "name": "stdout",
          "output_type": "stream",
          "text": [
            "https://entertain.naver.com/read?oid=144&aid=0000803814\n"
          ]
        },
        {
          "name": "stderr",
          "output_type": "stream",
          "text": [
            " 36%|███▌      | 8884/24679 [34:04<53:24,  4.93it/s]  "
          ]
        },
        {
          "name": "stdout",
          "output_type": "stream",
          "text": [
            "https://entertain.naver.com/read?oid=312&aid=0000541011\n"
          ]
        },
        {
          "name": "stderr",
          "output_type": "stream",
          "text": [
            " 36%|███▌      | 8914/24679 [34:10<36:43,  7.15it/s]  "
          ]
        },
        {
          "name": "stdout",
          "output_type": "stream",
          "text": [
            "https://sports.news.naver.com/news.nhn?oid=435&aid=0000010250\n"
          ]
        },
        {
          "name": "stderr",
          "output_type": "stream",
          "text": [
            " 36%|███▌      | 8929/24679 [34:13<52:38,  4.99it/s]"
          ]
        },
        {
          "name": "stdout",
          "output_type": "stream",
          "text": [
            "https://sports.news.naver.com/news.nhn?oid=442&aid=0000148168\n"
          ]
        },
        {
          "name": "stderr",
          "output_type": "stream",
          "text": [
            " 36%|███▋      | 8971/24679 [34:23<41:26,  6.32it/s]  "
          ]
        },
        {
          "name": "stdout",
          "output_type": "stream",
          "text": [
            "https://sports.news.naver.com/news.nhn?oid=468&aid=0000827683\n"
          ]
        },
        {
          "name": "stderr",
          "output_type": "stream",
          "text": [
            " 36%|███▋      | 8983/24679 [34:25<41:23,  6.32it/s]"
          ]
        },
        {
          "name": "stdout",
          "output_type": "stream",
          "text": [
            "https://entertain.naver.com/read?oid=140&aid=0000047107\n"
          ]
        },
        {
          "name": "stderr",
          "output_type": "stream",
          "text": [
            " 37%|███▋      | 9014/24679 [34:32<40:31,  6.44it/s]"
          ]
        },
        {
          "name": "stdout",
          "output_type": "stream",
          "text": [
            "https://sports.news.naver.com/news.nhn?oid=347&aid=0000161921\n"
          ]
        },
        {
          "name": "stderr",
          "output_type": "stream",
          "text": [
            " 37%|███▋      | 9038/24679 [34:37<53:55,  4.83it/s]  "
          ]
        },
        {
          "name": "stdout",
          "output_type": "stream",
          "text": [
            "https://sports.news.naver.com/news.nhn?oid=435&aid=0000010240\n"
          ]
        },
        {
          "name": "stderr",
          "output_type": "stream",
          "text": [
            " 37%|███▋      | 9052/24679 [34:39<39:53,  6.53it/s]"
          ]
        },
        {
          "name": "stdout",
          "output_type": "stream",
          "text": [
            "https://sports.news.naver.com/news.nhn?oid=468&aid=0000830896\n"
          ]
        },
        {
          "name": "stderr",
          "output_type": "stream",
          "text": [
            " 37%|███▋      | 9053/24679 [34:39<41:07,  6.33it/s]"
          ]
        },
        {
          "name": "stdout",
          "output_type": "stream",
          "text": [
            "https://entertain.naver.com/read?oid=001&aid=0013090581\n",
            "https://entertain.naver.com/read?oid=108&aid=0003043591\n"
          ]
        },
        {
          "name": "stderr",
          "output_type": "stream",
          "text": [
            " 37%|███▋      | 9078/24679 [34:44<42:33,  6.11it/s]  "
          ]
        },
        {
          "name": "stdout",
          "output_type": "stream",
          "text": [
            "https://entertain.naver.com/read?oid=108&aid=0003042600\n"
          ]
        },
        {
          "name": "stderr",
          "output_type": "stream",
          "text": [
            " 37%|███▋      | 9082/24679 [34:45<48:31,  5.36it/s]"
          ]
        },
        {
          "name": "stdout",
          "output_type": "stream",
          "text": [
            "https://entertain.naver.com/read?oid=079&aid=0003628160\n"
          ]
        },
        {
          "name": "stderr",
          "output_type": "stream",
          "text": [
            " 37%|███▋      | 9094/24679 [34:47<39:43,  6.54it/s]"
          ]
        },
        {
          "name": "stdout",
          "output_type": "stream",
          "text": [
            "https://sports.news.naver.com/news.nhn?oid=018&aid=0005182599\n"
          ]
        },
        {
          "name": "stderr",
          "output_type": "stream",
          "text": [
            " 37%|███▋      | 9104/24679 [34:49<42:56,  6.04it/s]"
          ]
        },
        {
          "name": "stdout",
          "output_type": "stream",
          "text": [
            "https://sports.news.naver.com/news.nhn?oid=442&aid=0000148196\n"
          ]
        },
        {
          "name": "stderr",
          "output_type": "stream",
          "text": [
            " 37%|███▋      | 9105/24679 [34:50<1:00:01,  4.32it/s]"
          ]
        },
        {
          "name": "stdout",
          "output_type": "stream",
          "text": [
            "https://entertain.naver.com/read?oid=312&aid=0000540777\n",
            "https://entertain.naver.com/read?oid=241&aid=0003202867\n"
          ]
        },
        {
          "name": "stderr",
          "output_type": "stream",
          "text": [
            " 37%|███▋      | 9112/24679 [34:50<34:35,  7.50it/s]  "
          ]
        },
        {
          "name": "stdout",
          "output_type": "stream",
          "text": [
            "https://entertain.naver.com/read?oid=018&aid=0005181259\n"
          ]
        },
        {
          "name": "stderr",
          "output_type": "stream",
          "text": [
            " 37%|███▋      | 9113/24679 [34:51<40:18,  6.44it/s]"
          ]
        },
        {
          "name": "stdout",
          "output_type": "stream",
          "text": [
            "https://sports.news.naver.com/news.nhn?oid=347&aid=0000161968\n"
          ]
        },
        {
          "name": "stderr",
          "output_type": "stream",
          "text": [
            " 37%|███▋      | 9122/24679 [34:52<41:22,  6.27it/s]"
          ]
        },
        {
          "name": "stdout",
          "output_type": "stream",
          "text": [
            "https://entertain.naver.com/read?oid=382&aid=0000972024\n"
          ]
        },
        {
          "name": "stderr",
          "output_type": "stream",
          "text": [
            " 37%|███▋      | 9127/24679 [34:53<40:31,  6.40it/s]"
          ]
        },
        {
          "name": "stdout",
          "output_type": "stream",
          "text": [
            "https://sports.news.naver.com/news.nhn?oid=445&aid=0000043612\n"
          ]
        },
        {
          "name": "stderr",
          "output_type": "stream",
          "text": [
            " 37%|███▋      | 9174/24679 [35:04<43:05,  6.00it/s]  "
          ]
        },
        {
          "name": "stdout",
          "output_type": "stream",
          "text": [
            "https://entertain.naver.com/read?oid=022&aid=0003701106\n"
          ]
        },
        {
          "name": "stderr",
          "output_type": "stream",
          "text": [
            " 37%|███▋      | 9181/24679 [35:05<38:22,  6.73it/s]"
          ]
        },
        {
          "name": "stdout",
          "output_type": "stream",
          "text": [
            "https://sports.news.naver.com/news.nhn?oid=356&aid=0000053948\n"
          ]
        },
        {
          "name": "stderr",
          "output_type": "stream",
          "text": [
            " 37%|███▋      | 9186/24679 [35:06<50:51,  5.08it/s]"
          ]
        },
        {
          "name": "stdout",
          "output_type": "stream",
          "text": [
            "https://sports.news.naver.com/news.nhn?oid=144&aid=0000816303\n"
          ]
        },
        {
          "name": "stderr",
          "output_type": "stream",
          "text": [
            " 37%|███▋      | 9193/24679 [35:08<56:20,  4.58it/s]"
          ]
        },
        {
          "name": "stdout",
          "output_type": "stream",
          "text": [
            "https://sports.news.naver.com/news.nhn?oid=311&aid=0001455042\n"
          ]
        },
        {
          "name": "stderr",
          "output_type": "stream",
          "text": [
            " 37%|███▋      | 9208/24679 [35:10<33:52,  7.61it/s]"
          ]
        },
        {
          "name": "stdout",
          "output_type": "stream",
          "text": [
            "https://sports.news.naver.com/news.nhn?oid=442&aid=0000149918\n"
          ]
        },
        {
          "name": "stderr",
          "output_type": "stream",
          "text": [
            " 37%|███▋      | 9226/24679 [35:14<39:06,  6.59it/s]  "
          ]
        },
        {
          "name": "stdout",
          "output_type": "stream",
          "text": [
            "https://entertain.naver.com/read?oid=022&aid=0003701106\n"
          ]
        },
        {
          "name": "stderr",
          "output_type": "stream",
          "text": [
            " 37%|███▋      | 9231/24679 [35:14<32:41,  7.87it/s]"
          ]
        },
        {
          "name": "stdout",
          "output_type": "stream",
          "text": [
            "https://entertain.naver.com/read?oid=022&aid=0003701106\n"
          ]
        },
        {
          "name": "stderr",
          "output_type": "stream",
          "text": [
            " 37%|███▋      | 9235/24679 [35:15<31:03,  8.29it/s]"
          ]
        },
        {
          "name": "stdout",
          "output_type": "stream",
          "text": [
            "https://entertain.naver.com/read?oid=022&aid=0003701106\n"
          ]
        },
        {
          "name": "stderr",
          "output_type": "stream",
          "text": [
            " 37%|███▋      | 9244/24679 [35:17<55:24,  4.64it/s]"
          ]
        },
        {
          "name": "stdout",
          "output_type": "stream",
          "text": [
            "https://sports.news.naver.com/news.nhn?oid=241&aid=0003126566\n"
          ]
        },
        {
          "name": "stderr",
          "output_type": "stream",
          "text": [
            " 37%|███▋      | 9249/24679 [35:17<35:46,  7.19it/s]"
          ]
        },
        {
          "name": "stdout",
          "output_type": "stream",
          "text": [
            "https://sports.news.naver.com/news.nhn?oid=241&aid=0003126566\n"
          ]
        },
        {
          "name": "stderr",
          "output_type": "stream",
          "text": [
            " 38%|███▊      | 9269/24679 [35:22<42:00,  6.11it/s]  "
          ]
        },
        {
          "name": "stdout",
          "output_type": "stream",
          "text": [
            "https://sports.news.naver.com/news.nhn?oid=356&aid=0000053948\n"
          ]
        },
        {
          "name": "stderr",
          "output_type": "stream",
          "text": [
            " 38%|███▊      | 9274/24679 [35:23<43:39,  5.88it/s]  "
          ]
        },
        {
          "name": "stdout",
          "output_type": "stream",
          "text": [
            "https://entertain.naver.com/read?oid=312&aid=0000550154\n"
          ]
        },
        {
          "name": "stderr",
          "output_type": "stream",
          "text": [
            " 38%|███▊      | 9277/24679 [35:24<34:53,  7.36it/s]"
          ]
        },
        {
          "name": "stdout",
          "output_type": "stream",
          "text": [
            "https://sports.news.naver.com/news.nhn?oid=311&aid=0001455483\n"
          ]
        },
        {
          "name": "stderr",
          "output_type": "stream",
          "text": [
            " 38%|███▊      | 9294/24679 [35:27<51:03,  5.02it/s]"
          ]
        },
        {
          "name": "stdout",
          "output_type": "stream",
          "text": [
            "https://sports.news.naver.com/news.nhn?oid=468&aid=0000816827\n"
          ]
        },
        {
          "name": "stderr",
          "output_type": "stream",
          "text": [
            " 38%|███▊      | 9298/24679 [35:28<35:00,  7.32it/s]"
          ]
        },
        {
          "name": "stdout",
          "output_type": "stream",
          "text": [
            "https://sports.news.naver.com/news.nhn?oid=468&aid=0000816827\n"
          ]
        },
        {
          "name": "stderr",
          "output_type": "stream",
          "text": [
            " 38%|███▊      | 9314/24679 [35:31<38:49,  6.60it/s]"
          ]
        },
        {
          "name": "stdout",
          "output_type": "stream",
          "text": [
            "https://sports.news.naver.com/news.nhn?oid=311&aid=0001455042\n"
          ]
        },
        {
          "name": "stderr",
          "output_type": "stream",
          "text": [
            " 38%|███▊      | 9331/24679 [35:35<39:08,  6.53it/s]"
          ]
        },
        {
          "name": "stdout",
          "output_type": "stream",
          "text": [
            "https://sports.news.naver.com/news.nhn?oid=425&aid=0000129274\n"
          ]
        },
        {
          "name": "stderr",
          "output_type": "stream",
          "text": [
            " 38%|███▊      | 9351/24679 [35:39<59:40,  4.28it/s]  "
          ]
        },
        {
          "name": "stdout",
          "output_type": "stream",
          "text": [
            "https://sports.news.naver.com/news.nhn?oid=236&aid=0000224192\n"
          ]
        },
        {
          "name": "stderr",
          "output_type": "stream",
          "text": [
            " 38%|███▊      | 9408/24679 [35:51<47:17,  5.38it/s]  "
          ]
        },
        {
          "name": "stdout",
          "output_type": "stream",
          "text": [
            "https://entertain.naver.com/read?oid=421&aid=0006124586\n"
          ]
        },
        {
          "name": "stderr",
          "output_type": "stream",
          "text": [
            " 38%|███▊      | 9450/24679 [36:00<56:22,  4.50it/s]  "
          ]
        },
        {
          "name": "stdout",
          "output_type": "stream",
          "text": [
            "https://sports.news.naver.com/news.nhn?oid=468&aid=0000816659\n"
          ]
        },
        {
          "name": "stderr",
          "output_type": "stream",
          "text": [
            " 39%|███▉      | 9590/24679 [36:31<36:24,  6.91it/s]  "
          ]
        },
        {
          "name": "stdout",
          "output_type": "stream",
          "text": [
            "https://sports.news.naver.com/news.nhn?oid=018&aid=0005226352\n"
          ]
        },
        {
          "name": "stderr",
          "output_type": "stream",
          "text": [
            " 39%|███▉      | 9637/24679 [36:40<47:28,  5.28it/s]"
          ]
        },
        {
          "name": "stdout",
          "output_type": "stream",
          "text": [
            "https://entertain.naver.com/read?oid=112&aid=0003560893\n"
          ]
        },
        {
          "name": "stderr",
          "output_type": "stream",
          "text": [
            " 39%|███▉      | 9653/24679 [36:44<55:02,  4.55it/s]  "
          ]
        },
        {
          "name": "stdout",
          "output_type": "stream",
          "text": [
            "https://sports.news.naver.com/news.nhn?oid=311&aid=0001453879\n"
          ]
        },
        {
          "name": "stderr",
          "output_type": "stream",
          "text": [
            " 39%|███▉      | 9680/24679 [36:49<36:52,  6.78it/s]  "
          ]
        },
        {
          "name": "stdout",
          "output_type": "stream",
          "text": [
            "https://entertain.naver.com/read?oid=018&aid=0005224614\n"
          ]
        },
        {
          "name": "stderr",
          "output_type": "stream",
          "text": [
            " 39%|███▉      | 9704/24679 [36:54<51:20,  4.86it/s]  "
          ]
        },
        {
          "name": "stdout",
          "output_type": "stream",
          "text": [
            "https://entertain.naver.com/read?oid=003&aid=0011202178\n"
          ]
        },
        {
          "name": "stderr",
          "output_type": "stream",
          "text": [
            " 39%|███▉      | 9709/24679 [36:56<1:07:31,  3.70it/s]"
          ]
        },
        {
          "name": "stdout",
          "output_type": "stream",
          "text": [
            "https://entertain.naver.com/read?oid=421&aid=0006110115\n"
          ]
        },
        {
          "name": "stderr",
          "output_type": "stream",
          "text": [
            " 39%|███▉      | 9716/24679 [36:57<53:47,  4.64it/s]  "
          ]
        },
        {
          "name": "stdout",
          "output_type": "stream",
          "text": [
            "https://entertain.naver.com/read?oid=009&aid=0004967564\n"
          ]
        },
        {
          "name": "stderr",
          "output_type": "stream",
          "text": [
            " 39%|███▉      | 9727/24679 [36:59<50:39,  4.92it/s]"
          ]
        },
        {
          "name": "stdout",
          "output_type": "stream",
          "text": [
            "https://sports.news.naver.com/news.nhn?oid=468&aid=0000812031\n"
          ]
        },
        {
          "name": "stderr",
          "output_type": "stream",
          "text": [
            " 39%|███▉      | 9734/24679 [37:00<27:32,  9.04it/s]"
          ]
        },
        {
          "name": "stdout",
          "output_type": "stream",
          "text": [
            "https://sports.news.naver.com/news.nhn?oid=468&aid=0000812031\n",
            "https://entertain.naver.com/read?oid=109&aid=0004622130\n"
          ]
        },
        {
          "name": "stderr",
          "output_type": "stream",
          "text": [
            " 39%|███▉      | 9741/24679 [37:01<25:26,  9.79it/s]"
          ]
        },
        {
          "name": "stdout",
          "output_type": "stream",
          "text": [
            "https://entertain.naver.com/read?oid=421&aid=0006110578\n",
            "https://sports.news.naver.com/news.nhn?oid=311&aid=0001452958\n"
          ]
        },
        {
          "name": "stderr",
          "output_type": "stream",
          "text": [
            " 40%|███▉      | 9774/24679 [37:08<38:33,  6.44it/s]  "
          ]
        },
        {
          "name": "stdout",
          "output_type": "stream",
          "text": [
            "https://entertain.naver.com/read?oid=018&aid=0005223809\n"
          ]
        },
        {
          "name": "stderr",
          "output_type": "stream",
          "text": [
            " 40%|███▉      | 9779/24679 [37:09<49:38,  5.00it/s]"
          ]
        },
        {
          "name": "stdout",
          "output_type": "stream",
          "text": [
            "https://entertain.naver.com/read?oid=311&aid=0001450378\n"
          ]
        },
        {
          "name": "stderr",
          "output_type": "stream",
          "text": [
            " 40%|███▉      | 9803/24679 [37:14<46:47,  5.30it/s]  "
          ]
        },
        {
          "name": "stdout",
          "output_type": "stream",
          "text": [
            "https://entertain.naver.com/read?oid=021&aid=0002514306\n"
          ]
        },
        {
          "name": "stderr",
          "output_type": "stream",
          "text": [
            " 40%|███▉      | 9815/24679 [37:16<29:01,  8.53it/s]"
          ]
        },
        {
          "name": "stdout",
          "output_type": "stream",
          "text": [
            "https://entertain.naver.com/read?oid=312&aid=0000548413\n",
            "https://sports.news.naver.com/news.nhn?oid=030&aid=0003019670\n"
          ]
        },
        {
          "name": "stderr",
          "output_type": "stream",
          "text": [
            " 40%|███▉      | 9827/24679 [37:18<37:56,  6.52it/s]"
          ]
        },
        {
          "name": "stdout",
          "output_type": "stream",
          "text": [
            "https://entertain.naver.com/read?oid=382&aid=0000981619\n",
            "https://entertain.naver.com/read?oid=018&aid=0005223380\n",
            "https://entertain.naver.com/read?oid=108&aid=0003056241\n"
          ]
        },
        {
          "name": "stderr",
          "output_type": "stream",
          "text": [
            " 40%|███▉      | 9835/24679 [37:19<30:00,  8.25it/s]"
          ]
        },
        {
          "name": "stdout",
          "output_type": "stream",
          "text": [
            "https://sports.news.naver.com/news.nhn?oid=347&aid=0000162914\n"
          ]
        },
        {
          "name": "stderr",
          "output_type": "stream",
          "text": [
            " 40%|███▉      | 9848/24679 [37:22<52:49,  4.68it/s]  "
          ]
        },
        {
          "name": "stdout",
          "output_type": "stream",
          "text": [
            "https://sports.news.naver.com/news.nhn?oid=018&aid=0005225292\n"
          ]
        },
        {
          "name": "stderr",
          "output_type": "stream",
          "text": [
            " 40%|███▉      | 9853/24679 [37:23<29:10,  8.47it/s]"
          ]
        },
        {
          "name": "stdout",
          "output_type": "stream",
          "text": [
            "https://entertain.naver.com/read?oid=108&aid=0003055025\n",
            "https://entertain.naver.com/read?oid=468&aid=0000812038\n"
          ]
        },
        {
          "name": "stderr",
          "output_type": "stream",
          "text": [
            " 40%|███▉      | 9860/24679 [37:24<46:45,  5.28it/s]"
          ]
        },
        {
          "name": "stdout",
          "output_type": "stream",
          "text": [
            "https://sports.news.naver.com/news.nhn?oid=468&aid=0000813316\n"
          ]
        },
        {
          "name": "stderr",
          "output_type": "stream",
          "text": [
            " 40%|███▉      | 9862/24679 [37:25<42:23,  5.83it/s]"
          ]
        },
        {
          "name": "stdout",
          "output_type": "stream",
          "text": [
            "https://sports.news.naver.com/news.nhn?oid=468&aid=0000813316\n"
          ]
        },
        {
          "name": "stderr",
          "output_type": "stream",
          "text": [
            " 40%|███▉      | 9867/24679 [37:25<26:58,  9.15it/s]"
          ]
        },
        {
          "name": "stdout",
          "output_type": "stream",
          "text": [
            "https://entertain.naver.com/read?oid=076&aid=0003868845\n",
            "https://entertain.naver.com/read?oid=022&aid=0003698184\n"
          ]
        },
        {
          "name": "stderr",
          "output_type": "stream",
          "text": [
            " 40%|████      | 9880/24679 [37:27<34:46,  7.09it/s]"
          ]
        },
        {
          "name": "stdout",
          "output_type": "stream",
          "text": [
            "https://sports.news.naver.com/news.nhn?oid=356&aid=0000053804\n"
          ]
        },
        {
          "name": "stderr",
          "output_type": "stream",
          "text": [
            " 40%|████      | 9895/24679 [37:30<46:05,  5.35it/s]  "
          ]
        },
        {
          "name": "stdout",
          "output_type": "stream",
          "text": [
            "https://sports.news.naver.com/news.nhn?oid=382&aid=0000981807\n"
          ]
        },
        {
          "name": "stderr",
          "output_type": "stream",
          "text": [
            " 40%|████      | 9900/24679 [37:31<33:08,  7.43it/s]"
          ]
        },
        {
          "name": "stdout",
          "output_type": "stream",
          "text": [
            "https://entertain.naver.com/read?oid=629&aid=0000150929\n"
          ]
        },
        {
          "name": "stderr",
          "output_type": "stream",
          "text": [
            " 40%|████      | 9933/24679 [37:38<36:36,  6.71it/s]"
          ]
        },
        {
          "name": "stdout",
          "output_type": "stream",
          "text": [
            "https://sports.news.naver.com/news.nhn?oid=236&aid=0000223986\n"
          ]
        },
        {
          "name": "stderr",
          "output_type": "stream",
          "text": [
            " 40%|████      | 9941/24679 [37:40<1:02:49,  3.91it/s]"
          ]
        },
        {
          "name": "stdout",
          "output_type": "stream",
          "text": [
            "https://entertain.naver.com/read?oid=311&aid=0001449458\n"
          ]
        },
        {
          "name": "stderr",
          "output_type": "stream",
          "text": [
            " 40%|████      | 9987/24679 [37:49<37:42,  6.49it/s]  "
          ]
        },
        {
          "name": "stdout",
          "output_type": "stream",
          "text": [
            "https://entertain.naver.com/read?oid=609&aid=0000575662\n"
          ]
        },
        {
          "name": "stderr",
          "output_type": "stream",
          "text": [
            " 41%|████      | 9995/24679 [37:50<39:02,  6.27it/s]"
          ]
        },
        {
          "name": "stdout",
          "output_type": "stream",
          "text": [
            "https://entertain.naver.com/read?oid=018&aid=0005218641\n"
          ]
        },
        {
          "name": "stderr",
          "output_type": "stream",
          "text": [
            " 41%|████      | 9998/24679 [37:51<32:38,  7.50it/s]"
          ]
        },
        {
          "name": "stdout",
          "output_type": "stream",
          "text": [
            "https://sports.news.naver.com/news.nhn?oid=435&aid=0000010535\n"
          ]
        },
        {
          "name": "stderr",
          "output_type": "stream",
          "text": [
            " 41%|████      | 10004/24679 [37:52<49:41,  4.92it/s]"
          ]
        },
        {
          "name": "stdout",
          "output_type": "stream",
          "text": [
            "https://entertain.naver.com/read?oid=108&aid=0003055954\n",
            "https://entertain.naver.com/read?oid=011&aid=0004056012\n"
          ]
        },
        {
          "name": "stderr",
          "output_type": "stream",
          "text": [
            " 41%|████      | 10026/24679 [37:57<1:05:45,  3.71it/s]"
          ]
        },
        {
          "name": "stdout",
          "output_type": "stream",
          "text": [
            "https://entertain.naver.com/read?oid=396&aid=0000613269\n"
          ]
        },
        {
          "name": "stderr",
          "output_type": "stream",
          "text": [
            " 41%|████      | 10043/24679 [38:01<1:00:59,  4.00it/s]"
          ]
        },
        {
          "name": "stdout",
          "output_type": "stream",
          "text": [
            "https://entertain.naver.com/read?oid=609&aid=0000578723\n"
          ]
        },
        {
          "name": "stderr",
          "output_type": "stream",
          "text": [
            " 41%|████      | 10066/24679 [38:09<1:21:00,  3.01it/s]"
          ]
        },
        {
          "name": "stdout",
          "output_type": "stream",
          "text": [
            "https://entertain.naver.com/read?oid=382&aid=0000980431\n"
          ]
        },
        {
          "name": "stderr",
          "output_type": "stream",
          "text": [
            " 41%|████      | 10089/24679 [38:13<35:15,  6.90it/s]  "
          ]
        },
        {
          "name": "stdout",
          "output_type": "stream",
          "text": [
            "https://entertain.naver.com/read?oid=076&aid=0003872072\n"
          ]
        },
        {
          "name": "stderr",
          "output_type": "stream",
          "text": [
            " 41%|████      | 10101/24679 [38:16<36:23,  6.68it/s]"
          ]
        },
        {
          "name": "stdout",
          "output_type": "stream",
          "text": [
            "https://entertain.naver.com/read?oid=003&aid=0011202145\n"
          ]
        },
        {
          "name": "stderr",
          "output_type": "stream",
          "text": [
            " 41%|████      | 10102/24679 [38:16<38:12,  6.36it/s]"
          ]
        },
        {
          "name": "stdout",
          "output_type": "stream",
          "text": [
            "https://entertain.naver.com/read?oid=609&aid=0000578622\n"
          ]
        },
        {
          "name": "stderr",
          "output_type": "stream",
          "text": [
            " 41%|████      | 10176/24679 [38:32<48:56,  4.94it/s]  "
          ]
        },
        {
          "name": "stdout",
          "output_type": "stream",
          "text": [
            "https://entertain.naver.com/read?oid=109&aid=0004611851\n"
          ]
        },
        {
          "name": "stderr",
          "output_type": "stream",
          "text": [
            " 41%|████▏     | 10195/24679 [38:36<33:21,  7.24it/s]  "
          ]
        },
        {
          "name": "stdout",
          "output_type": "stream",
          "text": [
            "https://entertain.naver.com/read?oid=001&aid=0013173061\n"
          ]
        },
        {
          "name": "stderr",
          "output_type": "stream",
          "text": [
            " 41%|████▏     | 10203/24679 [38:38<50:22,  4.79it/s]"
          ]
        },
        {
          "name": "stdout",
          "output_type": "stream",
          "text": [
            "https://entertain.naver.com/read?oid=108&aid=0003054335\n"
          ]
        },
        {
          "name": "stderr",
          "output_type": "stream",
          "text": [
            " 41%|████▏     | 10239/24679 [38:45<33:28,  7.19it/s]  "
          ]
        },
        {
          "name": "stdout",
          "output_type": "stream",
          "text": [
            "https://entertain.naver.com/read?oid=079&aid=0003642171\n",
            "https://entertain.naver.com/read?oid=079&aid=0003642171\n"
          ]
        },
        {
          "name": "stderr",
          "output_type": "stream",
          "text": [
            " 42%|████▏     | 10290/24679 [39:01<2:09:34,  1.85it/s]"
          ]
        },
        {
          "name": "stdout",
          "output_type": "stream",
          "text": [
            "https://entertain.naver.com/read?oid=477&aid=0000360793\n"
          ]
        },
        {
          "name": "stderr",
          "output_type": "stream",
          "text": [
            " 42%|████▏     | 10301/24679 [39:03<49:35,  4.83it/s]  "
          ]
        },
        {
          "name": "stdout",
          "output_type": "stream",
          "text": [
            "https://entertain.naver.com/read?oid=076&aid=0003869390\n"
          ]
        },
        {
          "name": "stderr",
          "output_type": "stream",
          "text": [
            " 42%|████▏     | 10307/24679 [39:04<34:09,  7.01it/s]"
          ]
        },
        {
          "name": "stdout",
          "output_type": "stream",
          "text": [
            "https://sports.news.naver.com/news.nhn?oid=241&aid=0003213105\n"
          ]
        },
        {
          "name": "stderr",
          "output_type": "stream",
          "text": [
            " 42%|████▏     | 10310/24679 [39:05<47:31,  5.04it/s]"
          ]
        },
        {
          "name": "stdout",
          "output_type": "stream",
          "text": [
            "https://entertain.naver.com/read?oid=108&aid=0003054704\n"
          ]
        },
        {
          "name": "stderr",
          "output_type": "stream",
          "text": [
            " 42%|████▏     | 10343/24679 [39:13<50:59,  4.69it/s]  "
          ]
        },
        {
          "name": "stdout",
          "output_type": "stream",
          "text": [
            "https://entertain.naver.com/read?oid=468&aid=0000812089\n"
          ]
        },
        {
          "name": "stderr",
          "output_type": "stream",
          "text": [
            " 42%|████▏     | 10405/24679 [39:28<40:22,  5.89it/s]  "
          ]
        },
        {
          "name": "stdout",
          "output_type": "stream",
          "text": [
            "https://entertain.naver.com/read?oid=018&aid=0005213493\n"
          ]
        },
        {
          "name": "stderr",
          "output_type": "stream",
          "text": [
            " 42%|████▏     | 10435/24679 [39:34<38:59,  6.09it/s]  "
          ]
        },
        {
          "name": "stdout",
          "output_type": "stream",
          "text": [
            "https://entertain.naver.com/read?oid=438&aid=0000046541\n"
          ]
        },
        {
          "name": "stderr",
          "output_type": "stream",
          "text": [
            " 42%|████▏     | 10454/24679 [39:38<41:51,  5.66it/s]"
          ]
        },
        {
          "name": "stdout",
          "output_type": "stream",
          "text": [
            "https://sports.news.naver.com/news.nhn?oid=018&aid=0005206727\n"
          ]
        },
        {
          "name": "stderr",
          "output_type": "stream",
          "text": [
            " 42%|████▏     | 10468/24679 [39:41<40:17,  5.88it/s]  "
          ]
        },
        {
          "name": "stdout",
          "output_type": "stream",
          "text": [
            "https://sports.news.naver.com/news.nhn?oid=311&aid=0001449213\n"
          ]
        },
        {
          "name": "stderr",
          "output_type": "stream",
          "text": [
            " 43%|████▎     | 10504/24679 [39:50<1:13:59,  3.19it/s]"
          ]
        },
        {
          "name": "stdout",
          "output_type": "stream",
          "text": [
            "https://entertain.naver.com/read?oid=003&aid=0011173523\n"
          ]
        },
        {
          "name": "stderr",
          "output_type": "stream",
          "text": [
            " 43%|████▎     | 10513/24679 [39:51<36:01,  6.55it/s]  "
          ]
        },
        {
          "name": "stdout",
          "output_type": "stream",
          "text": [
            "https://sports.news.naver.com/news.nhn?oid=311&aid=0001448092\n"
          ]
        },
        {
          "name": "stderr",
          "output_type": "stream",
          "text": [
            " 43%|████▎     | 10531/24679 [39:55<50:43,  4.65it/s]  "
          ]
        },
        {
          "name": "stdout",
          "output_type": "stream",
          "text": [
            "https://entertain.naver.com/read?oid=003&aid=0011171381\n"
          ]
        },
        {
          "name": "stderr",
          "output_type": "stream",
          "text": [
            " 43%|████▎     | 10585/24679 [40:07<1:01:35,  3.81it/s]"
          ]
        },
        {
          "name": "stdout",
          "output_type": "stream",
          "text": [
            "https://entertain.naver.com/read?oid=009&aid=0004961506\n"
          ]
        },
        {
          "name": "stderr",
          "output_type": "stream",
          "text": [
            " 43%|████▎     | 10602/24679 [40:10<38:32,  6.09it/s]  "
          ]
        },
        {
          "name": "stdout",
          "output_type": "stream",
          "text": [
            "https://sports.news.naver.com/news.nhn?oid=236&aid=0000223913\n"
          ]
        },
        {
          "name": "stderr",
          "output_type": "stream",
          "text": [
            " 43%|████▎     | 10627/24679 [40:16<44:44,  5.23it/s]  "
          ]
        },
        {
          "name": "stdout",
          "output_type": "stream",
          "text": [
            "https://entertain.naver.com/read?oid=108&aid=0003052941\n"
          ]
        },
        {
          "name": "stderr",
          "output_type": "stream",
          "text": [
            " 43%|████▎     | 10647/24679 [40:20<48:38,  4.81it/s]"
          ]
        },
        {
          "name": "stdout",
          "output_type": "stream",
          "text": [
            "https://entertain.naver.com/read?oid=011&aid=0004052839\n"
          ]
        },
        {
          "name": "stderr",
          "output_type": "stream",
          "text": [
            " 43%|████▎     | 10669/24679 [40:24<32:30,  7.18it/s]"
          ]
        },
        {
          "name": "stdout",
          "output_type": "stream",
          "text": [
            "https://entertain.naver.com/read?oid=421&aid=0006080750\n"
          ]
        },
        {
          "name": "stderr",
          "output_type": "stream",
          "text": [
            " 43%|████▎     | 10705/24679 [40:32<54:34,  4.27it/s]"
          ]
        },
        {
          "name": "stdout",
          "output_type": "stream",
          "text": [
            "https://entertain.naver.com/read?oid=382&aid=0000979014\n"
          ]
        },
        {
          "name": "stderr",
          "output_type": "stream",
          "text": [
            " 44%|████▎     | 10768/24679 [40:49<51:34,  4.50it/s]  "
          ]
        },
        {
          "name": "stdout",
          "output_type": "stream",
          "text": [
            "https://sports.news.naver.com/news.nhn?oid=311&aid=0001447681\n"
          ]
        },
        {
          "name": "stderr",
          "output_type": "stream",
          "text": [
            " 44%|████▎     | 10772/24679 [40:50<43:25,  5.34it/s]"
          ]
        },
        {
          "name": "stdout",
          "output_type": "stream",
          "text": [
            "https://entertain.naver.com/read?oid=312&aid=0000544564\n"
          ]
        },
        {
          "name": "stderr",
          "output_type": "stream",
          "text": [
            " 44%|████▎     | 10795/24679 [40:54<33:28,  6.91it/s]"
          ]
        },
        {
          "name": "stdout",
          "output_type": "stream",
          "text": [
            "https://sports.news.naver.com/news.nhn?oid=468&aid=0000802304\n"
          ]
        },
        {
          "name": "stderr",
          "output_type": "stream",
          "text": [
            " 44%|████▍     | 10803/24679 [40:56<35:30,  6.51it/s]"
          ]
        },
        {
          "name": "stdout",
          "output_type": "stream",
          "text": [
            "https://sports.news.naver.com/news.nhn?oid=311&aid=0001447659\n"
          ]
        },
        {
          "name": "stderr",
          "output_type": "stream",
          "text": [
            " 44%|████▍     | 10824/24679 [41:00<44:06,  5.24it/s]  "
          ]
        },
        {
          "name": "stdout",
          "output_type": "stream",
          "text": [
            "https://entertain.naver.com/read?oid=609&aid=0000572334\n"
          ]
        },
        {
          "name": "stderr",
          "output_type": "stream",
          "text": [
            " 44%|████▍     | 10861/24679 [41:08<37:08,  6.20it/s]  "
          ]
        },
        {
          "name": "stdout",
          "output_type": "stream",
          "text": [
            "https://sports.news.naver.com/news.nhn?oid=311&aid=0001447123\n"
          ]
        },
        {
          "name": "stderr",
          "output_type": "stream",
          "text": [
            " 44%|████▍     | 10911/24679 [41:19<43:25,  5.28it/s]"
          ]
        },
        {
          "name": "stdout",
          "output_type": "stream",
          "text": [
            "https://sports.news.naver.com/news.nhn?oid=311&aid=0001444023\n"
          ]
        },
        {
          "name": "stderr",
          "output_type": "stream",
          "text": [
            " 44%|████▍     | 10918/24679 [41:20<30:26,  7.53it/s]"
          ]
        },
        {
          "name": "stdout",
          "output_type": "stream",
          "text": [
            "https://sports.news.naver.com/news.nhn?oid=236&aid=0000223483\n",
            "https://entertain.naver.com/read?oid=108&aid=0003052195\n"
          ]
        },
        {
          "name": "stderr",
          "output_type": "stream",
          "text": [
            " 44%|████▍     | 10924/24679 [41:21<41:09,  5.57it/s]"
          ]
        },
        {
          "name": "stdout",
          "output_type": "stream",
          "text": [
            "https://sports.news.naver.com/news.nhn?oid=347&aid=0000162528\n"
          ]
        },
        {
          "name": "stderr",
          "output_type": "stream",
          "text": [
            " 44%|████▍     | 10956/24679 [41:27<32:25,  7.05it/s]  "
          ]
        },
        {
          "name": "stdout",
          "output_type": "stream",
          "text": [
            "https://entertain.naver.com/read?oid=215&aid=0001029666\n"
          ]
        },
        {
          "name": "stderr",
          "output_type": "stream",
          "text": [
            " 44%|████▍     | 10959/24679 [41:28<41:48,  5.47it/s]"
          ]
        },
        {
          "name": "stdout",
          "output_type": "stream",
          "text": [
            "https://entertain.naver.com/read?oid=018&aid=0005255519\n"
          ]
        },
        {
          "name": "stderr",
          "output_type": "stream",
          "text": [
            " 44%|████▍     | 10979/24679 [41:33<46:59,  4.86it/s]  "
          ]
        },
        {
          "name": "stdout",
          "output_type": "stream",
          "text": [
            "https://sports.news.naver.com/news.nhn?oid=236&aid=0000225200\n"
          ]
        },
        {
          "name": "stderr",
          "output_type": "stream",
          "text": [
            " 45%|████▍     | 11005/24679 [41:40<54:28,  4.18it/s]  "
          ]
        },
        {
          "name": "stdout",
          "output_type": "stream",
          "text": [
            "https://sports.news.naver.com/news.nhn?oid=629&aid=0000158294\n"
          ]
        },
        {
          "name": "stderr",
          "output_type": "stream",
          "text": [
            " 45%|████▍     | 11010/24679 [41:42<52:35,  4.33it/s]"
          ]
        },
        {
          "name": "stdout",
          "output_type": "stream",
          "text": [
            "https://sports.news.naver.com/news.nhn?oid=236&aid=0000225199\n"
          ]
        },
        {
          "name": "stderr",
          "output_type": "stream",
          "text": [
            " 45%|████▍     | 11015/24679 [41:43<51:08,  4.45it/s]"
          ]
        },
        {
          "name": "stdout",
          "output_type": "stream",
          "text": [
            "https://entertain.naver.com/read?oid=312&aid=0000555550\n"
          ]
        },
        {
          "name": "stderr",
          "output_type": "stream",
          "text": [
            " 45%|████▍     | 11042/24679 [41:51<1:15:48,  3.00it/s]"
          ]
        },
        {
          "name": "stdout",
          "output_type": "stream",
          "text": [
            "https://sports.news.naver.com/news.nhn?oid=311&aid=0001468985\n"
          ]
        },
        {
          "name": "stderr",
          "output_type": "stream",
          "text": [
            " 45%|████▍     | 11050/24679 [41:52<36:40,  6.19it/s]  "
          ]
        },
        {
          "name": "stdout",
          "output_type": "stream",
          "text": [
            "https://sports.news.naver.com/news.nhn?oid=439&aid=0000024260\n"
          ]
        },
        {
          "name": "stderr",
          "output_type": "stream",
          "text": [
            " 45%|████▍     | 11059/24679 [41:54<47:43,  4.76it/s]"
          ]
        },
        {
          "name": "stdout",
          "output_type": "stream",
          "text": [
            "https://sports.news.naver.com/news.nhn?oid=442&aid=0000151087\n"
          ]
        },
        {
          "name": "stderr",
          "output_type": "stream",
          "text": [
            " 45%|████▍     | 11061/24679 [41:55<38:51,  5.84it/s]"
          ]
        },
        {
          "name": "stdout",
          "output_type": "stream",
          "text": [
            "https://sports.news.naver.com/news.nhn?oid=347&aid=0000163927\n"
          ]
        },
        {
          "name": "stderr",
          "output_type": "stream",
          "text": [
            " 45%|████▍     | 11076/24679 [41:58<50:46,  4.47it/s]"
          ]
        },
        {
          "name": "stdout",
          "output_type": "stream",
          "text": [
            "https://sports.news.naver.com/news.nhn?oid=356&aid=0000054462\n"
          ]
        },
        {
          "name": "stderr",
          "output_type": "stream",
          "text": [
            " 45%|████▍     | 11096/24679 [42:02<47:21,  4.78it/s]  "
          ]
        },
        {
          "name": "stdout",
          "output_type": "stream",
          "text": [
            "https://sports.news.naver.com/news.nhn?oid=629&aid=0000158294\n"
          ]
        },
        {
          "name": "stderr",
          "output_type": "stream",
          "text": [
            " 45%|████▍     | 11104/24679 [42:04<42:32,  5.32it/s]"
          ]
        },
        {
          "name": "stdout",
          "output_type": "stream",
          "text": [
            "https://sports.news.naver.com/news.nhn?oid=435&aid=0000010791\n"
          ]
        },
        {
          "name": "stderr",
          "output_type": "stream",
          "text": [
            " 45%|████▌     | 11108/24679 [42:04<29:35,  7.64it/s]"
          ]
        },
        {
          "name": "stdout",
          "output_type": "stream",
          "text": [
            "https://sports.news.naver.com/news.nhn?oid=347&aid=0000163916\n"
          ]
        },
        {
          "name": "stderr",
          "output_type": "stream",
          "text": [
            " 45%|████▌     | 11117/24679 [42:06<49:14,  4.59it/s]"
          ]
        },
        {
          "name": "stdout",
          "output_type": "stream",
          "text": [
            "https://sports.news.naver.com/news.nhn?oid=347&aid=0000163923\n",
            "https://sports.news.naver.com/news.nhn?oid=311&aid=0001468522\n"
          ]
        },
        {
          "name": "stderr",
          "output_type": "stream",
          "text": [
            " 45%|████▌     | 11121/24679 [42:07<32:27,  6.96it/s]"
          ]
        },
        {
          "name": "stdout",
          "output_type": "stream",
          "text": [
            "https://sports.news.naver.com/news.nhn?oid=236&aid=0000225199\n"
          ]
        },
        {
          "name": "stderr",
          "output_type": "stream",
          "text": [
            " 45%|████▌     | 11149/24679 [42:12<36:17,  6.21it/s]"
          ]
        },
        {
          "name": "stdout",
          "output_type": "stream",
          "text": [
            "https://entertain.naver.com/read?oid=312&aid=0000555550\n"
          ]
        },
        {
          "name": "stderr",
          "output_type": "stream",
          "text": [
            " 45%|████▌     | 11181/24679 [42:20<49:19,  4.56it/s]  "
          ]
        },
        {
          "name": "stdout",
          "output_type": "stream",
          "text": [
            "https://sports.news.naver.com/news.nhn?oid=347&aid=0000163898\n"
          ]
        },
        {
          "name": "stderr",
          "output_type": "stream",
          "text": [
            " 45%|████▌     | 11188/24679 [42:22<1:01:06,  3.68it/s]"
          ]
        },
        {
          "name": "stdout",
          "output_type": "stream",
          "text": [
            "https://entertain.naver.com/read?oid=108&aid=0003066430\n"
          ]
        },
        {
          "name": "stderr",
          "output_type": "stream",
          "text": [
            " 45%|████▌     | 11193/24679 [42:23<52:23,  4.29it/s]  "
          ]
        },
        {
          "name": "stdout",
          "output_type": "stream",
          "text": [
            "https://sports.news.naver.com/news.nhn?oid=236&aid=0000225165\n"
          ]
        },
        {
          "name": "stderr",
          "output_type": "stream",
          "text": [
            " 45%|████▌     | 11200/24679 [42:25<1:02:22,  3.60it/s]"
          ]
        },
        {
          "name": "stdout",
          "output_type": "stream",
          "text": [
            "https://entertain.naver.com/read?oid=241&aid=0003217502\n"
          ]
        },
        {
          "name": "stderr",
          "output_type": "stream",
          "text": [
            " 46%|████▌     | 11296/24679 [42:48<46:10,  4.83it/s]  "
          ]
        },
        {
          "name": "stdout",
          "output_type": "stream",
          "text": [
            "https://entertain.naver.com/read?oid=052&aid=0001757638\n",
            "https://entertain.naver.com/read?oid=052&aid=0001757638\n"
          ]
        },
        {
          "name": "stderr",
          "output_type": "stream",
          "text": [
            " 46%|████▌     | 11342/24679 [42:58<1:08:35,  3.24it/s]"
          ]
        },
        {
          "name": "stdout",
          "output_type": "stream",
          "text": [
            "https://sports.news.naver.com/news.nhn?oid=025&aid=0003204862\n"
          ]
        },
        {
          "name": "stderr",
          "output_type": "stream",
          "text": [
            " 46%|████▌     | 11384/24679 [43:08<47:02,  4.71it/s]  "
          ]
        },
        {
          "name": "stdout",
          "output_type": "stream",
          "text": [
            "https://sports.news.naver.com/news.nhn?oid=468&aid=0000859561\n"
          ]
        },
        {
          "name": "stderr",
          "output_type": "stream",
          "text": [
            " 46%|████▌     | 11390/24679 [43:10<59:40,  3.71it/s]  "
          ]
        },
        {
          "name": "stdout",
          "output_type": "stream",
          "text": [
            "https://sports.news.naver.com/news.nhn?oid=144&aid=0000822003\n"
          ]
        },
        {
          "name": "stderr",
          "output_type": "stream",
          "text": [
            " 46%|████▋     | 11428/24679 [43:19<50:14,  4.40it/s]  "
          ]
        },
        {
          "name": "stdout",
          "output_type": "stream",
          "text": [
            "https://sports.news.naver.com/news.nhn?oid=241&aid=0003217807\n"
          ]
        },
        {
          "name": "stderr",
          "output_type": "stream",
          "text": [
            " 47%|████▋     | 11544/24679 [43:48<34:07,  6.41it/s]  "
          ]
        },
        {
          "name": "stdout",
          "output_type": "stream",
          "text": [
            "https://sports.news.naver.com/news.nhn?oid=009&aid=0004980288\n"
          ]
        },
        {
          "name": "stderr",
          "output_type": "stream",
          "text": [
            " 47%|████▋     | 11567/24679 [43:53<53:01,  4.12it/s]  "
          ]
        },
        {
          "name": "stdout",
          "output_type": "stream",
          "text": [
            "https://sports.news.naver.com/news.nhn?oid=442&aid=0000150744\n"
          ]
        },
        {
          "name": "stderr",
          "output_type": "stream",
          "text": [
            " 47%|████▋     | 11597/24679 [44:00<39:26,  5.53it/s]  "
          ]
        },
        {
          "name": "stdout",
          "output_type": "stream",
          "text": [
            "https://sports.news.naver.com/news.nhn?oid=241&aid=0003130659\n"
          ]
        },
        {
          "name": "stderr",
          "output_type": "stream",
          "text": [
            " 47%|████▋     | 11644/24679 [44:11<49:03,  4.43it/s]  "
          ]
        },
        {
          "name": "stdout",
          "output_type": "stream",
          "text": [
            "https://sports.news.naver.com/news.nhn?oid=009&aid=0004982438\n"
          ]
        },
        {
          "name": "stderr",
          "output_type": "stream",
          "text": [
            " 47%|████▋     | 11666/24679 [44:16<35:39,  6.08it/s]"
          ]
        },
        {
          "name": "stdout",
          "output_type": "stream",
          "text": [
            "https://sports.news.naver.com/news.nhn?oid=347&aid=0000163830\n"
          ]
        },
        {
          "name": "stderr",
          "output_type": "stream",
          "text": [
            " 47%|████▋     | 11698/24679 [44:23<46:30,  4.65it/s]"
          ]
        },
        {
          "name": "stdout",
          "output_type": "stream",
          "text": [
            "https://sports.news.naver.com/news.nhn?oid=468&aid=0000858450\n",
            "https://entertain.naver.com/read?oid=629&aid=0000155971\n",
            "https://entertain.naver.com/read?oid=629&aid=0000155971\n"
          ]
        },
        {
          "name": "stderr",
          "output_type": "stream",
          "text": [
            " 48%|████▊     | 11726/24679 [44:28<37:27,  5.76it/s]"
          ]
        },
        {
          "name": "stdout",
          "output_type": "stream",
          "text": [
            "https://sports.news.naver.com/news.nhn?oid=347&aid=0000163754\n"
          ]
        },
        {
          "name": "stderr",
          "output_type": "stream",
          "text": [
            " 48%|████▊     | 11727/24679 [44:29<38:02,  5.68it/s]"
          ]
        },
        {
          "name": "stdout",
          "output_type": "stream",
          "text": [
            "https://sports.news.naver.com/news.nhn?oid=236&aid=0000224897\n"
          ]
        },
        {
          "name": "stderr",
          "output_type": "stream",
          "text": [
            " 48%|████▊     | 11742/24679 [44:33<34:01,  6.34it/s]  "
          ]
        },
        {
          "name": "stdout",
          "output_type": "stream",
          "text": [
            "https://sports.news.naver.com/news.nhn?oid=311&aid=0001465542\n"
          ]
        },
        {
          "name": "stderr",
          "output_type": "stream",
          "text": [
            " 48%|████▊     | 11812/24679 [44:48<26:45,  8.02it/s]  "
          ]
        },
        {
          "name": "stdout",
          "output_type": "stream",
          "text": [
            "https://sports.news.naver.com/news.nhn?oid=442&aid=0000150587\n",
            "https://entertain.naver.com/read?oid=396&aid=0000616471\n"
          ]
        },
        {
          "name": "stderr",
          "output_type": "stream",
          "text": [
            " 48%|████▊     | 11825/24679 [44:51<49:17,  4.35it/s]  "
          ]
        },
        {
          "name": "stdout",
          "output_type": "stream",
          "text": [
            "https://sports.news.naver.com/news.nhn?oid=311&aid=0001464389\n"
          ]
        },
        {
          "name": "stderr",
          "output_type": "stream",
          "text": [
            " 48%|████▊     | 11836/24679 [44:54<53:25,  4.01it/s]"
          ]
        },
        {
          "name": "stdout",
          "output_type": "stream",
          "text": [
            "https://sports.news.naver.com/news.nhn?oid=347&aid=0000163733\n",
            "https://sports.news.naver.com/news.nhn?oid=347&aid=0000163733\n"
          ]
        },
        {
          "name": "stderr",
          "output_type": "stream",
          "text": [
            " 48%|████▊     | 11857/24679 [44:57<25:32,  8.37it/s]"
          ]
        },
        {
          "name": "stdout",
          "output_type": "stream",
          "text": [
            "https://sports.news.naver.com/news.nhn?oid=311&aid=0001464709\n",
            "https://sports.news.naver.com/news.nhn?oid=144&aid=0000821133\n"
          ]
        },
        {
          "name": "stderr",
          "output_type": "stream",
          "text": [
            " 48%|████▊     | 11918/24679 [45:10<23:57,  8.88it/s]"
          ]
        },
        {
          "name": "stdout",
          "output_type": "stream",
          "text": [
            "https://sports.news.naver.com/news.nhn?oid=144&aid=0000820926\n",
            "https://sports.news.naver.com/news.nhn?oid=144&aid=0000820926\n"
          ]
        },
        {
          "name": "stderr",
          "output_type": "stream",
          "text": [
            " 49%|████▊     | 11986/24679 [45:26<51:38,  4.10it/s]  "
          ]
        },
        {
          "name": "stdout",
          "output_type": "stream",
          "text": [
            "https://entertain.naver.com/read?oid=311&aid=0001462674\n"
          ]
        },
        {
          "name": "stderr",
          "output_type": "stream",
          "text": [
            " 49%|████▉     | 12046/24679 [45:43<1:02:11,  3.39it/s]"
          ]
        },
        {
          "name": "stdout",
          "output_type": "stream",
          "text": [
            "https://sports.news.naver.com/news.nhn?oid=347&aid=0000163640\n"
          ]
        },
        {
          "name": "stderr",
          "output_type": "stream",
          "text": [
            " 49%|████▉     | 12049/24679 [45:44<47:08,  4.46it/s]  "
          ]
        },
        {
          "name": "stdout",
          "output_type": "stream",
          "text": [
            "https://sports.news.naver.com/news.nhn?oid=016&aid=0002002649\n"
          ]
        },
        {
          "name": "stderr",
          "output_type": "stream",
          "text": [
            " 49%|████▉     | 12056/24679 [45:45<34:12,  6.15it/s]"
          ]
        },
        {
          "name": "stdout",
          "output_type": "stream",
          "text": [
            "https://entertain.naver.com/read?oid=076&aid=0003882839\n"
          ]
        },
        {
          "name": "stderr",
          "output_type": "stream",
          "text": [
            " 49%|████▉     | 12081/24679 [45:50<30:53,  6.80it/s]"
          ]
        },
        {
          "name": "stdout",
          "output_type": "stream",
          "text": [
            "https://entertain.naver.com/read?oid=437&aid=0000301440\n"
          ]
        },
        {
          "name": "stderr",
          "output_type": "stream",
          "text": [
            " 49%|████▉     | 12101/24679 [45:55<1:01:37,  3.40it/s]"
          ]
        },
        {
          "name": "stdout",
          "output_type": "stream",
          "text": [
            "https://sports.news.naver.com/news.nhn?oid=018&aid=0005248867\n"
          ]
        },
        {
          "name": "stderr",
          "output_type": "stream",
          "text": [
            " 49%|████▉     | 12124/24679 [46:00<49:24,  4.23it/s]  "
          ]
        },
        {
          "name": "stdout",
          "output_type": "stream",
          "text": [
            "https://entertain.naver.com/read?oid=052&aid=0001748221\n"
          ]
        },
        {
          "name": "stderr",
          "output_type": "stream",
          "text": [
            " 49%|████▉     | 12129/24679 [46:01<47:36,  4.39it/s]"
          ]
        },
        {
          "name": "stdout",
          "output_type": "stream",
          "text": [
            "https://entertain.naver.com/read?oid=009&aid=0004977461\n"
          ]
        },
        {
          "name": "stderr",
          "output_type": "stream",
          "text": [
            " 49%|████▉     | 12167/24679 [46:11<34:43,  6.01it/s]  "
          ]
        },
        {
          "name": "stdout",
          "output_type": "stream",
          "text": [
            "https://sports.news.naver.com/news.nhn?oid=144&aid=0000819706\n"
          ]
        },
        {
          "name": "stderr",
          "output_type": "stream",
          "text": [
            " 49%|████▉     | 12188/24679 [46:15<40:18,  5.16it/s]"
          ]
        },
        {
          "name": "stdout",
          "output_type": "stream",
          "text": [
            "https://sports.news.naver.com/news.nhn?oid=347&aid=0000163654\n"
          ]
        },
        {
          "name": "stderr",
          "output_type": "stream",
          "text": [
            " 49%|████▉     | 12210/24679 [46:20<44:02,  4.72it/s]"
          ]
        },
        {
          "name": "stdout",
          "output_type": "stream",
          "text": [
            "https://entertain.naver.com/read?oid=140&aid=0000047693\n"
          ]
        },
        {
          "name": "stderr",
          "output_type": "stream",
          "text": [
            " 50%|████▉     | 12258/24679 [46:31<43:07,  4.80it/s]  "
          ]
        },
        {
          "name": "stdout",
          "output_type": "stream",
          "text": [
            "https://entertain.naver.com/read?oid=421&aid=0006160065\n",
            "https://entertain.naver.com/read?oid=421&aid=0006160065\n"
          ]
        },
        {
          "name": "stderr",
          "output_type": "stream",
          "text": [
            " 50%|████▉     | 12267/24679 [46:33<43:32,  4.75it/s]"
          ]
        },
        {
          "name": "stdout",
          "output_type": "stream",
          "text": [
            "https://sports.news.naver.com/news.nhn?oid=076&aid=0003881058\n"
          ]
        },
        {
          "name": "stderr",
          "output_type": "stream",
          "text": [
            " 50%|████▉     | 12274/24679 [46:34<33:52,  6.10it/s]"
          ]
        },
        {
          "name": "stdout",
          "output_type": "stream",
          "text": [
            "https://entertain.naver.com/read?oid=311&aid=0001461152\n"
          ]
        },
        {
          "name": "stderr",
          "output_type": "stream",
          "text": [
            " 50%|████▉     | 12293/24679 [46:38<38:58,  5.30it/s]"
          ]
        },
        {
          "name": "stdout",
          "output_type": "stream",
          "text": [
            "https://entertain.naver.com/read?oid=011&aid=0004066224\n"
          ]
        },
        {
          "name": "stderr",
          "output_type": "stream",
          "text": [
            " 50%|████▉     | 12300/24679 [46:39<29:14,  7.06it/s]"
          ]
        },
        {
          "name": "stdout",
          "output_type": "stream",
          "text": [
            "https://entertain.naver.com/read?oid=018&aid=0005238467\n"
          ]
        },
        {
          "name": "stderr",
          "output_type": "stream",
          "text": [
            " 50%|████▉     | 12306/24679 [46:40<28:10,  7.32it/s]"
          ]
        },
        {
          "name": "stdout",
          "output_type": "stream",
          "text": [
            "https://entertain.naver.com/read?oid=119&aid=0002613257\n"
          ]
        },
        {
          "name": "stderr",
          "output_type": "stream",
          "text": [
            " 50%|████▉     | 12314/24679 [46:42<38:18,  5.38it/s]"
          ]
        },
        {
          "name": "stdout",
          "output_type": "stream",
          "text": [
            "https://entertain.naver.com/read?oid=109&aid=0004637347\n"
          ]
        },
        {
          "name": "stderr",
          "output_type": "stream",
          "text": [
            " 50%|████▉     | 12339/24679 [46:48<49:10,  4.18it/s]"
          ]
        },
        {
          "name": "stdout",
          "output_type": "stream",
          "text": [
            "https://sports.news.naver.com/news.nhn?oid=468&aid=0000826563\n"
          ]
        },
        {
          "name": "stderr",
          "output_type": "stream",
          "text": [
            " 50%|█████     | 12353/24679 [46:52<1:24:51,  2.42it/s]"
          ]
        },
        {
          "name": "stdout",
          "output_type": "stream",
          "text": [
            "https://entertain.naver.com/read?oid=410&aid=0000874112\n"
          ]
        },
        {
          "name": "stderr",
          "output_type": "stream",
          "text": [
            " 50%|█████     | 12363/24679 [46:55<54:15,  3.78it/s]  "
          ]
        },
        {
          "name": "stdout",
          "output_type": "stream",
          "text": [
            "https://entertain.naver.com/read?oid=609&aid=0000587097\n"
          ]
        },
        {
          "name": "stderr",
          "output_type": "stream",
          "text": [
            " 50%|█████     | 12368/24679 [46:55<35:42,  5.75it/s]"
          ]
        },
        {
          "name": "stdout",
          "output_type": "stream",
          "text": [
            "https://entertain.naver.com/read?oid=396&aid=0000615268\n"
          ]
        },
        {
          "name": "stderr",
          "output_type": "stream",
          "text": [
            " 50%|█████     | 12373/24679 [46:56<38:17,  5.36it/s]"
          ]
        },
        {
          "name": "stdout",
          "output_type": "stream",
          "text": [
            "https://sports.news.naver.com/news.nhn?oid=241&aid=0003129831\n"
          ]
        },
        {
          "name": "stderr",
          "output_type": "stream",
          "text": [
            " 50%|█████     | 12390/24679 [47:00<39:51,  5.14it/s]  "
          ]
        },
        {
          "name": "stdout",
          "output_type": "stream",
          "text": [
            "https://sports.news.naver.com/news.nhn?oid=311&aid=0001461309\n"
          ]
        },
        {
          "name": "stderr",
          "output_type": "stream",
          "text": [
            " 50%|█████     | 12398/24679 [47:03<51:07,  4.00it/s]  "
          ]
        },
        {
          "name": "stdout",
          "output_type": "stream",
          "text": [
            "https://sports.news.naver.com/news.nhn?oid=018&aid=0005242229\n"
          ]
        },
        {
          "name": "stderr",
          "output_type": "stream",
          "text": [
            " 50%|█████     | 12409/24679 [47:05<26:26,  7.74it/s]"
          ]
        },
        {
          "name": "stdout",
          "output_type": "stream",
          "text": [
            "https://sports.news.naver.com/news.nhn?oid=442&aid=0000150128\n",
            "https://entertain.naver.com/read?oid=421&aid=0006151716\n"
          ]
        },
        {
          "name": "stderr",
          "output_type": "stream",
          "text": [
            " 50%|█████     | 12448/24679 [47:16<52:08,  3.91it/s]  "
          ]
        },
        {
          "name": "stdout",
          "output_type": "stream",
          "text": [
            "https://sports.news.naver.com/news.nhn?oid=311&aid=0001461331\n"
          ]
        },
        {
          "name": "stderr",
          "output_type": "stream",
          "text": [
            " 50%|█████     | 12460/24679 [47:18<44:26,  4.58it/s]"
          ]
        },
        {
          "name": "stdout",
          "output_type": "stream",
          "text": [
            "https://sports.news.naver.com/news.nhn?oid=109&aid=0004637431\n"
          ]
        },
        {
          "name": "stderr",
          "output_type": "stream",
          "text": [
            " 51%|█████     | 12466/24679 [47:20<45:36,  4.46it/s]"
          ]
        },
        {
          "name": "stdout",
          "output_type": "stream",
          "text": [
            "https://entertain.naver.com/read?oid=241&aid=0003129289\n"
          ]
        },
        {
          "name": "stderr",
          "output_type": "stream",
          "text": [
            " 51%|█████     | 12480/24679 [47:23<40:08,  5.07it/s]"
          ]
        },
        {
          "name": "stdout",
          "output_type": "stream",
          "text": [
            "https://sports.news.naver.com/news.nhn?oid=311&aid=0001461300\n"
          ]
        },
        {
          "name": "stderr",
          "output_type": "stream",
          "text": [
            " 51%|█████     | 12494/24679 [47:25<32:31,  6.24it/s]"
          ]
        },
        {
          "name": "stdout",
          "output_type": "stream",
          "text": [
            "https://entertain.naver.com/read?oid=438&aid=0000047482\n"
          ]
        },
        {
          "name": "stderr",
          "output_type": "stream",
          "text": [
            " 51%|█████     | 12508/24679 [47:29<49:30,  4.10it/s]  "
          ]
        },
        {
          "name": "stdout",
          "output_type": "stream",
          "text": [
            "https://sports.news.naver.com/news.nhn?oid=236&aid=0000224777\n",
            "https://sports.news.naver.com/news.nhn?oid=144&aid=0000819411\n"
          ]
        },
        {
          "name": "stderr",
          "output_type": "stream",
          "text": [
            " 51%|█████     | 12532/24679 [47:33<29:27,  6.87it/s]"
          ]
        },
        {
          "name": "stdout",
          "output_type": "stream",
          "text": [
            "https://sports.news.naver.com/news.nhn?oid=435&aid=0000010720\n"
          ]
        },
        {
          "name": "stderr",
          "output_type": "stream",
          "text": [
            " 51%|█████     | 12534/24679 [47:33<35:49,  5.65it/s]"
          ]
        },
        {
          "name": "stdout",
          "output_type": "stream",
          "text": [
            "https://sports.news.naver.com/news.nhn?oid=421&aid=0006175722\n"
          ]
        },
        {
          "name": "stderr",
          "output_type": "stream",
          "text": [
            " 51%|█████     | 12572/24679 [47:43<47:05,  4.28it/s]  "
          ]
        },
        {
          "name": "stdout",
          "output_type": "stream",
          "text": [
            "https://sports.news.naver.com/news.nhn?oid=347&aid=0000163411\n"
          ]
        },
        {
          "name": "stderr",
          "output_type": "stream",
          "text": [
            " 51%|█████     | 12574/24679 [47:44<37:25,  5.39it/s]"
          ]
        },
        {
          "name": "stdout",
          "output_type": "stream",
          "text": [
            "https://sports.news.naver.com/news.nhn?oid=396&aid=0000616086\n"
          ]
        },
        {
          "name": "stderr",
          "output_type": "stream",
          "text": [
            " 51%|█████     | 12580/24679 [47:45<30:37,  6.59it/s]"
          ]
        },
        {
          "name": "stdout",
          "output_type": "stream",
          "text": [
            "https://entertain.naver.com/read?oid=009&aid=0004976033\n"
          ]
        },
        {
          "name": "stderr",
          "output_type": "stream",
          "text": [
            " 51%|█████     | 12594/24679 [47:47<30:05,  6.69it/s]"
          ]
        },
        {
          "name": "stdout",
          "output_type": "stream",
          "text": [
            "https://sports.news.naver.com/news.nhn?oid=236&aid=0000224330\n"
          ]
        },
        {
          "name": "stderr",
          "output_type": "stream",
          "text": [
            " 51%|█████     | 12604/24679 [47:49<28:45,  7.00it/s]"
          ]
        },
        {
          "name": "stdout",
          "output_type": "stream",
          "text": [
            "https://sports.news.naver.com/news.nhn?oid=347&aid=0000163387\n"
          ]
        },
        {
          "name": "stderr",
          "output_type": "stream",
          "text": [
            " 51%|█████     | 12608/24679 [47:49<25:45,  7.81it/s]"
          ]
        },
        {
          "name": "stdout",
          "output_type": "stream",
          "text": [
            "https://entertain.naver.com/read?oid=022&aid=0003704303\n"
          ]
        },
        {
          "name": "stderr",
          "output_type": "stream",
          "text": [
            " 51%|█████     | 12625/24679 [47:53<31:51,  6.31it/s]"
          ]
        },
        {
          "name": "stdout",
          "output_type": "stream",
          "text": [
            "https://entertain.naver.com/read?oid=241&aid=0003127742\n"
          ]
        },
        {
          "name": "stderr",
          "output_type": "stream",
          "text": [
            " 51%|█████     | 12641/24679 [47:56<29:36,  6.77it/s]"
          ]
        },
        {
          "name": "stdout",
          "output_type": "stream",
          "text": [
            "https://entertain.naver.com/read?oid=477&aid=0000365128\n"
          ]
        },
        {
          "name": "stderr",
          "output_type": "stream",
          "text": [
            " 51%|█████▏    | 12662/24679 [48:00<32:11,  6.22it/s]"
          ]
        },
        {
          "name": "stdout",
          "output_type": "stream",
          "text": [
            "https://entertain.naver.com/read?oid=421&aid=0006150339\n",
            "https://sports.news.naver.com/news.nhn?oid=347&aid=0000163226\n"
          ]
        },
        {
          "name": "stderr",
          "output_type": "stream",
          "text": [
            " 51%|█████▏    | 12668/24679 [48:01<46:49,  4.28it/s]"
          ]
        },
        {
          "name": "stdout",
          "output_type": "stream",
          "text": [
            "https://entertain.naver.com/read?oid=057&aid=0001668276\n"
          ]
        },
        {
          "name": "stderr",
          "output_type": "stream",
          "text": [
            " 51%|█████▏    | 12678/24679 [48:03<32:52,  6.08it/s]"
          ]
        },
        {
          "name": "stdout",
          "output_type": "stream",
          "text": [
            "https://entertain.naver.com/read?oid=421&aid=0006148902\n",
            "https://entertain.naver.com/read?oid=609&aid=0000587275\n"
          ]
        },
        {
          "name": "stderr",
          "output_type": "stream",
          "text": [
            " 51%|█████▏    | 12681/24679 [48:03<27:35,  7.25it/s]"
          ]
        },
        {
          "name": "stdout",
          "output_type": "stream",
          "text": [
            "https://sports.news.naver.com/news.nhn?oid=382&aid=0000986124\n"
          ]
        },
        {
          "name": "stderr",
          "output_type": "stream",
          "text": [
            " 51%|█████▏    | 12683/24679 [48:04<33:26,  5.98it/s]"
          ]
        },
        {
          "name": "stdout",
          "output_type": "stream",
          "text": [
            "https://entertain.naver.com/read?oid=009&aid=0004973787\n"
          ]
        },
        {
          "name": "stderr",
          "output_type": "stream",
          "text": [
            " 51%|█████▏    | 12689/24679 [48:04<18:35, 10.75it/s]"
          ]
        },
        {
          "name": "stdout",
          "output_type": "stream",
          "text": [
            "https://entertain.naver.com/read?oid=076&aid=0003877534\n",
            "https://sports.news.naver.com/news.nhn?oid=236&aid=0000224509\n",
            "https://entertain.naver.com/read?oid=215&aid=0001037179\n",
            "https://entertain.naver.com/read?oid=109&aid=0004634897\n"
          ]
        },
        {
          "name": "stderr",
          "output_type": "stream",
          "text": [
            " 51%|█████▏    | 12705/24679 [48:07<31:16,  6.38it/s]"
          ]
        },
        {
          "name": "stdout",
          "output_type": "stream",
          "text": [
            "https://entertain.naver.com/read?oid=469&aid=0000679873\n"
          ]
        },
        {
          "name": "stderr",
          "output_type": "stream",
          "text": [
            " 52%|█████▏    | 12717/24679 [48:10<40:40,  4.90it/s]"
          ]
        },
        {
          "name": "stdout",
          "output_type": "stream",
          "text": [
            "https://entertain.naver.com/read?oid=311&aid=0001461061\n"
          ]
        },
        {
          "name": "stderr",
          "output_type": "stream",
          "text": [
            " 52%|█████▏    | 12749/24679 [48:17<30:29,  6.52it/s]  "
          ]
        },
        {
          "name": "stdout",
          "output_type": "stream",
          "text": [
            "https://entertain.naver.com/read?oid=057&aid=0001669494\n"
          ]
        },
        {
          "name": "stderr",
          "output_type": "stream",
          "text": [
            " 52%|█████▏    | 12755/24679 [48:18<29:35,  6.72it/s]"
          ]
        },
        {
          "name": "stdout",
          "output_type": "stream",
          "text": [
            "https://entertain.naver.com/read?oid=018&aid=0005281183\n"
          ]
        },
        {
          "name": "stderr",
          "output_type": "stream",
          "text": [
            " 53%|█████▎    | 12962/24679 [49:09<39:47,  4.91it/s]  "
          ]
        },
        {
          "name": "stdout",
          "output_type": "stream",
          "text": [
            "https://entertain.naver.com/read?oid=009&aid=0004996496\n"
          ]
        },
        {
          "name": "stderr",
          "output_type": "stream",
          "text": [
            " 53%|█████▎    | 13003/24679 [49:18<29:08,  6.68it/s]"
          ]
        },
        {
          "name": "stdout",
          "output_type": "stream",
          "text": [
            "https://entertain.naver.com/read?oid=011&aid=0004080462\n"
          ]
        },
        {
          "name": "stderr",
          "output_type": "stream",
          "text": [
            " 53%|█████▎    | 13019/24679 [49:21<37:12,  5.22it/s]  "
          ]
        },
        {
          "name": "stdout",
          "output_type": "stream",
          "text": [
            "https://entertain.naver.com/read?oid=396&aid=0000619809\n"
          ]
        },
        {
          "name": "stderr",
          "output_type": "stream",
          "text": [
            " 53%|█████▎    | 13024/24679 [49:22<27:32,  7.05it/s]"
          ]
        },
        {
          "name": "stdout",
          "output_type": "stream",
          "text": [
            "https://entertain.naver.com/read?oid=109&aid=0004665210\n"
          ]
        },
        {
          "name": "stderr",
          "output_type": "stream",
          "text": [
            " 53%|█████▎    | 13163/24679 [49:55<43:40,  4.40it/s]  "
          ]
        },
        {
          "name": "stdout",
          "output_type": "stream",
          "text": [
            "https://sports.news.naver.com/news.nhn?oid=468&aid=0000868010\n"
          ]
        },
        {
          "name": "stderr",
          "output_type": "stream",
          "text": [
            " 54%|█████▎    | 13235/24679 [50:13<39:30,  4.83it/s]  "
          ]
        },
        {
          "name": "stdout",
          "output_type": "stream",
          "text": [
            "https://sports.news.naver.com/news.nhn?oid=311&aid=0001480268\n"
          ]
        },
        {
          "name": "stderr",
          "output_type": "stream",
          "text": [
            " 54%|█████▍    | 13265/24679 [50:19<24:20,  7.81it/s]"
          ]
        },
        {
          "name": "stdout",
          "output_type": "stream",
          "text": [
            "https://sports.news.naver.com/news.nhn?oid=629&aid=0000162872\n",
            "https://sports.news.naver.com/news.nhn?oid=629&aid=0000162872\n"
          ]
        },
        {
          "name": "stderr",
          "output_type": "stream",
          "text": [
            " 54%|█████▍    | 13271/24679 [50:20<37:25,  5.08it/s]"
          ]
        },
        {
          "name": "stdout",
          "output_type": "stream",
          "text": [
            "https://sports.news.naver.com/news.nhn?oid=356&aid=0000054825\n"
          ]
        },
        {
          "name": "stderr",
          "output_type": "stream",
          "text": [
            " 54%|█████▍    | 13302/24679 [50:27<45:14,  4.19it/s]"
          ]
        },
        {
          "name": "stdout",
          "output_type": "stream",
          "text": [
            "https://entertain.naver.com/read?oid=609&aid=0000608388\n",
            "https://sports.news.naver.com/news.nhn?oid=347&aid=0000164923\n"
          ]
        },
        {
          "name": "stderr",
          "output_type": "stream",
          "text": [
            " 54%|█████▍    | 13347/24679 [50:38<1:30:07,  2.10it/s]"
          ]
        },
        {
          "name": "stdout",
          "output_type": "stream",
          "text": [
            "https://sports.news.naver.com/news.nhn?oid=347&aid=0000164911\n"
          ]
        },
        {
          "name": "stderr",
          "output_type": "stream",
          "text": [
            " 54%|█████▍    | 13408/24679 [50:52<41:09,  4.56it/s]  "
          ]
        },
        {
          "name": "stdout",
          "output_type": "stream",
          "text": [
            "https://sports.news.naver.com/news.nhn?oid=311&aid=0001479200\n",
            "https://entertain.naver.com/read?oid=001&aid=0013313102\n"
          ]
        },
        {
          "name": "stderr",
          "output_type": "stream",
          "text": [
            " 54%|█████▍    | 13438/24679 [50:58<29:59,  6.25it/s]"
          ]
        },
        {
          "name": "stdout",
          "output_type": "stream",
          "text": [
            "https://entertain.naver.com/read?oid=609&aid=0000604772\n"
          ]
        },
        {
          "name": "stderr",
          "output_type": "stream",
          "text": [
            " 55%|█████▍    | 13471/24679 [51:05<30:12,  6.18it/s]  "
          ]
        },
        {
          "name": "stdout",
          "output_type": "stream",
          "text": [
            "https://entertain.naver.com/read?oid=311&aid=0001478957\n"
          ]
        },
        {
          "name": "stderr",
          "output_type": "stream",
          "text": [
            " 55%|█████▍    | 13518/24679 [51:17<45:49,  4.06it/s]  "
          ]
        },
        {
          "name": "stdout",
          "output_type": "stream",
          "text": [
            "https://entertain.naver.com/read?oid=421&aid=0006219286\n",
            "https://entertain.naver.com/read?oid=001&aid=0013322152\n"
          ]
        },
        {
          "name": "stderr",
          "output_type": "stream",
          "text": [
            " 55%|█████▍    | 13533/24679 [51:20<28:34,  6.50it/s]"
          ]
        },
        {
          "name": "stdout",
          "output_type": "stream",
          "text": [
            "https://entertain.naver.com/read?oid=108&aid=0003070884\n"
          ]
        },
        {
          "name": "stderr",
          "output_type": "stream",
          "text": [
            " 55%|█████▍    | 13544/24679 [51:22<27:31,  6.74it/s]"
          ]
        },
        {
          "name": "stdout",
          "output_type": "stream",
          "text": [
            "https://entertain.naver.com/read?oid=015&aid=0004724522\n"
          ]
        },
        {
          "name": "stderr",
          "output_type": "stream",
          "text": [
            " 55%|█████▍    | 13563/24679 [51:26<24:59,  7.41it/s]"
          ]
        },
        {
          "name": "stdout",
          "output_type": "stream",
          "text": [
            "https://entertain.naver.com/read?oid=312&aid=0000558364\n",
            "https://entertain.naver.com/read?oid=312&aid=0000558364\n"
          ]
        },
        {
          "name": "stderr",
          "output_type": "stream",
          "text": [
            " 55%|█████▌    | 13609/24679 [51:37<33:16,  5.55it/s]"
          ]
        },
        {
          "name": "stdout",
          "output_type": "stream",
          "text": [
            "https://entertain.naver.com/read?oid=311&aid=0001477925\n"
          ]
        },
        {
          "name": "stderr",
          "output_type": "stream",
          "text": [
            " 55%|█████▌    | 13612/24679 [51:37<26:16,  7.02it/s]"
          ]
        },
        {
          "name": "stdout",
          "output_type": "stream",
          "text": [
            "https://entertain.naver.com/read?oid=117&aid=0003626797\n"
          ]
        },
        {
          "name": "stderr",
          "output_type": "stream",
          "text": [
            " 55%|█████▌    | 13626/24679 [51:40<38:08,  4.83it/s]"
          ]
        },
        {
          "name": "stdout",
          "output_type": "stream",
          "text": [
            "https://entertain.naver.com/read?oid=311&aid=0001478045\n"
          ]
        },
        {
          "name": "stderr",
          "output_type": "stream",
          "text": [
            " 55%|█████▌    | 13646/24679 [51:44<28:56,  6.35it/s]"
          ]
        },
        {
          "name": "stdout",
          "output_type": "stream",
          "text": [
            "https://sports.news.naver.com/news.nhn?oid=347&aid=0000164777\n"
          ]
        },
        {
          "name": "stderr",
          "output_type": "stream",
          "text": [
            " 56%|█████▌    | 13710/24679 [51:59<44:02,  4.15it/s]"
          ]
        },
        {
          "name": "stdout",
          "output_type": "stream",
          "text": [
            "https://sports.news.naver.com/news.nhn?oid=356&aid=0000054729\n"
          ]
        },
        {
          "name": "stderr",
          "output_type": "stream",
          "text": [
            " 56%|█████▌    | 13714/24679 [51:59<38:35,  4.74it/s]"
          ]
        },
        {
          "name": "stdout",
          "output_type": "stream",
          "text": [
            "https://sports.news.naver.com/news.nhn?oid=144&aid=0000826113\n"
          ]
        },
        {
          "name": "stderr",
          "output_type": "stream",
          "text": [
            " 56%|█████▌    | 13755/24679 [52:09<43:49,  4.16it/s]  "
          ]
        },
        {
          "name": "stdout",
          "output_type": "stream",
          "text": [
            "https://sports.news.naver.com/news.nhn?oid=468&aid=0000866244\n"
          ]
        },
        {
          "name": "stderr",
          "output_type": "stream",
          "text": [
            " 56%|█████▌    | 13764/24679 [52:11<53:11,  3.42it/s]  "
          ]
        },
        {
          "name": "stdout",
          "output_type": "stream",
          "text": [
            "https://sports.news.naver.com/news.nhn?oid=382&aid=0000993158\n"
          ]
        },
        {
          "name": "stderr",
          "output_type": "stream",
          "text": [
            " 56%|█████▌    | 13773/24679 [52:13<41:28,  4.38it/s]"
          ]
        },
        {
          "name": "stdout",
          "output_type": "stream",
          "text": [
            "https://entertain.naver.com/read?oid=311&aid=0001475367\n"
          ]
        },
        {
          "name": "stderr",
          "output_type": "stream",
          "text": [
            " 56%|█████▋    | 13935/24679 [52:51<42:40,  4.20it/s]  "
          ]
        },
        {
          "name": "stdout",
          "output_type": "stream",
          "text": [
            "https://sports.news.naver.com/news.nhn?oid=347&aid=0000164681\n",
            "https://sports.news.naver.com/news.nhn?oid=347&aid=0000164681\n"
          ]
        },
        {
          "name": "stderr",
          "output_type": "stream",
          "text": [
            " 57%|█████▋    | 13973/24679 [53:00<41:57,  4.25it/s]"
          ]
        },
        {
          "name": "stdout",
          "output_type": "stream",
          "text": [
            "https://sports.news.naver.com/news.nhn?oid=347&aid=0000164657\n"
          ]
        },
        {
          "name": "stderr",
          "output_type": "stream",
          "text": [
            " 57%|█████▋    | 13982/24679 [53:02<41:20,  4.31it/s]"
          ]
        },
        {
          "name": "stdout",
          "output_type": "stream",
          "text": [
            "https://sports.news.naver.com/news.nhn?oid=442&aid=0000151689\n",
            "https://sports.news.naver.com/news.nhn?oid=442&aid=0000151689\n"
          ]
        },
        {
          "name": "stderr",
          "output_type": "stream",
          "text": [
            " 57%|█████▋    | 14079/24679 [53:24<29:06,  6.07it/s]  "
          ]
        },
        {
          "name": "stdout",
          "output_type": "stream",
          "text": [
            "https://sports.news.naver.com/news.nhn?oid=347&aid=0000164652\n"
          ]
        },
        {
          "name": "stderr",
          "output_type": "stream",
          "text": [
            " 57%|█████▋    | 14141/24679 [53:39<32:42,  5.37it/s]  "
          ]
        },
        {
          "name": "stdout",
          "output_type": "stream",
          "text": [
            "https://sports.news.naver.com/news.nhn?oid=236&aid=0000225755\n"
          ]
        },
        {
          "name": "stderr",
          "output_type": "stream",
          "text": [
            " 58%|█████▊    | 14212/24679 [53:53<48:44,  3.58it/s]"
          ]
        },
        {
          "name": "stdout",
          "output_type": "stream",
          "text": [
            "https://entertain.naver.com/read?oid=108&aid=0003070173\n"
          ]
        },
        {
          "name": "stderr",
          "output_type": "stream",
          "text": [
            " 58%|█████▊    | 14237/24679 [54:03<1:02:28,  2.79it/s]"
          ]
        },
        {
          "name": "stdout",
          "output_type": "stream",
          "text": [
            "https://sports.news.naver.com/news.nhn?oid=347&aid=0000164393\n"
          ]
        },
        {
          "name": "stderr",
          "output_type": "stream",
          "text": [
            " 58%|█████▊    | 14248/24679 [54:06<27:28,  6.33it/s]  "
          ]
        },
        {
          "name": "stdout",
          "output_type": "stream",
          "text": [
            "https://sports.news.naver.com/news.nhn?oid=442&aid=0000151544\n"
          ]
        },
        {
          "name": "stderr",
          "output_type": "stream",
          "text": [
            " 58%|█████▊    | 14289/24679 [54:14<18:22,  9.42it/s]"
          ]
        },
        {
          "name": "stdout",
          "output_type": "stream",
          "text": [
            "https://sports.news.naver.com/news.nhn?oid=311&aid=0001473619\n",
            "https://sports.news.naver.com/news.nhn?oid=468&aid=0000862262\n",
            "https://sports.news.naver.com/news.nhn?oid=468&aid=0000862262\n"
          ]
        },
        {
          "name": "stderr",
          "output_type": "stream",
          "text": [
            " 58%|█████▊    | 14300/24679 [54:17<37:50,  4.57it/s]"
          ]
        },
        {
          "name": "stdout",
          "output_type": "stream",
          "text": [
            "https://sports.news.naver.com/news.nhn?oid=347&aid=0000164462\n"
          ]
        },
        {
          "name": "stderr",
          "output_type": "stream",
          "text": [
            " 58%|█████▊    | 14312/24679 [54:19<31:20,  5.51it/s]"
          ]
        },
        {
          "name": "stdout",
          "output_type": "stream",
          "text": [
            "https://sports.news.naver.com/news.nhn?oid=347&aid=0000164404\n"
          ]
        },
        {
          "name": "stderr",
          "output_type": "stream",
          "text": [
            " 58%|█████▊    | 14341/24679 [54:26<25:23,  6.78it/s]"
          ]
        },
        {
          "name": "stdout",
          "output_type": "stream",
          "text": [
            "https://sports.news.naver.com/news.nhn?oid=347&aid=0000164437\n"
          ]
        },
        {
          "name": "stderr",
          "output_type": "stream",
          "text": [
            " 58%|█████▊    | 14351/24679 [54:28<31:54,  5.40it/s]"
          ]
        },
        {
          "name": "stdout",
          "output_type": "stream",
          "text": [
            "https://sports.news.naver.com/news.nhn?oid=347&aid=0000164371\n",
            "https://sports.news.naver.com/news.nhn?oid=277&aid=0005114805\n"
          ]
        },
        {
          "name": "stderr",
          "output_type": "stream",
          "text": [
            " 58%|█████▊    | 14359/24679 [54:30<25:40,  6.70it/s]"
          ]
        },
        {
          "name": "stdout",
          "output_type": "stream",
          "text": [
            "https://entertain.naver.com/read?oid=022&aid=0003715672\n"
          ]
        },
        {
          "name": "stderr",
          "output_type": "stream",
          "text": [
            " 58%|█████▊    | 14365/24679 [54:31<25:58,  6.62it/s]"
          ]
        },
        {
          "name": "stdout",
          "output_type": "stream",
          "text": [
            "https://sports.news.naver.com/news.nhn?oid=311&aid=0001470552\n"
          ]
        },
        {
          "name": "stderr",
          "output_type": "stream",
          "text": [
            " 58%|█████▊    | 14374/24679 [54:33<33:32,  5.12it/s]"
          ]
        },
        {
          "name": "stdout",
          "output_type": "stream",
          "text": [
            "https://sports.news.naver.com/news.nhn?oid=018&aid=0005261174\n"
          ]
        },
        {
          "name": "stderr",
          "output_type": "stream",
          "text": [
            " 58%|█████▊    | 14387/24679 [54:35<25:34,  6.71it/s]"
          ]
        },
        {
          "name": "stdout",
          "output_type": "stream",
          "text": [
            "https://sports.news.naver.com/news.nhn?oid=442&aid=0000151246\n"
          ]
        },
        {
          "name": "stderr",
          "output_type": "stream",
          "text": [
            " 58%|█████▊    | 14397/24679 [54:38<39:24,  4.35it/s]"
          ]
        },
        {
          "name": "stdout",
          "output_type": "stream",
          "text": [
            "https://sports.news.naver.com/news.nhn?oid=311&aid=0001471556\n"
          ]
        },
        {
          "name": "stderr",
          "output_type": "stream",
          "text": [
            " 58%|█████▊    | 14414/24679 [54:41<29:25,  5.81it/s]"
          ]
        },
        {
          "name": "stdout",
          "output_type": "stream",
          "text": [
            "https://sports.news.naver.com/news.nhn?oid=311&aid=0001470599\n"
          ]
        },
        {
          "name": "stderr",
          "output_type": "stream",
          "text": [
            " 59%|█████▊    | 14439/24679 [54:47<26:18,  6.49it/s]  "
          ]
        },
        {
          "name": "stdout",
          "output_type": "stream",
          "text": [
            "https://entertain.naver.com/read?oid=311&aid=0001474928\n"
          ]
        },
        {
          "name": "stderr",
          "output_type": "stream",
          "text": [
            " 59%|█████▊    | 14457/24679 [54:51<37:15,  4.57it/s]"
          ]
        },
        {
          "name": "stdout",
          "output_type": "stream",
          "text": [
            "https://sports.news.naver.com/news.nhn?oid=311&aid=0001471692\n",
            "https://entertain.naver.com/read?oid=311&aid=0001470379\n"
          ]
        },
        {
          "name": "stderr",
          "output_type": "stream",
          "text": [
            " 59%|█████▊    | 14467/24679 [54:53<28:04,  6.06it/s]"
          ]
        },
        {
          "name": "stdout",
          "output_type": "stream",
          "text": [
            "https://sports.news.naver.com/news.nhn?oid=347&aid=0000164130\n"
          ]
        },
        {
          "name": "stderr",
          "output_type": "stream",
          "text": [
            " 59%|█████▊    | 14468/24679 [54:53<29:18,  5.81it/s]"
          ]
        },
        {
          "name": "stdout",
          "output_type": "stream",
          "text": [
            "https://sports.news.naver.com/news.nhn?oid=356&aid=0000054549\n"
          ]
        },
        {
          "name": "stderr",
          "output_type": "stream",
          "text": [
            " 59%|█████▉    | 14622/24679 [55:27<34:13,  4.90it/s]"
          ]
        },
        {
          "name": "stdout",
          "output_type": "stream",
          "text": [
            "https://sports.news.naver.com/news.nhn?oid=018&aid=0005307367\n"
          ]
        },
        {
          "name": "stderr",
          "output_type": "stream",
          "text": [
            " 59%|█████▉    | 14643/24679 [55:32<38:07,  4.39it/s]  "
          ]
        },
        {
          "name": "stdout",
          "output_type": "stream",
          "text": [
            "https://sports.news.naver.com/news.nhn?oid=347&aid=0000166144\n"
          ]
        },
        {
          "name": "stderr",
          "output_type": "stream",
          "text": [
            " 59%|█████▉    | 14652/24679 [55:34<32:20,  5.17it/s]"
          ]
        },
        {
          "name": "stdout",
          "output_type": "stream",
          "text": [
            "https://sports.news.naver.com/news.nhn?oid=439&aid=0000024574\n"
          ]
        },
        {
          "name": "stderr",
          "output_type": "stream",
          "text": [
            " 60%|█████▉    | 14713/24679 [55:47<32:05,  5.17it/s]"
          ]
        },
        {
          "name": "stdout",
          "output_type": "stream",
          "text": [
            "https://sports.news.naver.com/news.nhn?oid=311&aid=0001495042\n"
          ]
        },
        {
          "name": "stderr",
          "output_type": "stream",
          "text": [
            " 60%|█████▉    | 14742/24679 [55:56<40:10,  4.12it/s]  "
          ]
        },
        {
          "name": "stdout",
          "output_type": "stream",
          "text": [
            "https://sports.news.naver.com/news.nhn?oid=108&aid=0003083078\n"
          ]
        },
        {
          "name": "stderr",
          "output_type": "stream",
          "text": [
            " 60%|█████▉    | 14745/24679 [55:56<36:59,  4.48it/s]"
          ]
        },
        {
          "name": "stdout",
          "output_type": "stream",
          "text": [
            "https://sports.news.naver.com/news.nhn?oid=108&aid=0003083078\n"
          ]
        },
        {
          "name": "stderr",
          "output_type": "stream",
          "text": [
            " 60%|█████▉    | 14766/24679 [56:00<25:27,  6.49it/s]"
          ]
        },
        {
          "name": "stdout",
          "output_type": "stream",
          "text": [
            "https://sports.news.naver.com/news.nhn?oid=347&aid=0000166113\n"
          ]
        },
        {
          "name": "stderr",
          "output_type": "stream",
          "text": [
            " 60%|██████    | 14828/24679 [56:17<23:26,  7.00it/s]  "
          ]
        },
        {
          "name": "stdout",
          "output_type": "stream",
          "text": [
            "https://sports.news.naver.com/news.nhn?oid=347&aid=0000166101\n"
          ]
        },
        {
          "name": "stderr",
          "output_type": "stream",
          "text": [
            " 60%|██████    | 14837/24679 [56:19<24:44,  6.63it/s]"
          ]
        },
        {
          "name": "stdout",
          "output_type": "stream",
          "text": [
            "https://entertain.naver.com/read?oid=396&aid=0000622826\n"
          ]
        },
        {
          "name": "stderr",
          "output_type": "stream",
          "text": [
            " 60%|██████    | 14902/24679 [56:33<28:55,  5.63it/s]  "
          ]
        },
        {
          "name": "stdout",
          "output_type": "stream",
          "text": [
            "https://sports.news.naver.com/news.nhn?oid=347&aid=0000166091\n"
          ]
        },
        {
          "name": "stderr",
          "output_type": "stream",
          "text": [
            " 61%|██████    | 14982/24679 [56:51<22:38,  7.14it/s]"
          ]
        },
        {
          "name": "stdout",
          "output_type": "stream",
          "text": [
            "https://entertain.naver.com/read?oid=438&aid=0000049633\n",
            "https://entertain.naver.com/read?oid=438&aid=0000049633\n"
          ]
        },
        {
          "name": "stderr",
          "output_type": "stream",
          "text": [
            " 61%|██████    | 14986/24679 [56:52<21:35,  7.48it/s]"
          ]
        },
        {
          "name": "stdout",
          "output_type": "stream",
          "text": [
            "https://sports.news.naver.com/news.nhn?oid=076&aid=0003910412\n"
          ]
        },
        {
          "name": "stderr",
          "output_type": "stream",
          "text": [
            " 61%|██████    | 15018/24679 [56:59<39:00,  4.13it/s]"
          ]
        },
        {
          "name": "stdout",
          "output_type": "stream",
          "text": [
            "https://sports.news.naver.com/news.nhn?oid=236&aid=0000227115\n"
          ]
        },
        {
          "name": "stderr",
          "output_type": "stream",
          "text": [
            " 61%|██████▏   | 15125/24679 [57:23<27:45,  5.74it/s]"
          ]
        },
        {
          "name": "stdout",
          "output_type": "stream",
          "text": [
            "https://sports.news.naver.com/news.nhn?oid=442&aid=0000153236\n"
          ]
        },
        {
          "name": "stderr",
          "output_type": "stream",
          "text": [
            " 61%|██████▏   | 15133/24679 [57:26<38:44,  4.11it/s]"
          ]
        },
        {
          "name": "stdout",
          "output_type": "stream",
          "text": [
            "https://sports.news.naver.com/news.nhn?oid=311&aid=0001493400\n"
          ]
        },
        {
          "name": "stderr",
          "output_type": "stream",
          "text": [
            " 61%|██████▏   | 15136/24679 [57:26<38:33,  4.12it/s]"
          ]
        },
        {
          "name": "stdout",
          "output_type": "stream",
          "text": [
            "https://sports.news.naver.com/news.nhn?oid=009&aid=0005009671\n"
          ]
        },
        {
          "name": "stderr",
          "output_type": "stream",
          "text": [
            " 61%|██████▏   | 15175/24679 [57:36<25:47,  6.14it/s]  "
          ]
        },
        {
          "name": "stdout",
          "output_type": "stream",
          "text": [
            "https://sports.news.naver.com/news.nhn?oid=018&aid=0005299911\n"
          ]
        },
        {
          "name": "stderr",
          "output_type": "stream",
          "text": [
            " 61%|██████▏   | 15176/24679 [57:37<43:08,  3.67it/s]"
          ]
        },
        {
          "name": "stdout",
          "output_type": "stream",
          "text": [
            "https://entertain.naver.com/read?oid=076&aid=0003906646\n"
          ]
        },
        {
          "name": "stderr",
          "output_type": "stream",
          "text": [
            " 62%|██████▏   | 15197/24679 [57:42<37:40,  4.20it/s]  "
          ]
        },
        {
          "name": "stdout",
          "output_type": "stream",
          "text": [
            "https://entertain.naver.com/read?oid=018&aid=0005296457\n"
          ]
        },
        {
          "name": "stderr",
          "output_type": "stream",
          "text": [
            " 62%|██████▏   | 15210/24679 [57:46<37:17,  4.23it/s]  "
          ]
        },
        {
          "name": "stdout",
          "output_type": "stream",
          "text": [
            "https://sports.news.naver.com/news.nhn?oid=311&aid=0001491587\n"
          ]
        },
        {
          "name": "stderr",
          "output_type": "stream",
          "text": [
            " 62%|██████▏   | 15213/24679 [57:46<31:41,  4.98it/s]"
          ]
        },
        {
          "name": "stdout",
          "output_type": "stream",
          "text": [
            "https://sports.news.naver.com/news.nhn?oid=009&aid=0005008643\n"
          ]
        },
        {
          "name": "stderr",
          "output_type": "stream",
          "text": [
            " 62%|██████▏   | 15215/24679 [57:46<25:22,  6.22it/s]"
          ]
        },
        {
          "name": "stdout",
          "output_type": "stream",
          "text": [
            "https://sports.news.naver.com/news.nhn?oid=009&aid=0005008643\n"
          ]
        },
        {
          "name": "stderr",
          "output_type": "stream",
          "text": [
            " 62%|██████▏   | 15257/24679 [57:56<36:32,  4.30it/s]"
          ]
        },
        {
          "name": "stdout",
          "output_type": "stream",
          "text": [
            "https://entertain.naver.com/read?oid=609&aid=0000617058\n"
          ]
        },
        {
          "name": "stderr",
          "output_type": "stream",
          "text": [
            " 62%|██████▏   | 15262/24679 [57:57<24:17,  6.46it/s]"
          ]
        },
        {
          "name": "stdout",
          "output_type": "stream",
          "text": [
            "https://sports.news.naver.com/news.nhn?oid=442&aid=0000153182\n"
          ]
        },
        {
          "name": "stderr",
          "output_type": "stream",
          "text": [
            " 62%|██████▏   | 15265/24679 [57:58<34:06,  4.60it/s]"
          ]
        },
        {
          "name": "stdout",
          "output_type": "stream",
          "text": [
            "https://sports.news.naver.com/news.nhn?oid=347&aid=0000165893\n"
          ]
        },
        {
          "name": "stderr",
          "output_type": "stream",
          "text": [
            " 62%|██████▏   | 15267/24679 [57:58<29:09,  5.38it/s]"
          ]
        },
        {
          "name": "stdout",
          "output_type": "stream",
          "text": [
            "https://entertain.naver.com/read?oid=018&aid=0005293949\n"
          ]
        },
        {
          "name": "stderr",
          "output_type": "stream",
          "text": [
            " 62%|██████▏   | 15279/24679 [58:01<32:19,  4.85it/s]"
          ]
        },
        {
          "name": "stdout",
          "output_type": "stream",
          "text": [
            "https://entertain.naver.com/read?oid=009&aid=0005005713\n"
          ]
        },
        {
          "name": "stderr",
          "output_type": "stream",
          "text": [
            " 62%|██████▏   | 15293/24679 [58:04<39:51,  3.93it/s]"
          ]
        },
        {
          "name": "stdout",
          "output_type": "stream",
          "text": [
            "https://sports.news.naver.com/news.nhn?oid=011&aid=0004090375\n"
          ]
        },
        {
          "name": "stderr",
          "output_type": "stream",
          "text": [
            " 62%|██████▏   | 15298/24679 [58:04<24:57,  6.26it/s]"
          ]
        },
        {
          "name": "stdout",
          "output_type": "stream",
          "text": [
            "https://sports.news.naver.com/news.nhn?oid=016&aid=0002031386\n"
          ]
        },
        {
          "name": "stderr",
          "output_type": "stream",
          "text": [
            " 62%|██████▏   | 15320/24679 [58:09<26:54,  5.80it/s]"
          ]
        },
        {
          "name": "stdout",
          "output_type": "stream",
          "text": [
            "https://sports.news.naver.com/news.nhn?oid=018&aid=0005299542\n"
          ]
        },
        {
          "name": "stderr",
          "output_type": "stream",
          "text": [
            " 62%|██████▏   | 15322/24679 [58:10<29:56,  5.21it/s]"
          ]
        },
        {
          "name": "stdout",
          "output_type": "stream",
          "text": [
            "https://sports.news.naver.com/news.nhn?oid=030&aid=0003039655\n"
          ]
        },
        {
          "name": "stderr",
          "output_type": "stream",
          "text": [
            " 62%|██████▏   | 15326/24679 [58:10<21:29,  7.25it/s]"
          ]
        },
        {
          "name": "stdout",
          "output_type": "stream",
          "text": [
            "https://entertain.naver.com/read?oid=311&aid=0001492033\n"
          ]
        },
        {
          "name": "stderr",
          "output_type": "stream",
          "text": [
            " 62%|██████▏   | 15334/24679 [58:12<36:29,  4.27it/s]"
          ]
        },
        {
          "name": "stdout",
          "output_type": "stream",
          "text": [
            "https://sports.news.naver.com/news.nhn?oid=439&aid=0000024524\n"
          ]
        },
        {
          "name": "stderr",
          "output_type": "stream",
          "text": [
            " 62%|██████▏   | 15342/24679 [58:13<23:16,  6.68it/s]"
          ]
        },
        {
          "name": "stdout",
          "output_type": "stream",
          "text": [
            "https://sports.news.naver.com/news.nhn?oid=442&aid=0000153065\n",
            "https://sports.news.naver.com/news.nhn?oid=442&aid=0000153065\n"
          ]
        },
        {
          "name": "stderr",
          "output_type": "stream",
          "text": [
            " 62%|██████▏   | 15368/24679 [58:19<32:54,  4.71it/s]"
          ]
        },
        {
          "name": "stdout",
          "output_type": "stream",
          "text": [
            "https://sports.news.naver.com/news.nhn?oid=057&aid=0001686023\n"
          ]
        },
        {
          "name": "stderr",
          "output_type": "stream",
          "text": [
            " 62%|██████▏   | 15387/24679 [58:24<26:35,  5.83it/s]"
          ]
        },
        {
          "name": "stdout",
          "output_type": "stream",
          "text": [
            "https://entertain.naver.com/read?oid=609&aid=0000616230\n"
          ]
        },
        {
          "name": "stderr",
          "output_type": "stream",
          "text": [
            " 62%|██████▏   | 15393/24679 [58:24<18:51,  8.21it/s]"
          ]
        },
        {
          "name": "stdout",
          "output_type": "stream",
          "text": [
            "https://sports.news.naver.com/news.nhn?oid=468&aid=0000876926\n",
            "https://sports.news.naver.com/news.nhn?oid=468&aid=0000876926\n"
          ]
        },
        {
          "name": "stderr",
          "output_type": "stream",
          "text": [
            " 62%|██████▏   | 15405/24679 [58:28<56:29,  2.74it/s]  "
          ]
        },
        {
          "name": "stdout",
          "output_type": "stream",
          "text": [
            "https://entertain.naver.com/read?oid=003&aid=0011366922\n"
          ]
        },
        {
          "name": "stderr",
          "output_type": "stream",
          "text": [
            " 62%|██████▏   | 15410/24679 [58:28<30:08,  5.13it/s]"
          ]
        },
        {
          "name": "stdout",
          "output_type": "stream",
          "text": [
            "https://sports.news.naver.com/news.nhn?oid=347&aid=0000165809\n"
          ]
        },
        {
          "name": "stderr",
          "output_type": "stream",
          "text": [
            " 62%|██████▏   | 15415/24679 [58:29<23:57,  6.45it/s]"
          ]
        },
        {
          "name": "stdout",
          "output_type": "stream",
          "text": [
            "https://sports.news.naver.com/news.nhn?oid=347&aid=0000165880\n"
          ]
        },
        {
          "name": "stderr",
          "output_type": "stream",
          "text": [
            " 62%|██████▏   | 15423/24679 [58:31<38:06,  4.05it/s]"
          ]
        },
        {
          "name": "stdout",
          "output_type": "stream",
          "text": [
            "https://entertain.naver.com/read?oid=437&aid=0000310230\n"
          ]
        },
        {
          "name": "stderr",
          "output_type": "stream",
          "text": [
            " 63%|██████▎   | 15425/24679 [58:31<29:34,  5.22it/s]"
          ]
        },
        {
          "name": "stdout",
          "output_type": "stream",
          "text": [
            "https://entertain.naver.com/read?oid=437&aid=0000310230\n"
          ]
        },
        {
          "name": "stderr",
          "output_type": "stream",
          "text": [
            " 63%|██████▎   | 15442/24679 [58:35<30:49,  5.00it/s]"
          ]
        },
        {
          "name": "stdout",
          "output_type": "stream",
          "text": [
            "https://entertain.naver.com/read?oid=001&aid=0013365147\n"
          ]
        },
        {
          "name": "stderr",
          "output_type": "stream",
          "text": [
            " 63%|██████▎   | 15474/24679 [58:42<25:19,  6.06it/s]"
          ]
        },
        {
          "name": "stdout",
          "output_type": "stream",
          "text": [
            "https://entertain.naver.com/read?oid=052&aid=0001777899\n"
          ]
        },
        {
          "name": "stderr",
          "output_type": "stream",
          "text": [
            " 63%|██████▎   | 15484/24679 [58:44<33:05,  4.63it/s]"
          ]
        },
        {
          "name": "stdout",
          "output_type": "stream",
          "text": [
            "https://entertain.naver.com/read?oid=018&aid=0005288185\n"
          ]
        },
        {
          "name": "stderr",
          "output_type": "stream",
          "text": [
            " 63%|██████▎   | 15493/24679 [58:46<23:31,  6.51it/s]"
          ]
        },
        {
          "name": "stdout",
          "output_type": "stream",
          "text": [
            "https://entertain.naver.com/read?oid=312&aid=0000564801\n"
          ]
        },
        {
          "name": "stderr",
          "output_type": "stream",
          "text": [
            " 63%|██████▎   | 15504/24679 [58:48<32:22,  4.72it/s]"
          ]
        },
        {
          "name": "stdout",
          "output_type": "stream",
          "text": [
            "https://entertain.naver.com/read?oid=421&aid=0006269265\n"
          ]
        },
        {
          "name": "stderr",
          "output_type": "stream",
          "text": [
            " 63%|██████▎   | 15510/24679 [58:50<38:40,  3.95it/s]"
          ]
        },
        {
          "name": "stdout",
          "output_type": "stream",
          "text": [
            "https://entertain.naver.com/read?oid=011&aid=0004089447\n"
          ]
        },
        {
          "name": "stderr",
          "output_type": "stream",
          "text": [
            " 63%|██████▎   | 15518/24679 [58:51<23:23,  6.53it/s]"
          ]
        },
        {
          "name": "stdout",
          "output_type": "stream",
          "text": [
            "https://entertain.naver.com/read?oid=076&aid=0003905631\n",
            "https://entertain.naver.com/read?oid=021&aid=0002525833\n"
          ]
        },
        {
          "name": "stderr",
          "output_type": "stream",
          "text": [
            " 63%|██████▎   | 15522/24679 [58:51<19:19,  7.90it/s]"
          ]
        },
        {
          "name": "stdout",
          "output_type": "stream",
          "text": [
            "https://entertain.naver.com/read?oid=468&aid=0000872589\n"
          ]
        },
        {
          "name": "stderr",
          "output_type": "stream",
          "text": [
            " 63%|██████▎   | 15540/24679 [58:56<26:31,  5.74it/s]"
          ]
        },
        {
          "name": "stdout",
          "output_type": "stream",
          "text": [
            "https://entertain.naver.com/read?oid=396&aid=0000622366\n"
          ]
        },
        {
          "name": "stderr",
          "output_type": "stream",
          "text": [
            " 63%|██████▎   | 15555/24679 [58:59<25:27,  5.97it/s]"
          ]
        },
        {
          "name": "stdout",
          "output_type": "stream",
          "text": [
            "https://entertain.naver.com/read?oid=108&aid=0003079415\n"
          ]
        },
        {
          "name": "stderr",
          "output_type": "stream",
          "text": [
            " 63%|██████▎   | 15564/24679 [59:01<34:19,  4.42it/s]"
          ]
        },
        {
          "name": "stdout",
          "output_type": "stream",
          "text": [
            "https://entertain.naver.com/read?oid=108&aid=0003077917\n"
          ]
        },
        {
          "name": "stderr",
          "output_type": "stream",
          "text": [
            " 63%|██████▎   | 15569/24679 [59:02<23:07,  6.57it/s]"
          ]
        },
        {
          "name": "stdout",
          "output_type": "stream",
          "text": [
            "https://entertain.naver.com/read?oid=109&aid=0004680037\n"
          ]
        },
        {
          "name": "stderr",
          "output_type": "stream",
          "text": [
            " 63%|██████▎   | 15571/24679 [59:02<27:05,  5.60it/s]"
          ]
        },
        {
          "name": "stdout",
          "output_type": "stream",
          "text": [
            "https://entertain.naver.com/read?oid=311&aid=0001490541\n"
          ]
        },
        {
          "name": "stderr",
          "output_type": "stream",
          "text": [
            " 63%|██████▎   | 15621/24679 [59:14<45:16,  3.33it/s]"
          ]
        },
        {
          "name": "stdout",
          "output_type": "stream",
          "text": [
            "https://entertain.naver.com/read?oid=396&aid=0000621758\n"
          ]
        },
        {
          "name": "stderr",
          "output_type": "stream",
          "text": [
            " 63%|██████▎   | 15633/24679 [59:17<27:39,  5.45it/s]"
          ]
        },
        {
          "name": "stdout",
          "output_type": "stream",
          "text": [
            "https://entertain.naver.com/read?oid=396&aid=0000621126\n"
          ]
        },
        {
          "name": "stderr",
          "output_type": "stream",
          "text": [
            " 63%|██████▎   | 15648/24679 [59:22<25:01,  6.02it/s]  "
          ]
        },
        {
          "name": "stdout",
          "output_type": "stream",
          "text": [
            "https://entertain.naver.com/read?oid=311&aid=0001490448\n"
          ]
        },
        {
          "name": "stderr",
          "output_type": "stream",
          "text": [
            " 64%|██████▎   | 15705/24679 [59:36<46:35,  3.21it/s]"
          ]
        },
        {
          "name": "stdout",
          "output_type": "stream",
          "text": [
            "https://sports.news.naver.com/news.nhn?oid=468&aid=0000872004\n"
          ]
        },
        {
          "name": "stderr",
          "output_type": "stream",
          "text": [
            " 64%|██████▎   | 15711/24679 [59:37<36:21,  4.11it/s]"
          ]
        },
        {
          "name": "stdout",
          "output_type": "stream",
          "text": [
            "https://entertain.naver.com/read?oid=477&aid=0000375616\n",
            "https://sports.news.naver.com/news.nhn?oid=445&aid=0000066726\n"
          ]
        },
        {
          "name": "stderr",
          "output_type": "stream",
          "text": [
            " 64%|██████▎   | 15716/24679 [59:38<29:17,  5.10it/s]"
          ]
        },
        {
          "name": "stdout",
          "output_type": "stream",
          "text": [
            "https://entertain.naver.com/read?oid=119&aid=0002628928\n"
          ]
        },
        {
          "name": "stderr",
          "output_type": "stream",
          "text": [
            " 64%|██████▎   | 15725/24679 [59:40<29:42,  5.02it/s]"
          ]
        },
        {
          "name": "stdout",
          "output_type": "stream",
          "text": [
            "https://entertain.naver.com/read?oid=109&aid=0004675478\n"
          ]
        },
        {
          "name": "stderr",
          "output_type": "stream",
          "text": [
            " 64%|██████▍   | 15733/24679 [59:41<18:06,  8.23it/s]"
          ]
        },
        {
          "name": "stdout",
          "output_type": "stream",
          "text": [
            "https://entertain.naver.com/read?oid=076&aid=0003903190\n",
            "https://entertain.naver.com/read?oid=312&aid=0000563466\n"
          ]
        },
        {
          "name": "stderr",
          "output_type": "stream",
          "text": [
            " 64%|██████▍   | 15743/24679 [59:43<28:04,  5.31it/s]"
          ]
        },
        {
          "name": "stdout",
          "output_type": "stream",
          "text": [
            "https://entertain.naver.com/read?oid=468&aid=0000872952\n"
          ]
        },
        {
          "name": "stderr",
          "output_type": "stream",
          "text": [
            " 64%|██████▍   | 15782/24679 [59:51<28:13,  5.25it/s]"
          ]
        },
        {
          "name": "stdout",
          "output_type": "stream",
          "text": [
            "https://entertain.naver.com/read?oid=415&aid=0000012120\n"
          ]
        },
        {
          "name": "stderr",
          "output_type": "stream",
          "text": [
            " 64%|██████▍   | 15806/24679 [59:56<21:46,  6.79it/s]"
          ]
        },
        {
          "name": "stdout",
          "output_type": "stream",
          "text": [
            "https://entertain.naver.com/read?oid=382&aid=0000996206\n"
          ]
        },
        {
          "name": "stderr",
          "output_type": "stream",
          "text": [
            " 64%|██████▍   | 15809/24679 [59:57<30:50,  4.79it/s]"
          ]
        },
        {
          "name": "stdout",
          "output_type": "stream",
          "text": [
            "https://entertain.naver.com/read?oid=108&aid=0003075862\n"
          ]
        },
        {
          "name": "stderr",
          "output_type": "stream",
          "text": [
            " 64%|██████▍   | 15822/24679 [59:59<20:41,  7.14it/s]"
          ]
        },
        {
          "name": "stdout",
          "output_type": "stream",
          "text": [
            "https://entertain.naver.com/read?oid=009&aid=0005002719\n"
          ]
        },
        {
          "name": "stderr",
          "output_type": "stream",
          "text": [
            " 64%|██████▍   | 15880/24679 [1:00:12<29:19,  5.00it/s]"
          ]
        },
        {
          "name": "stdout",
          "output_type": "stream",
          "text": [
            "https://entertain.naver.com/read?oid=609&aid=0000610457\n"
          ]
        },
        {
          "name": "stderr",
          "output_type": "stream",
          "text": [
            " 64%|██████▍   | 15908/24679 [1:00:19<44:00,  3.32it/s]"
          ]
        },
        {
          "name": "stdout",
          "output_type": "stream",
          "text": [
            "https://entertain.naver.com/read?oid=109&aid=0004669931\n"
          ]
        },
        {
          "name": "stderr",
          "output_type": "stream",
          "text": [
            " 64%|██████▍   | 15915/24679 [1:00:20<24:37,  5.93it/s]"
          ]
        },
        {
          "name": "stdout",
          "output_type": "stream",
          "text": [
            "https://entertain.naver.com/read?oid=396&aid=0000621277\n"
          ]
        },
        {
          "name": "stderr",
          "output_type": "stream",
          "text": [
            " 65%|██████▍   | 15928/24679 [1:00:23<23:16,  6.27it/s]"
          ]
        },
        {
          "name": "stdout",
          "output_type": "stream",
          "text": [
            "https://entertain.naver.com/read?oid=108&aid=0003078198\n"
          ]
        },
        {
          "name": "stderr",
          "output_type": "stream",
          "text": [
            " 65%|██████▍   | 15986/24679 [1:00:36<22:06,  6.55it/s]"
          ]
        },
        {
          "name": "stdout",
          "output_type": "stream",
          "text": [
            "https://entertain.naver.com/read?oid=609&aid=0000613663\n"
          ]
        },
        {
          "name": "stderr",
          "output_type": "stream",
          "text": [
            " 65%|██████▍   | 15987/24679 [1:00:36<25:17,  5.73it/s]"
          ]
        },
        {
          "name": "stdout",
          "output_type": "stream",
          "text": [
            "https://entertain.naver.com/read?oid=396&aid=0000620427\n"
          ]
        },
        {
          "name": "stderr",
          "output_type": "stream",
          "text": [
            " 65%|██████▍   | 16022/24679 [1:00:44<34:39,  4.16it/s]"
          ]
        },
        {
          "name": "stdout",
          "output_type": "stream",
          "text": [
            "https://sports.news.naver.com/news.nhn?oid=031&aid=0000691404\n"
          ]
        },
        {
          "name": "stderr",
          "output_type": "stream",
          "text": [
            " 65%|██████▌   | 16089/24679 [1:00:59<25:24,  5.64it/s]"
          ]
        },
        {
          "name": "stdout",
          "output_type": "stream",
          "text": [
            "https://sports.news.naver.com/news.nhn?oid=018&aid=0005289809\n"
          ]
        },
        {
          "name": "stderr",
          "output_type": "stream",
          "text": [
            " 65%|██████▌   | 16108/24679 [1:01:03<25:40,  5.57it/s]"
          ]
        },
        {
          "name": "stdout",
          "output_type": "stream",
          "text": [
            "https://sports.news.naver.com/news.nhn?oid=144&aid=0000828958\n"
          ]
        },
        {
          "name": "stderr",
          "output_type": "stream",
          "text": [
            " 65%|██████▌   | 16138/24679 [1:01:10<29:01,  4.91it/s]"
          ]
        },
        {
          "name": "stdout",
          "output_type": "stream",
          "text": [
            "https://entertain.naver.com/read?oid=437&aid=0000308817\n",
            "https://sports.news.naver.com/news.nhn?oid=442&aid=0000152690\n"
          ]
        },
        {
          "name": "stderr",
          "output_type": "stream",
          "text": [
            " 65%|██████▌   | 16156/24679 [1:01:13<22:56,  6.19it/s]"
          ]
        },
        {
          "name": "stdout",
          "output_type": "stream",
          "text": [
            "https://sports.news.naver.com/news.nhn?oid=468&aid=0000873830\n"
          ]
        },
        {
          "name": "stderr",
          "output_type": "stream",
          "text": [
            " 66%|██████▌   | 16207/24679 [1:01:24<21:07,  6.68it/s]"
          ]
        },
        {
          "name": "stdout",
          "output_type": "stream",
          "text": [
            "https://sports.news.naver.com/news.nhn?oid=442&aid=0000152530\n"
          ]
        },
        {
          "name": "stderr",
          "output_type": "stream",
          "text": [
            " 66%|██████▌   | 16292/24679 [1:01:43<29:01,  4.82it/s]"
          ]
        },
        {
          "name": "stdout",
          "output_type": "stream",
          "text": [
            "https://entertain.naver.com/read?oid=468&aid=0000871278\n"
          ]
        },
        {
          "name": "stderr",
          "output_type": "stream",
          "text": [
            " 66%|██████▋   | 16400/24679 [1:02:09<24:02,  5.74it/s]"
          ]
        },
        {
          "name": "stdout",
          "output_type": "stream",
          "text": [
            "https://entertain.naver.com/read?oid=438&aid=0000050398\n"
          ]
        },
        {
          "name": "stderr",
          "output_type": "stream",
          "text": [
            " 67%|██████▋   | 16434/24679 [1:02:18<27:36,  4.98it/s]"
          ]
        },
        {
          "name": "stdout",
          "output_type": "stream",
          "text": [
            "https://sports.news.naver.com/news.nhn?oid=442&aid=0000154347\n"
          ]
        },
        {
          "name": "stderr",
          "output_type": "stream",
          "text": [
            " 67%|██████▋   | 16487/24679 [1:02:32<25:19,  5.39it/s]  "
          ]
        },
        {
          "name": "stdout",
          "output_type": "stream",
          "text": [
            "https://sports.news.naver.com/news.nhn?oid=144&aid=0000839531\n"
          ]
        },
        {
          "name": "stderr",
          "output_type": "stream",
          "text": [
            " 67%|██████▋   | 16496/24679 [1:02:35<50:58,  2.68it/s]  "
          ]
        },
        {
          "name": "stdout",
          "output_type": "stream",
          "text": [
            "https://sports.news.naver.com/news.nhn?oid=347&aid=0000166739\n"
          ]
        },
        {
          "name": "stderr",
          "output_type": "stream",
          "text": [
            " 67%|██████▋   | 16504/24679 [1:02:36<21:50,  6.24it/s]"
          ]
        },
        {
          "name": "stdout",
          "output_type": "stream",
          "text": [
            "https://sports.news.naver.com/news.nhn?oid=236&aid=0000227839\n"
          ]
        },
        {
          "name": "stderr",
          "output_type": "stream",
          "text": [
            " 67%|██████▋   | 16546/24679 [1:02:45<31:21,  4.32it/s]"
          ]
        },
        {
          "name": "stdout",
          "output_type": "stream",
          "text": [
            "https://entertain.naver.com/read?oid=438&aid=0000050398\n"
          ]
        },
        {
          "name": "stderr",
          "output_type": "stream",
          "text": [
            " 68%|██████▊   | 16697/24679 [1:03:20<21:51,  6.09it/s]  "
          ]
        },
        {
          "name": "stdout",
          "output_type": "stream",
          "text": [
            "https://sports.news.naver.com/news.nhn?oid=347&aid=0000166686\n"
          ]
        },
        {
          "name": "stderr",
          "output_type": "stream",
          "text": [
            " 68%|██████▊   | 16722/24679 [1:03:25<22:58,  5.77it/s]"
          ]
        },
        {
          "name": "stdout",
          "output_type": "stream",
          "text": [
            "https://sports.news.naver.com/news.nhn?oid=439&aid=0000024682\n"
          ]
        },
        {
          "name": "stderr",
          "output_type": "stream",
          "text": [
            " 68%|██████▊   | 16755/24679 [1:03:34<30:02,  4.40it/s]"
          ]
        },
        {
          "name": "stdout",
          "output_type": "stream",
          "text": [
            "https://sports.news.naver.com/news.nhn?oid=030&aid=0003046892\n",
            "https://sports.news.naver.com/news.nhn?oid=030&aid=0003046892\n"
          ]
        },
        {
          "name": "stderr",
          "output_type": "stream",
          "text": [
            " 68%|██████▊   | 16791/24679 [1:03:43<28:24,  4.63it/s]"
          ]
        },
        {
          "name": "stdout",
          "output_type": "stream",
          "text": [
            "https://sports.news.naver.com/news.nhn?oid=442&aid=0000154263\n"
          ]
        },
        {
          "name": "stderr",
          "output_type": "stream",
          "text": [
            " 68%|██████▊   | 16799/24679 [1:03:45<19:59,  6.57it/s]"
          ]
        },
        {
          "name": "stdout",
          "output_type": "stream",
          "text": [
            "https://sports.news.naver.com/news.nhn?oid=119&aid=0002642418\n"
          ]
        },
        {
          "name": "stderr",
          "output_type": "stream",
          "text": [
            " 68%|██████▊   | 16846/24679 [1:03:56<31:28,  4.15it/s]"
          ]
        },
        {
          "name": "stdout",
          "output_type": "stream",
          "text": [
            "https://sports.news.naver.com/news.nhn?oid=018&aid=0005327354\n"
          ]
        },
        {
          "name": "stderr",
          "output_type": "stream",
          "text": [
            " 69%|██████▉   | 16986/24679 [1:04:26<26:52,  4.77it/s]"
          ]
        },
        {
          "name": "stdout",
          "output_type": "stream",
          "text": [
            "https://sports.news.naver.com/news.nhn?oid=468&aid=0000884162\n"
          ]
        },
        {
          "name": "stderr",
          "output_type": "stream",
          "text": [
            " 69%|██████▉   | 17002/24679 [1:04:31<21:34,  5.93it/s]  "
          ]
        },
        {
          "name": "stdout",
          "output_type": "stream",
          "text": [
            "https://sports.news.naver.com/news.nhn?oid=076&aid=0003918353\n"
          ]
        },
        {
          "name": "stderr",
          "output_type": "stream",
          "text": [
            " 69%|██████▉   | 17017/24679 [1:04:34<20:46,  6.15it/s]"
          ]
        },
        {
          "name": "stdout",
          "output_type": "stream",
          "text": [
            "https://sports.news.naver.com/news.nhn?oid=442&aid=0000154113\n"
          ]
        },
        {
          "name": "stderr",
          "output_type": "stream",
          "text": [
            " 69%|██████▉   | 17049/24679 [1:04:43<25:57,  4.90it/s]  "
          ]
        },
        {
          "name": "stdout",
          "output_type": "stream",
          "text": [
            "https://sports.news.naver.com/news.nhn?oid=088&aid=0000776045\n"
          ]
        },
        {
          "name": "stderr",
          "output_type": "stream",
          "text": [
            " 69%|██████▉   | 17058/24679 [1:04:45<27:37,  4.60it/s]"
          ]
        },
        {
          "name": "stdout",
          "output_type": "stream",
          "text": [
            "https://sports.news.naver.com/news.nhn?oid=109&aid=0004706122\n",
            "https://sports.news.naver.com/news.nhn?oid=109&aid=0004706122\n"
          ]
        },
        {
          "name": "stderr",
          "output_type": "stream",
          "text": [
            " 69%|██████▉   | 17063/24679 [1:04:45<16:19,  7.78it/s]"
          ]
        },
        {
          "name": "stdout",
          "output_type": "stream",
          "text": [
            "https://sports.news.naver.com/news.nhn?oid=109&aid=0004702901\n"
          ]
        },
        {
          "name": "stderr",
          "output_type": "stream",
          "text": [
            " 69%|██████▉   | 17110/24679 [1:04:57<19:17,  6.54it/s]  "
          ]
        },
        {
          "name": "stdout",
          "output_type": "stream",
          "text": [
            "https://sports.news.naver.com/news.nhn?oid=347&aid=0000166574\n"
          ]
        },
        {
          "name": "stderr",
          "output_type": "stream",
          "text": [
            " 69%|██████▉   | 17120/24679 [1:04:59<29:17,  4.30it/s]"
          ]
        },
        {
          "name": "stdout",
          "output_type": "stream",
          "text": [
            "https://entertain.naver.com/read?oid=311&aid=0001502417\n"
          ]
        },
        {
          "name": "stderr",
          "output_type": "stream",
          "text": [
            " 70%|██████▉   | 17156/24679 [1:05:07<21:05,  5.95it/s]"
          ]
        },
        {
          "name": "stdout",
          "output_type": "stream",
          "text": [
            "https://sports.news.naver.com/news.nhn?oid=347&aid=0000166571\n"
          ]
        },
        {
          "name": "stderr",
          "output_type": "stream",
          "text": [
            " 70%|██████▉   | 17158/24679 [1:05:08<22:42,  5.52it/s]"
          ]
        },
        {
          "name": "stdout",
          "output_type": "stream",
          "text": [
            "https://sports.news.naver.com/news.nhn?oid=396&aid=0000624506\n"
          ]
        },
        {
          "name": "stderr",
          "output_type": "stream",
          "text": [
            " 70%|██████▉   | 17195/24679 [1:05:16<19:09,  6.51it/s]"
          ]
        },
        {
          "name": "stdout",
          "output_type": "stream",
          "text": [
            "https://sports.news.naver.com/news.nhn?oid=018&aid=0005316218\n"
          ]
        },
        {
          "name": "stderr",
          "output_type": "stream",
          "text": [
            " 70%|███████   | 17320/24679 [1:05:46<25:08,  4.88it/s]"
          ]
        },
        {
          "name": "stdout",
          "output_type": "stream",
          "text": [
            "https://sports.news.naver.com/news.nhn?oid=311&aid=0001500481\n"
          ]
        },
        {
          "name": "stderr",
          "output_type": "stream",
          "text": [
            " 70%|███████   | 17365/24679 [1:05:56<26:06,  4.67it/s]"
          ]
        },
        {
          "name": "stdout",
          "output_type": "stream",
          "text": [
            "https://sports.news.naver.com/news.nhn?oid=382&aid=0001005064\n"
          ]
        },
        {
          "name": "stderr",
          "output_type": "stream",
          "text": [
            " 70%|███████   | 17373/24679 [1:05:57<18:45,  6.49it/s]"
          ]
        },
        {
          "name": "stdout",
          "output_type": "stream",
          "text": [
            "https://sports.news.naver.com/news.nhn?oid=236&aid=0000227591\n"
          ]
        },
        {
          "name": "stderr",
          "output_type": "stream",
          "text": [
            " 70%|███████   | 17386/24679 [1:06:01<39:12,  3.10it/s]"
          ]
        },
        {
          "name": "stdout",
          "output_type": "stream",
          "text": [
            "https://entertain.naver.com/read?oid=003&aid=0011406817\n"
          ]
        },
        {
          "name": "stderr",
          "output_type": "stream",
          "text": [
            " 71%|███████   | 17413/24679 [1:06:06<19:58,  6.06it/s]"
          ]
        },
        {
          "name": "stdout",
          "output_type": "stream",
          "text": [
            "https://sports.news.naver.com/news.nhn?oid=236&aid=0000227662\n"
          ]
        },
        {
          "name": "stderr",
          "output_type": "stream",
          "text": [
            " 71%|███████   | 17458/24679 [1:06:21<27:10,  4.43it/s]  "
          ]
        },
        {
          "name": "stdout",
          "output_type": "stream",
          "text": [
            "https://sports.news.naver.com/news.nhn?oid=356&aid=0000055940\n"
          ]
        },
        {
          "name": "stderr",
          "output_type": "stream",
          "text": [
            " 71%|███████   | 17470/24679 [1:06:24<25:59,  4.62it/s]"
          ]
        },
        {
          "name": "stdout",
          "output_type": "stream",
          "text": [
            "https://sports.news.naver.com/news.nhn?oid=241&aid=0003229603\n"
          ]
        },
        {
          "name": "stderr",
          "output_type": "stream",
          "text": [
            " 71%|███████   | 17513/24679 [1:06:33<23:38,  5.05it/s]"
          ]
        },
        {
          "name": "stdout",
          "output_type": "stream",
          "text": [
            "https://entertain.naver.com/read?oid=052&aid=0001788789\n"
          ]
        },
        {
          "name": "stderr",
          "output_type": "stream",
          "text": [
            " 71%|███████   | 17515/24679 [1:06:34<29:11,  4.09it/s]"
          ]
        },
        {
          "name": "stdout",
          "output_type": "stream",
          "text": [
            "https://entertain.naver.com/read?oid=052&aid=0001788789\n"
          ]
        },
        {
          "name": "stderr",
          "output_type": "stream",
          "text": [
            " 71%|███████   | 17570/24679 [1:06:46<19:45,  6.00it/s]"
          ]
        },
        {
          "name": "stdout",
          "output_type": "stream",
          "text": [
            "https://sports.news.naver.com/news.nhn?oid=311&aid=0001501202\n"
          ]
        },
        {
          "name": "stderr",
          "output_type": "stream",
          "text": [
            " 71%|███████   | 17579/24679 [1:06:47<18:22,  6.44it/s]"
          ]
        },
        {
          "name": "stdout",
          "output_type": "stream",
          "text": [
            "https://sports.news.naver.com/news.nhn?oid=442&aid=0000153823\n"
          ]
        },
        {
          "name": "stderr",
          "output_type": "stream",
          "text": [
            " 71%|███████▏  | 17589/24679 [1:06:50<27:56,  4.23it/s]"
          ]
        },
        {
          "name": "stdout",
          "output_type": "stream",
          "text": [
            "https://entertain.naver.com/read?oid=311&aid=0001501611\n"
          ]
        },
        {
          "name": "stderr",
          "output_type": "stream",
          "text": [
            " 71%|███████▏  | 17597/24679 [1:06:51<22:00,  5.36it/s]"
          ]
        },
        {
          "name": "stdout",
          "output_type": "stream",
          "text": [
            "https://sports.news.naver.com/news.nhn?oid=442&aid=0000153878\n",
            "https://sports.news.naver.com/news.nhn?oid=144&aid=0000836683\n"
          ]
        },
        {
          "name": "stderr",
          "output_type": "stream",
          "text": [
            " 71%|███████▏  | 17625/24679 [1:06:58<23:53,  4.92it/s]  "
          ]
        },
        {
          "name": "stdout",
          "output_type": "stream",
          "text": [
            "https://sports.news.naver.com/news.nhn?oid=425&aid=0000132700\n"
          ]
        },
        {
          "name": "stderr",
          "output_type": "stream",
          "text": [
            " 71%|███████▏  | 17635/24679 [1:07:00<18:44,  6.26it/s]"
          ]
        },
        {
          "name": "stdout",
          "output_type": "stream",
          "text": [
            "https://entertain.naver.com/read?oid=022&aid=0003735582\n"
          ]
        },
        {
          "name": "stderr",
          "output_type": "stream",
          "text": [
            " 72%|███████▏  | 17658/24679 [1:07:05<25:33,  4.58it/s]"
          ]
        },
        {
          "name": "stdout",
          "output_type": "stream",
          "text": [
            "https://entertain.naver.com/read?oid=076&aid=0003917153\n"
          ]
        },
        {
          "name": "stderr",
          "output_type": "stream",
          "text": [
            " 72%|███████▏  | 17665/24679 [1:07:07<24:57,  4.68it/s]"
          ]
        },
        {
          "name": "stdout",
          "output_type": "stream",
          "text": [
            "https://sports.news.naver.com/news.nhn?oid=311&aid=0001500057\n"
          ]
        },
        {
          "name": "stderr",
          "output_type": "stream",
          "text": [
            " 72%|███████▏  | 17676/24679 [1:07:09<21:48,  5.35it/s]"
          ]
        },
        {
          "name": "stdout",
          "output_type": "stream",
          "text": [
            "https://sports.news.naver.com/news.nhn?oid=356&aid=0000055905\n"
          ]
        },
        {
          "name": "stderr",
          "output_type": "stream",
          "text": [
            " 72%|███████▏  | 17682/24679 [1:07:10<23:30,  4.96it/s]"
          ]
        },
        {
          "name": "stdout",
          "output_type": "stream",
          "text": [
            "https://entertain.naver.com/read?oid=108&aid=0003085049\n"
          ]
        },
        {
          "name": "stderr",
          "output_type": "stream",
          "text": [
            " 72%|███████▏  | 17705/24679 [1:07:15<26:45,  4.34it/s]"
          ]
        },
        {
          "name": "stdout",
          "output_type": "stream",
          "text": [
            "https://entertain.naver.com/read?oid=437&aid=0000313130\n"
          ]
        },
        {
          "name": "stderr",
          "output_type": "stream",
          "text": [
            " 72%|███████▏  | 17714/24679 [1:07:16<14:43,  7.88it/s]"
          ]
        },
        {
          "name": "stdout",
          "output_type": "stream",
          "text": [
            "https://entertain.naver.com/read?oid=001&aid=0013421551\n",
            "https://entertain.naver.com/read?oid=001&aid=0013421552\n"
          ]
        },
        {
          "name": "stderr",
          "output_type": "stream",
          "text": [
            " 72%|███████▏  | 17747/24679 [1:07:23<20:14,  5.71it/s]"
          ]
        },
        {
          "name": "stdout",
          "output_type": "stream",
          "text": [
            "https://sports.news.naver.com/news.nhn?oid=468&aid=0000882715\n"
          ]
        },
        {
          "name": "stderr",
          "output_type": "stream",
          "text": [
            " 72%|███████▏  | 17766/24679 [1:07:27<18:48,  6.12it/s]"
          ]
        },
        {
          "name": "stdout",
          "output_type": "stream",
          "text": [
            "https://sports.news.naver.com/news.nhn?oid=347&aid=0000166401\n"
          ]
        },
        {
          "name": "stderr",
          "output_type": "stream",
          "text": [
            " 72%|███████▏  | 17785/24679 [1:07:31<19:02,  6.03it/s]"
          ]
        },
        {
          "name": "stdout",
          "output_type": "stream",
          "text": [
            "https://entertain.naver.com/read?oid=396&aid=0000623924\n"
          ]
        },
        {
          "name": "stderr",
          "output_type": "stream",
          "text": [
            " 72%|███████▏  | 17793/24679 [1:07:34<34:32,  3.32it/s]"
          ]
        },
        {
          "name": "stdout",
          "output_type": "stream",
          "text": [
            "https://entertain.naver.com/read?oid=437&aid=0000312529\n"
          ]
        },
        {
          "name": "stderr",
          "output_type": "stream",
          "text": [
            " 72%|███████▏  | 17803/24679 [1:07:36<37:21,  3.07it/s]"
          ]
        },
        {
          "name": "stdout",
          "output_type": "stream",
          "text": [
            "https://entertain.naver.com/read?oid=109&aid=0004693637\n"
          ]
        },
        {
          "name": "stderr",
          "output_type": "stream",
          "text": [
            " 72%|███████▏  | 17816/24679 [1:07:39<25:08,  4.55it/s]"
          ]
        },
        {
          "name": "stdout",
          "output_type": "stream",
          "text": [
            "https://sports.news.naver.com/news.nhn?oid=382&aid=0001002613\n"
          ]
        },
        {
          "name": "stderr",
          "output_type": "stream",
          "text": [
            " 72%|███████▏  | 17840/24679 [1:07:43<17:52,  6.37it/s]"
          ]
        },
        {
          "name": "stdout",
          "output_type": "stream",
          "text": [
            "https://sports.news.naver.com/news.nhn?oid=347&aid=0000166295\n"
          ]
        },
        {
          "name": "stderr",
          "output_type": "stream",
          "text": [
            " 72%|███████▏  | 17847/24679 [1:07:45<16:57,  6.72it/s]"
          ]
        },
        {
          "name": "stdout",
          "output_type": "stream",
          "text": [
            "https://sports.news.naver.com/news.nhn?oid=311&aid=0001500086\n"
          ]
        },
        {
          "name": "stderr",
          "output_type": "stream",
          "text": [
            " 72%|███████▏  | 17871/24679 [1:07:50<29:54,  3.79it/s]"
          ]
        },
        {
          "name": "stdout",
          "output_type": "stream",
          "text": [
            "https://sports.news.naver.com/news.nhn?oid=311&aid=0001498394\n",
            "https://sports.news.naver.com/news.nhn?oid=311&aid=0001498394\n"
          ]
        },
        {
          "name": "stderr",
          "output_type": "stream",
          "text": [
            " 72%|███████▏  | 17877/24679 [1:07:51<17:36,  6.44it/s]"
          ]
        },
        {
          "name": "stdout",
          "output_type": "stream",
          "text": [
            "https://entertain.naver.com/read?oid=609&aid=0000625408\n"
          ]
        },
        {
          "name": "stderr",
          "output_type": "stream",
          "text": [
            " 72%|███████▏  | 17879/24679 [1:07:52<24:40,  4.59it/s]"
          ]
        },
        {
          "name": "stdout",
          "output_type": "stream",
          "text": [
            "https://entertain.naver.com/read?oid=312&aid=0000570039\n"
          ]
        },
        {
          "name": "stderr",
          "output_type": "stream",
          "text": [
            " 72%|███████▏  | 17882/24679 [1:07:52<22:08,  5.12it/s]"
          ]
        },
        {
          "name": "stdout",
          "output_type": "stream",
          "text": [
            "https://sports.news.naver.com/news.nhn?oid=311&aid=0001498433\n"
          ]
        },
        {
          "name": "stderr",
          "output_type": "stream",
          "text": [
            " 73%|███████▎  | 17923/24679 [1:08:02<17:07,  6.58it/s]"
          ]
        },
        {
          "name": "stdout",
          "output_type": "stream",
          "text": [
            "https://sports.news.naver.com/news.nhn?oid=236&aid=0000227354\n"
          ]
        },
        {
          "name": "stderr",
          "output_type": "stream",
          "text": [
            " 73%|███████▎  | 17948/24679 [1:08:07<23:58,  4.68it/s]"
          ]
        },
        {
          "name": "stdout",
          "output_type": "stream",
          "text": [
            "https://sports.news.naver.com/news.nhn?oid=031&aid=0000695296\n"
          ]
        },
        {
          "name": "stderr",
          "output_type": "stream",
          "text": [
            " 73%|███████▎  | 17956/24679 [1:08:09<18:45,  5.97it/s]"
          ]
        },
        {
          "name": "stdout",
          "output_type": "stream",
          "text": [
            "https://entertain.naver.com/read?oid=076&aid=0003913657\n"
          ]
        },
        {
          "name": "stderr",
          "output_type": "stream",
          "text": [
            " 73%|███████▎  | 17962/24679 [1:08:10<22:03,  5.08it/s]"
          ]
        },
        {
          "name": "stdout",
          "output_type": "stream",
          "text": [
            "https://sports.news.naver.com/news.nhn?oid=356&aid=0000055727\n"
          ]
        },
        {
          "name": "stderr",
          "output_type": "stream",
          "text": [
            " 73%|███████▎  | 17964/24679 [1:08:10<18:18,  6.11it/s]"
          ]
        },
        {
          "name": "stdout",
          "output_type": "stream",
          "text": [
            "https://entertain.naver.com/read?oid=009&aid=0005014445\n"
          ]
        },
        {
          "name": "stderr",
          "output_type": "stream",
          "text": [
            " 73%|███████▎  | 17975/24679 [1:08:12<18:12,  6.14it/s]"
          ]
        },
        {
          "name": "stdout",
          "output_type": "stream",
          "text": [
            "https://sports.news.naver.com/news.nhn?oid=018&aid=0005311094\n"
          ]
        },
        {
          "name": "stderr",
          "output_type": "stream",
          "text": [
            " 73%|███████▎  | 17982/24679 [1:08:13<17:40,  6.31it/s]"
          ]
        },
        {
          "name": "stdout",
          "output_type": "stream",
          "text": [
            "https://entertain.naver.com/read?oid=382&aid=0001003179\n"
          ]
        },
        {
          "name": "stderr",
          "output_type": "stream",
          "text": [
            " 73%|███████▎  | 17986/24679 [1:08:14<25:02,  4.45it/s]"
          ]
        },
        {
          "name": "stdout",
          "output_type": "stream",
          "text": [
            "https://sports.news.naver.com/news.nhn?oid=236&aid=0000227515\n"
          ]
        },
        {
          "name": "stderr",
          "output_type": "stream",
          "text": [
            " 73%|███████▎  | 17994/24679 [1:08:16<26:24,  4.22it/s]"
          ]
        },
        {
          "name": "stdout",
          "output_type": "stream",
          "text": [
            "https://sports.news.naver.com/news.nhn?oid=356&aid=0000055700\n"
          ]
        },
        {
          "name": "stderr",
          "output_type": "stream",
          "text": [
            " 73%|███████▎  | 18000/24679 [1:08:18<34:38,  3.21it/s]"
          ]
        },
        {
          "name": "stdout",
          "output_type": "stream",
          "text": [
            "https://entertain.naver.com/read?oid=396&aid=0000623709\n"
          ]
        },
        {
          "name": "stderr",
          "output_type": "stream",
          "text": [
            " 73%|███████▎  | 18013/24679 [1:08:20<23:23,  4.75it/s]"
          ]
        },
        {
          "name": "stdout",
          "output_type": "stream",
          "text": [
            "https://sports.news.naver.com/news.nhn?oid=236&aid=0000227330\n"
          ]
        },
        {
          "name": "stderr",
          "output_type": "stream",
          "text": [
            " 73%|███████▎  | 18023/24679 [1:08:22<17:57,  6.18it/s]"
          ]
        },
        {
          "name": "stdout",
          "output_type": "stream",
          "text": [
            "https://sports.news.naver.com/news.nhn?oid=018&aid=0005307367\n"
          ]
        },
        {
          "name": "stderr",
          "output_type": "stream",
          "text": [
            " 73%|███████▎  | 18036/24679 [1:08:25<19:14,  5.75it/s]"
          ]
        },
        {
          "name": "stdout",
          "output_type": "stream",
          "text": [
            "https://entertain.naver.com/read?oid=629&aid=0000181828\n"
          ]
        },
        {
          "name": "stderr",
          "output_type": "stream",
          "text": [
            " 73%|███████▎  | 18072/24679 [1:08:33<18:15,  6.03it/s]"
          ]
        },
        {
          "name": "stdout",
          "output_type": "stream",
          "text": [
            "https://entertain.naver.com/read?oid=047&aid=0002371192\n"
          ]
        },
        {
          "name": "stderr",
          "output_type": "stream",
          "text": [
            " 73%|███████▎  | 18094/24679 [1:08:37<16:43,  6.56it/s]"
          ]
        },
        {
          "name": "stdout",
          "output_type": "stream",
          "text": [
            "https://entertain.naver.com/read?oid=009&aid=0005038986\n"
          ]
        },
        {
          "name": "stderr",
          "output_type": "stream",
          "text": [
            " 73%|███████▎  | 18099/24679 [1:08:39<23:35,  4.65it/s]"
          ]
        },
        {
          "name": "stdout",
          "output_type": "stream",
          "text": [
            "https://entertain.naver.com/read?oid=076&aid=0003933786\n"
          ]
        },
        {
          "name": "stderr",
          "output_type": "stream",
          "text": [
            " 73%|███████▎  | 18133/24679 [1:08:46<24:56,  4.37it/s]"
          ]
        },
        {
          "name": "stdout",
          "output_type": "stream",
          "text": [
            "https://entertain.naver.com/read?oid=108&aid=0003101183\n"
          ]
        },
        {
          "name": "stderr",
          "output_type": "stream",
          "text": [
            " 74%|███████▎  | 18145/24679 [1:08:48<20:26,  5.33it/s]"
          ]
        },
        {
          "name": "stdout",
          "output_type": "stream",
          "text": [
            "https://entertain.naver.com/read?oid=311&aid=0001519464\n"
          ]
        },
        {
          "name": "stderr",
          "output_type": "stream",
          "text": [
            " 74%|███████▍  | 18201/24679 [1:09:00<22:12,  4.86it/s]"
          ]
        },
        {
          "name": "stdout",
          "output_type": "stream",
          "text": [
            "https://entertain.naver.com/read?oid=047&aid=0002371192\n"
          ]
        },
        {
          "name": "stderr",
          "output_type": "stream",
          "text": [
            " 74%|███████▍  | 18203/24679 [1:09:01<17:13,  6.27it/s]"
          ]
        },
        {
          "name": "stdout",
          "output_type": "stream",
          "text": [
            "https://entertain.naver.com/read?oid=047&aid=0002371192\n"
          ]
        },
        {
          "name": "stderr",
          "output_type": "stream",
          "text": [
            " 75%|███████▍  | 18409/24679 [1:09:54<33:05,  3.16it/s]  "
          ]
        },
        {
          "name": "stdout",
          "output_type": "stream",
          "text": [
            "https://sports.news.naver.com/news.nhn?oid=003&aid=0011498357\n"
          ]
        },
        {
          "name": "stderr",
          "output_type": "stream",
          "text": [
            " 76%|███████▌  | 18636/24679 [1:10:58<29:26,  3.42it/s]  "
          ]
        },
        {
          "name": "stdout",
          "output_type": "stream",
          "text": [
            "https://sports.news.naver.com/news.nhn?oid=311&aid=0001517761\n"
          ]
        },
        {
          "name": "stderr",
          "output_type": "stream",
          "text": [
            " 76%|███████▌  | 18761/24679 [1:11:32<26:53,  3.67it/s]"
          ]
        },
        {
          "name": "stdout",
          "output_type": "stream",
          "text": [
            "https://sports.news.naver.com/news.nhn?oid=241&aid=0003237189\n"
          ]
        },
        {
          "name": "stderr",
          "output_type": "stream",
          "text": [
            " 76%|███████▋  | 18871/24679 [1:12:08<22:19,  4.34it/s]  "
          ]
        },
        {
          "name": "stdout",
          "output_type": "stream",
          "text": [
            "https://sports.news.naver.com/news.nhn?oid=442&aid=0000155356\n"
          ]
        },
        {
          "name": "stderr",
          "output_type": "stream",
          "text": [
            " 77%|███████▋  | 18926/24679 [1:12:23<25:11,  3.81it/s]"
          ]
        },
        {
          "name": "stdout",
          "output_type": "stream",
          "text": [
            "https://sports.news.naver.com/news.nhn?oid=311&aid=0001517330\n"
          ]
        },
        {
          "name": "stderr",
          "output_type": "stream",
          "text": [
            " 77%|███████▋  | 19076/24679 [1:13:05<26:32,  3.52it/s]"
          ]
        },
        {
          "name": "stdout",
          "output_type": "stream",
          "text": [
            "https://sports.news.naver.com/news.nhn?oid=347&aid=0000167562\n"
          ]
        },
        {
          "name": "stderr",
          "output_type": "stream",
          "text": [
            " 77%|███████▋  | 19101/24679 [1:13:11<16:37,  5.59it/s]"
          ]
        },
        {
          "name": "stdout",
          "output_type": "stream",
          "text": [
            "https://sports.news.naver.com/news.nhn?oid=356&aid=0000056707\n"
          ]
        },
        {
          "name": "stderr",
          "output_type": "stream",
          "text": [
            " 77%|███████▋  | 19105/24679 [1:13:12<19:38,  4.73it/s]"
          ]
        },
        {
          "name": "stdout",
          "output_type": "stream",
          "text": [
            "https://sports.news.naver.com/news.nhn?oid=241&aid=0003236918\n"
          ]
        },
        {
          "name": "stderr",
          "output_type": "stream",
          "text": [
            " 78%|███████▊  | 19206/24679 [1:13:40<23:46,  3.84it/s]"
          ]
        },
        {
          "name": "stdout",
          "output_type": "stream",
          "text": [
            "https://sports.news.naver.com/news.nhn?oid=442&aid=0000155336\n",
            "https://sports.news.naver.com/news.nhn?oid=144&aid=0000845390\n"
          ]
        },
        {
          "name": "stderr",
          "output_type": "stream",
          "text": [
            " 79%|███████▉  | 19519/24679 [1:15:19<21:52,  3.93it/s]  "
          ]
        },
        {
          "name": "stdout",
          "output_type": "stream",
          "text": [
            "https://sports.news.naver.com/news.nhn?oid=236&aid=0000228470\n"
          ]
        },
        {
          "name": "stderr",
          "output_type": "stream",
          "text": [
            " 79%|███████▉  | 19538/24679 [1:15:24<29:52,  2.87it/s]"
          ]
        },
        {
          "name": "stdout",
          "output_type": "stream",
          "text": [
            "https://sports.news.naver.com/news.nhn?oid=347&aid=0000167554\n"
          ]
        },
        {
          "name": "stderr",
          "output_type": "stream",
          "text": [
            " 79%|███████▉  | 19594/24679 [1:15:43<26:26,  3.21it/s]  "
          ]
        },
        {
          "name": "stdout",
          "output_type": "stream",
          "text": [
            "https://sports.news.naver.com/news.nhn?oid=442&aid=0000155300\n"
          ]
        },
        {
          "name": "stderr",
          "output_type": "stream",
          "text": [
            " 81%|████████  | 19906/24679 [1:17:18<21:58,  3.62it/s]  "
          ]
        },
        {
          "name": "stdout",
          "output_type": "stream",
          "text": [
            "https://sports.news.naver.com/news.nhn?oid=347&aid=0000167527\n"
          ]
        },
        {
          "name": "stderr",
          "output_type": "stream",
          "text": [
            " 81%|████████  | 19941/24679 [1:17:28<20:07,  3.93it/s]"
          ]
        },
        {
          "name": "stdout",
          "output_type": "stream",
          "text": [
            "https://sports.news.naver.com/news.nhn?oid=236&aid=0000228512\n"
          ]
        },
        {
          "name": "stderr",
          "output_type": "stream",
          "text": [
            " 81%|████████  | 20005/24679 [1:17:46<25:41,  3.03it/s]"
          ]
        },
        {
          "name": "stdout",
          "output_type": "stream",
          "text": [
            "https://sports.news.naver.com/news.nhn?oid=356&aid=0000056652\n"
          ]
        },
        {
          "name": "stderr",
          "output_type": "stream",
          "text": [
            " 82%|████████▏ | 20166/24679 [1:18:43<45:42,  1.65it/s]  "
          ]
        },
        {
          "name": "stdout",
          "output_type": "stream",
          "text": [
            "https://entertain.naver.com/read?oid=117&aid=0003660771\n"
          ]
        },
        {
          "name": "stderr",
          "output_type": "stream",
          "text": [
            " 82%|████████▏ | 20168/24679 [1:18:45<48:13,  1.56it/s]"
          ]
        },
        {
          "name": "stdout",
          "output_type": "stream",
          "text": [
            "https://entertain.naver.com/read?oid=117&aid=0003660771\n"
          ]
        },
        {
          "name": "stderr",
          "output_type": "stream",
          "text": [
            " 82%|████████▏ | 20173/24679 [1:18:46<28:37,  2.62it/s]"
          ]
        },
        {
          "name": "stdout",
          "output_type": "stream",
          "text": [
            "https://entertain.naver.com/read?oid=076&aid=0003930574\n"
          ]
        },
        {
          "name": "stderr",
          "output_type": "stream",
          "text": [
            " 82%|████████▏ | 20237/24679 [1:19:11<27:30,  2.69it/s]  "
          ]
        },
        {
          "name": "stdout",
          "output_type": "stream",
          "text": [
            "https://sports.news.naver.com/news.nhn?oid=442&aid=0000155260\n"
          ]
        },
        {
          "name": "stderr",
          "output_type": "stream",
          "text": [
            " 82%|████████▏ | 20251/24679 [1:19:14<19:48,  3.72it/s]"
          ]
        },
        {
          "name": "stdout",
          "output_type": "stream",
          "text": [
            "https://sports.news.naver.com/news.nhn?oid=347&aid=0000167512\n"
          ]
        },
        {
          "name": "stderr",
          "output_type": "stream",
          "text": [
            " 83%|████████▎ | 20375/24679 [1:19:53<26:52,  2.67it/s]  "
          ]
        },
        {
          "name": "stdout",
          "output_type": "stream",
          "text": [
            "https://sports.news.naver.com/news.nhn?oid=442&aid=0000155267\n"
          ]
        },
        {
          "name": "stderr",
          "output_type": "stream",
          "text": [
            " 83%|████████▎ | 20377/24679 [1:19:54<32:09,  2.23it/s]"
          ]
        },
        {
          "name": "stdout",
          "output_type": "stream",
          "text": [
            "https://sports.news.naver.com/news.nhn?oid=442&aid=0000155267\n"
          ]
        },
        {
          "name": "stderr",
          "output_type": "stream",
          "text": [
            " 83%|████████▎ | 20416/24679 [1:20:07<21:38,  3.28it/s]"
          ]
        },
        {
          "name": "stdout",
          "output_type": "stream",
          "text": [
            "https://entertain.naver.com/read?oid=311&aid=0001516614\n"
          ]
        },
        {
          "name": "stderr",
          "output_type": "stream",
          "text": [
            " 85%|████████▍ | 20857/24679 [1:22:30<16:41,  3.81it/s]  "
          ]
        },
        {
          "name": "stdout",
          "output_type": "stream",
          "text": [
            "https://entertain.naver.com/read?oid=609&aid=0000646631\n"
          ]
        },
        {
          "name": "stderr",
          "output_type": "stream",
          "text": [
            " 85%|████████▌ | 20998/24679 [1:23:09<16:37,  3.69it/s]"
          ]
        },
        {
          "name": "stdout",
          "output_type": "stream",
          "text": [
            "https://n.news.naver.com/mnews/article/052/0001817167?sid=101\n"
          ]
        },
        {
          "name": "stderr",
          "output_type": "stream",
          "text": [
            " 85%|████████▌ | 21045/24679 [1:23:20<15:23,  3.93it/s]"
          ]
        },
        {
          "name": "stdout",
          "output_type": "stream",
          "text": [
            "https://sports.news.naver.com/news.nhn?oid=347&aid=0000168378\n"
          ]
        },
        {
          "name": "stderr",
          "output_type": "stream",
          "text": [
            " 85%|████████▌ | 21080/24679 [1:23:27<12:50,  4.67it/s]"
          ]
        },
        {
          "name": "stdout",
          "output_type": "stream",
          "text": [
            "https://sports.news.naver.com/news.nhn?oid=347&aid=0000168390\n"
          ]
        },
        {
          "name": "stderr",
          "output_type": "stream",
          "text": [
            " 85%|████████▌ | 21087/24679 [1:23:28<09:11,  6.52it/s]"
          ]
        },
        {
          "name": "stdout",
          "output_type": "stream",
          "text": [
            "https://sports.news.naver.com/news.nhn?oid=382&aid=0001018935\n"
          ]
        },
        {
          "name": "stderr",
          "output_type": "stream",
          "text": [
            " 86%|████████▌ | 21132/24679 [1:23:39<12:37,  4.68it/s]"
          ]
        },
        {
          "name": "stdout",
          "output_type": "stream",
          "text": [
            "https://sports.news.naver.com/news.nhn?oid=311&aid=0001529949\n"
          ]
        },
        {
          "name": "stderr",
          "output_type": "stream",
          "text": [
            " 86%|████████▌ | 21136/24679 [1:23:39<13:45,  4.29it/s]"
          ]
        },
        {
          "name": "stdout",
          "output_type": "stream",
          "text": [
            "https://n.news.naver.com/mnews/article/052/0001817167?sid=101\n"
          ]
        },
        {
          "name": "stderr",
          "output_type": "stream",
          "text": [
            " 86%|████████▌ | 21137/24679 [1:23:40<15:46,  3.74it/s]"
          ]
        },
        {
          "name": "stdout",
          "output_type": "stream",
          "text": [
            "https://n.news.naver.com/mnews/article/052/0001817167?sid=101\n"
          ]
        },
        {
          "name": "stderr",
          "output_type": "stream",
          "text": [
            " 86%|████████▌ | 21143/24679 [1:23:41<14:11,  4.15it/s]"
          ]
        },
        {
          "name": "stdout",
          "output_type": "stream",
          "text": [
            "https://sports.news.naver.com/news.nhn?oid=236&aid=0000229453\n"
          ]
        },
        {
          "name": "stderr",
          "output_type": "stream",
          "text": [
            " 86%|████████▌ | 21148/24679 [1:23:42<09:09,  6.43it/s]"
          ]
        },
        {
          "name": "stdout",
          "output_type": "stream",
          "text": [
            "https://sports.news.naver.com/news.nhn?oid=236&aid=0000229453\n"
          ]
        },
        {
          "name": "stderr",
          "output_type": "stream",
          "text": [
            " 86%|████████▌ | 21155/24679 [1:23:43<12:17,  4.78it/s]"
          ]
        },
        {
          "name": "stdout",
          "output_type": "stream",
          "text": [
            "https://entertain.naver.com/read?oid=009&aid=0005051662\n"
          ]
        },
        {
          "name": "stderr",
          "output_type": "stream",
          "text": [
            " 86%|████████▌ | 21157/24679 [1:23:44<09:59,  5.87it/s]"
          ]
        },
        {
          "name": "stdout",
          "output_type": "stream",
          "text": [
            "https://sports.news.naver.com/news.nhn?oid=356&aid=0000057394\n"
          ]
        },
        {
          "name": "stderr",
          "output_type": "stream",
          "text": [
            " 86%|████████▌ | 21172/24679 [1:23:47<13:33,  4.31it/s]"
          ]
        },
        {
          "name": "stdout",
          "output_type": "stream",
          "text": [
            "https://sports.news.naver.com/news.nhn?oid=236&aid=0000229389\n",
            "https://sports.news.naver.com/news.nhn?oid=236&aid=0000229389\n"
          ]
        },
        {
          "name": "stderr",
          "output_type": "stream",
          "text": [
            " 86%|████████▌ | 21175/24679 [1:23:47<08:14,  7.08it/s]"
          ]
        },
        {
          "name": "stdout",
          "output_type": "stream",
          "text": [
            "https://sports.news.naver.com/news.nhn?oid=347&aid=0000168333\n"
          ]
        },
        {
          "name": "stderr",
          "output_type": "stream",
          "text": [
            " 86%|████████▌ | 21183/24679 [1:23:49<12:13,  4.76it/s]"
          ]
        },
        {
          "name": "stdout",
          "output_type": "stream",
          "text": [
            "https://sports.news.naver.com/news.nhn?oid=144&aid=0000852068\n"
          ]
        },
        {
          "name": "stderr",
          "output_type": "stream",
          "text": [
            " 86%|████████▌ | 21192/24679 [1:23:51<12:55,  4.50it/s]"
          ]
        },
        {
          "name": "stdout",
          "output_type": "stream",
          "text": [
            "https://sports.news.naver.com/news.nhn?oid=347&aid=0000168340\n"
          ]
        },
        {
          "name": "stderr",
          "output_type": "stream",
          "text": [
            " 86%|████████▌ | 21206/24679 [1:23:55<18:13,  3.18it/s]"
          ]
        },
        {
          "name": "stdout",
          "output_type": "stream",
          "text": [
            "https://n.news.naver.com/mnews/article/009/0005049504?sid=101\n"
          ]
        },
        {
          "name": "stderr",
          "output_type": "stream",
          "text": [
            " 86%|████████▌ | 21227/24679 [1:24:01<10:21,  5.55it/s]"
          ]
        },
        {
          "name": "stdout",
          "output_type": "stream",
          "text": [
            "https://sports.news.naver.com/news.nhn?oid=311&aid=0001530015\n"
          ]
        },
        {
          "name": "stderr",
          "output_type": "stream",
          "text": [
            " 86%|████████▌ | 21252/24679 [1:24:06<06:29,  8.80it/s]"
          ]
        },
        {
          "name": "stdout",
          "output_type": "stream",
          "text": [
            "https://sports.news.naver.com/news.nhn?oid=442&aid=0000156512\n",
            "https://entertain.naver.com/read?oid=109&aid=0004749254\n",
            "https://entertain.naver.com/read?oid=109&aid=0004749254\n",
            "https://entertain.naver.com/read?oid=144&aid=0000851789\n"
          ]
        },
        {
          "name": "stderr",
          "output_type": "stream",
          "text": [
            " 86%|████████▋ | 21288/24679 [1:24:14<07:51,  7.19it/s]"
          ]
        },
        {
          "name": "stdout",
          "output_type": "stream",
          "text": [
            "https://entertain.naver.com/read?oid=015&aid=0004780452\n",
            "https://entertain.naver.com/read?oid=015&aid=0004780452\n"
          ]
        },
        {
          "name": "stderr",
          "output_type": "stream",
          "text": [
            " 86%|████████▋ | 21292/24679 [1:24:15<10:19,  5.47it/s]"
          ]
        },
        {
          "name": "stdout",
          "output_type": "stream",
          "text": [
            "https://sports.news.naver.com/news.nhn?oid=347&aid=0000168314\n"
          ]
        },
        {
          "name": "stderr",
          "output_type": "stream",
          "text": [
            " 86%|████████▋ | 21313/24679 [1:24:20<12:44,  4.41it/s]"
          ]
        },
        {
          "name": "stdout",
          "output_type": "stream",
          "text": [
            "https://entertain.naver.com/read?oid=076&aid=0003944486\n",
            "https://entertain.naver.com/read?oid=076&aid=0003944486\n"
          ]
        },
        {
          "name": "stderr",
          "output_type": "stream",
          "text": [
            " 86%|████████▋ | 21321/24679 [1:24:21<11:55,  4.69it/s]"
          ]
        },
        {
          "name": "stdout",
          "output_type": "stream",
          "text": [
            "https://sports.news.naver.com/news.nhn?oid=347&aid=0000168324\n"
          ]
        },
        {
          "name": "stderr",
          "output_type": "stream",
          "text": [
            " 86%|████████▋ | 21341/24679 [1:24:26<14:28,  3.84it/s]"
          ]
        },
        {
          "name": "stdout",
          "output_type": "stream",
          "text": [
            "https://sports.news.naver.com/news.nhn?oid=347&aid=0000168366\n"
          ]
        },
        {
          "name": "stderr",
          "output_type": "stream",
          "text": [
            " 87%|████████▋ | 21358/24679 [1:24:30<15:41,  3.53it/s]"
          ]
        },
        {
          "name": "stdout",
          "output_type": "stream",
          "text": [
            "https://sports.news.naver.com/news.nhn?oid=311&aid=0001529562\n"
          ]
        },
        {
          "name": "stderr",
          "output_type": "stream",
          "text": [
            " 87%|████████▋ | 21392/24679 [1:24:37<09:50,  5.57it/s]"
          ]
        },
        {
          "name": "stdout",
          "output_type": "stream",
          "text": [
            "https://entertain.naver.com/read?oid=396&aid=0000630308\n"
          ]
        },
        {
          "name": "stderr",
          "output_type": "stream",
          "text": [
            " 87%|████████▋ | 21409/24679 [1:24:41<15:08,  3.60it/s]"
          ]
        },
        {
          "name": "stdout",
          "output_type": "stream",
          "text": [
            "https://entertain.naver.com/read?oid=609&aid=0000658799\n"
          ]
        },
        {
          "name": "stderr",
          "output_type": "stream",
          "text": [
            " 87%|████████▋ | 21457/24679 [1:24:53<10:15,  5.24it/s]"
          ]
        },
        {
          "name": "stdout",
          "output_type": "stream",
          "text": [
            "https://entertain.naver.com/read?oid=018&aid=0005374185\n"
          ]
        },
        {
          "name": "stderr",
          "output_type": "stream",
          "text": [
            " 87%|████████▋ | 21489/24679 [1:25:00<14:54,  3.57it/s]"
          ]
        },
        {
          "name": "stdout",
          "output_type": "stream",
          "text": [
            "https://sports.news.naver.com/news.nhn?oid=001&aid=0013585210\n"
          ]
        },
        {
          "name": "stderr",
          "output_type": "stream",
          "text": [
            " 87%|████████▋ | 21501/24679 [1:25:03<15:37,  3.39it/s]"
          ]
        },
        {
          "name": "stdout",
          "output_type": "stream",
          "text": [
            "https://n.news.naver.com/mnews/article/008/0004821203?sid=101\n"
          ]
        },
        {
          "name": "stderr",
          "output_type": "stream",
          "text": [
            " 87%|████████▋ | 21512/24679 [1:25:05<12:50,  4.11it/s]"
          ]
        },
        {
          "name": "stdout",
          "output_type": "stream",
          "text": [
            "https://sports.news.naver.com/news.nhn?oid=442&aid=0000156359\n"
          ]
        },
        {
          "name": "stderr",
          "output_type": "stream",
          "text": [
            " 87%|████████▋ | 21521/24679 [1:25:07<09:14,  5.70it/s]"
          ]
        },
        {
          "name": "stdout",
          "output_type": "stream",
          "text": [
            "https://entertain.naver.com/read?oid=003&aid=0011543263\n"
          ]
        },
        {
          "name": "stderr",
          "output_type": "stream",
          "text": [
            " 87%|████████▋ | 21533/24679 [1:25:10<12:48,  4.09it/s]"
          ]
        },
        {
          "name": "stdout",
          "output_type": "stream",
          "text": [
            "https://entertain.naver.com/read?oid=241&aid=0003242774\n"
          ]
        },
        {
          "name": "stderr",
          "output_type": "stream",
          "text": [
            " 87%|████████▋ | 21561/24679 [1:25:15<08:39,  6.00it/s]"
          ]
        },
        {
          "name": "stdout",
          "output_type": "stream",
          "text": [
            "https://entertain.naver.com/read?oid=421&aid=0006465395\n"
          ]
        },
        {
          "name": "stderr",
          "output_type": "stream",
          "text": [
            " 87%|████████▋ | 21562/24679 [1:25:16<09:02,  5.74it/s]"
          ]
        },
        {
          "name": "stdout",
          "output_type": "stream",
          "text": [
            "https://entertain.naver.com/read?oid=382&aid=0001016821\n",
            "https://entertain.naver.com/read?oid=144&aid=0000849963\n"
          ]
        },
        {
          "name": "stderr",
          "output_type": "stream",
          "text": [
            " 87%|████████▋ | 21584/24679 [1:25:21<11:32,  4.47it/s]"
          ]
        },
        {
          "name": "stdout",
          "output_type": "stream",
          "text": [
            "https://entertain.naver.com/read?oid=052&aid=0001817203\n"
          ]
        },
        {
          "name": "stderr",
          "output_type": "stream",
          "text": [
            " 87%|████████▋ | 21588/24679 [1:25:22<10:30,  4.90it/s]"
          ]
        },
        {
          "name": "stdout",
          "output_type": "stream",
          "text": [
            "https://sports.news.naver.com/news.nhn?oid=117&aid=0003671020\n"
          ]
        },
        {
          "name": "stderr",
          "output_type": "stream",
          "text": [
            " 87%|████████▋ | 21592/24679 [1:25:22<07:28,  6.88it/s]"
          ]
        },
        {
          "name": "stdout",
          "output_type": "stream",
          "text": [
            "https://sports.news.naver.com/news.nhn?oid=442&aid=0000156345\n"
          ]
        },
        {
          "name": "stderr",
          "output_type": "stream",
          "text": [
            " 88%|████████▊ | 21602/24679 [1:25:25<11:30,  4.46it/s]"
          ]
        },
        {
          "name": "stdout",
          "output_type": "stream",
          "text": [
            "https://entertain.naver.com/read?oid=018&aid=0005369186\n"
          ]
        },
        {
          "name": "stderr",
          "output_type": "stream",
          "text": [
            " 88%|████████▊ | 21629/24679 [1:25:31<11:42,  4.34it/s]"
          ]
        },
        {
          "name": "stdout",
          "output_type": "stream",
          "text": [
            "https://sports.news.naver.com/news.nhn?oid=236&aid=0000229300\n"
          ]
        },
        {
          "name": "stderr",
          "output_type": "stream",
          "text": [
            " 88%|████████▊ | 21635/24679 [1:25:32<10:20,  4.90it/s]"
          ]
        },
        {
          "name": "stdout",
          "output_type": "stream",
          "text": [
            "https://sports.news.naver.com/news.nhn?oid=410&aid=0000908628\n"
          ]
        },
        {
          "name": "stderr",
          "output_type": "stream",
          "text": [
            " 88%|████████▊ | 21643/24679 [1:25:34<12:23,  4.08it/s]"
          ]
        },
        {
          "name": "stdout",
          "output_type": "stream",
          "text": [
            "https://entertain.naver.com/read?oid=052&aid=0001817574\n"
          ]
        },
        {
          "name": "stderr",
          "output_type": "stream",
          "text": [
            " 88%|████████▊ | 21649/24679 [1:25:35<11:28,  4.40it/s]"
          ]
        },
        {
          "name": "stdout",
          "output_type": "stream",
          "text": [
            "https://entertain.naver.com/read?oid=396&aid=0000630179\n"
          ]
        },
        {
          "name": "stderr",
          "output_type": "stream",
          "text": [
            " 88%|████████▊ | 21654/24679 [1:25:36<07:58,  6.32it/s]"
          ]
        },
        {
          "name": "stdout",
          "output_type": "stream",
          "text": [
            "https://entertain.naver.com/read?oid=468&aid=0000901041\n"
          ]
        },
        {
          "name": "stderr",
          "output_type": "stream",
          "text": [
            " 88%|████████▊ | 21664/24679 [1:25:38<08:31,  5.89it/s]"
          ]
        },
        {
          "name": "stdout",
          "output_type": "stream",
          "text": [
            "https://entertain.naver.com/read?oid=018&aid=0005369637\n"
          ]
        },
        {
          "name": "stderr",
          "output_type": "stream",
          "text": [
            " 88%|████████▊ | 21670/24679 [1:25:39<10:42,  4.68it/s]"
          ]
        },
        {
          "name": "stdout",
          "output_type": "stream",
          "text": [
            "https://entertain.naver.com/read?oid=477&aid=0000394923\n"
          ]
        },
        {
          "name": "stderr",
          "output_type": "stream",
          "text": [
            " 88%|████████▊ | 21683/24679 [1:25:42<12:40,  3.94it/s]"
          ]
        },
        {
          "name": "stdout",
          "output_type": "stream",
          "text": [
            "https://entertain.naver.com/read?oid=052&aid=0001814832\n"
          ]
        },
        {
          "name": "stderr",
          "output_type": "stream",
          "text": [
            " 88%|████████▊ | 21694/24679 [1:25:45<12:12,  4.07it/s]"
          ]
        },
        {
          "name": "stdout",
          "output_type": "stream",
          "text": [
            "https://entertain.naver.com/read?oid=416&aid=0000289591\n"
          ]
        },
        {
          "name": "stderr",
          "output_type": "stream",
          "text": [
            " 88%|████████▊ | 21705/24679 [1:25:47<10:59,  4.51it/s]"
          ]
        },
        {
          "name": "stdout",
          "output_type": "stream",
          "text": [
            "https://sports.news.naver.com/news.nhn?oid=347&aid=0000168197\n",
            "https://entertain.naver.com/read?oid=001&aid=0013581733\n",
            "https://sports.news.naver.com/news.nhn?oid=347&aid=0000168197\n"
          ]
        },
        {
          "name": "stderr",
          "output_type": "stream",
          "text": [
            " 88%|████████▊ | 21711/24679 [1:25:47<05:21,  9.24it/s]"
          ]
        },
        {
          "name": "stdout",
          "output_type": "stream",
          "text": [
            "https://entertain.naver.com/read?oid=001&aid=0013581733\n"
          ]
        },
        {
          "name": "stderr",
          "output_type": "stream",
          "text": [
            " 88%|████████▊ | 21730/24679 [1:25:52<08:45,  5.61it/s]"
          ]
        },
        {
          "name": "stdout",
          "output_type": "stream",
          "text": [
            "https://entertain.naver.com/read?oid=052&aid=0001815519\n"
          ]
        },
        {
          "name": "stderr",
          "output_type": "stream",
          "text": [
            " 88%|████████▊ | 21734/24679 [1:25:52<08:09,  6.02it/s]"
          ]
        },
        {
          "name": "stdout",
          "output_type": "stream",
          "text": [
            "https://entertain.naver.com/read?oid=076&aid=0003940511\n"
          ]
        },
        {
          "name": "stderr",
          "output_type": "stream",
          "text": [
            " 88%|████████▊ | 21741/24679 [1:25:54<11:18,  4.33it/s]"
          ]
        },
        {
          "name": "stdout",
          "output_type": "stream",
          "text": [
            "https://sports.news.naver.com/news.nhn?oid=347&aid=0000168162\n"
          ]
        },
        {
          "name": "stderr",
          "output_type": "stream",
          "text": [
            " 88%|████████▊ | 21754/24679 [1:25:57<06:47,  7.19it/s]"
          ]
        },
        {
          "name": "stdout",
          "output_type": "stream",
          "text": [
            "https://sports.news.naver.com/news.nhn?oid=442&aid=0000156259\n",
            "https://sports.news.naver.com/news.nhn?oid=442&aid=0000156259\n"
          ]
        },
        {
          "name": "stderr",
          "output_type": "stream",
          "text": [
            " 88%|████████▊ | 21808/24679 [1:26:10<10:34,  4.52it/s]"
          ]
        },
        {
          "name": "stdout",
          "output_type": "stream",
          "text": [
            "https://sports.news.naver.com/news.nhn?oid=109&aid=0004746139\n"
          ]
        },
        {
          "name": "stderr",
          "output_type": "stream",
          "text": [
            " 88%|████████▊ | 21836/24679 [1:26:16<09:52,  4.80it/s]"
          ]
        },
        {
          "name": "stdout",
          "output_type": "stream",
          "text": [
            "https://sports.news.naver.com/news.nhn?oid=396&aid=0000630062\n"
          ]
        },
        {
          "name": "stderr",
          "output_type": "stream",
          "text": [
            " 89%|████████▊ | 21849/24679 [1:26:19<11:19,  4.17it/s]"
          ]
        },
        {
          "name": "stdout",
          "output_type": "stream",
          "text": [
            "https://entertain.naver.com/read?oid=076&aid=0003942119\n",
            "https://entertain.naver.com/read?oid=076&aid=0003942119\n"
          ]
        },
        {
          "name": "stderr",
          "output_type": "stream",
          "text": [
            " 89%|████████▉ | 21927/24679 [1:26:36<09:41,  4.73it/s]"
          ]
        },
        {
          "name": "stdout",
          "output_type": "stream",
          "text": [
            "https://sports.news.naver.com/news.nhn?oid=445&aid=0000086764\n"
          ]
        },
        {
          "name": "stderr",
          "output_type": "stream",
          "text": [
            " 89%|████████▉ | 21985/24679 [1:26:50<10:36,  4.23it/s]"
          ]
        },
        {
          "name": "stdout",
          "output_type": "stream",
          "text": [
            "https://entertain.naver.com/read?oid=477&aid=0000396551\n"
          ]
        },
        {
          "name": "stderr",
          "output_type": "stream",
          "text": [
            " 89%|████████▉ | 22037/24679 [1:27:01<11:15,  3.91it/s]"
          ]
        },
        {
          "name": "stdout",
          "output_type": "stream",
          "text": [
            "https://sports.news.naver.com/news.nhn?oid=311&aid=0001526112\n"
          ]
        },
        {
          "name": "stderr",
          "output_type": "stream",
          "text": [
            " 89%|████████▉ | 22054/24679 [1:27:05<09:20,  4.69it/s]"
          ]
        },
        {
          "name": "stdout",
          "output_type": "stream",
          "text": [
            "https://entertain.naver.com/read?oid=311&aid=0001527765\n"
          ]
        },
        {
          "name": "stderr",
          "output_type": "stream",
          "text": [
            " 89%|████████▉ | 22060/24679 [1:27:06<08:36,  5.07it/s]"
          ]
        },
        {
          "name": "stdout",
          "output_type": "stream",
          "text": [
            "https://entertain.naver.com/read?oid=213&aid=0001235497\n"
          ]
        },
        {
          "name": "stderr",
          "output_type": "stream",
          "text": [
            " 90%|████████▉ | 22125/24679 [1:27:21<09:15,  4.60it/s]"
          ]
        },
        {
          "name": "stdout",
          "output_type": "stream",
          "text": [
            "https://entertain.naver.com/read?oid=311&aid=0001525434\n"
          ]
        },
        {
          "name": "stderr",
          "output_type": "stream",
          "text": [
            " 90%|████████▉ | 22158/24679 [1:27:29<11:16,  3.73it/s]"
          ]
        },
        {
          "name": "stdout",
          "output_type": "stream",
          "text": [
            "https://entertain.naver.com/read?oid=215&aid=0001066336\n"
          ]
        },
        {
          "name": "stderr",
          "output_type": "stream",
          "text": [
            " 90%|████████▉ | 22209/24679 [1:27:41<10:53,  3.78it/s]"
          ]
        },
        {
          "name": "stdout",
          "output_type": "stream",
          "text": [
            "https://entertain.naver.com/read?oid=001&aid=0013557676\n"
          ]
        },
        {
          "name": "stderr",
          "output_type": "stream",
          "text": [
            " 90%|█████████ | 22215/24679 [1:27:43<09:35,  4.28it/s]"
          ]
        },
        {
          "name": "stdout",
          "output_type": "stream",
          "text": [
            "https://sports.news.naver.com/news.nhn?oid=144&aid=0000849902\n"
          ]
        },
        {
          "name": "stderr",
          "output_type": "stream",
          "text": [
            " 90%|█████████ | 22255/24679 [1:27:53<09:02,  4.47it/s]"
          ]
        },
        {
          "name": "stdout",
          "output_type": "stream",
          "text": [
            "https://sports.news.naver.com/news.nhn?oid=439&aid=0000024952\n"
          ]
        },
        {
          "name": "stderr",
          "output_type": "stream",
          "text": [
            " 90%|█████████ | 22263/24679 [1:27:55<11:28,  3.51it/s]"
          ]
        },
        {
          "name": "stdout",
          "output_type": "stream",
          "text": [
            "https://sports.news.naver.com/news.nhn?oid=442&aid=0000155986\n"
          ]
        },
        {
          "name": "stderr",
          "output_type": "stream",
          "text": [
            " 90%|█████████ | 22267/24679 [1:27:55<08:39,  4.64it/s]"
          ]
        },
        {
          "name": "stdout",
          "output_type": "stream",
          "text": [
            "https://sports.news.naver.com/news.nhn?oid=236&aid=0000229223\n"
          ]
        },
        {
          "name": "stderr",
          "output_type": "stream",
          "text": [
            " 90%|█████████ | 22282/24679 [1:27:59<10:12,  3.91it/s]"
          ]
        },
        {
          "name": "stdout",
          "output_type": "stream",
          "text": [
            "https://sports.news.naver.com/news.nhn?oid=442&aid=0000155967\n",
            "https://sports.news.naver.com/news.nhn?oid=356&aid=0000057167\n"
          ]
        },
        {
          "name": "stderr",
          "output_type": "stream",
          "text": [
            " 90%|█████████ | 22300/24679 [1:28:02<09:17,  4.27it/s]"
          ]
        },
        {
          "name": "stdout",
          "output_type": "stream",
          "text": [
            "https://sports.news.naver.com/news.nhn?oid=241&aid=0003240235\n"
          ]
        },
        {
          "name": "stderr",
          "output_type": "stream",
          "text": [
            " 90%|█████████ | 22328/24679 [1:28:09<06:30,  6.02it/s]"
          ]
        },
        {
          "name": "stdout",
          "output_type": "stream",
          "text": [
            "https://sports.news.naver.com/news.nhn?oid=356&aid=0000057113\n"
          ]
        },
        {
          "name": "stderr",
          "output_type": "stream",
          "text": [
            " 91%|█████████ | 22369/24679 [1:28:19<09:34,  4.02it/s]"
          ]
        },
        {
          "name": "stdout",
          "output_type": "stream",
          "text": [
            "https://sports.news.naver.com/news.nhn?oid=347&aid=0000168033\n"
          ]
        },
        {
          "name": "stderr",
          "output_type": "stream",
          "text": [
            " 91%|█████████ | 22394/24679 [1:28:25<06:48,  5.59it/s]"
          ]
        },
        {
          "name": "stdout",
          "output_type": "stream",
          "text": [
            "https://sports.news.naver.com/news.nhn?oid=356&aid=0000057099\n"
          ]
        },
        {
          "name": "stderr",
          "output_type": "stream",
          "text": [
            " 91%|█████████ | 22404/24679 [1:28:27<08:31,  4.45it/s]"
          ]
        },
        {
          "name": "stdout",
          "output_type": "stream",
          "text": [
            "https://sports.news.naver.com/news.nhn?oid=241&aid=0003239687\n"
          ]
        },
        {
          "name": "stderr",
          "output_type": "stream",
          "text": [
            " 91%|█████████ | 22440/24679 [1:28:35<08:30,  4.39it/s]"
          ]
        },
        {
          "name": "stdout",
          "output_type": "stream",
          "text": [
            "https://sports.news.naver.com/news.nhn?oid=347&aid=0000168012\n"
          ]
        },
        {
          "name": "stderr",
          "output_type": "stream",
          "text": [
            " 91%|█████████ | 22471/24679 [1:28:42<05:53,  6.24it/s]"
          ]
        },
        {
          "name": "stdout",
          "output_type": "stream",
          "text": [
            "https://entertain.naver.com/read?oid=021&aid=0002541573\n"
          ]
        },
        {
          "name": "stderr",
          "output_type": "stream",
          "text": [
            " 91%|█████████ | 22485/24679 [1:28:45<08:39,  4.22it/s]"
          ]
        },
        {
          "name": "stdout",
          "output_type": "stream",
          "text": [
            "https://sports.news.naver.com/news.nhn?oid=241&aid=0003240763\n"
          ]
        },
        {
          "name": "stderr",
          "output_type": "stream",
          "text": [
            " 91%|█████████ | 22518/24679 [1:28:53<09:57,  3.61it/s]"
          ]
        },
        {
          "name": "stdout",
          "output_type": "stream",
          "text": [
            "https://sports.news.naver.com/news.nhn?oid=347&aid=0000167930\n"
          ]
        },
        {
          "name": "stderr",
          "output_type": "stream",
          "text": [
            " 91%|█████████▏| 22552/24679 [1:29:00<08:26,  4.20it/s]"
          ]
        },
        {
          "name": "stdout",
          "output_type": "stream",
          "text": [
            "https://sports.news.naver.com/news.nhn?oid=347&aid=0000167959\n"
          ]
        },
        {
          "name": "stderr",
          "output_type": "stream",
          "text": [
            " 91%|█████████▏| 22565/24679 [1:29:03<05:57,  5.91it/s]"
          ]
        },
        {
          "name": "stdout",
          "output_type": "stream",
          "text": [
            "https://sports.news.naver.com/news.nhn?oid=382&aid=0001016676\n",
            "https://sports.news.naver.com/news.nhn?oid=382&aid=0001016676\n"
          ]
        },
        {
          "name": "stderr",
          "output_type": "stream",
          "text": [
            " 91%|█████████▏| 22573/24679 [1:29:04<07:41,  4.56it/s]"
          ]
        },
        {
          "name": "stdout",
          "output_type": "stream",
          "text": [
            "https://entertain.naver.com/read?oid=312&aid=0000580498\n"
          ]
        },
        {
          "name": "stderr",
          "output_type": "stream",
          "text": [
            " 92%|█████████▏| 22596/24679 [1:29:10<07:41,  4.51it/s]"
          ]
        },
        {
          "name": "stdout",
          "output_type": "stream",
          "text": [
            "https://sports.news.naver.com/news.nhn?oid=356&aid=0000057006\n"
          ]
        },
        {
          "name": "stderr",
          "output_type": "stream",
          "text": [
            " 92%|█████████▏| 22625/24679 [1:29:16<07:58,  4.29it/s]"
          ]
        },
        {
          "name": "stdout",
          "output_type": "stream",
          "text": [
            "https://entertain.naver.com/read?oid=629&aid=0000181828\n"
          ]
        },
        {
          "name": "stderr",
          "output_type": "stream",
          "text": [
            " 92%|█████████▏| 22683/24679 [1:29:30<08:11,  4.06it/s]"
          ]
        },
        {
          "name": "stdout",
          "output_type": "stream",
          "text": [
            "https://sports.news.naver.com/news.nhn?oid=439&aid=0000024881\n"
          ]
        },
        {
          "name": "stderr",
          "output_type": "stream",
          "text": [
            " 92%|█████████▏| 22693/24679 [1:29:33<08:53,  3.72it/s]"
          ]
        },
        {
          "name": "stdout",
          "output_type": "stream",
          "text": [
            "https://sports.news.naver.com/news.nhn?oid=442&aid=0000156186\n"
          ]
        },
        {
          "name": "stderr",
          "output_type": "stream",
          "text": [
            " 92%|█████████▏| 22717/24679 [1:29:38<07:26,  4.39it/s]"
          ]
        },
        {
          "name": "stdout",
          "output_type": "stream",
          "text": [
            "https://entertain.naver.com/read?oid=609&aid=0000648849\n"
          ]
        },
        {
          "name": "stderr",
          "output_type": "stream",
          "text": [
            " 92%|█████████▏| 22722/24679 [1:29:39<06:21,  5.14it/s]"
          ]
        },
        {
          "name": "stdout",
          "output_type": "stream",
          "text": [
            "https://entertain.naver.com/read?oid=438&aid=0000051314\n"
          ]
        },
        {
          "name": "stderr",
          "output_type": "stream",
          "text": [
            " 92%|█████████▏| 22747/24679 [1:29:45<05:23,  5.97it/s]"
          ]
        },
        {
          "name": "stdout",
          "output_type": "stream",
          "text": [
            "https://entertain.naver.com/read?oid=109&aid=0004731397\n"
          ]
        },
        {
          "name": "stderr",
          "output_type": "stream",
          "text": [
            " 92%|█████████▏| 22778/24679 [1:29:52<06:50,  4.63it/s]"
          ]
        },
        {
          "name": "stdout",
          "output_type": "stream",
          "text": [
            "https://entertain.naver.com/read?oid=144&aid=0000847675\n"
          ]
        },
        {
          "name": "stderr",
          "output_type": "stream",
          "text": [
            " 92%|█████████▏| 22783/24679 [1:29:53<06:58,  4.53it/s]"
          ]
        },
        {
          "name": "stdout",
          "output_type": "stream",
          "text": [
            "https://sports.news.naver.com/news.nhn?oid=356&aid=0000056930\n"
          ]
        },
        {
          "name": "stderr",
          "output_type": "stream",
          "text": [
            " 92%|█████████▏| 22798/24679 [1:29:56<08:06,  3.86it/s]"
          ]
        },
        {
          "name": "stdout",
          "output_type": "stream",
          "text": [
            "https://sports.news.naver.com/news.nhn?oid=236&aid=0000229168\n"
          ]
        },
        {
          "name": "stderr",
          "output_type": "stream",
          "text": [
            " 93%|█████████▎| 23052/24679 [1:31:05<06:18,  4.30it/s]"
          ]
        },
        {
          "name": "stdout",
          "output_type": "stream",
          "text": [
            "https://entertain.naver.com/read?oid=382&aid=0001023198\n"
          ]
        },
        {
          "name": "stderr",
          "output_type": "stream",
          "text": [
            " 93%|█████████▎| 23055/24679 [1:31:06<04:58,  5.45it/s]"
          ]
        },
        {
          "name": "stdout",
          "output_type": "stream",
          "text": [
            "https://entertain.naver.com/read?oid=382&aid=0001023198\n"
          ]
        },
        {
          "name": "stderr",
          "output_type": "stream",
          "text": [
            " 93%|█████████▎| 23062/24679 [1:31:07<04:08,  6.51it/s]"
          ]
        },
        {
          "name": "stdout",
          "output_type": "stream",
          "text": [
            "https://entertain.naver.com/read?oid=609&aid=0000668440\n"
          ]
        },
        {
          "name": "stderr",
          "output_type": "stream",
          "text": [
            " 93%|█████████▎| 23066/24679 [1:31:08<04:10,  6.44it/s]"
          ]
        },
        {
          "name": "stdout",
          "output_type": "stream",
          "text": [
            "https://entertain.naver.com/read?oid=609&aid=0000668440\n"
          ]
        },
        {
          "name": "stderr",
          "output_type": "stream",
          "text": [
            " 93%|█████████▎| 23070/24679 [1:31:08<04:08,  6.48it/s]"
          ]
        },
        {
          "name": "stdout",
          "output_type": "stream",
          "text": [
            "https://entertain.naver.com/read?oid=609&aid=0000668440\n"
          ]
        },
        {
          "name": "stderr",
          "output_type": "stream",
          "text": [
            " 93%|█████████▎| 23074/24679 [1:31:09<05:42,  4.69it/s]"
          ]
        },
        {
          "name": "stdout",
          "output_type": "stream",
          "text": [
            "https://entertain.naver.com/read?oid=213&aid=0001238628\n"
          ]
        },
        {
          "name": "stderr",
          "output_type": "stream",
          "text": [
            " 94%|█████████▎| 23078/24679 [1:31:10<05:09,  5.18it/s]"
          ]
        },
        {
          "name": "stdout",
          "output_type": "stream",
          "text": [
            "https://entertain.naver.com/read?oid=003&aid=0011600675\n"
          ]
        },
        {
          "name": "stderr",
          "output_type": "stream",
          "text": [
            " 94%|█████████▎| 23082/24679 [1:31:11<04:52,  5.47it/s]"
          ]
        },
        {
          "name": "stdout",
          "output_type": "stream",
          "text": [
            "https://entertain.naver.com/read?oid=003&aid=0011600675\n"
          ]
        },
        {
          "name": "stderr",
          "output_type": "stream",
          "text": [
            " 94%|█████████▍| 23139/24679 [1:31:24<06:17,  4.08it/s]"
          ]
        },
        {
          "name": "stdout",
          "output_type": "stream",
          "text": [
            "https://entertain.naver.com/read?oid=109&aid=0004758418\n"
          ]
        },
        {
          "name": "stderr",
          "output_type": "stream",
          "text": [
            " 94%|█████████▍| 23144/24679 [1:31:25<05:36,  4.56it/s]"
          ]
        },
        {
          "name": "stdout",
          "output_type": "stream",
          "text": [
            "https://entertain.naver.com/read?oid=109&aid=0004758418\n"
          ]
        },
        {
          "name": "stderr",
          "output_type": "stream",
          "text": [
            " 94%|█████████▍| 23149/24679 [1:31:26<04:56,  5.17it/s]"
          ]
        },
        {
          "name": "stdout",
          "output_type": "stream",
          "text": [
            "https://entertain.naver.com/read?oid=109&aid=0004758418\n"
          ]
        },
        {
          "name": "stderr",
          "output_type": "stream",
          "text": [
            " 94%|█████████▍| 23157/24679 [1:31:28<05:20,  4.75it/s]"
          ]
        },
        {
          "name": "stdout",
          "output_type": "stream",
          "text": [
            "https://entertain.naver.com/read?oid=109&aid=0004758418\n"
          ]
        },
        {
          "name": "stderr",
          "output_type": "stream",
          "text": [
            " 94%|█████████▍| 23186/24679 [1:31:34<05:26,  4.57it/s]"
          ]
        },
        {
          "name": "stdout",
          "output_type": "stream",
          "text": [
            "https://entertain.naver.com/read?oid=477&aid=0000400357\n"
          ]
        },
        {
          "name": "stderr",
          "output_type": "stream",
          "text": [
            " 94%|█████████▍| 23202/24679 [1:31:39<07:11,  3.42it/s]"
          ]
        },
        {
          "name": "stdout",
          "output_type": "stream",
          "text": [
            "https://entertain.naver.com/read?oid=108&aid=0003113403\n"
          ]
        },
        {
          "name": "stderr",
          "output_type": "stream",
          "text": [
            " 95%|█████████▍| 23361/24679 [1:32:26<08:21,  2.63it/s]"
          ]
        },
        {
          "name": "stdout",
          "output_type": "stream",
          "text": [
            "https://n.news.naver.com/mnews/article/243/0000036387?sid=101\n"
          ]
        },
        {
          "name": "stderr",
          "output_type": "stream",
          "text": [
            " 95%|█████████▌| 23550/24679 [1:33:11<04:03,  4.64it/s]"
          ]
        },
        {
          "name": "stdout",
          "output_type": "stream",
          "text": [
            "https://entertain.naver.com/read?oid=001&aid=0013627973\n"
          ]
        },
        {
          "name": "stderr",
          "output_type": "stream",
          "text": [
            " 95%|█████████▌| 23555/24679 [1:33:12<03:33,  5.26it/s]"
          ]
        },
        {
          "name": "stdout",
          "output_type": "stream",
          "text": [
            "https://entertain.naver.com/read?oid=001&aid=0013627973\n"
          ]
        },
        {
          "name": "stderr",
          "output_type": "stream",
          "text": [
            " 95%|█████████▌| 23560/24679 [1:33:13<03:43,  5.00it/s]"
          ]
        },
        {
          "name": "stdout",
          "output_type": "stream",
          "text": [
            "https://entertain.naver.com/read?oid=001&aid=0013627973\n"
          ]
        },
        {
          "name": "stderr",
          "output_type": "stream",
          "text": [
            " 95%|█████████▌| 23567/24679 [1:33:14<03:54,  4.75it/s]"
          ]
        },
        {
          "name": "stdout",
          "output_type": "stream",
          "text": [
            "https://entertain.naver.com/read?oid=001&aid=0013627973\n"
          ]
        },
        {
          "name": "stderr",
          "output_type": "stream",
          "text": [
            " 96%|█████████▌| 23574/24679 [1:33:15<03:49,  4.81it/s]"
          ]
        },
        {
          "name": "stdout",
          "output_type": "stream",
          "text": [
            "https://entertain.naver.com/read?oid=001&aid=0013627973\n"
          ]
        },
        {
          "name": "stderr",
          "output_type": "stream",
          "text": [
            " 97%|█████████▋| 23915/24679 [1:34:40<02:51,  4.44it/s]"
          ]
        },
        {
          "name": "stdout",
          "output_type": "stream",
          "text": [
            "https://entertain.naver.com/read?oid=241&aid=0003248431\n"
          ]
        },
        {
          "name": "stderr",
          "output_type": "stream",
          "text": [
            " 97%|█████████▋| 23923/24679 [1:34:41<02:21,  5.35it/s]"
          ]
        },
        {
          "name": "stdout",
          "output_type": "stream",
          "text": [
            "https://entertain.naver.com/read?oid=312&aid=0000587757\n",
            "https://entertain.naver.com/read?oid=468&aid=0000910551\n"
          ]
        },
        {
          "name": "stderr",
          "output_type": "stream",
          "text": [
            " 97%|█████████▋| 23930/24679 [1:34:43<02:05,  5.95it/s]"
          ]
        },
        {
          "name": "stdout",
          "output_type": "stream",
          "text": [
            "https://entertain.naver.com/read?oid=312&aid=0000587757\n",
            "https://entertain.naver.com/read?oid=468&aid=0000910551\n"
          ]
        },
        {
          "name": "stderr",
          "output_type": "stream",
          "text": [
            " 97%|█████████▋| 23935/24679 [1:34:43<01:41,  7.32it/s]"
          ]
        },
        {
          "name": "stdout",
          "output_type": "stream",
          "text": [
            "https://entertain.naver.com/read?oid=312&aid=0000587757\n",
            "https://entertain.naver.com/read?oid=468&aid=0000910551\n"
          ]
        },
        {
          "name": "stderr",
          "output_type": "stream",
          "text": [
            " 97%|█████████▋| 23940/24679 [1:34:44<01:34,  7.85it/s]"
          ]
        },
        {
          "name": "stdout",
          "output_type": "stream",
          "text": [
            "https://entertain.naver.com/read?oid=312&aid=0000587757\n",
            "https://entertain.naver.com/read?oid=468&aid=0000910551\n"
          ]
        },
        {
          "name": "stderr",
          "output_type": "stream",
          "text": [
            " 97%|█████████▋| 23992/24679 [1:34:56<02:15,  5.09it/s]"
          ]
        },
        {
          "name": "stdout",
          "output_type": "stream",
          "text": [
            "https://sports.news.naver.com/news.nhn?oid=442&aid=0000157334\n"
          ]
        },
        {
          "name": "stderr",
          "output_type": "stream",
          "text": [
            " 97%|█████████▋| 24003/24679 [1:34:59<01:48,  6.21it/s]"
          ]
        },
        {
          "name": "stdout",
          "output_type": "stream",
          "text": [
            "https://entertain.naver.com/read?oid=311&aid=0001539548\n",
            "https://entertain.naver.com/read?oid=311&aid=0001539548\n",
            "https://entertain.naver.com/read?oid=003&aid=0011613097\n",
            "https://entertain.naver.com/read?oid=312&aid=0000587760\n"
          ]
        },
        {
          "name": "stderr",
          "output_type": "stream",
          "text": [
            " 97%|█████████▋| 24018/24679 [1:35:01<02:31,  4.37it/s]"
          ]
        },
        {
          "name": "stdout",
          "output_type": "stream",
          "text": [
            "https://sports.news.naver.com/news.nhn?oid=442&aid=0000157294\n"
          ]
        },
        {
          "name": "stderr",
          "output_type": "stream",
          "text": [
            " 97%|█████████▋| 24053/24679 [1:35:09<02:24,  4.34it/s]"
          ]
        },
        {
          "name": "stdout",
          "output_type": "stream",
          "text": [
            "https://sports.news.naver.com/news.nhn?oid=311&aid=0001537826\n"
          ]
        },
        {
          "name": "stderr",
          "output_type": "stream",
          "text": [
            " 98%|█████████▊| 24093/24679 [1:35:18<02:26,  4.00it/s]"
          ]
        },
        {
          "name": "stdout",
          "output_type": "stream",
          "text": [
            "https://entertain.naver.com/read?oid=108&aid=0003115292\n"
          ]
        },
        {
          "name": "stderr",
          "output_type": "stream",
          "text": [
            " 98%|█████████▊| 24098/24679 [1:35:19<02:10,  4.44it/s]"
          ]
        },
        {
          "name": "stdout",
          "output_type": "stream",
          "text": [
            "https://entertain.naver.com/read?oid=477&aid=0000401323\n"
          ]
        },
        {
          "name": "stderr",
          "output_type": "stream",
          "text": [
            " 98%|█████████▊| 24137/24679 [1:35:28<01:51,  4.87it/s]"
          ]
        },
        {
          "name": "stdout",
          "output_type": "stream",
          "text": [
            "https://entertain.naver.com/read?oid=117&aid=0003679549\n"
          ]
        },
        {
          "name": "stderr",
          "output_type": "stream",
          "text": [
            " 98%|█████████▊| 24189/24679 [1:35:39<01:17,  6.35it/s]"
          ]
        },
        {
          "name": "stdout",
          "output_type": "stream",
          "text": [
            "https://sports.news.naver.com/news.nhn?oid=442&aid=0000157492\n"
          ]
        },
        {
          "name": "stderr",
          "output_type": "stream",
          "text": [
            " 98%|█████████▊| 24258/24679 [1:35:55<01:33,  4.52it/s]"
          ]
        },
        {
          "name": "stdout",
          "output_type": "stream",
          "text": [
            "https://sports.news.naver.com/news.nhn?oid=347&aid=0000168767\n"
          ]
        },
        {
          "name": "stderr",
          "output_type": "stream",
          "text": [
            " 98%|█████████▊| 24260/24679 [1:35:56<01:11,  5.84it/s]"
          ]
        },
        {
          "name": "stdout",
          "output_type": "stream",
          "text": [
            "https://entertain.naver.com/read?oid=076&aid=0003954691\n"
          ]
        },
        {
          "name": "stderr",
          "output_type": "stream",
          "text": [
            " 98%|█████████▊| 24273/24679 [1:35:58<01:11,  5.67it/s]"
          ]
        },
        {
          "name": "stdout",
          "output_type": "stream",
          "text": [
            "https://entertain.naver.com/read?oid=076&aid=0003950796\n"
          ]
        },
        {
          "name": "stderr",
          "output_type": "stream",
          "text": [
            " 98%|█████████▊| 24274/24679 [1:35:58<01:13,  5.49it/s]"
          ]
        },
        {
          "name": "stdout",
          "output_type": "stream",
          "text": [
            "https://entertain.naver.com/read?oid=076&aid=0003950796\n"
          ]
        },
        {
          "name": "stderr",
          "output_type": "stream",
          "text": [
            " 98%|█████████▊| 24281/24679 [1:36:00<01:29,  4.47it/s]"
          ]
        },
        {
          "name": "stdout",
          "output_type": "stream",
          "text": [
            "https://entertain.naver.com/read?oid=015&aid=0004792351\n"
          ]
        },
        {
          "name": "stderr",
          "output_type": "stream",
          "text": [
            " 98%|█████████▊| 24298/24679 [1:36:04<01:29,  4.27it/s]"
          ]
        },
        {
          "name": "stdout",
          "output_type": "stream",
          "text": [
            "https://entertain.naver.com/read?oid=421&aid=0006520412\n"
          ]
        },
        {
          "name": "stderr",
          "output_type": "stream",
          "text": [
            " 98%|█████████▊| 24302/24679 [1:36:04<01:14,  5.07it/s]"
          ]
        },
        {
          "name": "stdout",
          "output_type": "stream",
          "text": [
            "https://sports.news.naver.com/news.nhn?oid=343&aid=0000118358\n"
          ]
        },
        {
          "name": "stderr",
          "output_type": "stream",
          "text": [
            " 98%|█████████▊| 24305/24679 [1:36:05<01:07,  5.55it/s]"
          ]
        },
        {
          "name": "stdout",
          "output_type": "stream",
          "text": [
            "https://sports.news.naver.com/news.nhn?oid=343&aid=0000118358\n"
          ]
        },
        {
          "name": "stderr",
          "output_type": "stream",
          "text": [
            " 99%|█████████▉| 24412/24679 [1:36:28<00:36,  7.23it/s]"
          ]
        },
        {
          "name": "stdout",
          "output_type": "stream",
          "text": [
            "https://sports.news.naver.com/news.nhn?oid=439&aid=0000025106\n",
            "https://sports.news.naver.com/news.nhn?oid=439&aid=0000025106\n"
          ]
        },
        {
          "name": "stderr",
          "output_type": "stream",
          "text": [
            " 99%|█████████▉| 24504/24679 [1:36:51<00:36,  4.79it/s]"
          ]
        },
        {
          "name": "stdout",
          "output_type": "stream",
          "text": [
            "https://sports.news.naver.com/news.nhn?oid=442&aid=0000156943\n"
          ]
        },
        {
          "name": "stderr",
          "output_type": "stream",
          "text": [
            " 99%|█████████▉| 24531/24679 [1:36:57<00:23,  6.20it/s]"
          ]
        },
        {
          "name": "stdout",
          "output_type": "stream",
          "text": [
            "https://sports.news.naver.com/news.nhn?oid=442&aid=0000157130\n"
          ]
        },
        {
          "name": "stderr",
          "output_type": "stream",
          "text": [
            " 99%|█████████▉| 24536/24679 [1:36:58<00:21,  6.66it/s]"
          ]
        },
        {
          "name": "stdout",
          "output_type": "stream",
          "text": [
            "https://sports.news.naver.com/news.nhn?oid=442&aid=0000157130\n"
          ]
        },
        {
          "name": "stderr",
          "output_type": "stream",
          "text": [
            " 99%|█████████▉| 24540/24679 [1:36:59<00:19,  7.17it/s]"
          ]
        },
        {
          "name": "stdout",
          "output_type": "stream",
          "text": [
            "https://sports.news.naver.com/news.nhn?oid=442&aid=0000157130\n"
          ]
        },
        {
          "name": "stderr",
          "output_type": "stream",
          "text": [
            " 99%|█████████▉| 24545/24679 [1:37:00<00:31,  4.30it/s]"
          ]
        },
        {
          "name": "stdout",
          "output_type": "stream",
          "text": [
            "https://sports.news.naver.com/news.nhn?oid=216&aid=0000125452\n"
          ]
        },
        {
          "name": "stderr",
          "output_type": "stream",
          "text": [
            " 99%|█████████▉| 24547/24679 [1:37:00<00:23,  5.62it/s]"
          ]
        },
        {
          "name": "stdout",
          "output_type": "stream",
          "text": [
            "https://sports.news.naver.com/news.nhn?oid=442&aid=0000157319\n"
          ]
        },
        {
          "name": "stderr",
          "output_type": "stream",
          "text": [
            " 99%|█████████▉| 24549/24679 [1:37:01<00:19,  6.71it/s]"
          ]
        },
        {
          "name": "stdout",
          "output_type": "stream",
          "text": [
            "https://sports.news.naver.com/news.nhn?oid=442&aid=0000157319\n"
          ]
        },
        {
          "name": "stderr",
          "output_type": "stream",
          "text": [
            " 99%|█████████▉| 24551/24679 [1:37:01<00:17,  7.53it/s]"
          ]
        },
        {
          "name": "stdout",
          "output_type": "stream",
          "text": [
            "https://sports.news.naver.com/news.nhn?oid=442&aid=0000157087\n"
          ]
        },
        {
          "name": "stderr",
          "output_type": "stream",
          "text": [
            "100%|█████████▉| 24556/24679 [1:37:01<00:15,  8.01it/s]"
          ]
        },
        {
          "name": "stdout",
          "output_type": "stream",
          "text": [
            "https://sports.news.naver.com/news.nhn?oid=442&aid=0000157087\n"
          ]
        },
        {
          "name": "stderr",
          "output_type": "stream",
          "text": [
            "100%|█████████▉| 24648/24679 [1:37:23<00:06,  4.97it/s]"
          ]
        },
        {
          "name": "stdout",
          "output_type": "stream",
          "text": [
            "https://sports.news.naver.com/news.nhn?oid=442&aid=0000156970\n"
          ]
        },
        {
          "name": "stderr",
          "output_type": "stream",
          "text": [
            "100%|██████████| 24679/24679 [1:37:30<00:00,  4.22it/s]\n"
          ]
        }
      ],
      "source": [
        "df = pd.DataFrame()\n",
        "for url in tqdm(test['0']):\n",
        "    try:\n",
        "        oid = re.findall('article/([^\\*]*)/', str(url))[0]\n",
        "        aid = re.findall(f'{oid}/([^\\*]*)[?]', str(url))[0]\n",
        "        sid = url[-3:]\n",
        "        temp = get_data(oid, aid)\n",
        "        temp['sid'] = sid\n",
        "        df =pd.concat([df, temp])\n",
        "    except:\n",
        "        print(url)"
      ]
    },
    {
      "cell_type": "code",
      "execution_count": 18,
      "metadata": {},
      "outputs": [
        {
          "data": {
            "text/html": [
              "<div>\n",
              "<style scoped>\n",
              "    .dataframe tbody tr th:only-of-type {\n",
              "        vertical-align: middle;\n",
              "    }\n",
              "\n",
              "    .dataframe tbody tr th {\n",
              "        vertical-align: top;\n",
              "    }\n",
              "\n",
              "    .dataframe thead th {\n",
              "        text-align: right;\n",
              "    }\n",
              "</style>\n",
              "<table border=\"1\" class=\"dataframe\">\n",
              "  <thead>\n",
              "    <tr style=\"text-align: right;\">\n",
              "      <th></th>\n",
              "      <th>url</th>\n",
              "      <th>text</th>\n",
              "      <th>reply_count</th>\n",
              "      <th>uid</th>\n",
              "      <th>uname</th>\n",
              "      <th>like</th>\n",
              "      <th>dislike</th>\n",
              "      <th>c_time</th>\n",
              "      <th>cid</th>\n",
              "      <th>pid</th>\n",
              "      <th>sid</th>\n",
              "    </tr>\n",
              "  </thead>\n",
              "  <tbody>\n",
              "    <tr>\n",
              "      <th>0</th>\n",
              "      <td>https://n.news.naver.com/mnews/article/comment...</td>\n",
              "      <td>대한민국의 차량들이 너무 많다 정말 1가구당 차량수 1대로 제한해야한다 \\n이대론 ...</td>\n",
              "      <td>0.0</td>\n",
              "      <td>2aqSG</td>\n",
              "      <td>jung****</td>\n",
              "      <td>0.0</td>\n",
              "      <td>2.0</td>\n",
              "      <td>2022-02-01T09:45:57+0900</td>\n",
              "      <td>748388986631749886</td>\n",
              "      <td>748388986631749886</td>\n",
              "      <td>101</td>\n",
              "    </tr>\n",
              "    <tr>\n",
              "      <th>1</th>\n",
              "      <td>https://n.news.naver.com/mnews/article/comment...</td>\n",
              "      <td>지들 잇속만 챙길라고 자사 주식 팔아치우는 카카오 경영진 새끼들은 입 다물어라......</td>\n",
              "      <td>0.0</td>\n",
              "      <td>xScD</td>\n",
              "      <td>mizn****</td>\n",
              "      <td>1.0</td>\n",
              "      <td>0.0</td>\n",
              "      <td>2022-01-31T18:35:36+0900</td>\n",
              "      <td>748330336135413976</td>\n",
              "      <td>748330336135413976</td>\n",
              "      <td>101</td>\n",
              "    </tr>\n",
              "    <tr>\n",
              "      <th>2</th>\n",
              "      <td>https://n.news.naver.com/mnews/article/comment...</td>\n",
              "      <td>카카오는 상도없는 장사꾼 이다 사회적 특혜를 준 현 정부는 그 댓가를 받고 국민의 ...</td>\n",
              "      <td>0.0</td>\n",
              "      <td>5KpGf</td>\n",
              "      <td>runj****</td>\n",
              "      <td>2.0</td>\n",
              "      <td>0.0</td>\n",
              "      <td>2022-01-31T15:28:38+0900</td>\n",
              "      <td>748318291084181771</td>\n",
              "      <td>748318291084181771</td>\n",
              "      <td>101</td>\n",
              "    </tr>\n",
              "    <tr>\n",
              "      <th>3</th>\n",
              "      <td>https://n.news.naver.com/mnews/article/comment...</td>\n",
              "      <td>페이 ceo가 싹 처분하고 날랐다던 카카오?</td>\n",
              "      <td>0.0</td>\n",
              "      <td>1yf7P</td>\n",
              "      <td>city****</td>\n",
              "      <td>0.0</td>\n",
              "      <td>0.0</td>\n",
              "      <td>2022-01-31T13:47:59+0900</td>\n",
              "      <td>748311807143182710</td>\n",
              "      <td>748311807143182710</td>\n",
              "      <td>101</td>\n",
              "    </tr>\n",
              "    <tr>\n",
              "      <th>4</th>\n",
              "      <td>https://n.news.naver.com/mnews/article/comment...</td>\n",
              "      <td>먹튀 지대로 하겟네</td>\n",
              "      <td>0.0</td>\n",
              "      <td>64081</td>\n",
              "      <td>kayk****</td>\n",
              "      <td>0.0</td>\n",
              "      <td>0.0</td>\n",
              "      <td>2022-01-31T12:54:30+0900</td>\n",
              "      <td>748308362663297206</td>\n",
              "      <td>748308362663297206</td>\n",
              "      <td>101</td>\n",
              "    </tr>\n",
              "    <tr>\n",
              "      <th>...</th>\n",
              "      <td>...</td>\n",
              "      <td>...</td>\n",
              "      <td>...</td>\n",
              "      <td>...</td>\n",
              "      <td>...</td>\n",
              "      <td>...</td>\n",
              "      <td>...</td>\n",
              "      <td>...</td>\n",
              "      <td>...</td>\n",
              "      <td>...</td>\n",
              "      <td>...</td>\n",
              "    </tr>\n",
              "    <tr>\n",
              "      <th>212917</th>\n",
              "      <td>https://n.news.naver.com/mnews/article/comment...</td>\n",
              "      <td>말로만 떠들어대네 ㅋㅋ 진짜 말이야 방구야</td>\n",
              "      <td>0.0</td>\n",
              "      <td>1jgyE</td>\n",
              "      <td>sho2****</td>\n",
              "      <td>0.0</td>\n",
              "      <td>0.0</td>\n",
              "      <td>2022-12-20T09:10:00+0900</td>\n",
              "      <td>778259026487017477</td>\n",
              "      <td>778259026487017477</td>\n",
              "      <td>105</td>\n",
              "    </tr>\n",
              "    <tr>\n",
              "      <th>212918</th>\n",
              "      <td>https://n.news.naver.com/mnews/article/comment...</td>\n",
              "      <td>ㅋㅋㅋㅋㅋㅋㅋ 뭔소리나</td>\n",
              "      <td>0.0</td>\n",
              "      <td>2LH5k</td>\n",
              "      <td>semo****</td>\n",
              "      <td>0.0</td>\n",
              "      <td>0.0</td>\n",
              "      <td>2022-12-20T07:08:37+0900</td>\n",
              "      <td>778251207113179288</td>\n",
              "      <td>778251207113179288</td>\n",
              "      <td>105</td>\n",
              "    </tr>\n",
              "    <tr>\n",
              "      <th>212919</th>\n",
              "      <td>https://n.news.naver.com/mnews/article/comment...</td>\n",
              "      <td>후회와 책망하지말고 명확한 해결책을 내고 한두번 있었던 일 아닌거 다 아니깐 기사로...</td>\n",
              "      <td>0.0</td>\n",
              "      <td>7uHcQ</td>\n",
              "      <td>kky0****</td>\n",
              "      <td>0.0</td>\n",
              "      <td>0.0</td>\n",
              "      <td>2022-12-20T09:29:28+0900</td>\n",
              "      <td>778260281355665639</td>\n",
              "      <td>778260281355665639</td>\n",
              "      <td>105</td>\n",
              "    </tr>\n",
              "    <tr>\n",
              "      <th>212920</th>\n",
              "      <td>https://n.news.naver.com/mnews/article/comment...</td>\n",
              "      <td>말로만 떠들어대네 ㅋㅋ 진짜 말이야 방구야</td>\n",
              "      <td>0.0</td>\n",
              "      <td>1jgyE</td>\n",
              "      <td>sho2****</td>\n",
              "      <td>0.0</td>\n",
              "      <td>0.0</td>\n",
              "      <td>2022-12-20T09:10:00+0900</td>\n",
              "      <td>778259026487017477</td>\n",
              "      <td>778259026487017477</td>\n",
              "      <td>105</td>\n",
              "    </tr>\n",
              "    <tr>\n",
              "      <th>212921</th>\n",
              "      <td>https://n.news.naver.com/mnews/article/comment...</td>\n",
              "      <td>ㅋㅋㅋㅋㅋㅋㅋ 뭔소리나</td>\n",
              "      <td>0.0</td>\n",
              "      <td>2LH5k</td>\n",
              "      <td>semo****</td>\n",
              "      <td>0.0</td>\n",
              "      <td>0.0</td>\n",
              "      <td>2022-12-20T07:08:37+0900</td>\n",
              "      <td>778251207113179288</td>\n",
              "      <td>778251207113179288</td>\n",
              "      <td>105</td>\n",
              "    </tr>\n",
              "  </tbody>\n",
              "</table>\n",
              "<p>212922 rows × 11 columns</p>\n",
              "</div>"
            ],
            "text/plain": [
              "                                                      url  \\\n",
              "0       https://n.news.naver.com/mnews/article/comment...   \n",
              "1       https://n.news.naver.com/mnews/article/comment...   \n",
              "2       https://n.news.naver.com/mnews/article/comment...   \n",
              "3       https://n.news.naver.com/mnews/article/comment...   \n",
              "4       https://n.news.naver.com/mnews/article/comment...   \n",
              "...                                                   ...   \n",
              "212917  https://n.news.naver.com/mnews/article/comment...   \n",
              "212918  https://n.news.naver.com/mnews/article/comment...   \n",
              "212919  https://n.news.naver.com/mnews/article/comment...   \n",
              "212920  https://n.news.naver.com/mnews/article/comment...   \n",
              "212921  https://n.news.naver.com/mnews/article/comment...   \n",
              "\n",
              "                                                     text  reply_count    uid  \\\n",
              "0       대한민국의 차량들이 너무 많다 정말 1가구당 차량수 1대로 제한해야한다 \\n이대론 ...          0.0  2aqSG   \n",
              "1       지들 잇속만 챙길라고 자사 주식 팔아치우는 카카오 경영진 새끼들은 입 다물어라......          0.0   xScD   \n",
              "2       카카오는 상도없는 장사꾼 이다 사회적 특혜를 준 현 정부는 그 댓가를 받고 국민의 ...          0.0  5KpGf   \n",
              "3                                페이 ceo가 싹 처분하고 날랐다던 카카오?          0.0  1yf7P   \n",
              "4                                              먹튀 지대로 하겟네          0.0  64081   \n",
              "...                                                   ...          ...    ...   \n",
              "212917                            말로만 떠들어대네 ㅋㅋ 진짜 말이야 방구야          0.0  1jgyE   \n",
              "212918                                       ㅋㅋㅋㅋㅋㅋㅋ 뭔소리나          0.0  2LH5k   \n",
              "212919  후회와 책망하지말고 명확한 해결책을 내고 한두번 있었던 일 아닌거 다 아니깐 기사로...          0.0  7uHcQ   \n",
              "212920                            말로만 떠들어대네 ㅋㅋ 진짜 말이야 방구야          0.0  1jgyE   \n",
              "212921                                       ㅋㅋㅋㅋㅋㅋㅋ 뭔소리나          0.0  2LH5k   \n",
              "\n",
              "           uname  like  dislike                    c_time                 cid  \\\n",
              "0       jung****   0.0      2.0  2022-02-01T09:45:57+0900  748388986631749886   \n",
              "1       mizn****   1.0      0.0  2022-01-31T18:35:36+0900  748330336135413976   \n",
              "2       runj****   2.0      0.0  2022-01-31T15:28:38+0900  748318291084181771   \n",
              "3       city****   0.0      0.0  2022-01-31T13:47:59+0900  748311807143182710   \n",
              "4       kayk****   0.0      0.0  2022-01-31T12:54:30+0900  748308362663297206   \n",
              "...          ...   ...      ...                       ...                 ...   \n",
              "212917  sho2****   0.0      0.0  2022-12-20T09:10:00+0900  778259026487017477   \n",
              "212918  semo****   0.0      0.0  2022-12-20T07:08:37+0900  778251207113179288   \n",
              "212919  kky0****   0.0      0.0  2022-12-20T09:29:28+0900  778260281355665639   \n",
              "212920  sho2****   0.0      0.0  2022-12-20T09:10:00+0900  778259026487017477   \n",
              "212921  semo****   0.0      0.0  2022-12-20T07:08:37+0900  778251207113179288   \n",
              "\n",
              "                       pid  sid  \n",
              "0       748388986631749886  101  \n",
              "1       748330336135413976  101  \n",
              "2       748318291084181771  101  \n",
              "3       748311807143182710  101  \n",
              "4       748308362663297206  101  \n",
              "...                    ...  ...  \n",
              "212917  778259026487017477  105  \n",
              "212918  778251207113179288  105  \n",
              "212919  778260281355665639  105  \n",
              "212920  778259026487017477  105  \n",
              "212921  778251207113179288  105  \n",
              "\n",
              "[212922 rows x 11 columns]"
            ]
          },
          "execution_count": 18,
          "metadata": {},
          "output_type": "execute_result"
        }
      ],
      "source": [
        "df.reset_index(drop = True, inplace = True)\n",
        "df"
      ]
    },
    {
      "cell_type": "code",
      "execution_count": 21,
      "metadata": {},
      "outputs": [],
      "source": [
        "df.to_pickle('../../data/K_naver_comments_monthlyTop4000.pkl')\n",
        "df.to_csv('../../data/K_naver_comments_monthlyTop4000.csv')"
      ]
    }
  ],
  "metadata": {
    "colab": {
      "collapsed_sections": [],
      "name": "comment_request.ipynb",
      "provenance": []
    },
    "kernelspec": {
      "display_name": "Python 3.8.12 ('save')",
      "language": "python",
      "name": "python3"
    },
    "language_info": {
      "codemirror_mode": {
        "name": "ipython",
        "version": 3
      },
      "file_extension": ".py",
      "mimetype": "text/x-python",
      "name": "python",
      "nbconvert_exporter": "python",
      "pygments_lexer": "ipython3",
      "version": "3.8.15"
    },
    "vscode": {
      "interpreter": {
        "hash": "6632c70ce360d611e847e5318887868e2366d56c00e5f501b5a0b067a934dfe7"
      }
    }
  },
  "nbformat": 4,
  "nbformat_minor": 0
}
