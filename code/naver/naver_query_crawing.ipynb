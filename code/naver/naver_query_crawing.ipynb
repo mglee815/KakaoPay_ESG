{
 "cells": [
  {
   "cell_type": "code",
   "execution_count": 1,
   "id": "f14d8f86-2642-464c-9138-38abf2e90d79",
   "metadata": {},
   "outputs": [],
   "source": [
    "# !pip install webdriver_manager"
   ]
  },
  {
   "cell_type": "code",
   "execution_count": 23,
   "id": "21439254-44ee-4a91-a411-0d0ba272b48e",
   "metadata": {},
   "outputs": [],
   "source": [
    "#크롤링시 필요한 라이브러리 불러오기\n",
    "import pandas as pd\n",
    "\n",
    "from bs4 import BeautifulSoup\n",
    "import requests\n",
    "import re\n",
    "import time\n",
    "from selenium import webdriver\n",
    "from selenium.webdriver.common.by import By\n",
    "from webdriver_manager.chrome import ChromeDriverManager\n",
    "from tqdm import tqdm\n",
    "\n",
    "\n",
    "\n",
    "#웹드라이버 설정\n",
    "options = webdriver.ChromeOptions()\n",
    "options.add_experimental_option(\"excludeSwitches\", [\"enable-automation\"])\n",
    "options.add_experimental_option(\"useAutomationExtension\", False)"
   ]
  },
  {
   "cell_type": "code",
   "execution_count": 36,
   "id": "05e1e19e-efd7-482f-aee0-249934cb3996",
   "metadata": {
    "tags": []
   },
   "outputs": [],
   "source": [
    "sy = 2017\n",
    "sm = 1\n",
    "\n",
    "search_urls = []\n",
    "\n",
    "for y in range(1,7, 1):\n",
    "    for m in range(11):\n",
    "        sm = 1 + m\n",
    "        start = str(sy) + '.' +  str(sm).zfill(2) + '.' + '01'\n",
    "        end = str(sy) + '.' +  str(sm+1).zfill(2) + '.' + '01'\n",
    "        \n",
    "        for it in range(400):\n",
    "            search_urls.append('https://search.naver.com/search.naver?where=news&sm=tab_pge&query=\"카카오페이\"&photo=0&field=0&pd=3&ds=' + start + '&de=' + end + '&cluster_rank=30&mynews=0&office_type=0&office_section_code=0&news_office_checked=&nso=so:r,p:from20190117to20200315,a:all&start=' + str( (it*10) + 1))\n",
    "    start = str(sy) + '.' +  str(sm+1).zfill(2) + '.' + '01'\n",
    "    end = str(sy) + '.' +  str(sm+1).zfill(2) + '.' + '31'\n",
    "    \n",
    "    for it in range(400):\n",
    "        search_urls.append('https://search.naver.com/search.naver?where=news&sm=tab_pge&query=\"카카오페이\"&photo=0&field=0&pd=3&ds=' + start + '&de=' + end + '&cluster_rank=30&mynews=0&office_type=0&office_section_code=0&news_office_checked=&nso=so:r,p:from20190117to20200315,a:all&start=' + str( (it*10) + 1))\n",
    "    \n",
    "    sy = 2017 + y\n",
    "    \n"
   ]
  },
  {
   "cell_type": "code",
   "execution_count": 37,
   "id": "95e87530-1a07-4f36-9d89-5ed097acf2ba",
   "metadata": {},
   "outputs": [
    {
     "data": {
      "text/plain": [
       "'https://search.naver.com/search.naver?where=news&sm=tab_pge&query=\"카카오페이\"&photo=0&field=0&pd=3&ds=2022.12.01&de=2022.12.31&cluster_rank=30&mynews=0&office_type=0&office_section_code=0&news_office_checked=&nso=so:r,p:from20190117to20200315,a:all&start=3991'"
      ]
     },
     "execution_count": 37,
     "metadata": {},
     "output_type": "execute_result"
    }
   ],
   "source": [
    "search_urls[-1]"
   ]
  },
  {
   "cell_type": "code",
   "execution_count": 38,
   "id": "1e52622c-d939-4e25-910f-472a5c2b8f89",
   "metadata": {
    "tags": []
   },
   "outputs": [
    {
     "name": "stderr",
     "output_type": "stream",
     "text": [
      "<ipython-input-38-596db353c353>:3: DeprecationWarning: executable_path has been deprecated, please pass in a Service object\n",
      "  driver = webdriver.Chrome(ChromeDriverManager().install())\n",
      " 38%|██████████████████████████████▊                                                   | 30/80 [02:24<04:00,  4.82s/it]\n"
     ]
    },
    {
     "name": "stdout",
     "output_type": "stream",
     "text": [
      "https://search.naver.com/search.naver?where=news&sm=tab_pge&query=\"카카오페이\"&photo=0&field=0&pd=3&ds=2017.01.01&de=2017.02.01&cluster_rank=30&mynews=0&office_type=0&office_section_code=0&news_office_checked=&nso=so:r,p:from20190117to20200315,a:all&start=301\n"
     ]
    },
    {
     "name": "stderr",
     "output_type": "stream",
     "text": [
      "  0%|                                                                                           | 0/80 [00:00<?, ?it/s]\n"
     ]
    },
    {
     "name": "stdout",
     "output_type": "stream",
     "text": [
      "https://search.naver.com/search.naver?where=news&sm=tab_pge&query=\"카카오페이\"&photo=0&field=0&pd=3&ds=2017.01.01&de=2017.02.01&cluster_rank=30&mynews=0&office_type=0&office_section_code=0&news_office_checked=&nso=so:r,p:from20190117to20200315,a:all&start=801\n"
     ]
    },
    {
     "name": "stderr",
     "output_type": "stream",
     "text": [
      "  0%|                                                                                           | 0/80 [00:00<?, ?it/s]\n"
     ]
    },
    {
     "name": "stdout",
     "output_type": "stream",
     "text": [
      "https://search.naver.com/search.naver?where=news&sm=tab_pge&query=\"카카오페이\"&photo=0&field=0&pd=3&ds=2017.01.01&de=2017.02.01&cluster_rank=30&mynews=0&office_type=0&office_section_code=0&news_office_checked=&nso=so:r,p:from20190117to20200315,a:all&start=1601\n"
     ]
    },
    {
     "name": "stderr",
     "output_type": "stream",
     "text": [
      "  0%|                                                                                           | 0/80 [00:00<?, ?it/s]"
     ]
    },
    {
     "name": "stdout",
     "output_type": "stream",
     "text": [
      "https://search.naver.com/search.naver?where=news&sm=tab_pge&query=\"카카오페이\"&photo=0&field=0&pd=3&ds=2017.01.01&de=2017.02.01&cluster_rank=30&mynews=0&office_type=0&office_section_code=0&news_office_checked=&nso=so:r,p:from20190117to20200315,a:all&start=2401"
     ]
    },
    {
     "name": "stderr",
     "output_type": "stream",
     "text": [
      "  0%|                                                                                           | 0/80 [00:00<?, ?it/s]\n"
     ]
    },
    {
     "name": "stdout",
     "output_type": "stream",
     "text": [
      "\n"
     ]
    },
    {
     "name": "stderr",
     "output_type": "stream",
     "text": [
      "  0%|                                                                                           | 0/80 [00:00<?, ?it/s]\n"
     ]
    },
    {
     "name": "stdout",
     "output_type": "stream",
     "text": [
      "https://search.naver.com/search.naver?where=news&sm=tab_pge&query=\"카카오페이\"&photo=0&field=0&pd=3&ds=2017.01.01&de=2017.02.01&cluster_rank=30&mynews=0&office_type=0&office_section_code=0&news_office_checked=&nso=so:r,p:from20190117to20200315,a:all&start=3201\n"
     ]
    },
    {
     "name": "stderr",
     "output_type": "stream",
     "text": [
      " 50%|█████████████████████████████████████████                                         | 40/80 [03:03<03:03,  4.58s/it]\n"
     ]
    },
    {
     "name": "stdout",
     "output_type": "stream",
     "text": [
      "https://search.naver.com/search.naver?where=news&sm=tab_pge&query=\"카카오페이\"&photo=0&field=0&pd=3&ds=2017.02.01&de=2017.03.01&cluster_rank=30&mynews=0&office_type=0&office_section_code=0&news_office_checked=&nso=so:r,p:from20190117to20200315,a:all&start=401\n"
     ]
    },
    {
     "name": "stderr",
     "output_type": "stream",
     "text": [
      "  0%|                                                                                           | 0/80 [00:00<?, ?it/s]\n"
     ]
    },
    {
     "name": "stdout",
     "output_type": "stream",
     "text": [
      "https://search.naver.com/search.naver?where=news&sm=tab_pge&query=\"카카오페이\"&photo=0&field=0&pd=3&ds=2017.02.01&de=2017.03.01&cluster_rank=30&mynews=0&office_type=0&office_section_code=0&news_office_checked=&nso=so:r,p:from20190117to20200315,a:all&start=801\n"
     ]
    },
    {
     "name": "stderr",
     "output_type": "stream",
     "text": [
      "  0%|                                                                                           | 0/80 [00:00<?, ?it/s]\n"
     ]
    },
    {
     "name": "stdout",
     "output_type": "stream",
     "text": [
      "https://search.naver.com/search.naver?where=news&sm=tab_pge&query=\"카카오페이\"&photo=0&field=0&pd=3&ds=2017.02.01&de=2017.03.01&cluster_rank=30&mynews=0&office_type=0&office_section_code=0&news_office_checked=&nso=so:r,p:from20190117to20200315,a:all&start=1601\n"
     ]
    },
    {
     "name": "stderr",
     "output_type": "stream",
     "text": [
      "  0%|                                                                                           | 0/80 [00:00<?, ?it/s]\n"
     ]
    },
    {
     "name": "stdout",
     "output_type": "stream",
     "text": [
      "https://search.naver.com/search.naver?where=news&sm=tab_pge&query=\"카카오페이\"&photo=0&field=0&pd=3&ds=2017.02.01&de=2017.03.01&cluster_rank=30&mynews=0&office_type=0&office_section_code=0&news_office_checked=&nso=so:r,p:from20190117to20200315,a:all&start=2401\n"
     ]
    },
    {
     "name": "stderr",
     "output_type": "stream",
     "text": [
      "  0%|                                                                                           | 0/80 [00:00<?, ?it/s]\n"
     ]
    },
    {
     "name": "stdout",
     "output_type": "stream",
     "text": [
      "https://search.naver.com/search.naver?where=news&sm=tab_pge&query=\"카카오페이\"&photo=0&field=0&pd=3&ds=2017.02.01&de=2017.03.01&cluster_rank=30&mynews=0&office_type=0&office_section_code=0&news_office_checked=&nso=so:r,p:from20190117to20200315,a:all&start=3201\n"
     ]
    },
    {
     "name": "stderr",
     "output_type": "stream",
     "text": [
      " 52%|███████████████████████████████████████████                                       | 42/80 [03:08<02:50,  4.49s/it]\n"
     ]
    },
    {
     "name": "stdout",
     "output_type": "stream",
     "text": [
      "https://search.naver.com/search.naver?where=news&sm=tab_pge&query=\"카카오페이\"&photo=0&field=0&pd=3&ds=2017.03.01&de=2017.04.01&cluster_rank=30&mynews=0&office_type=0&office_section_code=0&news_office_checked=&nso=so:r,p:from20190117to20200315,a:all&start=421\n"
     ]
    },
    {
     "name": "stderr",
     "output_type": "stream",
     "text": [
      "  0%|                                                                                           | 0/80 [00:00<?, ?it/s]\n"
     ]
    },
    {
     "name": "stdout",
     "output_type": "stream",
     "text": [
      "https://search.naver.com/search.naver?where=news&sm=tab_pge&query=\"카카오페이\"&photo=0&field=0&pd=3&ds=2017.03.01&de=2017.04.01&cluster_rank=30&mynews=0&office_type=0&office_section_code=0&news_office_checked=&nso=so:r,p:from20190117to20200315,a:all&start=801\n"
     ]
    },
    {
     "name": "stderr",
     "output_type": "stream",
     "text": [
      "  0%|                                                                                           | 0/80 [00:00<?, ?it/s]\n"
     ]
    },
    {
     "name": "stdout",
     "output_type": "stream",
     "text": [
      "https://search.naver.com/search.naver?where=news&sm=tab_pge&query=\"카카오페이\"&photo=0&field=0&pd=3&ds=2017.03.01&de=2017.04.01&cluster_rank=30&mynews=0&office_type=0&office_section_code=0&news_office_checked=&nso=so:r,p:from20190117to20200315,a:all&start=1601\n"
     ]
    },
    {
     "name": "stderr",
     "output_type": "stream",
     "text": [
      "  0%|                                                                                           | 0/80 [00:00<?, ?it/s]\n"
     ]
    },
    {
     "name": "stdout",
     "output_type": "stream",
     "text": [
      "https://search.naver.com/search.naver?where=news&sm=tab_pge&query=\"카카오페이\"&photo=0&field=0&pd=3&ds=2017.03.01&de=2017.04.01&cluster_rank=30&mynews=0&office_type=0&office_section_code=0&news_office_checked=&nso=so:r,p:from20190117to20200315,a:all&start=2401\n"
     ]
    },
    {
     "name": "stderr",
     "output_type": "stream",
     "text": [
      "  0%|                                                                                           | 0/80 [00:00<?, ?it/s]\n"
     ]
    },
    {
     "name": "stdout",
     "output_type": "stream",
     "text": [
      "https://search.naver.com/search.naver?where=news&sm=tab_pge&query=\"카카오페이\"&photo=0&field=0&pd=3&ds=2017.03.01&de=2017.04.01&cluster_rank=30&mynews=0&office_type=0&office_section_code=0&news_office_checked=&nso=so:r,p:from20190117to20200315,a:all&start=3201\n"
     ]
    },
    {
     "name": "stderr",
     "output_type": "stream",
     "text": [
      " 18%|██████████████▎                                                                   | 14/80 [01:16<06:00,  5.46s/it]\n"
     ]
    },
    {
     "name": "stdout",
     "output_type": "stream",
     "text": [
      "https://search.naver.com/search.naver?where=news&sm=tab_pge&query=\"카카오페이\"&photo=0&field=0&pd=3&ds=2017.04.01&de=2017.05.01&cluster_rank=30&mynews=0&office_type=0&office_section_code=0&news_office_checked=&nso=so:r,p:from20190117to20200315,a:all&start=141\n"
     ]
    },
    {
     "name": "stderr",
     "output_type": "stream",
     "text": [
      "  0%|                                                                                           | 0/80 [00:00<?, ?it/s]\n"
     ]
    },
    {
     "name": "stdout",
     "output_type": "stream",
     "text": [
      "https://search.naver.com/search.naver?where=news&sm=tab_pge&query=\"카카오페이\"&photo=0&field=0&pd=3&ds=2017.04.01&de=2017.05.01&cluster_rank=30&mynews=0&office_type=0&office_section_code=0&news_office_checked=&nso=so:r,p:from20190117to20200315,a:all&start=801\n"
     ]
    },
    {
     "name": "stderr",
     "output_type": "stream",
     "text": [
      "  0%|                                                                                           | 0/80 [00:00<?, ?it/s]"
     ]
    },
    {
     "name": "stdout",
     "output_type": "stream",
     "text": [
      "https://search.naver.com/search.naver?where=news&sm=tab_pge&query=\"카카오페이\"&photo=0&field=0&pd=3&ds=2017.04.01&de=2017.05.01&cluster_rank=30&mynews=0&office_type=0&office_section_code=0&news_office_checked=&nso=so:r,p:from20190117to20200315,a:all&start=1601"
     ]
    },
    {
     "name": "stderr",
     "output_type": "stream",
     "text": [
      "  0%|                                                                                           | 0/80 [00:00<?, ?it/s]\n"
     ]
    },
    {
     "name": "stdout",
     "output_type": "stream",
     "text": [
      "\n"
     ]
    },
    {
     "name": "stderr",
     "output_type": "stream",
     "text": [
      "  0%|                                                                                           | 0/80 [00:00<?, ?it/s]\n"
     ]
    },
    {
     "name": "stdout",
     "output_type": "stream",
     "text": [
      "https://search.naver.com/search.naver?where=news&sm=tab_pge&query=\"카카오페이\"&photo=0&field=0&pd=3&ds=2017.04.01&de=2017.05.01&cluster_rank=30&mynews=0&office_type=0&office_section_code=0&news_office_checked=&nso=so:r,p:from20190117to20200315,a:all&start=2401\n"
     ]
    },
    {
     "name": "stderr",
     "output_type": "stream",
     "text": [
      "  0%|                                                                                           | 0/80 [00:00<?, ?it/s]\n"
     ]
    },
    {
     "name": "stdout",
     "output_type": "stream",
     "text": [
      "https://search.naver.com/search.naver?where=news&sm=tab_pge&query=\"카카오페이\"&photo=0&field=0&pd=3&ds=2017.04.01&de=2017.05.01&cluster_rank=30&mynews=0&office_type=0&office_section_code=0&news_office_checked=&nso=so:r,p:from20190117to20200315,a:all&start=3201\n"
     ]
    },
    {
     "name": "stderr",
     "output_type": "stream",
     "text": [
      " 16%|█████████████▎                                                                    | 13/80 [01:04<05:34,  5.00s/it]\n"
     ]
    },
    {
     "name": "stdout",
     "output_type": "stream",
     "text": [
      "https://search.naver.com/search.naver?where=news&sm=tab_pge&query=\"카카오페이\"&photo=0&field=0&pd=3&ds=2017.05.01&de=2017.06.01&cluster_rank=30&mynews=0&office_type=0&office_section_code=0&news_office_checked=&nso=so:r,p:from20190117to20200315,a:all&start=131\n"
     ]
    },
    {
     "name": "stderr",
     "output_type": "stream",
     "text": [
      "  0%|                                                                                           | 0/80 [00:00<?, ?it/s]\n"
     ]
    },
    {
     "name": "stdout",
     "output_type": "stream",
     "text": [
      "https://search.naver.com/search.naver?where=news&sm=tab_pge&query=\"카카오페이\"&photo=0&field=0&pd=3&ds=2017.05.01&de=2017.06.01&cluster_rank=30&mynews=0&office_type=0&office_section_code=0&news_office_checked=&nso=so:r,p:from20190117to20200315,a:all&start=801\n"
     ]
    },
    {
     "name": "stderr",
     "output_type": "stream",
     "text": [
      "  0%|                                                                                           | 0/80 [00:00<?, ?it/s]\n"
     ]
    },
    {
     "name": "stdout",
     "output_type": "stream",
     "text": [
      "https://search.naver.com/search.naver?where=news&sm=tab_pge&query=\"카카오페이\"&photo=0&field=0&pd=3&ds=2017.05.01&de=2017.06.01&cluster_rank=30&mynews=0&office_type=0&office_section_code=0&news_office_checked=&nso=so:r,p:from20190117to20200315,a:all&start=1601\n"
     ]
    },
    {
     "name": "stderr",
     "output_type": "stream",
     "text": [
      "  0%|                                                                                           | 0/80 [00:00<?, ?it/s]\n"
     ]
    },
    {
     "name": "stdout",
     "output_type": "stream",
     "text": [
      "https://search.naver.com/search.naver?where=news&sm=tab_pge&query=\"카카오페이\"&photo=0&field=0&pd=3&ds=2017.05.01&de=2017.06.01&cluster_rank=30&mynews=0&office_type=0&office_section_code=0&news_office_checked=&nso=so:r,p:from20190117to20200315,a:all&start=2401\n"
     ]
    },
    {
     "name": "stderr",
     "output_type": "stream",
     "text": [
      "  0%|                                                                                           | 0/80 [00:00<?, ?it/s]\n"
     ]
    },
    {
     "name": "stdout",
     "output_type": "stream",
     "text": [
      "https://search.naver.com/search.naver?where=news&sm=tab_pge&query=\"카카오페이\"&photo=0&field=0&pd=3&ds=2017.05.01&de=2017.06.01&cluster_rank=30&mynews=0&office_type=0&office_section_code=0&news_office_checked=&nso=so:r,p:from20190117to20200315,a:all&start=3201\n"
     ]
    },
    {
     "name": "stderr",
     "output_type": "stream",
     "text": [
      " 21%|█████████████████▍                                                                | 17/80 [01:26<05:19,  5.07s/it]\n"
     ]
    },
    {
     "name": "stdout",
     "output_type": "stream",
     "text": [
      "https://search.naver.com/search.naver?where=news&sm=tab_pge&query=\"카카오페이\"&photo=0&field=0&pd=3&ds=2017.06.01&de=2017.07.01&cluster_rank=30&mynews=0&office_type=0&office_section_code=0&news_office_checked=&nso=so:r,p:from20190117to20200315,a:all&start=171\n"
     ]
    },
    {
     "name": "stderr",
     "output_type": "stream",
     "text": [
      "  0%|                                                                                           | 0/80 [00:00<?, ?it/s]\n"
     ]
    },
    {
     "name": "stdout",
     "output_type": "stream",
     "text": [
      "https://search.naver.com/search.naver?where=news&sm=tab_pge&query=\"카카오페이\"&photo=0&field=0&pd=3&ds=2017.06.01&de=2017.07.01&cluster_rank=30&mynews=0&office_type=0&office_section_code=0&news_office_checked=&nso=so:r,p:from20190117to20200315,a:all&start=801\n"
     ]
    },
    {
     "name": "stderr",
     "output_type": "stream",
     "text": [
      "  0%|                                                                                           | 0/80 [00:00<?, ?it/s]\n"
     ]
    },
    {
     "name": "stdout",
     "output_type": "stream",
     "text": [
      "https://search.naver.com/search.naver?where=news&sm=tab_pge&query=\"카카오페이\"&photo=0&field=0&pd=3&ds=2017.06.01&de=2017.07.01&cluster_rank=30&mynews=0&office_type=0&office_section_code=0&news_office_checked=&nso=so:r,p:from20190117to20200315,a:all&start=1601\n"
     ]
    },
    {
     "name": "stderr",
     "output_type": "stream",
     "text": [
      "  0%|                                                                                           | 0/80 [00:00<?, ?it/s]\n"
     ]
    },
    {
     "name": "stdout",
     "output_type": "stream",
     "text": [
      "https://search.naver.com/search.naver?where=news&sm=tab_pge&query=\"카카오페이\"&photo=0&field=0&pd=3&ds=2017.06.01&de=2017.07.01&cluster_rank=30&mynews=0&office_type=0&office_section_code=0&news_office_checked=&nso=so:r,p:from20190117to20200315,a:all&start=2401\n"
     ]
    },
    {
     "name": "stderr",
     "output_type": "stream",
     "text": [
      "  0%|                                                                                           | 0/80 [00:00<?, ?it/s]\n"
     ]
    },
    {
     "name": "stdout",
     "output_type": "stream",
     "text": [
      "https://search.naver.com/search.naver?where=news&sm=tab_pge&query=\"카카오페이\"&photo=0&field=0&pd=3&ds=2017.06.01&de=2017.07.01&cluster_rank=30&mynews=0&office_type=0&office_section_code=0&news_office_checked=&nso=so:r,p:from20190117to20200315,a:all&start=3201\n"
     ]
    },
    {
     "name": "stderr",
     "output_type": "stream",
     "text": [
      " 66%|██████████████████████████████████████████████████████▎                           | 53/80 [04:03<02:04,  4.60s/it]\n"
     ]
    },
    {
     "name": "stdout",
     "output_type": "stream",
     "text": [
      "https://search.naver.com/search.naver?where=news&sm=tab_pge&query=\"카카오페이\"&photo=0&field=0&pd=3&ds=2017.07.01&de=2017.08.01&cluster_rank=30&mynews=0&office_type=0&office_section_code=0&news_office_checked=&nso=so:r,p:from20190117to20200315,a:all&start=531\n"
     ]
    },
    {
     "name": "stderr",
     "output_type": "stream",
     "text": [
      "  0%|                                                                                           | 0/80 [00:00<?, ?it/s]\n"
     ]
    },
    {
     "name": "stdout",
     "output_type": "stream",
     "text": [
      "https://search.naver.com/search.naver?where=news&sm=tab_pge&query=\"카카오페이\"&photo=0&field=0&pd=3&ds=2017.07.01&de=2017.08.01&cluster_rank=30&mynews=0&office_type=0&office_section_code=0&news_office_checked=&nso=so:r,p:from20190117to20200315,a:all&start=801\n"
     ]
    },
    {
     "name": "stderr",
     "output_type": "stream",
     "text": [
      "  0%|                                                                                           | 0/80 [00:00<?, ?it/s]\n"
     ]
    },
    {
     "name": "stdout",
     "output_type": "stream",
     "text": [
      "https://search.naver.com/search.naver?where=news&sm=tab_pge&query=\"카카오페이\"&photo=0&field=0&pd=3&ds=2017.07.01&de=2017.08.01&cluster_rank=30&mynews=0&office_type=0&office_section_code=0&news_office_checked=&nso=so:r,p:from20190117to20200315,a:all&start=1601\n"
     ]
    },
    {
     "name": "stderr",
     "output_type": "stream",
     "text": [
      "  0%|                                                                                           | 0/80 [00:00<?, ?it/s]\n"
     ]
    },
    {
     "name": "stdout",
     "output_type": "stream",
     "text": [
      "https://search.naver.com/search.naver?where=news&sm=tab_pge&query=\"카카오페이\"&photo=0&field=0&pd=3&ds=2017.07.01&de=2017.08.01&cluster_rank=30&mynews=0&office_type=0&office_section_code=0&news_office_checked=&nso=so:r,p:from20190117to20200315,a:all&start=2401\n"
     ]
    },
    {
     "name": "stderr",
     "output_type": "stream",
     "text": [
      "  0%|                                                                                           | 0/80 [00:00<?, ?it/s]\n"
     ]
    },
    {
     "name": "stdout",
     "output_type": "stream",
     "text": [
      "https://search.naver.com/search.naver?where=news&sm=tab_pge&query=\"카카오페이\"&photo=0&field=0&pd=3&ds=2017.07.01&de=2017.08.01&cluster_rank=30&mynews=0&office_type=0&office_section_code=0&news_office_checked=&nso=so:r,p:from20190117to20200315,a:all&start=3201\n"
     ]
    },
    {
     "name": "stderr",
     "output_type": "stream",
     "text": [
      " 81%|██████████████████████████████████████████████████████████████████▋               | 65/80 [04:20<01:00,  4.01s/it]\n"
     ]
    },
    {
     "name": "stdout",
     "output_type": "stream",
     "text": [
      "https://search.naver.com/search.naver?where=news&sm=tab_pge&query=\"카카오페이\"&photo=0&field=0&pd=3&ds=2017.08.01&de=2017.09.01&cluster_rank=30&mynews=0&office_type=0&office_section_code=0&news_office_checked=&nso=so:r,p:from20190117to20200315,a:all&start=651\n"
     ]
    },
    {
     "name": "stderr",
     "output_type": "stream",
     "text": [
      "  0%|                                                                                           | 0/80 [00:00<?, ?it/s]\n"
     ]
    },
    {
     "name": "stdout",
     "output_type": "stream",
     "text": [
      "https://search.naver.com/search.naver?where=news&sm=tab_pge&query=\"카카오페이\"&photo=0&field=0&pd=3&ds=2017.08.01&de=2017.09.01&cluster_rank=30&mynews=0&office_type=0&office_section_code=0&news_office_checked=&nso=so:r,p:from20190117to20200315,a:all&start=801\n"
     ]
    },
    {
     "name": "stderr",
     "output_type": "stream",
     "text": [
      "  0%|                                                                                           | 0/80 [00:00<?, ?it/s]\n"
     ]
    },
    {
     "name": "stdout",
     "output_type": "stream",
     "text": [
      "https://search.naver.com/search.naver?where=news&sm=tab_pge&query=\"카카오페이\"&photo=0&field=0&pd=3&ds=2017.08.01&de=2017.09.01&cluster_rank=30&mynews=0&office_type=0&office_section_code=0&news_office_checked=&nso=so:r,p:from20190117to20200315,a:all&start=1601\n"
     ]
    },
    {
     "name": "stderr",
     "output_type": "stream",
     "text": [
      "  0%|                                                                                           | 0/80 [00:00<?, ?it/s]\n"
     ]
    },
    {
     "name": "stdout",
     "output_type": "stream",
     "text": [
      "https://search.naver.com/search.naver?where=news&sm=tab_pge&query=\"카카오페이\"&photo=0&field=0&pd=3&ds=2017.08.01&de=2017.09.01&cluster_rank=30&mynews=0&office_type=0&office_section_code=0&news_office_checked=&nso=so:r,p:from20190117to20200315,a:all&start=2401\n"
     ]
    },
    {
     "name": "stderr",
     "output_type": "stream",
     "text": [
      "  0%|                                                                                           | 0/80 [00:00<?, ?it/s]\n"
     ]
    },
    {
     "name": "stdout",
     "output_type": "stream",
     "text": [
      "https://search.naver.com/search.naver?where=news&sm=tab_pge&query=\"카카오페이\"&photo=0&field=0&pd=3&ds=2017.08.01&de=2017.09.01&cluster_rank=30&mynews=0&office_type=0&office_section_code=0&news_office_checked=&nso=so:r,p:from20190117to20200315,a:all&start=3201\n"
     ]
    },
    {
     "name": "stderr",
     "output_type": "stream",
     "text": [
      " 72%|███████████████████████████████████████████████████████████▍                      | 58/80 [04:06<01:33,  4.25s/it]\n"
     ]
    },
    {
     "name": "stdout",
     "output_type": "stream",
     "text": [
      "https://search.naver.com/search.naver?where=news&sm=tab_pge&query=\"카카오페이\"&photo=0&field=0&pd=3&ds=2017.09.01&de=2017.10.01&cluster_rank=30&mynews=0&office_type=0&office_section_code=0&news_office_checked=&nso=so:r,p:from20190117to20200315,a:all&start=581\n"
     ]
    },
    {
     "name": "stderr",
     "output_type": "stream",
     "text": [
      "  0%|                                                                                           | 0/80 [00:00<?, ?it/s]\n"
     ]
    },
    {
     "name": "stdout",
     "output_type": "stream",
     "text": [
      "https://search.naver.com/search.naver?where=news&sm=tab_pge&query=\"카카오페이\"&photo=0&field=0&pd=3&ds=2017.09.01&de=2017.10.01&cluster_rank=30&mynews=0&office_type=0&office_section_code=0&news_office_checked=&nso=so:r,p:from20190117to20200315,a:all&start=801\n"
     ]
    },
    {
     "name": "stderr",
     "output_type": "stream",
     "text": [
      "  0%|                                                                                           | 0/80 [00:00<?, ?it/s]\n"
     ]
    },
    {
     "name": "stdout",
     "output_type": "stream",
     "text": [
      "https://search.naver.com/search.naver?where=news&sm=tab_pge&query=\"카카오페이\"&photo=0&field=0&pd=3&ds=2017.09.01&de=2017.10.01&cluster_rank=30&mynews=0&office_type=0&office_section_code=0&news_office_checked=&nso=so:r,p:from20190117to20200315,a:all&start=1601\n"
     ]
    },
    {
     "name": "stderr",
     "output_type": "stream",
     "text": [
      "  0%|                                                                                           | 0/80 [00:00<?, ?it/s]\n"
     ]
    },
    {
     "name": "stdout",
     "output_type": "stream",
     "text": [
      "https://search.naver.com/search.naver?where=news&sm=tab_pge&query=\"카카오페이\"&photo=0&field=0&pd=3&ds=2017.09.01&de=2017.10.01&cluster_rank=30&mynews=0&office_type=0&office_section_code=0&news_office_checked=&nso=so:r,p:from20190117to20200315,a:all&start=2401\n"
     ]
    },
    {
     "name": "stderr",
     "output_type": "stream",
     "text": [
      "  0%|                                                                                           | 0/80 [00:00<?, ?it/s]\n"
     ]
    },
    {
     "name": "stdout",
     "output_type": "stream",
     "text": [
      "https://search.naver.com/search.naver?where=news&sm=tab_pge&query=\"카카오페이\"&photo=0&field=0&pd=3&ds=2017.09.01&de=2017.10.01&cluster_rank=30&mynews=0&office_type=0&office_section_code=0&news_office_checked=&nso=so:r,p:from20190117to20200315,a:all&start=3201\n"
     ]
    },
    {
     "name": "stderr",
     "output_type": "stream",
     "text": [
      "  0%|                                                                                           | 0/80 [00:00<?, ?it/s]\n"
     ]
    },
    {
     "name": "stdout",
     "output_type": "stream",
     "text": [
      "https://search.naver.com/search.naver?where=news&sm=tab_pge&query=\"카카오페이\"&photo=0&field=0&pd=3&ds=2017.10.01&de=2017.11.01&cluster_rank=30&mynews=0&office_type=0&office_section_code=0&news_office_checked=&nso=so:r,p:from20190117to20200315,a:all&start=1\n"
     ]
    },
    {
     "name": "stderr",
     "output_type": "stream",
     "text": [
      "  0%|                                                                                           | 0/80 [00:00<?, ?it/s]\n"
     ]
    },
    {
     "name": "stdout",
     "output_type": "stream",
     "text": [
      "https://search.naver.com/search.naver?where=news&sm=tab_pge&query=\"카카오페이\"&photo=0&field=0&pd=3&ds=2017.10.01&de=2017.11.01&cluster_rank=30&mynews=0&office_type=0&office_section_code=0&news_office_checked=&nso=so:r,p:from20190117to20200315,a:all&start=801\n"
     ]
    },
    {
     "name": "stderr",
     "output_type": "stream",
     "text": [
      "  0%|                                                                                           | 0/80 [00:00<?, ?it/s]\n"
     ]
    },
    {
     "name": "stdout",
     "output_type": "stream",
     "text": [
      "https://search.naver.com/search.naver?where=news&sm=tab_pge&query=\"카카오페이\"&photo=0&field=0&pd=3&ds=2017.10.01&de=2017.11.01&cluster_rank=30&mynews=0&office_type=0&office_section_code=0&news_office_checked=&nso=so:r,p:from20190117to20200315,a:all&start=1601\n"
     ]
    },
    {
     "name": "stderr",
     "output_type": "stream",
     "text": [
      "  0%|                                                                                           | 0/80 [00:00<?, ?it/s]\n"
     ]
    },
    {
     "name": "stdout",
     "output_type": "stream",
     "text": [
      "https://search.naver.com/search.naver?where=news&sm=tab_pge&query=\"카카오페이\"&photo=0&field=0&pd=3&ds=2017.10.01&de=2017.11.01&cluster_rank=30&mynews=0&office_type=0&office_section_code=0&news_office_checked=&nso=so:r,p:from20190117to20200315,a:all&start=2401\n"
     ]
    },
    {
     "name": "stderr",
     "output_type": "stream",
     "text": [
      "  0%|                                                                                           | 0/80 [00:00<?, ?it/s]\n"
     ]
    },
    {
     "name": "stdout",
     "output_type": "stream",
     "text": [
      "https://search.naver.com/search.naver?where=news&sm=tab_pge&query=\"카카오페이\"&photo=0&field=0&pd=3&ds=2017.10.01&de=2017.11.01&cluster_rank=30&mynews=0&office_type=0&office_section_code=0&news_office_checked=&nso=so:r,p:from20190117to20200315,a:all&start=3201\n"
     ]
    },
    {
     "name": "stderr",
     "output_type": "stream",
     "text": [
      " 55%|█████████████████████████████████████████████                                     | 44/80 [03:29<02:51,  4.77s/it]\n"
     ]
    },
    {
     "name": "stdout",
     "output_type": "stream",
     "text": [
      "https://search.naver.com/search.naver?where=news&sm=tab_pge&query=\"카카오페이\"&photo=0&field=0&pd=3&ds=2017.11.01&de=2017.12.01&cluster_rank=30&mynews=0&office_type=0&office_section_code=0&news_office_checked=&nso=so:r,p:from20190117to20200315,a:all&start=441\n"
     ]
    },
    {
     "name": "stderr",
     "output_type": "stream",
     "text": [
      "  0%|                                                                                           | 0/80 [00:00<?, ?it/s]\n"
     ]
    },
    {
     "name": "stdout",
     "output_type": "stream",
     "text": [
      "https://search.naver.com/search.naver?where=news&sm=tab_pge&query=\"카카오페이\"&photo=0&field=0&pd=3&ds=2017.11.01&de=2017.12.01&cluster_rank=30&mynews=0&office_type=0&office_section_code=0&news_office_checked=&nso=so:r,p:from20190117to20200315,a:all&start=801\n"
     ]
    },
    {
     "name": "stderr",
     "output_type": "stream",
     "text": [
      "  0%|                                                                                           | 0/80 [00:00<?, ?it/s]\n"
     ]
    },
    {
     "name": "stdout",
     "output_type": "stream",
     "text": [
      "https://search.naver.com/search.naver?where=news&sm=tab_pge&query=\"카카오페이\"&photo=0&field=0&pd=3&ds=2017.11.01&de=2017.12.01&cluster_rank=30&mynews=0&office_type=0&office_section_code=0&news_office_checked=&nso=so:r,p:from20190117to20200315,a:all&start=1601\n"
     ]
    },
    {
     "name": "stderr",
     "output_type": "stream",
     "text": [
      "  0%|                                                                                           | 0/80 [00:00<?, ?it/s]\n"
     ]
    },
    {
     "name": "stdout",
     "output_type": "stream",
     "text": [
      "https://search.naver.com/search.naver?where=news&sm=tab_pge&query=\"카카오페이\"&photo=0&field=0&pd=3&ds=2017.11.01&de=2017.12.01&cluster_rank=30&mynews=0&office_type=0&office_section_code=0&news_office_checked=&nso=so:r,p:from20190117to20200315,a:all&start=2401\n"
     ]
    },
    {
     "name": "stderr",
     "output_type": "stream",
     "text": [
      "  0%|                                                                                           | 0/80 [00:00<?, ?it/s]\n"
     ]
    },
    {
     "name": "stdout",
     "output_type": "stream",
     "text": [
      "https://search.naver.com/search.naver?where=news&sm=tab_pge&query=\"카카오페이\"&photo=0&field=0&pd=3&ds=2017.11.01&de=2017.12.01&cluster_rank=30&mynews=0&office_type=0&office_section_code=0&news_office_checked=&nso=so:r,p:from20190117to20200315,a:all&start=3201\n"
     ]
    },
    {
     "name": "stderr",
     "output_type": "stream",
     "text": [
      " 35%|████████████████████████████▋                                                     | 28/80 [02:07<03:56,  4.56s/it]\n"
     ]
    },
    {
     "name": "stdout",
     "output_type": "stream",
     "text": [
      "https://search.naver.com/search.naver?where=news&sm=tab_pge&query=\"카카오페이\"&photo=0&field=0&pd=3&ds=2017.12.01&de=2017.12.31&cluster_rank=30&mynews=0&office_type=0&office_section_code=0&news_office_checked=&nso=so:r,p:from20190117to20200315,a:all&start=281\n"
     ]
    },
    {
     "name": "stderr",
     "output_type": "stream",
     "text": [
      "  0%|                                                                                           | 0/80 [00:00<?, ?it/s]\n"
     ]
    },
    {
     "name": "stdout",
     "output_type": "stream",
     "text": [
      "https://search.naver.com/search.naver?where=news&sm=tab_pge&query=\"카카오페이\"&photo=0&field=0&pd=3&ds=2017.12.01&de=2017.12.31&cluster_rank=30&mynews=0&office_type=0&office_section_code=0&news_office_checked=&nso=so:r,p:from20190117to20200315,a:all&start=801\n"
     ]
    },
    {
     "name": "stderr",
     "output_type": "stream",
     "text": [
      "  0%|                                                                                           | 0/80 [00:00<?, ?it/s]\n"
     ]
    },
    {
     "name": "stdout",
     "output_type": "stream",
     "text": [
      "https://search.naver.com/search.naver?where=news&sm=tab_pge&query=\"카카오페이\"&photo=0&field=0&pd=3&ds=2017.12.01&de=2017.12.31&cluster_rank=30&mynews=0&office_type=0&office_section_code=0&news_office_checked=&nso=so:r,p:from20190117to20200315,a:all&start=1601\n"
     ]
    },
    {
     "name": "stderr",
     "output_type": "stream",
     "text": [
      "  0%|                                                                                           | 0/80 [00:00<?, ?it/s]\n"
     ]
    },
    {
     "name": "stdout",
     "output_type": "stream",
     "text": [
      "https://search.naver.com/search.naver?where=news&sm=tab_pge&query=\"카카오페이\"&photo=0&field=0&pd=3&ds=2017.12.01&de=2017.12.31&cluster_rank=30&mynews=0&office_type=0&office_section_code=0&news_office_checked=&nso=so:r,p:from20190117to20200315,a:all&start=2401\n"
     ]
    },
    {
     "name": "stderr",
     "output_type": "stream",
     "text": [
      "  0%|                                                                                           | 0/80 [00:00<?, ?it/s]\n"
     ]
    },
    {
     "name": "stdout",
     "output_type": "stream",
     "text": [
      "https://search.naver.com/search.naver?where=news&sm=tab_pge&query=\"카카오페이\"&photo=0&field=0&pd=3&ds=2017.12.01&de=2017.12.31&cluster_rank=30&mynews=0&office_type=0&office_section_code=0&news_office_checked=&nso=so:r,p:from20190117to20200315,a:all&start=3201\n"
     ]
    },
    {
     "name": "stderr",
     "output_type": "stream",
     "text": [
      " 64%|████████████████████████████████████████████████████▎                             | 51/80 [03:39<02:05,  4.31s/it]\n"
     ]
    },
    {
     "name": "stdout",
     "output_type": "stream",
     "text": [
      "https://search.naver.com/search.naver?where=news&sm=tab_pge&query=\"카카오페이\"&photo=0&field=0&pd=3&ds=2018.01.01&de=2018.02.01&cluster_rank=30&mynews=0&office_type=0&office_section_code=0&news_office_checked=&nso=so:r,p:from20190117to20200315,a:all&start=511\n"
     ]
    },
    {
     "name": "stderr",
     "output_type": "stream",
     "text": [
      "  0%|                                                                                           | 0/80 [00:00<?, ?it/s]\n"
     ]
    },
    {
     "name": "stdout",
     "output_type": "stream",
     "text": [
      "https://search.naver.com/search.naver?where=news&sm=tab_pge&query=\"카카오페이\"&photo=0&field=0&pd=3&ds=2018.01.01&de=2018.02.01&cluster_rank=30&mynews=0&office_type=0&office_section_code=0&news_office_checked=&nso=so:r,p:from20190117to20200315,a:all&start=801\n"
     ]
    },
    {
     "name": "stderr",
     "output_type": "stream",
     "text": [
      "  0%|                                                                                           | 0/80 [00:00<?, ?it/s]\n"
     ]
    },
    {
     "name": "stdout",
     "output_type": "stream",
     "text": [
      "https://search.naver.com/search.naver?where=news&sm=tab_pge&query=\"카카오페이\"&photo=0&field=0&pd=3&ds=2018.01.01&de=2018.02.01&cluster_rank=30&mynews=0&office_type=0&office_section_code=0&news_office_checked=&nso=so:r,p:from20190117to20200315,a:all&start=1601\n"
     ]
    },
    {
     "name": "stderr",
     "output_type": "stream",
     "text": [
      "  0%|                                                                                           | 0/80 [00:00<?, ?it/s]\n"
     ]
    },
    {
     "name": "stdout",
     "output_type": "stream",
     "text": [
      "https://search.naver.com/search.naver?where=news&sm=tab_pge&query=\"카카오페이\"&photo=0&field=0&pd=3&ds=2018.01.01&de=2018.02.01&cluster_rank=30&mynews=0&office_type=0&office_section_code=0&news_office_checked=&nso=so:r,p:from20190117to20200315,a:all&start=2401\n"
     ]
    },
    {
     "name": "stderr",
     "output_type": "stream",
     "text": [
      "  0%|                                                                                           | 0/80 [00:00<?, ?it/s]\n"
     ]
    },
    {
     "name": "stdout",
     "output_type": "stream",
     "text": [
      "https://search.naver.com/search.naver?where=news&sm=tab_pge&query=\"카카오페이\"&photo=0&field=0&pd=3&ds=2018.01.01&de=2018.02.01&cluster_rank=30&mynews=0&office_type=0&office_section_code=0&news_office_checked=&nso=so:r,p:from20190117to20200315,a:all&start=3201\n"
     ]
    },
    {
     "name": "stderr",
     "output_type": "stream",
     "text": [
      " 48%|██████████████████████████████████████▉                                           | 38/80 [02:55<03:13,  4.61s/it]\n"
     ]
    },
    {
     "name": "stdout",
     "output_type": "stream",
     "text": [
      "https://search.naver.com/search.naver?where=news&sm=tab_pge&query=\"카카오페이\"&photo=0&field=0&pd=3&ds=2018.02.01&de=2018.03.01&cluster_rank=30&mynews=0&office_type=0&office_section_code=0&news_office_checked=&nso=so:r,p:from20190117to20200315,a:all&start=381\n"
     ]
    },
    {
     "name": "stderr",
     "output_type": "stream",
     "text": [
      "  0%|                                                                                           | 0/80 [00:00<?, ?it/s]\n"
     ]
    },
    {
     "name": "stdout",
     "output_type": "stream",
     "text": [
      "https://search.naver.com/search.naver?where=news&sm=tab_pge&query=\"카카오페이\"&photo=0&field=0&pd=3&ds=2018.02.01&de=2018.03.01&cluster_rank=30&mynews=0&office_type=0&office_section_code=0&news_office_checked=&nso=so:r,p:from20190117to20200315,a:all&start=801\n"
     ]
    },
    {
     "name": "stderr",
     "output_type": "stream",
     "text": [
      "  0%|                                                                                           | 0/80 [00:00<?, ?it/s]\n"
     ]
    },
    {
     "name": "stdout",
     "output_type": "stream",
     "text": [
      "https://search.naver.com/search.naver?where=news&sm=tab_pge&query=\"카카오페이\"&photo=0&field=0&pd=3&ds=2018.02.01&de=2018.03.01&cluster_rank=30&mynews=0&office_type=0&office_section_code=0&news_office_checked=&nso=so:r,p:from20190117to20200315,a:all&start=1601\n"
     ]
    },
    {
     "name": "stderr",
     "output_type": "stream",
     "text": [
      "  0%|                                                                                           | 0/80 [00:00<?, ?it/s]\n"
     ]
    },
    {
     "name": "stdout",
     "output_type": "stream",
     "text": [
      "https://search.naver.com/search.naver?where=news&sm=tab_pge&query=\"카카오페이\"&photo=0&field=0&pd=3&ds=2018.02.01&de=2018.03.01&cluster_rank=30&mynews=0&office_type=0&office_section_code=0&news_office_checked=&nso=so:r,p:from20190117to20200315,a:all&start=2401\n"
     ]
    },
    {
     "name": "stderr",
     "output_type": "stream",
     "text": [
      "  0%|                                                                                           | 0/80 [00:00<?, ?it/s]\n"
     ]
    },
    {
     "name": "stdout",
     "output_type": "stream",
     "text": [
      "https://search.naver.com/search.naver?where=news&sm=tab_pge&query=\"카카오페이\"&photo=0&field=0&pd=3&ds=2018.02.01&de=2018.03.01&cluster_rank=30&mynews=0&office_type=0&office_section_code=0&news_office_checked=&nso=so:r,p:from20190117to20200315,a:all&start=3201\n"
     ]
    },
    {
     "name": "stderr",
     "output_type": "stream",
     "text": [
      " 39%|███████████████████████████████▊                                                  | 31/80 [02:17<03:37,  4.43s/it]\n"
     ]
    },
    {
     "name": "stdout",
     "output_type": "stream",
     "text": [
      "https://search.naver.com/search.naver?where=news&sm=tab_pge&query=\"카카오페이\"&photo=0&field=0&pd=3&ds=2018.03.01&de=2018.04.01&cluster_rank=30&mynews=0&office_type=0&office_section_code=0&news_office_checked=&nso=so:r,p:from20190117to20200315,a:all&start=311\n"
     ]
    },
    {
     "name": "stderr",
     "output_type": "stream",
     "text": [
      "  0%|                                                                                           | 0/80 [00:00<?, ?it/s]\n"
     ]
    },
    {
     "name": "stdout",
     "output_type": "stream",
     "text": [
      "https://search.naver.com/search.naver?where=news&sm=tab_pge&query=\"카카오페이\"&photo=0&field=0&pd=3&ds=2018.03.01&de=2018.04.01&cluster_rank=30&mynews=0&office_type=0&office_section_code=0&news_office_checked=&nso=so:r,p:from20190117to20200315,a:all&start=801\n"
     ]
    },
    {
     "name": "stderr",
     "output_type": "stream",
     "text": [
      "  0%|                                                                                           | 0/80 [00:00<?, ?it/s]\n"
     ]
    },
    {
     "name": "stdout",
     "output_type": "stream",
     "text": [
      "https://search.naver.com/search.naver?where=news&sm=tab_pge&query=\"카카오페이\"&photo=0&field=0&pd=3&ds=2018.03.01&de=2018.04.01&cluster_rank=30&mynews=0&office_type=0&office_section_code=0&news_office_checked=&nso=so:r,p:from20190117to20200315,a:all&start=1601\n"
     ]
    },
    {
     "name": "stderr",
     "output_type": "stream",
     "text": [
      "  0%|                                                                                           | 0/80 [00:00<?, ?it/s]\n"
     ]
    },
    {
     "name": "stdout",
     "output_type": "stream",
     "text": [
      "https://search.naver.com/search.naver?where=news&sm=tab_pge&query=\"카카오페이\"&photo=0&field=0&pd=3&ds=2018.03.01&de=2018.04.01&cluster_rank=30&mynews=0&office_type=0&office_section_code=0&news_office_checked=&nso=so:r,p:from20190117to20200315,a:all&start=2401\n"
     ]
    },
    {
     "name": "stderr",
     "output_type": "stream",
     "text": [
      "  0%|                                                                                           | 0/80 [00:00<?, ?it/s]\n"
     ]
    },
    {
     "name": "stdout",
     "output_type": "stream",
     "text": [
      "https://search.naver.com/search.naver?where=news&sm=tab_pge&query=\"카카오페이\"&photo=0&field=0&pd=3&ds=2018.03.01&de=2018.04.01&cluster_rank=30&mynews=0&office_type=0&office_section_code=0&news_office_checked=&nso=so:r,p:from20190117to20200315,a:all&start=3201\n"
     ]
    },
    {
     "name": "stderr",
     "output_type": "stream",
     "text": [
      " 92%|███████████████████████████████████████████████████████████████████████████▊      | 74/80 [04:53<00:23,  3.97s/it]\n"
     ]
    },
    {
     "name": "stdout",
     "output_type": "stream",
     "text": [
      "https://search.naver.com/search.naver?where=news&sm=tab_pge&query=\"카카오페이\"&photo=0&field=0&pd=3&ds=2018.04.01&de=2018.05.01&cluster_rank=30&mynews=0&office_type=0&office_section_code=0&news_office_checked=&nso=so:r,p:from20190117to20200315,a:all&start=741\n"
     ]
    },
    {
     "name": "stderr",
     "output_type": "stream",
     "text": [
      "  0%|                                                                                           | 0/80 [00:00<?, ?it/s]\n"
     ]
    },
    {
     "name": "stdout",
     "output_type": "stream",
     "text": [
      "https://search.naver.com/search.naver?where=news&sm=tab_pge&query=\"카카오페이\"&photo=0&field=0&pd=3&ds=2018.04.01&de=2018.05.01&cluster_rank=30&mynews=0&office_type=0&office_section_code=0&news_office_checked=&nso=so:r,p:from20190117to20200315,a:all&start=801\n"
     ]
    },
    {
     "name": "stderr",
     "output_type": "stream",
     "text": [
      "  0%|                                                                                           | 0/80 [00:00<?, ?it/s]\n"
     ]
    },
    {
     "name": "stdout",
     "output_type": "stream",
     "text": [
      "https://search.naver.com/search.naver?where=news&sm=tab_pge&query=\"카카오페이\"&photo=0&field=0&pd=3&ds=2018.04.01&de=2018.05.01&cluster_rank=30&mynews=0&office_type=0&office_section_code=0&news_office_checked=&nso=so:r,p:from20190117to20200315,a:all&start=1601\n"
     ]
    },
    {
     "name": "stderr",
     "output_type": "stream",
     "text": [
      "  0%|                                                                                           | 0/80 [00:00<?, ?it/s]\n"
     ]
    },
    {
     "name": "stdout",
     "output_type": "stream",
     "text": [
      "https://search.naver.com/search.naver?where=news&sm=tab_pge&query=\"카카오페이\"&photo=0&field=0&pd=3&ds=2018.04.01&de=2018.05.01&cluster_rank=30&mynews=0&office_type=0&office_section_code=0&news_office_checked=&nso=so:r,p:from20190117to20200315,a:all&start=2401\n"
     ]
    },
    {
     "name": "stderr",
     "output_type": "stream",
     "text": [
      "  0%|                                                                                           | 0/80 [00:00<?, ?it/s]\n"
     ]
    },
    {
     "name": "stdout",
     "output_type": "stream",
     "text": [
      "https://search.naver.com/search.naver?where=news&sm=tab_pge&query=\"카카오페이\"&photo=0&field=0&pd=3&ds=2018.04.01&de=2018.05.01&cluster_rank=30&mynews=0&office_type=0&office_section_code=0&news_office_checked=&nso=so:r,p:from20190117to20200315,a:all&start=3201\n"
     ]
    },
    {
     "name": "stderr",
     "output_type": "stream",
     "text": [
      " 90%|█████████████████████████████████████████████████████████████████████████▊        | 72/80 [04:47<00:31,  3.99s/it]\n"
     ]
    },
    {
     "name": "stdout",
     "output_type": "stream",
     "text": [
      "https://search.naver.com/search.naver?where=news&sm=tab_pge&query=\"카카오페이\"&photo=0&field=0&pd=3&ds=2018.05.01&de=2018.06.01&cluster_rank=30&mynews=0&office_type=0&office_section_code=0&news_office_checked=&nso=so:r,p:from20190117to20200315,a:all&start=721\n"
     ]
    },
    {
     "name": "stderr",
     "output_type": "stream",
     "text": [
      "  0%|                                                                                           | 0/80 [00:00<?, ?it/s]\n"
     ]
    },
    {
     "name": "stdout",
     "output_type": "stream",
     "text": [
      "https://search.naver.com/search.naver?where=news&sm=tab_pge&query=\"카카오페이\"&photo=0&field=0&pd=3&ds=2018.05.01&de=2018.06.01&cluster_rank=30&mynews=0&office_type=0&office_section_code=0&news_office_checked=&nso=so:r,p:from20190117to20200315,a:all&start=801\n"
     ]
    },
    {
     "name": "stderr",
     "output_type": "stream",
     "text": [
      "  0%|                                                                                           | 0/80 [00:00<?, ?it/s]\n"
     ]
    },
    {
     "name": "stdout",
     "output_type": "stream",
     "text": [
      "https://search.naver.com/search.naver?where=news&sm=tab_pge&query=\"카카오페이\"&photo=0&field=0&pd=3&ds=2018.05.01&de=2018.06.01&cluster_rank=30&mynews=0&office_type=0&office_section_code=0&news_office_checked=&nso=so:r,p:from20190117to20200315,a:all&start=1601\n"
     ]
    },
    {
     "name": "stderr",
     "output_type": "stream",
     "text": [
      "  0%|                                                                                           | 0/80 [00:00<?, ?it/s]\n"
     ]
    },
    {
     "name": "stdout",
     "output_type": "stream",
     "text": [
      "https://search.naver.com/search.naver?where=news&sm=tab_pge&query=\"카카오페이\"&photo=0&field=0&pd=3&ds=2018.05.01&de=2018.06.01&cluster_rank=30&mynews=0&office_type=0&office_section_code=0&news_office_checked=&nso=so:r,p:from20190117to20200315,a:all&start=2401\n"
     ]
    },
    {
     "name": "stderr",
     "output_type": "stream",
     "text": [
      "  0%|                                                                                           | 0/80 [00:00<?, ?it/s]\n"
     ]
    },
    {
     "name": "stdout",
     "output_type": "stream",
     "text": [
      "https://search.naver.com/search.naver?where=news&sm=tab_pge&query=\"카카오페이\"&photo=0&field=0&pd=3&ds=2018.05.01&de=2018.06.01&cluster_rank=30&mynews=0&office_type=0&office_section_code=0&news_office_checked=&nso=so:r,p:from20190117to20200315,a:all&start=3201\n"
     ]
    },
    {
     "name": "stderr",
     "output_type": "stream",
     "text": [
      " 59%|████████████████████████████████████████████████▏                                 | 47/80 [03:17<02:18,  4.21s/it]\n"
     ]
    },
    {
     "name": "stdout",
     "output_type": "stream",
     "text": [
      "https://search.naver.com/search.naver?where=news&sm=tab_pge&query=\"카카오페이\"&photo=0&field=0&pd=3&ds=2018.06.01&de=2018.07.01&cluster_rank=30&mynews=0&office_type=0&office_section_code=0&news_office_checked=&nso=so:r,p:from20190117to20200315,a:all&start=471\n"
     ]
    },
    {
     "name": "stderr",
     "output_type": "stream",
     "text": [
      "  0%|                                                                                           | 0/80 [00:00<?, ?it/s]\n"
     ]
    },
    {
     "name": "stdout",
     "output_type": "stream",
     "text": [
      "https://search.naver.com/search.naver?where=news&sm=tab_pge&query=\"카카오페이\"&photo=0&field=0&pd=3&ds=2018.06.01&de=2018.07.01&cluster_rank=30&mynews=0&office_type=0&office_section_code=0&news_office_checked=&nso=so:r,p:from20190117to20200315,a:all&start=801\n"
     ]
    },
    {
     "name": "stderr",
     "output_type": "stream",
     "text": [
      "  0%|                                                                                           | 0/80 [00:00<?, ?it/s]\n"
     ]
    },
    {
     "name": "stdout",
     "output_type": "stream",
     "text": [
      "https://search.naver.com/search.naver?where=news&sm=tab_pge&query=\"카카오페이\"&photo=0&field=0&pd=3&ds=2018.06.01&de=2018.07.01&cluster_rank=30&mynews=0&office_type=0&office_section_code=0&news_office_checked=&nso=so:r,p:from20190117to20200315,a:all&start=1601\n"
     ]
    },
    {
     "name": "stderr",
     "output_type": "stream",
     "text": [
      "  0%|                                                                                           | 0/80 [00:00<?, ?it/s]\n"
     ]
    },
    {
     "name": "stdout",
     "output_type": "stream",
     "text": [
      "https://search.naver.com/search.naver?where=news&sm=tab_pge&query=\"카카오페이\"&photo=0&field=0&pd=3&ds=2018.06.01&de=2018.07.01&cluster_rank=30&mynews=0&office_type=0&office_section_code=0&news_office_checked=&nso=so:r,p:from20190117to20200315,a:all&start=2401\n"
     ]
    },
    {
     "name": "stderr",
     "output_type": "stream",
     "text": [
      "  0%|                                                                                           | 0/80 [00:00<?, ?it/s]\n"
     ]
    },
    {
     "name": "stdout",
     "output_type": "stream",
     "text": [
      "https://search.naver.com/search.naver?where=news&sm=tab_pge&query=\"카카오페이\"&photo=0&field=0&pd=3&ds=2018.06.01&de=2018.07.01&cluster_rank=30&mynews=0&office_type=0&office_section_code=0&news_office_checked=&nso=so:r,p:from20190117to20200315,a:all&start=3201\n"
     ]
    },
    {
     "name": "stderr",
     "output_type": "stream",
     "text": [
      "100%|██████████████████████████████████████████████████████████████████████████████████| 80/80 [06:07<00:00,  4.59s/it]\n",
      "  6%|█████▏                                                                             | 5/80 [00:09<02:18,  1.85s/it]\n"
     ]
    },
    {
     "name": "stdout",
     "output_type": "stream",
     "text": [
      "https://search.naver.com/search.naver?where=news&sm=tab_pge&query=\"카카오페이\"&photo=0&field=0&pd=3&ds=2018.07.01&de=2018.08.01&cluster_rank=30&mynews=0&office_type=0&office_section_code=0&news_office_checked=&nso=so:r,p:from20190117to20200315,a:all&start=851\n"
     ]
    },
    {
     "name": "stderr",
     "output_type": "stream",
     "text": [
      "  0%|                                                                                           | 0/80 [00:00<?, ?it/s]\n"
     ]
    },
    {
     "name": "stdout",
     "output_type": "stream",
     "text": [
      "https://search.naver.com/search.naver?where=news&sm=tab_pge&query=\"카카오페이\"&photo=0&field=0&pd=3&ds=2018.07.01&de=2018.08.01&cluster_rank=30&mynews=0&office_type=0&office_section_code=0&news_office_checked=&nso=so:r,p:from20190117to20200315,a:all&start=1601\n"
     ]
    },
    {
     "name": "stderr",
     "output_type": "stream",
     "text": [
      "  0%|                                                                                           | 0/80 [00:00<?, ?it/s]\n"
     ]
    },
    {
     "name": "stdout",
     "output_type": "stream",
     "text": [
      "https://search.naver.com/search.naver?where=news&sm=tab_pge&query=\"카카오페이\"&photo=0&field=0&pd=3&ds=2018.07.01&de=2018.08.01&cluster_rank=30&mynews=0&office_type=0&office_section_code=0&news_office_checked=&nso=so:r,p:from20190117to20200315,a:all&start=2401\n"
     ]
    },
    {
     "name": "stderr",
     "output_type": "stream",
     "text": [
      "  0%|                                                                                           | 0/80 [00:00<?, ?it/s]\n"
     ]
    },
    {
     "name": "stdout",
     "output_type": "stream",
     "text": [
      "https://search.naver.com/search.naver?where=news&sm=tab_pge&query=\"카카오페이\"&photo=0&field=0&pd=3&ds=2018.07.01&de=2018.08.01&cluster_rank=30&mynews=0&office_type=0&office_section_code=0&news_office_checked=&nso=so:r,p:from20190117to20200315,a:all&start=3201\n"
     ]
    },
    {
     "name": "stderr",
     "output_type": "stream",
     "text": [
      "100%|██████████████████████████████████████████████████████████████████████████████████| 80/80 [05:35<00:00,  4.20s/it]\n",
      " 18%|██████████████▎                                                                   | 14/80 [00:46<03:39,  3.33s/it]\n"
     ]
    },
    {
     "name": "stdout",
     "output_type": "stream",
     "text": [
      "https://search.naver.com/search.naver?where=news&sm=tab_pge&query=\"카카오페이\"&photo=0&field=0&pd=3&ds=2018.08.01&de=2018.09.01&cluster_rank=30&mynews=0&office_type=0&office_section_code=0&news_office_checked=&nso=so:r,p:from20190117to20200315,a:all&start=941\n"
     ]
    },
    {
     "name": "stderr",
     "output_type": "stream",
     "text": [
      "  0%|                                                                                           | 0/80 [00:00<?, ?it/s]"
     ]
    },
    {
     "name": "stdout",
     "output_type": "stream",
     "text": [
      "https://search.naver.com/search.naver?where=news&sm=tab_pge&query=\"카카오페이\"&photo=0&field=0&pd=3&ds=2018.08.01&de=2018.09.01&cluster_rank=30&mynews=0&office_type=0&office_section_code=0&news_office_checked=&nso=so:r,p:from20190117to20200315,a:all&start=1601"
     ]
    },
    {
     "name": "stderr",
     "output_type": "stream",
     "text": [
      "  0%|                                                                                           | 0/80 [00:00<?, ?it/s]\n"
     ]
    },
    {
     "name": "stdout",
     "output_type": "stream",
     "text": [
      "\n"
     ]
    },
    {
     "name": "stderr",
     "output_type": "stream",
     "text": [
      "  0%|                                                                                           | 0/80 [00:00<?, ?it/s]\n"
     ]
    },
    {
     "name": "stdout",
     "output_type": "stream",
     "text": [
      "https://search.naver.com/search.naver?where=news&sm=tab_pge&query=\"카카오페이\"&photo=0&field=0&pd=3&ds=2018.08.01&de=2018.09.01&cluster_rank=30&mynews=0&office_type=0&office_section_code=0&news_office_checked=&nso=so:r,p:from20190117to20200315,a:all&start=2401\n"
     ]
    },
    {
     "name": "stderr",
     "output_type": "stream",
     "text": [
      "  0%|                                                                                           | 0/80 [00:00<?, ?it/s]\n"
     ]
    },
    {
     "name": "stdout",
     "output_type": "stream",
     "text": [
      "https://search.naver.com/search.naver?where=news&sm=tab_pge&query=\"카카오페이\"&photo=0&field=0&pd=3&ds=2018.08.01&de=2018.09.01&cluster_rank=30&mynews=0&office_type=0&office_section_code=0&news_office_checked=&nso=so:r,p:from20190117to20200315,a:all&start=3201\n"
     ]
    },
    {
     "name": "stderr",
     "output_type": "stream",
     "text": [
      " 85%|█████████████████████████████████████████████████████████████████████▋            | 68/80 [04:25<00:46,  3.90s/it]\n"
     ]
    },
    {
     "name": "stdout",
     "output_type": "stream",
     "text": [
      "https://search.naver.com/search.naver?where=news&sm=tab_pge&query=\"카카오페이\"&photo=0&field=0&pd=3&ds=2018.09.01&de=2018.10.01&cluster_rank=30&mynews=0&office_type=0&office_section_code=0&news_office_checked=&nso=so:r,p:from20190117to20200315,a:all&start=681\n"
     ]
    },
    {
     "name": "stderr",
     "output_type": "stream",
     "text": [
      "  0%|                                                                                           | 0/80 [00:00<?, ?it/s]\n"
     ]
    },
    {
     "name": "stdout",
     "output_type": "stream",
     "text": [
      "https://search.naver.com/search.naver?where=news&sm=tab_pge&query=\"카카오페이\"&photo=0&field=0&pd=3&ds=2018.09.01&de=2018.10.01&cluster_rank=30&mynews=0&office_type=0&office_section_code=0&news_office_checked=&nso=so:r,p:from20190117to20200315,a:all&start=801\n"
     ]
    },
    {
     "name": "stderr",
     "output_type": "stream",
     "text": [
      "  0%|                                                                                           | 0/80 [00:00<?, ?it/s]\n"
     ]
    },
    {
     "name": "stdout",
     "output_type": "stream",
     "text": [
      "https://search.naver.com/search.naver?where=news&sm=tab_pge&query=\"카카오페이\"&photo=0&field=0&pd=3&ds=2018.09.01&de=2018.10.01&cluster_rank=30&mynews=0&office_type=0&office_section_code=0&news_office_checked=&nso=so:r,p:from20190117to20200315,a:all&start=1601\n"
     ]
    },
    {
     "name": "stderr",
     "output_type": "stream",
     "text": [
      "  0%|                                                                                           | 0/80 [00:00<?, ?it/s]\n"
     ]
    },
    {
     "name": "stdout",
     "output_type": "stream",
     "text": [
      "https://search.naver.com/search.naver?where=news&sm=tab_pge&query=\"카카오페이\"&photo=0&field=0&pd=3&ds=2018.09.01&de=2018.10.01&cluster_rank=30&mynews=0&office_type=0&office_section_code=0&news_office_checked=&nso=so:r,p:from20190117to20200315,a:all&start=2401\n"
     ]
    },
    {
     "name": "stderr",
     "output_type": "stream",
     "text": [
      "  0%|                                                                                           | 0/80 [00:00<?, ?it/s]\n"
     ]
    },
    {
     "name": "stdout",
     "output_type": "stream",
     "text": [
      "https://search.naver.com/search.naver?where=news&sm=tab_pge&query=\"카카오페이\"&photo=0&field=0&pd=3&ds=2018.09.01&de=2018.10.01&cluster_rank=30&mynews=0&office_type=0&office_section_code=0&news_office_checked=&nso=so:r,p:from20190117to20200315,a:all&start=3201\n"
     ]
    },
    {
     "name": "stderr",
     "output_type": "stream",
     "text": [
      " 91%|██████████████████████████████████████████████████████████████████████████▊       | 73/80 [04:52<00:28,  4.01s/it]\n"
     ]
    },
    {
     "name": "stdout",
     "output_type": "stream",
     "text": [
      "https://search.naver.com/search.naver?where=news&sm=tab_pge&query=\"카카오페이\"&photo=0&field=0&pd=3&ds=2018.10.01&de=2018.11.01&cluster_rank=30&mynews=0&office_type=0&office_section_code=0&news_office_checked=&nso=so:r,p:from20190117to20200315,a:all&start=731\n"
     ]
    },
    {
     "name": "stderr",
     "output_type": "stream",
     "text": [
      "  0%|                                                                                           | 0/80 [00:00<?, ?it/s]\n"
     ]
    },
    {
     "name": "stdout",
     "output_type": "stream",
     "text": [
      "https://search.naver.com/search.naver?where=news&sm=tab_pge&query=\"카카오페이\"&photo=0&field=0&pd=3&ds=2018.10.01&de=2018.11.01&cluster_rank=30&mynews=0&office_type=0&office_section_code=0&news_office_checked=&nso=so:r,p:from20190117to20200315,a:all&start=801\n"
     ]
    },
    {
     "name": "stderr",
     "output_type": "stream",
     "text": [
      "  0%|                                                                                           | 0/80 [00:00<?, ?it/s]\n"
     ]
    },
    {
     "name": "stdout",
     "output_type": "stream",
     "text": [
      "https://search.naver.com/search.naver?where=news&sm=tab_pge&query=\"카카오페이\"&photo=0&field=0&pd=3&ds=2018.10.01&de=2018.11.01&cluster_rank=30&mynews=0&office_type=0&office_section_code=0&news_office_checked=&nso=so:r,p:from20190117to20200315,a:all&start=1601\n"
     ]
    },
    {
     "name": "stderr",
     "output_type": "stream",
     "text": [
      "  0%|                                                                                           | 0/80 [00:00<?, ?it/s]\n"
     ]
    },
    {
     "name": "stdout",
     "output_type": "stream",
     "text": [
      "https://search.naver.com/search.naver?where=news&sm=tab_pge&query=\"카카오페이\"&photo=0&field=0&pd=3&ds=2018.10.01&de=2018.11.01&cluster_rank=30&mynews=0&office_type=0&office_section_code=0&news_office_checked=&nso=so:r,p:from20190117to20200315,a:all&start=2401\n"
     ]
    },
    {
     "name": "stderr",
     "output_type": "stream",
     "text": [
      "  0%|                                                                                           | 0/80 [00:00<?, ?it/s]\n"
     ]
    },
    {
     "name": "stdout",
     "output_type": "stream",
     "text": [
      "https://search.naver.com/search.naver?where=news&sm=tab_pge&query=\"카카오페이\"&photo=0&field=0&pd=3&ds=2018.10.01&de=2018.11.01&cluster_rank=30&mynews=0&office_type=0&office_section_code=0&news_office_checked=&nso=so:r,p:from20190117to20200315,a:all&start=3201\n"
     ]
    },
    {
     "name": "stderr",
     "output_type": "stream",
     "text": [
      "100%|██████████████████████████████████████████████████████████████████████████████████| 80/80 [05:42<00:00,  4.28s/it]\n",
      " 42%|██████████████████████████████████▊                                               | 34/80 [01:56<02:37,  3.43s/it]\n"
     ]
    },
    {
     "name": "stdout",
     "output_type": "stream",
     "text": [
      "https://search.naver.com/search.naver?where=news&sm=tab_pge&query=\"카카오페이\"&photo=0&field=0&pd=3&ds=2018.11.01&de=2018.12.01&cluster_rank=30&mynews=0&office_type=0&office_section_code=0&news_office_checked=&nso=so:r,p:from20190117to20200315,a:all&start=1141\n"
     ]
    },
    {
     "name": "stderr",
     "output_type": "stream",
     "text": [
      "  0%|                                                                                           | 0/80 [00:00<?, ?it/s]\n"
     ]
    },
    {
     "name": "stdout",
     "output_type": "stream",
     "text": [
      "https://search.naver.com/search.naver?where=news&sm=tab_pge&query=\"카카오페이\"&photo=0&field=0&pd=3&ds=2018.11.01&de=2018.12.01&cluster_rank=30&mynews=0&office_type=0&office_section_code=0&news_office_checked=&nso=so:r,p:from20190117to20200315,a:all&start=1601\n"
     ]
    },
    {
     "name": "stderr",
     "output_type": "stream",
     "text": [
      "  0%|                                                                                           | 0/80 [00:00<?, ?it/s]\n"
     ]
    },
    {
     "name": "stdout",
     "output_type": "stream",
     "text": [
      "https://search.naver.com/search.naver?where=news&sm=tab_pge&query=\"카카오페이\"&photo=0&field=0&pd=3&ds=2018.11.01&de=2018.12.01&cluster_rank=30&mynews=0&office_type=0&office_section_code=0&news_office_checked=&nso=so:r,p:from20190117to20200315,a:all&start=2401\n"
     ]
    },
    {
     "name": "stderr",
     "output_type": "stream",
     "text": [
      "  0%|                                                                                           | 0/80 [00:00<?, ?it/s]\n"
     ]
    },
    {
     "name": "stdout",
     "output_type": "stream",
     "text": [
      "https://search.naver.com/search.naver?where=news&sm=tab_pge&query=\"카카오페이\"&photo=0&field=0&pd=3&ds=2018.11.01&de=2018.12.01&cluster_rank=30&mynews=0&office_type=0&office_section_code=0&news_office_checked=&nso=so:r,p:from20190117to20200315,a:all&start=3201\n"
     ]
    },
    {
     "name": "stderr",
     "output_type": "stream",
     "text": [
      " 91%|██████████████████████████████████████████████████████████████████████████▊       | 73/80 [05:25<00:31,  4.46s/it]\n"
     ]
    },
    {
     "name": "stdout",
     "output_type": "stream",
     "text": [
      "https://search.naver.com/search.naver?where=news&sm=tab_pge&query=\"카카오페이\"&photo=0&field=0&pd=3&ds=2018.12.01&de=2018.12.31&cluster_rank=30&mynews=0&office_type=0&office_section_code=0&news_office_checked=&nso=so:r,p:from20190117to20200315,a:all&start=731\n"
     ]
    },
    {
     "name": "stderr",
     "output_type": "stream",
     "text": [
      " 40%|████████████████████████████████▊                                                 | 32/80 [01:41<02:32,  3.19s/it]\n"
     ]
    },
    {
     "name": "stdout",
     "output_type": "stream",
     "text": [
      "https://search.naver.com/search.naver?where=news&sm=tab_pge&query=\"카카오페이\"&photo=0&field=0&pd=3&ds=2018.12.01&de=2018.12.31&cluster_rank=30&mynews=0&office_type=0&office_section_code=0&news_office_checked=&nso=so:r,p:from20190117to20200315,a:all&start=1121\n"
     ]
    },
    {
     "name": "stderr",
     "output_type": "stream",
     "text": [
      "  0%|                                                                                           | 0/80 [00:00<?, ?it/s]\n"
     ]
    },
    {
     "name": "stdout",
     "output_type": "stream",
     "text": [
      "https://search.naver.com/search.naver?where=news&sm=tab_pge&query=\"카카오페이\"&photo=0&field=0&pd=3&ds=2018.12.01&de=2018.12.31&cluster_rank=30&mynews=0&office_type=0&office_section_code=0&news_office_checked=&nso=so:r,p:from20190117to20200315,a:all&start=1601\n"
     ]
    },
    {
     "name": "stderr",
     "output_type": "stream",
     "text": [
      "  0%|                                                                                           | 0/80 [00:00<?, ?it/s]\n"
     ]
    },
    {
     "name": "stdout",
     "output_type": "stream",
     "text": [
      "https://search.naver.com/search.naver?where=news&sm=tab_pge&query=\"카카오페이\"&photo=0&field=0&pd=3&ds=2018.12.01&de=2018.12.31&cluster_rank=30&mynews=0&office_type=0&office_section_code=0&news_office_checked=&nso=so:r,p:from20190117to20200315,a:all&start=2401\n"
     ]
    },
    {
     "name": "stderr",
     "output_type": "stream",
     "text": [
      "  0%|                                                                                           | 0/80 [00:00<?, ?it/s]\n"
     ]
    },
    {
     "name": "stdout",
     "output_type": "stream",
     "text": [
      "https://search.naver.com/search.naver?where=news&sm=tab_pge&query=\"카카오페이\"&photo=0&field=0&pd=3&ds=2018.12.01&de=2018.12.31&cluster_rank=30&mynews=0&office_type=0&office_section_code=0&news_office_checked=&nso=so:r,p:from20190117to20200315,a:all&start=3201\n"
     ]
    },
    {
     "name": "stderr",
     "output_type": "stream",
     "text": [
      "100%|██████████████████████████████████████████████████████████████████████████████████| 80/80 [05:37<00:00,  4.21s/it]\n",
      " 75%|█████████████████████████████████████████████████████████████▌                    | 60/80 [03:43<01:14,  3.73s/it]\n"
     ]
    },
    {
     "name": "stdout",
     "output_type": "stream",
     "text": [
      "https://search.naver.com/search.naver?where=news&sm=tab_pge&query=\"카카오페이\"&photo=0&field=0&pd=3&ds=2019.01.01&de=2019.02.01&cluster_rank=30&mynews=0&office_type=0&office_section_code=0&news_office_checked=&nso=so:r,p:from20190117to20200315,a:all&start=1401\n"
     ]
    },
    {
     "name": "stderr",
     "output_type": "stream",
     "text": [
      "  0%|                                                                                           | 0/80 [00:00<?, ?it/s]\n"
     ]
    },
    {
     "name": "stdout",
     "output_type": "stream",
     "text": [
      "https://search.naver.com/search.naver?where=news&sm=tab_pge&query=\"카카오페이\"&photo=0&field=0&pd=3&ds=2019.01.01&de=2019.02.01&cluster_rank=30&mynews=0&office_type=0&office_section_code=0&news_office_checked=&nso=so:r,p:from20190117to20200315,a:all&start=1601\n"
     ]
    },
    {
     "name": "stderr",
     "output_type": "stream",
     "text": [
      "  0%|                                                                                           | 0/80 [00:00<?, ?it/s]\n"
     ]
    },
    {
     "name": "stdout",
     "output_type": "stream",
     "text": [
      "https://search.naver.com/search.naver?where=news&sm=tab_pge&query=\"카카오페이\"&photo=0&field=0&pd=3&ds=2019.01.01&de=2019.02.01&cluster_rank=30&mynews=0&office_type=0&office_section_code=0&news_office_checked=&nso=so:r,p:from20190117to20200315,a:all&start=2401\n"
     ]
    },
    {
     "name": "stderr",
     "output_type": "stream",
     "text": [
      "  0%|                                                                                           | 0/80 [00:00<?, ?it/s]\n"
     ]
    },
    {
     "name": "stdout",
     "output_type": "stream",
     "text": [
      "https://search.naver.com/search.naver?where=news&sm=tab_pge&query=\"카카오페이\"&photo=0&field=0&pd=3&ds=2019.01.01&de=2019.02.01&cluster_rank=30&mynews=0&office_type=0&office_section_code=0&news_office_checked=&nso=so:r,p:from20190117to20200315,a:all&start=3201\n"
     ]
    },
    {
     "name": "stderr",
     "output_type": "stream",
     "text": [
      "100%|██████████████████████████████████████████████████████████████████████████████████| 80/80 [05:54<00:00,  4.43s/it]\n",
      "  9%|███████▎                                                                           | 7/80 [00:16<02:46,  2.29s/it]\n"
     ]
    },
    {
     "name": "stdout",
     "output_type": "stream",
     "text": [
      "https://search.naver.com/search.naver?where=news&sm=tab_pge&query=\"카카오페이\"&photo=0&field=0&pd=3&ds=2019.02.01&de=2019.03.01&cluster_rank=30&mynews=0&office_type=0&office_section_code=0&news_office_checked=&nso=so:r,p:from20190117to20200315,a:all&start=871\n"
     ]
    },
    {
     "name": "stderr",
     "output_type": "stream",
     "text": [
      "  0%|                                                                                           | 0/80 [00:00<?, ?it/s]\n"
     ]
    },
    {
     "name": "stdout",
     "output_type": "stream",
     "text": [
      "https://search.naver.com/search.naver?where=news&sm=tab_pge&query=\"카카오페이\"&photo=0&field=0&pd=3&ds=2019.02.01&de=2019.03.01&cluster_rank=30&mynews=0&office_type=0&office_section_code=0&news_office_checked=&nso=so:r,p:from20190117to20200315,a:all&start=1601\n"
     ]
    },
    {
     "name": "stderr",
     "output_type": "stream",
     "text": [
      "  0%|                                                                                           | 0/80 [00:00<?, ?it/s]\n"
     ]
    },
    {
     "name": "stdout",
     "output_type": "stream",
     "text": [
      "https://search.naver.com/search.naver?where=news&sm=tab_pge&query=\"카카오페이\"&photo=0&field=0&pd=3&ds=2019.02.01&de=2019.03.01&cluster_rank=30&mynews=0&office_type=0&office_section_code=0&news_office_checked=&nso=so:r,p:from20190117to20200315,a:all&start=2401\n"
     ]
    },
    {
     "name": "stderr",
     "output_type": "stream",
     "text": [
      "  0%|                                                                                           | 0/80 [00:00<?, ?it/s]\n"
     ]
    },
    {
     "name": "stdout",
     "output_type": "stream",
     "text": [
      "https://search.naver.com/search.naver?where=news&sm=tab_pge&query=\"카카오페이\"&photo=0&field=0&pd=3&ds=2019.02.01&de=2019.03.01&cluster_rank=30&mynews=0&office_type=0&office_section_code=0&news_office_checked=&nso=so:r,p:from20190117to20200315,a:all&start=3201\n"
     ]
    },
    {
     "name": "stderr",
     "output_type": "stream",
     "text": [
      " 98%|███████████████████████████████████████████████████████████████████████████████▉  | 78/80 [04:25<00:06,  3.40s/it]\n"
     ]
    },
    {
     "name": "stdout",
     "output_type": "stream",
     "text": [
      "https://search.naver.com/search.naver?where=news&sm=tab_pge&query=\"카카오페이\"&photo=0&field=0&pd=3&ds=2019.03.01&de=2019.04.01&cluster_rank=30&mynews=0&office_type=0&office_section_code=0&news_office_checked=&nso=so:r,p:from20190117to20200315,a:all&start=781\n"
     ]
    },
    {
     "name": "stderr",
     "output_type": "stream",
     "text": [
      "  0%|                                                                                           | 0/80 [00:00<?, ?it/s]\n"
     ]
    },
    {
     "name": "stdout",
     "output_type": "stream",
     "text": [
      "https://search.naver.com/search.naver?where=news&sm=tab_pge&query=\"카카오페이\"&photo=0&field=0&pd=3&ds=2019.03.01&de=2019.04.01&cluster_rank=30&mynews=0&office_type=0&office_section_code=0&news_office_checked=&nso=so:r,p:from20190117to20200315,a:all&start=801\n"
     ]
    },
    {
     "name": "stderr",
     "output_type": "stream",
     "text": [
      "  0%|                                                                                           | 0/80 [00:00<?, ?it/s]\n"
     ]
    },
    {
     "name": "stdout",
     "output_type": "stream",
     "text": [
      "https://search.naver.com/search.naver?where=news&sm=tab_pge&query=\"카카오페이\"&photo=0&field=0&pd=3&ds=2019.03.01&de=2019.04.01&cluster_rank=30&mynews=0&office_type=0&office_section_code=0&news_office_checked=&nso=so:r,p:from20190117to20200315,a:all&start=1601\n"
     ]
    },
    {
     "name": "stderr",
     "output_type": "stream",
     "text": [
      "  0%|                                                                                           | 0/80 [00:00<?, ?it/s]\n"
     ]
    },
    {
     "name": "stdout",
     "output_type": "stream",
     "text": [
      "https://search.naver.com/search.naver?where=news&sm=tab_pge&query=\"카카오페이\"&photo=0&field=0&pd=3&ds=2019.03.01&de=2019.04.01&cluster_rank=30&mynews=0&office_type=0&office_section_code=0&news_office_checked=&nso=so:r,p:from20190117to20200315,a:all&start=2401\n"
     ]
    },
    {
     "name": "stderr",
     "output_type": "stream",
     "text": [
      "  0%|                                                                                           | 0/80 [00:00<?, ?it/s]\n"
     ]
    },
    {
     "name": "stdout",
     "output_type": "stream",
     "text": [
      "https://search.naver.com/search.naver?where=news&sm=tab_pge&query=\"카카오페이\"&photo=0&field=0&pd=3&ds=2019.03.01&de=2019.04.01&cluster_rank=30&mynews=0&office_type=0&office_section_code=0&news_office_checked=&nso=so:r,p:from20190117to20200315,a:all&start=3201\n"
     ]
    },
    {
     "name": "stderr",
     "output_type": "stream",
     "text": [
      "100%|██████████████████████████████████████████████████████████████████████████████████| 80/80 [05:09<00:00,  3.87s/it]\n",
      "  6%|█████▏                                                                             | 5/80 [00:06<01:31,  1.22s/it]\n"
     ]
    },
    {
     "name": "stdout",
     "output_type": "stream",
     "text": [
      "https://search.naver.com/search.naver?where=news&sm=tab_pge&query=\"카카오페이\"&photo=0&field=0&pd=3&ds=2019.04.01&de=2019.05.01&cluster_rank=30&mynews=0&office_type=0&office_section_code=0&news_office_checked=&nso=so:r,p:from20190117to20200315,a:all&start=851\n"
     ]
    },
    {
     "name": "stderr",
     "output_type": "stream",
     "text": [
      "  0%|                                                                                           | 0/80 [00:00<?, ?it/s]\n"
     ]
    },
    {
     "name": "stdout",
     "output_type": "stream",
     "text": [
      "https://search.naver.com/search.naver?where=news&sm=tab_pge&query=\"카카오페이\"&photo=0&field=0&pd=3&ds=2019.04.01&de=2019.05.01&cluster_rank=30&mynews=0&office_type=0&office_section_code=0&news_office_checked=&nso=so:r,p:from20190117to20200315,a:all&start=1601\n"
     ]
    },
    {
     "name": "stderr",
     "output_type": "stream",
     "text": [
      "  0%|                                                                                           | 0/80 [00:00<?, ?it/s]\n"
     ]
    },
    {
     "name": "stdout",
     "output_type": "stream",
     "text": [
      "https://search.naver.com/search.naver?where=news&sm=tab_pge&query=\"카카오페이\"&photo=0&field=0&pd=3&ds=2019.04.01&de=2019.05.01&cluster_rank=30&mynews=0&office_type=0&office_section_code=0&news_office_checked=&nso=so:r,p:from20190117to20200315,a:all&start=2401\n"
     ]
    },
    {
     "name": "stderr",
     "output_type": "stream",
     "text": [
      "  0%|                                                                                           | 0/80 [00:00<?, ?it/s]\n"
     ]
    },
    {
     "name": "stdout",
     "output_type": "stream",
     "text": [
      "https://search.naver.com/search.naver?where=news&sm=tab_pge&query=\"카카오페이\"&photo=0&field=0&pd=3&ds=2019.04.01&de=2019.05.01&cluster_rank=30&mynews=0&office_type=0&office_section_code=0&news_office_checked=&nso=so:r,p:from20190117to20200315,a:all&start=3201\n"
     ]
    },
    {
     "name": "stderr",
     "output_type": "stream",
     "text": [
      "100%|██████████████████████████████████████████████████████████████████████████████████| 80/80 [05:09<00:00,  3.86s/it]\n",
      " 80%|█████████████████████████████████████████████████████████████████▌                | 64/80 [03:47<00:56,  3.55s/it]\n"
     ]
    },
    {
     "name": "stdout",
     "output_type": "stream",
     "text": [
      "https://search.naver.com/search.naver?where=news&sm=tab_pge&query=\"카카오페이\"&photo=0&field=0&pd=3&ds=2019.05.01&de=2019.06.01&cluster_rank=30&mynews=0&office_type=0&office_section_code=0&news_office_checked=&nso=so:r,p:from20190117to20200315,a:all&start=1441\n"
     ]
    },
    {
     "name": "stderr",
     "output_type": "stream",
     "text": [
      "  0%|                                                                                           | 0/80 [00:00<?, ?it/s]\n"
     ]
    },
    {
     "name": "stdout",
     "output_type": "stream",
     "text": [
      "https://search.naver.com/search.naver?where=news&sm=tab_pge&query=\"카카오페이\"&photo=0&field=0&pd=3&ds=2019.05.01&de=2019.06.01&cluster_rank=30&mynews=0&office_type=0&office_section_code=0&news_office_checked=&nso=so:r,p:from20190117to20200315,a:all&start=1601\n"
     ]
    },
    {
     "name": "stderr",
     "output_type": "stream",
     "text": [
      "  0%|                                                                                           | 0/80 [00:00<?, ?it/s]\n"
     ]
    },
    {
     "name": "stdout",
     "output_type": "stream",
     "text": [
      "https://search.naver.com/search.naver?where=news&sm=tab_pge&query=\"카카오페이\"&photo=0&field=0&pd=3&ds=2019.05.01&de=2019.06.01&cluster_rank=30&mynews=0&office_type=0&office_section_code=0&news_office_checked=&nso=so:r,p:from20190117to20200315,a:all&start=2401\n"
     ]
    },
    {
     "name": "stderr",
     "output_type": "stream",
     "text": [
      "  0%|                                                                                           | 0/80 [00:00<?, ?it/s]\n"
     ]
    },
    {
     "name": "stdout",
     "output_type": "stream",
     "text": [
      "https://search.naver.com/search.naver?where=news&sm=tab_pge&query=\"카카오페이\"&photo=0&field=0&pd=3&ds=2019.05.01&de=2019.06.01&cluster_rank=30&mynews=0&office_type=0&office_section_code=0&news_office_checked=&nso=so:r,p:from20190117to20200315,a:all&start=3201\n"
     ]
    },
    {
     "name": "stderr",
     "output_type": "stream",
     "text": [
      "100%|██████████████████████████████████████████████████████████████████████████████████| 80/80 [05:26<00:00,  4.08s/it]\n",
      " 81%|██████████████████████████████████████████████████████████████████▋               | 65/80 [03:17<00:45,  3.04s/it]\n"
     ]
    },
    {
     "name": "stdout",
     "output_type": "stream",
     "text": [
      "https://search.naver.com/search.naver?where=news&sm=tab_pge&query=\"카카오페이\"&photo=0&field=0&pd=3&ds=2019.06.01&de=2019.07.01&cluster_rank=30&mynews=0&office_type=0&office_section_code=0&news_office_checked=&nso=so:r,p:from20190117to20200315,a:all&start=1451\n"
     ]
    },
    {
     "name": "stderr",
     "output_type": "stream",
     "text": [
      "  0%|                                                                                           | 0/80 [00:00<?, ?it/s]\n"
     ]
    },
    {
     "name": "stdout",
     "output_type": "stream",
     "text": [
      "https://search.naver.com/search.naver?where=news&sm=tab_pge&query=\"카카오페이\"&photo=0&field=0&pd=3&ds=2019.06.01&de=2019.07.01&cluster_rank=30&mynews=0&office_type=0&office_section_code=0&news_office_checked=&nso=so:r,p:from20190117to20200315,a:all&start=1601\n"
     ]
    },
    {
     "name": "stderr",
     "output_type": "stream",
     "text": [
      "  0%|                                                                                           | 0/80 [00:00<?, ?it/s]\n"
     ]
    },
    {
     "name": "stdout",
     "output_type": "stream",
     "text": [
      "https://search.naver.com/search.naver?where=news&sm=tab_pge&query=\"카카오페이\"&photo=0&field=0&pd=3&ds=2019.06.01&de=2019.07.01&cluster_rank=30&mynews=0&office_type=0&office_section_code=0&news_office_checked=&nso=so:r,p:from20190117to20200315,a:all&start=2401\n"
     ]
    },
    {
     "name": "stderr",
     "output_type": "stream",
     "text": [
      "  0%|                                                                                           | 0/80 [00:00<?, ?it/s]\n"
     ]
    },
    {
     "name": "stdout",
     "output_type": "stream",
     "text": [
      "https://search.naver.com/search.naver?where=news&sm=tab_pge&query=\"카카오페이\"&photo=0&field=0&pd=3&ds=2019.06.01&de=2019.07.01&cluster_rank=30&mynews=0&office_type=0&office_section_code=0&news_office_checked=&nso=so:r,p:from20190117to20200315,a:all&start=3201\n"
     ]
    },
    {
     "name": "stderr",
     "output_type": "stream",
     "text": [
      "100%|██████████████████████████████████████████████████████████████████████████████████| 80/80 [05:31<00:00,  4.14s/it]\n",
      " 15%|████████████▎                                                                     | 12/80 [00:50<04:45,  4.20s/it]\n"
     ]
    },
    {
     "name": "stdout",
     "output_type": "stream",
     "text": [
      "https://search.naver.com/search.naver?where=news&sm=tab_pge&query=\"카카오페이\"&photo=0&field=0&pd=3&ds=2019.07.01&de=2019.08.01&cluster_rank=30&mynews=0&office_type=0&office_section_code=0&news_office_checked=&nso=so:r,p:from20190117to20200315,a:all&start=921\n"
     ]
    },
    {
     "name": "stderr",
     "output_type": "stream",
     "text": [
      " 11%|█████████▎                                                                         | 9/80 [00:21<02:46,  2.34s/it]\n"
     ]
    },
    {
     "name": "stdout",
     "output_type": "stream",
     "text": [
      "https://search.naver.com/search.naver?where=news&sm=tab_pge&query=\"카카오페이\"&photo=0&field=0&pd=3&ds=2019.07.01&de=2019.08.01&cluster_rank=30&mynews=0&office_type=0&office_section_code=0&news_office_checked=&nso=so:r,p:from20190117to20200315,a:all&start=1691\n"
     ]
    },
    {
     "name": "stderr",
     "output_type": "stream",
     "text": [
      "  0%|                                                                                           | 0/80 [00:00<?, ?it/s]\n"
     ]
    },
    {
     "name": "stdout",
     "output_type": "stream",
     "text": [
      "https://search.naver.com/search.naver?where=news&sm=tab_pge&query=\"카카오페이\"&photo=0&field=0&pd=3&ds=2019.07.01&de=2019.08.01&cluster_rank=30&mynews=0&office_type=0&office_section_code=0&news_office_checked=&nso=so:r,p:from20190117to20200315,a:all&start=2401\n"
     ]
    },
    {
     "name": "stderr",
     "output_type": "stream",
     "text": [
      "  0%|                                                                                           | 0/80 [00:00<?, ?it/s]\n"
     ]
    },
    {
     "name": "stdout",
     "output_type": "stream",
     "text": [
      "https://search.naver.com/search.naver?where=news&sm=tab_pge&query=\"카카오페이\"&photo=0&field=0&pd=3&ds=2019.07.01&de=2019.08.01&cluster_rank=30&mynews=0&office_type=0&office_section_code=0&news_office_checked=&nso=so:r,p:from20190117to20200315,a:all&start=3201\n"
     ]
    },
    {
     "name": "stderr",
     "output_type": "stream",
     "text": [
      "100%|██████████████████████████████████████████████████████████████████████████████████| 80/80 [05:00<00:00,  3.76s/it]\n",
      " 55%|█████████████████████████████████████████████                                     | 44/80 [01:30<01:13,  2.05s/it]\n"
     ]
    },
    {
     "name": "stdout",
     "output_type": "stream",
     "text": [
      "https://search.naver.com/search.naver?where=news&sm=tab_pge&query=\"카카오페이\"&photo=0&field=0&pd=3&ds=2019.08.01&de=2019.09.01&cluster_rank=30&mynews=0&office_type=0&office_section_code=0&news_office_checked=&nso=so:r,p:from20190117to20200315,a:all&start=1241\n"
     ]
    },
    {
     "name": "stderr",
     "output_type": "stream",
     "text": [
      "  0%|                                                                                           | 0/80 [00:00<?, ?it/s]\n"
     ]
    },
    {
     "name": "stdout",
     "output_type": "stream",
     "text": [
      "https://search.naver.com/search.naver?where=news&sm=tab_pge&query=\"카카오페이\"&photo=0&field=0&pd=3&ds=2019.08.01&de=2019.09.01&cluster_rank=30&mynews=0&office_type=0&office_section_code=0&news_office_checked=&nso=so:r,p:from20190117to20200315,a:all&start=1601\n"
     ]
    },
    {
     "name": "stderr",
     "output_type": "stream",
     "text": [
      "  0%|                                                                                           | 0/80 [00:00<?, ?it/s]\n"
     ]
    },
    {
     "name": "stdout",
     "output_type": "stream",
     "text": [
      "https://search.naver.com/search.naver?where=news&sm=tab_pge&query=\"카카오페이\"&photo=0&field=0&pd=3&ds=2019.08.01&de=2019.09.01&cluster_rank=30&mynews=0&office_type=0&office_section_code=0&news_office_checked=&nso=so:r,p:from20190117to20200315,a:all&start=2401\n"
     ]
    },
    {
     "name": "stderr",
     "output_type": "stream",
     "text": [
      "  0%|                                                                                           | 0/80 [00:00<?, ?it/s]\n"
     ]
    },
    {
     "name": "stdout",
     "output_type": "stream",
     "text": [
      "https://search.naver.com/search.naver?where=news&sm=tab_pge&query=\"카카오페이\"&photo=0&field=0&pd=3&ds=2019.08.01&de=2019.09.01&cluster_rank=30&mynews=0&office_type=0&office_section_code=0&news_office_checked=&nso=so:r,p:from20190117to20200315,a:all&start=3201\n"
     ]
    },
    {
     "name": "stderr",
     "output_type": "stream",
     "text": [
      "100%|██████████████████████████████████████████████████████████████████████████████████| 80/80 [04:51<00:00,  3.64s/it]\n",
      " 55%|█████████████████████████████████████████████                                     | 44/80 [01:43<01:24,  2.35s/it]\n"
     ]
    },
    {
     "name": "stdout",
     "output_type": "stream",
     "text": [
      "https://search.naver.com/search.naver?where=news&sm=tab_pge&query=\"카카오페이\"&photo=0&field=0&pd=3&ds=2019.09.01&de=2019.10.01&cluster_rank=30&mynews=0&office_type=0&office_section_code=0&news_office_checked=&nso=so:r,p:from20190117to20200315,a:all&start=1241\n"
     ]
    },
    {
     "name": "stderr",
     "output_type": "stream",
     "text": [
      "  0%|                                                                                           | 0/80 [00:00<?, ?it/s]\n"
     ]
    },
    {
     "name": "stdout",
     "output_type": "stream",
     "text": [
      "https://search.naver.com/search.naver?where=news&sm=tab_pge&query=\"카카오페이\"&photo=0&field=0&pd=3&ds=2019.09.01&de=2019.10.01&cluster_rank=30&mynews=0&office_type=0&office_section_code=0&news_office_checked=&nso=so:r,p:from20190117to20200315,a:all&start=1601\n"
     ]
    },
    {
     "name": "stderr",
     "output_type": "stream",
     "text": [
      "  0%|                                                                                           | 0/80 [00:00<?, ?it/s]\n"
     ]
    },
    {
     "name": "stdout",
     "output_type": "stream",
     "text": [
      "https://search.naver.com/search.naver?where=news&sm=tab_pge&query=\"카카오페이\"&photo=0&field=0&pd=3&ds=2019.09.01&de=2019.10.01&cluster_rank=30&mynews=0&office_type=0&office_section_code=0&news_office_checked=&nso=so:r,p:from20190117to20200315,a:all&start=2401\n"
     ]
    },
    {
     "name": "stderr",
     "output_type": "stream",
     "text": [
      "  0%|                                                                                           | 0/80 [00:00<?, ?it/s]\n"
     ]
    },
    {
     "name": "stdout",
     "output_type": "stream",
     "text": [
      "https://search.naver.com/search.naver?where=news&sm=tab_pge&query=\"카카오페이\"&photo=0&field=0&pd=3&ds=2019.09.01&de=2019.10.01&cluster_rank=30&mynews=0&office_type=0&office_section_code=0&news_office_checked=&nso=so:r,p:from20190117to20200315,a:all&start=3201\n"
     ]
    },
    {
     "name": "stderr",
     "output_type": "stream",
     "text": [
      "100%|██████████████████████████████████████████████████████████████████████████████████| 80/80 [05:19<00:00,  3.99s/it]\n",
      " 18%|██████████████▎                                                                   | 14/80 [00:44<03:31,  3.21s/it]\n"
     ]
    },
    {
     "name": "stdout",
     "output_type": "stream",
     "text": [
      "https://search.naver.com/search.naver?where=news&sm=tab_pge&query=\"카카오페이\"&photo=0&field=0&pd=3&ds=2019.10.01&de=2019.11.01&cluster_rank=30&mynews=0&office_type=0&office_section_code=0&news_office_checked=&nso=so:r,p:from20190117to20200315,a:all&start=941\n"
     ]
    },
    {
     "name": "stderr",
     "output_type": "stream",
     "text": [
      "  0%|                                                                                           | 0/80 [00:00<?, ?it/s]\n"
     ]
    },
    {
     "name": "stdout",
     "output_type": "stream",
     "text": [
      "https://search.naver.com/search.naver?where=news&sm=tab_pge&query=\"카카오페이\"&photo=0&field=0&pd=3&ds=2019.10.01&de=2019.11.01&cluster_rank=30&mynews=0&office_type=0&office_section_code=0&news_office_checked=&nso=so:r,p:from20190117to20200315,a:all&start=1601\n"
     ]
    },
    {
     "name": "stderr",
     "output_type": "stream",
     "text": [
      "  0%|                                                                                           | 0/80 [00:00<?, ?it/s]\n"
     ]
    },
    {
     "name": "stdout",
     "output_type": "stream",
     "text": [
      "https://search.naver.com/search.naver?where=news&sm=tab_pge&query=\"카카오페이\"&photo=0&field=0&pd=3&ds=2019.10.01&de=2019.11.01&cluster_rank=30&mynews=0&office_type=0&office_section_code=0&news_office_checked=&nso=so:r,p:from20190117to20200315,a:all&start=2401\n"
     ]
    },
    {
     "name": "stderr",
     "output_type": "stream",
     "text": [
      "  0%|                                                                                           | 0/80 [00:00<?, ?it/s]\n"
     ]
    },
    {
     "name": "stdout",
     "output_type": "stream",
     "text": [
      "https://search.naver.com/search.naver?where=news&sm=tab_pge&query=\"카카오페이\"&photo=0&field=0&pd=3&ds=2019.10.01&de=2019.11.01&cluster_rank=30&mynews=0&office_type=0&office_section_code=0&news_office_checked=&nso=so:r,p:from20190117to20200315,a:all&start=3201\n"
     ]
    },
    {
     "name": "stderr",
     "output_type": "stream",
     "text": [
      "100%|██████████████████████████████████████████████████████████████████████████████████| 80/80 [05:42<00:00,  4.28s/it]\n",
      " 68%|███████████████████████████████████████████████████████▎                          | 54/80 [03:06<01:29,  3.45s/it]\n"
     ]
    },
    {
     "name": "stdout",
     "output_type": "stream",
     "text": [
      "https://search.naver.com/search.naver?where=news&sm=tab_pge&query=\"카카오페이\"&photo=0&field=0&pd=3&ds=2019.11.01&de=2019.12.01&cluster_rank=30&mynews=0&office_type=0&office_section_code=0&news_office_checked=&nso=so:r,p:from20190117to20200315,a:all&start=1341\n"
     ]
    },
    {
     "name": "stderr",
     "output_type": "stream",
     "text": [
      "  0%|                                                                                           | 0/80 [00:00<?, ?it/s]\n"
     ]
    },
    {
     "name": "stdout",
     "output_type": "stream",
     "text": [
      "https://search.naver.com/search.naver?where=news&sm=tab_pge&query=\"카카오페이\"&photo=0&field=0&pd=3&ds=2019.11.01&de=2019.12.01&cluster_rank=30&mynews=0&office_type=0&office_section_code=0&news_office_checked=&nso=so:r,p:from20190117to20200315,a:all&start=1601\n"
     ]
    },
    {
     "name": "stderr",
     "output_type": "stream",
     "text": [
      "  0%|                                                                                           | 0/80 [00:00<?, ?it/s]\n"
     ]
    },
    {
     "name": "stdout",
     "output_type": "stream",
     "text": [
      "https://search.naver.com/search.naver?where=news&sm=tab_pge&query=\"카카오페이\"&photo=0&field=0&pd=3&ds=2019.11.01&de=2019.12.01&cluster_rank=30&mynews=0&office_type=0&office_section_code=0&news_office_checked=&nso=so:r,p:from20190117to20200315,a:all&start=2401\n"
     ]
    },
    {
     "name": "stderr",
     "output_type": "stream",
     "text": [
      "  0%|                                                                                           | 0/80 [00:00<?, ?it/s]\n"
     ]
    },
    {
     "name": "stdout",
     "output_type": "stream",
     "text": [
      "https://search.naver.com/search.naver?where=news&sm=tab_pge&query=\"카카오페이\"&photo=0&field=0&pd=3&ds=2019.11.01&de=2019.12.01&cluster_rank=30&mynews=0&office_type=0&office_section_code=0&news_office_checked=&nso=so:r,p:from20190117to20200315,a:all&start=3201\n"
     ]
    },
    {
     "name": "stderr",
     "output_type": "stream",
     "text": [
      "100%|██████████████████████████████████████████████████████████████████████████████████| 80/80 [05:29<00:00,  4.12s/it]\n",
      " 66%|██████████████████████████████████████████████████████▎                           | 53/80 [02:03<01:02,  2.33s/it]\n"
     ]
    },
    {
     "name": "stdout",
     "output_type": "stream",
     "text": [
      "https://search.naver.com/search.naver?where=news&sm=tab_pge&query=\"카카오페이\"&photo=0&field=0&pd=3&ds=2019.12.01&de=2019.12.31&cluster_rank=30&mynews=0&office_type=0&office_section_code=0&news_office_checked=&nso=so:r,p:from20190117to20200315,a:all&start=1331\n"
     ]
    },
    {
     "name": "stderr",
     "output_type": "stream",
     "text": [
      "  0%|                                                                                           | 0/80 [00:00<?, ?it/s]\n"
     ]
    },
    {
     "name": "stdout",
     "output_type": "stream",
     "text": [
      "https://search.naver.com/search.naver?where=news&sm=tab_pge&query=\"카카오페이\"&photo=0&field=0&pd=3&ds=2019.12.01&de=2019.12.31&cluster_rank=30&mynews=0&office_type=0&office_section_code=0&news_office_checked=&nso=so:r,p:from20190117to20200315,a:all&start=1601\n"
     ]
    },
    {
     "name": "stderr",
     "output_type": "stream",
     "text": [
      "  0%|                                                                                           | 0/80 [00:00<?, ?it/s]\n"
     ]
    },
    {
     "name": "stdout",
     "output_type": "stream",
     "text": [
      "https://search.naver.com/search.naver?where=news&sm=tab_pge&query=\"카카오페이\"&photo=0&field=0&pd=3&ds=2019.12.01&de=2019.12.31&cluster_rank=30&mynews=0&office_type=0&office_section_code=0&news_office_checked=&nso=so:r,p:from20190117to20200315,a:all&start=2401\n"
     ]
    },
    {
     "name": "stderr",
     "output_type": "stream",
     "text": [
      "  0%|                                                                                           | 0/80 [00:00<?, ?it/s]\n"
     ]
    },
    {
     "name": "stdout",
     "output_type": "stream",
     "text": [
      "https://search.naver.com/search.naver?where=news&sm=tab_pge&query=\"카카오페이\"&photo=0&field=0&pd=3&ds=2019.12.01&de=2019.12.31&cluster_rank=30&mynews=0&office_type=0&office_section_code=0&news_office_checked=&nso=so:r,p:from20190117to20200315,a:all&start=3201\n"
     ]
    },
    {
     "name": "stderr",
     "output_type": "stream",
     "text": [
      " 48%|██████████████████████████████████████▉                                           | 38/80 [02:16<02:31,  3.60s/it]\n"
     ]
    },
    {
     "name": "stdout",
     "output_type": "stream",
     "text": [
      "https://search.naver.com/search.naver?where=news&sm=tab_pge&query=\"카카오페이\"&photo=0&field=0&pd=3&ds=2020.01.01&de=2020.02.01&cluster_rank=30&mynews=0&office_type=0&office_section_code=0&news_office_checked=&nso=so:r,p:from20190117to20200315,a:all&start=381\n"
     ]
    },
    {
     "name": "stderr",
     "output_type": "stream",
     "text": [
      "  0%|                                                                                           | 0/80 [00:02<?, ?it/s]\n"
     ]
    },
    {
     "name": "stdout",
     "output_type": "stream",
     "text": [
      "https://search.naver.com/search.naver?where=news&sm=tab_pge&query=\"카카오페이\"&photo=0&field=0&pd=3&ds=2020.01.01&de=2020.02.01&cluster_rank=30&mynews=0&office_type=0&office_section_code=0&news_office_checked=&nso=so:r,p:from20190117to20200315,a:all&start=801\n"
     ]
    },
    {
     "name": "stderr",
     "output_type": "stream",
     "text": [
      "  0%|                                                                                           | 0/80 [00:00<?, ?it/s]\n"
     ]
    },
    {
     "name": "stdout",
     "output_type": "stream",
     "text": [
      "https://search.naver.com/search.naver?where=news&sm=tab_pge&query=\"카카오페이\"&photo=0&field=0&pd=3&ds=2020.01.01&de=2020.02.01&cluster_rank=30&mynews=0&office_type=0&office_section_code=0&news_office_checked=&nso=so:r,p:from20190117to20200315,a:all&start=1601\n"
     ]
    },
    {
     "name": "stderr",
     "output_type": "stream",
     "text": [
      "  0%|                                                                                           | 0/80 [00:00<?, ?it/s]\n"
     ]
    },
    {
     "name": "stdout",
     "output_type": "stream",
     "text": [
      "https://search.naver.com/search.naver?where=news&sm=tab_pge&query=\"카카오페이\"&photo=0&field=0&pd=3&ds=2020.01.01&de=2020.02.01&cluster_rank=30&mynews=0&office_type=0&office_section_code=0&news_office_checked=&nso=so:r,p:from20190117to20200315,a:all&start=2401\n"
     ]
    },
    {
     "name": "stderr",
     "output_type": "stream",
     "text": [
      "  0%|                                                                                           | 0/80 [00:00<?, ?it/s]\n"
     ]
    },
    {
     "name": "stdout",
     "output_type": "stream",
     "text": [
      "https://search.naver.com/search.naver?where=news&sm=tab_pge&query=\"카카오페이\"&photo=0&field=0&pd=3&ds=2020.01.01&de=2020.02.01&cluster_rank=30&mynews=0&office_type=0&office_section_code=0&news_office_checked=&nso=so:r,p:from20190117to20200315,a:all&start=3201\n"
     ]
    },
    {
     "name": "stderr",
     "output_type": "stream",
     "text": [
      "100%|██████████████████████████████████████████████████████████████████████████████████| 80/80 [05:28<00:00,  4.11s/it]\n",
      "100%|██████████████████████████████████████████████████████████████████████████████████| 80/80 [04:31<00:00,  3.40s/it]\n",
      " 11%|█████████▎                                                                         | 9/80 [00:12<01:40,  1.42s/it]\n"
     ]
    },
    {
     "name": "stdout",
     "output_type": "stream",
     "text": [
      "https://search.naver.com/search.naver?where=news&sm=tab_pge&query=\"카카오페이\"&photo=0&field=0&pd=3&ds=2020.02.01&de=2020.03.01&cluster_rank=30&mynews=0&office_type=0&office_section_code=0&news_office_checked=&nso=so:r,p:from20190117to20200315,a:all&start=1691\n"
     ]
    },
    {
     "name": "stderr",
     "output_type": "stream",
     "text": [
      "  0%|                                                                                           | 0/80 [00:00<?, ?it/s]\n"
     ]
    },
    {
     "name": "stdout",
     "output_type": "stream",
     "text": [
      "https://search.naver.com/search.naver?where=news&sm=tab_pge&query=\"카카오페이\"&photo=0&field=0&pd=3&ds=2020.02.01&de=2020.03.01&cluster_rank=30&mynews=0&office_type=0&office_section_code=0&news_office_checked=&nso=so:r,p:from20190117to20200315,a:all&start=2401\n"
     ]
    },
    {
     "name": "stderr",
     "output_type": "stream",
     "text": [
      "  0%|                                                                                           | 0/80 [00:00<?, ?it/s]\n"
     ]
    },
    {
     "name": "stdout",
     "output_type": "stream",
     "text": [
      "https://search.naver.com/search.naver?where=news&sm=tab_pge&query=\"카카오페이\"&photo=0&field=0&pd=3&ds=2020.02.01&de=2020.03.01&cluster_rank=30&mynews=0&office_type=0&office_section_code=0&news_office_checked=&nso=so:r,p:from20190117to20200315,a:all&start=3201\n"
     ]
    },
    {
     "name": "stderr",
     "output_type": "stream",
     "text": [
      "100%|██████████████████████████████████████████████████████████████████████████████████| 80/80 [05:02<00:00,  3.78s/it]\n",
      " 92%|███████████████████████████████████████████████████████████████████████████▊      | 74/80 [04:12<00:20,  3.41s/it]\n"
     ]
    },
    {
     "name": "stdout",
     "output_type": "stream",
     "text": [
      "https://search.naver.com/search.naver?where=news&sm=tab_pge&query=\"카카오페이\"&photo=0&field=0&pd=3&ds=2020.03.01&de=2020.04.01&cluster_rank=30&mynews=0&office_type=0&office_section_code=0&news_office_checked=&nso=so:r,p:from20190117to20200315,a:all&start=1541\n"
     ]
    },
    {
     "name": "stderr",
     "output_type": "stream",
     "text": [
      "  0%|                                                                                           | 0/80 [00:00<?, ?it/s]\n"
     ]
    },
    {
     "name": "stdout",
     "output_type": "stream",
     "text": [
      "https://search.naver.com/search.naver?where=news&sm=tab_pge&query=\"카카오페이\"&photo=0&field=0&pd=3&ds=2020.03.01&de=2020.04.01&cluster_rank=30&mynews=0&office_type=0&office_section_code=0&news_office_checked=&nso=so:r,p:from20190117to20200315,a:all&start=1601\n"
     ]
    },
    {
     "name": "stderr",
     "output_type": "stream",
     "text": [
      "  0%|                                                                                           | 0/80 [00:00<?, ?it/s]\n"
     ]
    },
    {
     "name": "stdout",
     "output_type": "stream",
     "text": [
      "https://search.naver.com/search.naver?where=news&sm=tab_pge&query=\"카카오페이\"&photo=0&field=0&pd=3&ds=2020.03.01&de=2020.04.01&cluster_rank=30&mynews=0&office_type=0&office_section_code=0&news_office_checked=&nso=so:r,p:from20190117to20200315,a:all&start=2401\n"
     ]
    },
    {
     "name": "stderr",
     "output_type": "stream",
     "text": [
      "  0%|                                                                                           | 0/80 [00:00<?, ?it/s]\n"
     ]
    },
    {
     "name": "stdout",
     "output_type": "stream",
     "text": [
      "https://search.naver.com/search.naver?where=news&sm=tab_pge&query=\"카카오페이\"&photo=0&field=0&pd=3&ds=2020.03.01&de=2020.04.01&cluster_rank=30&mynews=0&office_type=0&office_section_code=0&news_office_checked=&nso=so:r,p:from20190117to20200315,a:all&start=3201\n"
     ]
    },
    {
     "name": "stderr",
     "output_type": "stream",
     "text": [
      "100%|██████████████████████████████████████████████████████████████████████████████████| 80/80 [05:12<00:00,  3.91s/it]\n",
      " 11%|█████████▎                                                                         | 9/80 [00:25<03:23,  2.86s/it]\n"
     ]
    },
    {
     "name": "stdout",
     "output_type": "stream",
     "text": [
      "https://search.naver.com/search.naver?where=news&sm=tab_pge&query=\"카카오페이\"&photo=0&field=0&pd=3&ds=2020.04.01&de=2020.05.01&cluster_rank=30&mynews=0&office_type=0&office_section_code=0&news_office_checked=&nso=so:r,p:from20190117to20200315,a:all&start=891\n"
     ]
    },
    {
     "name": "stderr",
     "output_type": "stream",
     "text": [
      "  0%|                                                                                           | 0/80 [00:00<?, ?it/s]\n"
     ]
    },
    {
     "name": "stdout",
     "output_type": "stream",
     "text": [
      "https://search.naver.com/search.naver?where=news&sm=tab_pge&query=\"카카오페이\"&photo=0&field=0&pd=3&ds=2020.04.01&de=2020.05.01&cluster_rank=30&mynews=0&office_type=0&office_section_code=0&news_office_checked=&nso=so:r,p:from20190117to20200315,a:all&start=1601\n"
     ]
    },
    {
     "name": "stderr",
     "output_type": "stream",
     "text": [
      "  0%|                                                                                           | 0/80 [00:00<?, ?it/s]\n"
     ]
    },
    {
     "name": "stdout",
     "output_type": "stream",
     "text": [
      "https://search.naver.com/search.naver?where=news&sm=tab_pge&query=\"카카오페이\"&photo=0&field=0&pd=3&ds=2020.04.01&de=2020.05.01&cluster_rank=30&mynews=0&office_type=0&office_section_code=0&news_office_checked=&nso=so:r,p:from20190117to20200315,a:all&start=2401\n"
     ]
    },
    {
     "name": "stderr",
     "output_type": "stream",
     "text": [
      "  0%|                                                                                           | 0/80 [00:00<?, ?it/s]\n"
     ]
    },
    {
     "name": "stdout",
     "output_type": "stream",
     "text": [
      "https://search.naver.com/search.naver?where=news&sm=tab_pge&query=\"카카오페이\"&photo=0&field=0&pd=3&ds=2020.04.01&de=2020.05.01&cluster_rank=30&mynews=0&office_type=0&office_section_code=0&news_office_checked=&nso=so:r,p:from20190117to20200315,a:all&start=3201\n"
     ]
    },
    {
     "name": "stderr",
     "output_type": "stream",
     "text": [
      "100%|██████████████████████████████████████████████████████████████████████████████████| 80/80 [05:21<00:00,  4.02s/it]\n",
      "100%|██████████████████████████████████████████████████████████████████████████████████| 80/80 [05:36<00:00,  4.20s/it]\n",
      " 89%|████████████████████████████████████████████████████████████████████████▊         | 71/80 [03:47<00:28,  3.21s/it]\n"
     ]
    },
    {
     "name": "stdout",
     "output_type": "stream",
     "text": [
      "https://search.naver.com/search.naver?where=news&sm=tab_pge&query=\"카카오페이\"&photo=0&field=0&pd=3&ds=2020.05.01&de=2020.06.01&cluster_rank=30&mynews=0&office_type=0&office_section_code=0&news_office_checked=&nso=so:r,p:from20190117to20200315,a:all&start=2311\n"
     ]
    },
    {
     "name": "stderr",
     "output_type": "stream",
     "text": [
      "  0%|                                                                                           | 0/80 [00:00<?, ?it/s]\n"
     ]
    },
    {
     "name": "stdout",
     "output_type": "stream",
     "text": [
      "https://search.naver.com/search.naver?where=news&sm=tab_pge&query=\"카카오페이\"&photo=0&field=0&pd=3&ds=2020.05.01&de=2020.06.01&cluster_rank=30&mynews=0&office_type=0&office_section_code=0&news_office_checked=&nso=so:r,p:from20190117to20200315,a:all&start=2401\n"
     ]
    },
    {
     "name": "stderr",
     "output_type": "stream",
     "text": [
      "  0%|                                                                                           | 0/80 [00:00<?, ?it/s]\n"
     ]
    },
    {
     "name": "stdout",
     "output_type": "stream",
     "text": [
      "https://search.naver.com/search.naver?where=news&sm=tab_pge&query=\"카카오페이\"&photo=0&field=0&pd=3&ds=2020.05.01&de=2020.06.01&cluster_rank=30&mynews=0&office_type=0&office_section_code=0&news_office_checked=&nso=so:r,p:from20190117to20200315,a:all&start=3201\n"
     ]
    },
    {
     "name": "stderr",
     "output_type": "stream",
     "text": [
      "100%|██████████████████████████████████████████████████████████████████████████████████| 80/80 [06:01<00:00,  4.51s/it]\n",
      "100%|██████████████████████████████████████████████████████████████████████████████████| 80/80 [06:03<00:00,  4.54s/it]\n",
      " 91%|██████████████████████████████████████████████████████████████████████████▊       | 73/80 [03:25<00:19,  2.81s/it]\n"
     ]
    },
    {
     "name": "stdout",
     "output_type": "stream",
     "text": [
      "https://search.naver.com/search.naver?where=news&sm=tab_pge&query=\"카카오페이\"&photo=0&field=0&pd=3&ds=2020.06.01&de=2020.07.01&cluster_rank=30&mynews=0&office_type=0&office_section_code=0&news_office_checked=&nso=so:r,p:from20190117to20200315,a:all&start=2331\n"
     ]
    },
    {
     "name": "stderr",
     "output_type": "stream",
     "text": [
      "  0%|                                                                                           | 0/80 [00:00<?, ?it/s]\n"
     ]
    },
    {
     "name": "stdout",
     "output_type": "stream",
     "text": [
      "https://search.naver.com/search.naver?where=news&sm=tab_pge&query=\"카카오페이\"&photo=0&field=0&pd=3&ds=2020.06.01&de=2020.07.01&cluster_rank=30&mynews=0&office_type=0&office_section_code=0&news_office_checked=&nso=so:r,p:from20190117to20200315,a:all&start=2401\n"
     ]
    },
    {
     "name": "stderr",
     "output_type": "stream",
     "text": [
      "  0%|                                                                                           | 0/80 [00:00<?, ?it/s]\n"
     ]
    },
    {
     "name": "stdout",
     "output_type": "stream",
     "text": [
      "https://search.naver.com/search.naver?where=news&sm=tab_pge&query=\"카카오페이\"&photo=0&field=0&pd=3&ds=2020.06.01&de=2020.07.01&cluster_rank=30&mynews=0&office_type=0&office_section_code=0&news_office_checked=&nso=so:r,p:from20190117to20200315,a:all&start=3201\n"
     ]
    },
    {
     "name": "stderr",
     "output_type": "stream",
     "text": [
      "100%|██████████████████████████████████████████████████████████████████████████████████| 80/80 [06:30<00:00,  4.88s/it]\n",
      "100%|██████████████████████████████████████████████████████████████████████████████████| 80/80 [05:17<00:00,  3.96s/it]\n",
      " 50%|█████████████████████████████████████████                                         | 40/80 [01:16<01:16,  1.91s/it]\n"
     ]
    },
    {
     "name": "stdout",
     "output_type": "stream",
     "text": [
      "https://search.naver.com/search.naver?where=news&sm=tab_pge&query=\"카카오페이\"&photo=0&field=0&pd=3&ds=2020.07.01&de=2020.08.01&cluster_rank=30&mynews=0&office_type=0&office_section_code=0&news_office_checked=&nso=so:r,p:from20190117to20200315,a:all&start=2001\n"
     ]
    },
    {
     "name": "stderr",
     "output_type": "stream",
     "text": [
      "  0%|                                                                                           | 0/80 [00:00<?, ?it/s]\n"
     ]
    },
    {
     "name": "stdout",
     "output_type": "stream",
     "text": [
      "https://search.naver.com/search.naver?where=news&sm=tab_pge&query=\"카카오페이\"&photo=0&field=0&pd=3&ds=2020.07.01&de=2020.08.01&cluster_rank=30&mynews=0&office_type=0&office_section_code=0&news_office_checked=&nso=so:r,p:from20190117to20200315,a:all&start=2401\n"
     ]
    },
    {
     "name": "stderr",
     "output_type": "stream",
     "text": [
      "  0%|                                                                                           | 0/80 [00:00<?, ?it/s]\n"
     ]
    },
    {
     "name": "stdout",
     "output_type": "stream",
     "text": [
      "https://search.naver.com/search.naver?where=news&sm=tab_pge&query=\"카카오페이\"&photo=0&field=0&pd=3&ds=2020.07.01&de=2020.08.01&cluster_rank=30&mynews=0&office_type=0&office_section_code=0&news_office_checked=&nso=so:r,p:from20190117to20200315,a:all&start=3201\n"
     ]
    },
    {
     "name": "stderr",
     "output_type": "stream",
     "text": [
      "100%|██████████████████████████████████████████████████████████████████████████████████| 80/80 [05:44<00:00,  4.31s/it]\n",
      "100%|██████████████████████████████████████████████████████████████████████████████████| 80/80 [04:44<00:00,  3.56s/it]\n",
      " 11%|█████████▎                                                                         | 9/80 [00:12<01:41,  1.43s/it]\n"
     ]
    },
    {
     "name": "stdout",
     "output_type": "stream",
     "text": [
      "https://search.naver.com/search.naver?where=news&sm=tab_pge&query=\"카카오페이\"&photo=0&field=0&pd=3&ds=2020.08.01&de=2020.09.01&cluster_rank=30&mynews=0&office_type=0&office_section_code=0&news_office_checked=&nso=so:r,p:from20190117to20200315,a:all&start=1691\n"
     ]
    },
    {
     "name": "stderr",
     "output_type": "stream",
     "text": [
      "  0%|                                                                                           | 0/80 [00:00<?, ?it/s]\n"
     ]
    },
    {
     "name": "stdout",
     "output_type": "stream",
     "text": [
      "https://search.naver.com/search.naver?where=news&sm=tab_pge&query=\"카카오페이\"&photo=0&field=0&pd=3&ds=2020.08.01&de=2020.09.01&cluster_rank=30&mynews=0&office_type=0&office_section_code=0&news_office_checked=&nso=so:r,p:from20190117to20200315,a:all&start=2401\n"
     ]
    },
    {
     "name": "stderr",
     "output_type": "stream",
     "text": [
      "  0%|                                                                                           | 0/80 [00:00<?, ?it/s]\n"
     ]
    },
    {
     "name": "stdout",
     "output_type": "stream",
     "text": [
      "https://search.naver.com/search.naver?where=news&sm=tab_pge&query=\"카카오페이\"&photo=0&field=0&pd=3&ds=2020.08.01&de=2020.09.01&cluster_rank=30&mynews=0&office_type=0&office_section_code=0&news_office_checked=&nso=so:r,p:from20190117to20200315,a:all&start=3201\n"
     ]
    },
    {
     "name": "stderr",
     "output_type": "stream",
     "text": [
      "100%|██████████████████████████████████████████████████████████████████████████████████| 80/80 [05:30<00:00,  4.13s/it]\n",
      "100%|██████████████████████████████████████████████████████████████████████████████████| 80/80 [05:32<00:00,  4.15s/it]\n",
      "100%|██████████████████████████████████████████████████████████████████████████████████| 80/80 [04:00<00:00,  3.01s/it]\n",
      " 26%|█████████████████████▌                                                            | 21/80 [00:29<01:22,  1.41s/it]\n"
     ]
    },
    {
     "name": "stdout",
     "output_type": "stream",
     "text": [
      "https://search.naver.com/search.naver?where=news&sm=tab_pge&query=\"카카오페이\"&photo=0&field=0&pd=3&ds=2020.09.01&de=2020.10.01&cluster_rank=30&mynews=0&office_type=0&office_section_code=0&news_office_checked=&nso=so:r,p:from20190117to20200315,a:all&start=2611\n"
     ]
    },
    {
     "name": "stderr",
     "output_type": "stream",
     "text": [
      "  0%|                                                                                           | 0/80 [00:00<?, ?it/s]\n"
     ]
    },
    {
     "name": "stdout",
     "output_type": "stream",
     "text": [
      "https://search.naver.com/search.naver?where=news&sm=tab_pge&query=\"카카오페이\"&photo=0&field=0&pd=3&ds=2020.09.01&de=2020.10.01&cluster_rank=30&mynews=0&office_type=0&office_section_code=0&news_office_checked=&nso=so:r,p:from20190117to20200315,a:all&start=3201\n"
     ]
    },
    {
     "name": "stderr",
     "output_type": "stream",
     "text": [
      "100%|██████████████████████████████████████████████████████████████████████████████████| 80/80 [04:58<00:00,  3.73s/it]\n",
      " 69%|████████████████████████████████████████████████████████▍                         | 55/80 [02:57<01:20,  3.22s/it]\n"
     ]
    },
    {
     "name": "stdout",
     "output_type": "stream",
     "text": [
      "https://search.naver.com/search.naver?where=news&sm=tab_pge&query=\"카카오페이\"&photo=0&field=0&pd=3&ds=2020.10.01&de=2020.11.01&cluster_rank=30&mynews=0&office_type=0&office_section_code=0&news_office_checked=&nso=so:r,p:from20190117to20200315,a:all&start=1351\n"
     ]
    },
    {
     "name": "stderr",
     "output_type": "stream",
     "text": [
      "  4%|███                                                                                | 3/80 [00:04<01:48,  1.41s/it]\n"
     ]
    },
    {
     "name": "stdout",
     "output_type": "stream",
     "text": [
      "https://search.naver.com/search.naver?where=news&sm=tab_pge&query=\"카카오페이\"&photo=0&field=0&pd=3&ds=2020.10.01&de=2020.11.01&cluster_rank=30&mynews=0&office_type=0&office_section_code=0&news_office_checked=&nso=so:r,p:from20190117to20200315,a:all&start=1631\n"
     ]
    },
    {
     "name": "stderr",
     "output_type": "stream",
     "text": [
      "  0%|                                                                                           | 0/80 [00:00<?, ?it/s]\n"
     ]
    },
    {
     "name": "stdout",
     "output_type": "stream",
     "text": [
      "https://search.naver.com/search.naver?where=news&sm=tab_pge&query=\"카카오페이\"&photo=0&field=0&pd=3&ds=2020.10.01&de=2020.11.01&cluster_rank=30&mynews=0&office_type=0&office_section_code=0&news_office_checked=&nso=so:r,p:from20190117to20200315,a:all&start=2401\n"
     ]
    },
    {
     "name": "stderr",
     "output_type": "stream",
     "text": [
      "  0%|                                                                                           | 0/80 [00:00<?, ?it/s]\n"
     ]
    },
    {
     "name": "stdout",
     "output_type": "stream",
     "text": [
      "https://search.naver.com/search.naver?where=news&sm=tab_pge&query=\"카카오페이\"&photo=0&field=0&pd=3&ds=2020.10.01&de=2020.11.01&cluster_rank=30&mynews=0&office_type=0&office_section_code=0&news_office_checked=&nso=so:r,p:from20190117to20200315,a:all&start=3201\n"
     ]
    },
    {
     "name": "stderr",
     "output_type": "stream",
     "text": [
      "100%|██████████████████████████████████████████████████████████████████████████████████| 80/80 [05:49<00:00,  4.37s/it]\n",
      "100%|██████████████████████████████████████████████████████████████████████████████████| 80/80 [05:04<00:00,  3.80s/it]\n",
      "100%|██████████████████████████████████████████████████████████████████████████████████| 80/80 [04:33<00:00,  3.42s/it]\n",
      " 32%|██████████████████████████▋                                                       | 26/80 [00:44<01:33,  1.73s/it]\n"
     ]
    },
    {
     "name": "stdout",
     "output_type": "stream",
     "text": [
      "https://search.naver.com/search.naver?where=news&sm=tab_pge&query=\"카카오페이\"&photo=0&field=0&pd=3&ds=2020.11.01&de=2020.12.01&cluster_rank=30&mynews=0&office_type=0&office_section_code=0&news_office_checked=&nso=so:r,p:from20190117to20200315,a:all&start=2661\n"
     ]
    },
    {
     "name": "stderr",
     "output_type": "stream",
     "text": [
      "  0%|                                                                                           | 0/80 [00:00<?, ?it/s]\n"
     ]
    },
    {
     "name": "stdout",
     "output_type": "stream",
     "text": [
      "https://search.naver.com/search.naver?where=news&sm=tab_pge&query=\"카카오페이\"&photo=0&field=0&pd=3&ds=2020.11.01&de=2020.12.01&cluster_rank=30&mynews=0&office_type=0&office_section_code=0&news_office_checked=&nso=so:r,p:from20190117to20200315,a:all&start=3201\n"
     ]
    },
    {
     "name": "stderr",
     "output_type": "stream",
     "text": [
      "100%|██████████████████████████████████████████████████████████████████████████████████| 80/80 [05:25<00:00,  4.07s/it]\n",
      "100%|██████████████████████████████████████████████████████████████████████████████████| 80/80 [05:46<00:00,  4.33s/it]\n",
      "100%|██████████████████████████████████████████████████████████████████████████████████| 80/80 [02:56<00:00,  2.21s/it]\n",
      "  9%|███████▎                                                                           | 7/80 [00:06<01:08,  1.06it/s]\n"
     ]
    },
    {
     "name": "stdout",
     "output_type": "stream",
     "text": [
      "https://search.naver.com/search.naver?where=news&sm=tab_pge&query=\"카카오페이\"&photo=0&field=0&pd=3&ds=2020.12.01&de=2020.12.31&cluster_rank=30&mynews=0&office_type=0&office_section_code=0&news_office_checked=&nso=so:r,p:from20190117to20200315,a:all&start=2471\n"
     ]
    },
    {
     "name": "stderr",
     "output_type": "stream",
     "text": [
      "  0%|                                                                                           | 0/80 [00:00<?, ?it/s]\n"
     ]
    },
    {
     "name": "stdout",
     "output_type": "stream",
     "text": [
      "https://search.naver.com/search.naver?where=news&sm=tab_pge&query=\"카카오페이\"&photo=0&field=0&pd=3&ds=2020.12.01&de=2020.12.31&cluster_rank=30&mynews=0&office_type=0&office_section_code=0&news_office_checked=&nso=so:r,p:from20190117to20200315,a:all&start=3201\n"
     ]
    },
    {
     "name": "stderr",
     "output_type": "stream",
     "text": [
      "100%|██████████████████████████████████████████████████████████████████████████████████| 80/80 [05:33<00:00,  4.17s/it]\n",
      "100%|██████████████████████████████████████████████████████████████████████████████████| 80/80 [05:41<00:00,  4.26s/it]\n",
      " 92%|███████████████████████████████████████████████████████████████████████████▊      | 74/80 [03:09<00:15,  2.56s/it]\n"
     ]
    },
    {
     "name": "stdout",
     "output_type": "stream",
     "text": [
      "https://search.naver.com/search.naver?where=news&sm=tab_pge&query=\"카카오페이\"&photo=0&field=0&pd=3&ds=2021.01.01&de=2021.02.01&cluster_rank=30&mynews=0&office_type=0&office_section_code=0&news_office_checked=&nso=so:r,p:from20190117to20200315,a:all&start=2341\n"
     ]
    },
    {
     "name": "stderr",
     "output_type": "stream",
     "text": [
      "  0%|                                                                                           | 0/80 [00:00<?, ?it/s]\n"
     ]
    },
    {
     "name": "stdout",
     "output_type": "stream",
     "text": [
      "https://search.naver.com/search.naver?where=news&sm=tab_pge&query=\"카카오페이\"&photo=0&field=0&pd=3&ds=2021.01.01&de=2021.02.01&cluster_rank=30&mynews=0&office_type=0&office_section_code=0&news_office_checked=&nso=so:r,p:from20190117to20200315,a:all&start=2401\n"
     ]
    },
    {
     "name": "stderr",
     "output_type": "stream",
     "text": [
      "  0%|                                                                                           | 0/80 [00:00<?, ?it/s]\n"
     ]
    },
    {
     "name": "stdout",
     "output_type": "stream",
     "text": [
      "https://search.naver.com/search.naver?where=news&sm=tab_pge&query=\"카카오페이\"&photo=0&field=0&pd=3&ds=2021.01.01&de=2021.02.01&cluster_rank=30&mynews=0&office_type=0&office_section_code=0&news_office_checked=&nso=so:r,p:from20190117to20200315,a:all&start=3201\n"
     ]
    },
    {
     "name": "stderr",
     "output_type": "stream",
     "text": [
      "100%|██████████████████████████████████████████████████████████████████████████████████| 80/80 [05:59<00:00,  4.49s/it]\n",
      "100%|██████████████████████████████████████████████████████████████████████████████████| 80/80 [06:23<00:00,  4.80s/it]\n",
      " 55%|█████████████████████████████████████████████                                     | 44/80 [01:39<01:21,  2.26s/it]\n"
     ]
    },
    {
     "name": "stdout",
     "output_type": "stream",
     "text": [
      "https://search.naver.com/search.naver?where=news&sm=tab_pge&query=\"카카오페이\"&photo=0&field=0&pd=3&ds=2021.02.01&de=2021.03.01&cluster_rank=30&mynews=0&office_type=0&office_section_code=0&news_office_checked=&nso=so:r,p:from20190117to20200315,a:all&start=2041\n"
     ]
    },
    {
     "name": "stderr",
     "output_type": "stream",
     "text": [
      "  0%|                                                                                           | 0/80 [00:00<?, ?it/s]\n"
     ]
    },
    {
     "name": "stdout",
     "output_type": "stream",
     "text": [
      "https://search.naver.com/search.naver?where=news&sm=tab_pge&query=\"카카오페이\"&photo=0&field=0&pd=3&ds=2021.02.01&de=2021.03.01&cluster_rank=30&mynews=0&office_type=0&office_section_code=0&news_office_checked=&nso=so:r,p:from20190117to20200315,a:all&start=2401\n"
     ]
    },
    {
     "name": "stderr",
     "output_type": "stream",
     "text": [
      "  0%|                                                                                           | 0/80 [00:00<?, ?it/s]\n"
     ]
    },
    {
     "name": "stdout",
     "output_type": "stream",
     "text": [
      "https://search.naver.com/search.naver?where=news&sm=tab_pge&query=\"카카오페이\"&photo=0&field=0&pd=3&ds=2021.02.01&de=2021.03.01&cluster_rank=30&mynews=0&office_type=0&office_section_code=0&news_office_checked=&nso=so:r,p:from20190117to20200315,a:all&start=3201\n"
     ]
    },
    {
     "name": "stderr",
     "output_type": "stream",
     "text": [
      "100%|██████████████████████████████████████████████████████████████████████████████████| 80/80 [05:56<00:00,  4.45s/it]\n",
      "100%|██████████████████████████████████████████████████████████████████████████████████| 80/80 [06:08<00:00,  4.61s/it]\n",
      " 46%|█████████████████████████████████████▉                                            | 37/80 [01:22<01:36,  2.24s/it]\n"
     ]
    },
    {
     "name": "stdout",
     "output_type": "stream",
     "text": [
      "https://search.naver.com/search.naver?where=news&sm=tab_pge&query=\"카카오페이\"&photo=0&field=0&pd=3&ds=2021.03.01&de=2021.04.01&cluster_rank=30&mynews=0&office_type=0&office_section_code=0&news_office_checked=&nso=so:r,p:from20190117to20200315,a:all&start=1971\n"
     ]
    },
    {
     "name": "stderr",
     "output_type": "stream",
     "text": [
      "  0%|                                                                                           | 0/80 [00:00<?, ?it/s]\n"
     ]
    },
    {
     "name": "stdout",
     "output_type": "stream",
     "text": [
      "https://search.naver.com/search.naver?where=news&sm=tab_pge&query=\"카카오페이\"&photo=0&field=0&pd=3&ds=2021.03.01&de=2021.04.01&cluster_rank=30&mynews=0&office_type=0&office_section_code=0&news_office_checked=&nso=so:r,p:from20190117to20200315,a:all&start=2401\n"
     ]
    },
    {
     "name": "stderr",
     "output_type": "stream",
     "text": [
      "  0%|                                                                                           | 0/80 [00:00<?, ?it/s]\n"
     ]
    },
    {
     "name": "stdout",
     "output_type": "stream",
     "text": [
      "https://search.naver.com/search.naver?where=news&sm=tab_pge&query=\"카카오페이\"&photo=0&field=0&pd=3&ds=2021.03.01&de=2021.04.01&cluster_rank=30&mynews=0&office_type=0&office_section_code=0&news_office_checked=&nso=so:r,p:from20190117to20200315,a:all&start=3201\n"
     ]
    },
    {
     "name": "stderr",
     "output_type": "stream",
     "text": [
      "100%|██████████████████████████████████████████████████████████████████████████████████| 80/80 [05:54<00:00,  4.43s/it]\n",
      "100%|██████████████████████████████████████████████████████████████████████████████████| 80/80 [05:03<00:00,  3.79s/it]\n",
      " 18%|██████████████▎                                                                   | 14/80 [00:23<01:53,  1.71s/it]\n"
     ]
    },
    {
     "name": "stdout",
     "output_type": "stream",
     "text": [
      "https://search.naver.com/search.naver?where=news&sm=tab_pge&query=\"카카오페이\"&photo=0&field=0&pd=3&ds=2021.04.01&de=2021.05.01&cluster_rank=30&mynews=0&office_type=0&office_section_code=0&news_office_checked=&nso=so:r,p:from20190117to20200315,a:all&start=1741\n"
     ]
    },
    {
     "name": "stderr",
     "output_type": "stream",
     "text": [
      "  0%|                                                                                           | 0/80 [00:00<?, ?it/s]\n"
     ]
    },
    {
     "name": "stdout",
     "output_type": "stream",
     "text": [
      "https://search.naver.com/search.naver?where=news&sm=tab_pge&query=\"카카오페이\"&photo=0&field=0&pd=3&ds=2021.04.01&de=2021.05.01&cluster_rank=30&mynews=0&office_type=0&office_section_code=0&news_office_checked=&nso=so:r,p:from20190117to20200315,a:all&start=2401\n"
     ]
    },
    {
     "name": "stderr",
     "output_type": "stream",
     "text": [
      "  0%|                                                                                           | 0/80 [00:00<?, ?it/s]\n"
     ]
    },
    {
     "name": "stdout",
     "output_type": "stream",
     "text": [
      "https://search.naver.com/search.naver?where=news&sm=tab_pge&query=\"카카오페이\"&photo=0&field=0&pd=3&ds=2021.04.01&de=2021.05.01&cluster_rank=30&mynews=0&office_type=0&office_section_code=0&news_office_checked=&nso=so:r,p:from20190117to20200315,a:all&start=3201\n"
     ]
    },
    {
     "name": "stderr",
     "output_type": "stream",
     "text": [
      "100%|██████████████████████████████████████████████████████████████████████████████████| 80/80 [06:36<00:00,  4.95s/it]\n",
      "  2%|██                                                                                 | 2/80 [00:10<06:36,  5.08s/it]\n"
     ]
    },
    {
     "name": "stdout",
     "output_type": "stream",
     "text": [
      "https://search.naver.com/search.naver?where=news&sm=tab_pge&query=\"카카오페이\"&photo=0&field=0&pd=3&ds=2021.05.01&de=2021.06.01&cluster_rank=30&mynews=0&office_type=0&office_section_code=0&news_office_checked=&nso=so:r,p:from20190117to20200315,a:all&start=821\n"
     ]
    },
    {
     "name": "stderr",
     "output_type": "stream",
     "text": [
      " 45%|████████████████████████████████████▉                                             | 36/80 [01:35<01:56,  2.64s/it]\n"
     ]
    },
    {
     "name": "stdout",
     "output_type": "stream",
     "text": [
      "https://search.naver.com/search.naver?where=news&sm=tab_pge&query=\"카카오페이\"&photo=0&field=0&pd=3&ds=2021.05.01&de=2021.06.01&cluster_rank=30&mynews=0&office_type=0&office_section_code=0&news_office_checked=&nso=so:r,p:from20190117to20200315,a:all&start=1961\n"
     ]
    },
    {
     "name": "stderr",
     "output_type": "stream",
     "text": [
      "  0%|                                                                                           | 0/80 [00:00<?, ?it/s]\n"
     ]
    },
    {
     "name": "stdout",
     "output_type": "stream",
     "text": [
      "https://search.naver.com/search.naver?where=news&sm=tab_pge&query=\"카카오페이\"&photo=0&field=0&pd=3&ds=2021.05.01&de=2021.06.01&cluster_rank=30&mynews=0&office_type=0&office_section_code=0&news_office_checked=&nso=so:r,p:from20190117to20200315,a:all&start=2401\n"
     ]
    },
    {
     "name": "stderr",
     "output_type": "stream",
     "text": [
      "  0%|                                                                                           | 0/80 [00:00<?, ?it/s]\n"
     ]
    },
    {
     "name": "stdout",
     "output_type": "stream",
     "text": [
      "https://search.naver.com/search.naver?where=news&sm=tab_pge&query=\"카카오페이\"&photo=0&field=0&pd=3&ds=2021.05.01&de=2021.06.01&cluster_rank=30&mynews=0&office_type=0&office_section_code=0&news_office_checked=&nso=so:r,p:from20190117to20200315,a:all&start=3201\n"
     ]
    },
    {
     "name": "stderr",
     "output_type": "stream",
     "text": [
      "100%|██████████████████████████████████████████████████████████████████████████████████| 80/80 [06:38<00:00,  4.98s/it]\n",
      "100%|██████████████████████████████████████████████████████████████████████████████████| 80/80 [05:17<00:00,  3.97s/it]\n",
      "100%|██████████████████████████████████████████████████████████████████████████████████| 80/80 [05:18<00:00,  3.98s/it]\n",
      " 51%|██████████████████████████████████████████                                        | 41/80 [01:17<01:13,  1.89s/it]\n"
     ]
    },
    {
     "name": "stdout",
     "output_type": "stream",
     "text": [
      "https://search.naver.com/search.naver?where=news&sm=tab_pge&query=\"카카오페이\"&photo=0&field=0&pd=3&ds=2021.06.01&de=2021.07.01&cluster_rank=30&mynews=0&office_type=0&office_section_code=0&news_office_checked=&nso=so:r,p:from20190117to20200315,a:all&start=2811\n"
     ]
    },
    {
     "name": "stderr",
     "output_type": "stream",
     "text": [
      "  0%|                                                                                           | 0/80 [00:00<?, ?it/s]\n"
     ]
    },
    {
     "name": "stdout",
     "output_type": "stream",
     "text": [
      "https://search.naver.com/search.naver?where=news&sm=tab_pge&query=\"카카오페이\"&photo=0&field=0&pd=3&ds=2021.06.01&de=2021.07.01&cluster_rank=30&mynews=0&office_type=0&office_section_code=0&news_office_checked=&nso=so:r,p:from20190117to20200315,a:all&start=3201\n"
     ]
    },
    {
     "name": "stderr",
     "output_type": "stream",
     "text": [
      "100%|██████████████████████████████████████████████████████████████████████████████████| 80/80 [06:00<00:00,  4.50s/it]\n",
      "100%|██████████████████████████████████████████████████████████████████████████████████| 80/80 [05:43<00:00,  4.29s/it]\n",
      "100%|██████████████████████████████████████████████████████████████████████████████████| 80/80 [05:48<00:00,  4.36s/it]\n",
      "100%|██████████████████████████████████████████████████████████████████████████████████| 80/80 [02:55<00:00,  2.20s/it]\n",
      "  4%|███                                                                                | 3/80 [00:06<02:37,  2.04s/it]\n"
     ]
    },
    {
     "name": "stdout",
     "output_type": "stream",
     "text": [
      "https://search.naver.com/search.naver?where=news&sm=tab_pge&query=\"카카오페이\"&photo=0&field=0&pd=3&ds=2021.07.01&de=2021.08.01&cluster_rank=30&mynews=0&office_type=0&office_section_code=0&news_office_checked=&nso=so:r,p:from20190117to20200315,a:all&start=3231\n"
     ]
    },
    {
     "name": "stderr",
     "output_type": "stream",
     "text": [
      "100%|██████████████████████████████████████████████████████████████████████████████████| 80/80 [05:44<00:00,  4.31s/it]\n",
      "100%|██████████████████████████████████████████████████████████████████████████████████| 80/80 [05:16<00:00,  3.95s/it]\n",
      "100%|██████████████████████████████████████████████████████████████████████████████████| 80/80 [04:58<00:00,  3.73s/it]\n",
      " 25%|████████████████████▌                                                             | 20/80 [00:46<02:18,  2.30s/it]\n"
     ]
    },
    {
     "name": "stdout",
     "output_type": "stream",
     "text": [
      "https://search.naver.com/search.naver?where=news&sm=tab_pge&query=\"카카오페이\"&photo=0&field=0&pd=3&ds=2021.08.01&de=2021.09.01&cluster_rank=30&mynews=0&office_type=0&office_section_code=0&news_office_checked=&nso=so:r,p:from20190117to20200315,a:all&start=2601\n"
     ]
    },
    {
     "name": "stderr",
     "output_type": "stream",
     "text": [
      "  0%|                                                                                           | 0/80 [00:00<?, ?it/s]\n"
     ]
    },
    {
     "name": "stdout",
     "output_type": "stream",
     "text": [
      "https://search.naver.com/search.naver?where=news&sm=tab_pge&query=\"카카오페이\"&photo=0&field=0&pd=3&ds=2021.08.01&de=2021.09.01&cluster_rank=30&mynews=0&office_type=0&office_section_code=0&news_office_checked=&nso=so:r,p:from20190117to20200315,a:all&start=3201\n"
     ]
    },
    {
     "name": "stderr",
     "output_type": "stream",
     "text": [
      "100%|██████████████████████████████████████████████████████████████████████████████████| 80/80 [06:39<00:00,  5.00s/it]\n",
      " 29%|███████████████████████▌                                                          | 23/80 [01:42<04:13,  4.44s/it]\n"
     ]
    },
    {
     "name": "stdout",
     "output_type": "stream",
     "text": [
      "https://search.naver.com/search.naver?where=news&sm=tab_pge&query=\"카카오페이\"&photo=0&field=0&pd=3&ds=2021.09.01&de=2021.10.01&cluster_rank=30&mynews=0&office_type=0&office_section_code=0&news_office_checked=&nso=so:r,p:from20190117to20200315,a:all&start=1031\n"
     ]
    },
    {
     "name": "stderr",
     "output_type": "stream",
     "text": [
      "100%|██████████████████████████████████████████████████████████████████████████████████| 80/80 [06:14<00:00,  4.68s/it]\n",
      "100%|██████████████████████████████████████████████████████████████████████████████████| 80/80 [05:01<00:00,  3.76s/it]\n",
      " 45%|████████████████████████████████████▉                                             | 36/80 [00:52<01:04,  1.47s/it]\n"
     ]
    },
    {
     "name": "stdout",
     "output_type": "stream",
     "text": [
      "https://search.naver.com/search.naver?where=news&sm=tab_pge&query=\"카카오페이\"&photo=0&field=0&pd=3&ds=2021.09.01&de=2021.10.01&cluster_rank=30&mynews=0&office_type=0&office_section_code=0&news_office_checked=&nso=so:r,p:from20190117to20200315,a:all&start=3561\n"
     ]
    },
    {
     "name": "stderr",
     "output_type": "stream",
     "text": [
      "100%|██████████████████████████████████████████████████████████████████████████████████| 80/80 [07:58<00:00,  5.98s/it]\n",
      "100%|██████████████████████████████████████████████████████████████████████████████████| 80/80 [04:14<00:00,  3.18s/it]\n",
      " 38%|██████████████████████████████▊                                                   | 30/80 [02:05<03:28,  4.18s/it]\n"
     ]
    },
    {
     "name": "stdout",
     "output_type": "stream",
     "text": [
      "https://search.naver.com/search.naver?where=news&sm=tab_pge&query=\"카카오페이\"&photo=0&field=0&pd=3&ds=2021.10.01&de=2021.11.01&cluster_rank=30&mynews=0&office_type=0&office_section_code=0&news_office_checked=&nso=so:r,p:from20190117to20200315,a:all&start=1901\n"
     ]
    },
    {
     "name": "stderr",
     "output_type": "stream",
     "text": [
      " 70%|█████████████████████████████████████████████████████████▍                        | 56/80 [02:48<01:12,  3.02s/it]\n"
     ]
    },
    {
     "name": "stdout",
     "output_type": "stream",
     "text": [
      "https://search.naver.com/search.naver?where=news&sm=tab_pge&query=\"카카오페이\"&photo=0&field=0&pd=3&ds=2021.10.01&de=2021.11.01&cluster_rank=30&mynews=0&office_type=0&office_section_code=0&news_office_checked=&nso=so:r,p:from20190117to20200315,a:all&start=2961\n"
     ]
    },
    {
     "name": "stderr",
     "output_type": "stream",
     "text": [
      "  0%|                                                                                           | 0/80 [00:00<?, ?it/s]\n"
     ]
    },
    {
     "name": "stdout",
     "output_type": "stream",
     "text": [
      "https://search.naver.com/search.naver?where=news&sm=tab_pge&query=\"카카오페이\"&photo=0&field=0&pd=3&ds=2021.10.01&de=2021.11.01&cluster_rank=30&mynews=0&office_type=0&office_section_code=0&news_office_checked=&nso=so:r,p:from20190117to20200315,a:all&start=3201\n"
     ]
    },
    {
     "name": "stderr",
     "output_type": "stream",
     "text": [
      "100%|██████████████████████████████████████████████████████████████████████████████████| 80/80 [06:21<00:00,  4.76s/it]\n",
      "100%|██████████████████████████████████████████████████████████████████████████████████| 80/80 [06:10<00:00,  4.63s/it]\n",
      "100%|██████████████████████████████████████████████████████████████████████████████████| 80/80 [04:59<00:00,  3.74s/it]\n",
      "100%|██████████████████████████████████████████████████████████████████████████████████| 80/80 [05:49<00:00,  4.36s/it]\n",
      "100%|██████████████████████████████████████████████████████████████████████████████████| 80/80 [04:43<00:00,  3.54s/it]\n",
      "100%|██████████████████████████████████████████████████████████████████████████████████| 80/80 [06:10<00:00,  4.64s/it]\n",
      "100%|██████████████████████████████████████████████████████████████████████████████████| 80/80 [05:30<00:00,  4.13s/it]\n",
      "100%|██████████████████████████████████████████████████████████████████████████████████| 80/80 [05:31<00:00,  4.15s/it]\n",
      " 61%|██████████████████████████████████████████████████▏                               | 49/80 [01:30<00:57,  1.84s/it]\n"
     ]
    },
    {
     "name": "stdout",
     "output_type": "stream",
     "text": [
      "https://search.naver.com/search.naver?where=news&sm=tab_pge&query=\"카카오페이\"&photo=0&field=0&pd=3&ds=2021.12.01&de=2021.12.31&cluster_rank=30&mynews=0&office_type=0&office_section_code=0&news_office_checked=&nso=so:r,p:from20190117to20200315,a:all&start=2891\n"
     ]
    },
    {
     "name": "stderr",
     "output_type": "stream",
     "text": [
      "  0%|                                                                                           | 0/80 [00:00<?, ?it/s]\n"
     ]
    },
    {
     "name": "stdout",
     "output_type": "stream",
     "text": [
      "https://search.naver.com/search.naver?where=news&sm=tab_pge&query=\"카카오페이\"&photo=0&field=0&pd=3&ds=2021.12.01&de=2021.12.31&cluster_rank=30&mynews=0&office_type=0&office_section_code=0&news_office_checked=&nso=so:r,p:from20190117to20200315,a:all&start=3201\n"
     ]
    },
    {
     "name": "stderr",
     "output_type": "stream",
     "text": [
      "100%|██████████████████████████████████████████████████████████████████████████████████| 80/80 [08:01<00:00,  6.02s/it]\n",
      "100%|██████████████████████████████████████████████████████████████████████████████████| 80/80 [06:13<00:00,  4.67s/it]\n",
      "100%|██████████████████████████████████████████████████████████████████████████████████| 80/80 [05:25<00:00,  4.07s/it]\n",
      "100%|██████████████████████████████████████████████████████████████████████████████████| 80/80 [06:44<00:00,  5.05s/it]\n",
      "100%|██████████████████████████████████████████████████████████████████████████████████| 80/80 [04:45<00:00,  3.57s/it]\n",
      "100%|██████████████████████████████████████████████████████████████████████████████████| 80/80 [06:43<00:00,  5.05s/it]\n",
      " 84%|████████████████████████████████████████████████████████████████████▋             | 67/80 [04:49<00:56,  4.32s/it]\n"
     ]
    },
    {
     "name": "stdout",
     "output_type": "stream",
     "text": [
      "https://search.naver.com/search.naver?where=news&sm=tab_pge&query=\"카카오페이\"&photo=0&field=0&pd=3&ds=2022.02.01&de=2022.03.01&cluster_rank=30&mynews=0&office_type=0&office_section_code=0&news_office_checked=&nso=so:r,p:from20190117to20200315,a:all&start=1471\n"
     ]
    },
    {
     "name": "stderr",
     "output_type": "stream",
     "text": [
      " 84%|████████████████████████████████████████████████████████████████████▋             | 67/80 [03:23<00:39,  3.03s/it]\n"
     ]
    },
    {
     "name": "stdout",
     "output_type": "stream",
     "text": [
      "https://search.naver.com/search.naver?where=news&sm=tab_pge&query=\"카카오페이\"&photo=0&field=0&pd=3&ds=2022.02.01&de=2022.03.01&cluster_rank=30&mynews=0&office_type=0&office_section_code=0&news_office_checked=&nso=so:r,p:from20190117to20200315,a:all&start=2271\n"
     ]
    },
    {
     "name": "stderr",
     "output_type": "stream",
     "text": [
      "  0%|                                                                                           | 0/80 [00:00<?, ?it/s]\n"
     ]
    },
    {
     "name": "stdout",
     "output_type": "stream",
     "text": [
      "https://search.naver.com/search.naver?where=news&sm=tab_pge&query=\"카카오페이\"&photo=0&field=0&pd=3&ds=2022.02.01&de=2022.03.01&cluster_rank=30&mynews=0&office_type=0&office_section_code=0&news_office_checked=&nso=so:r,p:from20190117to20200315,a:all&start=2401\n"
     ]
    },
    {
     "name": "stderr",
     "output_type": "stream",
     "text": [
      "  0%|                                                                                           | 0/80 [00:00<?, ?it/s]\n"
     ]
    },
    {
     "name": "stdout",
     "output_type": "stream",
     "text": [
      "https://search.naver.com/search.naver?where=news&sm=tab_pge&query=\"카카오페이\"&photo=0&field=0&pd=3&ds=2022.02.01&de=2022.03.01&cluster_rank=30&mynews=0&office_type=0&office_section_code=0&news_office_checked=&nso=so:r,p:from20190117to20200315,a:all&start=3201\n"
     ]
    },
    {
     "name": "stderr",
     "output_type": "stream",
     "text": [
      "100%|██████████████████████████████████████████████████████████████████████████████████| 80/80 [05:51<00:00,  4.39s/it]\n",
      " 59%|████████████████████████████████████████████████▏                                 | 47/80 [03:46<02:39,  4.82s/it]\n"
     ]
    },
    {
     "name": "stdout",
     "output_type": "stream",
     "text": [
      "https://search.naver.com/search.naver?where=news&sm=tab_pge&query=\"카카오페이\"&photo=0&field=0&pd=3&ds=2022.03.01&de=2022.04.01&cluster_rank=30&mynews=0&office_type=0&office_section_code=0&news_office_checked=&nso=so:r,p:from20190117to20200315,a:all&start=1271\n"
     ]
    },
    {
     "name": "stderr",
     "output_type": "stream",
     "text": [
      " 14%|███████████▎                                                                      | 11/80 [00:16<01:43,  1.50s/it]\n"
     ]
    },
    {
     "name": "stdout",
     "output_type": "stream",
     "text": [
      "https://search.naver.com/search.naver?where=news&sm=tab_pge&query=\"카카오페이\"&photo=0&field=0&pd=3&ds=2022.03.01&de=2022.04.01&cluster_rank=30&mynews=0&office_type=0&office_section_code=0&news_office_checked=&nso=so:r,p:from20190117to20200315,a:all&start=1711\n"
     ]
    },
    {
     "name": "stderr",
     "output_type": "stream",
     "text": [
      "  0%|                                                                                           | 0/80 [00:00<?, ?it/s]\n"
     ]
    },
    {
     "name": "stdout",
     "output_type": "stream",
     "text": [
      "https://search.naver.com/search.naver?where=news&sm=tab_pge&query=\"카카오페이\"&photo=0&field=0&pd=3&ds=2022.03.01&de=2022.04.01&cluster_rank=30&mynews=0&office_type=0&office_section_code=0&news_office_checked=&nso=so:r,p:from20190117to20200315,a:all&start=2401\n"
     ]
    },
    {
     "name": "stderr",
     "output_type": "stream",
     "text": [
      "  0%|                                                                                           | 0/80 [00:00<?, ?it/s]\n"
     ]
    },
    {
     "name": "stdout",
     "output_type": "stream",
     "text": [
      "https://search.naver.com/search.naver?where=news&sm=tab_pge&query=\"카카오페이\"&photo=0&field=0&pd=3&ds=2022.03.01&de=2022.04.01&cluster_rank=30&mynews=0&office_type=0&office_section_code=0&news_office_checked=&nso=so:r,p:from20190117to20200315,a:all&start=3201\n"
     ]
    },
    {
     "name": "stderr",
     "output_type": "stream",
     "text": [
      "100%|██████████████████████████████████████████████████████████████████████████████████| 80/80 [05:58<00:00,  4.48s/it]\n",
      "100%|██████████████████████████████████████████████████████████████████████████████████| 80/80 [05:54<00:00,  4.43s/it]\n",
      " 26%|█████████████████████▌                                                            | 21/80 [01:07<03:11,  3.24s/it]\n"
     ]
    },
    {
     "name": "stdout",
     "output_type": "stream",
     "text": [
      "https://search.naver.com/search.naver?where=news&sm=tab_pge&query=\"카카오페이\"&photo=0&field=0&pd=3&ds=2022.04.01&de=2022.05.01&cluster_rank=30&mynews=0&office_type=0&office_section_code=0&news_office_checked=&nso=so:r,p:from20190117to20200315,a:all&start=1811\n"
     ]
    },
    {
     "name": "stderr",
     "output_type": "stream",
     "text": [
      "  0%|                                                                                           | 0/80 [00:00<?, ?it/s]\n"
     ]
    },
    {
     "name": "stdout",
     "output_type": "stream",
     "text": [
      "https://search.naver.com/search.naver?where=news&sm=tab_pge&query=\"카카오페이\"&photo=0&field=0&pd=3&ds=2022.04.01&de=2022.05.01&cluster_rank=30&mynews=0&office_type=0&office_section_code=0&news_office_checked=&nso=so:r,p:from20190117to20200315,a:all&start=2401\n"
     ]
    },
    {
     "name": "stderr",
     "output_type": "stream",
     "text": [
      "  0%|                                                                                           | 0/80 [00:00<?, ?it/s]\n"
     ]
    },
    {
     "name": "stdout",
     "output_type": "stream",
     "text": [
      "https://search.naver.com/search.naver?where=news&sm=tab_pge&query=\"카카오페이\"&photo=0&field=0&pd=3&ds=2022.04.01&de=2022.05.01&cluster_rank=30&mynews=0&office_type=0&office_section_code=0&news_office_checked=&nso=so:r,p:from20190117to20200315,a:all&start=3201\n"
     ]
    },
    {
     "name": "stderr",
     "output_type": "stream",
     "text": [
      "100%|██████████████████████████████████████████████████████████████████████████████████| 80/80 [06:44<00:00,  5.05s/it]\n",
      "100%|██████████████████████████████████████████████████████████████████████████████████| 80/80 [05:27<00:00,  4.09s/it]\n",
      "100%|██████████████████████████████████████████████████████████████████████████████████| 80/80 [04:19<00:00,  3.25s/it]\n",
      "  6%|█████▏                                                                             | 5/80 [00:04<01:13,  1.02it/s]\n"
     ]
    },
    {
     "name": "stdout",
     "output_type": "stream",
     "text": [
      "https://search.naver.com/search.naver?where=news&sm=tab_pge&query=\"카카오페이\"&photo=0&field=0&pd=3&ds=2022.05.01&de=2022.06.01&cluster_rank=30&mynews=0&office_type=0&office_section_code=0&news_office_checked=&nso=so:r,p:from20190117to20200315,a:all&start=2451\n"
     ]
    },
    {
     "name": "stderr",
     "output_type": "stream",
     "text": [
      "  0%|                                                                                           | 0/80 [00:00<?, ?it/s]\n"
     ]
    },
    {
     "name": "stdout",
     "output_type": "stream",
     "text": [
      "https://search.naver.com/search.naver?where=news&sm=tab_pge&query=\"카카오페이\"&photo=0&field=0&pd=3&ds=2022.05.01&de=2022.06.01&cluster_rank=30&mynews=0&office_type=0&office_section_code=0&news_office_checked=&nso=so:r,p:from20190117to20200315,a:all&start=3201\n"
     ]
    },
    {
     "name": "stderr",
     "output_type": "stream",
     "text": [
      "100%|██████████████████████████████████████████████████████████████████████████████████| 80/80 [06:18<00:00,  4.73s/it]\n",
      "100%|██████████████████████████████████████████████████████████████████████████████████| 80/80 [05:22<00:00,  4.04s/it]\n",
      "100%|██████████████████████████████████████████████████████████████████████████████████| 80/80 [04:36<00:00,  3.45s/it]\n",
      " 24%|███████████████████▍                                                              | 19/80 [00:27<01:27,  1.43s/it]\n"
     ]
    },
    {
     "name": "stdout",
     "output_type": "stream",
     "text": [
      "https://search.naver.com/search.naver?where=news&sm=tab_pge&query=\"카카오페이\"&photo=0&field=0&pd=3&ds=2022.06.01&de=2022.07.01&cluster_rank=30&mynews=0&office_type=0&office_section_code=0&news_office_checked=&nso=so:r,p:from20190117to20200315,a:all&start=2591\n"
     ]
    },
    {
     "name": "stderr",
     "output_type": "stream",
     "text": [
      "  0%|                                                                                           | 0/80 [00:00<?, ?it/s]\n"
     ]
    },
    {
     "name": "stdout",
     "output_type": "stream",
     "text": [
      "https://search.naver.com/search.naver?where=news&sm=tab_pge&query=\"카카오페이\"&photo=0&field=0&pd=3&ds=2022.06.01&de=2022.07.01&cluster_rank=30&mynews=0&office_type=0&office_section_code=0&news_office_checked=&nso=so:r,p:from20190117to20200315,a:all&start=3201\n"
     ]
    },
    {
     "name": "stderr",
     "output_type": "stream",
     "text": [
      "100%|██████████████████████████████████████████████████████████████████████████████████| 80/80 [06:17<00:00,  4.72s/it]\n",
      "100%|██████████████████████████████████████████████████████████████████████████████████| 80/80 [05:13<00:00,  3.92s/it]\n",
      " 56%|██████████████████████████████████████████████▏                                   | 45/80 [01:35<01:14,  2.13s/it]\n"
     ]
    },
    {
     "name": "stdout",
     "output_type": "stream",
     "text": [
      "https://search.naver.com/search.naver?where=news&sm=tab_pge&query=\"카카오페이\"&photo=0&field=0&pd=3&ds=2022.07.01&de=2022.08.01&cluster_rank=30&mynews=0&office_type=0&office_section_code=0&news_office_checked=&nso=so:r,p:from20190117to20200315,a:all&start=2051\n"
     ]
    },
    {
     "name": "stderr",
     "output_type": "stream",
     "text": [
      "  0%|                                                                                           | 0/80 [00:00<?, ?it/s]\n"
     ]
    },
    {
     "name": "stdout",
     "output_type": "stream",
     "text": [
      "https://search.naver.com/search.naver?where=news&sm=tab_pge&query=\"카카오페이\"&photo=0&field=0&pd=3&ds=2022.07.01&de=2022.08.01&cluster_rank=30&mynews=0&office_type=0&office_section_code=0&news_office_checked=&nso=so:r,p:from20190117to20200315,a:all&start=2401\n"
     ]
    },
    {
     "name": "stderr",
     "output_type": "stream",
     "text": [
      "  0%|                                                                                           | 0/80 [00:00<?, ?it/s]\n"
     ]
    },
    {
     "name": "stdout",
     "output_type": "stream",
     "text": [
      "https://search.naver.com/search.naver?where=news&sm=tab_pge&query=\"카카오페이\"&photo=0&field=0&pd=3&ds=2022.07.01&de=2022.08.01&cluster_rank=30&mynews=0&office_type=0&office_section_code=0&news_office_checked=&nso=so:r,p:from20190117to20200315,a:all&start=3201\n"
     ]
    },
    {
     "name": "stderr",
     "output_type": "stream",
     "text": [
      "100%|██████████████████████████████████████████████████████████████████████████████████| 80/80 [06:08<00:00,  4.61s/it]\n",
      "100%|██████████████████████████████████████████████████████████████████████████████████| 80/80 [06:17<00:00,  4.71s/it]\n",
      " 92%|███████████████████████████████████████████████████████████████████████████▊      | 74/80 [03:07<00:15,  2.53s/it]\n"
     ]
    },
    {
     "name": "stdout",
     "output_type": "stream",
     "text": [
      "https://search.naver.com/search.naver?where=news&sm=tab_pge&query=\"카카오페이\"&photo=0&field=0&pd=3&ds=2022.08.01&de=2022.09.01&cluster_rank=30&mynews=0&office_type=0&office_section_code=0&news_office_checked=&nso=so:r,p:from20190117to20200315,a:all&start=2341\n"
     ]
    },
    {
     "name": "stderr",
     "output_type": "stream",
     "text": [
      "  0%|                                                                                           | 0/80 [00:00<?, ?it/s]\n"
     ]
    },
    {
     "name": "stdout",
     "output_type": "stream",
     "text": [
      "https://search.naver.com/search.naver?where=news&sm=tab_pge&query=\"카카오페이\"&photo=0&field=0&pd=3&ds=2022.08.01&de=2022.09.01&cluster_rank=30&mynews=0&office_type=0&office_section_code=0&news_office_checked=&nso=so:r,p:from20190117to20200315,a:all&start=2401\n"
     ]
    },
    {
     "name": "stderr",
     "output_type": "stream",
     "text": [
      "  0%|                                                                                           | 0/80 [00:00<?, ?it/s]\n"
     ]
    },
    {
     "name": "stdout",
     "output_type": "stream",
     "text": [
      "https://search.naver.com/search.naver?where=news&sm=tab_pge&query=\"카카오페이\"&photo=0&field=0&pd=3&ds=2022.08.01&de=2022.09.01&cluster_rank=30&mynews=0&office_type=0&office_section_code=0&news_office_checked=&nso=so:r,p:from20190117to20200315,a:all&start=3201\n"
     ]
    },
    {
     "name": "stderr",
     "output_type": "stream",
     "text": [
      "100%|██████████████████████████████████████████████████████████████████████████████████| 80/80 [05:39<00:00,  4.24s/it]\n",
      "100%|██████████████████████████████████████████████████████████████████████████████████| 80/80 [05:29<00:00,  4.12s/it]\n",
      " 52%|███████████████████████████████████████████                                       | 42/80 [01:42<01:33,  2.45s/it]\n"
     ]
    },
    {
     "name": "stdout",
     "output_type": "stream",
     "text": [
      "https://search.naver.com/search.naver?where=news&sm=tab_pge&query=\"카카오페이\"&photo=0&field=0&pd=3&ds=2022.09.01&de=2022.10.01&cluster_rank=30&mynews=0&office_type=0&office_section_code=0&news_office_checked=&nso=so:r,p:from20190117to20200315,a:all&start=2021\n"
     ]
    },
    {
     "name": "stderr",
     "output_type": "stream",
     "text": [
      "  0%|                                                                                           | 0/80 [00:00<?, ?it/s]\n"
     ]
    },
    {
     "name": "stdout",
     "output_type": "stream",
     "text": [
      "https://search.naver.com/search.naver?where=news&sm=tab_pge&query=\"카카오페이\"&photo=0&field=0&pd=3&ds=2022.09.01&de=2022.10.01&cluster_rank=30&mynews=0&office_type=0&office_section_code=0&news_office_checked=&nso=so:r,p:from20190117to20200315,a:all&start=2401\n"
     ]
    },
    {
     "name": "stderr",
     "output_type": "stream",
     "text": [
      "  0%|                                                                                           | 0/80 [00:00<?, ?it/s]\n"
     ]
    },
    {
     "name": "stdout",
     "output_type": "stream",
     "text": [
      "https://search.naver.com/search.naver?where=news&sm=tab_pge&query=\"카카오페이\"&photo=0&field=0&pd=3&ds=2022.09.01&de=2022.10.01&cluster_rank=30&mynews=0&office_type=0&office_section_code=0&news_office_checked=&nso=so:r,p:from20190117to20200315,a:all&start=3201\n"
     ]
    },
    {
     "name": "stderr",
     "output_type": "stream",
     "text": [
      "100%|██████████████████████████████████████████████████████████████████████████████████| 80/80 [09:26<00:00,  7.08s/it]\n",
      "100%|██████████████████████████████████████████████████████████████████████████████████| 80/80 [07:04<00:00,  5.31s/it]\n",
      " 18%|██████████████▎                                                                   | 14/80 [01:16<06:02,  5.49s/it]\n"
     ]
    },
    {
     "name": "stdout",
     "output_type": "stream",
     "text": [
      "https://search.naver.com/search.naver?where=news&sm=tab_pge&query=\"카카오페이\"&photo=0&field=0&pd=3&ds=2022.10.01&de=2022.11.01&cluster_rank=30&mynews=0&office_type=0&office_section_code=0&news_office_checked=&nso=so:r,p:from20190117to20200315,a:all&start=1741\n"
     ]
    },
    {
     "name": "stderr",
     "output_type": "stream",
     "text": [
      "100%|██████████████████████████████████████████████████████████████████████████████████| 80/80 [06:09<00:00,  4.61s/it]\n",
      "100%|██████████████████████████████████████████████████████████████████████████████████| 80/80 [04:36<00:00,  3.46s/it]\n",
      "100%|██████████████████████████████████████████████████████████████████████████████████| 80/80 [06:37<00:00,  4.97s/it]\n",
      "100%|██████████████████████████████████████████████████████████████████████████████████| 80/80 [05:02<00:00,  3.78s/it]\n",
      "100%|██████████████████████████████████████████████████████████████████████████████████| 80/80 [04:26<00:00,  3.34s/it]\n",
      "  5%|████▏                                                                              | 4/80 [00:03<01:05,  1.16it/s]\n"
     ]
    },
    {
     "name": "stdout",
     "output_type": "stream",
     "text": [
      "https://search.naver.com/search.naver?where=news&sm=tab_pge&query=\"카카오페이\"&photo=0&field=0&pd=3&ds=2022.11.01&de=2022.12.01&cluster_rank=30&mynews=0&office_type=0&office_section_code=0&news_office_checked=&nso=so:r,p:from20190117to20200315,a:all&start=2441\n"
     ]
    },
    {
     "name": "stderr",
     "output_type": "stream",
     "text": [
      "  0%|                                                                                           | 0/80 [00:00<?, ?it/s]\n"
     ]
    },
    {
     "name": "stdout",
     "output_type": "stream",
     "text": [
      "https://search.naver.com/search.naver?where=news&sm=tab_pge&query=\"카카오페이\"&photo=0&field=0&pd=3&ds=2022.11.01&de=2022.12.01&cluster_rank=30&mynews=0&office_type=0&office_section_code=0&news_office_checked=&nso=so:r,p:from20190117to20200315,a:all&start=3201\n"
     ]
    },
    {
     "name": "stderr",
     "output_type": "stream",
     "text": [
      "100%|██████████████████████████████████████████████████████████████████████████████████| 80/80 [05:51<00:00,  4.39s/it]\n",
      "100%|██████████████████████████████████████████████████████████████████████████████████| 80/80 [06:00<00:00,  4.51s/it]\n",
      " 19%|███████████████▍                                                                  | 15/80 [00:53<03:49,  3.54s/it]\n"
     ]
    },
    {
     "name": "stdout",
     "output_type": "stream",
     "text": [
      "https://search.naver.com/search.naver?where=news&sm=tab_pge&query=\"카카오페이\"&photo=0&field=0&pd=3&ds=2022.12.01&de=2022.12.31&cluster_rank=30&mynews=0&office_type=0&office_section_code=0&news_office_checked=&nso=so:r,p:from20190117to20200315,a:all&start=1751\n"
     ]
    },
    {
     "name": "stderr",
     "output_type": "stream",
     "text": [
      "  0%|                                                                                           | 0/80 [00:00<?, ?it/s]\n"
     ]
    },
    {
     "name": "stdout",
     "output_type": "stream",
     "text": [
      "https://search.naver.com/search.naver?where=news&sm=tab_pge&query=\"카카오페이\"&photo=0&field=0&pd=3&ds=2022.12.01&de=2022.12.31&cluster_rank=30&mynews=0&office_type=0&office_section_code=0&news_office_checked=&nso=so:r,p:from20190117to20200315,a:all&start=2401\n"
     ]
    },
    {
     "name": "stderr",
     "output_type": "stream",
     "text": [
      "  0%|                                                                                           | 0/80 [00:00<?, ?it/s]"
     ]
    },
    {
     "name": "stdout",
     "output_type": "stream",
     "text": [
      "https://search.naver.com/search.naver?where=news&sm=tab_pge&query=\"카카오페이\"&photo=0&field=0&pd=3&ds=2022.12.01&de=2022.12.31&cluster_rank=30&mynews=0&office_type=0&office_section_code=0&news_office_checked=&nso=so:r,p:from20190117to20200315,a:all&start=3201\n",
      "44080\n"
     ]
    },
    {
     "name": "stderr",
     "output_type": "stream",
     "text": [
      "\n"
     ]
    }
   ],
   "source": [
    "from pyvirtualdisplay import Display\n",
    "\n",
    "driver = webdriver.Chrome(ChromeDriverManager().install())\n",
    "driver.implicitly_wait(3)\n",
    "\n",
    "\n",
    "# selenium으로 검색 페이지 불러오기 #\n",
    "\n",
    "naver_news=[]\n",
    "\n",
    "for i in range(int(len(search_urls) / 400)):\n",
    "    lst = search_urls[i*400 : (i+1)*400]\n",
    "\n",
    "\n",
    "    for url in tqdm(lst):\n",
    "        driver.switch_to.window(driver.window_handles[0])\n",
    "        driver.get(url)\n",
    "        driver.implicitly_wait(0.5) #대기시간 변경 가능\n",
    "\n",
    "        # 네이버 기사 눌러서 제목 및 본문 가져오기#\n",
    "        # 네이버 기사가 있는 기사 css selector 모아오기\n",
    "        a = driver.find_elements(By.CSS_SELECTOR,'a.info')\n",
    "        for item in a:\n",
    "            driver.switch_to.window(driver.window_handles[0])\n",
    "            if item.text == '네이버뉴스':\n",
    "                item.click()\n",
    "                driver.implicitly_wait(0.5)\n",
    "                driver.switch_to.window(driver.window_handles[-1])\n",
    "                driver.implicitly_wait(0.5)\n",
    "                temp_url = driver.current_url\n",
    "                naver_news.append(temp_url)\n",
    "                driver.implicitly_wait(0.5)\n",
    "                driver.close()\n",
    "\n",
    "            else:\n",
    "                pass\n",
    "            \n",
    "        if len(a) < 10:\n",
    "            print(url)\n",
    "            break\n",
    "\n",
    "print(len(naver_news))"
   ]
  },
  {
   "cell_type": "code",
   "execution_count": 41,
   "id": "cf8a13d6-6c9d-4e43-bb2a-6d8943bfff15",
   "metadata": {},
   "outputs": [
    {
     "data": {
      "text/plain": [
       "44080"
      ]
     },
     "execution_count": 41,
     "metadata": {},
     "output_type": "execute_result"
    }
   ],
   "source": [
    "len(naver_news)"
   ]
  },
  {
   "cell_type": "code",
   "execution_count": 40,
   "id": "acf0e522-3213-4669-9bd9-16c2b0ab40ed",
   "metadata": {},
   "outputs": [],
   "source": [
    "pd.DataFrame(naver_news).to_csv(\"./KP_ESG_naver_monthlyTop4000.csv\")"
   ]
  },
  {
   "cell_type": "code",
   "execution_count": 42,
   "id": "bf5cde8c-7a5a-4f3f-bac6-5180548b5fb5",
   "metadata": {
    "tags": []
   },
   "outputs": [
    {
     "name": "stderr",
     "output_type": "stream",
     "text": [
      "100%|██████████████████████████████████████████████████████████████████████████| 44080/44080 [2:59:57<00:00,  4.08it/s]\n"
     ]
    }
   ],
   "source": [
    "headers = { \"User-Agent\": \"Mozilla/5.0 (Windows NT 10.0; Win64; x64) Chrome/98.0.4758.102\" }\n",
    "\n",
    "titles = []\n",
    "contents=[]\n",
    "for i in tqdm(naver_news):\n",
    "    #print(i)\n",
    "    original_html = requests.get(i,headers=headers)\n",
    "    html = BeautifulSoup(original_html.text, \"html.parser\")\n",
    "    # 검색결과확인시\n",
    "    #print(html)\n",
    "    \n",
    "    #뉴스 제목 가져오기\n",
    "    title = html.select(\"#ct > div.media_end_head.go_trans > div.media_end_head_title > h2\")\n",
    "    # list합치기\n",
    "    title = ''.join(str(title))\n",
    "    # html태그제거\n",
    "    pattern1 = '<[^>]*>'\n",
    "    title = re.sub(pattern=pattern1,repl='',string=title)\n",
    "    title = title.replace('[', \"\")\n",
    "    title = title.replace(']' , \"\")\n",
    "    title = title.replace('\"', '')\n",
    "    #print(title)\n",
    "    titles.append(title)\n",
    "\n",
    "    #뉴스 본문 가져오기\n",
    "\n",
    "    content = html.select(\"#dic_area\")\n",
    "\n",
    "    # 기사 텍스트만 가져오기\n",
    "    # list합치기\n",
    "    content = ''.join(str(content))\n",
    "    \n",
    "    #html태그제거 및 텍스트 다듬기\n",
    "    content = re.sub(pattern=pattern1,repl='',string=content)\n",
    "    pattern2 = \"\"\"[\\n\\n\\n\\n\\n// flash 오류를 우회하기 위한 함수 추가\\nfunction _flash_removeCallback() {}\"\"\"\n",
    "    content = content.replace(pattern2,'')\n",
    "    \n",
    "    #print(content)\n",
    "    contents.append(content)"
   ]
  },
  {
   "cell_type": "code",
   "execution_count": 43,
   "id": "4a4faf4e-62af-4807-80e6-ec3dd6166f98",
   "metadata": {
    "tags": []
   },
   "outputs": [],
   "source": [
    "news_data = pd.DataFrame([naver_news, titles, contents]).T"
   ]
  },
  {
   "cell_type": "code",
   "execution_count": 44,
   "id": "b7e1b25c-e48d-4118-aa6c-430e9ec5fdf2",
   "metadata": {
    "tags": []
   },
   "outputs": [
    {
     "data": {
      "text/html": [
       "<div>\n",
       "<style scoped>\n",
       "    .dataframe tbody tr th:only-of-type {\n",
       "        vertical-align: middle;\n",
       "    }\n",
       "\n",
       "    .dataframe tbody tr th {\n",
       "        vertical-align: top;\n",
       "    }\n",
       "\n",
       "    .dataframe thead th {\n",
       "        text-align: right;\n",
       "    }\n",
       "</style>\n",
       "<table border=\"1\" class=\"dataframe\">\n",
       "  <thead>\n",
       "    <tr style=\"text-align: right;\">\n",
       "      <th></th>\n",
       "      <th>0</th>\n",
       "      <th>1</th>\n",
       "      <th>2</th>\n",
       "    </tr>\n",
       "  </thead>\n",
       "  <tbody>\n",
       "    <tr>\n",
       "      <th>0</th>\n",
       "      <td>https://n.news.naver.com/mnews/article/021/000...</td>\n",
       "      <td>카드업계도…‘모바일 페이’ 수수료 전쟁 시작된다</td>\n",
       "      <td>[\\n\\n\\n\\n\\n\\n간편결제 시장 日평균 2500억7개 카드사 결제대행업체 설립...</td>\n",
       "    </tr>\n",
       "    <tr>\n",
       "      <th>1</th>\n",
       "      <td>https://n.news.naver.com/mnews/article/015/000...</td>\n",
       "      <td>카카오페이도 소상공인에 '활짝'…결제 API 공개</td>\n",
       "      <td>[\\n쉽게 가져다 쓰는 오픈 플랫폼 전략\"온라인 결제시스템 도입 부담 덜 것\"\\n\\...</td>\n",
       "    </tr>\n",
       "    <tr>\n",
       "      <th>2</th>\n",
       "      <td>https://n.news.naver.com/mnews/article/421/000...</td>\n",
       "      <td>대한항공, 모바일 항공권 결제에 삼성페이 도입</td>\n",
       "      <td>[\\n\\n\\n\\n\\n대한항공이 도입한 온라인 결제시스템인 카카오페이와 페이코 서비스...</td>\n",
       "    </tr>\n",
       "    <tr>\n",
       "      <th>3</th>\n",
       "      <td>https://n.news.naver.com/mnews/article/001/000...</td>\n",
       "      <td>카카오페이로 세금납부 가능해진다…모바일 세금납부 확대</td>\n",
       "      <td>[\\n\\n\\n\\n\\n [연합뉴스TV제공]국세청, 전국 세무관서장 회의…종합소득세 전...</td>\n",
       "    </tr>\n",
       "    <tr>\n",
       "      <th>4</th>\n",
       "      <td>https://n.news.naver.com/mnews/article/001/000...</td>\n",
       "      <td>카카오페이, 외부 업체도 자유롭게 쓰세요</td>\n",
       "      <td>[\\n\\n\\n\\n\\n카카오페이 타이틀 화면 &amp;lt;&amp;lt;카카오 제공&amp;gt;&amp;gt;...</td>\n",
       "    </tr>\n",
       "    <tr>\n",
       "      <th>...</th>\n",
       "      <td>...</td>\n",
       "      <td>...</td>\n",
       "      <td>...</td>\n",
       "    </tr>\n",
       "    <tr>\n",
       "      <th>44075</th>\n",
       "      <td>https://n.news.naver.com/mnews/article/003/001...</td>\n",
       "      <td>횡성군, 연말연시 '희망 2023 나눔캠페인' 추진</td>\n",
       "      <td>[\\n기사내용 요약'함께하는 나눔, 지속가능한 강원'\\n\\n\\n\\n[횡성=뉴시스]이...</td>\n",
       "    </tr>\n",
       "    <tr>\n",
       "      <th>44076</th>\n",
       "      <td>https://n.news.naver.com/mnews/article/421/000...</td>\n",
       "      <td>청양군 “2022년 2기분 자동차세 내달 2일까지 납부하세요”</td>\n",
       "      <td>[\\n은행 현금자동출납기서 고지서없이 납부 가능\\n\\n\\n\\n청양군 청사 전경.(청...</td>\n",
       "    </tr>\n",
       "    <tr>\n",
       "      <th>44077</th>\n",
       "      <td>https://n.news.naver.com/mnews/article/421/000...</td>\n",
       "      <td>반갑다 코스피 2500…금리압력 약화로 석달만에 회복개장시황</td>\n",
       "      <td>[\\n지난 8월 이후 100여일만…네이버-카카오 등 성장주 강세 환율도 4개월여만에...</td>\n",
       "    </tr>\n",
       "    <tr>\n",
       "      <th>44078</th>\n",
       "      <td>https://n.news.naver.com/mnews/article/119/000...</td>\n",
       "      <td>고객 찾아가는 증권사...방문판매 서비스 본격화</td>\n",
       "      <td>[\\n증권사 PB가 보험사처럼 펀드상품 등 직접 판매“오래전 시스템 구축...파급력...</td>\n",
       "    </tr>\n",
       "    <tr>\n",
       "      <th>44079</th>\n",
       "      <td>https://n.news.naver.com/mnews/article/079/000...</td>\n",
       "      <td>'함께하는 나눔, 행복한 우리 경기'…희망 나눔 캠페인 시작</td>\n",
       "      <td>[\\n올해 목표액, 지난해보다 10% 높아진 307억원1% 성금 모금될 때마다 온도...</td>\n",
       "    </tr>\n",
       "  </tbody>\n",
       "</table>\n",
       "<p>44080 rows × 3 columns</p>\n",
       "</div>"
      ],
      "text/plain": [
       "                                                       0  \\\n",
       "0      https://n.news.naver.com/mnews/article/021/000...   \n",
       "1      https://n.news.naver.com/mnews/article/015/000...   \n",
       "2      https://n.news.naver.com/mnews/article/421/000...   \n",
       "3      https://n.news.naver.com/mnews/article/001/000...   \n",
       "4      https://n.news.naver.com/mnews/article/001/000...   \n",
       "...                                                  ...   \n",
       "44075  https://n.news.naver.com/mnews/article/003/001...   \n",
       "44076  https://n.news.naver.com/mnews/article/421/000...   \n",
       "44077  https://n.news.naver.com/mnews/article/421/000...   \n",
       "44078  https://n.news.naver.com/mnews/article/119/000...   \n",
       "44079  https://n.news.naver.com/mnews/article/079/000...   \n",
       "\n",
       "                                        1  \\\n",
       "0              카드업계도…‘모바일 페이’ 수수료 전쟁 시작된다   \n",
       "1             카카오페이도 소상공인에 '활짝'…결제 API 공개   \n",
       "2               대한항공, 모바일 항공권 결제에 삼성페이 도입   \n",
       "3           카카오페이로 세금납부 가능해진다…모바일 세금납부 확대   \n",
       "4                  카카오페이, 외부 업체도 자유롭게 쓰세요   \n",
       "...                                   ...   \n",
       "44075        횡성군, 연말연시 '희망 2023 나눔캠페인' 추진   \n",
       "44076  청양군 “2022년 2기분 자동차세 내달 2일까지 납부하세요”   \n",
       "44077   반갑다 코스피 2500…금리압력 약화로 석달만에 회복개장시황   \n",
       "44078          고객 찾아가는 증권사...방문판매 서비스 본격화   \n",
       "44079   '함께하는 나눔, 행복한 우리 경기'…희망 나눔 캠페인 시작   \n",
       "\n",
       "                                                       2  \n",
       "0      [\\n\\n\\n\\n\\n\\n간편결제 시장 日평균 2500억7개 카드사 결제대행업체 설립...  \n",
       "1      [\\n쉽게 가져다 쓰는 오픈 플랫폼 전략\"온라인 결제시스템 도입 부담 덜 것\"\\n\\...  \n",
       "2      [\\n\\n\\n\\n\\n대한항공이 도입한 온라인 결제시스템인 카카오페이와 페이코 서비스...  \n",
       "3      [\\n\\n\\n\\n\\n [연합뉴스TV제공]국세청, 전국 세무관서장 회의…종합소득세 전...  \n",
       "4      [\\n\\n\\n\\n\\n카카오페이 타이틀 화면 &lt;&lt;카카오 제공&gt;&gt;...  \n",
       "...                                                  ...  \n",
       "44075  [\\n기사내용 요약'함께하는 나눔, 지속가능한 강원'\\n\\n\\n\\n[횡성=뉴시스]이...  \n",
       "44076  [\\n은행 현금자동출납기서 고지서없이 납부 가능\\n\\n\\n\\n청양군 청사 전경.(청...  \n",
       "44077  [\\n지난 8월 이후 100여일만…네이버-카카오 등 성장주 강세 환율도 4개월여만에...  \n",
       "44078  [\\n증권사 PB가 보험사처럼 펀드상품 등 직접 판매“오래전 시스템 구축...파급력...  \n",
       "44079  [\\n올해 목표액, 지난해보다 10% 높아진 307억원1% 성금 모금될 때마다 온도...  \n",
       "\n",
       "[44080 rows x 3 columns]"
      ]
     },
     "execution_count": 44,
     "metadata": {},
     "output_type": "execute_result"
    }
   ],
   "source": [
    "news_data"
   ]
  },
  {
   "cell_type": "code",
   "execution_count": 45,
   "id": "fe72367d-5336-41e6-ae0f-779acc45da48",
   "metadata": {},
   "outputs": [],
   "source": [
    "news_data.to_csv(\"./KP_naver_monthlyTop4000_body.csv\")"
   ]
  },
  {
   "cell_type": "code",
   "execution_count": 6,
   "id": "7ec47c16-0305-4ce4-8987-9f5c19ef1a5a",
   "metadata": {
    "collapsed": true,
    "jupyter": {
     "outputs_hidden": true,
     "source_hidden": true
    },
    "tags": []
   },
   "outputs": [
    {
     "data": {
      "text/plain": [
       "'https://n.news.naver.com/mnews/article/comment/056/0011313029?sid=102'"
      ]
     },
     "execution_count": 6,
     "metadata": {},
     "output_type": "execute_result"
    }
   ],
   "source": [
    "a, b = news_data['2'][1].split('/article/')\n",
    "a + '/article/comment/' + b"
   ]
  },
  {
   "cell_type": "code",
   "execution_count": 98,
   "id": "9904c05a-5833-4724-890f-064f4043a247",
   "metadata": {
    "tags": []
   },
   "outputs": [],
   "source": [
    "\n",
    "# # step2. 네이버 뉴스 댓글정보 수집 함수\n",
    "# def get_naver_news_comments(url, wait_time=3, delay_time=0.1):\n",
    "    \n",
    "#     # 크롬 드라이버로 해당 url에 접속\n",
    "#     driver = webdriver.Chrome(ChromeDriverManager().install())\n",
    "    \n",
    "#     # (크롬)드라이버가 요소를 찾는데에 최대 wait_time 초까지 기다림 (함수 사용 시 설정 가능하며 기본값은 5초)\n",
    "#     driver.implicitly_wait(wait_time)\n",
    "    \n",
    "#     # 인자로 입력받은 url 주소를 가져와서 접속\n",
    "#     driver.get(url)\n",
    "\n",
    "#     # 더보기가 안뜰 때 까지 계속 클릭 (모든 댓글의 html을 얻기 위함)\n",
    "#     while True:\n",
    "        \n",
    "#         # 예외처리 구문 - 더보기 광클하다가 없어서 에러 뜨면 while문을 나감(break)\n",
    "#         try:\n",
    "#             more = driver.find_element_by_css_selector('a.u_cbox_btn_more')\n",
    "#             more.click()\n",
    "#             time.sleep(delay_time)\n",
    "            \n",
    "#         except:\n",
    "#             break\n",
    "\n",
    "#     # 본격적인 크롤링 타임\n",
    "    \n",
    "#     # 1)작성자\n",
    "#     # selenium으로 작성자 포함된 태그 모두 수집\n",
    "#     nicknames = driver.find_elements_by_css_selector('span.u_cbox_nick')\n",
    "#     # 리스트에 텍스트만 담기 (리스트 컴프리핸션 문법)\n",
    "#     list_nicknames = [nick.text for nick in nicknames]\n",
    "\n",
    "#     # 2)댓글 시간\n",
    "#     # selenium으로 댓글 시간 포함된 태그 모두 수집\n",
    "#     datetimes = driver.find_elements_by_css_selector('span.u_cbox_date')\n",
    "#     # 리스트에 텍스트만 담기 (리스트 컴프리핸션 문법)\n",
    "#     list_datetimes = [datetime.text for datetime in datetimes]\n",
    "\n",
    "#     # 3)댓글 내용\n",
    "#     # selenium으로 댓글내용 포함된 태그 모두 수집\n",
    "#     contents = driver.find_elements_by_css_selector('span.u_cbox_contents')\n",
    "#     # 리스트에 텍스트만 담기 (리스트 컴프리핸션 문법)\n",
    "#     list_contents = [content.text for content in contents]\n",
    "\n",
    "\n",
    "#     # 4)작성자, 댓글 시간, 내용을 셋트로 취합\n",
    "#     list_sum = list(zip(list_nicknames,list_datetimes,list_contents))\n",
    "\n",
    "#     # 드라이버 종료\n",
    "#     driver.quit()\n",
    "    \n",
    "#     # 함수를 종료하며 list_sum을 결과물로 제출\n",
    "#     return list_sum\n",
    "    "
   ]
  },
  {
   "cell_type": "code",
   "execution_count": 7,
   "id": "91146a0d-363c-4a49-996c-e00b6564955a",
   "metadata": {
    "collapsed": true,
    "jupyter": {
     "outputs_hidden": true,
     "source_hidden": true
    },
    "tags": []
   },
   "outputs": [
    {
     "data": {
      "text/plain": [
       "0       https://n.news.naver.com/mnews/article/056/001...\n",
       "1       https://n.news.naver.com/mnews/article/056/001...\n",
       "2       https://n.news.naver.com/mnews/article/056/001...\n",
       "3       https://n.news.naver.com/mnews/article/056/001...\n",
       "4       https://n.news.naver.com/mnews/article/056/001...\n",
       "                              ...                        \n",
       "1524    https://n.news.naver.com/mnews/article/056/001...\n",
       "1525    https://n.news.naver.com/mnews/article/056/001...\n",
       "1526    https://n.news.naver.com/mnews/article/056/001...\n",
       "1527    https://n.news.naver.com/mnews/article/056/001...\n",
       "1528    https://n.news.naver.com/mnews/article/056/001...\n",
       "Name: 2, Length: 1529, dtype: object"
      ]
     },
     "execution_count": 7,
     "metadata": {},
     "output_type": "execute_result"
    }
   ],
   "source": [
    "news_data['2']"
   ]
  },
  {
   "cell_type": "code",
   "execution_count": 46,
   "id": "b5fb5d4f-eed5-4ac2-9636-ccc51168a844",
   "metadata": {},
   "outputs": [
    {
     "ename": "NameError",
     "evalue": "name 'naver_urls' is not defined",
     "output_type": "error",
     "traceback": [
      "\u001b[1;31m---------------------------------------------------------------------------\u001b[0m",
      "\u001b[1;31mNameError\u001b[0m                                 Traceback (most recent call last)",
      "\u001b[1;32m<ipython-input-46-a060e1d5df94>\u001b[0m in \u001b[0;36m<module>\u001b[1;34m\u001b[0m\n\u001b[1;32m----> 1\u001b[1;33m \u001b[0mlen\u001b[0m\u001b[1;33m(\u001b[0m\u001b[0mnaver_urls\u001b[0m\u001b[1;33m)\u001b[0m\u001b[1;33m\u001b[0m\u001b[1;33m\u001b[0m\u001b[0m\n\u001b[0m",
      "\u001b[1;31mNameError\u001b[0m: name 'naver_urls' is not defined"
     ]
    }
   ],
   "source": [
    "len(naver_urls)"
   ]
  },
  {
   "cell_type": "code",
   "execution_count": 14,
   "id": "0401fcb0-269a-4040-8ff6-919fbdb5731d",
   "metadata": {},
   "outputs": [
    {
     "data": {
      "text/plain": [
       "'https://n.news.naver.com/mnews/article/056/0000012004?sid=100'"
      ]
     },
     "execution_count": 14,
     "metadata": {},
     "output_type": "execute_result"
    }
   ],
   "source": [
    "naver_KBS[0][21]"
   ]
  },
  {
   "cell_type": "code",
   "execution_count": 117,
   "id": "c4e9095c-2fa3-4b97-9335-5368e989bbdf",
   "metadata": {
    "jupyter": {
     "source_hidden": true
    },
    "tags": []
   },
   "outputs": [
    {
     "name": "stderr",
     "output_type": "stream",
     "text": [
      "<ipython-input-117-d927da986bc8>:4: DeprecationWarning: executable_path has been deprecated, please pass in a Service object\n",
      "  driver = webdriver.Chrome(ChromeDriverManager().install())\n",
      "0it [00:00, ?it/s]<ipython-input-117-d927da986bc8>:27: DeprecationWarning: find_element_by_* commands are deprecated. Please use find_element() instead\n",
      "  more = driver.find_element_by_css_selector('a.u_cbox_btn_more')\n",
      "<ipython-input-117-d927da986bc8>:36: DeprecationWarning: find_elements_by_* commands are deprecated. Please use find_elements() instead\n",
      "  reply_buttons = driver.find_elements_by_css_selector('div.u_cbox_tool > a > span')\n",
      "1it [00:06,  6.82s/it]\n"
     ]
    }
   ],
   "source": [
    "from tqdm import tqdm\n",
    "\n",
    "# 크롬 드라이버로 해당 url에 접속\n",
    "driver = webdriver.Chrome(ChromeDriverManager().install())\n",
    "\n",
    "# 브라우저 위치 조정하기\n",
    "driver.set_window_position(-100,-500) \n",
    "driver.maximize_window()\n",
    "\n",
    "# (크롬)드라이버가 요소를 찾는데에 최대 wait_time 초까지 기다림 (함수 사용 시 설정 가능하며 기본값은 5초)\n",
    "driver.implicitly_wait(3)\n",
    "\n",
    "\n",
    "total_df = pd.DataFrame()\n",
    "\n",
    "\n",
    "# For handle unexpected Error\n",
    "\n",
    "time.sleep(3)\n",
    "# For every url I collected\n",
    "for i, vid in tqdm(zip(naver_KBS[0][21:22], naver_KBS[1][21:22])):\n",
    "    driver.get(i)\n",
    "\n",
    "    # Click 'more comments until It return error'\n",
    "    while True:\n",
    "        try:\n",
    "            more = driver.find_element_by_css_selector('a.u_cbox_btn_more')\n",
    "            more.click()\n",
    "            time.sleep(2)\n",
    "\n",
    "        # break case\n",
    "        except:\n",
    "            break\n",
    "\n",
    "    # Click every 'show reply' btn \n",
    "    reply_buttons = driver.find_elements_by_css_selector('div.u_cbox_tool > a > span')\n",
    "    for button in reply_buttons:\n",
    "        if int(button.text) > 0:\n",
    "            button.click()\n",
    "            time.sleep(0.5)\n",
    "\n"
   ]
  },
  {
   "cell_type": "code",
   "execution_count": 82,
   "id": "e84f88ba-01fe-4b9f-a546-e2b85f65e60f",
   "metadata": {},
   "outputs": [],
   "source": [
    "entertain = []\n",
    "sports = []\n",
    "\n",
    "for idx, (i,j) in enumerate(naver_KBS.values):\n",
    "    if 'entertain.naver' in i:\n",
    "        entertain.append(idx)\n",
    "    if 'sports.news' in i:\n",
    "        sports.append(idx)"
   ]
  },
  {
   "cell_type": "code",
   "execution_count": 81,
   "id": "99ecc744-866f-4fcb-83cd-45e546a86a29",
   "metadata": {},
   "outputs": [
    {
     "name": "stdout",
     "output_type": "stream",
     "text": [
      "(30130, 2)\n",
      "(28423, 2)\n"
     ]
    }
   ],
   "source": [
    "print(naver_KBS.shape)\n",
    "temp = naver_KBS.drop(entertain, axis = 0)\n",
    "naver_KBS_drop = temp.drop(sports, axis = 0)\n",
    "print(naver_KBS_drop.shape)"
   ]
  },
  {
   "cell_type": "code",
   "execution_count": 132,
   "id": "fb705246-f327-4858-a513-bfc8babdb64f",
   "metadata": {},
   "outputs": [],
   "source": [
    "naver_KBS_drop.to_csv(\"../data/naver_KBS_url.csv\")"
   ]
  },
  {
   "cell_type": "code",
   "execution_count": 110,
   "id": "d19a0ed8-5d7c-4738-8fa9-2014ff181d9a",
   "metadata": {},
   "outputs": [],
   "source": [
    "test = naver_KBS_drop.head(100).copy()"
   ]
  },
  {
   "cell_type": "code",
   "execution_count": 115,
   "id": "0628e66a-38a2-483b-8218-27a7ced36bf2",
   "metadata": {},
   "outputs": [
    {
     "data": {
      "text/html": [
       "<div>\n",
       "<style scoped>\n",
       "    .dataframe tbody tr th:only-of-type {\n",
       "        vertical-align: middle;\n",
       "    }\n",
       "\n",
       "    .dataframe tbody tr th {\n",
       "        vertical-align: top;\n",
       "    }\n",
       "\n",
       "    .dataframe thead th {\n",
       "        text-align: right;\n",
       "    }\n",
       "</style>\n",
       "<table border=\"1\" class=\"dataframe\">\n",
       "  <thead>\n",
       "    <tr style=\"text-align: right;\">\n",
       "      <th></th>\n",
       "      <th>0</th>\n",
       "      <th>1</th>\n",
       "    </tr>\n",
       "  </thead>\n",
       "  <tbody>\n",
       "    <tr>\n",
       "      <th>0</th>\n",
       "      <td>https://n.news.naver.com/mnews/article/056/000...</td>\n",
       "      <td>TM6CGWa4KBI</td>\n",
       "    </tr>\n",
       "    <tr>\n",
       "      <th>1</th>\n",
       "      <td>https://n.news.naver.com/mnews/article/056/001...</td>\n",
       "      <td>ygvHWqa4GbU</td>\n",
       "    </tr>\n",
       "    <tr>\n",
       "      <th>2</th>\n",
       "      <td>https://n.news.naver.com/mnews/article/056/000...</td>\n",
       "      <td>P988js8z2nk</td>\n",
       "    </tr>\n",
       "    <tr>\n",
       "      <th>3</th>\n",
       "      <td>https://n.news.naver.com/mnews/article/056/000...</td>\n",
       "      <td>vJzvzby12g8</td>\n",
       "    </tr>\n",
       "    <tr>\n",
       "      <th>4</th>\n",
       "      <td>https://n.news.naver.com/mnews/article/056/000...</td>\n",
       "      <td>SFq3fipHlRE</td>\n",
       "    </tr>\n",
       "    <tr>\n",
       "      <th>...</th>\n",
       "      <td>...</td>\n",
       "      <td>...</td>\n",
       "    </tr>\n",
       "    <tr>\n",
       "      <th>95</th>\n",
       "      <td>https://n.news.naver.com/mnews/article/056/000...</td>\n",
       "      <td>4j7CF1PUfdE</td>\n",
       "    </tr>\n",
       "    <tr>\n",
       "      <th>96</th>\n",
       "      <td>https://n.news.naver.com/mnews/article/056/000...</td>\n",
       "      <td>jQe-xhBmxE4</td>\n",
       "    </tr>\n",
       "    <tr>\n",
       "      <th>97</th>\n",
       "      <td>https://n.news.naver.com/mnews/article/056/000...</td>\n",
       "      <td>Q4MPebe-cvM</td>\n",
       "    </tr>\n",
       "    <tr>\n",
       "      <th>98</th>\n",
       "      <td>https://n.news.naver.com/mnews/article/056/000...</td>\n",
       "      <td>hS7vpYl2ib8</td>\n",
       "    </tr>\n",
       "    <tr>\n",
       "      <th>99</th>\n",
       "      <td>https://n.news.naver.com/mnews/article/056/000...</td>\n",
       "      <td>sXOL7VN3c1w</td>\n",
       "    </tr>\n",
       "  </tbody>\n",
       "</table>\n",
       "<p>100 rows × 2 columns</p>\n",
       "</div>"
      ],
      "text/plain": [
       "                                                    0            1\n",
       "0   https://n.news.naver.com/mnews/article/056/000...  TM6CGWa4KBI\n",
       "1   https://n.news.naver.com/mnews/article/056/001...  ygvHWqa4GbU\n",
       "2   https://n.news.naver.com/mnews/article/056/000...  P988js8z2nk\n",
       "3   https://n.news.naver.com/mnews/article/056/000...  vJzvzby12g8\n",
       "4   https://n.news.naver.com/mnews/article/056/000...  SFq3fipHlRE\n",
       "..                                                ...          ...\n",
       "95  https://n.news.naver.com/mnews/article/056/000...  4j7CF1PUfdE\n",
       "96  https://n.news.naver.com/mnews/article/056/000...  jQe-xhBmxE4\n",
       "97  https://n.news.naver.com/mnews/article/056/000...  Q4MPebe-cvM\n",
       "98  https://n.news.naver.com/mnews/article/056/000...  hS7vpYl2ib8\n",
       "99  https://n.news.naver.com/mnews/article/056/000...  sXOL7VN3c1w\n",
       "\n",
       "[100 rows x 2 columns]"
      ]
     },
     "execution_count": 115,
     "metadata": {},
     "output_type": "execute_result"
    }
   ],
   "source": [
    "test.reset_index(drop = True, inplace = True)\n",
    "test"
   ]
  },
  {
   "cell_type": "code",
   "execution_count": 128,
   "id": "2d8066fd-1359-42da-a001-b47a30475bf9",
   "metadata": {},
   "outputs": [],
   "source": [
    "try_2 = naver_KBS_drop[1921:]"
   ]
  },
  {
   "cell_type": "code",
   "execution_count": 130,
   "id": "5f3de091-524e-4519-87e6-1a775d428175",
   "metadata": {},
   "outputs": [
    {
     "name": "stderr",
     "output_type": "stream",
     "text": [
      "<ipython-input-130-45e041c4096f>:4: DeprecationWarning: executable_path has been deprecated, please pass in a Service object\n",
      "  driver = webdriver.Chrome(ChromeDriverManager().install())\n",
      "0it [00:00, ?it/s]<ipython-input-130-45e041c4096f>:32: DeprecationWarning: find_element_by_* commands are deprecated. Please use find_element() instead\n",
      "  more = driver.find_element_by_css_selector('a.u_cbox_btn_more')\n",
      "<ipython-input-130-45e041c4096f>:41: DeprecationWarning: find_elements_by_* commands are deprecated. Please use find_elements() instead\n",
      "  reply_buttons = driver.find_elements_by_css_selector('div.u_cbox_tool > a > span')\n"
     ]
    },
    {
     "name": "stdout",
     "output_type": "stream",
     "text": [
      "cant click reply\n",
      "cant click reply\n",
      "cant click reply\n"
     ]
    },
    {
     "name": "stderr",
     "output_type": "stream",
     "text": [
      "0it [1:02:01, ?it/s]\n"
     ]
    },
    {
     "ename": "StaleElementReferenceException",
     "evalue": "Message: stale element reference: element is not attached to the page document\n  (Session info: chrome=105.0.5195.127)\nStacktrace:\nBacktrace:\n\tOrdinal0 [0x0094DF13+2219795]\n\tOrdinal0 [0x008E2841+1779777]\n\tOrdinal0 [0x007F423D+803389]\n\tOrdinal0 [0x007F6D04+814340]\n\tOrdinal0 [0x007F6BC2+814018]\n\tOrdinal0 [0x007F6E50+814672]\n\tOrdinal0 [0x0081E91F+977183]\n\tOrdinal0 [0x0083E7FC+1107964]\n\tOrdinal0 [0x008194B4+955572]\n\tOrdinal0 [0x0083EA14+1108500]\n\tOrdinal0 [0x0084F192+1175954]\n\tOrdinal0 [0x0083E616+1107478]\n\tOrdinal0 [0x00817F89+950153]\n\tOrdinal0 [0x00818F56+954198]\n\tGetHandleVerifier [0x00C42CB2+3040210]\n\tGetHandleVerifier [0x00C32BB4+2974420]\n\tGetHandleVerifier [0x009E6A0A+565546]\n\tGetHandleVerifier [0x009E5680+560544]\n\tOrdinal0 [0x008E9A5C+1808988]\n\tOrdinal0 [0x008EE3A8+1827752]\n\tOrdinal0 [0x008EE495+1827989]\n\tOrdinal0 [0x008F80A4+1867940]\n\tBaseThreadInitThunk [0x764C7BA9+25]\n\tRtlInitializeExceptionChain [0x777EC54B+107]\n\tRtlGetAppContainerNamedObjectPath [0x777EC4CE+238]\n",
     "output_type": "error",
     "traceback": [
      "\u001b[1;31m---------------------------------------------------------------------------\u001b[0m",
      "\u001b[1;31mStaleElementReferenceException\u001b[0m            Traceback (most recent call last)",
      "\u001b[1;32m<ipython-input-130-45e041c4096f>\u001b[0m in \u001b[0;36m<module>\u001b[1;34m\u001b[0m\n\u001b[0;32m     41\u001b[0m     \u001b[0mreply_buttons\u001b[0m \u001b[1;33m=\u001b[0m \u001b[0mdriver\u001b[0m\u001b[1;33m.\u001b[0m\u001b[0mfind_elements_by_css_selector\u001b[0m\u001b[1;33m(\u001b[0m\u001b[1;34m'div.u_cbox_tool > a > span'\u001b[0m\u001b[1;33m)\u001b[0m\u001b[1;33m\u001b[0m\u001b[1;33m\u001b[0m\u001b[0m\n\u001b[0;32m     42\u001b[0m     \u001b[1;32mfor\u001b[0m \u001b[0mbutton\u001b[0m \u001b[1;32min\u001b[0m \u001b[0mreply_buttons\u001b[0m\u001b[1;33m:\u001b[0m\u001b[1;33m\u001b[0m\u001b[1;33m\u001b[0m\u001b[0m\n\u001b[1;32m---> 43\u001b[1;33m         \u001b[1;32mif\u001b[0m \u001b[0mint\u001b[0m\u001b[1;33m(\u001b[0m\u001b[0mbutton\u001b[0m\u001b[1;33m.\u001b[0m\u001b[0mtext\u001b[0m\u001b[1;33m)\u001b[0m \u001b[1;33m>\u001b[0m \u001b[1;36m0\u001b[0m\u001b[1;33m:\u001b[0m\u001b[1;33m\u001b[0m\u001b[1;33m\u001b[0m\u001b[0m\n\u001b[0m\u001b[0;32m     44\u001b[0m             \u001b[1;32mtry\u001b[0m\u001b[1;33m:\u001b[0m\u001b[1;33m\u001b[0m\u001b[1;33m\u001b[0m\u001b[0m\n\u001b[0;32m     45\u001b[0m                 \u001b[0mbutton\u001b[0m\u001b[1;33m.\u001b[0m\u001b[0mclick\u001b[0m\u001b[1;33m(\u001b[0m\u001b[1;33m)\u001b[0m\u001b[1;33m\u001b[0m\u001b[1;33m\u001b[0m\u001b[0m\n",
      "\u001b[1;32m~\\anaconda3\\lib\\site-packages\\selenium\\webdriver\\remote\\webelement.py\u001b[0m in \u001b[0;36mtext\u001b[1;34m(self)\u001b[0m\n\u001b[0;32m     74\u001b[0m     \u001b[1;32mdef\u001b[0m \u001b[0mtext\u001b[0m\u001b[1;33m(\u001b[0m\u001b[0mself\u001b[0m\u001b[1;33m)\u001b[0m \u001b[1;33m->\u001b[0m \u001b[0mstr\u001b[0m\u001b[1;33m:\u001b[0m\u001b[1;33m\u001b[0m\u001b[1;33m\u001b[0m\u001b[0m\n\u001b[0;32m     75\u001b[0m         \u001b[1;34m\"\"\"The text of the element.\"\"\"\u001b[0m\u001b[1;33m\u001b[0m\u001b[1;33m\u001b[0m\u001b[0m\n\u001b[1;32m---> 76\u001b[1;33m         \u001b[1;32mreturn\u001b[0m \u001b[0mself\u001b[0m\u001b[1;33m.\u001b[0m\u001b[0m_execute\u001b[0m\u001b[1;33m(\u001b[0m\u001b[0mCommand\u001b[0m\u001b[1;33m.\u001b[0m\u001b[0mGET_ELEMENT_TEXT\u001b[0m\u001b[1;33m)\u001b[0m\u001b[1;33m[\u001b[0m\u001b[1;34m'value'\u001b[0m\u001b[1;33m]\u001b[0m\u001b[1;33m\u001b[0m\u001b[1;33m\u001b[0m\u001b[0m\n\u001b[0m\u001b[0;32m     77\u001b[0m \u001b[1;33m\u001b[0m\u001b[0m\n\u001b[0;32m     78\u001b[0m     \u001b[1;32mdef\u001b[0m \u001b[0mclick\u001b[0m\u001b[1;33m(\u001b[0m\u001b[0mself\u001b[0m\u001b[1;33m)\u001b[0m \u001b[1;33m->\u001b[0m \u001b[1;32mNone\u001b[0m\u001b[1;33m:\u001b[0m\u001b[1;33m\u001b[0m\u001b[1;33m\u001b[0m\u001b[0m\n",
      "\u001b[1;32m~\\anaconda3\\lib\\site-packages\\selenium\\webdriver\\remote\\webelement.py\u001b[0m in \u001b[0;36m_execute\u001b[1;34m(self, command, params)\u001b[0m\n\u001b[0;32m    691\u001b[0m             \u001b[0mparams\u001b[0m \u001b[1;33m=\u001b[0m \u001b[1;33m{\u001b[0m\u001b[1;33m}\u001b[0m\u001b[1;33m\u001b[0m\u001b[1;33m\u001b[0m\u001b[0m\n\u001b[0;32m    692\u001b[0m         \u001b[0mparams\u001b[0m\u001b[1;33m[\u001b[0m\u001b[1;34m'id'\u001b[0m\u001b[1;33m]\u001b[0m \u001b[1;33m=\u001b[0m \u001b[0mself\u001b[0m\u001b[1;33m.\u001b[0m\u001b[0m_id\u001b[0m\u001b[1;33m\u001b[0m\u001b[1;33m\u001b[0m\u001b[0m\n\u001b[1;32m--> 693\u001b[1;33m         \u001b[1;32mreturn\u001b[0m \u001b[0mself\u001b[0m\u001b[1;33m.\u001b[0m\u001b[0m_parent\u001b[0m\u001b[1;33m.\u001b[0m\u001b[0mexecute\u001b[0m\u001b[1;33m(\u001b[0m\u001b[0mcommand\u001b[0m\u001b[1;33m,\u001b[0m \u001b[0mparams\u001b[0m\u001b[1;33m)\u001b[0m\u001b[1;33m\u001b[0m\u001b[1;33m\u001b[0m\u001b[0m\n\u001b[0m\u001b[0;32m    694\u001b[0m \u001b[1;33m\u001b[0m\u001b[0m\n\u001b[0;32m    695\u001b[0m     \u001b[1;32mdef\u001b[0m \u001b[0mfind_element\u001b[0m\u001b[1;33m(\u001b[0m\u001b[0mself\u001b[0m\u001b[1;33m,\u001b[0m \u001b[0mby\u001b[0m\u001b[1;33m=\u001b[0m\u001b[0mBy\u001b[0m\u001b[1;33m.\u001b[0m\u001b[0mID\u001b[0m\u001b[1;33m,\u001b[0m \u001b[0mvalue\u001b[0m\u001b[1;33m=\u001b[0m\u001b[1;32mNone\u001b[0m\u001b[1;33m)\u001b[0m\u001b[1;33m:\u001b[0m\u001b[1;33m\u001b[0m\u001b[1;33m\u001b[0m\u001b[0m\n",
      "\u001b[1;32m~\\anaconda3\\lib\\site-packages\\selenium\\webdriver\\remote\\webdriver.py\u001b[0m in \u001b[0;36mexecute\u001b[1;34m(self, driver_command, params)\u001b[0m\n\u001b[0;32m    416\u001b[0m         \u001b[0mresponse\u001b[0m \u001b[1;33m=\u001b[0m \u001b[0mself\u001b[0m\u001b[1;33m.\u001b[0m\u001b[0mcommand_executor\u001b[0m\u001b[1;33m.\u001b[0m\u001b[0mexecute\u001b[0m\u001b[1;33m(\u001b[0m\u001b[0mdriver_command\u001b[0m\u001b[1;33m,\u001b[0m \u001b[0mparams\u001b[0m\u001b[1;33m)\u001b[0m\u001b[1;33m\u001b[0m\u001b[1;33m\u001b[0m\u001b[0m\n\u001b[0;32m    417\u001b[0m         \u001b[1;32mif\u001b[0m \u001b[0mresponse\u001b[0m\u001b[1;33m:\u001b[0m\u001b[1;33m\u001b[0m\u001b[1;33m\u001b[0m\u001b[0m\n\u001b[1;32m--> 418\u001b[1;33m             \u001b[0mself\u001b[0m\u001b[1;33m.\u001b[0m\u001b[0merror_handler\u001b[0m\u001b[1;33m.\u001b[0m\u001b[0mcheck_response\u001b[0m\u001b[1;33m(\u001b[0m\u001b[0mresponse\u001b[0m\u001b[1;33m)\u001b[0m\u001b[1;33m\u001b[0m\u001b[1;33m\u001b[0m\u001b[0m\n\u001b[0m\u001b[0;32m    419\u001b[0m             response['value'] = self._unwrap_value(\n\u001b[0;32m    420\u001b[0m                 response.get('value', None))\n",
      "\u001b[1;32m~\\anaconda3\\lib\\site-packages\\selenium\\webdriver\\remote\\errorhandler.py\u001b[0m in \u001b[0;36mcheck_response\u001b[1;34m(self, response)\u001b[0m\n\u001b[0;32m    241\u001b[0m                 \u001b[0malert_text\u001b[0m \u001b[1;33m=\u001b[0m \u001b[0mvalue\u001b[0m\u001b[1;33m[\u001b[0m\u001b[1;34m'alert'\u001b[0m\u001b[1;33m]\u001b[0m\u001b[1;33m.\u001b[0m\u001b[0mget\u001b[0m\u001b[1;33m(\u001b[0m\u001b[1;34m'text'\u001b[0m\u001b[1;33m)\u001b[0m\u001b[1;33m\u001b[0m\u001b[1;33m\u001b[0m\u001b[0m\n\u001b[0;32m    242\u001b[0m             \u001b[1;32mraise\u001b[0m \u001b[0mexception_class\u001b[0m\u001b[1;33m(\u001b[0m\u001b[0mmessage\u001b[0m\u001b[1;33m,\u001b[0m \u001b[0mscreen\u001b[0m\u001b[1;33m,\u001b[0m \u001b[0mstacktrace\u001b[0m\u001b[1;33m,\u001b[0m \u001b[0malert_text\u001b[0m\u001b[1;33m)\u001b[0m  \u001b[1;31m# type: ignore[call-arg]  # mypy is not smart enough here\u001b[0m\u001b[1;33m\u001b[0m\u001b[1;33m\u001b[0m\u001b[0m\n\u001b[1;32m--> 243\u001b[1;33m         \u001b[1;32mraise\u001b[0m \u001b[0mexception_class\u001b[0m\u001b[1;33m(\u001b[0m\u001b[0mmessage\u001b[0m\u001b[1;33m,\u001b[0m \u001b[0mscreen\u001b[0m\u001b[1;33m,\u001b[0m \u001b[0mstacktrace\u001b[0m\u001b[1;33m)\u001b[0m\u001b[1;33m\u001b[0m\u001b[1;33m\u001b[0m\u001b[0m\n\u001b[0m\u001b[0;32m    244\u001b[0m \u001b[1;33m\u001b[0m\u001b[0m\n\u001b[0;32m    245\u001b[0m     \u001b[1;32mdef\u001b[0m \u001b[0m_value_or_default\u001b[0m\u001b[1;33m(\u001b[0m\u001b[0mself\u001b[0m\u001b[1;33m,\u001b[0m \u001b[0mobj\u001b[0m\u001b[1;33m:\u001b[0m \u001b[0mMapping\u001b[0m\u001b[1;33m[\u001b[0m\u001b[0m_KT\u001b[0m\u001b[1;33m,\u001b[0m \u001b[0m_VT\u001b[0m\u001b[1;33m]\u001b[0m\u001b[1;33m,\u001b[0m \u001b[0mkey\u001b[0m\u001b[1;33m:\u001b[0m \u001b[0m_KT\u001b[0m\u001b[1;33m,\u001b[0m \u001b[0mdefault\u001b[0m\u001b[1;33m:\u001b[0m \u001b[0m_VT\u001b[0m\u001b[1;33m)\u001b[0m \u001b[1;33m->\u001b[0m \u001b[0m_VT\u001b[0m\u001b[1;33m:\u001b[0m\u001b[1;33m\u001b[0m\u001b[1;33m\u001b[0m\u001b[0m\n",
      "\u001b[1;31mStaleElementReferenceException\u001b[0m: Message: stale element reference: element is not attached to the page document\n  (Session info: chrome=105.0.5195.127)\nStacktrace:\nBacktrace:\n\tOrdinal0 [0x0094DF13+2219795]\n\tOrdinal0 [0x008E2841+1779777]\n\tOrdinal0 [0x007F423D+803389]\n\tOrdinal0 [0x007F6D04+814340]\n\tOrdinal0 [0x007F6BC2+814018]\n\tOrdinal0 [0x007F6E50+814672]\n\tOrdinal0 [0x0081E91F+977183]\n\tOrdinal0 [0x0083E7FC+1107964]\n\tOrdinal0 [0x008194B4+955572]\n\tOrdinal0 [0x0083EA14+1108500]\n\tOrdinal0 [0x0084F192+1175954]\n\tOrdinal0 [0x0083E616+1107478]\n\tOrdinal0 [0x00817F89+950153]\n\tOrdinal0 [0x00818F56+954198]\n\tGetHandleVerifier [0x00C42CB2+3040210]\n\tGetHandleVerifier [0x00C32BB4+2974420]\n\tGetHandleVerifier [0x009E6A0A+565546]\n\tGetHandleVerifier [0x009E5680+560544]\n\tOrdinal0 [0x008E9A5C+1808988]\n\tOrdinal0 [0x008EE3A8+1827752]\n\tOrdinal0 [0x008EE495+1827989]\n\tOrdinal0 [0x008F80A4+1867940]\n\tBaseThreadInitThunk [0x764C7BA9+25]\n\tRtlInitializeExceptionChain [0x777EC54B+107]\n\tRtlGetAppContainerNamedObjectPath [0x777EC4CE+238]\n"
     ]
    }
   ],
   "source": [
    "from tqdm import tqdm\n",
    "\n",
    "# 크롬 드라이버로 해당 url에 접속\n",
    "driver = webdriver.Chrome(ChromeDriverManager().install())\n",
    "\n",
    "# 브라우저 위치 조정하기\n",
    "driver.set_window_position(-800,0) \n",
    "driver.maximize_window()\n",
    "\n",
    "# (크롬)드라이버가 요소를 찾는데에 최대 wait_time 초까지 기다림 (함수 사용 시 설정 가능하며 기본값은 5초)\n",
    "driver.implicitly_wait(3)\n",
    "\n",
    "\n",
    "total_df = pd.DataFrame()\n",
    "\n",
    "\n",
    "# For handle unexpected Error\n",
    "#try:\n",
    "\n",
    "# For every url I collected\n",
    "for i, vid in tqdm(zip(try_2[0], try_2[1])):\n",
    "    sid = i[-3:]\n",
    "    if sid == '100':\n",
    "        i = i.split('article')\n",
    "        i = i[0] + 'article/comment' + i[1]\n",
    "\n",
    "    driver.get(i)\n",
    "\n",
    "    # Click 'more comments until It return error'\n",
    "    while True:\n",
    "        try:\n",
    "            more = driver.find_element_by_css_selector('a.u_cbox_btn_more')\n",
    "            more.click()\n",
    "            time.sleep(0.5)\n",
    "\n",
    "        # break case\n",
    "        except:\n",
    "            break\n",
    "\n",
    "    # Click every 'show reply' btn \n",
    "    reply_buttons = driver.find_elements_by_css_selector('div.u_cbox_tool > a > span')\n",
    "    for button in reply_buttons:\n",
    "        if int(button.text) > 0:\n",
    "            try:\n",
    "                button.click()\n",
    "            except:\n",
    "                print('cant click reply')\n",
    "            time.sleep(0.3)\n",
    "\n",
    "    # Get every comment box elements\n",
    "    page = driver.find_elements_by_css_selector('#cbox_module_wai_u_cbox_content_wrap_tabpanel > ul > li.u_cbox_comment')\n",
    "\n",
    "    # Empty DataFrame for merge every page's comments\n",
    "    comments_sum = []\n",
    "\n",
    "    # For every comment boxs in one page\n",
    "    for item in page:\n",
    "        single_sum = []\n",
    "        re_sum = []\n",
    "\n",
    "        # If The comment is alive (not deleted)\n",
    "        try:\n",
    "            body = item.find_element_by_css_selector('span.u_cbox_contents').text\n",
    "            single_sum.append(body)\n",
    "            single_sum.append(item.find_element_by_css_selector('span.u_cbox_info_main > span > span > span > span').text)\n",
    "            single_sum.append(item.find_element_by_css_selector('div.u_cbox_info_base > span').text) \n",
    "            single_sum.append(item.find_element_by_css_selector('a.u_cbox_btn_recomm > em').text)\n",
    "            re = item.find_element_by_css_selector(' div.u_cbox_tool > a > span').text\n",
    "            single_sum.append(re)\n",
    "            single_sum.append('parent')\n",
    "\n",
    "            # If there is reply for this comment\n",
    "            if int(re) > 0:\n",
    "                re_author_lst = []\n",
    "                re_comment_lst = []\n",
    "                re_date_lst = []\n",
    "                re_recom_lst = []\n",
    "                re_re = []\n",
    "                parent_lst = []\n",
    "\n",
    "                # Get every reply\n",
    "                re_area = item.find_element_by_css_selector('div.u_cbox_reply_area')\n",
    "                for re_content in re_area.find_elements_by_css_selector('span.u_cbox_contents'):\n",
    "                    re_comment_lst.append(re_content.text)\n",
    "\n",
    "                for re_author in re_area.find_elements_by_css_selector('span.u_cbox_info_main > span > span > span > span'):\n",
    "                    re_author_lst.append(re_author.text)\n",
    "\n",
    "                for re_date in re_area.find_elements_by_css_selector('div.u_cbox_info_base > span'):\n",
    "                    re_date_lst.append(re_date.text)\n",
    "\n",
    "                for re_recom in re_area.find_elements_by_css_selector('a.u_cbox_btn_recomm > em'):\n",
    "                    re_recom_lst.append(re_recom.text)\n",
    "\n",
    "                # Give parent to parent comment's body text\n",
    "                for _ in range(len(re_comment_lst)):\n",
    "                    parent_lst.append(body)\n",
    "                    re_re.append(0)\n",
    "\n",
    "                # Make then into one list\n",
    "                re_sum = list(zip(re_author_lst, re_comment_lst, re_date_lst, re_recom_lst, re_re, parent_lst))\n",
    "                re_sum = [list(re_sum[i]) for i in range(len(re_sum))]\n",
    "\n",
    "\n",
    "        # IF The comment is deleted\n",
    "        except:\n",
    "            single_sum.append('deleted')\n",
    "            single_sum.append(item.find_element_by_css_selector('span.u_cbox_info_main > span > span > span > span').text)\n",
    "            single_sum.append(item.find_element_by_css_selector('div.u_cbox_info_base > span').text) \n",
    "            single_sum.append(-1)\n",
    "            single_sum.append(-1)\n",
    "            single_sum.append(-1)\n",
    "\n",
    "        # Combine parent comments and child reply to one list\n",
    "        comments_sum.append(single_sum)\n",
    "        comments_sum.extend(re_sum)\n",
    "\n",
    "    # merge every comments in one page\n",
    "    url_df = pd.DataFrame(comments_sum)\n",
    "\n",
    "    # give article title and time\n",
    "    try:\n",
    "        url_df['vtitle'] = driver.find_elements_by_css_selector('#ct > div.media_end_head.go_trans > div.media_end_head_title > h2')[0].text\n",
    "        url_df['vtime'] = driver.find_elements_by_css_selector('#ct > div.media_end_head.go_trans > div.media_end_head_info.nv_notrans > div.media_end_head_info_datestamp > div:nth-child(1) > span')[0].text\n",
    "        url_df['category'] = sid\n",
    "\n",
    "    except:\n",
    "        print('title error')\n",
    "        url_df['vtitle'] = \"ERROR\"\n",
    "        url_df['vtime'] = \"ERROR\"\n",
    "        url_df['category'] = sid\n",
    "\n",
    "    url_df['vid'] = vid\n",
    "    # merge one page's comments to total df\n",
    "    total_df = pd.concat([total_df, url_df])\n",
    "        \n",
    "        \n",
    "#except:\n",
    "#    print(\"UNEXPECTED ERROR\")\n",
    "\n",
    "\n",
    "driver.quit()\n",
    "\n",
    "\n",
    "total_df.columns = ['vtitle', 'vtime', 'category', 'vid', 'comment', 'author', 'ctime', 'like', 'reply', 'parent', ]\n",
    "total_df.to_pickle(\"../result_0925_test.pkl\")\n"
   ]
  },
  {
   "cell_type": "code",
   "execution_count": 122,
   "id": "e34a7be0-7b1f-438f-8574-4c79b8b588eb",
   "metadata": {},
   "outputs": [],
   "source": [
    "total_df1 = total_df"
   ]
  },
  {
   "cell_type": "code",
   "execution_count": 99,
   "id": "50cf46c6-188a-4380-a42a-8698474c127e",
   "metadata": {
    "tags": []
   },
   "outputs": [
    {
     "name": "stderr",
     "output_type": "stream",
     "text": [
      "[WDM] - Downloading: 100%|████████████████████████████████████████████████████████| 6.68M/6.68M [00:00<00:00, 24.6MB/s]\n",
      "<ipython-input-99-3970ad080b7d>:4: DeprecationWarning: executable_path has been deprecated, please pass in a Service object\n",
      "  driver = webdriver.Chrome(ChromeDriverManager().install())\n",
      "0it [00:00, ?it/s]<ipython-input-99-3970ad080b7d>:27: DeprecationWarning: find_element_by_* commands are deprecated. Please use find_element() instead\n",
      "  more = driver.find_element_by_css_selector('a.u_cbox_btn_more')\n",
      "<ipython-input-99-3970ad080b7d>:36: DeprecationWarning: find_elements_by_* commands are deprecated. Please use find_elements() instead\n",
      "  reply_buttons = driver.find_elements_by_css_selector('div.u_cbox_tool > a > span')\n",
      "<ipython-input-99-3970ad080b7d>:43: DeprecationWarning: find_elements_by_* commands are deprecated. Please use find_elements() instead\n",
      "  page = driver.find_elements_by_css_selector('#cbox_module_wai_u_cbox_content_wrap_tabpanel > ul > li.u_cbox_comment')\n",
      "C:\\Users\\niuser01\\anaconda3\\lib\\site-packages\\selenium\\webdriver\\remote\\webelement.py:483: UserWarning: find_element_by_* commands are deprecated. Please use find_element() instead\n",
      "  warnings.warn(\"find_element_by_* commands are deprecated. Please use find_element() instead\")\n",
      "0it [00:06, ?it/s]\n"
     ]
    },
    {
     "name": "stdout",
     "output_type": "stream",
     "text": [
      "UNEXPECTED ERROR\n"
     ]
    },
    {
     "ename": "ValueError",
     "evalue": "Length mismatch: Expected axis has 0 elements, new values have 10 elements",
     "output_type": "error",
     "traceback": [
      "\u001b[1;31m---------------------------------------------------------------------------\u001b[0m",
      "\u001b[1;31mValueError\u001b[0m                                Traceback (most recent call last)",
      "\u001b[1;32m<ipython-input-99-3970ad080b7d>\u001b[0m in \u001b[0;36m<module>\u001b[1;34m\u001b[0m\n\u001b[0;32m    134\u001b[0m \u001b[1;33m\u001b[0m\u001b[0m\n\u001b[0;32m    135\u001b[0m \u001b[1;33m\u001b[0m\u001b[0m\n\u001b[1;32m--> 136\u001b[1;33m \u001b[0mtotal_df\u001b[0m\u001b[1;33m.\u001b[0m\u001b[0mcolumns\u001b[0m \u001b[1;33m=\u001b[0m \u001b[1;33m[\u001b[0m\u001b[1;34m'author'\u001b[0m\u001b[1;33m,\u001b[0m \u001b[1;34m'comment'\u001b[0m\u001b[1;33m,\u001b[0m \u001b[1;34m'ctime'\u001b[0m\u001b[1;33m,\u001b[0m \u001b[1;34m'like'\u001b[0m\u001b[1;33m,\u001b[0m \u001b[1;34m'reply'\u001b[0m\u001b[1;33m,\u001b[0m \u001b[1;34m'parent'\u001b[0m\u001b[1;33m,\u001b[0m \u001b[1;34m'vtitle'\u001b[0m\u001b[1;33m,\u001b[0m \u001b[1;34m'vtime'\u001b[0m\u001b[1;33m,\u001b[0m \u001b[1;34m'category'\u001b[0m\u001b[1;33m,\u001b[0m \u001b[1;34m'vid'\u001b[0m\u001b[1;33m]\u001b[0m\u001b[1;33m\u001b[0m\u001b[1;33m\u001b[0m\u001b[0m\n\u001b[0m\u001b[0;32m    137\u001b[0m \u001b[0mtotal_df\u001b[0m\u001b[1;33m.\u001b[0m\u001b[0mto_pickle\u001b[0m\u001b[1;33m(\u001b[0m\u001b[1;34m\"../result_0923.pkl\"\u001b[0m\u001b[1;33m)\u001b[0m\u001b[1;33m\u001b[0m\u001b[1;33m\u001b[0m\u001b[0m\n",
      "\u001b[1;32m~\\anaconda3\\lib\\site-packages\\pandas\\core\\generic.py\u001b[0m in \u001b[0;36m__setattr__\u001b[1;34m(self, name, value)\u001b[0m\n\u001b[0;32m   5476\u001b[0m         \u001b[1;32mtry\u001b[0m\u001b[1;33m:\u001b[0m\u001b[1;33m\u001b[0m\u001b[1;33m\u001b[0m\u001b[0m\n\u001b[0;32m   5477\u001b[0m             \u001b[0mobject\u001b[0m\u001b[1;33m.\u001b[0m\u001b[0m__getattribute__\u001b[0m\u001b[1;33m(\u001b[0m\u001b[0mself\u001b[0m\u001b[1;33m,\u001b[0m \u001b[0mname\u001b[0m\u001b[1;33m)\u001b[0m\u001b[1;33m\u001b[0m\u001b[1;33m\u001b[0m\u001b[0m\n\u001b[1;32m-> 5478\u001b[1;33m             \u001b[1;32mreturn\u001b[0m \u001b[0mobject\u001b[0m\u001b[1;33m.\u001b[0m\u001b[0m__setattr__\u001b[0m\u001b[1;33m(\u001b[0m\u001b[0mself\u001b[0m\u001b[1;33m,\u001b[0m \u001b[0mname\u001b[0m\u001b[1;33m,\u001b[0m \u001b[0mvalue\u001b[0m\u001b[1;33m)\u001b[0m\u001b[1;33m\u001b[0m\u001b[1;33m\u001b[0m\u001b[0m\n\u001b[0m\u001b[0;32m   5479\u001b[0m         \u001b[1;32mexcept\u001b[0m \u001b[0mAttributeError\u001b[0m\u001b[1;33m:\u001b[0m\u001b[1;33m\u001b[0m\u001b[1;33m\u001b[0m\u001b[0m\n\u001b[0;32m   5480\u001b[0m             \u001b[1;32mpass\u001b[0m\u001b[1;33m\u001b[0m\u001b[1;33m\u001b[0m\u001b[0m\n",
      "\u001b[1;32mpandas\\_libs\\properties.pyx\u001b[0m in \u001b[0;36mpandas._libs.properties.AxisProperty.__set__\u001b[1;34m()\u001b[0m\n",
      "\u001b[1;32m~\\anaconda3\\lib\\site-packages\\pandas\\core\\generic.py\u001b[0m in \u001b[0;36m_set_axis\u001b[1;34m(self, axis, labels)\u001b[0m\n\u001b[0;32m    668\u001b[0m     \u001b[1;32mdef\u001b[0m \u001b[0m_set_axis\u001b[0m\u001b[1;33m(\u001b[0m\u001b[0mself\u001b[0m\u001b[1;33m,\u001b[0m \u001b[0maxis\u001b[0m\u001b[1;33m:\u001b[0m \u001b[0mint\u001b[0m\u001b[1;33m,\u001b[0m \u001b[0mlabels\u001b[0m\u001b[1;33m:\u001b[0m \u001b[0mIndex\u001b[0m\u001b[1;33m)\u001b[0m \u001b[1;33m->\u001b[0m \u001b[1;32mNone\u001b[0m\u001b[1;33m:\u001b[0m\u001b[1;33m\u001b[0m\u001b[1;33m\u001b[0m\u001b[0m\n\u001b[0;32m    669\u001b[0m         \u001b[0mlabels\u001b[0m \u001b[1;33m=\u001b[0m \u001b[0mensure_index\u001b[0m\u001b[1;33m(\u001b[0m\u001b[0mlabels\u001b[0m\u001b[1;33m)\u001b[0m\u001b[1;33m\u001b[0m\u001b[1;33m\u001b[0m\u001b[0m\n\u001b[1;32m--> 670\u001b[1;33m         \u001b[0mself\u001b[0m\u001b[1;33m.\u001b[0m\u001b[0m_mgr\u001b[0m\u001b[1;33m.\u001b[0m\u001b[0mset_axis\u001b[0m\u001b[1;33m(\u001b[0m\u001b[0maxis\u001b[0m\u001b[1;33m,\u001b[0m \u001b[0mlabels\u001b[0m\u001b[1;33m)\u001b[0m\u001b[1;33m\u001b[0m\u001b[1;33m\u001b[0m\u001b[0m\n\u001b[0m\u001b[0;32m    671\u001b[0m         \u001b[0mself\u001b[0m\u001b[1;33m.\u001b[0m\u001b[0m_clear_item_cache\u001b[0m\u001b[1;33m(\u001b[0m\u001b[1;33m)\u001b[0m\u001b[1;33m\u001b[0m\u001b[1;33m\u001b[0m\u001b[0m\n\u001b[0;32m    672\u001b[0m \u001b[1;33m\u001b[0m\u001b[0m\n",
      "\u001b[1;32m~\\anaconda3\\lib\\site-packages\\pandas\\core\\internals\\managers.py\u001b[0m in \u001b[0;36mset_axis\u001b[1;34m(self, axis, new_labels)\u001b[0m\n\u001b[0;32m    218\u001b[0m \u001b[1;33m\u001b[0m\u001b[0m\n\u001b[0;32m    219\u001b[0m         \u001b[1;32mif\u001b[0m \u001b[0mnew_len\u001b[0m \u001b[1;33m!=\u001b[0m \u001b[0mold_len\u001b[0m\u001b[1;33m:\u001b[0m\u001b[1;33m\u001b[0m\u001b[1;33m\u001b[0m\u001b[0m\n\u001b[1;32m--> 220\u001b[1;33m             raise ValueError(\n\u001b[0m\u001b[0;32m    221\u001b[0m                 \u001b[1;34mf\"Length mismatch: Expected axis has {old_len} elements, new \"\u001b[0m\u001b[1;33m\u001b[0m\u001b[1;33m\u001b[0m\u001b[0m\n\u001b[0;32m    222\u001b[0m                 \u001b[1;34mf\"values have {new_len} elements\"\u001b[0m\u001b[1;33m\u001b[0m\u001b[1;33m\u001b[0m\u001b[0m\n",
      "\u001b[1;31mValueError\u001b[0m: Length mismatch: Expected axis has 0 elements, new values have 10 elements"
     ]
    }
   ],
   "source": [
    "from tqdm import tqdm\n",
    "\n",
    "# 크롬 드라이버로 해당 url에 접속\n",
    "driver = webdriver.Chrome(ChromeDriverManager().install())\n",
    "\n",
    "# 브라우저 위치 조정하기\n",
    "driver.set_window_position(-100,0) \n",
    "driver.maximize_window()\n",
    "\n",
    "# (크롬)드라이버가 요소를 찾는데에 최대 wait_time 초까지 기다림 (함수 사용 시 설정 가능하며 기본값은 5초)\n",
    "driver.implicitly_wait(3)\n",
    "\n",
    "\n",
    "total_df = pd.DataFrame()\n",
    "\n",
    "\n",
    "# For handle unexpected Error\n",
    "try:\n",
    "\n",
    "    # For every url I collected\n",
    "    for i, vid in tqdm(zip(naver_KBS[0], naver_KBS[1])):\n",
    "        driver.get(i)\n",
    "\n",
    "        # Click 'more comments until It return error'\n",
    "        while True:\n",
    "            try:\n",
    "                more = driver.find_element_by_css_selector('a.u_cbox_btn_more')\n",
    "                more.click()\n",
    "                time.sleep(0.5)\n",
    "\n",
    "            # break case\n",
    "            except:\n",
    "                break\n",
    "\n",
    "        # Click every 'show reply' btn \n",
    "        reply_buttons = driver.find_elements_by_css_selector('div.u_cbox_tool > a > span')\n",
    "        for button in reply_buttons:\n",
    "            if int(button.text) > 0:\n",
    "                button.click()\n",
    "                time.sleep(0.5)\n",
    "\n",
    "        # Get every comment box elements\n",
    "        page = driver.find_elements_by_css_selector('#cbox_module_wai_u_cbox_content_wrap_tabpanel > ul > li.u_cbox_comment')\n",
    "\n",
    "        # Empty DataFrame for merge every page's comments\n",
    "        comments_sum = []\n",
    "\n",
    "        # For every comment boxs in one page\n",
    "        for item in page:\n",
    "            single_sum = []\n",
    "            re_sum = []\n",
    "\n",
    "            # If The comment is alive (not deleted)\n",
    "            try:\n",
    "                body = item.find_element_by_css_selector('span.u_cbox_contents').text\n",
    "                single_sum.append(body)\n",
    "                single_sum.append(item.find_element_by_css_selector('span.u_cbox_info_main > span > span > span > span').text)\n",
    "                single_sum.append(item.find_element_by_css_selector('div.u_cbox_info_base > span').text) \n",
    "                single_sum.append(item.find_element_by_css_selector('a.u_cbox_btn_recomm > em').text)\n",
    "                re = item.find_element_by_css_selector(' div.u_cbox_tool > a > span').text\n",
    "                single_sum.append(re)\n",
    "                single_sum.append('parent')\n",
    "\n",
    "                # If there is reply for this comment\n",
    "                if int(re) > 0:\n",
    "                    re_author_lst = []\n",
    "                    re_comment_lst = []\n",
    "                    re_date_lst = []\n",
    "                    re_recom_lst = []\n",
    "                    re_re = []\n",
    "                    parent_lst = []\n",
    "\n",
    "                    # Get every reply\n",
    "                    re_area = item.find_element_by_css_selector('div.u_cbox_reply_area')\n",
    "                    for re_content in re_area.find_elements_by_css_selector('span.u_cbox_contents'):\n",
    "                        re_comment_lst.append(re_content.text)\n",
    "\n",
    "                    for re_author in re_area.find_elements_by_css_selector('span.u_cbox_info_main > span > span > span > span'):\n",
    "                        re_author_lst.append(re_author.text)\n",
    "\n",
    "                    for re_date in re_area.find_elements_by_css_selector('div.u_cbox_info_base > span'):\n",
    "                        re_date_lst.append(re_date.text)\n",
    "\n",
    "                    for re_recom in re_area.find_elements_by_css_selector('a.u_cbox_btn_recomm > em'):\n",
    "                        re_recom_lst.append(re_recom.text)\n",
    "\n",
    "                    # Give parent to parent comment's body text\n",
    "                    for _ in range(len(re_comment_lst)):\n",
    "                        parent_lst.append(body)\n",
    "                        re_re.append(0)\n",
    "\n",
    "                    # Make then into one list\n",
    "                    re_sum = list(zip(re_author_lst, re_comment_lst, re_date_lst, re_recom_lst, re_re, parent_lst))\n",
    "                    re_sum = [list(re_sum[i]) for i in range(len(re_sum))]\n",
    "\n",
    "            # IF The comment is deleted\n",
    "            except:\n",
    "                single_sum.append(item.find_element_by_css_selector('span.u_cbox_info_main > span > span > span > span').text)\n",
    "                single_sum.append('deleted')\n",
    "                single_sum.append(item.find_element_by_css_selector('div.u_cbox_info_base > span').text) \n",
    "                single_sum.append(-1)\n",
    "                single_sum.append(-1)\n",
    "                single_sum.append(-1)\n",
    "\n",
    "            # Combine parent comments and child reply to one list\n",
    "            comments_sum.append(single_sum)\n",
    "            comments_sum.extend(re_sum)\n",
    "\n",
    "        # merge every comments in one page\n",
    "        url_df = pd.DataFrame(comments_sum)\n",
    "\n",
    "\n",
    "        # give article title and time\n",
    "        try:\n",
    "            url_df['vtitle'] = driver.find_elements_by_css_selector('#ct > div.media_end_head.go_trans > div.media_end_head_title > h2')[0].text\n",
    "            url_df['vtime'] = driver.find_elements_by_css_selector('#ct > div.media_end_head.go_trans > div.media_end_head_info.nv_notrans > div.media_end_head_info_datestamp > div:nth-child(1) > span')[0].text\n",
    "            url_df['category'] = driver.find_elements_by_css_selector('#contents > div.media_end_categorize > a > em')[0].text\n",
    "        except:\n",
    "            print('title error')\n",
    "            url_df['vtitle'] = \"ERROR\"\n",
    "            url_df['vtime'] = \"ERROR\"\n",
    "            url_df['category'] = 'ERROR'\n",
    "\n",
    "        url_df['vid'] = vid\n",
    "        # merge one page's comments to total df\n",
    "        total_df = pd.concat([total_df, url_df])\n",
    "        \n",
    "        \n",
    "except:\n",
    "    print(\"UNEXPECTED ERROR\")\n",
    "\n",
    "\n",
    "driver.quit()\n",
    "\n",
    "\n",
    "total_df.columns = ['author', 'comment', 'ctime', 'like', 'reply', 'parent', 'vtitle', 'vtime', 'category', 'vid']\n",
    "total_df.to_pickle(\"../result_0923.pkl\")\n"
   ]
  },
  {
   "cell_type": "code",
   "execution_count": 94,
   "id": "545c9cf8-9412-494d-8b47-91ce9a896440",
   "metadata": {},
   "outputs": [
    {
     "data": {
      "text/html": [
       "<div>\n",
       "<style scoped>\n",
       "    .dataframe tbody tr th:only-of-type {\n",
       "        vertical-align: middle;\n",
       "    }\n",
       "\n",
       "    .dataframe tbody tr th {\n",
       "        vertical-align: top;\n",
       "    }\n",
       "\n",
       "    .dataframe thead th {\n",
       "        text-align: right;\n",
       "    }\n",
       "</style>\n",
       "<table border=\"1\" class=\"dataframe\">\n",
       "  <thead>\n",
       "    <tr style=\"text-align: right;\">\n",
       "      <th></th>\n",
       "      <th>author</th>\n",
       "      <th>comment</th>\n",
       "      <th>ctime</th>\n",
       "      <th>like</th>\n",
       "      <th>reply</th>\n",
       "      <th>parent</th>\n",
       "      <th>vtitle</th>\n",
       "      <th>vtime</th>\n",
       "      <th>category</th>\n",
       "      <th>vid</th>\n",
       "    </tr>\n",
       "  </thead>\n",
       "  <tbody>\n",
       "    <tr>\n",
       "      <th>0</th>\n",
       "      <td>fndk****</td>\n",
       "      <td>deleted</td>\n",
       "      <td>2022.01.02. 11:34</td>\n",
       "      <td>-1</td>\n",
       "      <td>-1</td>\n",
       "      <td>-1</td>\n",
       "      <td>오미크론 한달 만에 1천 명대…숨은 감염 확산하며 다음달 안에 우세종</td>\n",
       "      <td>2022.01.02. 오전 6:05</td>\n",
       "      <td>사회</td>\n",
       "      <td>5imqfqo6jtI</td>\n",
       "    </tr>\n",
       "    <tr>\n",
       "      <th>1</th>\n",
       "      <td>오미크론은 감기수준인ㄷ 문재인은 대선 투표조작을 위해 오미크론을 핑계로 사전투표를 ...</td>\n",
       "      <td>jsw8****</td>\n",
       "      <td>2022.01.03. 09:42</td>\n",
       "      <td>0</td>\n",
       "      <td>0</td>\n",
       "      <td>parent</td>\n",
       "      <td>오미크론 한달 만에 1천 명대…숨은 감염 확산하며 다음달 안에 우세종</td>\n",
       "      <td>2022.01.02. 오전 6:05</td>\n",
       "      <td>사회</td>\n",
       "      <td>5imqfqo6jtI</td>\n",
       "    </tr>\n",
       "    <tr>\n",
       "      <th>0</th>\n",
       "      <td>중국의 개가 또 짖는다</td>\n",
       "      <td>yunj****</td>\n",
       "      <td>2022.01.01. 12:37</td>\n",
       "      <td>43</td>\n",
       "      <td>3</td>\n",
       "      <td>parent</td>\n",
       "      <td>WHO 사무총장, ‘올해 코로나 종식 낙관론’ 피력</td>\n",
       "      <td>2022.01.01. 오후 12:15</td>\n",
       "      <td>세계</td>\n",
       "      <td>45kVesI8mLw</td>\n",
       "    </tr>\n",
       "    <tr>\n",
       "      <th>1</th>\n",
       "      <td>imkd****</td>\n",
       "      <td>이 흑인 사무총장이 우한 폐렴 초기때, 위험성만 제대로 알렸어도…. 바로 다음 이어...</td>\n",
       "      <td>2022.01.01. 17:52</td>\n",
       "      <td>0</td>\n",
       "      <td>0</td>\n",
       "      <td>중국의 개가 또 짖는다</td>\n",
       "      <td>WHO 사무총장, ‘올해 코로나 종식 낙관론’ 피력</td>\n",
       "      <td>2022.01.01. 오후 12:15</td>\n",
       "      <td>세계</td>\n",
       "      <td>45kVesI8mLw</td>\n",
       "    </tr>\n",
       "    <tr>\n",
       "      <th>2</th>\n",
       "      <td>nomm****</td>\n",
       "      <td>아직도 안 짤렸네</td>\n",
       "      <td>2022.01.01. 23:36</td>\n",
       "      <td>0</td>\n",
       "      <td>0</td>\n",
       "      <td>중국의 개가 또 짖는다</td>\n",
       "      <td>WHO 사무총장, ‘올해 코로나 종식 낙관론’ 피력</td>\n",
       "      <td>2022.01.01. 오후 12:15</td>\n",
       "      <td>세계</td>\n",
       "      <td>45kVesI8mLw</td>\n",
       "    </tr>\n",
       "    <tr>\n",
       "      <th>...</th>\n",
       "      <td>...</td>\n",
       "      <td>...</td>\n",
       "      <td>...</td>\n",
       "      <td>...</td>\n",
       "      <td>...</td>\n",
       "      <td>...</td>\n",
       "      <td>...</td>\n",
       "      <td>...</td>\n",
       "      <td>...</td>\n",
       "      <td>...</td>\n",
       "    </tr>\n",
       "    <tr>\n",
       "      <th>0</th>\n",
       "      <td>저건 100% 부모 잘못이다. 요즘 자식을 그저 귀하게만 키우다보니 개념이라곤 찾아...</td>\n",
       "      <td>naib****</td>\n",
       "      <td>2022.08.31. 18:35</td>\n",
       "      <td>23</td>\n",
       "      <td>0</td>\n",
       "      <td>parent</td>\n",
       "      <td>[ET] 교단에 드러누워서 촬영하고 웃통까지 훌러덩…‘교권 침해 보험’ 드는 선생님들까지</td>\n",
       "      <td>2022.08.31. 오후 6:00</td>\n",
       "      <td>사회</td>\n",
       "      <td>OzC51Ap7oP4</td>\n",
       "    </tr>\n",
       "    <tr>\n",
       "      <th>1</th>\n",
       "      <td>학생부 선생님이 귓방망이 날리고 엎드려 뻗쳐 시킨 다음에 하키스틱으로 10대 딱 맞...</td>\n",
       "      <td>indr****</td>\n",
       "      <td>2022.08.31. 18:19</td>\n",
       "      <td>20</td>\n",
       "      <td>2</td>\n",
       "      <td>parent</td>\n",
       "      <td>[ET] 교단에 드러누워서 촬영하고 웃통까지 훌러덩…‘교권 침해 보험’ 드는 선생님들까지</td>\n",
       "      <td>2022.08.31. 오후 6:00</td>\n",
       "      <td>사회</td>\n",
       "      <td>OzC51Ap7oP4</td>\n",
       "    </tr>\n",
       "    <tr>\n",
       "      <th>2</th>\n",
       "      <td>디지도록 패야 인간된다 저런애들은</td>\n",
       "      <td>qhsx****</td>\n",
       "      <td>2022.08.31. 18:21</td>\n",
       "      <td>11</td>\n",
       "      <td>0</td>\n",
       "      <td>parent</td>\n",
       "      <td>[ET] 교단에 드러누워서 촬영하고 웃통까지 훌러덩…‘교권 침해 보험’ 드는 선생님들까지</td>\n",
       "      <td>2022.08.31. 오후 6:00</td>\n",
       "      <td>사회</td>\n",
       "      <td>OzC51Ap7oP4</td>\n",
       "    </tr>\n",
       "    <tr>\n",
       "      <th>3</th>\n",
       "      <td>때리지 못하면 바로 퇴학 시켜버려라 사회에 매장시켜야지 원...</td>\n",
       "      <td>jiny****</td>\n",
       "      <td>2022.08.31. 20:39</td>\n",
       "      <td>10</td>\n",
       "      <td>0</td>\n",
       "      <td>parent</td>\n",
       "      <td>[ET] 교단에 드러누워서 촬영하고 웃통까지 훌러덩…‘교권 침해 보험’ 드는 선생님들까지</td>\n",
       "      <td>2022.08.31. 오후 6:00</td>\n",
       "      <td>사회</td>\n",
       "      <td>OzC51Ap7oP4</td>\n",
       "    </tr>\n",
       "    <tr>\n",
       "      <th>4</th>\n",
       "      <td>교사들에게 테이저건을 지급하라</td>\n",
       "      <td>tnsa****</td>\n",
       "      <td>2022.08.31. 18:24</td>\n",
       "      <td>8</td>\n",
       "      <td>0</td>\n",
       "      <td>parent</td>\n",
       "      <td>[ET] 교단에 드러누워서 촬영하고 웃통까지 훌러덩…‘교권 침해 보험’ 드는 선생님들까지</td>\n",
       "      <td>2022.08.31. 오후 6:00</td>\n",
       "      <td>사회</td>\n",
       "      <td>OzC51Ap7oP4</td>\n",
       "    </tr>\n",
       "  </tbody>\n",
       "</table>\n",
       "<p>14031 rows × 10 columns</p>\n",
       "</div>"
      ],
      "text/plain": [
       "                                               author  \\\n",
       "0                                            fndk****   \n",
       "1   오미크론은 감기수준인ㄷ 문재인은 대선 투표조작을 위해 오미크론을 핑계로 사전투표를 ...   \n",
       "0                                        중국의 개가 또 짖는다   \n",
       "1                                            imkd****   \n",
       "2                                            nomm****   \n",
       "..                                                ...   \n",
       "0   저건 100% 부모 잘못이다. 요즘 자식을 그저 귀하게만 키우다보니 개념이라곤 찾아...   \n",
       "1   학생부 선생님이 귓방망이 날리고 엎드려 뻗쳐 시킨 다음에 하키스틱으로 10대 딱 맞...   \n",
       "2                                  디지도록 패야 인간된다 저런애들은   \n",
       "3                 때리지 못하면 바로 퇴학 시켜버려라 사회에 매장시켜야지 원...   \n",
       "4                                    교사들에게 테이저건을 지급하라   \n",
       "\n",
       "                                              comment              ctime like  \\\n",
       "0                                             deleted  2022.01.02. 11:34   -1   \n",
       "1                                            jsw8****  2022.01.03. 09:42    0   \n",
       "0                                            yunj****  2022.01.01. 12:37   43   \n",
       "1   이 흑인 사무총장이 우한 폐렴 초기때, 위험성만 제대로 알렸어도…. 바로 다음 이어...  2022.01.01. 17:52    0   \n",
       "2                                           아직도 안 짤렸네  2022.01.01. 23:36    0   \n",
       "..                                                ...                ...  ...   \n",
       "0                                            naib****  2022.08.31. 18:35   23   \n",
       "1                                            indr****  2022.08.31. 18:19   20   \n",
       "2                                            qhsx****  2022.08.31. 18:21   11   \n",
       "3                                            jiny****  2022.08.31. 20:39   10   \n",
       "4                                            tnsa****  2022.08.31. 18:24    8   \n",
       "\n",
       "   reply        parent                                             vtitle  \\\n",
       "0     -1            -1             오미크론 한달 만에 1천 명대…숨은 감염 확산하며 다음달 안에 우세종   \n",
       "1      0        parent             오미크론 한달 만에 1천 명대…숨은 감염 확산하며 다음달 안에 우세종   \n",
       "0      3        parent                       WHO 사무총장, ‘올해 코로나 종식 낙관론’ 피력   \n",
       "1      0  중국의 개가 또 짖는다                       WHO 사무총장, ‘올해 코로나 종식 낙관론’ 피력   \n",
       "2      0  중국의 개가 또 짖는다                       WHO 사무총장, ‘올해 코로나 종식 낙관론’ 피력   \n",
       "..   ...           ...                                                ...   \n",
       "0      0        parent  [ET] 교단에 드러누워서 촬영하고 웃통까지 훌러덩…‘교권 침해 보험’ 드는 선생님들까지   \n",
       "1      2        parent  [ET] 교단에 드러누워서 촬영하고 웃통까지 훌러덩…‘교권 침해 보험’ 드는 선생님들까지   \n",
       "2      0        parent  [ET] 교단에 드러누워서 촬영하고 웃통까지 훌러덩…‘교권 침해 보험’ 드는 선생님들까지   \n",
       "3      0        parent  [ET] 교단에 드러누워서 촬영하고 웃통까지 훌러덩…‘교권 침해 보험’ 드는 선생님들까지   \n",
       "4      0        parent  [ET] 교단에 드러누워서 촬영하고 웃통까지 훌러덩…‘교권 침해 보험’ 드는 선생님들까지   \n",
       "\n",
       "                   vtime category          vid  \n",
       "0    2022.01.02. 오전 6:05       사회  5imqfqo6jtI  \n",
       "1    2022.01.02. 오전 6:05       사회  5imqfqo6jtI  \n",
       "0   2022.01.01. 오후 12:15       세계  45kVesI8mLw  \n",
       "1   2022.01.01. 오후 12:15       세계  45kVesI8mLw  \n",
       "2   2022.01.01. 오후 12:15       세계  45kVesI8mLw  \n",
       "..                   ...      ...          ...  \n",
       "0    2022.08.31. 오후 6:00       사회  OzC51Ap7oP4  \n",
       "1    2022.08.31. 오후 6:00       사회  OzC51Ap7oP4  \n",
       "2    2022.08.31. 오후 6:00       사회  OzC51Ap7oP4  \n",
       "3    2022.08.31. 오후 6:00       사회  OzC51Ap7oP4  \n",
       "4    2022.08.31. 오후 6:00       사회  OzC51Ap7oP4  \n",
       "\n",
       "[14031 rows x 10 columns]"
      ]
     },
     "execution_count": 94,
     "metadata": {},
     "output_type": "execute_result"
    }
   ],
   "source": [
    "total_df"
   ]
  },
  {
   "cell_type": "code",
   "execution_count": 123,
   "id": "db7c8701-ea91-4eb7-93be-0efbea2c346a",
   "metadata": {},
   "outputs": [],
   "source": [
    "total_df1.to_csv(\"../result/naver_KBS_comments_1921.csv\")"
   ]
  },
  {
   "cell_type": "code",
   "execution_count": 98,
   "id": "3273ccc2-0d01-4549-80c3-af077532e5bc",
   "metadata": {},
   "outputs": [
    {
     "name": "stdout",
     "output_type": "stream",
     "text": [
      "Point(x=-135, y=-603)\n"
     ]
    }
   ],
   "source": [
    "import pyautogui\n",
    "\n",
    "print(pyautogui.position())"
   ]
  }
 ],
 "metadata": {
  "kernelspec": {
   "display_name": "Python 3",
   "language": "python",
   "name": "python3"
  },
  "language_info": {
   "codemirror_mode": {
    "name": "ipython",
    "version": 3
   },
   "file_extension": ".py",
   "mimetype": "text/x-python",
   "name": "python",
   "nbconvert_exporter": "python",
   "pygments_lexer": "ipython3",
   "version": "3.8.8"
  }
 },
 "nbformat": 4,
 "nbformat_minor": 5
}
