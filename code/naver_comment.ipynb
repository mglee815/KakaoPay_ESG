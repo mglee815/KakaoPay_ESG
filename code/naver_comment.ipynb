{
  "cells": [
    {
      "cell_type": "code",
      "execution_count": 75,
      "metadata": {
        "colab": {
          "base_uri": "https://localhost:8080/"
        },
        "id": "q2kbaCNAzkac",
        "outputId": "8327a17e-64f1-4697-c408-a08bb8a5fcf5"
      },
      "outputs": [],
      "source": [
        "# 라이브러리 불러오기\n",
        "import requests\n",
        "from bs4 import BeautifulSoup\n",
        "from datetime import datetime, timedelta\n",
        "import asyncio\n",
        "import json\n",
        "import nest_asyncio\n",
        "import pandas as pd\n",
        "import re\n",
        "from tqdm import tqdm\n",
        "nest_asyncio.apply()"
      ]
    },
    {
      "cell_type": "code",
      "execution_count": 76,
      "metadata": {},
      "outputs": [],
      "source": [
        "urls = pd.read_csv(\"../data/KP_naver_monthlyTop4000_TB.csv\")"
      ]
    },
    {
      "cell_type": "code",
      "execution_count": 77,
      "metadata": {},
      "outputs": [
        {
          "data": {
            "text/html": [
              "<div>\n",
              "<style scoped>\n",
              "    .dataframe tbody tr th:only-of-type {\n",
              "        vertical-align: middle;\n",
              "    }\n",
              "\n",
              "    .dataframe tbody tr th {\n",
              "        vertical-align: top;\n",
              "    }\n",
              "\n",
              "    .dataframe thead th {\n",
              "        text-align: right;\n",
              "    }\n",
              "</style>\n",
              "<table border=\"1\" class=\"dataframe\">\n",
              "  <thead>\n",
              "    <tr style=\"text-align: right;\">\n",
              "      <th></th>\n",
              "      <th>Unnamed: 0</th>\n",
              "      <th>0</th>\n",
              "      <th>1</th>\n",
              "      <th>2</th>\n",
              "    </tr>\n",
              "  </thead>\n",
              "  <tbody>\n",
              "    <tr>\n",
              "      <th>0</th>\n",
              "      <td>0</td>\n",
              "      <td>https://n.news.naver.com/mnews/article/021/000...</td>\n",
              "      <td>카드업계도…‘모바일 페이’ 수수료 전쟁 시작된다</td>\n",
              "      <td>[\\n\\n\\n\\n\\n\\n간편결제 시장 日평균 2500억7개 카드사 결제대행업체 설립...</td>\n",
              "    </tr>\n",
              "    <tr>\n",
              "      <th>1</th>\n",
              "      <td>1</td>\n",
              "      <td>https://n.news.naver.com/mnews/article/015/000...</td>\n",
              "      <td>카카오페이도 소상공인에 '활짝'…결제 API 공개</td>\n",
              "      <td>[\\n쉽게 가져다 쓰는 오픈 플랫폼 전략\"온라인 결제시스템 도입 부담 덜 것\"\\n\\...</td>\n",
              "    </tr>\n",
              "    <tr>\n",
              "      <th>2</th>\n",
              "      <td>2</td>\n",
              "      <td>https://n.news.naver.com/mnews/article/421/000...</td>\n",
              "      <td>대한항공, 모바일 항공권 결제에 삼성페이 도입</td>\n",
              "      <td>[\\n\\n\\n\\n\\n대한항공이 도입한 온라인 결제시스템인 카카오페이와 페이코 서비스...</td>\n",
              "    </tr>\n",
              "    <tr>\n",
              "      <th>3</th>\n",
              "      <td>3</td>\n",
              "      <td>https://n.news.naver.com/mnews/article/001/000...</td>\n",
              "      <td>카카오페이로 세금납부 가능해진다…모바일 세금납부 확대</td>\n",
              "      <td>[\\n\\n\\n\\n\\n [연합뉴스TV제공]국세청, 전국 세무관서장 회의…종합소득세 전...</td>\n",
              "    </tr>\n",
              "    <tr>\n",
              "      <th>4</th>\n",
              "      <td>4</td>\n",
              "      <td>https://n.news.naver.com/mnews/article/001/000...</td>\n",
              "      <td>카카오페이, 외부 업체도 자유롭게 쓰세요</td>\n",
              "      <td>[\\n\\n\\n\\n\\n카카오페이 타이틀 화면 &amp;lt;&amp;lt;카카오 제공&amp;gt;&amp;gt;...</td>\n",
              "    </tr>\n",
              "    <tr>\n",
              "      <th>...</th>\n",
              "      <td>...</td>\n",
              "      <td>...</td>\n",
              "      <td>...</td>\n",
              "      <td>...</td>\n",
              "    </tr>\n",
              "    <tr>\n",
              "      <th>44075</th>\n",
              "      <td>44075</td>\n",
              "      <td>https://n.news.naver.com/mnews/article/003/001...</td>\n",
              "      <td>횡성군, 연말연시 '희망 2023 나눔캠페인' 추진</td>\n",
              "      <td>[\\n기사내용 요약'함께하는 나눔, 지속가능한 강원'\\n\\n\\n\\n[횡성=뉴시스]이...</td>\n",
              "    </tr>\n",
              "    <tr>\n",
              "      <th>44076</th>\n",
              "      <td>44076</td>\n",
              "      <td>https://n.news.naver.com/mnews/article/421/000...</td>\n",
              "      <td>청양군 “2022년 2기분 자동차세 내달 2일까지 납부하세요”</td>\n",
              "      <td>[\\n은행 현금자동출납기서 고지서없이 납부 가능\\n\\n\\n\\n청양군 청사 전경.(청...</td>\n",
              "    </tr>\n",
              "    <tr>\n",
              "      <th>44077</th>\n",
              "      <td>44077</td>\n",
              "      <td>https://n.news.naver.com/mnews/article/421/000...</td>\n",
              "      <td>반갑다 코스피 2500…금리압력 약화로 석달만에 회복개장시황</td>\n",
              "      <td>[\\n지난 8월 이후 100여일만…네이버-카카오 등 성장주 강세 환율도 4개월여만에...</td>\n",
              "    </tr>\n",
              "    <tr>\n",
              "      <th>44078</th>\n",
              "      <td>44078</td>\n",
              "      <td>https://n.news.naver.com/mnews/article/119/000...</td>\n",
              "      <td>고객 찾아가는 증권사...방문판매 서비스 본격화</td>\n",
              "      <td>[\\n증권사 PB가 보험사처럼 펀드상품 등 직접 판매“오래전 시스템 구축...파급력...</td>\n",
              "    </tr>\n",
              "    <tr>\n",
              "      <th>44079</th>\n",
              "      <td>44079</td>\n",
              "      <td>https://n.news.naver.com/mnews/article/079/000...</td>\n",
              "      <td>'함께하는 나눔, 행복한 우리 경기'…희망 나눔 캠페인 시작</td>\n",
              "      <td>[\\n올해 목표액, 지난해보다 10% 높아진 307억원1% 성금 모금될 때마다 온도...</td>\n",
              "    </tr>\n",
              "  </tbody>\n",
              "</table>\n",
              "<p>44080 rows × 4 columns</p>\n",
              "</div>"
            ],
            "text/plain": [
              "       Unnamed: 0                                                  0  \\\n",
              "0               0  https://n.news.naver.com/mnews/article/021/000...   \n",
              "1               1  https://n.news.naver.com/mnews/article/015/000...   \n",
              "2               2  https://n.news.naver.com/mnews/article/421/000...   \n",
              "3               3  https://n.news.naver.com/mnews/article/001/000...   \n",
              "4               4  https://n.news.naver.com/mnews/article/001/000...   \n",
              "...           ...                                                ...   \n",
              "44075       44075  https://n.news.naver.com/mnews/article/003/001...   \n",
              "44076       44076  https://n.news.naver.com/mnews/article/421/000...   \n",
              "44077       44077  https://n.news.naver.com/mnews/article/421/000...   \n",
              "44078       44078  https://n.news.naver.com/mnews/article/119/000...   \n",
              "44079       44079  https://n.news.naver.com/mnews/article/079/000...   \n",
              "\n",
              "                                        1  \\\n",
              "0              카드업계도…‘모바일 페이’ 수수료 전쟁 시작된다   \n",
              "1             카카오페이도 소상공인에 '활짝'…결제 API 공개   \n",
              "2               대한항공, 모바일 항공권 결제에 삼성페이 도입   \n",
              "3           카카오페이로 세금납부 가능해진다…모바일 세금납부 확대   \n",
              "4                  카카오페이, 외부 업체도 자유롭게 쓰세요   \n",
              "...                                   ...   \n",
              "44075        횡성군, 연말연시 '희망 2023 나눔캠페인' 추진   \n",
              "44076  청양군 “2022년 2기분 자동차세 내달 2일까지 납부하세요”   \n",
              "44077   반갑다 코스피 2500…금리압력 약화로 석달만에 회복개장시황   \n",
              "44078          고객 찾아가는 증권사...방문판매 서비스 본격화   \n",
              "44079   '함께하는 나눔, 행복한 우리 경기'…희망 나눔 캠페인 시작   \n",
              "\n",
              "                                                       2  \n",
              "0      [\\n\\n\\n\\n\\n\\n간편결제 시장 日평균 2500억7개 카드사 결제대행업체 설립...  \n",
              "1      [\\n쉽게 가져다 쓰는 오픈 플랫폼 전략\"온라인 결제시스템 도입 부담 덜 것\"\\n\\...  \n",
              "2      [\\n\\n\\n\\n\\n대한항공이 도입한 온라인 결제시스템인 카카오페이와 페이코 서비스...  \n",
              "3      [\\n\\n\\n\\n\\n [연합뉴스TV제공]국세청, 전국 세무관서장 회의…종합소득세 전...  \n",
              "4      [\\n\\n\\n\\n\\n카카오페이 타이틀 화면 &lt;&lt;카카오 제공&gt;&gt;...  \n",
              "...                                                  ...  \n",
              "44075  [\\n기사내용 요약'함께하는 나눔, 지속가능한 강원'\\n\\n\\n\\n[횡성=뉴시스]이...  \n",
              "44076  [\\n은행 현금자동출납기서 고지서없이 납부 가능\\n\\n\\n\\n청양군 청사 전경.(청...  \n",
              "44077  [\\n지난 8월 이후 100여일만…네이버-카카오 등 성장주 강세 환율도 4개월여만에...  \n",
              "44078  [\\n증권사 PB가 보험사처럼 펀드상품 등 직접 판매“오래전 시스템 구축...파급력...  \n",
              "44079  [\\n올해 목표액, 지난해보다 10% 높아진 307억원1% 성금 모금될 때마다 온도...  \n",
              "\n",
              "[44080 rows x 4 columns]"
            ]
          },
          "execution_count": 77,
          "metadata": {},
          "output_type": "execute_result"
        }
      ],
      "source": [
        "urls"
      ]
    },
    {
      "cell_type": "code",
      "execution_count": 78,
      "metadata": {},
      "outputs": [
        {
          "data": {
            "text/html": [
              "<div>\n",
              "<style scoped>\n",
              "    .dataframe tbody tr th:only-of-type {\n",
              "        vertical-align: middle;\n",
              "    }\n",
              "\n",
              "    .dataframe tbody tr th {\n",
              "        vertical-align: top;\n",
              "    }\n",
              "\n",
              "    .dataframe thead th {\n",
              "        text-align: right;\n",
              "    }\n",
              "</style>\n",
              "<table border=\"1\" class=\"dataframe\">\n",
              "  <thead>\n",
              "    <tr style=\"text-align: right;\">\n",
              "      <th></th>\n",
              "      <th>0</th>\n",
              "      <th>1</th>\n",
              "    </tr>\n",
              "  </thead>\n",
              "  <tbody>\n",
              "    <tr>\n",
              "      <th>0</th>\n",
              "      <td>https://n.news.naver.com/mnews/article/021/000...</td>\n",
              "      <td>카드업계도…‘모바일 페이’ 수수료 전쟁 시작된다</td>\n",
              "    </tr>\n",
              "    <tr>\n",
              "      <th>1</th>\n",
              "      <td>https://n.news.naver.com/mnews/article/015/000...</td>\n",
              "      <td>카카오페이도 소상공인에 '활짝'…결제 API 공개</td>\n",
              "    </tr>\n",
              "    <tr>\n",
              "      <th>2</th>\n",
              "      <td>https://n.news.naver.com/mnews/article/421/000...</td>\n",
              "      <td>대한항공, 모바일 항공권 결제에 삼성페이 도입</td>\n",
              "    </tr>\n",
              "    <tr>\n",
              "      <th>3</th>\n",
              "      <td>https://n.news.naver.com/mnews/article/001/000...</td>\n",
              "      <td>카카오페이로 세금납부 가능해진다…모바일 세금납부 확대</td>\n",
              "    </tr>\n",
              "    <tr>\n",
              "      <th>4</th>\n",
              "      <td>https://n.news.naver.com/mnews/article/001/000...</td>\n",
              "      <td>카카오페이, 외부 업체도 자유롭게 쓰세요</td>\n",
              "    </tr>\n",
              "    <tr>\n",
              "      <th>...</th>\n",
              "      <td>...</td>\n",
              "      <td>...</td>\n",
              "    </tr>\n",
              "    <tr>\n",
              "      <th>44075</th>\n",
              "      <td>https://n.news.naver.com/mnews/article/003/001...</td>\n",
              "      <td>횡성군, 연말연시 '희망 2023 나눔캠페인' 추진</td>\n",
              "    </tr>\n",
              "    <tr>\n",
              "      <th>44076</th>\n",
              "      <td>https://n.news.naver.com/mnews/article/421/000...</td>\n",
              "      <td>청양군 “2022년 2기분 자동차세 내달 2일까지 납부하세요”</td>\n",
              "    </tr>\n",
              "    <tr>\n",
              "      <th>44077</th>\n",
              "      <td>https://n.news.naver.com/mnews/article/421/000...</td>\n",
              "      <td>반갑다 코스피 2500…금리압력 약화로 석달만에 회복개장시황</td>\n",
              "    </tr>\n",
              "    <tr>\n",
              "      <th>44078</th>\n",
              "      <td>https://n.news.naver.com/mnews/article/119/000...</td>\n",
              "      <td>고객 찾아가는 증권사...방문판매 서비스 본격화</td>\n",
              "    </tr>\n",
              "    <tr>\n",
              "      <th>44079</th>\n",
              "      <td>https://n.news.naver.com/mnews/article/079/000...</td>\n",
              "      <td>'함께하는 나눔, 행복한 우리 경기'…희망 나눔 캠페인 시작</td>\n",
              "    </tr>\n",
              "  </tbody>\n",
              "</table>\n",
              "<p>44080 rows × 2 columns</p>\n",
              "</div>"
            ],
            "text/plain": [
              "                                                       0  \\\n",
              "0      https://n.news.naver.com/mnews/article/021/000...   \n",
              "1      https://n.news.naver.com/mnews/article/015/000...   \n",
              "2      https://n.news.naver.com/mnews/article/421/000...   \n",
              "3      https://n.news.naver.com/mnews/article/001/000...   \n",
              "4      https://n.news.naver.com/mnews/article/001/000...   \n",
              "...                                                  ...   \n",
              "44075  https://n.news.naver.com/mnews/article/003/001...   \n",
              "44076  https://n.news.naver.com/mnews/article/421/000...   \n",
              "44077  https://n.news.naver.com/mnews/article/421/000...   \n",
              "44078  https://n.news.naver.com/mnews/article/119/000...   \n",
              "44079  https://n.news.naver.com/mnews/article/079/000...   \n",
              "\n",
              "                                        1  \n",
              "0              카드업계도…‘모바일 페이’ 수수료 전쟁 시작된다  \n",
              "1             카카오페이도 소상공인에 '활짝'…결제 API 공개  \n",
              "2               대한항공, 모바일 항공권 결제에 삼성페이 도입  \n",
              "3           카카오페이로 세금납부 가능해진다…모바일 세금납부 확대  \n",
              "4                  카카오페이, 외부 업체도 자유롭게 쓰세요  \n",
              "...                                   ...  \n",
              "44075        횡성군, 연말연시 '희망 2023 나눔캠페인' 추진  \n",
              "44076  청양군 “2022년 2기분 자동차세 내달 2일까지 납부하세요”  \n",
              "44077   반갑다 코스피 2500…금리압력 약화로 석달만에 회복개장시황  \n",
              "44078          고객 찾아가는 증권사...방문판매 서비스 본격화  \n",
              "44079   '함께하는 나눔, 행복한 우리 경기'…희망 나눔 캠페인 시작  \n",
              "\n",
              "[44080 rows x 2 columns]"
            ]
          },
          "execution_count": 78,
          "metadata": {},
          "output_type": "execute_result"
        }
      ],
      "source": [
        "test = urls.iloc[:, 1:3]\n",
        "test"
      ]
    },
    {
      "cell_type": "code",
      "execution_count": 79,
      "metadata": {
        "id": "39A4hPZryEA2"
      },
      "outputs": [],
      "source": [
        "# 함수 정의\n",
        "def get_comments(refer_url, comment_url) : # 댓글 목록을 json 형태로 받아오는 함수\n",
        "    comments = []\n",
        "    next = None\n",
        "    # 처음엔 댓글 개수를 모르므로 충분히 큰 수를 넣어 줌\n",
        "    comment_count = 10e6\n",
        "    headers = {\n",
        "        'User-Agent' : 'Mozilla/5.0 (Macintosh; Intel Mac OS X 10_15_3) AppleWebKit/605.1.15 (KHTML, like Gecko) Version/13.0.5 Safari/605.1.15',\n",
        "        'referer': refer_url\n",
        "    }\n",
        "    \n",
        "    # 수집한 댓글 수가 첫번째에 수집한 총 댓글 수 보다 많다면 반복을 종료합니다.\n",
        "    while len(comments) < comment_count :\n",
        "        comment_url_next = comment_url + '&moreParam.next=' + next if next else comment_url\n",
        "        res = requests.get(comment_url_next, headers=headers)\n",
        "        dic = json.loads(res.text[res.text.index('(')+1:-2])\n",
        "        comments.extend(list(map(lambda x : {\n",
        "            'url' : refer_url,\n",
        "            'text': x['contents'],\n",
        "            'reply_count' : x['replyCount'], \n",
        "            'uid': x['idNo'],\n",
        "            'uname' : x['userName'],\n",
        "            'like': x['sympathyCount'], \n",
        "            'dislike': x['antipathyCount'],\n",
        "            'c_time' : x['modTime'],\n",
        "            'cid': x['commentNo'],\n",
        "            'pid' : x['parentCommentNo'] \n",
        "            }, dic['result']['commentList'])))\n",
        "        comment_count = dic['result']['count']['comment']\n",
        "        next = dic['result']['morePage']['next'] if comment_count else None\n",
        "    # 필터로 삭제된 댓글을 걸러줍니다\n",
        "    comments=list(filter(lambda x: len(x['text']), comments))\n",
        "    return comments\n",
        "\n"
      ]
    },
    {
      "cell_type": "code",
      "execution_count": 80,
      "metadata": {
        "id": "oB9vJariuqiy"
      },
      "outputs": [],
      "source": [
        "def get_data(oid, aid) :\n",
        "    try :\n",
        "        # refer_url: 댓글 보기를 누르면 나오는 댓글 페이지 주소\n",
        "        # comment_url: 네트워크 탭에서 확인 가능한 동적으로 생성되는 주소\n",
        "        refer_url = f'https://n.news.naver.com/mnews/article/comment/{oid}/{aid}?sid=100'\n",
        "        comment_url = f'https://apis.naver.com/commentBox/cbox/web_naver_list_jsonp.json?ticket=news&templateId=default_politics_m3&pool=cbox5&_cv=20220623185938&_callback=jQuery33103200637113167857_1656171100524&lang=ko&country=KR&objectId=news{oid}%2C{aid}&categoryId=&pageSize=100&indexSize=10&groupId=&listType=OBJECT&pageType=more&page=1&initialize=true&userType=&useAltSort=true&replyPageSize=20&followSize=100&sort=new&includeAllStatus=true&_=1656171100525'\n",
        "\n",
        "        comments = get_comments(refer_url, comment_url)\n",
        "        comments = pd.DataFrame(comments)\n",
        "        # 댓글 수가 0개인 기사를 어떻게 할지 추후에 결정해야 함\n",
        "        return comments\n",
        "    except :\n",
        "        return None\n"
      ]
    },
    {
      "cell_type": "code",
      "execution_count": 81,
      "metadata": {},
      "outputs": [
        {
          "name": "stderr",
          "output_type": "stream",
          "text": [
            "177it [00:41,  7.30it/s]"
          ]
        },
        {
          "name": "stdout",
          "output_type": "stream",
          "text": [
            "https://sports.news.naver.com/news.nhn?oid=442&aid=0000052551\n"
          ]
        },
        {
          "name": "stderr",
          "output_type": "stream",
          "text": [
            "392it [01:21,  7.22it/s]"
          ]
        },
        {
          "name": "stdout",
          "output_type": "stream",
          "text": [
            "https://sports.news.naver.com/news.nhn?oid=442&aid=0000054347\n"
          ]
        },
        {
          "name": "stderr",
          "output_type": "stream",
          "text": [
            "660it [02:15,  5.07it/s]"
          ]
        },
        {
          "name": "stdout",
          "output_type": "stream",
          "text": [
            "https://sports.news.naver.com/news.nhn?oid=347&aid=0000105101\n"
          ]
        },
        {
          "name": "stderr",
          "output_type": "stream",
          "text": [
            "667it [02:16,  5.48it/s]"
          ]
        },
        {
          "name": "stdout",
          "output_type": "stream",
          "text": [
            "https://sports.news.naver.com/news.nhn?oid=442&aid=0000057335\n"
          ]
        },
        {
          "name": "stderr",
          "output_type": "stream",
          "text": [
            "757it [02:39,  5.04it/s]"
          ]
        },
        {
          "name": "stdout",
          "output_type": "stream",
          "text": [
            "https://sports.news.naver.com/news.nhn?oid=347&aid=0000105101\n"
          ]
        },
        {
          "name": "stderr",
          "output_type": "stream",
          "text": [
            "781it [02:43,  5.31it/s]"
          ]
        },
        {
          "name": "stdout",
          "output_type": "stream",
          "text": [
            "https://entertain.naver.com/read?oid=382&aid=0000570117\n"
          ]
        },
        {
          "name": "stderr",
          "output_type": "stream",
          "text": [
            "827it [02:52,  4.87it/s]"
          ]
        },
        {
          "name": "stdout",
          "output_type": "stream",
          "text": [
            "https://entertain.naver.com/read?oid=011&aid=0003076130\n"
          ]
        },
        {
          "name": "stderr",
          "output_type": "stream",
          "text": [
            "874it [03:02,  4.23it/s]"
          ]
        },
        {
          "name": "stdout",
          "output_type": "stream",
          "text": [
            "https://entertain.naver.com/read?oid=011&aid=0003076130\n"
          ]
        },
        {
          "name": "stderr",
          "output_type": "stream",
          "text": [
            "886it [03:06,  2.65it/s]"
          ]
        },
        {
          "name": "stdout",
          "output_type": "stream",
          "text": [
            "https://entertain.naver.com/read?oid=109&aid=0003582065\n"
          ]
        },
        {
          "name": "stderr",
          "output_type": "stream",
          "text": [
            "894it [03:07,  6.22it/s]"
          ]
        },
        {
          "name": "stdout",
          "output_type": "stream",
          "text": [
            "https://entertain.naver.com/read?oid=312&aid=0000271477\n"
          ]
        },
        {
          "name": "stderr",
          "output_type": "stream",
          "text": [
            "1008it [03:36,  5.41it/s]"
          ]
        },
        {
          "name": "stdout",
          "output_type": "stream",
          "text": [
            "https://entertain.naver.com/read?oid=311&aid=0000756761\n",
            "https://entertain.naver.com/read?oid=057&aid=0001152604\n"
          ]
        },
        {
          "name": "stderr",
          "output_type": "stream",
          "text": [
            "1012it [03:36,  8.31it/s]"
          ]
        },
        {
          "name": "stdout",
          "output_type": "stream",
          "text": [
            "https://entertain.naver.com/read?oid=057&aid=0001152604\n"
          ]
        },
        {
          "name": "stderr",
          "output_type": "stream",
          "text": [
            "1110it [03:55,  6.79it/s]"
          ]
        },
        {
          "name": "stdout",
          "output_type": "stream",
          "text": [
            "https://sports.news.naver.com/news.nhn?oid=442&aid=0000063249\n"
          ]
        },
        {
          "name": "stderr",
          "output_type": "stream",
          "text": [
            "1210it [04:14,  7.02it/s]"
          ]
        },
        {
          "name": "stdout",
          "output_type": "stream",
          "text": [
            "https://sports.news.naver.com/news.nhn?oid=442&aid=0000063249\n"
          ]
        },
        {
          "name": "stderr",
          "output_type": "stream",
          "text": [
            "1582it [05:32,  9.03it/s]"
          ]
        },
        {
          "name": "stdout",
          "output_type": "stream",
          "text": [
            "https://n.news.naver.com/mnews/article/293/0000020520\n",
            "https://n.news.naver.com/mnews/article/293/0000020520\n"
          ]
        },
        {
          "name": "stderr",
          "output_type": "stream",
          "text": [
            "1897it [06:40,  6.86it/s]"
          ]
        },
        {
          "name": "stdout",
          "output_type": "stream",
          "text": [
            "https://sports.news.naver.com/news.nhn?oid=442&aid=0000070170\n"
          ]
        },
        {
          "name": "stderr",
          "output_type": "stream",
          "text": [
            "1975it [06:55,  7.25it/s]"
          ]
        },
        {
          "name": "stdout",
          "output_type": "stream",
          "text": [
            "https://sports.news.naver.com/news.nhn?oid=442&aid=0000070170\n"
          ]
        },
        {
          "name": "stderr",
          "output_type": "stream",
          "text": [
            "2095it [07:19,  7.27it/s]"
          ]
        },
        {
          "name": "stdout",
          "output_type": "stream",
          "text": [
            "https://sports.news.naver.com/news.nhn?oid=439&aid=0000014117\n"
          ]
        },
        {
          "name": "stderr",
          "output_type": "stream",
          "text": [
            "2235it [07:56,  7.04it/s]"
          ]
        },
        {
          "name": "stdout",
          "output_type": "stream",
          "text": [
            "https://sports.news.naver.com/news.nhn?oid=016&aid=0001359649\n"
          ]
        },
        {
          "name": "stderr",
          "output_type": "stream",
          "text": [
            "2258it [08:01,  4.19it/s]"
          ]
        },
        {
          "name": "stdout",
          "output_type": "stream",
          "text": [
            "https://sports.news.naver.com/news.nhn?oid=442&aid=0000073600\n"
          ]
        },
        {
          "name": "stderr",
          "output_type": "stream",
          "text": [
            "2263it [08:02,  6.64it/s]"
          ]
        },
        {
          "name": "stdout",
          "output_type": "stream",
          "text": [
            "https://sports.news.naver.com/news.nhn?oid=442&aid=0000074554\n"
          ]
        },
        {
          "name": "stderr",
          "output_type": "stream",
          "text": [
            "2314it [08:12,  7.73it/s]"
          ]
        },
        {
          "name": "stdout",
          "output_type": "stream",
          "text": [
            "https://sports.news.naver.com/news.nhn?oid=016&aid=0001351467\n"
          ]
        },
        {
          "name": "stderr",
          "output_type": "stream",
          "text": [
            "2319it [08:13,  7.59it/s]"
          ]
        },
        {
          "name": "stdout",
          "output_type": "stream",
          "text": [
            "https://sports.news.naver.com/news.nhn?oid=016&aid=0001351467\n",
            "https://sports.news.naver.com/news.nhn?oid=016&aid=0001351467\n"
          ]
        },
        {
          "name": "stderr",
          "output_type": "stream",
          "text": [
            "2325it [08:14,  7.85it/s]"
          ]
        },
        {
          "name": "stdout",
          "output_type": "stream",
          "text": [
            "https://sports.news.naver.com/news.nhn?oid=016&aid=0001351467\n"
          ]
        },
        {
          "name": "stderr",
          "output_type": "stream",
          "text": [
            "2348it [08:18,  8.01it/s]"
          ]
        },
        {
          "name": "stdout",
          "output_type": "stream",
          "text": [
            "https://sports.news.naver.com/news.nhn?oid=356&aid=0000023866\n",
            "https://sports.news.naver.com/news.nhn?oid=442&aid=0000073600\n"
          ]
        },
        {
          "name": "stderr",
          "output_type": "stream",
          "text": [
            "2351it [08:18,  8.46it/s]"
          ]
        },
        {
          "name": "stdout",
          "output_type": "stream",
          "text": [
            "https://sports.news.naver.com/news.nhn?oid=442&aid=0000074554\n"
          ]
        },
        {
          "name": "stderr",
          "output_type": "stream",
          "text": [
            "2500it [08:52,  5.36it/s]"
          ]
        },
        {
          "name": "stdout",
          "output_type": "stream",
          "text": [
            "https://n.news.naver.com/mnews/article/018/0004057983\n"
          ]
        },
        {
          "name": "stderr",
          "output_type": "stream",
          "text": [
            "2502it [08:52,  4.28it/s]"
          ]
        },
        {
          "name": "stdout",
          "output_type": "stream",
          "text": [
            "https://n.news.naver.com/mnews/article/018/0004057983\n"
          ]
        },
        {
          "name": "stderr",
          "output_type": "stream",
          "text": [
            "2606it [09:16,  6.04it/s]"
          ]
        },
        {
          "name": "stdout",
          "output_type": "stream",
          "text": [
            "https://n.news.naver.com/mnews/article/417/0000310022\n"
          ]
        },
        {
          "name": "stderr",
          "output_type": "stream",
          "text": [
            "2750it [09:48,  7.15it/s]"
          ]
        },
        {
          "name": "stdout",
          "output_type": "stream",
          "text": [
            "https://n.news.naver.com/mnews/article/417/0000310022\n",
            "https://n.news.naver.com/mnews/article/417/0000310022\n"
          ]
        },
        {
          "name": "stderr",
          "output_type": "stream",
          "text": [
            "2999it [10:44,  7.41it/s]"
          ]
        },
        {
          "name": "stdout",
          "output_type": "stream",
          "text": [
            "https://sports.news.naver.com/news.nhn?oid=442&aid=0000078862\n"
          ]
        },
        {
          "name": "stderr",
          "output_type": "stream",
          "text": [
            "3103it [11:04,  6.57it/s]"
          ]
        },
        {
          "name": "stdout",
          "output_type": "stream",
          "text": [
            "https://n.news.naver.com/mnews/article/119/0002260525\n"
          ]
        },
        {
          "name": "stderr",
          "output_type": "stream",
          "text": [
            "3774it [13:51,  7.23it/s]"
          ]
        },
        {
          "name": "stdout",
          "output_type": "stream",
          "text": [
            "https://sports.news.naver.com/news.nhn?oid=442&aid=0000082180\n"
          ]
        },
        {
          "name": "stderr",
          "output_type": "stream",
          "text": [
            "3820it [14:00,  7.99it/s]"
          ]
        },
        {
          "name": "stdout",
          "output_type": "stream",
          "text": [
            "https://sports.news.naver.com/news.nhn?oid=014&aid=0004051618\n"
          ]
        },
        {
          "name": "stderr",
          "output_type": "stream",
          "text": [
            "3827it [14:01,  5.84it/s]"
          ]
        },
        {
          "name": "stdout",
          "output_type": "stream",
          "text": [
            "https://n.news.naver.com/mnews/article/029/0002471851\n"
          ]
        },
        {
          "name": "stderr",
          "output_type": "stream",
          "text": [
            "3925it [14:21,  7.00it/s]"
          ]
        },
        {
          "name": "stdout",
          "output_type": "stream",
          "text": [
            "https://sports.news.naver.com/news.nhn?oid=356&aid=0000028276\n"
          ]
        },
        {
          "name": "stderr",
          "output_type": "stream",
          "text": [
            "4000it [14:35,  6.66it/s]"
          ]
        },
        {
          "name": "stdout",
          "output_type": "stream",
          "text": [
            "https://sports.news.naver.com/news.nhn?oid=442&aid=0000084487\n"
          ]
        },
        {
          "name": "stderr",
          "output_type": "stream",
          "text": [
            "4489it [16:31,  4.91it/s]"
          ]
        },
        {
          "name": "stdout",
          "output_type": "stream",
          "text": [
            "https://sports.news.naver.com/news.nhn?oid=468&aid=0000424286\n"
          ]
        },
        {
          "name": "stderr",
          "output_type": "stream",
          "text": [
            "4854it [17:48,  4.60it/s]"
          ]
        },
        {
          "name": "stdout",
          "output_type": "stream",
          "text": [
            "https://sports.news.naver.com/news.nhn?oid=356&aid=0000030228\n"
          ]
        },
        {
          "name": "stderr",
          "output_type": "stream",
          "text": [
            "4997it [18:20,  4.23it/s]"
          ]
        },
        {
          "name": "stdout",
          "output_type": "stream",
          "text": [
            "https://sports.news.naver.com/news.nhn?oid=439&aid=0000017299\n"
          ]
        },
        {
          "name": "stderr",
          "output_type": "stream",
          "text": [
            "5047it [18:31,  5.29it/s]"
          ]
        },
        {
          "name": "stdout",
          "output_type": "stream",
          "text": [
            "https://sports.news.naver.com/news.nhn?oid=442&aid=0000089528\n"
          ]
        },
        {
          "name": "stderr",
          "output_type": "stream",
          "text": [
            "5582it [20:40,  2.90it/s]"
          ]
        },
        {
          "name": "stdout",
          "output_type": "stream",
          "text": [
            "https://sports.news.naver.com/news.nhn?oid=356&aid=0000030865\n"
          ]
        },
        {
          "name": "stderr",
          "output_type": "stream",
          "text": [
            "5620it [20:52,  1.68it/s]"
          ]
        },
        {
          "name": "stdout",
          "output_type": "stream",
          "text": [
            "https://n.news.naver.com/mnews/article/001/0010531604\n"
          ]
        },
        {
          "name": "stderr",
          "output_type": "stream",
          "text": [
            "5649it [20:58,  6.48it/s]"
          ]
        },
        {
          "name": "stdout",
          "output_type": "stream",
          "text": [
            "https://n.news.naver.com/mnews/article/468/0000458207\n"
          ]
        },
        {
          "name": "stderr",
          "output_type": "stream",
          "text": [
            "6346it [23:32,  4.47it/s]"
          ]
        },
        {
          "name": "stdout",
          "output_type": "stream",
          "text": [
            "https://sports.news.naver.com/news.nhn?oid=442&aid=0000092710\n"
          ]
        },
        {
          "name": "stderr",
          "output_type": "stream",
          "text": [
            "6465it [23:57,  7.54it/s]"
          ]
        },
        {
          "name": "stdout",
          "output_type": "stream",
          "text": [
            "https://n.news.naver.com/mnews/article/081/0002975581\n"
          ]
        },
        {
          "name": "stderr",
          "output_type": "stream",
          "text": [
            "6468it [23:57,  8.39it/s]"
          ]
        },
        {
          "name": "stdout",
          "output_type": "stream",
          "text": [
            "https://n.news.naver.com/mnews/article/081/0002975581\n"
          ]
        },
        {
          "name": "stderr",
          "output_type": "stream",
          "text": [
            "6724it [24:52,  6.39it/s]"
          ]
        },
        {
          "name": "stdout",
          "output_type": "stream",
          "text": [
            "https://n.news.naver.com/mnews/article/382/0000707752\n",
            "https://n.news.naver.com/mnews/article/382/0000707752\n"
          ]
        },
        {
          "name": "stderr",
          "output_type": "stream",
          "text": [
            "6794it [25:10,  3.81it/s]"
          ]
        },
        {
          "name": "stdout",
          "output_type": "stream",
          "text": [
            "https://entertain.naver.com/read?oid=312&aid=0000375284\n"
          ]
        },
        {
          "name": "stderr",
          "output_type": "stream",
          "text": [
            "6856it [25:30,  5.20it/s]"
          ]
        },
        {
          "name": "stdout",
          "output_type": "stream",
          "text": [
            "https://entertain.naver.com/read?oid=312&aid=0000375284\n"
          ]
        },
        {
          "name": "stderr",
          "output_type": "stream",
          "text": [
            "7057it [26:29,  6.08it/s]"
          ]
        },
        {
          "name": "stdout",
          "output_type": "stream",
          "text": [
            "https://sports.news.naver.com/news.nhn?oid=468&aid=0000499821\n"
          ]
        },
        {
          "name": "stderr",
          "output_type": "stream",
          "text": [
            "7074it [26:34,  6.23it/s]"
          ]
        },
        {
          "name": "stdout",
          "output_type": "stream",
          "text": [
            "https://sports.news.naver.com/news.nhn?oid=470&aid=0000007921\n"
          ]
        },
        {
          "name": "stderr",
          "output_type": "stream",
          "text": [
            "7095it [26:38,  6.70it/s]"
          ]
        },
        {
          "name": "stdout",
          "output_type": "stream",
          "text": [
            "https://sports.news.naver.com/news.nhn?oid=468&aid=0000499821\n"
          ]
        },
        {
          "name": "stderr",
          "output_type": "stream",
          "text": [
            "7100it [26:39,  7.59it/s]"
          ]
        },
        {
          "name": "stdout",
          "output_type": "stream",
          "text": [
            "https://sports.news.naver.com/news.nhn?oid=468&aid=0000499821\n"
          ]
        },
        {
          "name": "stderr",
          "output_type": "stream",
          "text": [
            "7104it [26:45,  1.34it/s]"
          ]
        },
        {
          "name": "stdout",
          "output_type": "stream",
          "text": [
            "https://sports.news.naver.com/news.nhn?oid=015&aid=0004131150\n"
          ]
        },
        {
          "name": "stderr",
          "output_type": "stream",
          "text": [
            "7112it [26:47,  4.36it/s]"
          ]
        },
        {
          "name": "stdout",
          "output_type": "stream",
          "text": [
            "https://sports.news.naver.com/news.nhn?oid=109&aid=0003997091\n"
          ]
        },
        {
          "name": "stderr",
          "output_type": "stream",
          "text": [
            "7142it [26:55,  6.73it/s]"
          ]
        },
        {
          "name": "stdout",
          "output_type": "stream",
          "text": [
            "https://sports.news.naver.com/news.nhn?oid=425&aid=0000097151\n"
          ]
        },
        {
          "name": "stderr",
          "output_type": "stream",
          "text": [
            "7145it [26:56,  7.77it/s]"
          ]
        },
        {
          "name": "stdout",
          "output_type": "stream",
          "text": [
            "https://sports.news.naver.com/news.nhn?oid=470&aid=0000007921\n",
            "https://sports.news.naver.com/news.nhn?oid=470&aid=0000007921\n",
            "https://sports.news.naver.com/news.nhn?oid=470&aid=0000007921\n"
          ]
        },
        {
          "name": "stderr",
          "output_type": "stream",
          "text": [
            "7357it [27:42,  4.88it/s]"
          ]
        },
        {
          "name": "stdout",
          "output_type": "stream",
          "text": [
            "https://sports.news.naver.com/news.nhn?oid=356&aid=0000032399\n"
          ]
        },
        {
          "name": "stderr",
          "output_type": "stream",
          "text": [
            "7599it [28:33,  4.83it/s]"
          ]
        },
        {
          "name": "stdout",
          "output_type": "stream",
          "text": [
            "https://sports.news.naver.com/news.nhn?oid=442&aid=0000099012\n"
          ]
        },
        {
          "name": "stderr",
          "output_type": "stream",
          "text": [
            "8280it [31:02,  8.45it/s]"
          ]
        },
        {
          "name": "stdout",
          "output_type": "stream",
          "text": [
            "https://sports.news.naver.com/news.nhn?oid=442&aid=0000101780\n",
            "https://sports.news.naver.com/news.nhn?oid=442&aid=0000101780\n"
          ]
        },
        {
          "name": "stderr",
          "output_type": "stream",
          "text": [
            "8370it [31:21,  6.37it/s]"
          ]
        },
        {
          "name": "stdout",
          "output_type": "stream",
          "text": [
            "https://entertain.naver.com/read?oid=108&aid=0002789357\n"
          ]
        },
        {
          "name": "stderr",
          "output_type": "stream",
          "text": [
            "8380it [31:23,  8.11it/s]"
          ]
        },
        {
          "name": "stdout",
          "output_type": "stream",
          "text": [
            "https://entertain.naver.com/read?oid=081&aid=0003005583\n",
            "https://entertain.naver.com/read?oid=009&aid=0004371461\n"
          ]
        },
        {
          "name": "stderr",
          "output_type": "stream",
          "text": [
            "8394it [31:29,  2.45it/s]"
          ]
        },
        {
          "name": "stdout",
          "output_type": "stream",
          "text": [
            "https://n.news.naver.com/mnews/article/382/0000736216\n"
          ]
        },
        {
          "name": "stderr",
          "output_type": "stream",
          "text": [
            "8419it [31:34,  5.18it/s]"
          ]
        },
        {
          "name": "stdout",
          "output_type": "stream",
          "text": [
            "https://sports.news.naver.com/news.nhn?oid=011&aid=0003564987\n"
          ]
        },
        {
          "name": "stderr",
          "output_type": "stream",
          "text": [
            "8427it [31:35,  4.12it/s]"
          ]
        },
        {
          "name": "stdout",
          "output_type": "stream",
          "text": [
            "https://entertain.naver.com/read?oid=082&aid=0000913595\n"
          ]
        },
        {
          "name": "stderr",
          "output_type": "stream",
          "text": [
            "9457it [35:22,  6.46it/s]"
          ]
        },
        {
          "name": "stdout",
          "output_type": "stream",
          "text": [
            "https://sports.news.naver.com/news.nhn?oid=468&aid=0000564787\n"
          ]
        },
        {
          "name": "stderr",
          "output_type": "stream",
          "text": [
            "9542it [35:40,  4.04it/s]"
          ]
        },
        {
          "name": "stdout",
          "output_type": "stream",
          "text": [
            "https://sports.news.naver.com/news.nhn?oid=356&aid=0000035809\n",
            "https://sports.news.naver.com/news.nhn?oid=356&aid=0000035809\n"
          ]
        },
        {
          "name": "stderr",
          "output_type": "stream",
          "text": [
            "10301it [38:33,  6.52it/s]"
          ]
        },
        {
          "name": "stdout",
          "output_type": "stream",
          "text": [
            "https://sports.news.naver.com/news.nhn?oid=442&aid=0000108637\n",
            "https://sports.news.naver.com/news.nhn?oid=442&aid=0000108637\n"
          ]
        },
        {
          "name": "stderr",
          "output_type": "stream",
          "text": [
            "10904it [40:43,  5.34it/s]"
          ]
        },
        {
          "name": "stdout",
          "output_type": "stream",
          "text": [
            "https://entertain.naver.com/read?oid=468&aid=0000604503\n"
          ]
        },
        {
          "name": "stderr",
          "output_type": "stream",
          "text": [
            "10908it [40:43,  7.42it/s]"
          ]
        },
        {
          "name": "stdout",
          "output_type": "stream",
          "text": [
            "https://entertain.naver.com/read?oid=468&aid=0000604503\n"
          ]
        },
        {
          "name": "stderr",
          "output_type": "stream",
          "text": [
            "10913it [40:44,  7.20it/s]"
          ]
        },
        {
          "name": "stdout",
          "output_type": "stream",
          "text": [
            "https://entertain.naver.com/read?oid=003&aid=0009609135\n",
            "https://n.news.naver.com/mnews/article/088/0000625300\n",
            "https://n.news.naver.com/mnews/article/088/0000625300\n"
          ]
        },
        {
          "name": "stderr",
          "output_type": "stream",
          "text": [
            "10933it [40:48,  5.77it/s]"
          ]
        },
        {
          "name": "stdout",
          "output_type": "stream",
          "text": [
            "https://entertain.naver.com/read?oid=311&aid=0001087357\n"
          ]
        },
        {
          "name": "stderr",
          "output_type": "stream",
          "text": [
            "10969it [40:55,  6.62it/s]"
          ]
        },
        {
          "name": "stdout",
          "output_type": "stream",
          "text": [
            "https://entertain.naver.com/read?oid=011&aid=0003667456\n"
          ]
        },
        {
          "name": "stderr",
          "output_type": "stream",
          "text": [
            "10979it [40:57,  6.83it/s]"
          ]
        },
        {
          "name": "stdout",
          "output_type": "stream",
          "text": [
            "https://sports.news.naver.com/news.nhn?oid=442&aid=0000110425\n"
          ]
        },
        {
          "name": "stderr",
          "output_type": "stream",
          "text": [
            "11042it [41:11,  4.48it/s]"
          ]
        },
        {
          "name": "stdout",
          "output_type": "stream",
          "text": [
            "https://sports.news.naver.com/news.nhn?oid=088&aid=0000628667\n"
          ]
        },
        {
          "name": "stderr",
          "output_type": "stream",
          "text": [
            "11077it [41:20,  5.07it/s]"
          ]
        },
        {
          "name": "stdout",
          "output_type": "stream",
          "text": [
            "https://sports.news.naver.com/news.nhn?oid=088&aid=0000628667\n"
          ]
        },
        {
          "name": "stderr",
          "output_type": "stream",
          "text": [
            "11427it [42:39,  3.71it/s]"
          ]
        },
        {
          "name": "stdout",
          "output_type": "stream",
          "text": [
            "https://sports.news.naver.com/news.nhn?oid=442&aid=0000113152\n"
          ]
        },
        {
          "name": "stderr",
          "output_type": "stream",
          "text": [
            "11429it [42:39,  3.67it/s]"
          ]
        },
        {
          "name": "stdout",
          "output_type": "stream",
          "text": [
            "https://sports.news.naver.com/news.nhn?oid=442&aid=0000113152\n"
          ]
        },
        {
          "name": "stderr",
          "output_type": "stream",
          "text": [
            "11457it [42:45,  3.99it/s]"
          ]
        },
        {
          "name": "stdout",
          "output_type": "stream",
          "text": [
            "https://n.news.naver.com/mnews/article/609/0000246811\n"
          ]
        },
        {
          "name": "stderr",
          "output_type": "stream",
          "text": [
            "11481it [42:50,  7.02it/s]"
          ]
        },
        {
          "name": "stdout",
          "output_type": "stream",
          "text": [
            "https://sports.news.naver.com/news.nhn?oid=442&aid=0000113141\n"
          ]
        },
        {
          "name": "stderr",
          "output_type": "stream",
          "text": [
            "11663it [43:28,  4.52it/s]"
          ]
        },
        {
          "name": "stdout",
          "output_type": "stream",
          "text": [
            "https://n.news.naver.com/mnews/article/468/0000627469\n"
          ]
        },
        {
          "name": "stderr",
          "output_type": "stream",
          "text": [
            "11828it [44:04,  6.44it/s]"
          ]
        },
        {
          "name": "stdout",
          "output_type": "stream",
          "text": [
            "https://sports.news.naver.com/news.nhn?oid=356&aid=0000039180\n"
          ]
        },
        {
          "name": "stderr",
          "output_type": "stream",
          "text": [
            "11897it [44:18,  5.96it/s]"
          ]
        },
        {
          "name": "stdout",
          "output_type": "stream",
          "text": [
            "https://sports.news.naver.com/news.nhn?oid=356&aid=0000039180\n"
          ]
        },
        {
          "name": "stderr",
          "output_type": "stream",
          "text": [
            "11941it [44:26,  6.88it/s]"
          ]
        },
        {
          "name": "stdout",
          "output_type": "stream",
          "text": [
            "https://sports.news.naver.com/news.nhn?oid=442&aid=0000114678\n"
          ]
        },
        {
          "name": "stderr",
          "output_type": "stream",
          "text": [
            "11944it [44:27,  8.11it/s]"
          ]
        },
        {
          "name": "stdout",
          "output_type": "stream",
          "text": [
            "https://sports.news.naver.com/news.nhn?oid=442&aid=0000114678\n"
          ]
        },
        {
          "name": "stderr",
          "output_type": "stream",
          "text": [
            "11947it [44:27,  8.31it/s]"
          ]
        },
        {
          "name": "stdout",
          "output_type": "stream",
          "text": [
            "https://sports.news.naver.com/news.nhn?oid=442&aid=0000114678\n"
          ]
        },
        {
          "name": "stderr",
          "output_type": "stream",
          "text": [
            "12254it [46:00,  4.33it/s]"
          ]
        },
        {
          "name": "stdout",
          "output_type": "stream",
          "text": [
            "https://sports.news.naver.com/news.nhn?oid=016&aid=0001651909\n"
          ]
        },
        {
          "name": "stderr",
          "output_type": "stream",
          "text": [
            "12439it [46:43,  4.64it/s]"
          ]
        },
        {
          "name": "stdout",
          "output_type": "stream",
          "text": [
            "https://entertain.naver.com/read?oid=117&aid=0003355728\n"
          ]
        },
        {
          "name": "stderr",
          "output_type": "stream",
          "text": [
            "12444it [46:44,  5.88it/s]"
          ]
        },
        {
          "name": "stdout",
          "output_type": "stream",
          "text": [
            "https://entertain.naver.com/read?oid=117&aid=0003355728\n"
          ]
        },
        {
          "name": "stderr",
          "output_type": "stream",
          "text": [
            "12598it [47:18,  6.20it/s]"
          ]
        },
        {
          "name": "stdout",
          "output_type": "stream",
          "text": [
            "https://entertain.naver.com/read?oid=003&aid=0009828367\n"
          ]
        },
        {
          "name": "stderr",
          "output_type": "stream",
          "text": [
            "12610it [47:21,  4.68it/s]"
          ]
        },
        {
          "name": "stdout",
          "output_type": "stream",
          "text": [
            "https://n.news.naver.com/mnews/article/382/0000815221\n"
          ]
        },
        {
          "name": "stderr",
          "output_type": "stream",
          "text": [
            "12614it [47:22,  7.21it/s]"
          ]
        },
        {
          "name": "stdout",
          "output_type": "stream",
          "text": [
            "https://entertain.naver.com/read?oid=241&aid=0003017992\n"
          ]
        },
        {
          "name": "stderr",
          "output_type": "stream",
          "text": [
            "12628it [47:26,  2.95it/s]"
          ]
        },
        {
          "name": "stdout",
          "output_type": "stream",
          "text": [
            "https://entertain.naver.com/read?oid=416&aid=0000257462\n"
          ]
        },
        {
          "name": "stderr",
          "output_type": "stream",
          "text": [
            "12644it [47:29,  6.31it/s]"
          ]
        },
        {
          "name": "stdout",
          "output_type": "stream",
          "text": [
            "https://entertain.naver.com/read?oid=311&aid=0001137473\n"
          ]
        },
        {
          "name": "stderr",
          "output_type": "stream",
          "text": [
            "12713it [47:43,  7.16it/s]"
          ]
        },
        {
          "name": "stdout",
          "output_type": "stream",
          "text": [
            "https://entertain.naver.com/read?oid=108&aid=0002854762\n"
          ]
        },
        {
          "name": "stderr",
          "output_type": "stream",
          "text": [
            "12732it [47:48,  5.11it/s]"
          ]
        },
        {
          "name": "stdout",
          "output_type": "stream",
          "text": [
            "https://entertain.naver.com/read?oid=396&aid=0000546045\n"
          ]
        },
        {
          "name": "stderr",
          "output_type": "stream",
          "text": [
            "12757it [47:54,  4.17it/s]"
          ]
        },
        {
          "name": "stdout",
          "output_type": "stream",
          "text": [
            "https://entertain.naver.com/read?oid=396&aid=0000550812\n"
          ]
        },
        {
          "name": "stderr",
          "output_type": "stream",
          "text": [
            "12800it [48:06,  4.03it/s]"
          ]
        },
        {
          "name": "stdout",
          "output_type": "stream",
          "text": [
            "https://entertain.naver.com/read?oid=396&aid=0000550812\n"
          ]
        },
        {
          "name": "stderr",
          "output_type": "stream",
          "text": [
            "12803it [48:07,  5.22it/s]"
          ]
        },
        {
          "name": "stdout",
          "output_type": "stream",
          "text": [
            "https://entertain.naver.com/read?oid=396&aid=0000550812\n"
          ]
        },
        {
          "name": "stderr",
          "output_type": "stream",
          "text": [
            "12807it [48:08,  4.57it/s]"
          ]
        },
        {
          "name": "stdout",
          "output_type": "stream",
          "text": [
            "https://entertain.naver.com/read?oid=396&aid=0000550812\n"
          ]
        },
        {
          "name": "stderr",
          "output_type": "stream",
          "text": [
            "12814it [48:09,  5.20it/s]"
          ]
        },
        {
          "name": "stdout",
          "output_type": "stream",
          "text": [
            "https://entertain.naver.com/read?oid=396&aid=0000550812\n"
          ]
        },
        {
          "name": "stderr",
          "output_type": "stream",
          "text": [
            "12920it [48:32,  6.31it/s]"
          ]
        },
        {
          "name": "stdout",
          "output_type": "stream",
          "text": [
            "https://sports.news.naver.com/news.nhn?oid=356&aid=0000040222\n"
          ]
        },
        {
          "name": "stderr",
          "output_type": "stream",
          "text": [
            "12997it [48:50,  6.13it/s]"
          ]
        },
        {
          "name": "stdout",
          "output_type": "stream",
          "text": [
            "https://sports.news.naver.com/news.nhn?oid=442&aid=0000117375\n"
          ]
        },
        {
          "name": "stderr",
          "output_type": "stream",
          "text": [
            "13006it [48:52,  4.57it/s]"
          ]
        },
        {
          "name": "stdout",
          "output_type": "stream",
          "text": [
            "https://entertain.naver.com/read?oid=015&aid=0004349423\n"
          ]
        },
        {
          "name": "stderr",
          "output_type": "stream",
          "text": [
            "13107it [49:14,  6.31it/s]"
          ]
        },
        {
          "name": "stdout",
          "output_type": "stream",
          "text": [
            "https://sports.news.naver.com/news.nhn?oid=442&aid=0000116977\n"
          ]
        },
        {
          "name": "stderr",
          "output_type": "stream",
          "text": [
            "13110it [49:14,  7.35it/s]"
          ]
        },
        {
          "name": "stdout",
          "output_type": "stream",
          "text": [
            "https://sports.news.naver.com/news.nhn?oid=442&aid=0000116977\n"
          ]
        },
        {
          "name": "stderr",
          "output_type": "stream",
          "text": [
            "13158it [49:27,  6.05it/s]"
          ]
        },
        {
          "name": "stdout",
          "output_type": "stream",
          "text": [
            "https://sports.news.naver.com/news.nhn?oid=442&aid=0000117008\n"
          ]
        },
        {
          "name": "stderr",
          "output_type": "stream",
          "text": [
            "13241it [49:45,  5.55it/s]"
          ]
        },
        {
          "name": "stdout",
          "output_type": "stream",
          "text": [
            "https://entertain.naver.com/read?oid=005&aid=0001325670\n"
          ]
        },
        {
          "name": "stderr",
          "output_type": "stream",
          "text": [
            "13242it [49:46,  5.01it/s]"
          ]
        },
        {
          "name": "stdout",
          "output_type": "stream",
          "text": [
            "https://entertain.naver.com/read?oid=005&aid=0001325670\n"
          ]
        },
        {
          "name": "stderr",
          "output_type": "stream",
          "text": [
            "13271it [49:53,  4.66it/s]"
          ]
        },
        {
          "name": "stdout",
          "output_type": "stream",
          "text": [
            "https://entertain.naver.com/read?oid=382&aid=0000825512\n"
          ]
        },
        {
          "name": "stderr",
          "output_type": "stream",
          "text": [
            "14523it [54:54,  6.73it/s]"
          ]
        },
        {
          "name": "stdout",
          "output_type": "stream",
          "text": [
            "https://entertain.naver.com/read?oid=015&aid=0004359003\n"
          ]
        },
        {
          "name": "stderr",
          "output_type": "stream",
          "text": [
            "14536it [54:57,  4.23it/s]"
          ]
        },
        {
          "name": "stdout",
          "output_type": "stream",
          "text": [
            "https://entertain.naver.com/read?oid=382&aid=0000829290\n"
          ]
        },
        {
          "name": "stderr",
          "output_type": "stream",
          "text": [
            "14553it [55:01,  4.41it/s]"
          ]
        },
        {
          "name": "stdout",
          "output_type": "stream",
          "text": [
            "https://entertain.naver.com/read?oid=112&aid=0003308186\n"
          ]
        },
        {
          "name": "stderr",
          "output_type": "stream",
          "text": [
            "14561it [55:02,  6.66it/s]"
          ]
        },
        {
          "name": "stdout",
          "output_type": "stream",
          "text": [
            "https://entertain.naver.com/read?oid=215&aid=0000877799\n"
          ]
        },
        {
          "name": "stderr",
          "output_type": "stream",
          "text": [
            "14591it [55:07,  8.57it/s]"
          ]
        },
        {
          "name": "stdout",
          "output_type": "stream",
          "text": [
            "https://entertain.naver.com/read?oid=117&aid=0003375461\n",
            "https://entertain.naver.com/read?oid=382&aid=0000825512\n"
          ]
        },
        {
          "name": "stderr",
          "output_type": "stream",
          "text": [
            "14633it [55:18,  3.83it/s]"
          ]
        },
        {
          "name": "stdout",
          "output_type": "stream",
          "text": [
            "https://entertain.naver.com/read?oid=396&aid=0000555956\n"
          ]
        },
        {
          "name": "stderr",
          "output_type": "stream",
          "text": [
            "14732it [55:40,  4.50it/s]"
          ]
        },
        {
          "name": "stdout",
          "output_type": "stream",
          "text": [
            "https://entertain.naver.com/read?oid=396&aid=0000555956\n",
            "https://entertain.naver.com/read?oid=396&aid=0000555956\n"
          ]
        },
        {
          "name": "stderr",
          "output_type": "stream",
          "text": [
            "15060it [56:54,  4.28it/s]"
          ]
        },
        {
          "name": "stdout",
          "output_type": "stream",
          "text": [
            "https://entertain.naver.com/read?oid=003&aid=0009955038\n"
          ]
        },
        {
          "name": "stderr",
          "output_type": "stream",
          "text": [
            "15080it [56:59,  5.17it/s]"
          ]
        },
        {
          "name": "stdout",
          "output_type": "stream",
          "text": [
            "https://entertain.naver.com/read?oid=009&aid=0004610698\n"
          ]
        },
        {
          "name": "stderr",
          "output_type": "stream",
          "text": [
            "15130it [57:11,  4.40it/s]"
          ]
        },
        {
          "name": "stdout",
          "output_type": "stream",
          "text": [
            "https://entertain.naver.com/read?oid=311&aid=0001172230\n"
          ]
        },
        {
          "name": "stderr",
          "output_type": "stream",
          "text": [
            "15218it [57:33,  4.24it/s]"
          ]
        },
        {
          "name": "stdout",
          "output_type": "stream",
          "text": [
            "https://entertain.naver.com/read?oid=009&aid=0004618771\n"
          ]
        },
        {
          "name": "stderr",
          "output_type": "stream",
          "text": [
            "15232it [57:35,  5.26it/s]"
          ]
        },
        {
          "name": "stdout",
          "output_type": "stream",
          "text": [
            "https://entertain.naver.com/read?oid=112&aid=0003322405\n"
          ]
        },
        {
          "name": "stderr",
          "output_type": "stream",
          "text": [
            "15609it [59:02,  6.44it/s]"
          ]
        },
        {
          "name": "stdout",
          "output_type": "stream",
          "text": [
            "https://sports.news.naver.com/news.nhn?oid=442&aid=0000121419\n"
          ]
        },
        {
          "name": "stderr",
          "output_type": "stream",
          "text": [
            "15617it [59:03,  5.32it/s]"
          ]
        },
        {
          "name": "stdout",
          "output_type": "stream",
          "text": [
            "https://sports.news.naver.com/news.nhn?oid=347&aid=0000146119\n",
            "https://sports.news.naver.com/news.nhn?oid=347&aid=0000146119\n"
          ]
        },
        {
          "name": "stderr",
          "output_type": "stream",
          "text": [
            "15964it [1:00:27,  4.06it/s]"
          ]
        },
        {
          "name": "stdout",
          "output_type": "stream",
          "text": [
            "https://sports.news.naver.com/news.nhn?oid=410&aid=0000717658\n"
          ]
        },
        {
          "name": "stderr",
          "output_type": "stream",
          "text": [
            "15970it [1:00:28,  3.79it/s]"
          ]
        },
        {
          "name": "stdout",
          "output_type": "stream",
          "text": [
            "https://sports.news.naver.com/news.nhn?oid=311&aid=0001185793\n"
          ]
        },
        {
          "name": "stderr",
          "output_type": "stream",
          "text": [
            "15976it [1:00:33,  1.63it/s]"
          ]
        },
        {
          "name": "stdout",
          "output_type": "stream",
          "text": [
            "https://sports.news.naver.com/news.nhn?oid=018&aid=0004708963\n"
          ]
        },
        {
          "name": "stderr",
          "output_type": "stream",
          "text": [
            "15987it [1:00:36,  3.77it/s]"
          ]
        },
        {
          "name": "stdout",
          "output_type": "stream",
          "text": [
            "https://sports.news.naver.com/news.nhn?oid=076&aid=0003612007\n"
          ]
        },
        {
          "name": "stderr",
          "output_type": "stream",
          "text": [
            "15992it [1:00:37,  5.72it/s]"
          ]
        },
        {
          "name": "stdout",
          "output_type": "stream",
          "text": [
            "https://sports.news.naver.com/news.nhn?oid=109&aid=0004253225\n"
          ]
        },
        {
          "name": "stderr",
          "output_type": "stream",
          "text": [
            "16030it [1:00:46,  4.72it/s]"
          ]
        },
        {
          "name": "stdout",
          "output_type": "stream",
          "text": [
            "https://sports.news.naver.com/news.nhn?oid=396&aid=0000557473\n"
          ]
        },
        {
          "name": "stderr",
          "output_type": "stream",
          "text": [
            "16050it [1:00:51,  3.05it/s]"
          ]
        },
        {
          "name": "stdout",
          "output_type": "stream",
          "text": [
            "https://sports.news.naver.com/news.nhn?oid=439&aid=0000020562\n"
          ]
        },
        {
          "name": "stderr",
          "output_type": "stream",
          "text": [
            "16343it [1:02:00,  4.06it/s]"
          ]
        },
        {
          "name": "stdout",
          "output_type": "stream",
          "text": [
            "https://sports.news.naver.com/news.nhn?oid=236&aid=0000206416\n"
          ]
        },
        {
          "name": "stderr",
          "output_type": "stream",
          "text": [
            "16376it [1:02:07,  5.31it/s]"
          ]
        },
        {
          "name": "stdout",
          "output_type": "stream",
          "text": [
            "https://sports.news.naver.com/news.nhn?oid=442&aid=0000123048\n"
          ]
        },
        {
          "name": "stderr",
          "output_type": "stream",
          "text": [
            "16540it [1:02:43,  5.99it/s]"
          ]
        },
        {
          "name": "stdout",
          "output_type": "stream",
          "text": [
            "https://entertain.naver.com/read?oid=001&aid=0011887088\n"
          ]
        },
        {
          "name": "stderr",
          "output_type": "stream",
          "text": [
            "16638it [1:03:05,  5.99it/s]"
          ]
        },
        {
          "name": "stdout",
          "output_type": "stream",
          "text": [
            "https://entertain.naver.com/read?oid=009&aid=0004659947\n"
          ]
        },
        {
          "name": "stderr",
          "output_type": "stream",
          "text": [
            "16674it [1:03:12,  7.05it/s]"
          ]
        },
        {
          "name": "stdout",
          "output_type": "stream",
          "text": [
            "https://entertain.naver.com/read?oid=057&aid=0001501844\n"
          ]
        },
        {
          "name": "stderr",
          "output_type": "stream",
          "text": [
            "16682it [1:03:14,  6.45it/s]"
          ]
        },
        {
          "name": "stdout",
          "output_type": "stream",
          "text": [
            "https://entertain.naver.com/read?oid=311&aid=0001203540\n"
          ]
        },
        {
          "name": "stderr",
          "output_type": "stream",
          "text": [
            "16693it [1:03:16,  6.55it/s]"
          ]
        },
        {
          "name": "stdout",
          "output_type": "stream",
          "text": [
            "https://entertain.naver.com/read?oid=396&aid=0000561078\n"
          ]
        },
        {
          "name": "stderr",
          "output_type": "stream",
          "text": [
            "16700it [1:03:17,  5.82it/s]"
          ]
        },
        {
          "name": "stdout",
          "output_type": "stream",
          "text": [
            "https://entertain.naver.com/read?oid=410&aid=0000729503\n"
          ]
        },
        {
          "name": "stderr",
          "output_type": "stream",
          "text": [
            "17359it [1:05:51,  5.89it/s]"
          ]
        },
        {
          "name": "stdout",
          "output_type": "stream",
          "text": [
            "https://entertain.naver.com/read?oid=311&aid=0001212773\n"
          ]
        },
        {
          "name": "stderr",
          "output_type": "stream",
          "text": [
            "17418it [1:06:04,  6.28it/s]"
          ]
        },
        {
          "name": "stdout",
          "output_type": "stream",
          "text": [
            "https://entertain.naver.com/read?oid=003&aid=0010125309\n"
          ]
        },
        {
          "name": "stderr",
          "output_type": "stream",
          "text": [
            "18127it [1:08:57,  7.46it/s]"
          ]
        },
        {
          "name": "stdout",
          "output_type": "stream",
          "text": [
            "https://sports.news.naver.com/news.nhn?oid=442&aid=0000126145\n",
            "https://sports.news.naver.com/news.nhn?oid=442&aid=0000126145\n"
          ]
        },
        {
          "name": "stderr",
          "output_type": "stream",
          "text": [
            "18432it [1:10:40,  3.02it/s]"
          ]
        },
        {
          "name": "stdout",
          "output_type": "stream",
          "text": [
            "https://entertain.naver.com/read?oid=396&aid=0000565631\n"
          ]
        },
        {
          "name": "stderr",
          "output_type": "stream",
          "text": [
            "18703it [1:12:03,  3.38it/s]"
          ]
        },
        {
          "name": "stdout",
          "output_type": "stream",
          "text": [
            "https://sports.news.naver.com/news.nhn?oid=356&aid=0000043967\n",
            "https://sports.news.naver.com/news.nhn?oid=356&aid=0000043967\n"
          ]
        },
        {
          "name": "stderr",
          "output_type": "stream",
          "text": [
            "18808it [1:12:34,  2.95it/s]"
          ]
        },
        {
          "name": "stdout",
          "output_type": "stream",
          "text": [
            "https://sports.news.naver.com/news.nhn?oid=356&aid=0000044475\n"
          ]
        },
        {
          "name": "stderr",
          "output_type": "stream",
          "text": [
            "18873it [1:12:55,  2.70it/s]"
          ]
        },
        {
          "name": "stdout",
          "output_type": "stream",
          "text": [
            "https://sports.news.naver.com/news.nhn?oid=439&aid=0000021353\n"
          ]
        },
        {
          "name": "stderr",
          "output_type": "stream",
          "text": [
            "19294it [1:15:00,  3.26it/s]"
          ]
        },
        {
          "name": "stdout",
          "output_type": "stream",
          "text": [
            "https://entertain.naver.com/read?oid=410&aid=0000748701\n"
          ]
        },
        {
          "name": "stderr",
          "output_type": "stream",
          "text": [
            "19366it [1:15:19,  3.94it/s]"
          ]
        },
        {
          "name": "stdout",
          "output_type": "stream",
          "text": [
            "https://sports.news.naver.com/news.nhn?oid=001&aid=0012175318\n"
          ]
        },
        {
          "name": "stderr",
          "output_type": "stream",
          "text": [
            "19391it [1:15:26,  3.45it/s]"
          ]
        },
        {
          "name": "stdout",
          "output_type": "stream",
          "text": [
            "https://sports.news.naver.com/news.nhn?oid=425&aid=0000114930\n"
          ]
        },
        {
          "name": "stderr",
          "output_type": "stream",
          "text": [
            "19458it [1:15:45,  3.65it/s]"
          ]
        },
        {
          "name": "stdout",
          "output_type": "stream",
          "text": [
            "https://sports.news.naver.com/news.nhn?oid=425&aid=0000114930\n"
          ]
        },
        {
          "name": "stderr",
          "output_type": "stream",
          "text": [
            "20154it [1:19:55,  3.63it/s]"
          ]
        },
        {
          "name": "stdout",
          "output_type": "stream",
          "text": [
            "https://sports.news.naver.com/news.nhn?oid=439&aid=0000021469\n",
            "https://sports.news.naver.com/news.nhn?oid=439&aid=0000021469\n"
          ]
        },
        {
          "name": "stderr",
          "output_type": "stream",
          "text": [
            "20287it [1:20:34,  3.57it/s]"
          ]
        },
        {
          "name": "stdout",
          "output_type": "stream",
          "text": [
            "https://sports.news.naver.com/news.nhn?oid=001&aid=0012175318\n"
          ]
        },
        {
          "name": "stderr",
          "output_type": "stream",
          "text": [
            "20389it [1:21:02,  3.83it/s]"
          ]
        },
        {
          "name": "stdout",
          "output_type": "stream",
          "text": [
            "https://sports.news.naver.com/news.nhn?oid=001&aid=0012175318\n"
          ]
        },
        {
          "name": "stderr",
          "output_type": "stream",
          "text": [
            "20392it [1:21:03,  4.53it/s]"
          ]
        },
        {
          "name": "stdout",
          "output_type": "stream",
          "text": [
            "https://sports.news.naver.com/news.nhn?oid=001&aid=0012175318\n"
          ]
        },
        {
          "name": "stderr",
          "output_type": "stream",
          "text": [
            "20435it [1:21:14,  3.12it/s]"
          ]
        },
        {
          "name": "stdout",
          "output_type": "stream",
          "text": [
            "https://sports.news.naver.com/news.nhn?oid=417&aid=0000652148\n"
          ]
        },
        {
          "name": "stderr",
          "output_type": "stream",
          "text": [
            "20438it [1:21:15,  4.04it/s]"
          ]
        },
        {
          "name": "stdout",
          "output_type": "stream",
          "text": [
            "https://sports.news.naver.com/news.nhn?oid=030&aid=0002926347\n"
          ]
        },
        {
          "name": "stderr",
          "output_type": "stream",
          "text": [
            "20474it [1:21:24,  3.40it/s]"
          ]
        },
        {
          "name": "stdout",
          "output_type": "stream",
          "text": [
            "https://sports.news.naver.com/news.nhn?oid=435&aid=0000007735\n"
          ]
        },
        {
          "name": "stderr",
          "output_type": "stream",
          "text": [
            "20481it [1:21:26,  3.33it/s]"
          ]
        },
        {
          "name": "stdout",
          "output_type": "stream",
          "text": [
            "https://sports.news.naver.com/news.nhn?oid=016&aid=0001788254\n"
          ]
        },
        {
          "name": "stderr",
          "output_type": "stream",
          "text": [
            "20494it [1:21:30,  3.48it/s]"
          ]
        },
        {
          "name": "stdout",
          "output_type": "stream",
          "text": [
            "https://sports.news.naver.com/news.nhn?oid=477&aid=0000283906\n"
          ]
        },
        {
          "name": "stderr",
          "output_type": "stream",
          "text": [
            "20521it [1:21:37,  3.76it/s]"
          ]
        },
        {
          "name": "stdout",
          "output_type": "stream",
          "text": [
            "https://sports.news.naver.com/news.nhn?oid=015&aid=0004493073\n"
          ]
        },
        {
          "name": "stderr",
          "output_type": "stream",
          "text": [
            "20530it [1:21:41,  2.64it/s]"
          ]
        },
        {
          "name": "stdout",
          "output_type": "stream",
          "text": [
            "https://sports.news.naver.com/news.nhn?oid=468&aid=0000738641\n"
          ]
        },
        {
          "name": "stderr",
          "output_type": "stream",
          "text": [
            "20533it [1:21:42,  3.92it/s]"
          ]
        },
        {
          "name": "stdout",
          "output_type": "stream",
          "text": [
            "https://sports.news.naver.com/news.nhn?oid=023&aid=0003593572\n"
          ]
        },
        {
          "name": "stderr",
          "output_type": "stream",
          "text": [
            "20542it [1:21:44,  3.33it/s]"
          ]
        },
        {
          "name": "stdout",
          "output_type": "stream",
          "text": [
            "https://sports.news.naver.com/news.nhn?oid=014&aid=0004576034\n"
          ]
        },
        {
          "name": "stderr",
          "output_type": "stream",
          "text": [
            "20568it [1:21:51,  3.65it/s]"
          ]
        },
        {
          "name": "stdout",
          "output_type": "stream",
          "text": [
            "https://sports.news.naver.com/news.nhn?oid=079&aid=0003462944\n"
          ]
        },
        {
          "name": "stderr",
          "output_type": "stream",
          "text": [
            "20571it [1:21:52,  4.85it/s]"
          ]
        },
        {
          "name": "stdout",
          "output_type": "stream",
          "text": [
            "https://sports.news.naver.com/news.nhn?oid=079&aid=0003462944\n"
          ]
        },
        {
          "name": "stderr",
          "output_type": "stream",
          "text": [
            "20575it [1:21:53,  4.51it/s]"
          ]
        },
        {
          "name": "stdout",
          "output_type": "stream",
          "text": [
            "https://sports.news.naver.com/news.nhn?oid=011&aid=0003865830\n",
            "https://sports.news.naver.com/news.nhn?oid=011&aid=0003865830\n"
          ]
        },
        {
          "name": "stderr",
          "output_type": "stream",
          "text": [
            "20580it [1:21:54,  5.09it/s]"
          ]
        },
        {
          "name": "stdout",
          "output_type": "stream",
          "text": [
            "https://sports.news.naver.com/news.nhn?oid=016&aid=0001787975\n",
            "https://sports.news.naver.com/news.nhn?oid=425&aid=0000114930\n"
          ]
        },
        {
          "name": "stderr",
          "output_type": "stream",
          "text": [
            "20596it [1:21:58,  2.20it/s]"
          ]
        },
        {
          "name": "stdout",
          "output_type": "stream",
          "text": [
            "https://sports.news.naver.com/news.nhn?oid=277&aid=0004839864\n"
          ]
        },
        {
          "name": "stderr",
          "output_type": "stream",
          "text": [
            "20780it [1:23:03,  3.69it/s]"
          ]
        },
        {
          "name": "stdout",
          "output_type": "stream",
          "text": [
            "https://sports.news.naver.com/news.nhn?oid=442&aid=0000129852\n"
          ]
        },
        {
          "name": "stderr",
          "output_type": "stream",
          "text": [
            "21059it [1:24:24,  3.47it/s]"
          ]
        },
        {
          "name": "stdout",
          "output_type": "stream",
          "text": [
            "https://sports.news.naver.com/news.nhn?oid=144&aid=0000716258\n"
          ]
        },
        {
          "name": "stderr",
          "output_type": "stream",
          "text": [
            "22303it [1:30:49,  2.03it/s]"
          ]
        },
        {
          "name": "stdout",
          "output_type": "stream",
          "text": [
            "https://entertain.naver.com/read?oid=311&aid=0001291075\n"
          ]
        },
        {
          "name": "stderr",
          "output_type": "stream",
          "text": [
            "22315it [1:30:52,  3.42it/s]"
          ]
        },
        {
          "name": "stdout",
          "output_type": "stream",
          "text": [
            "https://entertain.naver.com/read?oid=109&aid=0004395684\n"
          ]
        },
        {
          "name": "stderr",
          "output_type": "stream",
          "text": [
            "22331it [1:30:58,  1.42it/s]"
          ]
        },
        {
          "name": "stdout",
          "output_type": "stream",
          "text": [
            "https://entertain.naver.com/read?oid=416&aid=0000270488\n"
          ]
        },
        {
          "name": "stderr",
          "output_type": "stream",
          "text": [
            "23930it [1:39:18,  3.69it/s]"
          ]
        },
        {
          "name": "stdout",
          "output_type": "stream",
          "text": [
            "https://entertain.naver.com/read?oid=215&aid=0000967018\n",
            "https://entertain.naver.com/read?oid=215&aid=0000967018\n"
          ]
        },
        {
          "name": "stderr",
          "output_type": "stream",
          "text": [
            "24222it [1:40:43,  3.79it/s]"
          ]
        },
        {
          "name": "stdout",
          "output_type": "stream",
          "text": [
            "https://sports.news.naver.com/news.nhn?oid=442&aid=0000135598\n"
          ]
        },
        {
          "name": "stderr",
          "output_type": "stream",
          "text": [
            "25077it [1:45:25,  3.21it/s]"
          ]
        },
        {
          "name": "stdout",
          "output_type": "stream",
          "text": [
            "https://entertain.naver.com/read?oid=003&aid=0010624968\n"
          ]
        },
        {
          "name": "stderr",
          "output_type": "stream",
          "text": [
            "25336it [1:46:43,  3.69it/s]"
          ]
        },
        {
          "name": "stdout",
          "output_type": "stream",
          "text": [
            "https://entertain.naver.com/read?oid=112&aid=0003458193\n"
          ]
        },
        {
          "name": "stderr",
          "output_type": "stream",
          "text": [
            "26184it [1:51:16,  3.01it/s]"
          ]
        },
        {
          "name": "stdout",
          "output_type": "stream",
          "text": [
            "https://sports.news.naver.com/news.nhn?oid=425&aid=0000121080\n"
          ]
        },
        {
          "name": "stderr",
          "output_type": "stream",
          "text": [
            "26236it [1:51:33,  2.87it/s]"
          ]
        },
        {
          "name": "stdout",
          "output_type": "stream",
          "text": [
            "https://sports.news.naver.com/news.nhn?oid=445&aid=0000028527\n"
          ]
        },
        {
          "name": "stderr",
          "output_type": "stream",
          "text": [
            "28544it [2:06:08,  2.90it/s]"
          ]
        },
        {
          "name": "stdout",
          "output_type": "stream",
          "text": [
            "https://entertain.naver.com/read?oid=311&aid=0001360492\n"
          ]
        },
        {
          "name": "stderr",
          "output_type": "stream",
          "text": [
            "28546it [2:06:08,  3.76it/s]"
          ]
        },
        {
          "name": "stdout",
          "output_type": "stream",
          "text": [
            "https://entertain.naver.com/read?oid=311&aid=0001360492\n"
          ]
        },
        {
          "name": "stderr",
          "output_type": "stream",
          "text": [
            "28815it [2:07:37,  3.20it/s]"
          ]
        },
        {
          "name": "stdout",
          "output_type": "stream",
          "text": [
            "https://sports.news.naver.com/news.nhn?oid=442&aid=0000141493\n"
          ]
        },
        {
          "name": "stderr",
          "output_type": "stream",
          "text": [
            "29883it [2:13:27,  2.82it/s]"
          ]
        },
        {
          "name": "stdout",
          "output_type": "stream",
          "text": [
            "https://sports.news.naver.com/news.nhn?oid=014&aid=0004747324\n"
          ]
        },
        {
          "name": "stderr",
          "output_type": "stream",
          "text": [
            "29920it [2:13:38,  2.85it/s]"
          ]
        },
        {
          "name": "stdout",
          "output_type": "stream",
          "text": [
            "https://sports.news.naver.com/news.nhn?oid=442&aid=0000143134\n"
          ]
        },
        {
          "name": "stderr",
          "output_type": "stream",
          "text": [
            "29922it [2:13:38,  3.84it/s]"
          ]
        },
        {
          "name": "stdout",
          "output_type": "stream",
          "text": [
            "https://sports.news.naver.com/news.nhn?oid=311&aid=0001378339\n"
          ]
        },
        {
          "name": "stderr",
          "output_type": "stream",
          "text": [
            "30057it [2:14:25,  3.16it/s]"
          ]
        },
        {
          "name": "stdout",
          "output_type": "stream",
          "text": [
            "https://sports.news.naver.com/news.nhn?oid=356&aid=0000051010\n"
          ]
        },
        {
          "name": "stderr",
          "output_type": "stream",
          "text": [
            "34863it [2:44:12,  2.84it/s]"
          ]
        },
        {
          "name": "stdout",
          "output_type": "stream",
          "text": [
            "https://sports.news.naver.com/news.nhn?oid=018&aid=0005174310\n"
          ]
        },
        {
          "name": "stderr",
          "output_type": "stream",
          "text": [
            "35054it [2:45:24,  3.33it/s]"
          ]
        },
        {
          "name": "stdout",
          "output_type": "stream",
          "text": [
            "https://entertain.naver.com/read?oid=144&aid=0000801161\n"
          ]
        },
        {
          "name": "stderr",
          "output_type": "stream",
          "text": [
            "35113it [2:45:46,  2.60it/s]"
          ]
        },
        {
          "name": "stdout",
          "output_type": "stream",
          "text": [
            "https://entertain.naver.com/read?oid=312&aid=0000537191\n"
          ]
        },
        {
          "name": "stderr",
          "output_type": "stream",
          "text": [
            "35143it [2:45:57,  2.62it/s]"
          ]
        },
        {
          "name": "stdout",
          "output_type": "stream",
          "text": [
            "https://sports.news.naver.com/news.nhn?oid=008&aid=0004723073\n"
          ]
        },
        {
          "name": "stderr",
          "output_type": "stream",
          "text": [
            "35158it [2:46:01,  3.42it/s]"
          ]
        },
        {
          "name": "stdout",
          "output_type": "stream",
          "text": [
            "https://sports.news.naver.com/news.nhn?oid=442&aid=0000147425\n"
          ]
        },
        {
          "name": "stderr",
          "output_type": "stream",
          "text": [
            "35303it [2:46:51,  2.59it/s]"
          ]
        },
        {
          "name": "stdout",
          "output_type": "stream",
          "text": [
            "https://sports.news.naver.com/news.nhn?oid=311&aid=0001441758\n"
          ]
        },
        {
          "name": "stderr",
          "output_type": "stream",
          "text": [
            "35683it [2:49:00,  2.58it/s]"
          ]
        },
        {
          "name": "stdout",
          "output_type": "stream",
          "text": [
            "https://sports.news.naver.com/news.nhn?oid=311&aid=0001440537\n"
          ]
        },
        {
          "name": "stderr",
          "output_type": "stream",
          "text": [
            "35812it [2:49:44,  3.19it/s]"
          ]
        },
        {
          "name": "stdout",
          "output_type": "stream",
          "text": [
            "https://sports.news.naver.com/news.nhn?oid=442&aid=0000148829\n"
          ]
        },
        {
          "name": "stderr",
          "output_type": "stream",
          "text": [
            "36029it [2:50:56,  3.10it/s]"
          ]
        },
        {
          "name": "stdout",
          "output_type": "stream",
          "text": [
            "https://sports.news.naver.com/news.nhn?oid=356&aid=0000053934\n"
          ]
        },
        {
          "name": "stderr",
          "output_type": "stream",
          "text": [
            "36062it [2:51:06,  3.38it/s]"
          ]
        },
        {
          "name": "stdout",
          "output_type": "stream",
          "text": [
            "https://entertain.naver.com/read?oid=018&aid=0005224614\n"
          ]
        },
        {
          "name": "stderr",
          "output_type": "stream",
          "text": [
            "36137it [2:51:30,  3.15it/s]"
          ]
        },
        {
          "name": "stdout",
          "output_type": "stream",
          "text": [
            "https://sports.news.naver.com/news.nhn?oid=442&aid=0000149918\n"
          ]
        },
        {
          "name": "stderr",
          "output_type": "stream",
          "text": [
            "36142it [2:51:31,  3.58it/s]"
          ]
        },
        {
          "name": "stdout",
          "output_type": "stream",
          "text": [
            "https://sports.news.naver.com/news.nhn?oid=442&aid=0000149918\n"
          ]
        },
        {
          "name": "stderr",
          "output_type": "stream",
          "text": [
            "36167it [2:51:39,  3.35it/s]"
          ]
        },
        {
          "name": "stdout",
          "output_type": "stream",
          "text": [
            "https://sports.news.naver.com/news.nhn?oid=356&aid=0000053934\n"
          ]
        },
        {
          "name": "stderr",
          "output_type": "stream",
          "text": [
            "36985it [2:56:33,  2.42it/s]"
          ]
        },
        {
          "name": "stdout",
          "output_type": "stream",
          "text": [
            "https://sports.news.naver.com/news.nhn?oid=442&aid=0000148871\n",
            "https://sports.news.naver.com/news.nhn?oid=311&aid=0001442845\n"
          ]
        },
        {
          "name": "stderr",
          "output_type": "stream",
          "text": [
            "37391it [2:58:54,  2.90it/s]"
          ]
        },
        {
          "name": "stdout",
          "output_type": "stream",
          "text": [
            "https://entertain.naver.com/read?oid=108&aid=0003066430\n"
          ]
        },
        {
          "name": "stderr",
          "output_type": "stream",
          "text": [
            "37529it [2:59:51,  3.03it/s]"
          ]
        },
        {
          "name": "stdout",
          "output_type": "stream",
          "text": [
            "https://entertain.naver.com/read?oid=144&aid=0000821517\n"
          ]
        },
        {
          "name": "stderr",
          "output_type": "stream",
          "text": [
            "37837it [3:01:45,  3.03it/s]"
          ]
        },
        {
          "name": "stdout",
          "output_type": "stream",
          "text": [
            "https://entertain.naver.com/read?oid=144&aid=0000819317\n"
          ]
        },
        {
          "name": "stderr",
          "output_type": "stream",
          "text": [
            "37982it [3:02:33,  3.35it/s]"
          ]
        },
        {
          "name": "stdout",
          "output_type": "stream",
          "text": [
            "https://entertain.naver.com/read?oid=311&aid=0001461671\n"
          ]
        },
        {
          "name": "stderr",
          "output_type": "stream",
          "text": [
            "39452it [3:11:14,  2.59it/s]"
          ]
        },
        {
          "name": "stdout",
          "output_type": "stream",
          "text": [
            "https://sports.news.naver.com/news.nhn?oid=442&aid=0000153219\n"
          ]
        },
        {
          "name": "stderr",
          "output_type": "stream",
          "text": [
            "40082it [3:14:52,  2.65it/s]"
          ]
        },
        {
          "name": "stdout",
          "output_type": "stream",
          "text": [
            "https://sports.news.naver.com/news.nhn?oid=018&aid=0005316218\n"
          ]
        },
        {
          "name": "stderr",
          "output_type": "stream",
          "text": [
            "40088it [3:14:54,  3.15it/s]"
          ]
        },
        {
          "name": "stdout",
          "output_type": "stream",
          "text": [
            "https://sports.news.naver.com/news.nhn?oid=468&aid=0000882715\n"
          ]
        },
        {
          "name": "stderr",
          "output_type": "stream",
          "text": [
            "40230it [3:15:43,  3.32it/s]"
          ]
        },
        {
          "name": "stdout",
          "output_type": "stream",
          "text": [
            "https://entertain.naver.com/read?oid=144&aid=0000836331\n"
          ]
        },
        {
          "name": "stderr",
          "output_type": "stream",
          "text": [
            "40255it [3:15:53,  2.72it/s]"
          ]
        },
        {
          "name": "stdout",
          "output_type": "stream",
          "text": [
            "https://sports.news.naver.com/news.nhn?oid=442&aid=0000154315\n"
          ]
        },
        {
          "name": "stderr",
          "output_type": "stream",
          "text": [
            "40258it [3:15:53,  3.51it/s]"
          ]
        },
        {
          "name": "stdout",
          "output_type": "stream",
          "text": [
            "https://entertain.naver.com/read?oid=001&aid=0013445056\n"
          ]
        },
        {
          "name": "stderr",
          "output_type": "stream",
          "text": [
            "40361it [3:16:27,  3.27it/s]"
          ]
        },
        {
          "name": "stdout",
          "output_type": "stream",
          "text": [
            "https://entertain.naver.com/read?oid=144&aid=0000837229\n"
          ]
        },
        {
          "name": "stderr",
          "output_type": "stream",
          "text": [
            "40507it [3:17:24,  2.98it/s]"
          ]
        },
        {
          "name": "stdout",
          "output_type": "stream",
          "text": [
            "https://sports.news.naver.com/news.nhn?oid=311&aid=0001496724\n"
          ]
        },
        {
          "name": "stderr",
          "output_type": "stream",
          "text": [
            "41299it [3:23:02,  2.54it/s]"
          ]
        },
        {
          "name": "stdout",
          "output_type": "stream",
          "text": [
            "https://entertain.naver.com/read?oid=001&aid=0013502206\n"
          ]
        },
        {
          "name": "stderr",
          "output_type": "stream",
          "text": [
            "41719it [3:26:11,  2.85it/s]"
          ]
        },
        {
          "name": "stdout",
          "output_type": "stream",
          "text": [
            "https://sports.news.naver.com/news.nhn?oid=057&aid=0001696617\n"
          ]
        },
        {
          "name": "stderr",
          "output_type": "stream",
          "text": [
            "42514it [3:31:39,  2.13it/s]"
          ]
        },
        {
          "name": "stdout",
          "output_type": "stream",
          "text": [
            "https://n.news.naver.com/mnews/article/009/0005049504?sid=101\n"
          ]
        },
        {
          "name": "stderr",
          "output_type": "stream",
          "text": [
            "42617it [3:32:22,  2.35it/s]"
          ]
        },
        {
          "name": "stdout",
          "output_type": "stream",
          "text": [
            "https://entertain.naver.com/read?oid=021&aid=0002541573\n"
          ]
        },
        {
          "name": "stderr",
          "output_type": "stream",
          "text": [
            "42639it [3:32:30,  2.27it/s]"
          ]
        },
        {
          "name": "stdout",
          "output_type": "stream",
          "text": [
            "https://n.news.naver.com/mnews/article/008/0004821203?sid=101\n"
          ]
        },
        {
          "name": "stderr",
          "output_type": "stream",
          "text": [
            "43882it [3:40:04,  2.84it/s]"
          ]
        },
        {
          "name": "stdout",
          "output_type": "stream",
          "text": [
            "https://sports.news.naver.com/news.nhn?oid=442&aid=0000157051\n"
          ]
        },
        {
          "name": "stderr",
          "output_type": "stream",
          "text": [
            "44080it [3:41:15,  3.32it/s]\n"
          ]
        }
      ],
      "source": [
        "df = pd.DataFrame()\n",
        "for url, title in tqdm(zip(test['0'], test['1'])):\n",
        "    try:\n",
        "        oid = re.findall('article/([^\\*]*)/', str(url))[0]\n",
        "        aid = re.findall(f'{oid}/([^\\*]*)[?]', str(url))[0]\n",
        "        sid = url[-3:]\n",
        "        temp = get_data(oid, aid)\n",
        "        temp['sid'] = sid\n",
        "        temp['title'] = title\n",
        "        df =pd.concat([df, temp])\n",
        "    except:\n",
        "        print(url)"
      ]
    },
    {
      "cell_type": "code",
      "execution_count": 82,
      "metadata": {},
      "outputs": [
        {
          "data": {
            "text/html": [
              "<div>\n",
              "<style scoped>\n",
              "    .dataframe tbody tr th:only-of-type {\n",
              "        vertical-align: middle;\n",
              "    }\n",
              "\n",
              "    .dataframe tbody tr th {\n",
              "        vertical-align: top;\n",
              "    }\n",
              "\n",
              "    .dataframe thead th {\n",
              "        text-align: right;\n",
              "    }\n",
              "</style>\n",
              "<table border=\"1\" class=\"dataframe\">\n",
              "  <thead>\n",
              "    <tr style=\"text-align: right;\">\n",
              "      <th></th>\n",
              "      <th>sid</th>\n",
              "      <th>title</th>\n",
              "      <th>url</th>\n",
              "      <th>text</th>\n",
              "      <th>reply_count</th>\n",
              "      <th>uid</th>\n",
              "      <th>uname</th>\n",
              "      <th>like</th>\n",
              "      <th>dislike</th>\n",
              "      <th>c_time</th>\n",
              "      <th>cid</th>\n",
              "      <th>pid</th>\n",
              "    </tr>\n",
              "  </thead>\n",
              "  <tbody>\n",
              "    <tr>\n",
              "      <th>0</th>\n",
              "      <td>105</td>\n",
              "      <td>카카오, 간편결제 플랫폼 키운다</td>\n",
              "      <td>https://n.news.naver.com/mnews/article/comment...</td>\n",
              "      <td>네이버 페이보다 수수료 낮을까?</td>\n",
              "      <td>0.0</td>\n",
              "      <td>aSij</td>\n",
              "      <td>saep****</td>\n",
              "      <td>1.0</td>\n",
              "      <td>0.0</td>\n",
              "      <td>2017-01-19T17:38:29+0900</td>\n",
              "      <td>808915624</td>\n",
              "      <td>808915624</td>\n",
              "    </tr>\n",
              "    <tr>\n",
              "      <th>1</th>\n",
              "      <td>105</td>\n",
              "      <td>카카오, 간편결제 플랫폼 키운다</td>\n",
              "      <td>https://n.news.naver.com/mnews/article/comment...</td>\n",
              "      <td>공부해야할 과목이 또 하나 늘었군.. - IT종사자 -</td>\n",
              "      <td>0.0</td>\n",
              "      <td>3RpCa</td>\n",
              "      <td>illh****</td>\n",
              "      <td>1.0</td>\n",
              "      <td>0.0</td>\n",
              "      <td>2017-01-19T17:28:18+0900</td>\n",
              "      <td>808906894</td>\n",
              "      <td>808906894</td>\n",
              "    </tr>\n",
              "    <tr>\n",
              "      <th>2</th>\n",
              "      <td>105</td>\n",
              "      <td>분석+ 카카오 vs 네이버, 같은 페이 다른 느낌</td>\n",
              "      <td>https://n.news.naver.com/mnews/article/comment...</td>\n",
              "      <td>네이버도 정기결제, 포인트 적립 다 똑같이 되고 먼저 됐는데요.</td>\n",
              "      <td>0.0</td>\n",
              "      <td>7YdEe</td>\n",
              "      <td>bity****</td>\n",
              "      <td>1.0</td>\n",
              "      <td>0.0</td>\n",
              "      <td>2017-01-25T21:54:45+0900</td>\n",
              "      <td>814628004</td>\n",
              "      <td>814628004</td>\n",
              "    </tr>\n",
              "    <tr>\n",
              "      <th>3</th>\n",
              "      <td>105</td>\n",
              "      <td>분석+ 카카오 vs 네이버, 같은 페이 다른 느낌</td>\n",
              "      <td>https://n.news.naver.com/mnews/article/comment...</td>\n",
              "      <td>네이버페이 좋아요.네이버페이체크카드로  교통카드 사용하면 포인트주고, 천원써도 포인...</td>\n",
              "      <td>0.0</td>\n",
              "      <td>PzCe</td>\n",
              "      <td>kshk****</td>\n",
              "      <td>7.0</td>\n",
              "      <td>2.0</td>\n",
              "      <td>2017-01-22T21:19:51+0900</td>\n",
              "      <td>812157994</td>\n",
              "      <td>812157994</td>\n",
              "    </tr>\n",
              "    <tr>\n",
              "      <th>4</th>\n",
              "      <td>105</td>\n",
              "      <td>분석+ 카카오 vs 네이버, 같은 페이 다른 느낌</td>\n",
              "      <td>https://n.news.naver.com/mnews/article/comment...</td>\n",
              "      <td>네이버페이는 편할거라 생각해서 썼는데 포인트도 제한 교통적립 되긴되는건가?카카오페이...</td>\n",
              "      <td>1.0</td>\n",
              "      <td>47W2k</td>\n",
              "      <td>rhks****</td>\n",
              "      <td>4.0</td>\n",
              "      <td>1.0</td>\n",
              "      <td>2017-01-22T17:03:03+0900</td>\n",
              "      <td>812007474</td>\n",
              "      <td>812007474</td>\n",
              "    </tr>\n",
              "    <tr>\n",
              "      <th>...</th>\n",
              "      <td>...</td>\n",
              "      <td>...</td>\n",
              "      <td>...</td>\n",
              "      <td>...</td>\n",
              "      <td>...</td>\n",
              "      <td>...</td>\n",
              "      <td>...</td>\n",
              "      <td>...</td>\n",
              "      <td>...</td>\n",
              "      <td>...</td>\n",
              "      <td>...</td>\n",
              "      <td>...</td>\n",
              "    </tr>\n",
              "    <tr>\n",
              "      <th>340592</th>\n",
              "      <td>105</td>\n",
              "      <td>딱히 하락 이유 없는데...'게임 시총 1위' 내려놓은 크래프톤, 매력도↑</td>\n",
              "      <td>https://n.news.naver.com/mnews/article/comment...</td>\n",
              "      <td>신작 바람 하나 없이 '납세 대상' 이런 지출 기사나 나오는데 당연 하락하지 올라가...</td>\n",
              "      <td>0.0</td>\n",
              "      <td>dEylt</td>\n",
              "      <td>evry****</td>\n",
              "      <td>0.0</td>\n",
              "      <td>0.0</td>\n",
              "      <td>2022-12-16T11:53:02+0900</td>\n",
              "      <td>777898445158481946</td>\n",
              "      <td>777898445158481946</td>\n",
              "    </tr>\n",
              "    <tr>\n",
              "      <th>340593</th>\n",
              "      <td>105</td>\n",
              "      <td>딱히 하락 이유 없는데...'게임 시총 1위' 내려놓은 크래프톤, 매력도↑</td>\n",
              "      <td>https://n.news.naver.com/mnews/article/comment...</td>\n",
              "      <td>신작마다 똥갬을 만드니\\n 하락하지 아직도 고평가다\\n 4만이 적정주가다\\n 기래기...</td>\n",
              "      <td>0.0</td>\n",
              "      <td>5hitw</td>\n",
              "      <td>css6****</td>\n",
              "      <td>7.0</td>\n",
              "      <td>1.0</td>\n",
              "      <td>2022-12-16T10:20:14+0900</td>\n",
              "      <td>777892465809031285</td>\n",
              "      <td>777892465809031285</td>\n",
              "    </tr>\n",
              "    <tr>\n",
              "      <th>340594</th>\n",
              "      <td>105</td>\n",
              "      <td>딱히 하락 이유 없는데...'게임 시총 1위' 내려놓은 크래프톤, 매력도↑</td>\n",
              "      <td>https://n.news.naver.com/mnews/article/comment...</td>\n",
              "      <td>욕밖에 안나오는 쓰레기톤</td>\n",
              "      <td>0.0</td>\n",
              "      <td>2BMm0</td>\n",
              "      <td>vy18****</td>\n",
              "      <td>3.0</td>\n",
              "      <td>0.0</td>\n",
              "      <td>2022-12-16T10:05:01+0900</td>\n",
              "      <td>777891485583409159</td>\n",
              "      <td>777891485583409159</td>\n",
              "    </tr>\n",
              "    <tr>\n",
              "      <th>340595</th>\n",
              "      <td>105</td>\n",
              "      <td>딱히 하락 이유 없는데...'게임 시총 1위' 내려놓은 크래프톤, 매력도↑</td>\n",
              "      <td>https://n.news.naver.com/mnews/article/comment...</td>\n",
              "      <td>하락이유가 없긴 왜없어? 배틀그라운드만 성공해놓고 상장하니까 그렇지</td>\n",
              "      <td>0.0</td>\n",
              "      <td>3gEet</td>\n",
              "      <td>stud****</td>\n",
              "      <td>0.0</td>\n",
              "      <td>0.0</td>\n",
              "      <td>2022-12-16T08:14:41+0900</td>\n",
              "      <td>777884377328648407</td>\n",
              "      <td>777884377328648407</td>\n",
              "    </tr>\n",
              "    <tr>\n",
              "      <th>340596</th>\n",
              "      <td>105</td>\n",
              "      <td>딱히 하락 이유 없는데...'게임 시총 1위' 내려놓은 크래프톤, 매력도↑</td>\n",
              "      <td>https://n.news.naver.com/mnews/article/comment...</td>\n",
              "      <td>하락 이유부터 공부 하셔야 할 듯..</td>\n",
              "      <td>0.0</td>\n",
              "      <td>2p7Jy</td>\n",
              "      <td>cold****</td>\n",
              "      <td>0.0</td>\n",
              "      <td>0.0</td>\n",
              "      <td>2022-12-16T07:42:22+0900</td>\n",
              "      <td>777882296182112354</td>\n",
              "      <td>777882296182112354</td>\n",
              "    </tr>\n",
              "  </tbody>\n",
              "</table>\n",
              "<p>340597 rows × 12 columns</p>\n",
              "</div>"
            ],
            "text/plain": [
              "        sid                                      title  \\\n",
              "0       105                          카카오, 간편결제 플랫폼 키운다   \n",
              "1       105                          카카오, 간편결제 플랫폼 키운다   \n",
              "2       105                분석+ 카카오 vs 네이버, 같은 페이 다른 느낌   \n",
              "3       105                분석+ 카카오 vs 네이버, 같은 페이 다른 느낌   \n",
              "4       105                분석+ 카카오 vs 네이버, 같은 페이 다른 느낌   \n",
              "...     ...                                        ...   \n",
              "340592  105  딱히 하락 이유 없는데...'게임 시총 1위' 내려놓은 크래프톤, 매력도↑   \n",
              "340593  105  딱히 하락 이유 없는데...'게임 시총 1위' 내려놓은 크래프톤, 매력도↑   \n",
              "340594  105  딱히 하락 이유 없는데...'게임 시총 1위' 내려놓은 크래프톤, 매력도↑   \n",
              "340595  105  딱히 하락 이유 없는데...'게임 시총 1위' 내려놓은 크래프톤, 매력도↑   \n",
              "340596  105  딱히 하락 이유 없는데...'게임 시총 1위' 내려놓은 크래프톤, 매력도↑   \n",
              "\n",
              "                                                      url  \\\n",
              "0       https://n.news.naver.com/mnews/article/comment...   \n",
              "1       https://n.news.naver.com/mnews/article/comment...   \n",
              "2       https://n.news.naver.com/mnews/article/comment...   \n",
              "3       https://n.news.naver.com/mnews/article/comment...   \n",
              "4       https://n.news.naver.com/mnews/article/comment...   \n",
              "...                                                   ...   \n",
              "340592  https://n.news.naver.com/mnews/article/comment...   \n",
              "340593  https://n.news.naver.com/mnews/article/comment...   \n",
              "340594  https://n.news.naver.com/mnews/article/comment...   \n",
              "340595  https://n.news.naver.com/mnews/article/comment...   \n",
              "340596  https://n.news.naver.com/mnews/article/comment...   \n",
              "\n",
              "                                                     text  reply_count    uid  \\\n",
              "0                                       네이버 페이보다 수수료 낮을까?          0.0   aSij   \n",
              "1                          공부해야할 과목이 또 하나 늘었군.. - IT종사자 -          0.0  3RpCa   \n",
              "2                     네이버도 정기결제, 포인트 적립 다 똑같이 되고 먼저 됐는데요.          0.0  7YdEe   \n",
              "3       네이버페이 좋아요.네이버페이체크카드로  교통카드 사용하면 포인트주고, 천원써도 포인...          0.0   PzCe   \n",
              "4       네이버페이는 편할거라 생각해서 썼는데 포인트도 제한 교통적립 되긴되는건가?카카오페이...          1.0  47W2k   \n",
              "...                                                   ...          ...    ...   \n",
              "340592  신작 바람 하나 없이 '납세 대상' 이런 지출 기사나 나오는데 당연 하락하지 올라가...          0.0  dEylt   \n",
              "340593  신작마다 똥갬을 만드니\\n 하락하지 아직도 고평가다\\n 4만이 적정주가다\\n 기래기...          0.0  5hitw   \n",
              "340594                                      욕밖에 안나오는 쓰레기톤          0.0  2BMm0   \n",
              "340595              하락이유가 없긴 왜없어? 배틀그라운드만 성공해놓고 상장하니까 그렇지          0.0  3gEet   \n",
              "340596                               하락 이유부터 공부 하셔야 할 듯..          0.0  2p7Jy   \n",
              "\n",
              "           uname  like  dislike                    c_time                 cid  \\\n",
              "0       saep****   1.0      0.0  2017-01-19T17:38:29+0900           808915624   \n",
              "1       illh****   1.0      0.0  2017-01-19T17:28:18+0900           808906894   \n",
              "2       bity****   1.0      0.0  2017-01-25T21:54:45+0900           814628004   \n",
              "3       kshk****   7.0      2.0  2017-01-22T21:19:51+0900           812157994   \n",
              "4       rhks****   4.0      1.0  2017-01-22T17:03:03+0900           812007474   \n",
              "...          ...   ...      ...                       ...                 ...   \n",
              "340592  evry****   0.0      0.0  2022-12-16T11:53:02+0900  777898445158481946   \n",
              "340593  css6****   7.0      1.0  2022-12-16T10:20:14+0900  777892465809031285   \n",
              "340594  vy18****   3.0      0.0  2022-12-16T10:05:01+0900  777891485583409159   \n",
              "340595  stud****   0.0      0.0  2022-12-16T08:14:41+0900  777884377328648407   \n",
              "340596  cold****   0.0      0.0  2022-12-16T07:42:22+0900  777882296182112354   \n",
              "\n",
              "                       pid  \n",
              "0                808915624  \n",
              "1                808906894  \n",
              "2                814628004  \n",
              "3                812157994  \n",
              "4                812007474  \n",
              "...                    ...  \n",
              "340592  777898445158481946  \n",
              "340593  777892465809031285  \n",
              "340594  777891485583409159  \n",
              "340595  777884377328648407  \n",
              "340596  777882296182112354  \n",
              "\n",
              "[340597 rows x 12 columns]"
            ]
          },
          "execution_count": 82,
          "metadata": {},
          "output_type": "execute_result"
        }
      ],
      "source": [
        "df.reset_index(drop = True, inplace = True)\n",
        "df"
      ]
    },
    {
      "cell_type": "code",
      "execution_count": null,
      "metadata": {},
      "outputs": [],
      "source": [
        "df.to_pickle('../data/KP_naver_comments_monthlyTop4000.pkl')\n",
        "df.to_csv('../data/KP_naver_comments_monthlyTop4000.csv')"
      ]
    }
  ],
  "metadata": {
    "colab": {
      "collapsed_sections": [],
      "name": "comment_request.ipynb",
      "provenance": []
    },
    "kernelspec": {
      "display_name": "Python 3.8.12 ('save')",
      "language": "python",
      "name": "python3"
    },
    "language_info": {
      "codemirror_mode": {
        "name": "ipython",
        "version": 3
      },
      "file_extension": ".py",
      "mimetype": "text/x-python",
      "name": "python",
      "nbconvert_exporter": "python",
      "pygments_lexer": "ipython3",
      "version": "3.8.15"
    },
    "vscode": {
      "interpreter": {
        "hash": "6632c70ce360d611e847e5318887868e2366d56c00e5f501b5a0b067a934dfe7"
      }
    }
  },
  "nbformat": 4,
  "nbformat_minor": 0
}
