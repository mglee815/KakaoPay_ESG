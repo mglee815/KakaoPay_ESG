{
 "cells": [
  {
   "cell_type": "code",
   "execution_count": 1,
   "metadata": {},
   "outputs": [],
   "source": [
    "import pandas as pd"
   ]
  },
  {
   "cell_type": "markdown",
   "metadata": {},
   "source": [
    "naver"
   ]
  },
  {
   "cell_type": "code",
   "execution_count": 2,
   "metadata": {},
   "outputs": [],
   "source": [
    "naver = pd.read_csv(\"../../data/KP_naver_monthlyTop4000_TB.csv\")"
   ]
  },
  {
   "cell_type": "code",
   "execution_count": 3,
   "metadata": {},
   "outputs": [],
   "source": [
    "naver = naver.drop_duplicates(['0', '1', '2'])"
   ]
  },
  {
   "cell_type": "code",
   "execution_count": 4,
   "metadata": {},
   "outputs": [],
   "source": [
    "naver = naver[['0','1','2']].reset_index(drop=True)"
   ]
  },
  {
   "cell_type": "code",
   "execution_count": 5,
   "metadata": {},
   "outputs": [],
   "source": [
    "naver['key'] = naver['0'].apply(lambda x : x[-22:-8])"
   ]
  },
  {
   "cell_type": "code",
   "execution_count": 6,
   "metadata": {},
   "outputs": [
    {
     "data": {
      "text/html": [
       "<div>\n",
       "<style scoped>\n",
       "    .dataframe tbody tr th:only-of-type {\n",
       "        vertical-align: middle;\n",
       "    }\n",
       "\n",
       "    .dataframe tbody tr th {\n",
       "        vertical-align: top;\n",
       "    }\n",
       "\n",
       "    .dataframe thead th {\n",
       "        text-align: right;\n",
       "    }\n",
       "</style>\n",
       "<table border=\"1\" class=\"dataframe\">\n",
       "  <thead>\n",
       "    <tr style=\"text-align: right;\">\n",
       "      <th></th>\n",
       "      <th>0</th>\n",
       "      <th>1</th>\n",
       "      <th>2</th>\n",
       "      <th>key</th>\n",
       "    </tr>\n",
       "  </thead>\n",
       "  <tbody>\n",
       "    <tr>\n",
       "      <th>0</th>\n",
       "      <td>https://n.news.naver.com/mnews/article/021/000...</td>\n",
       "      <td>카드업계도…‘모바일 페이’ 수수료 전쟁 시작된다</td>\n",
       "      <td>[\\n\\n\\n\\n\\n\\n간편결제 시장 日평균 2500억7개 카드사 결제대행업체 설립...</td>\n",
       "      <td>021/0002303358</td>\n",
       "    </tr>\n",
       "    <tr>\n",
       "      <th>1</th>\n",
       "      <td>https://n.news.naver.com/mnews/article/015/000...</td>\n",
       "      <td>카카오페이도 소상공인에 '활짝'…결제 API 공개</td>\n",
       "      <td>[\\n쉽게 가져다 쓰는 오픈 플랫폼 전략\"온라인 결제시스템 도입 부담 덜 것\"\\n\\...</td>\n",
       "      <td>015/0003716660</td>\n",
       "    </tr>\n",
       "    <tr>\n",
       "      <th>2</th>\n",
       "      <td>https://n.news.naver.com/mnews/article/421/000...</td>\n",
       "      <td>대한항공, 모바일 항공권 결제에 삼성페이 도입</td>\n",
       "      <td>[\\n\\n\\n\\n\\n대한항공이 도입한 온라인 결제시스템인 카카오페이와 페이코 서비스...</td>\n",
       "      <td>421/0002523727</td>\n",
       "    </tr>\n",
       "    <tr>\n",
       "      <th>3</th>\n",
       "      <td>https://n.news.naver.com/mnews/article/001/000...</td>\n",
       "      <td>카카오페이로 세금납부 가능해진다…모바일 세금납부 확대</td>\n",
       "      <td>[\\n\\n\\n\\n\\n [연합뉴스TV제공]국세청, 전국 세무관서장 회의…종합소득세 전...</td>\n",
       "      <td>001/0008967845</td>\n",
       "    </tr>\n",
       "    <tr>\n",
       "      <th>4</th>\n",
       "      <td>https://n.news.naver.com/mnews/article/001/000...</td>\n",
       "      <td>카카오페이, 외부 업체도 자유롭게 쓰세요</td>\n",
       "      <td>[\\n\\n\\n\\n\\n카카오페이 타이틀 화면 &amp;lt;&amp;lt;카카오 제공&amp;gt;&amp;gt;...</td>\n",
       "      <td>001/0008971094</td>\n",
       "    </tr>\n",
       "    <tr>\n",
       "      <th>...</th>\n",
       "      <td>...</td>\n",
       "      <td>...</td>\n",
       "      <td>...</td>\n",
       "      <td>...</td>\n",
       "    </tr>\n",
       "    <tr>\n",
       "      <th>34588</th>\n",
       "      <td>https://n.news.naver.com/mnews/article/011/000...</td>\n",
       "      <td>데이터로 보는 증시코스피 기관·외국인·개인 순매수·순매도 상위종목(12월 2일)</td>\n",
       "      <td>[\\n\\n\\n\\n\\n[서울경제] ◇기관·외국인 순매수 주요 종목=아모레퍼시픽(090...</td>\n",
       "      <td>011/0004129360</td>\n",
       "    </tr>\n",
       "    <tr>\n",
       "      <th>34589</th>\n",
       "      <td>https://n.news.naver.com/mnews/article/008/000...</td>\n",
       "      <td>딱히 하락 이유 없는데...'게임 시총 1위' 내려놓은 크래프톤, 매력도↑</td>\n",
       "      <td>[\\n\\n\\n\\n\\n지난해 8월 상장 이후 줄곧 게임업계 시가총액 1위를 기록하며 ...</td>\n",
       "      <td>008/0004829725</td>\n",
       "    </tr>\n",
       "    <tr>\n",
       "      <th>34590</th>\n",
       "      <td>https://n.news.naver.com/mnews/article/014/000...</td>\n",
       "      <td>증권사도 방문판매 시작…증권사 PB가 직접 찾아갑니다”</td>\n",
       "      <td>[\\n\\t\\t\\t  [파이낸셜뉴스] 앞으로 증권사 상품에 가입하기 위해 증권사 영업...</td>\n",
       "      <td>014/0004939411</td>\n",
       "    </tr>\n",
       "    <tr>\n",
       "      <th>34591</th>\n",
       "      <td>https://n.news.naver.com/mnews/article/421/000...</td>\n",
       "      <td>청양군 “2022년 2기분 자동차세 내달 2일까지 납부하세요”</td>\n",
       "      <td>[\\n은행 현금자동출납기서 고지서없이 납부 가능\\n\\n\\n\\n청양군 청사 전경.(청...</td>\n",
       "      <td>421/0006516643</td>\n",
       "    </tr>\n",
       "    <tr>\n",
       "      <th>34592</th>\n",
       "      <td>https://n.news.naver.com/mnews/article/119/000...</td>\n",
       "      <td>고객 찾아가는 증권사...방문판매 서비스 본격화</td>\n",
       "      <td>[\\n증권사 PB가 보험사처럼 펀드상품 등 직접 판매“오래전 시스템 구축...파급력...</td>\n",
       "      <td>119/0002667813</td>\n",
       "    </tr>\n",
       "  </tbody>\n",
       "</table>\n",
       "<p>34593 rows × 4 columns</p>\n",
       "</div>"
      ],
      "text/plain": [
       "                                                       0  \\\n",
       "0      https://n.news.naver.com/mnews/article/021/000...   \n",
       "1      https://n.news.naver.com/mnews/article/015/000...   \n",
       "2      https://n.news.naver.com/mnews/article/421/000...   \n",
       "3      https://n.news.naver.com/mnews/article/001/000...   \n",
       "4      https://n.news.naver.com/mnews/article/001/000...   \n",
       "...                                                  ...   \n",
       "34588  https://n.news.naver.com/mnews/article/011/000...   \n",
       "34589  https://n.news.naver.com/mnews/article/008/000...   \n",
       "34590  https://n.news.naver.com/mnews/article/014/000...   \n",
       "34591  https://n.news.naver.com/mnews/article/421/000...   \n",
       "34592  https://n.news.naver.com/mnews/article/119/000...   \n",
       "\n",
       "                                                  1  \\\n",
       "0                        카드업계도…‘모바일 페이’ 수수료 전쟁 시작된다   \n",
       "1                       카카오페이도 소상공인에 '활짝'…결제 API 공개   \n",
       "2                         대한항공, 모바일 항공권 결제에 삼성페이 도입   \n",
       "3                     카카오페이로 세금납부 가능해진다…모바일 세금납부 확대   \n",
       "4                            카카오페이, 외부 업체도 자유롭게 쓰세요   \n",
       "...                                             ...   \n",
       "34588  데이터로 보는 증시코스피 기관·외국인·개인 순매수·순매도 상위종목(12월 2일)   \n",
       "34589     딱히 하락 이유 없는데...'게임 시총 1위' 내려놓은 크래프톤, 매력도↑   \n",
       "34590                증권사도 방문판매 시작…증권사 PB가 직접 찾아갑니다”   \n",
       "34591            청양군 “2022년 2기분 자동차세 내달 2일까지 납부하세요”   \n",
       "34592                    고객 찾아가는 증권사...방문판매 서비스 본격화   \n",
       "\n",
       "                                                       2             key  \n",
       "0      [\\n\\n\\n\\n\\n\\n간편결제 시장 日평균 2500억7개 카드사 결제대행업체 설립...  021/0002303358  \n",
       "1      [\\n쉽게 가져다 쓰는 오픈 플랫폼 전략\"온라인 결제시스템 도입 부담 덜 것\"\\n\\...  015/0003716660  \n",
       "2      [\\n\\n\\n\\n\\n대한항공이 도입한 온라인 결제시스템인 카카오페이와 페이코 서비스...  421/0002523727  \n",
       "3      [\\n\\n\\n\\n\\n [연합뉴스TV제공]국세청, 전국 세무관서장 회의…종합소득세 전...  001/0008967845  \n",
       "4      [\\n\\n\\n\\n\\n카카오페이 타이틀 화면 &lt;&lt;카카오 제공&gt;&gt;...  001/0008971094  \n",
       "...                                                  ...             ...  \n",
       "34588  [\\n\\n\\n\\n\\n[서울경제] ◇기관·외국인 순매수 주요 종목=아모레퍼시픽(090...  011/0004129360  \n",
       "34589  [\\n\\n\\n\\n\\n지난해 8월 상장 이후 줄곧 게임업계 시가총액 1위를 기록하며 ...  008/0004829725  \n",
       "34590  [\\n\\t\\t\\t  [파이낸셜뉴스] 앞으로 증권사 상품에 가입하기 위해 증권사 영업...  014/0004939411  \n",
       "34591  [\\n은행 현금자동출납기서 고지서없이 납부 가능\\n\\n\\n\\n청양군 청사 전경.(청...  421/0006516643  \n",
       "34592  [\\n증권사 PB가 보험사처럼 펀드상품 등 직접 판매“오래전 시스템 구축...파급력...  119/0002667813  \n",
       "\n",
       "[34593 rows x 4 columns]"
      ]
     },
     "execution_count": 6,
     "metadata": {},
     "output_type": "execute_result"
    }
   ],
   "source": [
    "naver"
   ]
  },
  {
   "attachments": {},
   "cell_type": "markdown",
   "metadata": {},
   "source": [
    "daum"
   ]
  },
  {
   "cell_type": "code",
   "execution_count": 7,
   "metadata": {},
   "outputs": [],
   "source": [
    "daum = pd.read_csv(\"../../data/KP_daum_monthlyTop800_body.csv\")"
   ]
  },
  {
   "cell_type": "code",
   "execution_count": 8,
   "metadata": {},
   "outputs": [],
   "source": [
    "daum = daum.drop('Unnamed: 0', axis = 1)"
   ]
  },
  {
   "cell_type": "code",
   "execution_count": 9,
   "metadata": {},
   "outputs": [],
   "source": [
    "daum['key'] = daum['0']"
   ]
  },
  {
   "cell_type": "code",
   "execution_count": 10,
   "metadata": {},
   "outputs": [],
   "source": [
    "naver.columns = ['url', 'title', 'body', 'key']\n",
    "daum.columns = ['url', 'title', 'body', 'key']"
   ]
  },
  {
   "cell_type": "code",
   "execution_count": 11,
   "metadata": {},
   "outputs": [],
   "source": [
    "news = pd.concat([naver, daum]).reset_index(drop = True)"
   ]
  },
  {
   "cell_type": "code",
   "execution_count": 12,
   "metadata": {},
   "outputs": [
    {
     "data": {
      "text/html": [
       "<div>\n",
       "<style scoped>\n",
       "    .dataframe tbody tr th:only-of-type {\n",
       "        vertical-align: middle;\n",
       "    }\n",
       "\n",
       "    .dataframe tbody tr th {\n",
       "        vertical-align: top;\n",
       "    }\n",
       "\n",
       "    .dataframe thead th {\n",
       "        text-align: right;\n",
       "    }\n",
       "</style>\n",
       "<table border=\"1\" class=\"dataframe\">\n",
       "  <thead>\n",
       "    <tr style=\"text-align: right;\">\n",
       "      <th></th>\n",
       "      <th>url</th>\n",
       "      <th>title</th>\n",
       "      <th>body</th>\n",
       "      <th>key</th>\n",
       "    </tr>\n",
       "  </thead>\n",
       "  <tbody>\n",
       "    <tr>\n",
       "      <th>0</th>\n",
       "      <td>https://n.news.naver.com/mnews/article/021/000...</td>\n",
       "      <td>카드업계도…‘모바일 페이’ 수수료 전쟁 시작된다</td>\n",
       "      <td>[\\n\\n\\n\\n\\n\\n간편결제 시장 日평균 2500억7개 카드사 결제대행업체 설립...</td>\n",
       "      <td>021/0002303358</td>\n",
       "    </tr>\n",
       "    <tr>\n",
       "      <th>1</th>\n",
       "      <td>https://n.news.naver.com/mnews/article/015/000...</td>\n",
       "      <td>카카오페이도 소상공인에 '활짝'…결제 API 공개</td>\n",
       "      <td>[\\n쉽게 가져다 쓰는 오픈 플랫폼 전략\"온라인 결제시스템 도입 부담 덜 것\"\\n\\...</td>\n",
       "      <td>015/0003716660</td>\n",
       "    </tr>\n",
       "    <tr>\n",
       "      <th>2</th>\n",
       "      <td>https://n.news.naver.com/mnews/article/421/000...</td>\n",
       "      <td>대한항공, 모바일 항공권 결제에 삼성페이 도입</td>\n",
       "      <td>[\\n\\n\\n\\n\\n대한항공이 도입한 온라인 결제시스템인 카카오페이와 페이코 서비스...</td>\n",
       "      <td>421/0002523727</td>\n",
       "    </tr>\n",
       "    <tr>\n",
       "      <th>3</th>\n",
       "      <td>https://n.news.naver.com/mnews/article/001/000...</td>\n",
       "      <td>카카오페이로 세금납부 가능해진다…모바일 세금납부 확대</td>\n",
       "      <td>[\\n\\n\\n\\n\\n [연합뉴스TV제공]국세청, 전국 세무관서장 회의…종합소득세 전...</td>\n",
       "      <td>001/0008967845</td>\n",
       "    </tr>\n",
       "    <tr>\n",
       "      <th>4</th>\n",
       "      <td>https://n.news.naver.com/mnews/article/001/000...</td>\n",
       "      <td>카카오페이, 외부 업체도 자유롭게 쓰세요</td>\n",
       "      <td>[\\n\\n\\n\\n\\n카카오페이 타이틀 화면 &amp;lt;&amp;lt;카카오 제공&amp;gt;&amp;gt;...</td>\n",
       "      <td>001/0008971094</td>\n",
       "    </tr>\n",
       "    <tr>\n",
       "      <th>...</th>\n",
       "      <td>...</td>\n",
       "      <td>...</td>\n",
       "      <td>...</td>\n",
       "      <td>...</td>\n",
       "    </tr>\n",
       "    <tr>\n",
       "      <th>52975</th>\n",
       "      <td>https://v.daum.net/v/20221230105630139</td>\n",
       "      <td>파리바게뜨, 새해 1월 ‘파바데이’ 프로모션 진행</td>\n",
       "      <td>[ 1만5000원 이상 구매 시 3000원 혜택설 선물 연계 2만원 이상 구매시 5...</td>\n",
       "      <td>https://v.daum.net/v/20221230105630139</td>\n",
       "    </tr>\n",
       "    <tr>\n",
       "      <th>52976</th>\n",
       "      <td>https://v.daum.net/v/20221230071650319</td>\n",
       "      <td>용인시, 청년 전세보증금 반환보증 보증료 최대 30만원 지원</td>\n",
       "      <td>[            용인청년 전세보증금 반환보증 보증료 지원사업 홍보 포스터  ...</td>\n",
       "      <td>https://v.daum.net/v/20221230071650319</td>\n",
       "    </tr>\n",
       "    <tr>\n",
       "      <th>52977</th>\n",
       "      <td>https://v.daum.net/v/20221230052321943</td>\n",
       "      <td>2금융 대출문턱 막히자… 금융당국 유연하게 대응 당부</td>\n",
       "      <td>[            2금융권을 중심으로 서민들의 자금조달이 어려워지자 금융당국이...</td>\n",
       "      <td>https://v.daum.net/v/20221230052321943</td>\n",
       "    </tr>\n",
       "    <tr>\n",
       "      <th>52978</th>\n",
       "      <td>https://v.daum.net/v/20221228120203288</td>\n",
       "      <td>내년부터 '깜깜이' 간편결제 수수료 공시된다</td>\n",
       "      <td>[ 금감원, 전자금융업자 수수료 공시 가이드라인 시행네이버페이, 카카오페이 10개사...</td>\n",
       "      <td>https://v.daum.net/v/20221228120203288</td>\n",
       "    </tr>\n",
       "    <tr>\n",
       "      <th>52979</th>\n",
       "      <td>https://v.daum.net/v/20221230091108475</td>\n",
       "      <td>파리바게뜨, 1월1일 '파바데이'서 3000원 할인 받으세요</td>\n",
       "      <td>[ 1월1일 하루, 1만5000원 이상 구매 시 3천원 혜택            파...</td>\n",
       "      <td>https://v.daum.net/v/20221230091108475</td>\n",
       "    </tr>\n",
       "  </tbody>\n",
       "</table>\n",
       "<p>52980 rows × 4 columns</p>\n",
       "</div>"
      ],
      "text/plain": [
       "                                                     url  \\\n",
       "0      https://n.news.naver.com/mnews/article/021/000...   \n",
       "1      https://n.news.naver.com/mnews/article/015/000...   \n",
       "2      https://n.news.naver.com/mnews/article/421/000...   \n",
       "3      https://n.news.naver.com/mnews/article/001/000...   \n",
       "4      https://n.news.naver.com/mnews/article/001/000...   \n",
       "...                                                  ...   \n",
       "52975             https://v.daum.net/v/20221230105630139   \n",
       "52976             https://v.daum.net/v/20221230071650319   \n",
       "52977             https://v.daum.net/v/20221230052321943   \n",
       "52978             https://v.daum.net/v/20221228120203288   \n",
       "52979             https://v.daum.net/v/20221230091108475   \n",
       "\n",
       "                                   title  \\\n",
       "0             카드업계도…‘모바일 페이’ 수수료 전쟁 시작된다   \n",
       "1            카카오페이도 소상공인에 '활짝'…결제 API 공개   \n",
       "2              대한항공, 모바일 항공권 결제에 삼성페이 도입   \n",
       "3          카카오페이로 세금납부 가능해진다…모바일 세금납부 확대   \n",
       "4                 카카오페이, 외부 업체도 자유롭게 쓰세요   \n",
       "...                                  ...   \n",
       "52975        파리바게뜨, 새해 1월 ‘파바데이’ 프로모션 진행   \n",
       "52976  용인시, 청년 전세보증금 반환보증 보증료 최대 30만원 지원   \n",
       "52977      2금융 대출문턱 막히자… 금융당국 유연하게 대응 당부   \n",
       "52978           내년부터 '깜깜이' 간편결제 수수료 공시된다   \n",
       "52979  파리바게뜨, 1월1일 '파바데이'서 3000원 할인 받으세요   \n",
       "\n",
       "                                                    body  \\\n",
       "0      [\\n\\n\\n\\n\\n\\n간편결제 시장 日평균 2500억7개 카드사 결제대행업체 설립...   \n",
       "1      [\\n쉽게 가져다 쓰는 오픈 플랫폼 전략\"온라인 결제시스템 도입 부담 덜 것\"\\n\\...   \n",
       "2      [\\n\\n\\n\\n\\n대한항공이 도입한 온라인 결제시스템인 카카오페이와 페이코 서비스...   \n",
       "3      [\\n\\n\\n\\n\\n [연합뉴스TV제공]국세청, 전국 세무관서장 회의…종합소득세 전...   \n",
       "4      [\\n\\n\\n\\n\\n카카오페이 타이틀 화면 &lt;&lt;카카오 제공&gt;&gt;...   \n",
       "...                                                  ...   \n",
       "52975  [ 1만5000원 이상 구매 시 3000원 혜택설 선물 연계 2만원 이상 구매시 5...   \n",
       "52976  [            용인청년 전세보증금 반환보증 보증료 지원사업 홍보 포스터  ...   \n",
       "52977  [            2금융권을 중심으로 서민들의 자금조달이 어려워지자 금융당국이...   \n",
       "52978  [ 금감원, 전자금융업자 수수료 공시 가이드라인 시행네이버페이, 카카오페이 10개사...   \n",
       "52979  [ 1월1일 하루, 1만5000원 이상 구매 시 3천원 혜택            파...   \n",
       "\n",
       "                                          key  \n",
       "0                              021/0002303358  \n",
       "1                              015/0003716660  \n",
       "2                              421/0002523727  \n",
       "3                              001/0008967845  \n",
       "4                              001/0008971094  \n",
       "...                                       ...  \n",
       "52975  https://v.daum.net/v/20221230105630139  \n",
       "52976  https://v.daum.net/v/20221230071650319  \n",
       "52977  https://v.daum.net/v/20221230052321943  \n",
       "52978  https://v.daum.net/v/20221228120203288  \n",
       "52979  https://v.daum.net/v/20221230091108475  \n",
       "\n",
       "[52980 rows x 4 columns]"
      ]
     },
     "execution_count": 12,
     "metadata": {},
     "output_type": "execute_result"
    }
   ],
   "source": [
    "news.drop_duplicates()"
   ]
  },
  {
   "cell_type": "code",
   "execution_count": 13,
   "metadata": {},
   "outputs": [],
   "source": [
    "idx_lst = []\n",
    "for idx, i in news.iterrows():\n",
    "    if 'sports' in i['url']:\n",
    "        pass\n",
    "    elif 'entertain' in i['url']:\n",
    "        pass\n",
    "    else:\n",
    "        idx_lst.append(idx)"
   ]
  },
  {
   "cell_type": "code",
   "execution_count": 14,
   "metadata": {},
   "outputs": [],
   "source": [
    "news = news.iloc[idx_lst].reset_index(drop=True)"
   ]
  },
  {
   "cell_type": "code",
   "execution_count": 15,
   "metadata": {},
   "outputs": [],
   "source": [
    "news.to_csv(\"../../data/news.csv\")"
   ]
  },
  {
   "cell_type": "code",
   "execution_count": 16,
   "metadata": {},
   "outputs": [],
   "source": [
    "news = pd.read_csv('../../data/news.csv', index_col=0)\n",
    "comments = pd.read_csv('../../data/news_comments_date.csv', index_col=0)"
   ]
  },
  {
   "cell_type": "code",
   "execution_count": 17,
   "metadata": {},
   "outputs": [],
   "source": [
    "comments = comments.drop_duplicates().reset_index(drop = True)"
   ]
  },
  {
   "cell_type": "code",
   "execution_count": 18,
   "metadata": {},
   "outputs": [
    {
     "data": {
      "text/html": [
       "<div>\n",
       "<style scoped>\n",
       "    .dataframe tbody tr th:only-of-type {\n",
       "        vertical-align: middle;\n",
       "    }\n",
       "\n",
       "    .dataframe tbody tr th {\n",
       "        vertical-align: top;\n",
       "    }\n",
       "\n",
       "    .dataframe thead th {\n",
       "        text-align: right;\n",
       "    }\n",
       "</style>\n",
       "<table border=\"1\" class=\"dataframe\">\n",
       "  <thead>\n",
       "    <tr style=\"text-align: right;\">\n",
       "      <th></th>\n",
       "      <th>url</th>\n",
       "      <th>title</th>\n",
       "      <th>body</th>\n",
       "      <th>key</th>\n",
       "    </tr>\n",
       "  </thead>\n",
       "  <tbody>\n",
       "    <tr>\n",
       "      <th>0</th>\n",
       "      <td>https://n.news.naver.com/mnews/article/021/000...</td>\n",
       "      <td>카드업계도…‘모바일 페이’ 수수료 전쟁 시작된다</td>\n",
       "      <td>[\\n\\n\\n\\n\\n\\n간편결제 시장 日평균 2500억7개 카드사 결제대행업체 설립...</td>\n",
       "      <td>021/0002303358</td>\n",
       "    </tr>\n",
       "    <tr>\n",
       "      <th>1</th>\n",
       "      <td>https://n.news.naver.com/mnews/article/015/000...</td>\n",
       "      <td>카카오페이도 소상공인에 '활짝'…결제 API 공개</td>\n",
       "      <td>[\\n쉽게 가져다 쓰는 오픈 플랫폼 전략\"온라인 결제시스템 도입 부담 덜 것\"\\n\\...</td>\n",
       "      <td>015/0003716660</td>\n",
       "    </tr>\n",
       "    <tr>\n",
       "      <th>2</th>\n",
       "      <td>https://n.news.naver.com/mnews/article/421/000...</td>\n",
       "      <td>대한항공, 모바일 항공권 결제에 삼성페이 도입</td>\n",
       "      <td>[\\n\\n\\n\\n\\n대한항공이 도입한 온라인 결제시스템인 카카오페이와 페이코 서비스...</td>\n",
       "      <td>421/0002523727</td>\n",
       "    </tr>\n",
       "    <tr>\n",
       "      <th>3</th>\n",
       "      <td>https://n.news.naver.com/mnews/article/001/000...</td>\n",
       "      <td>카카오페이로 세금납부 가능해진다…모바일 세금납부 확대</td>\n",
       "      <td>[\\n\\n\\n\\n\\n [연합뉴스TV제공]국세청, 전국 세무관서장 회의…종합소득세 전...</td>\n",
       "      <td>001/0008967845</td>\n",
       "    </tr>\n",
       "    <tr>\n",
       "      <th>4</th>\n",
       "      <td>https://n.news.naver.com/mnews/article/001/000...</td>\n",
       "      <td>카카오페이, 외부 업체도 자유롭게 쓰세요</td>\n",
       "      <td>[\\n\\n\\n\\n\\n카카오페이 타이틀 화면 &amp;lt;&amp;lt;카카오 제공&amp;gt;&amp;gt;...</td>\n",
       "      <td>001/0008971094</td>\n",
       "    </tr>\n",
       "    <tr>\n",
       "      <th>...</th>\n",
       "      <td>...</td>\n",
       "      <td>...</td>\n",
       "      <td>...</td>\n",
       "      <td>...</td>\n",
       "    </tr>\n",
       "    <tr>\n",
       "      <th>52805</th>\n",
       "      <td>https://v.daum.net/v/20221230105630139</td>\n",
       "      <td>파리바게뜨, 새해 1월 ‘파바데이’ 프로모션 진행</td>\n",
       "      <td>[ 1만5000원 이상 구매 시 3000원 혜택설 선물 연계 2만원 이상 구매시 5...</td>\n",
       "      <td>https://v.daum.net/v/20221230105630139</td>\n",
       "    </tr>\n",
       "    <tr>\n",
       "      <th>52806</th>\n",
       "      <td>https://v.daum.net/v/20221230071650319</td>\n",
       "      <td>용인시, 청년 전세보증금 반환보증 보증료 최대 30만원 지원</td>\n",
       "      <td>[            용인청년 전세보증금 반환보증 보증료 지원사업 홍보 포스터  ...</td>\n",
       "      <td>https://v.daum.net/v/20221230071650319</td>\n",
       "    </tr>\n",
       "    <tr>\n",
       "      <th>52807</th>\n",
       "      <td>https://v.daum.net/v/20221230052321943</td>\n",
       "      <td>2금융 대출문턱 막히자… 금융당국 유연하게 대응 당부</td>\n",
       "      <td>[            2금융권을 중심으로 서민들의 자금조달이 어려워지자 금융당국이...</td>\n",
       "      <td>https://v.daum.net/v/20221230052321943</td>\n",
       "    </tr>\n",
       "    <tr>\n",
       "      <th>52808</th>\n",
       "      <td>https://v.daum.net/v/20221228120203288</td>\n",
       "      <td>내년부터 '깜깜이' 간편결제 수수료 공시된다</td>\n",
       "      <td>[ 금감원, 전자금융업자 수수료 공시 가이드라인 시행네이버페이, 카카오페이 10개사...</td>\n",
       "      <td>https://v.daum.net/v/20221228120203288</td>\n",
       "    </tr>\n",
       "    <tr>\n",
       "      <th>52809</th>\n",
       "      <td>https://v.daum.net/v/20221230091108475</td>\n",
       "      <td>파리바게뜨, 1월1일 '파바데이'서 3000원 할인 받으세요</td>\n",
       "      <td>[ 1월1일 하루, 1만5000원 이상 구매 시 3천원 혜택            파...</td>\n",
       "      <td>https://v.daum.net/v/20221230091108475</td>\n",
       "    </tr>\n",
       "  </tbody>\n",
       "</table>\n",
       "<p>52810 rows × 4 columns</p>\n",
       "</div>"
      ],
      "text/plain": [
       "                                                     url  \\\n",
       "0      https://n.news.naver.com/mnews/article/021/000...   \n",
       "1      https://n.news.naver.com/mnews/article/015/000...   \n",
       "2      https://n.news.naver.com/mnews/article/421/000...   \n",
       "3      https://n.news.naver.com/mnews/article/001/000...   \n",
       "4      https://n.news.naver.com/mnews/article/001/000...   \n",
       "...                                                  ...   \n",
       "52805             https://v.daum.net/v/20221230105630139   \n",
       "52806             https://v.daum.net/v/20221230071650319   \n",
       "52807             https://v.daum.net/v/20221230052321943   \n",
       "52808             https://v.daum.net/v/20221228120203288   \n",
       "52809             https://v.daum.net/v/20221230091108475   \n",
       "\n",
       "                                   title  \\\n",
       "0             카드업계도…‘모바일 페이’ 수수료 전쟁 시작된다   \n",
       "1            카카오페이도 소상공인에 '활짝'…결제 API 공개   \n",
       "2              대한항공, 모바일 항공권 결제에 삼성페이 도입   \n",
       "3          카카오페이로 세금납부 가능해진다…모바일 세금납부 확대   \n",
       "4                 카카오페이, 외부 업체도 자유롭게 쓰세요   \n",
       "...                                  ...   \n",
       "52805        파리바게뜨, 새해 1월 ‘파바데이’ 프로모션 진행   \n",
       "52806  용인시, 청년 전세보증금 반환보증 보증료 최대 30만원 지원   \n",
       "52807      2금융 대출문턱 막히자… 금융당국 유연하게 대응 당부   \n",
       "52808           내년부터 '깜깜이' 간편결제 수수료 공시된다   \n",
       "52809  파리바게뜨, 1월1일 '파바데이'서 3000원 할인 받으세요   \n",
       "\n",
       "                                                    body  \\\n",
       "0      [\\n\\n\\n\\n\\n\\n간편결제 시장 日평균 2500억7개 카드사 결제대행업체 설립...   \n",
       "1      [\\n쉽게 가져다 쓰는 오픈 플랫폼 전략\"온라인 결제시스템 도입 부담 덜 것\"\\n\\...   \n",
       "2      [\\n\\n\\n\\n\\n대한항공이 도입한 온라인 결제시스템인 카카오페이와 페이코 서비스...   \n",
       "3      [\\n\\n\\n\\n\\n [연합뉴스TV제공]국세청, 전국 세무관서장 회의…종합소득세 전...   \n",
       "4      [\\n\\n\\n\\n\\n카카오페이 타이틀 화면 &lt;&lt;카카오 제공&gt;&gt;...   \n",
       "...                                                  ...   \n",
       "52805  [ 1만5000원 이상 구매 시 3000원 혜택설 선물 연계 2만원 이상 구매시 5...   \n",
       "52806  [            용인청년 전세보증금 반환보증 보증료 지원사업 홍보 포스터  ...   \n",
       "52807  [            2금융권을 중심으로 서민들의 자금조달이 어려워지자 금융당국이...   \n",
       "52808  [ 금감원, 전자금융업자 수수료 공시 가이드라인 시행네이버페이, 카카오페이 10개사...   \n",
       "52809  [ 1월1일 하루, 1만5000원 이상 구매 시 3천원 혜택            파...   \n",
       "\n",
       "                                          key  \n",
       "0                              021/0002303358  \n",
       "1                              015/0003716660  \n",
       "2                              421/0002523727  \n",
       "3                              001/0008967845  \n",
       "4                              001/0008971094  \n",
       "...                                       ...  \n",
       "52805  https://v.daum.net/v/20221230105630139  \n",
       "52806  https://v.daum.net/v/20221230071650319  \n",
       "52807  https://v.daum.net/v/20221230052321943  \n",
       "52808  https://v.daum.net/v/20221228120203288  \n",
       "52809  https://v.daum.net/v/20221230091108475  \n",
       "\n",
       "[52810 rows x 4 columns]"
      ]
     },
     "execution_count": 18,
     "metadata": {},
     "output_type": "execute_result"
    }
   ],
   "source": [
    "news"
   ]
  },
  {
   "cell_type": "code",
   "execution_count": 19,
   "metadata": {},
   "outputs": [
    {
     "data": {
      "text/html": [
       "<div>\n",
       "<style scoped>\n",
       "    .dataframe tbody tr th:only-of-type {\n",
       "        vertical-align: middle;\n",
       "    }\n",
       "\n",
       "    .dataframe tbody tr th {\n",
       "        vertical-align: top;\n",
       "    }\n",
       "\n",
       "    .dataframe thead th {\n",
       "        text-align: right;\n",
       "    }\n",
       "</style>\n",
       "<table border=\"1\" class=\"dataframe\">\n",
       "  <thead>\n",
       "    <tr style=\"text-align: right;\">\n",
       "      <th></th>\n",
       "      <th>url</th>\n",
       "      <th>text</th>\n",
       "      <th>ymd</th>\n",
       "    </tr>\n",
       "  </thead>\n",
       "  <tbody>\n",
       "    <tr>\n",
       "      <th>0</th>\n",
       "      <td>https://n.news.naver.com/mnews/article/comment...</td>\n",
       "      <td>네이버 페이보다 수수료 낮을까?</td>\n",
       "      <td>2017-01-19</td>\n",
       "    </tr>\n",
       "    <tr>\n",
       "      <th>1</th>\n",
       "      <td>https://n.news.naver.com/mnews/article/comment...</td>\n",
       "      <td>공부해야할 과목이 또 하나 늘었군.. - IT종사자 -</td>\n",
       "      <td>2017-01-19</td>\n",
       "    </tr>\n",
       "    <tr>\n",
       "      <th>2</th>\n",
       "      <td>https://n.news.naver.com/mnews/article/comment...</td>\n",
       "      <td>네이버도 정기결제, 포인트 적립 다 똑같이 되고 먼저 됐는데요.</td>\n",
       "      <td>2017-01-25</td>\n",
       "    </tr>\n",
       "    <tr>\n",
       "      <th>3</th>\n",
       "      <td>https://n.news.naver.com/mnews/article/comment...</td>\n",
       "      <td>네이버페이 좋아요.네이버페이체크카드로  교통카드 사용하면 포인트주고, 천원써도 포인...</td>\n",
       "      <td>2017-01-22</td>\n",
       "    </tr>\n",
       "    <tr>\n",
       "      <th>4</th>\n",
       "      <td>https://n.news.naver.com/mnews/article/comment...</td>\n",
       "      <td>네이버페이는 편할거라 생각해서 썼는데 포인트도 제한 교통적립 되긴되는건가?카카오페이...</td>\n",
       "      <td>2017-01-22</td>\n",
       "    </tr>\n",
       "    <tr>\n",
       "      <th>...</th>\n",
       "      <td>...</td>\n",
       "      <td>...</td>\n",
       "      <td>...</td>\n",
       "    </tr>\n",
       "    <tr>\n",
       "      <th>348844</th>\n",
       "      <td>https://v.daum.net/v/20221226050109898</td>\n",
       "      <td>네이버가  짱이지  ㅋㅋ\\n\\n올개 30만원 모임\\n\\n얌얌</td>\n",
       "      <td>2022-12-26</td>\n",
       "    </tr>\n",
       "    <tr>\n",
       "      <th>348845</th>\n",
       "      <td>https://v.daum.net/v/20221229172340151</td>\n",
       "      <td>손절한 주식은???!!!</td>\n",
       "      <td>2022-12-29</td>\n",
       "    </tr>\n",
       "    <tr>\n",
       "      <th>348846</th>\n",
       "      <td>https://v.daum.net/v/20221229172340151</td>\n",
       "      <td>배당금이나 주라</td>\n",
       "      <td>2022-12-29</td>\n",
       "    </tr>\n",
       "    <tr>\n",
       "      <th>348847</th>\n",
       "      <td>https://v.daum.net/v/20221229172340151</td>\n",
       "      <td>어제 새벽부터 카카오페이 안된다!아직도 안되는 이유가 뭐냐?</td>\n",
       "      <td>2022-12-29</td>\n",
       "    </tr>\n",
       "    <tr>\n",
       "      <th>348848</th>\n",
       "      <td>https://v.daum.net/v/20221229172340151</td>\n",
       "      <td>윤석열아\\n\\n배워라</td>\n",
       "      <td>2022-12-29</td>\n",
       "    </tr>\n",
       "  </tbody>\n",
       "</table>\n",
       "<p>348849 rows × 3 columns</p>\n",
       "</div>"
      ],
      "text/plain": [
       "                                                      url  \\\n",
       "0       https://n.news.naver.com/mnews/article/comment...   \n",
       "1       https://n.news.naver.com/mnews/article/comment...   \n",
       "2       https://n.news.naver.com/mnews/article/comment...   \n",
       "3       https://n.news.naver.com/mnews/article/comment...   \n",
       "4       https://n.news.naver.com/mnews/article/comment...   \n",
       "...                                                   ...   \n",
       "348844             https://v.daum.net/v/20221226050109898   \n",
       "348845             https://v.daum.net/v/20221229172340151   \n",
       "348846             https://v.daum.net/v/20221229172340151   \n",
       "348847             https://v.daum.net/v/20221229172340151   \n",
       "348848             https://v.daum.net/v/20221229172340151   \n",
       "\n",
       "                                                     text         ymd  \n",
       "0                                       네이버 페이보다 수수료 낮을까?  2017-01-19  \n",
       "1                          공부해야할 과목이 또 하나 늘었군.. - IT종사자 -  2017-01-19  \n",
       "2                     네이버도 정기결제, 포인트 적립 다 똑같이 되고 먼저 됐는데요.  2017-01-25  \n",
       "3       네이버페이 좋아요.네이버페이체크카드로  교통카드 사용하면 포인트주고, 천원써도 포인...  2017-01-22  \n",
       "4       네이버페이는 편할거라 생각해서 썼는데 포인트도 제한 교통적립 되긴되는건가?카카오페이...  2017-01-22  \n",
       "...                                                   ...         ...  \n",
       "348844                  네이버가  짱이지  ㅋㅋ\\n\\n올개 30만원 모임\\n\\n얌얌  2022-12-26  \n",
       "348845                                      손절한 주식은???!!!  2022-12-29  \n",
       "348846                                           배당금이나 주라  2022-12-29  \n",
       "348847                  어제 새벽부터 카카오페이 안된다!아직도 안되는 이유가 뭐냐?  2022-12-29  \n",
       "348848                                        윤석열아\\n\\n배워라  2022-12-29  \n",
       "\n",
       "[348849 rows x 3 columns]"
      ]
     },
     "execution_count": 19,
     "metadata": {},
     "output_type": "execute_result"
    }
   ],
   "source": [
    "comments"
   ]
  },
  {
   "cell_type": "code",
   "execution_count": 20,
   "metadata": {},
   "outputs": [
    {
     "data": {
      "text/plain": [
       "17.983761212496134"
      ]
     },
     "execution_count": 20,
     "metadata": {},
     "output_type": "execute_result"
    }
   ],
   "source": [
    "comments.groupby('url').size().sort_values(ascending=False).mean()"
   ]
  },
  {
   "cell_type": "code",
   "execution_count": 21,
   "metadata": {},
   "outputs": [
    {
     "data": {
      "text/plain": [
       "url\n",
       "https://v.daum.net/v/20190822101208847                                   5726\n",
       "https://n.news.naver.com/mnews/article/comment/023/0003589070?sid=100    5538\n",
       "https://v.daum.net/v/20190919131111305                                   2650\n",
       "https://n.news.naver.com/mnews/article/comment/011/0003517888?sid=100    2077\n",
       "https://v.daum.net/v/20201103100309194                                   2016\n",
       "                                                                         ... \n",
       "https://n.news.naver.com/mnews/article/comment/020/0003363931?sid=100       1\n",
       "https://n.news.naver.com/mnews/article/comment/020/0003366741?sid=100       1\n",
       "https://n.news.naver.com/mnews/article/comment/421/0005259440?sid=100       1\n",
       "https://n.news.naver.com/mnews/article/comment/020/0003368052?sid=100       1\n",
       "https://n.news.naver.com/mnews/article/comment/031/0000647997?sid=100       1\n",
       "Length: 19398, dtype: int64"
      ]
     },
     "execution_count": 21,
     "metadata": {},
     "output_type": "execute_result"
    }
   ],
   "source": [
    "comments.groupby('url').size().sort_values(ascending=False)"
   ]
  },
  {
   "cell_type": "code",
   "execution_count": 22,
   "metadata": {},
   "outputs": [
    {
     "name": "stderr",
     "output_type": "stream",
     "text": [
      "\n",
      "Bad key \"text.kerning_factor\" on line 4 in\n",
      "/home/mglee/anaconda3/envs/save/lib/python3.8/site-packages/matplotlib/mpl-data/stylelib/_classic_test_patch.mplstyle.\n",
      "You probably need to get an updated matplotlibrc file from\n",
      "https://github.com/matplotlib/matplotlib/blob/v3.1.2/matplotlibrc.template\n",
      "or from the matplotlib source distribution\n"
     ]
    },
    {
     "data": {
      "text/plain": [
       "[<matplotlib.lines.Line2D at 0x7fbb15d64af0>]"
      ]
     },
     "execution_count": 22,
     "metadata": {},
     "output_type": "execute_result"
    },
    {
     "data": {
      "image/png": "[encoded data removed]",
      "text/plain": [
       "<Figure size 640x480 with 1 Axes>"
      ]
     },
     "metadata": {},
     "output_type": "display_data"
    }
   ],
   "source": [
    "import matplotlib.pyplot as plt\n",
    "plt.plot(comments.groupby('url').size().sort_values(ascending=False).values)"
   ]
  },
  {
   "cell_type": "code",
   "execution_count": 23,
   "metadata": {},
   "outputs": [
    {
     "data": {
      "text/plain": [
       "Index(['url', 'text', 'ymd'], dtype='object')"
      ]
     },
     "execution_count": 23,
     "metadata": {},
     "output_type": "execute_result"
    }
   ],
   "source": [
    "comments.columns"
   ]
  },
  {
   "cell_type": "code",
   "execution_count": 27,
   "metadata": {},
   "outputs": [
    {
     "data": {
      "text/plain": [
       "[<matplotlib.lines.Line2D at 0x7fbb1361c4f0>]"
      ]
     },
     "execution_count": 27,
     "metadata": {},
     "output_type": "execute_result"
    },
    {
     "data": {
      "image/png": "[encoded data removed]",
      "text/plain": [
       "<Figure size 640x480 with 1 Axes>"
      ]
     },
     "metadata": {},
     "output_type": "display_data"
    }
   ],
   "source": [
    "plt.plot(comments.groupby('ymd').size())"
   ]
  }
 ],
 "metadata": {
  "kernelspec": {
   "display_name": "save_ML",
   "language": "python",
   "name": "save"
  },
  "language_info": {
   "codemirror_mode": {
    "name": "ipython",
    "version": 3
   },
   "file_extension": ".py",
   "mimetype": "text/x-python",
   "name": "python",
   "nbconvert_exporter": "python",
   "pygments_lexer": "ipython3",
   "version": "3.8.15"
  },
  "orig_nbformat": 4
 },
 "nbformat": 4,
 "nbformat_minor": 2
}
