{
 "cells": [
  {
   "cell_type": "code",
   "execution_count": 1,
   "metadata": {},
   "outputs": [],
   "source": [
    "import pandas as pd "
   ]
  },
  {
   "cell_type": "code",
   "execution_count": 2,
   "metadata": {},
   "outputs": [],
   "source": [
    "naver_comments = pd.read_csv(\"../data/KP_naver_comments_monthlyTop4000.csv\")\n",
    "daum_comments = pd.read_csv(\"../data/KP_daum_comments_monthlyTop800.csv\")"
   ]
  },
  {
   "cell_type": "code",
   "execution_count": 3,
   "metadata": {},
   "outputs": [],
   "source": [
    "naver_comment_UT = naver_comments[['url', 'text']]\n",
    "daum_comment_UT = daum_comments[['org_url', 'content']]\n",
    "\n",
    "daum_comment_UT.columns = ['url', 'text']"
   ]
  },
  {
   "cell_type": "code",
   "execution_count": 4,
   "metadata": {},
   "outputs": [],
   "source": [
    "news_comments = pd.concat([naver_comment_UT, daum_comment_UT])"
   ]
  },
  {
   "cell_type": "code",
   "execution_count": 5,
   "metadata": {},
   "outputs": [
    {
     "data": {
      "text/html": [
       "<div>\n",
       "<style scoped>\n",
       "    .dataframe tbody tr th:only-of-type {\n",
       "        vertical-align: middle;\n",
       "    }\n",
       "\n",
       "    .dataframe tbody tr th {\n",
       "        vertical-align: top;\n",
       "    }\n",
       "\n",
       "    .dataframe thead th {\n",
       "        text-align: right;\n",
       "    }\n",
       "</style>\n",
       "<table border=\"1\" class=\"dataframe\">\n",
       "  <thead>\n",
       "    <tr style=\"text-align: right;\">\n",
       "      <th></th>\n",
       "      <th>url</th>\n",
       "      <th>text</th>\n",
       "    </tr>\n",
       "  </thead>\n",
       "  <tbody>\n",
       "    <tr>\n",
       "      <th>0</th>\n",
       "      <td>https://n.news.naver.com/mnews/article/comment...</td>\n",
       "      <td>네이버 페이보다 수수료 낮을까?</td>\n",
       "    </tr>\n",
       "    <tr>\n",
       "      <th>1</th>\n",
       "      <td>https://n.news.naver.com/mnews/article/comment...</td>\n",
       "      <td>공부해야할 과목이 또 하나 늘었군.. - IT종사자 -</td>\n",
       "    </tr>\n",
       "    <tr>\n",
       "      <th>2</th>\n",
       "      <td>https://n.news.naver.com/mnews/article/comment...</td>\n",
       "      <td>네이버도 정기결제, 포인트 적립 다 똑같이 되고 먼저 됐는데요.</td>\n",
       "    </tr>\n",
       "    <tr>\n",
       "      <th>3</th>\n",
       "      <td>https://n.news.naver.com/mnews/article/comment...</td>\n",
       "      <td>네이버페이 좋아요.네이버페이체크카드로  교통카드 사용하면 포인트주고, 천원써도 포인...</td>\n",
       "    </tr>\n",
       "    <tr>\n",
       "      <th>4</th>\n",
       "      <td>https://n.news.naver.com/mnews/article/comment...</td>\n",
       "      <td>네이버페이는 편할거라 생각해서 썼는데 포인트도 제한 교통적립 되긴되는건가?카카오페이...</td>\n",
       "    </tr>\n",
       "    <tr>\n",
       "      <th>...</th>\n",
       "      <td>...</td>\n",
       "      <td>...</td>\n",
       "    </tr>\n",
       "    <tr>\n",
       "      <th>71387</th>\n",
       "      <td>https://v.daum.net/v/20221226050109898</td>\n",
       "      <td>네이버가  짱이지  ㅋㅋ\\n\\n올개 30만원 모임\\n\\n얌얌</td>\n",
       "    </tr>\n",
       "    <tr>\n",
       "      <th>71388</th>\n",
       "      <td>https://v.daum.net/v/20221229172340151</td>\n",
       "      <td>손절한 주식은???!!!</td>\n",
       "    </tr>\n",
       "    <tr>\n",
       "      <th>71389</th>\n",
       "      <td>https://v.daum.net/v/20221229172340151</td>\n",
       "      <td>배당금이나 주라</td>\n",
       "    </tr>\n",
       "    <tr>\n",
       "      <th>71390</th>\n",
       "      <td>https://v.daum.net/v/20221229172340151</td>\n",
       "      <td>어제 새벽부터 카카오페이 안된다!아직도 안되는 이유가 뭐냐?</td>\n",
       "    </tr>\n",
       "    <tr>\n",
       "      <th>71391</th>\n",
       "      <td>https://v.daum.net/v/20221229172340151</td>\n",
       "      <td>윤석열아\\n\\n배워라</td>\n",
       "    </tr>\n",
       "  </tbody>\n",
       "</table>\n",
       "<p>411989 rows × 2 columns</p>\n",
       "</div>"
      ],
      "text/plain": [
       "                                                     url  \\\n",
       "0      https://n.news.naver.com/mnews/article/comment...   \n",
       "1      https://n.news.naver.com/mnews/article/comment...   \n",
       "2      https://n.news.naver.com/mnews/article/comment...   \n",
       "3      https://n.news.naver.com/mnews/article/comment...   \n",
       "4      https://n.news.naver.com/mnews/article/comment...   \n",
       "...                                                  ...   \n",
       "71387             https://v.daum.net/v/20221226050109898   \n",
       "71388             https://v.daum.net/v/20221229172340151   \n",
       "71389             https://v.daum.net/v/20221229172340151   \n",
       "71390             https://v.daum.net/v/20221229172340151   \n",
       "71391             https://v.daum.net/v/20221229172340151   \n",
       "\n",
       "                                                    text  \n",
       "0                                      네이버 페이보다 수수료 낮을까?  \n",
       "1                         공부해야할 과목이 또 하나 늘었군.. - IT종사자 -  \n",
       "2                    네이버도 정기결제, 포인트 적립 다 똑같이 되고 먼저 됐는데요.  \n",
       "3      네이버페이 좋아요.네이버페이체크카드로  교통카드 사용하면 포인트주고, 천원써도 포인...  \n",
       "4      네이버페이는 편할거라 생각해서 썼는데 포인트도 제한 교통적립 되긴되는건가?카카오페이...  \n",
       "...                                                  ...  \n",
       "71387                  네이버가  짱이지  ㅋㅋ\\n\\n올개 30만원 모임\\n\\n얌얌  \n",
       "71388                                      손절한 주식은???!!!  \n",
       "71389                                           배당금이나 주라  \n",
       "71390                  어제 새벽부터 카카오페이 안된다!아직도 안되는 이유가 뭐냐?  \n",
       "71391                                        윤석열아\\n\\n배워라  \n",
       "\n",
       "[411989 rows x 2 columns]"
      ]
     },
     "execution_count": 5,
     "metadata": {},
     "output_type": "execute_result"
    }
   ],
   "source": [
    "news_comments"
   ]
  },
  {
   "cell_type": "code",
   "execution_count": 6,
   "metadata": {},
   "outputs": [
    {
     "name": "stderr",
     "output_type": "stream",
     "text": [
      "2023-02-21 13:22:48.177579: I tensorflow/stream_executor/platform/default/dso_loader.cc:49] Successfully opened dynamic library libcudart.so.11.0\n"
     ]
    },
    {
     "name": "stdout",
     "output_type": "stream",
     "text": [
      "device : cuda:0\n",
      "using cached model. /home/mglee/VSCODE/git_folder/KakaoPay_ESG/code/.cache/kobert_v1.zip\n",
      "using cached model. /home/mglee/VSCODE/git_folder/KakaoPay_ESG/code/.cache/kobert_news_wiki_ko_cased-1087f8699e.spiece\n",
      "using cached model. /home/mglee/VSCODE/git_folder/KakaoPay_ESG/code/.cache/kobert_news_wiki_ko_cased-1087f8699e.spiece\n"
     ]
    }
   ],
   "source": [
    "import comments_sentiment as senti"
   ]
  },
  {
   "cell_type": "code",
   "execution_count": 7,
   "metadata": {},
   "outputs": [
    {
     "name": "stdout",
     "output_type": "stream",
     "text": [
      "BERT dataset creating......\n",
      "BERT Classifier Start......\n"
     ]
    },
    {
     "name": "stderr",
     "output_type": "stream",
     "text": [
      "100%|██████████| 3219/3219 [03:43<00:00, 14.43it/s]\n"
     ]
    },
    {
     "name": "stdout",
     "output_type": "stream",
     "text": [
      "Predicting......\n"
     ]
    }
   ],
   "source": [
    "news_comments['senti'] = senti.main(news_comments['text'])"
   ]
  },
  {
   "cell_type": "code",
   "execution_count": 18,
   "metadata": {},
   "outputs": [],
   "source": [
    "pos_comm = news_comments[news_comments['senti'] == 1]\n",
    "neg_comm = news_comments[news_comments['senti'] == 0]"
   ]
  },
  {
   "cell_type": "code",
   "execution_count": 19,
   "metadata": {},
   "outputs": [],
   "source": [
    "from konlpy.tag import Okt"
   ]
  },
  {
   "cell_type": "code",
   "execution_count": 20,
   "metadata": {},
   "outputs": [],
   "source": [
    "okt = Okt()"
   ]
  },
  {
   "cell_type": "code",
   "execution_count": 25,
   "metadata": {},
   "outputs": [],
   "source": [
    "def tokenizing(x):\n",
    "    x = str(x)\n",
    "    if len(x) <  1000:\n",
    "        return okt.nouns(x)\n",
    "    else:\n",
    "        return ['Too Long']"
   ]
  },
  {
   "cell_type": "code",
   "execution_count": 26,
   "metadata": {},
   "outputs": [
    {
     "name": "stderr",
     "output_type": "stream",
     "text": [
      "/tmp/ipykernel_24547/2529415391.py:1: SettingWithCopyWarning: \n",
      "A value is trying to be set on a copy of a slice from a DataFrame.\n",
      "Try using .loc[row_indexer,col_indexer] = value instead\n",
      "\n",
      "See the caveats in the documentation: https://pandas.pydata.org/pandas-docs/stable/user_guide/indexing.html#returning-a-view-versus-a-copy\n",
      "  pos_comm['token'] = pos_comm['text'].apply(lambda x : tokenizing(x))\n",
      "/tmp/ipykernel_24547/2529415391.py:2: SettingWithCopyWarning: \n",
      "A value is trying to be set on a copy of a slice from a DataFrame.\n",
      "Try using .loc[row_indexer,col_indexer] = value instead\n",
      "\n",
      "See the caveats in the documentation: https://pandas.pydata.org/pandas-docs/stable/user_guide/indexing.html#returning-a-view-versus-a-copy\n",
      "  neg_comm['token'] = neg_comm['text'].apply(lambda x : tokenizing(x))\n"
     ]
    }
   ],
   "source": [
    "pos_comm['token'] = pos_comm['text'].apply(lambda x : tokenizing(x))\n",
    "neg_comm['token'] = neg_comm['text'].apply(lambda x : tokenizing(x))"
   ]
  },
  {
   "cell_type": "code",
   "execution_count": 28,
   "metadata": {},
   "outputs": [],
   "source": [
    "pos_comm.to_csv(\"../data/positive_comments.csv\")\n",
    "neg_comm.to_csv(\"../data/negative_comments.csv\")"
   ]
  },
  {
   "cell_type": "code",
   "execution_count": 2,
   "metadata": {},
   "outputs": [],
   "source": [
    "import pandas as pd \n",
    "\n",
    "pos_comm = pd.read_csv(\"../data/positive_comments.csv\")\n",
    "neg_comm = pd.read_csv(\"../data/negative_comments.csv\")"
   ]
  },
  {
   "cell_type": "code",
   "execution_count": 34,
   "metadata": {},
   "outputs": [],
   "source": [
    "from collections import Counter"
   ]
  },
  {
   "cell_type": "code",
   "execution_count": 37,
   "metadata": {},
   "outputs": [],
   "source": [
    "pos_counter = Counter()\n",
    "for item in pos_comm['token']:\n",
    "    pos_counter.update(item)"
   ]
  },
  {
   "cell_type": "code",
   "execution_count": 38,
   "metadata": {},
   "outputs": [],
   "source": [
    "neg_counter = Counter()\n",
    "for item in neg_comm['token']:\n",
    "    neg_counter.update(item)"
   ]
  },
  {
   "cell_type": "code",
   "execution_count": 54,
   "metadata": {},
   "outputs": [],
   "source": [
    "pos_df = []\n",
    "for item in zip(pos_counter.keys(), pos_counter.values()):\n",
    "    pos_df.append(item)\n",
    "pos_df = pd.DataFrame(pos_df)"
   ]
  },
  {
   "cell_type": "code",
   "execution_count": 55,
   "metadata": {},
   "outputs": [],
   "source": [
    "neg_df = []\n",
    "for item in zip(neg_counter.keys(), neg_counter.values()):\n",
    "    neg_df.append(item)\n",
    "neg_df = pd.DataFrame(neg_df)"
   ]
  },
  {
   "cell_type": "code",
   "execution_count": 66,
   "metadata": {},
   "outputs": [],
   "source": [
    "merge_df = pd.merge(pos_df[pos_df[1] > 10 ], neg_df[neg_df[1] > 10 ], how = 'outer', on = 0)"
   ]
  },
  {
   "cell_type": "code",
   "execution_count": 70,
   "metadata": {},
   "outputs": [],
   "source": [
    "merge_df['1_y'] = merge_df['1_y'].apply(lambda x : x+1)"
   ]
  },
  {
   "cell_type": "code",
   "execution_count": 73,
   "metadata": {},
   "outputs": [],
   "source": [
    "merge_df['ratio'] = merge_df['1_x'] / merge_df['1_y']"
   ]
  },
  {
   "cell_type": "code",
   "execution_count": 78,
   "metadata": {},
   "outputs": [],
   "source": [
    "merge_df = merge_df.sort_values('ratio', ascending=False)"
   ]
  },
  {
   "cell_type": "code",
   "execution_count": 84,
   "metadata": {},
   "outputs": [],
   "source": [
    "merge_df.head(300).to_csv(\"../result/KP_pos_neg_ratio.csv\")"
   ]
  },
  {
   "cell_type": "code",
   "execution_count": 99,
   "metadata": {},
   "outputs": [],
   "source": [
    "idx_lst = []\n",
    "for idx, item in enumerate(pos_comm['token']):\n",
    "    if '베리칩' in item:\n",
    "        idx_lst.append(idx)"
   ]
  },
  {
   "cell_type": "code",
   "execution_count": 100,
   "metadata": {},
   "outputs": [
    {
     "data": {
      "text/html": [
       "<div>\n",
       "<style scoped>\n",
       "    .dataframe tbody tr th:only-of-type {\n",
       "        vertical-align: middle;\n",
       "    }\n",
       "\n",
       "    .dataframe tbody tr th {\n",
       "        vertical-align: top;\n",
       "    }\n",
       "\n",
       "    .dataframe thead th {\n",
       "        text-align: right;\n",
       "    }\n",
       "</style>\n",
       "<table border=\"1\" class=\"dataframe\">\n",
       "  <thead>\n",
       "    <tr style=\"text-align: right;\">\n",
       "      <th></th>\n",
       "      <th>url</th>\n",
       "      <th>text</th>\n",
       "      <th>senti</th>\n",
       "      <th>token</th>\n",
       "    </tr>\n",
       "  </thead>\n",
       "  <tbody>\n",
       "    <tr>\n",
       "      <th>7363</th>\n",
       "      <td>https://n.news.naver.com/mnews/article/comment...</td>\n",
       "      <td>다음은 설마 베리칩? 에이</td>\n",
       "      <td>1</td>\n",
       "      <td>[다음, 설마, 베리칩, 에이]</td>\n",
       "    </tr>\n",
       "    <tr>\n",
       "      <th>7903</th>\n",
       "      <td>https://n.news.naver.com/mnews/article/comment...</td>\n",
       "      <td>다음은 설마 베리칩? 에이</td>\n",
       "      <td>1</td>\n",
       "      <td>[다음, 설마, 베리칩, 에이]</td>\n",
       "    </tr>\n",
       "    <tr>\n",
       "      <th>9133</th>\n",
       "      <td>https://n.news.naver.com/mnews/article/comment...</td>\n",
       "      <td>다음은 설마 베리칩? 에이</td>\n",
       "      <td>1</td>\n",
       "      <td>[다음, 설마, 베리칩, 에이]</td>\n",
       "    </tr>\n",
       "    <tr>\n",
       "      <th>20727</th>\n",
       "      <td>https://n.news.naver.com/mnews/article/comment...</td>\n",
       "      <td>여러분 편하고 좋은것같지만 마냥 좋은것이아닙니다 666표가 대중화되기위한 전 밑밥작...</td>\n",
       "      <td>1</td>\n",
       "      <td>[여러분, 것, 마냥, 것, 표, 대중화, 위, 전, 밑밥, 작업, 일, 사람, 은...</td>\n",
       "    </tr>\n",
       "    <tr>\n",
       "      <th>20739</th>\n",
       "      <td>https://n.news.naver.com/mnews/article/comment...</td>\n",
       "      <td>현금을 써야 되요... 베리칩 이라고 들어 보셨습니까?</td>\n",
       "      <td>1</td>\n",
       "      <td>[현금, 베리칩]</td>\n",
       "    </tr>\n",
       "    <tr>\n",
       "      <th>58184</th>\n",
       "      <td>https://n.news.naver.com/mnews/article/comment...</td>\n",
       "      <td>왜?  베리칩 심게 ?  미리 말해두는데 베리칩은 반대다.</td>\n",
       "      <td>1</td>\n",
       "      <td>[왜, 베리칩, 미리, 말, 베리칩, 반대]</td>\n",
       "    </tr>\n",
       "    <tr>\n",
       "      <th>58208</th>\n",
       "      <td>https://n.news.naver.com/mnews/article/comment...</td>\n",
       "      <td>왜?  베리칩 심게 ?  미리 말해두는데 베리칩은 반대다.</td>\n",
       "      <td>1</td>\n",
       "      <td>[왜, 베리칩, 미리, 말, 베리칩, 반대]</td>\n",
       "    </tr>\n",
       "    <tr>\n",
       "      <th>59207</th>\n",
       "      <td>https://n.news.naver.com/mnews/article/comment...</td>\n",
       "      <td>유튜브 - 일루미나티 빌게이츠 베리칩 - 그들의 계획 - 모두 보기를..</td>\n",
       "      <td>1</td>\n",
       "      <td>[유튜브, 일루미나티, 빌게이츠, 베리칩, 그, 계획, 모두, 보기]</td>\n",
       "    </tr>\n",
       "    <tr>\n",
       "      <th>59537</th>\n",
       "      <td>https://n.news.naver.com/mnews/article/comment...</td>\n",
       "      <td>조만간 베리칩 나온다는 소리하겠넹</td>\n",
       "      <td>1</td>\n",
       "      <td>[조만간, 베리칩, 소리, 넹]</td>\n",
       "    </tr>\n",
       "    <tr>\n",
       "      <th>59595</th>\n",
       "      <td>https://n.news.naver.com/mnews/article/comment...</td>\n",
       "      <td>이러면서 슬슬 베리칩이 등장하지</td>\n",
       "      <td>1</td>\n",
       "      <td>[슬슬, 베리칩, 등장]</td>\n",
       "    </tr>\n",
       "    <tr>\n",
       "      <th>59944</th>\n",
       "      <td>https://n.news.naver.com/mnews/article/comment...</td>\n",
       "      <td>베리칩으로 가기위한 과정임</td>\n",
       "      <td>1</td>\n",
       "      <td>[베리칩, 가기, 위, 과정, 임]</td>\n",
       "    </tr>\n",
       "    <tr>\n",
       "      <th>65034</th>\n",
       "      <td>https://n.news.naver.com/mnews/article/comment...</td>\n",
       "      <td>코로나 백신 무료예방접종 = 베리칩</td>\n",
       "      <td>1</td>\n",
       "      <td>[코로나, 백신, 무료, 예방접종, 베리칩]</td>\n",
       "    </tr>\n",
       "    <tr>\n",
       "      <th>65783</th>\n",
       "      <td>https://n.news.naver.com/mnews/article/comment...</td>\n",
       "      <td>메인드인 중공산 QR코드 전국민통제 시스템, 왜? 좌파구리는 다 계획이 있었지? 민...</td>\n",
       "      <td>1</td>\n",
       "      <td>[메인드, 중공, 산, 코드, 국민, 통제, 시스템, 왜, 좌파, 계획, 민심, 장...</td>\n",
       "    </tr>\n",
       "    <tr>\n",
       "      <th>71661</th>\n",
       "      <td>https://n.news.naver.com/mnews/article/comment...</td>\n",
       "      <td>손목이나 머리에 베리칩 심고 스스로 매매 스캔하기 위한 세뇌시키는 중간단계라고 본다...</td>\n",
       "      <td>1</td>\n",
       "      <td>[손목, 머리, 베리칩, 스스로, 매매, 스캔, 위, 세뇌, 중간, 단계, 절대로,...</td>\n",
       "    </tr>\n",
       "    <tr>\n",
       "      <th>85725</th>\n",
       "      <td>https://n.news.naver.com/mnews/article/comment...</td>\n",
       "      <td>이제 공산당 되가는 과정아니냐? 베리칩</td>\n",
       "      <td>1</td>\n",
       "      <td>[이제, 공산당, 과정, 베리칩]</td>\n",
       "    </tr>\n",
       "    <tr>\n",
       "      <th>310036</th>\n",
       "      <td>https://n.news.naver.com/mnews/article/comment...</td>\n",
       "      <td>디지털ID, 베리칩으로 가겠네</td>\n",
       "      <td>1</td>\n",
       "      <td>[디지털, 베리칩]</td>\n",
       "    </tr>\n",
       "    <tr>\n",
       "      <th>1087</th>\n",
       "      <td>https://v.daum.net/v/20180323033633360</td>\n",
       "      <td>베리칩 전단계</td>\n",
       "      <td>1</td>\n",
       "      <td>[베리칩, 단계]</td>\n",
       "    </tr>\n",
       "    <tr>\n",
       "      <th>37099</th>\n",
       "      <td>https://v.daum.net/v/20200622102759093</td>\n",
       "      <td>다음엔 생체베리칩??</td>\n",
       "      <td>1</td>\n",
       "      <td>[다음, 생체, 베리칩]</td>\n",
       "    </tr>\n",
       "    <tr>\n",
       "      <th>42943</th>\n",
       "      <td>https://v.daum.net/v/20201115212350150</td>\n",
       "      <td>베리칩이 대안이다.</td>\n",
       "      <td>1</td>\n",
       "      <td>[베리칩, 대안]</td>\n",
       "    </tr>\n",
       "  </tbody>\n",
       "</table>\n",
       "</div>"
      ],
      "text/plain": [
       "                                                      url  \\\n",
       "7363    https://n.news.naver.com/mnews/article/comment...   \n",
       "7903    https://n.news.naver.com/mnews/article/comment...   \n",
       "9133    https://n.news.naver.com/mnews/article/comment...   \n",
       "20727   https://n.news.naver.com/mnews/article/comment...   \n",
       "20739   https://n.news.naver.com/mnews/article/comment...   \n",
       "58184   https://n.news.naver.com/mnews/article/comment...   \n",
       "58208   https://n.news.naver.com/mnews/article/comment...   \n",
       "59207   https://n.news.naver.com/mnews/article/comment...   \n",
       "59537   https://n.news.naver.com/mnews/article/comment...   \n",
       "59595   https://n.news.naver.com/mnews/article/comment...   \n",
       "59944   https://n.news.naver.com/mnews/article/comment...   \n",
       "65034   https://n.news.naver.com/mnews/article/comment...   \n",
       "65783   https://n.news.naver.com/mnews/article/comment...   \n",
       "71661   https://n.news.naver.com/mnews/article/comment...   \n",
       "85725   https://n.news.naver.com/mnews/article/comment...   \n",
       "310036  https://n.news.naver.com/mnews/article/comment...   \n",
       "1087               https://v.daum.net/v/20180323033633360   \n",
       "37099              https://v.daum.net/v/20200622102759093   \n",
       "42943              https://v.daum.net/v/20201115212350150   \n",
       "\n",
       "                                                     text  senti  \\\n",
       "7363                                       다음은 설마 베리칩? 에이      1   \n",
       "7903                                       다음은 설마 베리칩? 에이      1   \n",
       "9133                                       다음은 설마 베리칩? 에이      1   \n",
       "20727   여러분 편하고 좋은것같지만 마냥 좋은것이아닙니다 666표가 대중화되기위한 전 밑밥작...      1   \n",
       "20739                      현금을 써야 되요... 베리칩 이라고 들어 보셨습니까?      1   \n",
       "58184                    왜?  베리칩 심게 ?  미리 말해두는데 베리칩은 반대다.      1   \n",
       "58208                    왜?  베리칩 심게 ?  미리 말해두는데 베리칩은 반대다.      1   \n",
       "59207            유튜브 - 일루미나티 빌게이츠 베리칩 - 그들의 계획 - 모두 보기를..      1   \n",
       "59537                                  조만간 베리칩 나온다는 소리하겠넹      1   \n",
       "59595                                   이러면서 슬슬 베리칩이 등장하지      1   \n",
       "59944                                      베리칩으로 가기위한 과정임      1   \n",
       "65034                                 코로나 백신 무료예방접종 = 베리칩      1   \n",
       "65783   메인드인 중공산 QR코드 전국민통제 시스템, 왜? 좌파구리는 다 계획이 있었지? 민...      1   \n",
       "71661   손목이나 머리에 베리칩 심고 스스로 매매 스캔하기 위한 세뇌시키는 중간단계라고 본다...      1   \n",
       "85725                               이제 공산당 되가는 과정아니냐? 베리칩      1   \n",
       "310036                                   디지털ID, 베리칩으로 가겠네      1   \n",
       "1087                                              베리칩 전단계      1   \n",
       "37099                                         다음엔 생체베리칩??      1   \n",
       "42943                                          베리칩이 대안이다.      1   \n",
       "\n",
       "                                                    token  \n",
       "7363                                    [다음, 설마, 베리칩, 에이]  \n",
       "7903                                    [다음, 설마, 베리칩, 에이]  \n",
       "9133                                    [다음, 설마, 베리칩, 에이]  \n",
       "20727   [여러분, 것, 마냥, 것, 표, 대중화, 위, 전, 밑밥, 작업, 일, 사람, 은...  \n",
       "20739                                           [현금, 베리칩]  \n",
       "58184                            [왜, 베리칩, 미리, 말, 베리칩, 반대]  \n",
       "58208                            [왜, 베리칩, 미리, 말, 베리칩, 반대]  \n",
       "59207              [유튜브, 일루미나티, 빌게이츠, 베리칩, 그, 계획, 모두, 보기]  \n",
       "59537                                   [조만간, 베리칩, 소리, 넹]  \n",
       "59595                                       [슬슬, 베리칩, 등장]  \n",
       "59944                                 [베리칩, 가기, 위, 과정, 임]  \n",
       "65034                            [코로나, 백신, 무료, 예방접종, 베리칩]  \n",
       "65783   [메인드, 중공, 산, 코드, 국민, 통제, 시스템, 왜, 좌파, 계획, 민심, 장...  \n",
       "71661   [손목, 머리, 베리칩, 스스로, 매매, 스캔, 위, 세뇌, 중간, 단계, 절대로,...  \n",
       "85725                                  [이제, 공산당, 과정, 베리칩]  \n",
       "310036                                         [디지털, 베리칩]  \n",
       "1087                                            [베리칩, 단계]  \n",
       "37099                                       [다음, 생체, 베리칩]  \n",
       "42943                                           [베리칩, 대안]  "
      ]
     },
     "execution_count": 100,
     "metadata": {},
     "output_type": "execute_result"
    }
   ],
   "source": [
    "pos_comm.iloc[idx_lst,:]"
   ]
  },
  {
   "attachments": {},
   "cell_type": "markdown",
   "metadata": {},
   "source": [
    "### 결론\n",
    "\n",
    "의미 없음"
   ]
  },
  {
   "attachments": {},
   "cell_type": "markdown",
   "metadata": {},
   "source": [
    "그렇다면 ESG 댓글과의 차이를 볼 수는 있나?"
   ]
  },
  {
   "cell_type": "code",
   "execution_count": 6,
   "metadata": {},
   "outputs": [],
   "source": [
    "# pos_comm = pd.read_csv(\"../data/positive_comments.csv\")\n",
    "# neg_comm = pd.read_csv(\"../data/negative_comments.csv\")"
   ]
  },
  {
   "cell_type": "code",
   "execution_count": 2,
   "metadata": {},
   "outputs": [],
   "source": [
    "import pandas as pd\n",
    "pos = pd.read_csv(\"../data/positive_comments.csv\")\n",
    "neg = pd.read_csv(\"../data/negative_comments.csv\")"
   ]
  },
  {
   "cell_type": "code",
   "execution_count": 4,
   "metadata": {},
   "outputs": [
    {
     "name": "stdout",
     "output_type": "stream",
     "text": [
      "71381 340608\n"
     ]
    }
   ],
   "source": [
    "print(pos.shape[0], neg.shape[0])"
   ]
  },
  {
   "cell_type": "code",
   "execution_count": 2,
   "metadata": {},
   "outputs": [
    {
     "data": {
      "text/html": [
       "<div>\n",
       "<style scoped>\n",
       "    .dataframe tbody tr th:only-of-type {\n",
       "        vertical-align: middle;\n",
       "    }\n",
       "\n",
       "    .dataframe tbody tr th {\n",
       "        vertical-align: top;\n",
       "    }\n",
       "\n",
       "    .dataframe thead th {\n",
       "        text-align: right;\n",
       "    }\n",
       "</style>\n",
       "<table border=\"1\" class=\"dataframe\">\n",
       "  <thead>\n",
       "    <tr style=\"text-align: right;\">\n",
       "      <th></th>\n",
       "      <th>pos</th>\n",
       "      <th>neg</th>\n",
       "    </tr>\n",
       "  </thead>\n",
       "  <tbody>\n",
       "    <tr>\n",
       "      <th>total</th>\n",
       "      <td>22444</td>\n",
       "      <td>389545</td>\n",
       "    </tr>\n",
       "    <tr>\n",
       "      <th>esg</th>\n",
       "      <td>29</td>\n",
       "      <td>364</td>\n",
       "    </tr>\n",
       "  </tbody>\n",
       "</table>\n",
       "</div>"
      ],
      "text/plain": [
       "         pos     neg\n",
       "total  22444  389545\n",
       "esg       29     364"
      ]
     },
     "execution_count": 2,
     "metadata": {},
     "output_type": "execute_result"
    }
   ],
   "source": [
    "import pandas as pd\n",
    "total, esg = [22444, 389545], [29, 364]\n",
    "x = pd.DataFrame([total, esg], columns=['pos', 'neg'], index = ['total', 'esg'])\n",
    "x"
   ]
  },
  {
   "cell_type": "code",
   "execution_count": 3,
   "metadata": {},
   "outputs": [
    {
     "name": "stdout",
     "output_type": "stream",
     "text": [
      "Test Statistic: 2.4800460054648914\n",
      "p-value: 0.11529888024620341\n",
      "Degree of Freedom: 1\n",
      "[[2.24515832e+04 3.89537417e+05]\n",
      " [2.14167665e+01 3.71583234e+02]]\n"
     ]
    }
   ],
   "source": [
    "from scipy.stats import chi2_contingency\n",
    "chi2, p, dof, expected = chi2_contingency([total,esg])\n",
    "\n",
    "msg = 'Test Statistic: {}\\np-value: {}\\nDegree of Freedom: {}'\n",
    "print(msg.format(chi2, p, dof))\n",
    "print(expected)"
   ]
  },
  {
   "cell_type": "code",
   "execution_count": 8,
   "metadata": {},
   "outputs": [
    {
     "data": {
      "text/plain": [
       "0.20956935832393836"
      ]
     },
     "execution_count": 8,
     "metadata": {},
     "output_type": "execute_result"
    }
   ],
   "source": [
    "pos_comm.shape[0] / neg_comm.shape[0]"
   ]
  },
  {
   "cell_type": "code",
   "execution_count": 6,
   "metadata": {},
   "outputs": [],
   "source": [
    "esg_comments = pd.read_csv(\"../data/ESG_split/comments_by_esg.csv\")"
   ]
  },
  {
   "cell_type": "code",
   "execution_count": 8,
   "metadata": {},
   "outputs": [
    {
     "name": "stderr",
     "output_type": "stream",
     "text": [
      "2023-02-22 16:37:20.954038: I tensorflow/stream_executor/platform/default/dso_loader.cc:49] Successfully opened dynamic library libcudart.so.11.0\n"
     ]
    },
    {
     "name": "stdout",
     "output_type": "stream",
     "text": [
      "device : cuda:0\n",
      "using cached model. /home/mglee/VSCODE/git_folder/KakaoPay_ESG/code/.cache/kobert_v1.zip\n",
      "using cached model. /home/mglee/VSCODE/git_folder/KakaoPay_ESG/code/.cache/kobert_news_wiki_ko_cased-1087f8699e.spiece\n",
      "using cached model. /home/mglee/VSCODE/git_folder/KakaoPay_ESG/code/.cache/kobert_news_wiki_ko_cased-1087f8699e.spiece\n",
      "BERT dataset creating......\n",
      "BERT Classifier Start......\n"
     ]
    },
    {
     "name": "stderr",
     "output_type": "stream",
     "text": [
      "100%|██████████| 4/4 [00:01<00:00,  2.78it/s]"
     ]
    },
    {
     "name": "stdout",
     "output_type": "stream",
     "text": [
      "Predicting......\n"
     ]
    },
    {
     "name": "stderr",
     "output_type": "stream",
     "text": [
      "\n"
     ]
    }
   ],
   "source": [
    "import comments_sentiment as senti\n",
    "\n",
    "esg_comments['senti'] = senti.main(esg_comments['text'])"
   ]
  },
  {
   "cell_type": "code",
   "execution_count": 17,
   "metadata": {},
   "outputs": [
    {
     "data": {
      "text/plain": [
       "0.2204968944099379"
      ]
     },
     "execution_count": 17,
     "metadata": {},
     "output_type": "execute_result"
    }
   ],
   "source": [
    "sum(esg_comments['senti'] == 1) / sum(esg_comments['senti'] == 0)"
   ]
  },
  {
   "attachments": {},
   "cell_type": "markdown",
   "metadata": {},
   "source": [
    "이것도 의미 없음..."
   ]
  },
  {
   "cell_type": "code",
   "execution_count": 42,
   "metadata": {},
   "outputs": [
    {
     "data": {
      "text/html": [
       "<div>\n",
       "<style scoped>\n",
       "    .dataframe tbody tr th:only-of-type {\n",
       "        vertical-align: middle;\n",
       "    }\n",
       "\n",
       "    .dataframe tbody tr th {\n",
       "        vertical-align: top;\n",
       "    }\n",
       "\n",
       "    .dataframe thead th {\n",
       "        text-align: right;\n",
       "    }\n",
       "</style>\n",
       "<table border=\"1\" class=\"dataframe\">\n",
       "  <thead>\n",
       "    <tr style=\"text-align: right;\">\n",
       "      <th></th>\n",
       "      <th>senti</th>\n",
       "    </tr>\n",
       "    <tr>\n",
       "      <th>esg</th>\n",
       "      <th></th>\n",
       "    </tr>\n",
       "  </thead>\n",
       "  <tbody>\n",
       "    <tr>\n",
       "      <th>ESG추진위원회</th>\n",
       "      <td>5</td>\n",
       "    </tr>\n",
       "    <tr>\n",
       "      <th>QR체크인재활용</th>\n",
       "      <td>4</td>\n",
       "    </tr>\n",
       "    <tr>\n",
       "      <th>TCFD지지선언</th>\n",
       "      <td>0</td>\n",
       "    </tr>\n",
       "    <tr>\n",
       "      <th>UNGC가입</th>\n",
       "      <td>1</td>\n",
       "    </tr>\n",
       "    <tr>\n",
       "      <th>같이가치와연말기부캠페인</th>\n",
       "      <td>1</td>\n",
       "    </tr>\n",
       "    <tr>\n",
       "      <th>계좌지킴이서비스</th>\n",
       "      <td>1</td>\n",
       "    </tr>\n",
       "    <tr>\n",
       "      <th>금융사기및송금피해예방</th>\n",
       "      <td>0</td>\n",
       "    </tr>\n",
       "    <tr>\n",
       "      <th>금융취약계층 응대 매뉴얼</th>\n",
       "      <td>0</td>\n",
       "    </tr>\n",
       "    <tr>\n",
       "      <th>동네무료보험서비스</th>\n",
       "      <td>0</td>\n",
       "    </tr>\n",
       "    <tr>\n",
       "      <th>상생기금 10억 조성</th>\n",
       "      <td>1</td>\n",
       "    </tr>\n",
       "    <tr>\n",
       "      <th>아름다운재단 기부</th>\n",
       "      <td>0</td>\n",
       "    </tr>\n",
       "    <tr>\n",
       "      <th>악성앱탐지솔류션적용</th>\n",
       "      <td>25</td>\n",
       "    </tr>\n",
       "    <tr>\n",
       "      <th>영세중소상공인수수료우대</th>\n",
       "      <td>5</td>\n",
       "    </tr>\n",
       "    <tr>\n",
       "      <th>자립준비청년금융안심보험기부</th>\n",
       "      <td>25</td>\n",
       "    </tr>\n",
       "    <tr>\n",
       "      <th>지속가능경영보고서약속</th>\n",
       "      <td>1</td>\n",
       "    </tr>\n",
       "    <tr>\n",
       "      <th>풍수해보험MOU</th>\n",
       "      <td>2</td>\n",
       "    </tr>\n",
       "  </tbody>\n",
       "</table>\n",
       "</div>"
      ],
      "text/plain": [
       "                senti\n",
       "esg                  \n",
       "ESG추진위원회            5\n",
       "QR체크인재활용            4\n",
       "TCFD지지선언            0\n",
       "UNGC가입              1\n",
       "같이가치와연말기부캠페인        1\n",
       "계좌지킴이서비스            1\n",
       "금융사기및송금피해예방         0\n",
       "금융취약계층 응대 매뉴얼       0\n",
       "동네무료보험서비스           0\n",
       "상생기금 10억 조성         1\n",
       "아름다운재단 기부           0\n",
       "악성앱탐지솔류션적용         25\n",
       "영세중소상공인수수료우대        5\n",
       "자립준비청년금융안심보험기부     25\n",
       "지속가능경영보고서약속         1\n",
       "풍수해보험MOU            2"
      ]
     },
     "execution_count": 42,
     "metadata": {},
     "output_type": "execute_result"
    }
   ],
   "source": [
    "esg_comments.groupby('esg').sum('senti')"
   ]
  },
  {
   "cell_type": "code",
   "execution_count": 44,
   "metadata": {},
   "outputs": [
    {
     "data": {
      "text/plain": [
       "esg\n",
       "ESG추진위원회           11\n",
       "QR체크인재활용           14\n",
       "TCFD지지선언            5\n",
       "UNGC가입              6\n",
       "같이가치와연말기부캠페인        4\n",
       "계좌지킴이서비스            3\n",
       "금융사기및송금피해예방         1\n",
       "금융취약계층 응대 매뉴얼       1\n",
       "동네무료보험서비스           1\n",
       "상생기금 10억 조성         2\n",
       "아름다운재단 기부           1\n",
       "악성앱탐지솔류션적용        169\n",
       "영세중소상공인수수료우대       24\n",
       "자립준비청년금융안심보험기부    128\n",
       "지속가능경영보고서약속         1\n",
       "풍수해보험MOU           22\n",
       "dtype: int64"
      ]
     },
     "execution_count": 44,
     "metadata": {},
     "output_type": "execute_result"
    },
    {
     "ename": "",
     "evalue": "",
     "output_type": "error",
     "traceback": [
      "\u001b[1;31m현재 셀 또는 이전 셀에서 코드를 실행하는 동안 Kernel이 충돌했습니다. 셀의 코드를 검토하여 오류의 가능한 원인을 식별하세요. 자세한 내용을 보려면 <a href='https://aka.ms/vscodeJupyterKernelCrash'> 여기 </a> 를 클릭하세요. 자세한 내용은 Jupyter <a href='command:jupyter.viewOutput'>로그</a>를 참조하세요."
     ]
    }
   ],
   "source": [
    "esg_comments.groupby('esg').size()"
   ]
  },
  {
   "cell_type": "code",
   "execution_count": 41,
   "metadata": {},
   "outputs": [
    {
     "data": {
      "text/plain": [
       "esg\n",
       "ESG추진위원회          0.454545\n",
       "QR체크인재활용          0.285714\n",
       "TCFD지지선언          0.000000\n",
       "UNGC가입            0.166667\n",
       "같이가치와연말기부캠페인      0.250000\n",
       "계좌지킴이서비스          0.333333\n",
       "금융사기및송금피해예방       0.000000\n",
       "금융취약계층 응대 매뉴얼     0.000000\n",
       "동네무료보험서비스         0.000000\n",
       "상생기금 10억 조성       0.500000\n",
       "아름다운재단 기부         0.000000\n",
       "악성앱탐지솔류션적용        0.147929\n",
       "영세중소상공인수수료우대      0.208333\n",
       "자립준비청년금융안심보험기부    0.195312\n",
       "지속가능경영보고서약속       1.000000\n",
       "풍수해보험MOU          0.090909\n",
       "Name: senti, dtype: float64"
      ]
     },
     "execution_count": 41,
     "metadata": {},
     "output_type": "execute_result"
    }
   ],
   "source": [
    "esg_comments.groupby('esg').sum('senti')['senti'] /  esg_comments.groupby('esg').size().values"
   ]
  }
 ],
 "metadata": {
  "kernelspec": {
   "display_name": "base",
   "language": "python",
   "name": "python3"
  },
  "language_info": {
   "codemirror_mode": {
    "name": "ipython",
    "version": 3
   },
   "file_extension": ".py",
   "mimetype": "text/x-python",
   "name": "python",
   "nbconvert_exporter": "python",
   "pygments_lexer": "ipython3",
   "version": "3.8.15"
  },
  "orig_nbformat": 4,
  "vscode": {
   "interpreter": {
    "hash": "6632c70ce360d611e847e5318887868e2366d56c00e5f501b5a0b067a934dfe7"
   }
  }
 },
 "nbformat": 4,
 "nbformat_minor": 2
}
