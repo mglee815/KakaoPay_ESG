{
 "cells": [
  {
   "cell_type": "code",
   "execution_count": 1,
   "metadata": {},
   "outputs": [],
   "source": [
    "import pandas as pd"
   ]
  },
  {
   "cell_type": "code",
   "execution_count": 2,
   "metadata": {},
   "outputs": [],
   "source": [
    "df1 = pd.read_excel(\"../../data/comments_label/1. 댓글 0~4만개.xlsx\")"
   ]
  },
  {
   "cell_type": "code",
   "execution_count": 6,
   "metadata": {},
   "outputs": [],
   "source": [
    "df1 = df1[['긍정댓글', '부정댓글']]"
   ]
  },
  {
   "cell_type": "code",
   "execution_count": 7,
   "metadata": {},
   "outputs": [],
   "source": [
    "df2 = pd.read_excel(\"../../data/comments_label/3. 댓글 8만~12만.xlsx\")"
   ]
  },
  {
   "cell_type": "code",
   "execution_count": 9,
   "metadata": {},
   "outputs": [],
   "source": [
    "df3 = pd.read_excel(\"../../data/comments_label/4. 댓글 12만 ~ 16만.xlsx\")"
   ]
  },
  {
   "cell_type": "code",
   "execution_count": 11,
   "metadata": {},
   "outputs": [],
   "source": [
    "df4 = pd.read_excel(\"../../data/comments_label/5. 댓글 16만 ~ 20만.xlsx\")"
   ]
  },
  {
   "cell_type": "code",
   "execution_count": 14,
   "metadata": {},
   "outputs": [],
   "source": [
    "df5 = pd.read_excel(\"../../data/comments_label/6. 댓글 20~24만.xlsx\")"
   ]
  },
  {
   "cell_type": "code",
   "execution_count": 18,
   "metadata": {},
   "outputs": [],
   "source": [
    "df5 = df5[['긍정 댓글', '부정 댓글']]"
   ]
  },
  {
   "cell_type": "code",
   "execution_count": 19,
   "metadata": {},
   "outputs": [],
   "source": [
    "df6 = pd.read_excel(\"../../data/comments_label/7. 댓글 24만~28만.xlsx\")"
   ]
  },
  {
   "cell_type": "code",
   "execution_count": 21,
   "metadata": {},
   "outputs": [],
   "source": [
    "df7 = pd.read_excel(\"../../data/comments_label/280001~420000.xlsx\")"
   ]
  },
  {
   "cell_type": "code",
   "execution_count": 23,
   "metadata": {},
   "outputs": [],
   "source": [
    "df7 = df7[['긍정', '부정']]"
   ]
  },
  {
   "cell_type": "code",
   "execution_count": 44,
   "metadata": {},
   "outputs": [
    {
     "data": {
      "text/plain": [
       "0     한반도에 거주하는 민족이 얼마나 위대한 민족인지는 섬나라 일본이 너무나 잘 알것입니...\n",
       "1                                   하루라도 빨리 도입 됬으면 합니다.\n",
       "2                                                웅..고마워\n",
       "3                                              카카오 압살승!\n",
       "4                  자 다같이 구호 오쳐봅니다. 국뽕!국뽕!국뽕!10만 전자 만세!!\n",
       "                            ...                        \n",
       "69                           역시 카뱅!!! 인터넷뱅크에 선두주자! 흥해라!\n",
       "70    그냥 페이 통합하자... 카카오톡 페이만 있어도 될 것 같은데... 제조사 삼성, ...\n",
       "71    카톡은 카카오 택시와 카카오 뱅크를 별 제재 없이 연결 시킨게 신의 한 수.   카...\n",
       "72            카카오 사업이 전부 생활에 도움되기는하는데 뭔가 강력한 한방이 없어..\\n\n",
       "73    카카오가 많이 컸네. 네이버한테 완전히 밀린 것 같은 그림이 그려지던 게 엊그제인데...\n",
       "Name: 긍정, Length: 74, dtype: object"
      ]
     },
     "execution_count": 44,
     "metadata": {},
     "output_type": "execute_result"
    }
   ],
   "source": [
    "df7['긍정'].dropna()"
   ]
  },
  {
   "cell_type": "code",
   "execution_count": 47,
   "metadata": {},
   "outputs": [],
   "source": [
    "pos = pd.concat([\n",
    "    df1['긍정댓글'].dropna(),\n",
    "    df2['긍정댓글'].dropna(),\n",
    "    df3['긍정댓글'].dropna(),\n",
    "    df4['긍정댓글'].dropna(),\n",
    "    df5['긍정 댓글'].dropna(),\n",
    "    df6['긍정댓글'].dropna(),\n",
    "    df7['긍정'].dropna()\n",
    "])"
   ]
  },
  {
   "cell_type": "code",
   "execution_count": 48,
   "metadata": {},
   "outputs": [],
   "source": [
    "neg = pd.concat([\n",
    "    df1['부정댓글'].dropna(),\n",
    "    df2['부정댓글'].dropna(),\n",
    "    df3['부정댓글'].dropna(),\n",
    "    df4['부정댓글'].dropna(),\n",
    "    df5['부정 댓글'].dropna(),\n",
    "    df6['부정댓글'].dropna(),\n",
    "    df7['부정'].dropna()\n",
    "])"
   ]
  },
  {
   "cell_type": "code",
   "execution_count": 63,
   "metadata": {},
   "outputs": [],
   "source": [
    "KP_label = pd.concat([pos.reset_index(drop=True), neg.reset_index(drop=True)], axis=1)\n",
    "KP_label.columns = ['positive', 'negative']"
   ]
  },
  {
   "cell_type": "code",
   "execution_count": 67,
   "metadata": {},
   "outputs": [],
   "source": [
    "KP_label['positive'] = KP_label['positive'].apply(lambda x: str(x).replace('\\n', \"\"))\n",
    "KP_label['negative'] = KP_label['negative'].apply(lambda x: str(x).replace('\\n', \"\"))"
   ]
  },
  {
   "cell_type": "code",
   "execution_count": 69,
   "metadata": {},
   "outputs": [],
   "source": [
    "KP_label.to_csv(\"../../data/comments_label/KP_comments_label.csv\")"
   ]
  }
 ],
 "metadata": {
  "kernelspec": {
   "display_name": "base",
   "language": "python",
   "name": "python3"
  },
  "language_info": {
   "codemirror_mode": {
    "name": "ipython",
    "version": 3
   },
   "file_extension": ".py",
   "mimetype": "text/x-python",
   "name": "python",
   "nbconvert_exporter": "python",
   "pygments_lexer": "ipython3",
   "version": "3.8.15"
  },
  "orig_nbformat": 4,
  "vscode": {
   "interpreter": {
    "hash": "6632c70ce360d611e847e5318887868e2366d56c00e5f501b5a0b067a934dfe7"
   }
  }
 },
 "nbformat": 4,
 "nbformat_minor": 2
}
