{
 "cells": [
  {
   "attachments": {},
   "cell_type": "markdown",
   "metadata": {},
   "source": [
    "## 시작점 있음"
   ]
  },
  {
   "cell_type": "code",
   "execution_count": 2,
   "metadata": {},
   "outputs": [],
   "source": [
    "import pandas as pd"
   ]
  },
  {
   "cell_type": "code",
   "execution_count": 3,
   "metadata": {},
   "outputs": [],
   "source": [
    "naver = pd.read_csv(\"../data/KP_naver_monthlyTop4000_TB.csv\")\n",
    "daum = pd.read_csv(\"../data/KP_daum_monthlyTop800_body.csv\")"
   ]
  },
  {
   "cell_type": "code",
   "execution_count": 4,
   "metadata": {},
   "outputs": [],
   "source": [
    "naver['key'] = naver['0'].apply(lambda x : x[-22:-8])"
   ]
  },
  {
   "cell_type": "code",
   "execution_count": 5,
   "metadata": {},
   "outputs": [],
   "source": [
    "naver = naver.drop(['Unnamed: 0', '0'], axis=1)"
   ]
  },
  {
   "cell_type": "code",
   "execution_count": 6,
   "metadata": {},
   "outputs": [],
   "source": []
  },
  {
   "cell_type": "code",
   "execution_count": 6,
   "metadata": {},
   "outputs": [
    {
     "data": {
      "text/html": [
       "<div>\n",
       "<style scoped>\n",
       "    .dataframe tbody tr th:only-of-type {\n",
       "        vertical-align: middle;\n",
       "    }\n",
       "\n",
       "    .dataframe tbody tr th {\n",
       "        vertical-align: top;\n",
       "    }\n",
       "\n",
       "    .dataframe thead th {\n",
       "        text-align: right;\n",
       "    }\n",
       "</style>\n",
       "<table border=\"1\" class=\"dataframe\">\n",
       "  <thead>\n",
       "    <tr style=\"text-align: right;\">\n",
       "      <th></th>\n",
       "      <th>title</th>\n",
       "      <th>body</th>\n",
       "      <th>key</th>\n",
       "    </tr>\n",
       "  </thead>\n",
       "  <tbody>\n",
       "    <tr>\n",
       "      <th>0</th>\n",
       "      <td>카드업계도…‘모바일 페이’ 수수료 전쟁 시작된다</td>\n",
       "      <td>[\\n\\n\\n\\n\\n\\n간편결제 시장 日평균 2500억7개 카드사 결제대행업체 설립...</td>\n",
       "      <td>021/0002303358</td>\n",
       "    </tr>\n",
       "    <tr>\n",
       "      <th>1</th>\n",
       "      <td>카카오페이도 소상공인에 '활짝'…결제 API 공개</td>\n",
       "      <td>[\\n쉽게 가져다 쓰는 오픈 플랫폼 전략\"온라인 결제시스템 도입 부담 덜 것\"\\n\\...</td>\n",
       "      <td>015/0003716660</td>\n",
       "    </tr>\n",
       "  </tbody>\n",
       "</table>\n",
       "</div>"
      ],
      "text/plain": [
       "                         title  \\\n",
       "0   카드업계도…‘모바일 페이’ 수수료 전쟁 시작된다   \n",
       "1  카카오페이도 소상공인에 '활짝'…결제 API 공개   \n",
       "\n",
       "                                                body             key  \n",
       "0  [\\n\\n\\n\\n\\n\\n간편결제 시장 日평균 2500억7개 카드사 결제대행업체 설립...  021/0002303358  \n",
       "1  [\\n쉽게 가져다 쓰는 오픈 플랫폼 전략\"온라인 결제시스템 도입 부담 덜 것\"\\n\\...  015/0003716660  "
      ]
     },
     "execution_count": 6,
     "metadata": {},
     "output_type": "execute_result"
    }
   ],
   "source": [
    "naver.columns = ['title', 'body', 'key']\n",
    "naver.head(2)"
   ]
  },
  {
   "cell_type": "code",
   "execution_count": 7,
   "metadata": {},
   "outputs": [
    {
     "data": {
      "text/html": [
       "<div>\n",
       "<style scoped>\n",
       "    .dataframe tbody tr th:only-of-type {\n",
       "        vertical-align: middle;\n",
       "    }\n",
       "\n",
       "    .dataframe tbody tr th {\n",
       "        vertical-align: top;\n",
       "    }\n",
       "\n",
       "    .dataframe thead th {\n",
       "        text-align: right;\n",
       "    }\n",
       "</style>\n",
       "<table border=\"1\" class=\"dataframe\">\n",
       "  <thead>\n",
       "    <tr style=\"text-align: right;\">\n",
       "      <th></th>\n",
       "      <th>key</th>\n",
       "      <th>title</th>\n",
       "      <th>body</th>\n",
       "    </tr>\n",
       "  </thead>\n",
       "  <tbody>\n",
       "    <tr>\n",
       "      <th>0</th>\n",
       "      <td>https://v.daum.net/v/20180105100954077</td>\n",
       "      <td>카카오페이 오프라인 확장..'카카오페이 카드' 10일 나온다</td>\n",
       "      <td>[카카오페이 카드 2종 온라인 간판결제 '카카오페이'가 '카카오페이 카드'를 출시하...</td>\n",
       "    </tr>\n",
       "    <tr>\n",
       "      <th>1</th>\n",
       "      <td>https://v.daum.net/v/20180105164004067</td>\n",
       "      <td>카카오페이 카드 출시</td>\n",
       "      <td>[카카오페이(대표 류영준)는 다양한 온·오프라인 혜택을 담은 혼합형 핀테크 상품 '...</td>\n",
       "    </tr>\n",
       "  </tbody>\n",
       "</table>\n",
       "</div>"
      ],
      "text/plain": [
       "                                      key                              title  \\\n",
       "0  https://v.daum.net/v/20180105100954077  카카오페이 오프라인 확장..'카카오페이 카드' 10일 나온다   \n",
       "1  https://v.daum.net/v/20180105164004067                        카카오페이 카드 출시   \n",
       "\n",
       "                                                body  \n",
       "0  [카카오페이 카드 2종 온라인 간판결제 '카카오페이'가 '카카오페이 카드'를 출시하...  \n",
       "1  [카카오페이(대표 류영준)는 다양한 온·오프라인 혜택을 담은 혼합형 핀테크 상품 '...  "
      ]
     },
     "execution_count": 7,
     "metadata": {},
     "output_type": "execute_result"
    }
   ],
   "source": [
    "daum.columns = ['key', 'title', 'body']\n",
    "daum.head(2)"
   ]
  },
  {
   "cell_type": "code",
   "execution_count": 8,
   "metadata": {},
   "outputs": [],
   "source": [
    "naver['portal'] = 'naver'\n",
    "daum['portal'] = 'daum'"
   ]
  },
  {
   "cell_type": "code",
   "execution_count": 9,
   "metadata": {},
   "outputs": [],
   "source": [
    "news = pd.concat([naver, daum]).reset_index(drop = True)"
   ]
  },
  {
   "cell_type": "code",
   "execution_count": 10,
   "metadata": {},
   "outputs": [
    {
     "data": {
      "text/html": [
       "<div>\n",
       "<style scoped>\n",
       "    .dataframe tbody tr th:only-of-type {\n",
       "        vertical-align: middle;\n",
       "    }\n",
       "\n",
       "    .dataframe tbody tr th {\n",
       "        vertical-align: top;\n",
       "    }\n",
       "\n",
       "    .dataframe thead th {\n",
       "        text-align: right;\n",
       "    }\n",
       "</style>\n",
       "<table border=\"1\" class=\"dataframe\">\n",
       "  <thead>\n",
       "    <tr style=\"text-align: right;\">\n",
       "      <th></th>\n",
       "      <th>title</th>\n",
       "      <th>body</th>\n",
       "      <th>key</th>\n",
       "      <th>portal</th>\n",
       "    </tr>\n",
       "  </thead>\n",
       "  <tbody>\n",
       "    <tr>\n",
       "      <th>0</th>\n",
       "      <td>카드업계도…‘모바일 페이’ 수수료 전쟁 시작된다</td>\n",
       "      <td>[\\n\\n\\n\\n\\n\\n간편결제 시장 日평균 2500억7개 카드사 결제대행업체 설립...</td>\n",
       "      <td>021/0002303358</td>\n",
       "      <td>naver</td>\n",
       "    </tr>\n",
       "    <tr>\n",
       "      <th>1</th>\n",
       "      <td>카카오페이도 소상공인에 '활짝'…결제 API 공개</td>\n",
       "      <td>[\\n쉽게 가져다 쓰는 오픈 플랫폼 전략\"온라인 결제시스템 도입 부담 덜 것\"\\n\\...</td>\n",
       "      <td>015/0003716660</td>\n",
       "      <td>naver</td>\n",
       "    </tr>\n",
       "    <tr>\n",
       "      <th>2</th>\n",
       "      <td>대한항공, 모바일 항공권 결제에 삼성페이 도입</td>\n",
       "      <td>[\\n\\n\\n\\n\\n대한항공이 도입한 온라인 결제시스템인 카카오페이와 페이코 서비스...</td>\n",
       "      <td>421/0002523727</td>\n",
       "      <td>naver</td>\n",
       "    </tr>\n",
       "    <tr>\n",
       "      <th>3</th>\n",
       "      <td>카카오페이로 세금납부 가능해진다…모바일 세금납부 확대</td>\n",
       "      <td>[\\n\\n\\n\\n\\n [연합뉴스TV제공]국세청, 전국 세무관서장 회의…종합소득세 전...</td>\n",
       "      <td>001/0008967845</td>\n",
       "      <td>naver</td>\n",
       "    </tr>\n",
       "    <tr>\n",
       "      <th>4</th>\n",
       "      <td>카카오페이, 외부 업체도 자유롭게 쓰세요</td>\n",
       "      <td>[\\n\\n\\n\\n\\n카카오페이 타이틀 화면 &amp;lt;&amp;lt;카카오 제공&amp;gt;&amp;gt;...</td>\n",
       "      <td>001/0008971094</td>\n",
       "      <td>naver</td>\n",
       "    </tr>\n",
       "    <tr>\n",
       "      <th>...</th>\n",
       "      <td>...</td>\n",
       "      <td>...</td>\n",
       "      <td>...</td>\n",
       "      <td>...</td>\n",
       "    </tr>\n",
       "    <tr>\n",
       "      <th>62462</th>\n",
       "      <td>파리바게뜨, 새해 1월 ‘파바데이’ 프로모션 진행</td>\n",
       "      <td>[ 1만5000원 이상 구매 시 3000원 혜택설 선물 연계 2만원 이상 구매시 5...</td>\n",
       "      <td>https://v.daum.net/v/20221230105630139</td>\n",
       "      <td>daum</td>\n",
       "    </tr>\n",
       "    <tr>\n",
       "      <th>62463</th>\n",
       "      <td>용인시, 청년 전세보증금 반환보증 보증료 최대 30만원 지원</td>\n",
       "      <td>[            용인청년 전세보증금 반환보증 보증료 지원사업 홍보 포스터  ...</td>\n",
       "      <td>https://v.daum.net/v/20221230071650319</td>\n",
       "      <td>daum</td>\n",
       "    </tr>\n",
       "    <tr>\n",
       "      <th>62464</th>\n",
       "      <td>2금융 대출문턱 막히자… 금융당국 유연하게 대응 당부</td>\n",
       "      <td>[            2금융권을 중심으로 서민들의 자금조달이 어려워지자 금융당국이...</td>\n",
       "      <td>https://v.daum.net/v/20221230052321943</td>\n",
       "      <td>daum</td>\n",
       "    </tr>\n",
       "    <tr>\n",
       "      <th>62465</th>\n",
       "      <td>내년부터 '깜깜이' 간편결제 수수료 공시된다</td>\n",
       "      <td>[ 금감원, 전자금융업자 수수료 공시 가이드라인 시행네이버페이, 카카오페이 10개사...</td>\n",
       "      <td>https://v.daum.net/v/20221228120203288</td>\n",
       "      <td>daum</td>\n",
       "    </tr>\n",
       "    <tr>\n",
       "      <th>62466</th>\n",
       "      <td>파리바게뜨, 1월1일 '파바데이'서 3000원 할인 받으세요</td>\n",
       "      <td>[ 1월1일 하루, 1만5000원 이상 구매 시 3천원 혜택            파...</td>\n",
       "      <td>https://v.daum.net/v/20221230091108475</td>\n",
       "      <td>daum</td>\n",
       "    </tr>\n",
       "  </tbody>\n",
       "</table>\n",
       "<p>62467 rows × 4 columns</p>\n",
       "</div>"
      ],
      "text/plain": [
       "                                   title  \\\n",
       "0             카드업계도…‘모바일 페이’ 수수료 전쟁 시작된다   \n",
       "1            카카오페이도 소상공인에 '활짝'…결제 API 공개   \n",
       "2              대한항공, 모바일 항공권 결제에 삼성페이 도입   \n",
       "3          카카오페이로 세금납부 가능해진다…모바일 세금납부 확대   \n",
       "4                 카카오페이, 외부 업체도 자유롭게 쓰세요   \n",
       "...                                  ...   \n",
       "62462        파리바게뜨, 새해 1월 ‘파바데이’ 프로모션 진행   \n",
       "62463  용인시, 청년 전세보증금 반환보증 보증료 최대 30만원 지원   \n",
       "62464      2금융 대출문턱 막히자… 금융당국 유연하게 대응 당부   \n",
       "62465           내년부터 '깜깜이' 간편결제 수수료 공시된다   \n",
       "62466  파리바게뜨, 1월1일 '파바데이'서 3000원 할인 받으세요   \n",
       "\n",
       "                                                    body  \\\n",
       "0      [\\n\\n\\n\\n\\n\\n간편결제 시장 日평균 2500억7개 카드사 결제대행업체 설립...   \n",
       "1      [\\n쉽게 가져다 쓰는 오픈 플랫폼 전략\"온라인 결제시스템 도입 부담 덜 것\"\\n\\...   \n",
       "2      [\\n\\n\\n\\n\\n대한항공이 도입한 온라인 결제시스템인 카카오페이와 페이코 서비스...   \n",
       "3      [\\n\\n\\n\\n\\n [연합뉴스TV제공]국세청, 전국 세무관서장 회의…종합소득세 전...   \n",
       "4      [\\n\\n\\n\\n\\n카카오페이 타이틀 화면 &lt;&lt;카카오 제공&gt;&gt;...   \n",
       "...                                                  ...   \n",
       "62462  [ 1만5000원 이상 구매 시 3000원 혜택설 선물 연계 2만원 이상 구매시 5...   \n",
       "62463  [            용인청년 전세보증금 반환보증 보증료 지원사업 홍보 포스터  ...   \n",
       "62464  [            2금융권을 중심으로 서민들의 자금조달이 어려워지자 금융당국이...   \n",
       "62465  [ 금감원, 전자금융업자 수수료 공시 가이드라인 시행네이버페이, 카카오페이 10개사...   \n",
       "62466  [ 1월1일 하루, 1만5000원 이상 구매 시 3천원 혜택            파...   \n",
       "\n",
       "                                          key portal  \n",
       "0                              021/0002303358  naver  \n",
       "1                              015/0003716660  naver  \n",
       "2                              421/0002523727  naver  \n",
       "3                              001/0008967845  naver  \n",
       "4                              001/0008971094  naver  \n",
       "...                                       ...    ...  \n",
       "62462  https://v.daum.net/v/20221230105630139   daum  \n",
       "62463  https://v.daum.net/v/20221230071650319   daum  \n",
       "62464  https://v.daum.net/v/20221230052321943   daum  \n",
       "62465  https://v.daum.net/v/20221228120203288   daum  \n",
       "62466  https://v.daum.net/v/20221230091108475   daum  \n",
       "\n",
       "[62467 rows x 4 columns]"
      ]
     },
     "execution_count": 10,
     "metadata": {},
     "output_type": "execute_result"
    }
   ],
   "source": [
    "news"
   ]
  },
  {
   "cell_type": "code",
   "execution_count": null,
   "metadata": {},
   "outputs": [],
   "source": [
    "news.to_csv(\"../data/news.csv\")"
   ]
  },
  {
   "attachments": {},
   "cell_type": "markdown",
   "metadata": {},
   "source": [
    "## 여기부터 시작"
   ]
  },
  {
   "cell_type": "code",
   "execution_count": 3,
   "metadata": {},
   "outputs": [],
   "source": [
    "import pandas as pd\n",
    "news = pd.read_csv(\"../data/news.csv\")"
   ]
  },
  {
   "cell_type": "code",
   "execution_count": 4,
   "metadata": {},
   "outputs": [],
   "source": [
    "def check_keyword(keyword):\n",
    "    idx_lst = []\n",
    "    for idx, row in news.iterrows():\n",
    "            if keyword in str(row['body']):\n",
    "                idx_lst.append(idx)\n",
    "    return news.iloc[idx_lst,:]"
   ]
  },
  {
   "cell_type": "code",
   "execution_count": 5,
   "metadata": {},
   "outputs": [],
   "source": [
    "key = pd.read_excel(\"../data/활동별 키워드.xlsx\")"
   ]
  },
  {
   "cell_type": "code",
   "execution_count": 6,
   "metadata": {},
   "outputs": [
    {
     "name": "stderr",
     "output_type": "stream",
     "text": [
      "/tmp/ipykernel_26769/456404300.py:4: SettingWithCopyWarning: \n",
      "A value is trying to be set on a copy of a slice from a DataFrame.\n",
      "Try using .loc[row_indexer,col_indexer] = value instead\n",
      "\n",
      "See the caveats in the documentation: https://pandas.pydata.org/pandas-docs/stable/user_guide/indexing.html#returning-a-view-versus-a-copy\n",
      "  temp['keyword'] = row['활동명']\n",
      "/tmp/ipykernel_26769/456404300.py:4: SettingWithCopyWarning: \n",
      "A value is trying to be set on a copy of a slice from a DataFrame.\n",
      "Try using .loc[row_indexer,col_indexer] = value instead\n",
      "\n",
      "See the caveats in the documentation: https://pandas.pydata.org/pandas-docs/stable/user_guide/indexing.html#returning-a-view-versus-a-copy\n",
      "  temp['keyword'] = row['활동명']\n",
      "/tmp/ipykernel_26769/456404300.py:4: SettingWithCopyWarning: \n",
      "A value is trying to be set on a copy of a slice from a DataFrame.\n",
      "Try using .loc[row_indexer,col_indexer] = value instead\n",
      "\n",
      "See the caveats in the documentation: https://pandas.pydata.org/pandas-docs/stable/user_guide/indexing.html#returning-a-view-versus-a-copy\n",
      "  temp['keyword'] = row['활동명']\n",
      "/tmp/ipykernel_26769/456404300.py:4: SettingWithCopyWarning: \n",
      "A value is trying to be set on a copy of a slice from a DataFrame.\n",
      "Try using .loc[row_indexer,col_indexer] = value instead\n",
      "\n",
      "See the caveats in the documentation: https://pandas.pydata.org/pandas-docs/stable/user_guide/indexing.html#returning-a-view-versus-a-copy\n",
      "  temp['keyword'] = row['활동명']\n",
      "/tmp/ipykernel_26769/456404300.py:4: SettingWithCopyWarning: \n",
      "A value is trying to be set on a copy of a slice from a DataFrame.\n",
      "Try using .loc[row_indexer,col_indexer] = value instead\n",
      "\n",
      "See the caveats in the documentation: https://pandas.pydata.org/pandas-docs/stable/user_guide/indexing.html#returning-a-view-versus-a-copy\n",
      "  temp['keyword'] = row['활동명']\n",
      "/tmp/ipykernel_26769/456404300.py:4: SettingWithCopyWarning: \n",
      "A value is trying to be set on a copy of a slice from a DataFrame.\n",
      "Try using .loc[row_indexer,col_indexer] = value instead\n",
      "\n",
      "See the caveats in the documentation: https://pandas.pydata.org/pandas-docs/stable/user_guide/indexing.html#returning-a-view-versus-a-copy\n",
      "  temp['keyword'] = row['활동명']\n",
      "/tmp/ipykernel_26769/456404300.py:4: SettingWithCopyWarning: \n",
      "A value is trying to be set on a copy of a slice from a DataFrame.\n",
      "Try using .loc[row_indexer,col_indexer] = value instead\n",
      "\n",
      "See the caveats in the documentation: https://pandas.pydata.org/pandas-docs/stable/user_guide/indexing.html#returning-a-view-versus-a-copy\n",
      "  temp['keyword'] = row['활동명']\n",
      "/tmp/ipykernel_26769/456404300.py:4: SettingWithCopyWarning: \n",
      "A value is trying to be set on a copy of a slice from a DataFrame.\n",
      "Try using .loc[row_indexer,col_indexer] = value instead\n",
      "\n",
      "See the caveats in the documentation: https://pandas.pydata.org/pandas-docs/stable/user_guide/indexing.html#returning-a-view-versus-a-copy\n",
      "  temp['keyword'] = row['활동명']\n",
      "/tmp/ipykernel_26769/456404300.py:4: SettingWithCopyWarning: \n",
      "A value is trying to be set on a copy of a slice from a DataFrame.\n",
      "Try using .loc[row_indexer,col_indexer] = value instead\n",
      "\n",
      "See the caveats in the documentation: https://pandas.pydata.org/pandas-docs/stable/user_guide/indexing.html#returning-a-view-versus-a-copy\n",
      "  temp['keyword'] = row['활동명']\n",
      "/tmp/ipykernel_26769/456404300.py:4: SettingWithCopyWarning: \n",
      "A value is trying to be set on a copy of a slice from a DataFrame.\n",
      "Try using .loc[row_indexer,col_indexer] = value instead\n",
      "\n",
      "See the caveats in the documentation: https://pandas.pydata.org/pandas-docs/stable/user_guide/indexing.html#returning-a-view-versus-a-copy\n",
      "  temp['keyword'] = row['활동명']\n",
      "/tmp/ipykernel_26769/456404300.py:4: SettingWithCopyWarning: \n",
      "A value is trying to be set on a copy of a slice from a DataFrame.\n",
      "Try using .loc[row_indexer,col_indexer] = value instead\n",
      "\n",
      "See the caveats in the documentation: https://pandas.pydata.org/pandas-docs/stable/user_guide/indexing.html#returning-a-view-versus-a-copy\n",
      "  temp['keyword'] = row['활동명']\n",
      "/tmp/ipykernel_26769/456404300.py:4: SettingWithCopyWarning: \n",
      "A value is trying to be set on a copy of a slice from a DataFrame.\n",
      "Try using .loc[row_indexer,col_indexer] = value instead\n",
      "\n",
      "See the caveats in the documentation: https://pandas.pydata.org/pandas-docs/stable/user_guide/indexing.html#returning-a-view-versus-a-copy\n",
      "  temp['keyword'] = row['활동명']\n",
      "/tmp/ipykernel_26769/456404300.py:4: SettingWithCopyWarning: \n",
      "A value is trying to be set on a copy of a slice from a DataFrame.\n",
      "Try using .loc[row_indexer,col_indexer] = value instead\n",
      "\n",
      "See the caveats in the documentation: https://pandas.pydata.org/pandas-docs/stable/user_guide/indexing.html#returning-a-view-versus-a-copy\n",
      "  temp['keyword'] = row['활동명']\n",
      "/tmp/ipykernel_26769/456404300.py:4: SettingWithCopyWarning: \n",
      "A value is trying to be set on a copy of a slice from a DataFrame.\n",
      "Try using .loc[row_indexer,col_indexer] = value instead\n",
      "\n",
      "See the caveats in the documentation: https://pandas.pydata.org/pandas-docs/stable/user_guide/indexing.html#returning-a-view-versus-a-copy\n",
      "  temp['keyword'] = row['활동명']\n",
      "/tmp/ipykernel_26769/456404300.py:4: SettingWithCopyWarning: \n",
      "A value is trying to be set on a copy of a slice from a DataFrame.\n",
      "Try using .loc[row_indexer,col_indexer] = value instead\n",
      "\n",
      "See the caveats in the documentation: https://pandas.pydata.org/pandas-docs/stable/user_guide/indexing.html#returning-a-view-versus-a-copy\n",
      "  temp['keyword'] = row['활동명']\n",
      "/tmp/ipykernel_26769/456404300.py:4: SettingWithCopyWarning: \n",
      "A value is trying to be set on a copy of a slice from a DataFrame.\n",
      "Try using .loc[row_indexer,col_indexer] = value instead\n",
      "\n",
      "See the caveats in the documentation: https://pandas.pydata.org/pandas-docs/stable/user_guide/indexing.html#returning-a-view-versus-a-copy\n",
      "  temp['keyword'] = row['활동명']\n",
      "/tmp/ipykernel_26769/456404300.py:4: SettingWithCopyWarning: \n",
      "A value is trying to be set on a copy of a slice from a DataFrame.\n",
      "Try using .loc[row_indexer,col_indexer] = value instead\n",
      "\n",
      "See the caveats in the documentation: https://pandas.pydata.org/pandas-docs/stable/user_guide/indexing.html#returning-a-view-versus-a-copy\n",
      "  temp['keyword'] = row['활동명']\n"
     ]
    }
   ],
   "source": [
    "df = pd.DataFrame()\n",
    "for _, row in key.iterrows():\n",
    "    temp = check_keyword(row['키워드'])\n",
    "    temp['keyword'] = row['활동명']\n",
    "    df = pd.concat([df, temp])\n",
    "    "
   ]
  },
  {
   "cell_type": "code",
   "execution_count": 7,
   "metadata": {},
   "outputs": [
    {
     "data": {
      "text/plain": [
       "keyword\n",
       "ESG추진위원회           57\n",
       "QR체크인재활용           27\n",
       "TCFD지지선언            8\n",
       "UNGC가입             33\n",
       "같이가치와연말기부캠페인       31\n",
       "계좌지킴이서비스           29\n",
       "금융사기및송금피해예방         3\n",
       "금융취약계층 응대 매뉴얼      13\n",
       "동네무료보험서비스          17\n",
       "상생기금 10억 조성        23\n",
       "아름다운재단 기부          17\n",
       "악성앱탐지솔류션적용         20\n",
       "영세중소상공인수수료우대       37\n",
       "자립준비청년금융안심보험기부    156\n",
       "자활기업 응원 프로젝트       12\n",
       "지속가능경영보고서약속        17\n",
       "풍수해보험MOU           32\n",
       "dtype: int64"
      ]
     },
     "execution_count": 7,
     "metadata": {},
     "output_type": "execute_result"
    }
   ],
   "source": [
    "df.groupby('keyword').size()"
   ]
  },
  {
   "cell_type": "code",
   "execution_count": 8,
   "metadata": {},
   "outputs": [],
   "source": [
    "df.to_csv(\"../data/ESG_split/ESG_merge.csv\")"
   ]
  }
 ],
 "metadata": {
  "kernelspec": {
   "display_name": "base",
   "language": "python",
   "name": "python3"
  },
  "language_info": {
   "codemirror_mode": {
    "name": "ipython",
    "version": 3
   },
   "file_extension": ".py",
   "mimetype": "text/x-python",
   "name": "python",
   "nbconvert_exporter": "python",
   "pygments_lexer": "ipython3",
   "version": "3.8.15"
  },
  "orig_nbformat": 4,
  "vscode": {
   "interpreter": {
    "hash": "6632c70ce360d611e847e5318887868e2366d56c00e5f501b5a0b067a934dfe7"
   }
  }
 },
 "nbformat": 4,
 "nbformat_minor": 2
}
